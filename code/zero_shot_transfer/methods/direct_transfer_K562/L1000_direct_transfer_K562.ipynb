{
 "cells": [
  {
   "cell_type": "markdown",
   "metadata": {},
   "source": [
    "# import"
   ]
  },
  {
   "cell_type": "code",
   "execution_count": 3,
   "metadata": {},
   "outputs": [],
   "source": [
    "import scanpy as sc\n",
    "import pandas as pd\n",
    "import numpy as np\n",
    "from glob import glob\n",
    "import os\n",
    "import matplotlib.pyplot as plt\n",
    "from tqdm import tqdm\n",
    "import torch\n",
    "from torch_geometric.data import Data\n",
    "from torch_geometric.data import DataLoader\n",
    "\n",
    "import pickle\n",
    "import sys\n",
    "import requests\n",
    "\n",
    "from types import MethodType\n",
    "import importlib\n",
    "from scperturb import *\n",
    "import anndata as ad"
   ]
  },
  {
   "cell_type": "code",
   "execution_count": 4,
   "metadata": {},
   "outputs": [],
   "source": [
    "import numpy as np\n",
    "import matplotlib.pyplot as plt\n",
    "from sklearn.metrics import roc_curve, auc, precision_recall_curve\n",
    "from tqdm import tqdm"
   ]
  },
  {
   "cell_type": "markdown",
   "metadata": {},
   "source": [
    "# 在L1000数据上跑direct transfer"
   ]
  },
  {
   "cell_type": "code",
   "execution_count": 5,
   "metadata": {},
   "outputs": [],
   "source": [
    "# - direc_change_dict: K562 direct change\n",
    "import json\n",
    "with open('/nfs/public/lichen/results/single_cell_perturbation/perturbation_benchmark/benchmark_data/L1000/utils_data/direct_change_dict.json', 'r') as f:\n",
    "    direct_change_dict = json.load(f)\n",
    "    \n",
    "# - single_total_perts: the perts used in K562\n",
    "gene_list = direct_change_dict['gene_list']\n",
    "single_total_perts = list(direct_change_dict.keys())\n",
    "single_total_perts.remove('gene_list')"
   ]
  },
  {
   "cell_type": "code",
   "execution_count": 6,
   "metadata": {},
   "outputs": [
    {
     "data": {
      "text/plain": [
       "7992"
      ]
     },
     "execution_count": 6,
     "metadata": {},
     "output_type": "execute_result"
    }
   ],
   "source": [
    "len(direct_change_dict)"
   ]
  },
  {
   "cell_type": "code",
   "execution_count": 7,
   "metadata": {},
   "outputs": [
    {
     "name": "stderr",
     "output_type": "stream",
     "text": [
      "/data1/lichen/anaconda3/envs/scGPT/lib/python3.9/site-packages/anndata/__init__.py:55: FutureWarning: `anndata.read` is deprecated, use `anndata.read_h5ad` instead. `ad.read` will be removed in mid 2024.\n",
      "  warnings.warn(\n"
     ]
    },
    {
     "data": {
      "text/plain": [
       "AnnData object with n_obs × n_vars = 36720 × 978\n",
       "    obs: 'sig_id', 'pert_id', 'pert_iname', 'pert_type', 'cell_id', 'pert_dose', 'pert_dose_unit', 'pert_idose', 'pert_time', 'pert_time_unit', 'pert_itime', 'distil_id'\n",
       "    var: 'pr_gene_id', 'pr_gene_symbol', 'pr_gene_title', 'pr_is_lm', 'pr_is_bing'"
      ]
     },
     "execution_count": 7,
     "metadata": {},
     "output_type": "execute_result"
    }
   ],
   "source": [
    "# - get cell line name\n",
    "common_cell_line = \\\n",
    "{   'A549': 'A549',\n",
    "    'HEPG2': 'HepG2',\n",
    "    'HT29': 'HT29',\n",
    "    'MCF7': 'MCF7',\n",
    "    # 'SKBR3': 'SK-BR-3',\n",
    "    'SW480': 'SW480',\n",
    "    'PC3': 'PC3',\n",
    "    'A375': 'A375',\n",
    "} # L1000 cell line : single-cell cell line\n",
    "\n",
    "# - read adata_L1000, this is processed data\n",
    "adata_L1000 = sc.read('/nfs/public/lichen/results/single_cell_perturbation/perturbation_benchmark/benchmark_data/L1000/GSE92742/adata_gene_pert.h5ad')\n",
    "adata_L1000"
   ]
  },
  {
   "cell_type": "code",
   "execution_count": 22,
   "metadata": {},
   "outputs": [
    {
     "name": "stdout",
     "output_type": "stream",
     "text": [
      "==================== cell line is A549\n"
     ]
    },
    {
     "name": "stderr",
     "output_type": "stream",
     "text": [
      "/data1/lichen/anaconda3/envs/scGPT/lib/python3.9/site-packages/anndata/__init__.py:55: FutureWarning: `anndata.read` is deprecated, use `anndata.read_h5ad` instead. `ad.read` will be removed in mid 2024.\n",
      "  warnings.warn(\n",
      "/data1/lichen/anaconda3/envs/scGPT/lib/python3.9/site-packages/anndata/__init__.py:55: FutureWarning: `anndata.read` is deprecated, use `anndata.read_h5ad` instead. `ad.read` will be removed in mid 2024.\n",
      "  warnings.warn(\n"
     ]
    },
    {
     "name": "stdout",
     "output_type": "stream",
     "text": [
      "common_perts num:  1794\n",
      "common var of direct change and single-cell data is:  2764\n",
      "common var to L1000 data is:  712\n"
     ]
    },
    {
     "name": "stderr",
     "output_type": "stream",
     "text": [
      "  0%|          | 6/1794 [00:19<1:35:16,  3.20s/it]\n"
     ]
    },
    {
     "ename": "KeyboardInterrupt",
     "evalue": "",
     "output_type": "error",
     "traceback": [
      "\u001b[0;31m---------------------------------------------------------------------------\u001b[0m",
      "\u001b[0;31mKeyboardInterrupt\u001b[0m                         Traceback (most recent call last)",
      "Cell \u001b[0;32mIn[22], line 90\u001b[0m\n\u001b[1;32m     87\u001b[0m \u001b[38;5;66;03m# - cal de genes\u001b[39;00m\n\u001b[1;32m     88\u001b[0m rankby_abs \u001b[38;5;241m=\u001b[39m \u001b[38;5;28;01mFalse\u001b[39;00m\n\u001b[0;32m---> 90\u001b[0m \u001b[43msc\u001b[49m\u001b[38;5;241;43m.\u001b[39;49m\u001b[43mtl\u001b[49m\u001b[38;5;241;43m.\u001b[39;49m\u001b[43mrank_genes_groups\u001b[49m\u001b[43m(\u001b[49m\n\u001b[1;32m     91\u001b[0m \u001b[43m    \u001b[49m\u001b[43madata_concat\u001b[49m\u001b[43m,\u001b[49m\n\u001b[1;32m     92\u001b[0m \u001b[43m    \u001b[49m\u001b[43mgroupby\u001b[49m\u001b[38;5;241;43m=\u001b[39;49m\u001b[38;5;124;43m'\u001b[39;49m\u001b[38;5;124;43mbatch\u001b[39;49m\u001b[38;5;124;43m'\u001b[39;49m\u001b[43m,\u001b[49m\n\u001b[1;32m     93\u001b[0m \u001b[43m    \u001b[49m\u001b[43mreference\u001b[49m\u001b[38;5;241;43m=\u001b[39;49m\u001b[38;5;124;43m'\u001b[39;49m\u001b[38;5;124;43mctrl\u001b[39;49m\u001b[38;5;124;43m'\u001b[39;49m\u001b[43m,\u001b[49m\n\u001b[1;32m     94\u001b[0m \u001b[43m    \u001b[49m\u001b[43mrankby_abs\u001b[49m\u001b[38;5;241;43m=\u001b[39;49m\u001b[43mrankby_abs\u001b[49m\u001b[43m,\u001b[49m\n\u001b[1;32m     95\u001b[0m \u001b[43m    \u001b[49m\u001b[43mn_genes\u001b[49m\u001b[38;5;241;43m=\u001b[39;49m\u001b[38;5;28;43mlen\u001b[39;49m\u001b[43m(\u001b[49m\u001b[43madata_concat\u001b[49m\u001b[38;5;241;43m.\u001b[39;49m\u001b[43mvar\u001b[49m\u001b[43m)\u001b[49m\u001b[43m,\u001b[49m\n\u001b[1;32m     96\u001b[0m \u001b[43m    \u001b[49m\u001b[43muse_raw\u001b[49m\u001b[38;5;241;43m=\u001b[39;49m\u001b[38;5;28;43;01mFalse\u001b[39;49;00m\u001b[43m,\u001b[49m\n\u001b[1;32m     97\u001b[0m \u001b[43m    \u001b[49m\u001b[43mmethod\u001b[49m\u001b[43m \u001b[49m\u001b[38;5;241;43m=\u001b[39;49m\u001b[43m \u001b[49m\u001b[38;5;124;43m'\u001b[39;49m\u001b[38;5;124;43mwilcoxon\u001b[39;49m\u001b[38;5;124;43m'\u001b[39;49m\n\u001b[1;32m     98\u001b[0m \u001b[43m\u001b[49m\u001b[43m)\u001b[49m\n\u001b[1;32m     99\u001b[0m de_genes \u001b[38;5;241m=\u001b[39m pd\u001b[38;5;241m.\u001b[39mDataFrame(adata_concat\u001b[38;5;241m.\u001b[39muns[\u001b[38;5;124m'\u001b[39m\u001b[38;5;124mrank_genes_groups\u001b[39m\u001b[38;5;124m'\u001b[39m][\u001b[38;5;124m'\u001b[39m\u001b[38;5;124mnames\u001b[39m\u001b[38;5;124m'\u001b[39m])\n\u001b[1;32m    100\u001b[0m pvals \u001b[38;5;241m=\u001b[39m pd\u001b[38;5;241m.\u001b[39mDataFrame(adata_concat\u001b[38;5;241m.\u001b[39muns[\u001b[38;5;124m'\u001b[39m\u001b[38;5;124mrank_genes_groups\u001b[39m\u001b[38;5;124m'\u001b[39m][\u001b[38;5;124m'\u001b[39m\u001b[38;5;124mpvals\u001b[39m\u001b[38;5;124m'\u001b[39m])\n",
      "File \u001b[0;32m/data1/lichen/anaconda3/envs/scGPT/lib/python3.9/site-packages/scanpy/tools/_rank_genes_groups.py:594\u001b[0m, in \u001b[0;36mrank_genes_groups\u001b[0;34m(adata, groupby, use_raw, groups, reference, n_genes, rankby_abs, pts, key_added, copy, method, corr_method, tie_correct, layer, **kwds)\u001b[0m\n\u001b[1;32m    583\u001b[0m adata\u001b[38;5;241m.\u001b[39muns[key_added][\u001b[38;5;124m'\u001b[39m\u001b[38;5;124mparams\u001b[39m\u001b[38;5;124m'\u001b[39m] \u001b[38;5;241m=\u001b[39m \u001b[38;5;28mdict\u001b[39m(\n\u001b[1;32m    584\u001b[0m     groupby\u001b[38;5;241m=\u001b[39mgroupby,\n\u001b[1;32m    585\u001b[0m     reference\u001b[38;5;241m=\u001b[39mreference,\n\u001b[0;32m   (...)\u001b[0m\n\u001b[1;32m    589\u001b[0m     corr_method\u001b[38;5;241m=\u001b[39mcorr_method,\n\u001b[1;32m    590\u001b[0m )\n\u001b[1;32m    592\u001b[0m test_obj \u001b[38;5;241m=\u001b[39m _RankGenes(adata, groups_order, groupby, reference, use_raw, layer, pts)\n\u001b[0;32m--> 594\u001b[0m \u001b[38;5;28;01mif\u001b[39;00m \u001b[43mcheck_nonnegative_integers\u001b[49m\u001b[43m(\u001b[49m\u001b[43mtest_obj\u001b[49m\u001b[38;5;241;43m.\u001b[39;49m\u001b[43mX\u001b[49m\u001b[43m)\u001b[49m \u001b[38;5;129;01mand\u001b[39;00m method \u001b[38;5;241m!=\u001b[39m \u001b[38;5;124m'\u001b[39m\u001b[38;5;124mlogreg\u001b[39m\u001b[38;5;124m'\u001b[39m:\n\u001b[1;32m    595\u001b[0m     logg\u001b[38;5;241m.\u001b[39mwarning(\n\u001b[1;32m    596\u001b[0m         \u001b[38;5;124m\"\u001b[39m\u001b[38;5;124mIt seems you use rank_genes_groups on the raw count data. \u001b[39m\u001b[38;5;124m\"\u001b[39m\n\u001b[1;32m    597\u001b[0m         \u001b[38;5;124m\"\u001b[39m\u001b[38;5;124mPlease logarithmize your data before calling rank_genes_groups.\u001b[39m\u001b[38;5;124m\"\u001b[39m\n\u001b[1;32m    598\u001b[0m     )\n\u001b[1;32m    600\u001b[0m \u001b[38;5;66;03m# for clarity, rename variable\u001b[39;00m\n",
      "File \u001b[0;32m/data1/lichen/anaconda3/envs/scGPT/lib/python3.9/site-packages/scanpy/_utils/__init__.py:497\u001b[0m, in \u001b[0;36mcheck_nonnegative_integers\u001b[0;34m(X)\u001b[0m\n\u001b[1;32m    495\u001b[0m \u001b[38;5;28;01melif\u001b[39;00m \u001b[38;5;28missubclass\u001b[39m(data\u001b[38;5;241m.\u001b[39mdtype\u001b[38;5;241m.\u001b[39mtype, Integral):\n\u001b[1;32m    496\u001b[0m     \u001b[38;5;28;01mreturn\u001b[39;00m \u001b[38;5;28;01mTrue\u001b[39;00m\n\u001b[0;32m--> 497\u001b[0m \u001b[38;5;28;01melif\u001b[39;00m np\u001b[38;5;241m.\u001b[39many(\u001b[38;5;241m~\u001b[39m\u001b[43mnp\u001b[49m\u001b[38;5;241;43m.\u001b[39;49m\u001b[43mequal\u001b[49m\u001b[43m(\u001b[49m\u001b[43mnp\u001b[49m\u001b[38;5;241;43m.\u001b[39;49m\u001b[43mmod\u001b[49m\u001b[43m(\u001b[49m\u001b[43mdata\u001b[49m\u001b[43m,\u001b[49m\u001b[43m \u001b[49m\u001b[38;5;241;43m1\u001b[39;49m\u001b[43m)\u001b[49m\u001b[43m,\u001b[49m\u001b[43m \u001b[49m\u001b[38;5;241;43m0\u001b[39;49m\u001b[43m)\u001b[49m):\n\u001b[1;32m    498\u001b[0m     \u001b[38;5;28;01mreturn\u001b[39;00m \u001b[38;5;28;01mFalse\u001b[39;00m\n\u001b[1;32m    499\u001b[0m \u001b[38;5;28;01melse\u001b[39;00m:\n",
      "\u001b[0;31mKeyboardInterrupt\u001b[0m: "
     ]
    }
   ],
   "source": [
    "from tqdm import tqdm\n",
    "from sklearn.metrics import precision_recall_curve, auc\n",
    "from scipy.spatial.distance import cdist\n",
    "\n",
    "for cell_line_bulk in list(common_cell_line.keys())[:]:\n",
    "    cell_line_single = common_cell_line[cell_line_bulk]\n",
    "    print('='*20, f'cell line is {cell_line_single}')\n",
    "    \n",
    "    #===================prepare data\n",
    "    if cell_line_bulk in ['PC3', 'A375']:\n",
    "        save_dir_adata = '/nfs/public/lichen/results/single_cell_perturbation/perturbation_benchmark/benchmark_data/L1000/single_cell_data/SCP542'\n",
    "        adata_rna = sc.read(os.path.join(save_dir_adata, cell_line_bulk, f'adata_{cell_line_bulk}.h5ad'))\n",
    "        \n",
    "        # - read adata_rna_raw\n",
    "        save_dir = f'/nfs/public/lichen/data/single_cell/cell_line/SCP542/process/{cell_line_bulk}'\n",
    "        adata_rna_raw = sc.read(os.path.join(save_dir, f'adata.h5ad'))\n",
    "    \n",
    "    else:\n",
    "        save_dir_adata = '/nfs/public/lichen/results/single_cell_perturbation/perturbation_benchmark/benchmark_data/L1000/single_cell_data/CNP0003658'\n",
    "        adata_rna = sc.read(os.path.join(save_dir_adata, cell_line_bulk, f'adata_{cell_line_bulk}.h5ad'))\n",
    "\n",
    "        # - read adata_rna\n",
    "        save_dir = f'/nfs/public/lichen/data/single_cell/cell_line/CNP0003658/process/RNA/{cell_line_single}'\n",
    "        adata_rna_raw = sc.read(os.path.join(save_dir, f'adata_rna_{cell_line_single}.h5ad'))\n",
    "\n",
    "    # - consctrut corr mtx\n",
    "    if not isinstance(adata_rna.X, np.ndarray):\n",
    "        adata_rna.X = adata_rna.X.toarray()\n",
    "    \n",
    "    # - get var_names\n",
    "    var_names = list(adata_rna.var_names)\n",
    "    \n",
    "    # - get common pert\n",
    "    adata_L1000_sub = adata_L1000[adata_L1000.obs['cell_id']==cell_line_bulk]\n",
    "    L1000_total_perts = np.unique(adata_L1000_sub.obs['pert_iname'])\n",
    "    common_perts = np.intersect1d(single_total_perts, L1000_total_perts)\n",
    "    \n",
    "    # - get common var\n",
    "    common_var = np.intersect1d(adata_rna.var_names, direct_change_dict['gene_list'])\n",
    "    common_var_2 = np.intersect1d(common_var, adata_L1000.var_names)\n",
    "    \n",
    "    print('common_perts num: ', len(common_perts))\n",
    "    print('common var of direct change and single-cell data is: ', len(common_var))\n",
    "    print('common var to L1000 data is: ', len(common_var_2))\n",
    "    \n",
    "    # - get the most close genes of common genes\n",
    "    matrix = adata_rna.X.T  # 示例数据\n",
    "    # 假设我们限制的 index_list 是以下这些索引\n",
    "    index_list = np.array([list(adata_rna.var_names).index(i) for i in common_var])  # 示例 index_list\n",
    "    # 计算每个向量与其他向量的余弦距离\n",
    "    distance_matrix = cdist(matrix, matrix, metric='cosine')\n",
    "    # 将对角线（即每个向量到自己的距离）设置为无穷大，以排除自己\n",
    "    np.fill_diagonal(distance_matrix, np.inf)\n",
    "    # 创建一个布尔掩码，将不在 index_list 中的向量距离设置为无穷大\n",
    "    mask = np.ones(distance_matrix.shape, dtype=bool)\n",
    "    mask[:, index_list] = False  # 只保留 index_list 中的列\n",
    "    distance_matrix[mask] = np.inf  # 其他列设置为无穷大\n",
    "    # 找到每个向量最近的其他向量的索引\n",
    "    nearest_indices = np.argmin(distance_matrix, axis=1)\n",
    "    # 将结果转换为 list\n",
    "    nearest_indices_list = nearest_indices.tolist()\n",
    "\n",
    "    \n",
    "    common_idx = [direct_change_dict['gene_list'].index(gene) if i in common_var else direct_change_dict['gene_list'].index(adata_rna.var_names[nearest_indices_list[i]]) for i, gene in enumerate(adata_rna.var_names)]\n",
    "    \n",
    "    adata_pert_list = []\n",
    "    pert_gene_rank_dict = {}\n",
    "    for pert in tqdm(common_perts):\n",
    "        # - create adata_pert\n",
    "        exp_change = np.array(direct_change_dict[pert])[common_idx]\n",
    "        \n",
    "        # - read adata_ctrl, drop all the obs for merging\n",
    "        adata_ctrl = adata_rna.copy()\n",
    "        # adata_ctrl.obs = adata_ctrl.obs.drop(adata_ctrl.obs.columns, axis=1)\n",
    "        \n",
    "        adata_pert = adata_ctrl.copy()\n",
    "        adata_pert.X += exp_change\n",
    "        adata_pert.X[adata_pert.X < 0] = 0\n",
    "        adata_pert.obs_names = [i+f'_{pert}' for i in adata_pert.obs_names]\n",
    "        \n",
    "        adata_ctrl.obs['batch'] = 'ctrl'\n",
    "        adata_pert.obs['batch'] = 'pert'\n",
    "        \n",
    "        adata_concat = ad.concat([adata_ctrl, adata_pert])\n",
    "        \n",
    "        # - cal de genes\n",
    "        rankby_abs = False\n",
    "\n",
    "        sc.tl.rank_genes_groups(\n",
    "            adata_concat,\n",
    "            groupby='batch',\n",
    "            reference='ctrl',\n",
    "            rankby_abs=rankby_abs,\n",
    "            n_genes=len(adata_concat.var),\n",
    "            use_raw=False,\n",
    "            method = 'wilcoxon'\n",
    "        )\n",
    "        de_genes = pd.DataFrame(adata_concat.uns['rank_genes_groups']['names'])\n",
    "        pvals = pd.DataFrame(adata_concat.uns['rank_genes_groups']['pvals'])\n",
    "        pvals_adj = pd.DataFrame(adata_concat.uns['rank_genes_groups']['pvals_adj'])\n",
    "        scores = pd.DataFrame(adata_concat.uns['rank_genes_groups']['scores'])\n",
    "        logfoldchanges = pd.DataFrame(adata_concat.uns['rank_genes_groups']['logfoldchanges'])\n",
    "\n",
    "        # - get gene_score\n",
    "        gene_score = pd.DataFrame({'gene':list(de_genes['pert']),\n",
    "                                   'z-score':list(scores['pert'])})\n",
    "        \n",
    "        pert_gene_rank_dict[pert] = (list(de_genes['pert']), list(scores['pert']))\n",
    "        \n",
    "        # break\n",
    "        \n",
    "    save_dir = '/nfs/public/lichen/results/single_cell_perturbation/perturbation_benchmark_202410/zero_shot/result'\n",
    "    save_prefix = f'direct_transfer_K562/{cell_line_bulk}' # use result of K562 to do the direct transfer\n",
    "    os.makedirs(os.path.join(save_dir, save_prefix), exist_ok=True)\n",
    "\n",
    "    import json\n",
    "    with open(os.path.join(save_dir, save_prefix, 'pert_gene_rank_dict.json'), 'w') as f:\n",
    "        json.dump(pert_gene_rank_dict, f)\n",
    "        \n",
    "        \n",
    "    # break"
   ]
  },
  {
   "cell_type": "code",
   "execution_count": null,
   "metadata": {},
   "outputs": [],
   "source": []
  },
  {
   "cell_type": "markdown",
   "metadata": {},
   "source": [
    "# debug - 并行化代码"
   ]
  },
  {
   "cell_type": "code",
   "execution_count": 8,
   "metadata": {},
   "outputs": [
    {
     "name": "stdout",
     "output_type": "stream",
     "text": [
      "==================== cell line is A549\n"
     ]
    },
    {
     "name": "stderr",
     "output_type": "stream",
     "text": [
      "/data1/lichen/anaconda3/envs/scGPT/lib/python3.9/site-packages/anndata/__init__.py:55: FutureWarning: `anndata.read` is deprecated, use `anndata.read_h5ad` instead. `ad.read` will be removed in mid 2024.\n",
      "  warnings.warn(\n",
      "/data1/lichen/anaconda3/envs/scGPT/lib/python3.9/site-packages/anndata/__init__.py:55: FutureWarning: `anndata.read` is deprecated, use `anndata.read_h5ad` instead. `ad.read` will be removed in mid 2024.\n",
      "  warnings.warn(\n"
     ]
    },
    {
     "name": "stdout",
     "output_type": "stream",
     "text": [
      "common_perts num:  2184\n",
      "common var of direct change and single-cell data is:  2764\n",
      "common var to L1000 data is:  712\n",
      "==================== cell line is HepG2\n"
     ]
    },
    {
     "name": "stderr",
     "output_type": "stream",
     "text": [
      "/data1/lichen/anaconda3/envs/scGPT/lib/python3.9/site-packages/anndata/__init__.py:55: FutureWarning: `anndata.read` is deprecated, use `anndata.read_h5ad` instead. `ad.read` will be removed in mid 2024.\n",
      "  warnings.warn(\n",
      "/data1/lichen/anaconda3/envs/scGPT/lib/python3.9/site-packages/anndata/__init__.py:55: FutureWarning: `anndata.read` is deprecated, use `anndata.read_h5ad` instead. `ad.read` will be removed in mid 2024.\n",
      "  warnings.warn(\n"
     ]
    },
    {
     "name": "stdout",
     "output_type": "stream",
     "text": [
      "==================== cell line is HT29\n"
     ]
    },
    {
     "name": "stderr",
     "output_type": "stream",
     "text": [
      "/data1/lichen/anaconda3/envs/scGPT/lib/python3.9/site-packages/anndata/__init__.py:55: FutureWarning: `anndata.read` is deprecated, use `anndata.read_h5ad` instead. `ad.read` will be removed in mid 2024.\n",
      "  warnings.warn(\n",
      "/data1/lichen/anaconda3/envs/scGPT/lib/python3.9/site-packages/anndata/__init__.py:55: FutureWarning: `anndata.read` is deprecated, use `anndata.read_h5ad` instead. `ad.read` will be removed in mid 2024.\n",
      "  warnings.warn(\n"
     ]
    },
    {
     "name": "stdout",
     "output_type": "stream",
     "text": [
      "==================== cell line is MCF7\n"
     ]
    },
    {
     "name": "stderr",
     "output_type": "stream",
     "text": [
      "/data1/lichen/anaconda3/envs/scGPT/lib/python3.9/site-packages/anndata/__init__.py:55: FutureWarning: `anndata.read` is deprecated, use `anndata.read_h5ad` instead. `ad.read` will be removed in mid 2024.\n",
      "  warnings.warn(\n",
      "/data1/lichen/anaconda3/envs/scGPT/lib/python3.9/site-packages/anndata/__init__.py:55: FutureWarning: `anndata.read` is deprecated, use `anndata.read_h5ad` instead. `ad.read` will be removed in mid 2024.\n",
      "  warnings.warn(\n"
     ]
    },
    {
     "name": "stdout",
     "output_type": "stream",
     "text": [
      "common_perts num:  1980\n",
      "common var of direct change and single-cell data is:  2983\n",
      "common var to L1000 data is:  712\n",
      "common_perts num:  2033\n",
      "common var of direct change and single-cell data is:  2663\n",
      "common var to L1000 data is:  708\n",
      "==================== cell line is SW480\n"
     ]
    },
    {
     "name": "stderr",
     "output_type": "stream",
     "text": [
      "/data1/lichen/anaconda3/envs/scGPT/lib/python3.9/site-packages/anndata/__init__.py:55: FutureWarning: `anndata.read` is deprecated, use `anndata.read_h5ad` instead. `ad.read` will be removed in mid 2024.\n",
      "  warnings.warn(\n",
      "/data1/lichen/anaconda3/envs/scGPT/lib/python3.9/site-packages/anndata/__init__.py:55: FutureWarning: `anndata.read` is deprecated, use `anndata.read_h5ad` instead. `ad.read` will be removed in mid 2024.\n",
      "  warnings.warn(\n"
     ]
    },
    {
     "name": "stdout",
     "output_type": "stream",
     "text": [
      "==================== cell line is PC3\n"
     ]
    },
    {
     "name": "stderr",
     "output_type": "stream",
     "text": [
      "/data1/lichen/anaconda3/envs/scGPT/lib/python3.9/site-packages/anndata/__init__.py:55: FutureWarning: `anndata.read` is deprecated, use `anndata.read_h5ad` instead. `ad.read` will be removed in mid 2024.\n",
      "  warnings.warn(\n",
      "/data1/lichen/anaconda3/envs/scGPT/lib/python3.9/site-packages/anndata/__init__.py:55: FutureWarning: `anndata.read` is deprecated, use `anndata.read_h5ad` instead. `ad.read` will be removed in mid 2024.\n",
      "  warnings.warn(\n"
     ]
    },
    {
     "name": "stdout",
     "output_type": "stream",
     "text": [
      "common_perts num:  2215\n",
      "common var of direct change and single-cell data is:  3184\n",
      "common var to L1000 data is:  713\n"
     ]
    },
    {
     "name": "stderr",
     "output_type": "stream",
     "text": [
      "  0%|          | 0/2184 [00:00<?, ?it/s]"
     ]
    },
    {
     "name": "stdout",
     "output_type": "stream",
     "text": [
      "common_perts num:  161\n",
      "common var of direct change and single-cell data is:  1547\n",
      "common var to L1000 data is:  712\n"
     ]
    },
    {
     "name": "stderr",
     "output_type": "stream",
     "text": [
      "  0%|          | 3/2184 [00:03<36:25,  1.00s/it]"
     ]
    },
    {
     "name": "stdout",
     "output_type": "stream",
     "text": [
      "common_perts num:  2235\n",
      "common var of direct change and single-cell data is:  3298\n",
      "common var to L1000 data is:  707\n"
     ]
    },
    {
     "name": "stderr",
     "output_type": "stream",
     "text": [
      "  0%|          | 5/2184 [00:04<33:57,  1.07it/s]"
     ]
    },
    {
     "name": "stdout",
     "output_type": "stream",
     "text": [
      "==================== cell line is A375\n"
     ]
    },
    {
     "name": "stderr",
     "output_type": "stream",
     "text": [
      "/data1/lichen/anaconda3/envs/scGPT/lib/python3.9/site-packages/anndata/__init__.py:55: FutureWarning: `anndata.read` is deprecated, use `anndata.read_h5ad` instead. `ad.read` will be removed in mid 2024.\n",
      "  warnings.warn(\n",
      "/data1/lichen/anaconda3/envs/scGPT/lib/python3.9/site-packages/anndata/__init__.py:55: FutureWarning: `anndata.read` is deprecated, use `anndata.read_h5ad` instead. `ad.read` will be removed in mid 2024.\n",
      "  warnings.warn(\n",
      "  0%|          | 4/2235 [00:02<17:14,  2.16it/s]]"
     ]
    },
    {
     "name": "stdout",
     "output_type": "stream",
     "text": [
      "common_perts num:  2195\n",
      "common var of direct change and single-cell data is:  3190\n",
      "common var to L1000 data is:  711\n"
     ]
    },
    {
     "name": "stderr",
     "output_type": "stream",
     "text": [
      "100%|██████████| 161/161 [01:45<00:00,  1.52it/s]]\n",
      "100%|██████████| 2235/2235 [10:39<00:00,  3.49it/s] \n",
      "100%|██████████| 2215/2215 [26:54<00:00,  1.37it/s]  \n",
      " 90%|█████████ | 1791/1980 [28:15<02:34,  1.22it/s]\n",
      "100%|██████████| 1980/1980 [30:47<00:00,  1.07it/s]\n",
      "100%|██████████| 2195/2195 [33:57<00:00,  1.08it/s]\n",
      "100%|██████████| 2184/2184 [34:53<00:00,  1.04it/s]\n"
     ]
    }
   ],
   "source": [
    "import os\n",
    "import numpy as np\n",
    "import pandas as pd\n",
    "import scanpy as sc\n",
    "from tqdm import tqdm\n",
    "from sklearn.metrics import precision_recall_curve, auc\n",
    "from scipy.spatial.distance import cdist\n",
    "import concurrent.futures\n",
    "import json\n",
    "\n",
    "# 定义处理每个 cell_line_single 的函数\n",
    "def process_cell_line(cell_line_bulk, cell_line_single, common_cell_line, adata_L1000, single_total_perts, direct_change_dict):\n",
    "    print('=' * 20, f'cell line is {cell_line_single}')\n",
    "\n",
    "    # 准备数据\n",
    "    if cell_line_bulk in ['PC3', 'A375']:\n",
    "        save_dir_adata = '/nfs/public/lichen/results/single_cell_perturbation/perturbation_benchmark/benchmark_data/L1000/single_cell_data/SCP542'\n",
    "        adata_rna = sc.read(os.path.join(save_dir_adata, cell_line_bulk, f'adata_{cell_line_bulk}.h5ad'))\n",
    "\n",
    "        save_dir = f'/nfs/public/lichen/data/single_cell/cell_line/SCP542/process/{cell_line_bulk}'\n",
    "        adata_rna_raw = sc.read(os.path.join(save_dir, f'adata.h5ad'))\n",
    "\n",
    "    else:\n",
    "        save_dir_adata = '/nfs/public/lichen/results/single_cell_perturbation/perturbation_benchmark/benchmark_data/L1000/single_cell_data/CNP0003658'\n",
    "        adata_rna = sc.read(os.path.join(save_dir_adata, cell_line_bulk, f'adata_{cell_line_bulk}.h5ad'))\n",
    "\n",
    "        save_dir = f'/nfs/public/lichen/data/single_cell/cell_line/CNP0003658/process/RNA/{cell_line_single}'\n",
    "        adata_rna_raw = sc.read(os.path.join(save_dir, f'adata_rna_{cell_line_single}.h5ad'))\n",
    "\n",
    "    # 计算相关矩阵\n",
    "    if not isinstance(adata_rna.X, np.ndarray):\n",
    "        adata_rna.X = adata_rna.X.toarray()\n",
    "    corr_mtx = np.corrcoef(adata_rna.X.T)\n",
    "\n",
    "    # 获取 common pert 和 common var\n",
    "    adata_L1000_sub = adata_L1000[adata_L1000.obs['cell_id'] == cell_line_bulk]\n",
    "    L1000_total_perts = np.unique(adata_L1000_sub.obs['pert_iname'])\n",
    "    common_perts = np.intersect1d(single_total_perts, L1000_total_perts)\n",
    "    common_var = np.intersect1d(adata_rna.var_names, direct_change_dict['gene_list'])\n",
    "    common_var_2 = np.intersect1d(common_var, adata_L1000.var_names)\n",
    "\n",
    "    print('common_perts num: ', len(common_perts))\n",
    "    print('common var of direct change and single-cell data is: ', len(common_var))\n",
    "    print('common var to L1000 data is: ', len(common_var_2))\n",
    "\n",
    "    # 最近基因计算\n",
    "    matrix = adata_rna.X.T\n",
    "    index_list = np.array([list(adata_rna.var_names).index(i) for i in common_var])\n",
    "\n",
    "    distance_matrix = cdist(matrix, matrix, metric='cosine')\n",
    "    np.fill_diagonal(distance_matrix, np.inf)\n",
    "    mask = np.ones(distance_matrix.shape, dtype=bool)\n",
    "    mask[:, index_list] = False\n",
    "    distance_matrix[mask] = np.inf\n",
    "    nearest_indices = np.argmin(distance_matrix, axis=1)\n",
    "    nearest_indices_list = nearest_indices.tolist()\n",
    "\n",
    "    common_idx = [direct_change_dict['gene_list'].index(gene) if i in common_var else direct_change_dict['gene_list'].index(adata_rna.var_names[nearest_indices_list[i]]) for i, gene in enumerate(adata_rna.var_names)]\n",
    "\n",
    "    pert_gene_rank_dict = {}\n",
    "    for pert in tqdm(common_perts):\n",
    "        exp_change = np.array(direct_change_dict[pert])[common_idx]\n",
    "\n",
    "        adata_ctrl = adata_rna.copy()\n",
    "        adata_pert = adata_ctrl.copy()\n",
    "        adata_pert.X += exp_change\n",
    "        adata_pert.X[adata_pert.X < 0] = 0\n",
    "        adata_pert.obs_names = [i + f'_{pert}' for i in adata_pert.obs_names]\n",
    "\n",
    "        adata_ctrl.obs['batch'] = 'ctrl'\n",
    "        adata_pert.obs['batch'] = 'pert'\n",
    "\n",
    "        adata_concat = sc.concat([adata_ctrl, adata_pert])\n",
    "\n",
    "        sc.tl.rank_genes_groups(\n",
    "            adata_concat,\n",
    "            groupby='batch',\n",
    "            reference='ctrl',\n",
    "            rankby_abs=False,\n",
    "            n_genes=len(adata_concat.var),\n",
    "            use_raw=False,\n",
    "            method='wilcoxon'\n",
    "        )\n",
    "\n",
    "        de_genes = pd.DataFrame(adata_concat.uns['rank_genes_groups']['names'])\n",
    "        scores = pd.DataFrame(adata_concat.uns['rank_genes_groups']['scores'])\n",
    "\n",
    "        pert_gene_rank_dict[pert] = (list(de_genes['pert']), list(scores['pert']))\n",
    "\n",
    "    save_dir = '/nfs/public/lichen/results/single_cell_perturbation/perturbation_benchmark_202410/zero_shot/result'\n",
    "    save_prefix = f'direct_transfer_K562/{cell_line_bulk}'\n",
    "    os.makedirs(os.path.join(save_dir, save_prefix), exist_ok=True)\n",
    "\n",
    "    with open(os.path.join(save_dir, save_prefix, 'pert_gene_rank_dict.json'), 'w') as f:\n",
    "        json.dump(pert_gene_rank_dict, f)\n",
    "\n",
    "# 主函数\n",
    "if __name__ == \"__main__\":\n",
    "    # common_cell_line = \\\n",
    "    # {   'A549': 'A549',\n",
    "    #     'HEPG2': 'HepG2',\n",
    "    #     'HT29': 'HT29',\n",
    "    #     'MCF7': 'MCF7',\n",
    "    #     # 'SKBR3': 'SK-BR-3',\n",
    "    #     'SW480': 'SW480',\n",
    "    #     'PC3': 'PC3',\n",
    "    #     'A375': 'A375',\n",
    "    # } # L1000 cell line : single-cell cell line\n",
    "\n",
    "\n",
    "    # adata_L1000 = sc.read(\"/path/to/adata_L1000.h5ad\")  # 示例\n",
    "    # single_total_perts = []  # 定义 single_total_perts\n",
    "    # direct_change_dict = {}  # 定义 direct_change_dict\n",
    "\n",
    "    # 使用并行执行\n",
    "    with concurrent.futures.ProcessPoolExecutor() as executor:\n",
    "        futures = [\n",
    "            executor.submit(process_cell_line, cell_line_bulk, common_cell_line[cell_line_bulk], common_cell_line, adata_L1000, single_total_perts, direct_change_dict)\n",
    "            for cell_line_bulk in common_cell_line.keys()\n",
    "        ]\n",
    "        \n",
    "        # 等待所有任务完成\n",
    "        for future in concurrent.futures.as_completed(futures):\n",
    "            try:\n",
    "                future.result()  # 获取每个任务的结果，如果有异常，将在此处抛出\n",
    "            except Exception as e:\n",
    "                print(f\"Error: {e}\")\n"
   ]
  },
  {
   "cell_type": "code",
   "execution_count": null,
   "metadata": {},
   "outputs": [],
   "source": []
  },
  {
   "cell_type": "code",
   "execution_count": null,
   "metadata": {},
   "outputs": [],
   "source": []
  },
  {
   "cell_type": "code",
   "execution_count": null,
   "metadata": {},
   "outputs": [],
   "source": []
  },
  {
   "cell_type": "code",
   "execution_count": null,
   "metadata": {},
   "outputs": [],
   "source": []
  },
  {
   "cell_type": "markdown",
   "metadata": {},
   "source": [
    "# debug"
   ]
  },
  {
   "cell_type": "code",
   "execution_count": 23,
   "metadata": {},
   "outputs": [
    {
     "name": "stderr",
     "output_type": "stream",
     "text": [
      "  0%|          | 8/1794 [00:15<56:09,  1.89s/it]  \n"
     ]
    },
    {
     "ename": "KeyboardInterrupt",
     "evalue": "",
     "output_type": "error",
     "traceback": [
      "\u001b[0;31m---------------------------------------------------------------------------\u001b[0m",
      "\u001b[0;31mKeyboardInterrupt\u001b[0m                         Traceback (most recent call last)",
      "Cell \u001b[0;32mIn[23], line 22\u001b[0m\n\u001b[1;32m     19\u001b[0m \u001b[38;5;66;03m# - cal de genes\u001b[39;00m\n\u001b[1;32m     20\u001b[0m rankby_abs \u001b[38;5;241m=\u001b[39m \u001b[38;5;28;01mFalse\u001b[39;00m\n\u001b[0;32m---> 22\u001b[0m \u001b[43msc\u001b[49m\u001b[38;5;241;43m.\u001b[39;49m\u001b[43mtl\u001b[49m\u001b[38;5;241;43m.\u001b[39;49m\u001b[43mrank_genes_groups\u001b[49m\u001b[43m(\u001b[49m\n\u001b[1;32m     23\u001b[0m \u001b[43m    \u001b[49m\u001b[43madata_concat\u001b[49m\u001b[43m,\u001b[49m\n\u001b[1;32m     24\u001b[0m \u001b[43m    \u001b[49m\u001b[43mgroupby\u001b[49m\u001b[38;5;241;43m=\u001b[39;49m\u001b[38;5;124;43m'\u001b[39;49m\u001b[38;5;124;43mbatch\u001b[39;49m\u001b[38;5;124;43m'\u001b[39;49m\u001b[43m,\u001b[49m\n\u001b[1;32m     25\u001b[0m \u001b[43m    \u001b[49m\u001b[43mreference\u001b[49m\u001b[38;5;241;43m=\u001b[39;49m\u001b[38;5;124;43m'\u001b[39;49m\u001b[38;5;124;43mctrl\u001b[39;49m\u001b[38;5;124;43m'\u001b[39;49m\u001b[43m,\u001b[49m\n\u001b[1;32m     26\u001b[0m \u001b[43m    \u001b[49m\u001b[43mrankby_abs\u001b[49m\u001b[38;5;241;43m=\u001b[39;49m\u001b[43mrankby_abs\u001b[49m\u001b[43m,\u001b[49m\n\u001b[1;32m     27\u001b[0m \u001b[43m    \u001b[49m\u001b[43mn_genes\u001b[49m\u001b[38;5;241;43m=\u001b[39;49m\u001b[38;5;28;43mlen\u001b[39;49m\u001b[43m(\u001b[49m\u001b[43madata_concat\u001b[49m\u001b[38;5;241;43m.\u001b[39;49m\u001b[43mvar\u001b[49m\u001b[43m)\u001b[49m\u001b[43m,\u001b[49m\n\u001b[1;32m     28\u001b[0m \u001b[43m    \u001b[49m\u001b[43muse_raw\u001b[49m\u001b[38;5;241;43m=\u001b[39;49m\u001b[38;5;28;43;01mFalse\u001b[39;49;00m\u001b[43m,\u001b[49m\n\u001b[1;32m     29\u001b[0m \u001b[43m    \u001b[49m\u001b[43mmethod\u001b[49m\u001b[43m \u001b[49m\u001b[38;5;241;43m=\u001b[39;49m\u001b[43m \u001b[49m\u001b[38;5;124;43m'\u001b[39;49m\u001b[38;5;124;43mwilcoxon\u001b[39;49m\u001b[38;5;124;43m'\u001b[39;49m\n\u001b[1;32m     30\u001b[0m \u001b[43m\u001b[49m\u001b[43m)\u001b[49m\n\u001b[1;32m     31\u001b[0m de_genes \u001b[38;5;241m=\u001b[39m pd\u001b[38;5;241m.\u001b[39mDataFrame(adata_concat\u001b[38;5;241m.\u001b[39muns[\u001b[38;5;124m'\u001b[39m\u001b[38;5;124mrank_genes_groups\u001b[39m\u001b[38;5;124m'\u001b[39m][\u001b[38;5;124m'\u001b[39m\u001b[38;5;124mnames\u001b[39m\u001b[38;5;124m'\u001b[39m])\n\u001b[1;32m     32\u001b[0m pvals \u001b[38;5;241m=\u001b[39m pd\u001b[38;5;241m.\u001b[39mDataFrame(adata_concat\u001b[38;5;241m.\u001b[39muns[\u001b[38;5;124m'\u001b[39m\u001b[38;5;124mrank_genes_groups\u001b[39m\u001b[38;5;124m'\u001b[39m][\u001b[38;5;124m'\u001b[39m\u001b[38;5;124mpvals\u001b[39m\u001b[38;5;124m'\u001b[39m])\n",
      "File \u001b[0;32m/data1/lichen/anaconda3/envs/scGPT/lib/python3.9/site-packages/scanpy/tools/_rank_genes_groups.py:610\u001b[0m, in \u001b[0;36mrank_genes_groups\u001b[0;34m(adata, groupby, use_raw, groups, reference, n_genes, rankby_abs, pts, key_added, copy, method, corr_method, tie_correct, layer, **kwds)\u001b[0m\n\u001b[1;32m    607\u001b[0m logg\u001b[38;5;241m.\u001b[39mdebug(\u001b[38;5;124mf\u001b[39m\u001b[38;5;124m'\u001b[39m\u001b[38;5;124mconsider \u001b[39m\u001b[38;5;132;01m{\u001b[39;00mgroupby\u001b[38;5;132;01m!r}\u001b[39;00m\u001b[38;5;124m groups:\u001b[39m\u001b[38;5;124m'\u001b[39m)\n\u001b[1;32m    608\u001b[0m logg\u001b[38;5;241m.\u001b[39mdebug(\u001b[38;5;124mf\u001b[39m\u001b[38;5;124m'\u001b[39m\u001b[38;5;124mwith sizes: \u001b[39m\u001b[38;5;132;01m{\u001b[39;00mnp\u001b[38;5;241m.\u001b[39mcount_nonzero(test_obj\u001b[38;5;241m.\u001b[39mgroups_masks,\u001b[38;5;250m \u001b[39maxis\u001b[38;5;241m=\u001b[39m\u001b[38;5;241m1\u001b[39m)\u001b[38;5;132;01m}\u001b[39;00m\u001b[38;5;124m'\u001b[39m)\n\u001b[0;32m--> 610\u001b[0m \u001b[43mtest_obj\u001b[49m\u001b[38;5;241;43m.\u001b[39;49m\u001b[43mcompute_statistics\u001b[49m\u001b[43m(\u001b[49m\n\u001b[1;32m    611\u001b[0m \u001b[43m    \u001b[49m\u001b[43mmethod\u001b[49m\u001b[43m,\u001b[49m\u001b[43m \u001b[49m\u001b[43mcorr_method\u001b[49m\u001b[43m,\u001b[49m\u001b[43m \u001b[49m\u001b[43mn_genes_user\u001b[49m\u001b[43m,\u001b[49m\u001b[43m \u001b[49m\u001b[43mrankby_abs\u001b[49m\u001b[43m,\u001b[49m\u001b[43m \u001b[49m\u001b[43mtie_correct\u001b[49m\u001b[43m,\u001b[49m\u001b[43m \u001b[49m\u001b[38;5;241;43m*\u001b[39;49m\u001b[38;5;241;43m*\u001b[39;49m\u001b[43mkwds\u001b[49m\n\u001b[1;32m    612\u001b[0m \u001b[43m\u001b[49m\u001b[43m)\u001b[49m\n\u001b[1;32m    614\u001b[0m \u001b[38;5;28;01mif\u001b[39;00m test_obj\u001b[38;5;241m.\u001b[39mpts \u001b[38;5;129;01mis\u001b[39;00m \u001b[38;5;129;01mnot\u001b[39;00m \u001b[38;5;28;01mNone\u001b[39;00m:\n\u001b[1;32m    615\u001b[0m     groups_names \u001b[38;5;241m=\u001b[39m [\u001b[38;5;28mstr\u001b[39m(name) \u001b[38;5;28;01mfor\u001b[39;00m name \u001b[38;5;129;01min\u001b[39;00m test_obj\u001b[38;5;241m.\u001b[39mgroups_order]\n",
      "File \u001b[0;32m/data1/lichen/anaconda3/envs/scGPT/lib/python3.9/site-packages/scanpy/tools/_rank_genes_groups.py:380\u001b[0m, in \u001b[0;36m_RankGenes.compute_statistics\u001b[0;34m(self, method, corr_method, n_genes_user, rankby_abs, tie_correct, **kwds)\u001b[0m\n\u001b[1;32m    376\u001b[0m \u001b[38;5;28mself\u001b[39m\u001b[38;5;241m.\u001b[39mstats \u001b[38;5;241m=\u001b[39m \u001b[38;5;28;01mNone\u001b[39;00m\n\u001b[1;32m    378\u001b[0m n_genes \u001b[38;5;241m=\u001b[39m \u001b[38;5;28mself\u001b[39m\u001b[38;5;241m.\u001b[39mX\u001b[38;5;241m.\u001b[39mshape[\u001b[38;5;241m1\u001b[39m]\n\u001b[0;32m--> 380\u001b[0m \u001b[38;5;28;01mfor\u001b[39;00m group_index, scores, pvals \u001b[38;5;129;01min\u001b[39;00m generate_test_results:\n\u001b[1;32m    381\u001b[0m     group_name \u001b[38;5;241m=\u001b[39m \u001b[38;5;28mstr\u001b[39m(\u001b[38;5;28mself\u001b[39m\u001b[38;5;241m.\u001b[39mgroups_order[group_index])\n\u001b[1;32m    383\u001b[0m     \u001b[38;5;28;01mif\u001b[39;00m n_genes_user \u001b[38;5;129;01mis\u001b[39;00m \u001b[38;5;129;01mnot\u001b[39;00m \u001b[38;5;28;01mNone\u001b[39;00m:\n",
      "File \u001b[0;32m/data1/lichen/anaconda3/envs/scGPT/lib/python3.9/site-packages/scanpy/tools/_rank_genes_groups.py:277\u001b[0m, in \u001b[0;36m_RankGenes.wilcoxon\u001b[0;34m(self, tie_correct)\u001b[0m\n\u001b[1;32m    271\u001b[0m     logg\u001b[38;5;241m.\u001b[39mhint(\n\u001b[1;32m    272\u001b[0m         \u001b[38;5;124m'\u001b[39m\u001b[38;5;124mFew observations in a group for \u001b[39m\u001b[38;5;124m'\u001b[39m\n\u001b[1;32m    273\u001b[0m         \u001b[38;5;124m'\u001b[39m\u001b[38;5;124mnormal approximation (<=25). Lower test accuracy.\u001b[39m\u001b[38;5;124m'\u001b[39m\n\u001b[1;32m    274\u001b[0m     )\n\u001b[1;32m    276\u001b[0m \u001b[38;5;66;03m# Calculate rank sums for each chunk for the current mask\u001b[39;00m\n\u001b[0;32m--> 277\u001b[0m \u001b[38;5;28;01mfor\u001b[39;00m ranks, left, right \u001b[38;5;129;01min\u001b[39;00m _ranks(\u001b[38;5;28mself\u001b[39m\u001b[38;5;241m.\u001b[39mX, mask, mask_rest):\n\u001b[1;32m    278\u001b[0m     scores[left:right] \u001b[38;5;241m=\u001b[39m np\u001b[38;5;241m.\u001b[39msum(ranks\u001b[38;5;241m.\u001b[39miloc[\u001b[38;5;241m0\u001b[39m:n_active, :])\n\u001b[1;32m    279\u001b[0m     \u001b[38;5;28;01mif\u001b[39;00m tie_correct:\n",
      "File \u001b[0;32m/data1/lichen/anaconda3/envs/scGPT/lib/python3.9/site-packages/scanpy/tools/_rank_genes_groups.py:61\u001b[0m, in \u001b[0;36m_ranks\u001b[0;34m(X, mask, mask_rest)\u001b[0m\n\u001b[1;32m     58\u001b[0m \u001b[38;5;28;01mfor\u001b[39;00m left \u001b[38;5;129;01min\u001b[39;00m \u001b[38;5;28mrange\u001b[39m(\u001b[38;5;241m0\u001b[39m, n_genes, max_chunk):\n\u001b[1;32m     59\u001b[0m     right \u001b[38;5;241m=\u001b[39m \u001b[38;5;28mmin\u001b[39m(left \u001b[38;5;241m+\u001b[39m max_chunk, n_genes)\n\u001b[0;32m---> 61\u001b[0m     df \u001b[38;5;241m=\u001b[39m pd\u001b[38;5;241m.\u001b[39mDataFrame(data\u001b[38;5;241m=\u001b[39m\u001b[43mget_chunk\u001b[49m\u001b[43m(\u001b[49m\u001b[43mX\u001b[49m\u001b[43m,\u001b[49m\u001b[43m \u001b[49m\u001b[43mleft\u001b[49m\u001b[43m,\u001b[49m\u001b[43m \u001b[49m\u001b[43mright\u001b[49m\u001b[43m)\u001b[49m)\n\u001b[1;32m     62\u001b[0m     ranks \u001b[38;5;241m=\u001b[39m df\u001b[38;5;241m.\u001b[39mrank()\n\u001b[1;32m     63\u001b[0m     \u001b[38;5;28;01myield\u001b[39;00m ranks, left, right\n",
      "File \u001b[0;32m/data1/lichen/anaconda3/envs/scGPT/lib/python3.9/site-packages/scanpy/tools/_rank_genes_groups.py:48\u001b[0m, in \u001b[0;36m_ranks.<locals>.<lambda>\u001b[0;34m(X, left, right)\u001b[0m\n\u001b[1;32m     46\u001b[0m \u001b[38;5;28;01mif\u001b[39;00m masked:\n\u001b[1;32m     47\u001b[0m     n_cells \u001b[38;5;241m=\u001b[39m np\u001b[38;5;241m.\u001b[39mcount_nonzero(mask) \u001b[38;5;241m+\u001b[39m np\u001b[38;5;241m.\u001b[39mcount_nonzero(mask_rest)\n\u001b[0;32m---> 48\u001b[0m     get_chunk \u001b[38;5;241m=\u001b[39m \u001b[38;5;28;01mlambda\u001b[39;00m X, left, right: \u001b[43mmerge\u001b[49m\u001b[43m(\u001b[49m\n\u001b[1;32m     49\u001b[0m \u001b[43m        \u001b[49m\u001b[43m(\u001b[49m\u001b[43mX\u001b[49m\u001b[43m[\u001b[49m\u001b[43mmask\u001b[49m\u001b[43m,\u001b[49m\u001b[43m \u001b[49m\u001b[43mleft\u001b[49m\u001b[43m:\u001b[49m\u001b[43mright\u001b[49m\u001b[43m]\u001b[49m\u001b[43m,\u001b[49m\u001b[43m \u001b[49m\u001b[43mX\u001b[49m\u001b[43m[\u001b[49m\u001b[43mmask_rest\u001b[49m\u001b[43m,\u001b[49m\u001b[43m \u001b[49m\u001b[43mleft\u001b[49m\u001b[43m:\u001b[49m\u001b[43mright\u001b[49m\u001b[43m]\u001b[49m\u001b[43m)\u001b[49m\n\u001b[1;32m     50\u001b[0m \u001b[43m    \u001b[49m\u001b[43m)\u001b[49m\n\u001b[1;32m     51\u001b[0m \u001b[38;5;28;01melse\u001b[39;00m:\n\u001b[1;32m     52\u001b[0m     n_cells \u001b[38;5;241m=\u001b[39m X\u001b[38;5;241m.\u001b[39mshape[\u001b[38;5;241m0\u001b[39m]\n",
      "File \u001b[0;32m/data1/lichen/anaconda3/envs/scGPT/lib/python3.9/site-packages/numpy/core/shape_base.py:289\u001b[0m, in \u001b[0;36mvstack\u001b[0;34m(tup, dtype, casting)\u001b[0m\n\u001b[1;32m    287\u001b[0m \u001b[38;5;28;01mif\u001b[39;00m \u001b[38;5;129;01mnot\u001b[39;00m \u001b[38;5;28misinstance\u001b[39m(arrs, \u001b[38;5;28mlist\u001b[39m):\n\u001b[1;32m    288\u001b[0m     arrs \u001b[38;5;241m=\u001b[39m [arrs]\n\u001b[0;32m--> 289\u001b[0m \u001b[38;5;28;01mreturn\u001b[39;00m \u001b[43m_nx\u001b[49m\u001b[38;5;241;43m.\u001b[39;49m\u001b[43mconcatenate\u001b[49m\u001b[43m(\u001b[49m\u001b[43marrs\u001b[49m\u001b[43m,\u001b[49m\u001b[43m \u001b[49m\u001b[38;5;241;43m0\u001b[39;49m\u001b[43m,\u001b[49m\u001b[43m \u001b[49m\u001b[43mdtype\u001b[49m\u001b[38;5;241;43m=\u001b[39;49m\u001b[43mdtype\u001b[49m\u001b[43m,\u001b[49m\u001b[43m \u001b[49m\u001b[43mcasting\u001b[49m\u001b[38;5;241;43m=\u001b[39;49m\u001b[43mcasting\u001b[49m\u001b[43m)\u001b[49m\n",
      "\u001b[0;31mKeyboardInterrupt\u001b[0m: "
     ]
    }
   ],
   "source": [
    "for pert in tqdm(common_perts):\n",
    "    # - create adata_pert\n",
    "    exp_change = np.array(direct_change_dict[pert])[common_idx]\n",
    "    \n",
    "    # - read adata_ctrl, drop all the obs for merging\n",
    "    adata_ctrl = adata_rna.copy()\n",
    "    # adata_ctrl.obs = adata_ctrl.obs.drop(adata_ctrl.obs.columns, axis=1)\n",
    "    \n",
    "    adata_pert = adata_ctrl.copy()\n",
    "    adata_pert.X += exp_change\n",
    "    adata_pert.X[adata_pert.X < 0] = 0\n",
    "    adata_pert.obs_names = [i+f'_{pert}' for i in adata_pert.obs_names]\n",
    "    \n",
    "    adata_ctrl.obs['batch'] = 'ctrl'\n",
    "    adata_pert.obs['batch'] = 'pert'\n",
    "    \n",
    "    adata_concat = ad.concat([adata_ctrl, adata_pert])\n",
    "    \n",
    "    # - cal de genes\n",
    "    rankby_abs = False\n",
    "\n",
    "    sc.tl.rank_genes_groups(\n",
    "        adata_concat,\n",
    "        groupby='batch',\n",
    "        reference='ctrl',\n",
    "        rankby_abs=rankby_abs,\n",
    "        n_genes=len(adata_concat.var),\n",
    "        use_raw=False,\n",
    "        method = 'wilcoxon'\n",
    "    )\n",
    "    de_genes = pd.DataFrame(adata_concat.uns['rank_genes_groups']['names'])\n",
    "    pvals = pd.DataFrame(adata_concat.uns['rank_genes_groups']['pvals'])\n",
    "    pvals_adj = pd.DataFrame(adata_concat.uns['rank_genes_groups']['pvals_adj'])\n",
    "    scores = pd.DataFrame(adata_concat.uns['rank_genes_groups']['scores'])\n",
    "    logfoldchanges = pd.DataFrame(adata_concat.uns['rank_genes_groups']['logfoldchanges'])\n",
    "\n",
    "    # - get gene_score\n",
    "    gene_score = pd.DataFrame({'gene':list(de_genes['pert']),\n",
    "                                'z-score':list(scores['pert'])})\n",
    "    \n",
    "    pert_gene_rank_dict[pert] = (list(de_genes['pert']), list(scores['pert']))"
   ]
  },
  {
   "cell_type": "code",
   "execution_count": null,
   "metadata": {},
   "outputs": [],
   "source": []
  },
  {
   "cell_type": "code",
   "execution_count": 17,
   "metadata": {},
   "outputs": [
    {
     "ename": "ValueError",
     "evalue": "'CALCB' is not in list",
     "output_type": "error",
     "traceback": [
      "\u001b[0;31m---------------------------------------------------------------------------\u001b[0m",
      "\u001b[0;31mValueError\u001b[0m                                Traceback (most recent call last)",
      "Cell \u001b[0;32mIn[17], line 1\u001b[0m\n\u001b[0;32m----> 1\u001b[0m common_idx \u001b[38;5;241m=\u001b[39m [direct_change_dict[\u001b[38;5;124m'\u001b[39m\u001b[38;5;124mgene_list\u001b[39m\u001b[38;5;124m'\u001b[39m]\u001b[38;5;241m.\u001b[39mindex(gene) \u001b[38;5;28;01mif\u001b[39;00m gene \u001b[38;5;129;01min\u001b[39;00m common_var \u001b[38;5;28;01melse\u001b[39;00m direct_change_dict[\u001b[38;5;124m'\u001b[39m\u001b[38;5;124mgene_list\u001b[39m\u001b[38;5;124m'\u001b[39m]\u001b[38;5;241m.\u001b[39mindex(adata_rna\u001b[38;5;241m.\u001b[39mvar_names[nearest_indices_list[i]]) \u001b[38;5;28;01mfor\u001b[39;00m i, gene \u001b[38;5;129;01min\u001b[39;00m \u001b[38;5;28menumerate\u001b[39m(adata_rna\u001b[38;5;241m.\u001b[39mvar_names)]\n",
      "Cell \u001b[0;32mIn[17], line 1\u001b[0m, in \u001b[0;36m<listcomp>\u001b[0;34m(.0)\u001b[0m\n\u001b[0;32m----> 1\u001b[0m common_idx \u001b[38;5;241m=\u001b[39m [direct_change_dict[\u001b[38;5;124m'\u001b[39m\u001b[38;5;124mgene_list\u001b[39m\u001b[38;5;124m'\u001b[39m]\u001b[38;5;241m.\u001b[39mindex(gene) \u001b[38;5;28;01mif\u001b[39;00m gene \u001b[38;5;129;01min\u001b[39;00m common_var \u001b[38;5;28;01melse\u001b[39;00m \u001b[43mdirect_change_dict\u001b[49m\u001b[43m[\u001b[49m\u001b[38;5;124;43m'\u001b[39;49m\u001b[38;5;124;43mgene_list\u001b[39;49m\u001b[38;5;124;43m'\u001b[39;49m\u001b[43m]\u001b[49m\u001b[38;5;241;43m.\u001b[39;49m\u001b[43mindex\u001b[49m\u001b[43m(\u001b[49m\u001b[43madata_rna\u001b[49m\u001b[38;5;241;43m.\u001b[39;49m\u001b[43mvar_names\u001b[49m\u001b[43m[\u001b[49m\u001b[43mnearest_indices_list\u001b[49m\u001b[43m[\u001b[49m\u001b[43mi\u001b[49m\u001b[43m]\u001b[49m\u001b[43m]\u001b[49m\u001b[43m)\u001b[49m \u001b[38;5;28;01mfor\u001b[39;00m i, gene \u001b[38;5;129;01min\u001b[39;00m \u001b[38;5;28menumerate\u001b[39m(adata_rna\u001b[38;5;241m.\u001b[39mvar_names)]\n",
      "\u001b[0;31mValueError\u001b[0m: 'CALCB' is not in list"
     ]
    }
   ],
   "source": [
    "common_idx = [direct_change_dict['gene_list'].index(gene) if gene in common_var else direct_change_dict['gene_list'].index(adata_rna.var_names[nearest_indices_list[i]]) for i, gene in enumerate(adata_rna.var_names)]"
   ]
  },
  {
   "cell_type": "code",
   "execution_count": 18,
   "metadata": {},
   "outputs": [
    {
     "ename": "ValueError",
     "evalue": "'CALCB' is not in list",
     "output_type": "error",
     "traceback": [
      "\u001b[0;31m---------------------------------------------------------------------------\u001b[0m",
      "\u001b[0;31mValueError\u001b[0m                                Traceback (most recent call last)",
      "Cell \u001b[0;32mIn[18], line 1\u001b[0m\n\u001b[0;32m----> 1\u001b[0m \u001b[43mdirect_change_dict\u001b[49m\u001b[43m[\u001b[49m\u001b[38;5;124;43m'\u001b[39;49m\u001b[38;5;124;43mgene_list\u001b[39;49m\u001b[38;5;124;43m'\u001b[39;49m\u001b[43m]\u001b[49m\u001b[38;5;241;43m.\u001b[39;49m\u001b[43mindex\u001b[49m\u001b[43m(\u001b[49m\u001b[38;5;124;43m'\u001b[39;49m\u001b[38;5;124;43mCALCB\u001b[39;49m\u001b[38;5;124;43m'\u001b[39;49m\u001b[43m)\u001b[49m\n",
      "\u001b[0;31mValueError\u001b[0m: 'CALCB' is not in list"
     ]
    }
   ],
   "source": [
    "direct_change_dict['gene_list'].index('CALCB')"
   ]
  },
  {
   "cell_type": "code",
   "execution_count": 20,
   "metadata": {},
   "outputs": [
    {
     "data": {
      "text/plain": [
       "2764"
      ]
     },
     "execution_count": 20,
     "metadata": {},
     "output_type": "execute_result"
    }
   ],
   "source": [
    "'CALCB' in common_var\n",
    "len(common_var)"
   ]
  },
  {
   "cell_type": "code",
   "execution_count": 21,
   "metadata": {},
   "outputs": [
    {
     "name": "stdout",
     "output_type": "stream",
     "text": [
      "[3054, 1001, 3625, 2137, 399, 3826, 2704, 1595, 1255, 4283, 4603, 691, 1975, 3298, 662, 3298, 2437, 2323, 3453, 2137, 2137, 2138, 2147, 4603, 1207, 917, 2772, 908, 4182, 212, 1255, 3584, 2839, 3632, 1204, 2097, 1195, 2315, 2050, 622, 883, 4407, 3518, 1439, 2410, 3001, 3140, 2872, 1330, 4324, 2315, 3981, 2392, 2007, 1439, 2915, 5138, 4482, 4430, 2315, 956, 653, 3270, 2296, 4221, 2315, 4430, 2206, 3680, 1039, 4108, 572, 2839, 4879, 2206, 3020, 524, 2406, 3918, 1001, 2130, 0, 3474, 402, 1303, 2406, 1277, 533, 1749, 4917, 480, 4118, 2161, 2107, 4694, 2997, 2713, 2091, 867, 2776, 2315, 2870, 4304, 2392, 1640, 4836, 4503, 970, 5047, 5058, 3835, 3373, 2717, 3033, 3478, 3521, 2371, 4894, 4430, 1322, 1743, 2050, 571, 3585, 2206, 1502, 524, 3986, 3124, 555, 2563, 4626, 4026, 667, 3236, 659, 2169, 4335, 3091, 597, 558, 3579, 4029, 2206, 3663, 1509, 2262, 880, 3804, 4869, 2713, 3734, 1662, 723, 4231, 4756, 529, 703, 832, 4836, 2598, 4836, 4546, 3752, 850, 4038, 2741, 1137, 2392, 1115, 2713, 1572, 2966, 2394, 868, 4396, 147, 4275, 5145, 3631, 4836, 1297, 972, 2137, 4887, 3680, 4678, 1137, 1452, 2622, 4086, 2705, 4531, 1896, 3515, 3751, 1950, 451, 3772, 3298, 1420, 653, 2789, 2137, 1224, 211, 1950, 4181, 4923, 804, 3584, 3481, 211, 2481, 2150, 2150, 826, 602, 1540, 4765, 4859, 4431, 1162, 2150, 798, 1378, 1394, 1050, 4894, 1304, 1255, 1277, 4640, 2931, 3051, 2329, 2445, 2959, 2560, 618, 804, 3305, 3305, 2150, 2082, 3880, 790, 4146, 4182, 4296, 2832, 4531, 4108, 3100, 4939, 884, 3645, 4858, 4024, 275, 804, 2137, 2737, 3318, 4992, 3790, 4185, 4939, 2445, 2445, 1277, 4603, 4182, 3059, 4092, 1577, 4859, 3269, 420, 2137, 3723, 920, 832, 3881, 3059, 4938, 3239, 4904, 2197, 2182, 2825, 3579, 4146, 2772, 1896, 3836, 418, 2145, 3579, 908, 3886, 3066, 3298, 3066, 1741, 1741, 2248, 3878, 3892, 2137, 3957, 4923, 4086, 2206, 2663, 4185, 2915, 4830, 555, 3986, 907, 1509, 529, 2337, 326, 1593, 879, 504, 4132, 1115, 1741, 3704, 1165, 2361, 3701, 2206, 3447, 623, 1740, 2655, 2588, 513, 4784, 1066, 1815, 420, 3083, 4836, 2392, 453, 4621, 1327, 5141, 5145, 520, 5052, 1403, 3579, 2682, 4125, 4913, 656, 3701, 4836, 25, 1765, 2997, 3887, 1381, 4430, 4469, 2997, 4430, 1115, 1524, 1765, 4830, 1824, 1071, 2457, 3931, 1870, 2451, 2147, 804, 4939, 3481, 1224, 4219, 787, 2445, 4531, 3066, 4952, 1591, 2695, 4073, 1741, 1791, 4825, 2753, 4178, 4211, 717, 4643, 4493, 453, 4003, 3625, 197, 1663, 2882, 605, 607, 3091, 2798, 832, 3304, 3625, 2038, 2575, 1389, 999, 3269, 3399, 4597, 3012, 1277, 5145, 1005, 2462, 3579, 583, 3502, 3579, 2475, 2827, 2828, 529, 4794, 4626, 4535, 3169, 1577, 4987, 2137, 4037, 3054, 3481, 2789, 3269, 3481, 4660, 2445, 3481, 4642, 4660, 3054, 2713, 245, 2206, 3211, 1662, 12, 4572, 2050, 2315, 1019, 5125, 1040, 4077, 2972, 2488, 3304, 3169, 4938, 2793, 3974, 3523, 418, 4027, 3059, 3584, 3033, 4989, 1555, 453, 238, 3901, 829, 1740, 3584, 2137, 3877, 475, 4076, 3836, 2827, 2968, 3211, 741, 4939, 4759, 4860, 3244, 641, 1415, 3059, 1255, 4179, 4626, 4626, 3269, 4086, 2510, 3635, 593, 214, 3432, 2166, 2035, 3269, 609, 4095, 2514, 4859, 4417, 214, 2137, 567, 2482, 3481, 2150, 2432, 1807, 215, 4463, 208, 832, 3481, 1791, 3880, 4642, 211, 2882, 211, 2197, 2772, 2253, 453, 1001, 3584, 4869, 564, 4923, 3986, 2401, 3902, 3579, 1591, 1969, 572, 3585, 4531, 979, 3239, 4237, 3239, 642, 792, 1819, 3234, 3059, 2793, 4531, 1004, 4923, 4118, 2150, 1577, 2151, 2153, 826, 2150, 2827, 2772, 2174, 3035, 3618, 2445, 3033, 2445, 4531, 2823, 1783, 3751, 3931, 1069, 3481, 3876, 4939, 2882, 3875, 443, 3957, 1069, 1893, 214, 4018, 4626, 3876, 2074, 4858, 3880, 214, 3275, 832, 4018, 2882, 2682, 3482, 4092, 2215, 1472, 2137, 3298, 212, 4660, 1969, 4938, 3261, 2882, 3066, 2147, 2146, 4219, 3269, 3902, 4678, 2743, 4520, 3881, 2138, 214, 5089, 652, 4876, 4185, 583, 3035, 3059, 4421, 3131, 4924, 4830, 4643, 1420, 4795, 3166, 4439, 445, 4620, 4296, 2185, 2137, 4794, 2872, 4308, 4660, 4640, 1204, 4660, 804, 1439, 451, 2035, 4531, 3542, 1255, 512, 3035, 4643, 2849, 832, 2432, 3579, 4820, 4182, 4418, 908, 2437, 1741, 214, 3604, 3783, 453, 4625, 1272, 1423, 1550, 3463, 2137, 3880, 4531, 3703, 3579, 3973, 1378, 1966, 2958, 1001, 3579, 1857, 1982, 3239, 4182, 2401, 544, 4584, 4272, 4597, 3579, 2794, 2148, 1824, 3239, 2121, 4102, 4626, 4626, 2137, 4844, 3481, 3059, 1389, 4660, 543, 4396, 3612, 3269, 1069, 3481, 2197, 555, 4599, 3269, 1204, 976, 3584, 422, 2041, 2839, 1155, 2022, 3957, 804, 4119, 792, 4216, 453, 2035, 4643, 1558, 4485, 4115, 2710, 2247, 1246, 3703, 4304, 4076, 3298, 1819, 832, 1305, 215, 804, 298, 607, 2337, 3860, 2315, 642, 4660, 4964, 1204, 2082, 4531, 631, 3481, 3723, 4759, 2138, 211, 2736, 4721, 2247, 398, 4293, 4822, 1255, 2147, 1452, 3625, 4939, 2445, 4760, 2620, 3878, 1577, 4086, 1204, 2247, 3625, 531, 2667, 3178, 4869, 1649, 3751, 4296, 453, 2705, 544, 2812, 1588, 2445, 4927, 3707, 2753, 1483, 832, 211, 3298, 3054, 454, 1668, 259, 1741, 1226, 813, 4669, 3045, 2596, 3625, 1904, 3234, 1558, 4613, 2154, 4929, 3579, 3902, 2315, 2994, 3957, 1907, 214, 1542, 453, 3872, 1203, 4208, 453, 4660, 3059, 3059, 4508, 4086, 589, 4597, 3468, 3266, 2802, 4643, 4643, 1487, 1203, 4650, 2432, 879, 1227, 4939, 1572, 3298, 2698, 2698, 1620, 3881, 4185, 790, 4531, 3901, 2401, 2002, 2150, 2138, 4185, 4660, 2705, 3059, 3266, 641, 1255, 4531, 1577, 2753, 451, 2882, 4727, 3054, 5013, 3481, 3321, 1572, 3051, 1203, 3059, 879, 2693, 3109, 609, 2151, 211, 4031, 4660, 4278, 3902, 3239, 2074, 879, 3902, 3239, 609, 1695, 2469, 453, 3368, 4643, 2746, 1784, 2456, 4759, 2074, 2793, 2153, 1904, 2091, 4439, 1004, 3881, 997, 212, 3591, 4762, 618, 1577, 2575, 641, 730, 2392, 3631, 3707, 3651, 2698, 2410, 4603, 2437, 634, 3109, 4640, 2150, 4447, 1107, 2796, 3437, 592, 609, 979, 4626, 1277, 826, 2323, 804, 4553, 1177, 4027, 3579, 4626, 2147, 2665, 1549, 3504, 211, 806, 2907, 2907, 587, 1953, 3591, 1519, 453, 453, 453, 3481, 4938, 3270, 3201, 4669, 2695, 3876, 2073, 3579, 2772, 844, 3579, 3298, 593, 3239, 4580, 2137, 3166, 555, 4952, 4939, 3198, 2091, 1953, 398, 3782, 215, 4939, 4928, 4179, 1492, 4077, 1254, 1791, 3877, 1102, 4626, 2197, 4626, 609, 4626, 1119, 790, 4731, 3707, 2401, 2199, 1577, 1783, 2457, 445, 453, 1695, 2137, 2151, 2456, 2753, 2338, 1463, 1226, 3482, 3751, 2823, 3886, 451, 2137, 689, 3526, 1741, 2753, 3059, 3579, 3557, 4795, 3045, 4859, 3059, 2138, 804, 5141, 4626, 2437, 1343, 1539, 1577, 4018, 1950, 4237, 2934, 5053, 4025, 1125, 635, 1662, 4643, 4643, 4904, 2244, 2035, 2839, 2839, 4421, 4858, 451, 544, 4939, 2150, 2150, 2147, 3723, 3220, 4786, 211, 420, 3878, 3879, 3879, 3966, 452, 2872, 4904, 4794, 3777, 1762, 3298, 832, 2137, 4243, 2035, 3035, 4794, 2457, 4463, 3948, 1755, 1038, 4553, 1690, 1470, 2931, 3886, 4830, 1695, 3618, 445, 908, 2375, 2753, 2035, 3482, 1791, 4146, 3931, 3266, 1786, 2137, 2338, 2948, 2753, 1279, 485, 1291, 4939, 1329, 2620, 540, 1632, 1202, 3625, 2482, 4297, 624, 2137, 2137, 4970, 3481, 3836, 4020, 832, 4297, 542, 4249, 1283, 3051, 4336, 194, 2682, 2153, 211, 4939, 1207, 4320, 4531, 832, 214, 2946, 4859, 4219, 1470, 1740, 2445, 3054, 1491, 2151, 453, 2147, 231, 2997, 2146, 2401, 4660, 1836, 2950, 2488, 1577, 452, 950, 453, 3482, 1741, 3066, 1690, 3059, 3723, 5128, 3269, 642, 4531, 4275, 3347, 1963, 4836, 2700, 524, 1066, 805, 4076, 4939, 3957, 5130, 3880, 1162, 3584, 2823, 908, 3957, 4643, 2150, 4822, 2074, 3880, 2137, 3301, 453, 2699, 3579, 895, 3875, 3481, 4971, 3875, 1801, 2931, 3881, 453, 4421, 3066, 1948, 1791, 2401, 4430, 3168, 2138, 2137, 4113, 2147, 4135, 4660, 214, 1224, 3408, 1842, 2137, 2197, 2713, 609, 2769, 3277, 451, 3723, 1166, 1440, 3557, 3635, 4273, 214, 2931, 2145, 988, 895, 1653, 1254, 3604, 3239, 2761, 4673, 4925, 398, 1740, 3526, 4219, 4923, 2137, 4179, 5130, 1791, 2769, 1525, 804, 2839, 4388, 1290, 3304, 2150, 4759, 2903, 3054, 2138, 1887, 4185, 879, 4590, 4430, 3881, 4027, 4272, 4182, 2437, 2147, 2147, 1255, 832, 214, 3886, 1224, 3625, 1224, 5031, 4721, 2432, 3672, 1439, 4616, 214, 214, 4291, 2147, 2827, 4302, 3059, 215, 4341, 4858, 2437, 521, 2872, 2169, 4222, 1252, 2839, 4637, 4643, 3109, 659, 3054, 832, 3579, 1622, 2662, 2146, 1255, 2823, 3579, 928, 3579, 2151, 4643, 2247, 3306, 3843, 4518, 211, 2138, 551, 1224, 4463, 3725, 907, 792, 3579, 4011, 790, 1470, 1162, 4179, 4970, 2698, 928, 3579, 4297, 4031, 3306, 928, 4760, 4911, 274, 3059, 4760, 3853, 3878, 2794, 3886, 3878, 3291, 2401, 555, 3947, 542, 2138, 3179, 1255, 4297, 214, 3266, 4643, 3804, 832, 2969, 1068, 1439, 2113, 1255, 3204, 741, 1223, 4923, 3269, 884, 2002, 804, 4086, 2952, 4113, 3878, 592, 4904, 1227, 211, 3751, 3481, 3481, 3059, 2145, 3708, 3877, 2137, 2137, 3059, 3875, 741, 4135, 214, 2437, 3266, 896, 1255, 3371, 2319, 2713, 1470, 4208, 4112, 3790, 4923, 2707, 928, 4794, 610, 3481, 1207, 741, 4531, 2061, 3948, 4146, 3438, 844, 2931, 3304, 2445, 4643, 453, 4027, 592, 2147, 596, 1027, 555, 1577, 2508, 1245, 343, 3054, 4031, 4119, 453, 2038, 3579, 2823, 972, 943, 2150, 2445, 4931, 209, 2832, 2601, 3876, 1819, 2150, 3707, 214, 4626, 1255, 3059, 1791, 3880, 2004, 2137, 4939, 1487, 3298, 2997, 1525, 3902, 3723, 933, 4555, 3957, 451, 3066, 3931, 3625, 3045, 4643, 2142, 1224, 245, 4660, 2139, 2137, 2698, 3699, 3579, 2678, 3584, 1227, 3059, 883, 3702, 4859, 3861, 2074, 2147, 2369, 2666, 2692, 1255, 1494, 195, 4741, 3321, 4987, 555, 1540, 1115, 3882, 3481, 2705, 2247, 4421, 4759, 3090, 2445, 2169, 1001, 2074, 928, 2401, 2138, 2002, 2985, 214, 14, 3239, 453, 2827, 1819, 4185, 2693, 4113, 2343, 2146, 2215, 609, 609, 609, 1279, 3239, 3700, 4749, 4530, 4182, 3881, 3957, 2147, 3579, 4274, 3875, 4833, 4660, 420, 4660, 533, 907, 2912, 632, 3981, 3605, 3177, 4018, 3054, 1223, 865, 2074, 2150, 1603, 4859, 2931, 1254, 3481, 789, 3881, 2146, 3239, 4179, 2471, 4520, 3527, 4938, 1417, 3269, 4076, 1509, 1577, 3310, 3406, 2313, 3321, 1255, 3109, 555, 4894, 3957, 2277, 4705, 389, 453, 2488, 4292, 3879, 895, 4572, 4546, 1632, 408, 3526, 3886, 2137, 4794, 4762, 211, 4923, 4369, 3269, 2971, 826, 4396, 2315, 3269, 723, 3045, 4643, 4003, 1463, 979, 972, 3986, 2831, 878, 607, 3605, 3142, 593, 2025, 2481, 2206, 545, 1898, 214, 4939, 4731, 3696, 4122, 3046, 4421, 1166, 2417, 453, 2682, 4840, 1540, 2563, 3054, 211, 2838, 1741, 1740, 398, 3579, 1591, 2150, 453, 2520, 453, 4143, 1403, 533, 1761, 3057, 2801, 4185, 4923, 2038, 3295, 1203, 609, 2137, 4923, 1740, 3966, 4904, 1071, 3686, 2074, 533, 533, 543, 3204, 1904, 2872, 453, 4597, 4643, 3708, 3054, 1207, 1227, 1389, 4660, 2211, 593, 3266, 1255, 2707, 1162, 2944, 1741, 2147, 609, 3875, 4622, 4938, 1208, 4703, 674, 4553, 3751, 4421, 3079, 3544, 3711, 1282, 477, 3308, 2025, 1208, 2146, 4530, 1819, 3033, 2457, 1114, 2958, 3298, 3298, 3931, 1410, 4705, 2812, 691, 3973, 589, 1195, 2263, 5012, 3780, 2471, 895, 4278, 4643, 4531, 3035, 2150, 3481, 2445, 4759, 14, 1953, 2146, 5012, 3579, 3966, 1770, 1741, 1838, 2998, 3579, 4405, 3054, 883, 3054, 593, 2137, 3679, 714, 1740, 3877, 214, 211, 1469, 453, 908, 598, 1896, 4172, 3239, 2882, 2150, 4297, 3883, 215, 1423, 2964, 2137, 3260, 1277, 3033, 3481, 3066, 2146, 2437, 3054, 3878, 3059, 804, 2819, 2035, 3707, 4938, 3700, 3625, 211, 790, 2138, 3109, 541, 3696, 3269, 2896, 1741, 1044, 3269, 1472, 4741, 4185, 1261, 2451, 2225, 4741, 4904, 4640, 215, 2682, 1577, 832, 453, 4794, 3820, 4626, 3879, 2445, 1119, 3879, 290, 4980, 2137, 453, 4546, 2456, 1509, 451, 2937, 1662, 3618, 2988, 3593, 2445, 2147, 4599, 4221, 4095, 4297, 4031, 691, 2481, 3625, 1740, 4934, 1741, 808, 1251, 1277, 3878, 4290, 3482, 3702, 741, 2147, 804, 4869, 1632, 609, 4814, 1066, 2882, 2437, 2761, 554, 3169, 4297, 3481, 1047, 3848, 2197, 4660, 4278, 4297, 4531, 3277, 2437, 1226, 3091, 2743, 3609, 4597, 2150, 4643, 741, 4357, 4794, 2146, 2772, 942, 2161, 4430, 4195, 4531, 1452, 4637, 2138, 4278, 1080, 2044, 1745, 2560, 2954, 2137, 3046, 4938, 3579, 3239, 1761, 4859, 1277, 4587, 4829, 3584, 3947, 2987, 2912, 2753, 3298, 4430, 804, 453, 2137, 3298, 4320, 908, 4484, 4939, 4859, 3876, 3298, 3879, 787, 3579, 3931, 2052, 2052, 533, 2052, 4939, 533, 1983, 1039, 3443, 3902, 3114, 1204, 691, 4522, 3651, 533, 2045, 533, 2074, 1207, 804, 618, 4640, 2337, 3033, 524, 1982, 2793, 1577, 1277, 3481, 943, 2137, 1038, 3672, 804, 1577, 2948, 2039, 4971, 609, 1740, 451, 4146, 787, 3118, 3804, 1812, 2137, 1927, 1653, 2277, 4980, 3579, 3853, 5028, 1982, 3054, 1338, 4118, 1794, 2269, 1287, 723, 4396, 4764, 4214, 2378, 908, 4822, 2045, 1203, 4228, 4687, 4754, 1168, 797, 451, 3481, 787, 3875, 1898, 3998, 3751, 2337, 2997, 3481, 3878, 2793, 2146, 2146, 2611, 3059, 1819, 2138, 2137, 2146, 3051, 2768, 2147, 2142, 3881, 2138, 2138, 2138, 4759, 452, 2138, 3880, 2826, 2147, 1740, 2138, 4421, 972, 4522, 1985, 2147, 4859, 2044, 3584, 1155, 2139, 2145, 214, 214, 3002, 2615, 4018, 1950, 4939, 1740, 2174, 267, 3880, 4275, 1255, 741, 741, 3927, 3239, 2445, 3481, 4027, 3425, 2823, 908, 976, 868, 2823, 230, 2374, 2828, 4284, 453, 1860, 2451, 2323, 1982, 3931, 2147, 4640, 2882, 3305, 4396, 2137, 3592, 214, 593, 453, 1207, 2823, 3886, 2190, 4938, 2839, 3266, 3028, 3883, 972, 4758, 1421, 1464, 2969, 2882, 3500, 4643, 1040, 3751, 453, 3644, 2315, 451, 3083, 4794, 2042, 4931, 3703, 4643, 1504, 2369, 2772, 410, 4430, 2137, 215, 691, 1420, 3059, 2147, 2769, 3239, 4124, 1572, 1763, 3266, 4294, 245, 453, 3780, 2183, 2437, 2575, 2372, 3653, 2772, 4308, 1120, 4517, 2583, 3059, 2317, 531, 2313, 4939, 4185, 1494, 2116, 4322, 3109, 832, 792, 2445, 2903, 1340, 3266, 2445, 2830, 618, 2958, 5145, 3298, 3190, 4859, 3804, 711, 1330, 593, 832, 3305, 4759, 215, 3880, 1168, 3836, 3848, 3066, 3270, 5138, 4851, 2508, 3931, 2361, 1469, 1057, 454, 4923, 1577, 3707, 1255, 2137, 3002, 1013, 4417, 2401, 832, 792, 2137, 1057, 4531, 5145, 4660, 2148, 3266, 3269, 2150, 4858, 214, 804, 1255, 2142, 1848, 3808, 3018, 3166, 3672, 3854, 1580, 2206, 2082, 1039, 4221, 4384, 13, 453, 4396, 4643, 4727, 2315, 4696, 1115, 1421, 4518, 805, 4626, 3560, 3481, 3612, 804, 3848, 2700, 4939, 3579, 1956, 3310, 3625, 3481, 4859, 4859, 3707, 3579, 5118, 3848, 531, 513, 2769, 2772, 609, 2074, 960, 2150, 879, 4626, 1819, 3836, 4626, 609, 4626, 2137, 326, 3560, 2398, 4939, 584, 3871, 1246, 214, 1872, 2907, 1277, 1857, 3239, 1695, 2789, 1224, 4640, 4384, 408, 2812, 1547, 3945, 2682, 214, 1524, 3635, 712, 2043, 979, 609, 1047, 2147, 5145, 1244, 2597, 2445, 2437, 3931, 3804, 4237, 4741, 1001, 1063, 2437, 1470, 3880, 2445, 4108, 3233, 2137, 2150, 4953, 3614, 1531, 4643, 4660, 887, 3876, 3579, 2313, 1255, 2319, 832, 3304, 4278, 540, 1492, 2138, 3424, 2137, 4829, 1440, 3266, 2401, 1001, 2997, 741, 1998, 1204, 1492, 3481, 454, 1013, 2315, 2170, 3485, 2882, 3672, 908, 4384, 2146, 4603, 2793, 4859, 524, 3780, 832, 551, 2414, 1204, 3149, 3305, 4749, 3188, 3239, 3560, 787, 1577, 1154, 2163, 1016, 4473, 602, 4579, 1902, 3261, 1695, 2060, 1287, 1565, 4597, 4967, 1072, 3266, 3453, 1159, 2291, 453, 669, 3483, 2557, 4597, 2361, 2081, 1719, 3548, 399, 4086, 453, 3753, 601, 4563, 2206, 2361, 2315, 527, 3844, 1223, 618, 3584, 3269, 502, 1740, 3654, 3193, 2138, 4290, 4294, 451, 4626, 3109, 4660, 2997, 5015, 4637, 3211, 4829, 2082, 4439, 2272, 3392, 4697, 1255, 4859, 214, 2664, 3090, 2962, 4531, 2810, 3481, 2147, 1870, 4755, 1509, 4179, 1120, 2138, 4179, 1071, 714, 475, 3544, 493, 3481, 2369, 1440, 4821, 1791, 2445, 2686, 1203, 3966, 2255, 3462, 2073, 4784, 3054, 4546, 4939, 1463, 3281, 2137, 3625, 3579, 2137, 2147, 1472, 1168, 2622, 2621, 453, 1553, 2794, 3579, 3066, 1591, 1449, 2414, 2678, 2665, 453, 2575, 1807, 3666, 2079, 2323, 2002, 2147, 3877, 2825, 1577, 2772, 3584, 2626, 832, 4026, 3579, 4146, 2121, 3190, 2379, 3406, 4938, 4923, 2695, 2137, 4762, 2406, 4938, 211, 2481, 1904, 2138, 3109, 4355, 2247, 2799, 1440, 2445, 3635, 4923, 2050, 1872, 1272, 3239, 3625, 2138, 4980, 4278, 3460, 3266, 4772, 214, 923, 4938, 804, 1577, 826, 4531, 211, 2696, 2698, 3239, 3239, 3239, 3239, 3239, 3901, 4558, 3880, 1492, 1277, 3880, 3481, 3275, 3881, 2091, 3066, 2147, 3592, 1288, 792, 2137, 1137, 832, 1540, 1179, 3168, 3168, 790, 3521, 1196, 4431, 3957, 2772, 535, 684, 453, 3902, 2401, 4372, 3239, 2401, 2138, 2753, 1227, 4531, 4039, 4940, 2665, 3054, 2931, 1492, 705, 2445, 4640, 2825, 1941, 4660, 691, 1741, 3931, 4603, 4643, 1010, 2710, 3298, 4931, 3878, 1001, 4795, 852, 533, 4643, 4626, 4660, 4626, 3120, 1224, 4531, 4531, 3059, 691, 4860, 1761, 4135, 4531, 4051, 1224, 1330, 2900, 453, 4297, 1976, 2831, 1130, 1558, 3311, 4660, 3481, 2138, 1741, 2401, 1463, 832, 4531, 1492, 1500, 4637, 3269, 1073, 741, 4759, 2150, 3481, 3599, 3054, 4923, 3525, 3239, 1420, 1591, 541, 3927, 2315, 4648, 220, 4970, 2823, 2828, 2825, 2825, 2824, 2823, 2821, 2821, 2828, 2823, 2828, 2828, 2830, 2823, 2825, 2839, 4741, 2839, 2488, 3109, 826, 2807, 2821, 2830, 3178, 3109, 2150, 804, 2150, 2554, 2827, 2828, 3729, 4859, 804, 1898, 4417, 3269, 1740, 546, 3266, 453, 4115, 4152, 2959, 544, 2012, 1047, 1204, 3883, 2147, 3494, 832, 3902, 2137, 2882, 3707, 4727, 804, 1572, 4939, 3879, 1791, 1871, 533, 4182, 4794, 2146, 1784, 2147, 4923, 1558, 1577, 593, 3571, 3635, 1577, 3059, 4695, 826, 4113, 4355, 2138, 3585, 4290, 2832, 1207, 2907, 2146, 2900, 2137, 2138, 2183, 1464, 4131, 212, 3579, 592, 593, 2137, 2215, 2589, 4626, 4626, 2074, 1255, 3054, 2471, 1343, 3618, 2150, 4182, 3579, 214, 4939, 1695, 1258, 609, 2948, 770, 2445, 4226, 2881, 3879, 2753, 3876, 4642, 3879, 4759, 3880, 3892, 3879, 2482, 1791, 3723, 3881, 3879, 3879, 3875, 3886, 3876, 3481, 3927, 3481, 4923, 1492, 3879, 3877, 3876, 908, 1969, 2761, 1741, 3298, 4720, 592, 555, 4418, 2596, 4727, 3902, 4548, 2597, 879, 4643, 3751, 3878, 4794, 3584, 564, 2094, 4643, 3033, 3579, 3957, 2871, 1546, 3625, 1740, 642, 1961, 544, 2589, 3880, 741, 773, 2881, 4777, 1241, 2692, 4018, 3481, 1360, 1524, 2810, 723, 3054, 1277, 1492, 4844, 3881, 3804, 3346, 1046, 1175, 1695, 4290, 3306, 631, 2475, 2678, 1137, 485, 398, 3879, 3880, 4073, 18, 1425, 908, 4721, 2437, 1360, 3931, 3059, 214, 4759, 592, 1142, 4136, 2043, 2313, 4219, 2488, 2753, 4421, 2137, 564, 3481, 4962, 2849, 922, 2823, 2789, 1519, 1741, 3298, 2174, 2451, 2948, 2828, 4216, 3702, 1013, 2035, 3584, 1763, 3526, 3109, 564, 2934, 1893, 2036, 2137, 3609, 3454, 4923, 4938, 3781, 844, 3356, 236, 2146, 2215, 3877, 804, 3879, 208, 3594, 2147, 2560, 3927, 2882, 907, 1558, 2035, 4643, 2445, 2137, 2401, 3947, 3876, 4531, 4626, 2147, 3579, 2451, 3204, 3625, 1286, 3453, 2138, 3585, 4626, 3169, 2401, 4643, 506, 245, 2137, 3481, 3877, 1546, 2931, 3277, 3579, 2151, 4869, 211, 2611, 2520, 4172, 2146, 2471, 1423, 2678, 3059, 3298, 3298, 804, 4434, 1071, 4994, 4278, 797, 4759, 3879, 4627, 2146, 1116, 4727, 3841, 4577, 1591, 214, 3481, 2952, 3723, 3059, 4043, 2524, 1010, 1017, 2137, 2137, 4859, 2761, 3059, 1226, 3109, 4689, 4731, 1577, 832, 4237, 453, 418, 3131, 3585, 2137, 3957, 4572, 2823, 4421, 215, 5144, 2510, 3751, 2142, 4859, 3886, 1471, 4860, 2137, 4830, 4135, 2471, 5025, 2210, 4904, 2741, 4221, 4626, 2945, 3957, 4531, 4587, 4572, 4707, 3481, 4760, 524, 1546, 3672, 3957, 593, 770, 4660, 2705, 4302, 2828, 4859, 3045, 2849, 5026, 4859, 2137, 2688, 3481, 4727, 636, 4172, 2183, 3481, 895, 453, 4643, 593, 2596, 4430, 2401, 410, 2772, 3848, 3883, 4643, 2038, 3481, 1740, 3298, 792, 2146, 4070, 2944, 3269, 2445, 529, 4741, 2445, 2839, 214, 4018, 4179, 578, 1255, 452, 3481, 3298, 804, 4822, 1740, 1062, 593, 2437, 723, 3612, 4923, 3258, 1028, 2091, 3723, 3579, 826, 2150, 3481, 4821, 4371, 1740, 4029, 544, 4660, 4038, 2075, 211, 2206, 3481, 4937, 2457, 1279, 2912, 4731, 3635, 4031, 3625, 4092, 4179, 3258, 1763, 1549, 4297, 618, 3912, 4858, 2021, 1277, 1255, 3175, 3528, 3667, 3998, 3669, 2981, 4859, 3593, 2898, 493, 3269, 977, 850, 1116, 3702, 2437, 3277, 3635, 1670, 3751, 2973, 2481, 1574, 1657, 3579, 929, 3579, 533, 1071, 656, 2954, 4650, 1740, 852, 1784, 4859, 4418, 2379, 4939, 4092, 804, 4255, 3298, 1786, 4518, 4765, 2705, 3707, 3045, 618, 3169, 3269, 1546, 4735, 3966, 4095, 1130, 1574, 4597, 618, 4470, 1395, 2557, 1577, 4833, 931, 2320, 453, 4067, 453, 2839, 3966, 4135, 3998, 1255, 879, 211, 2074, 3482, 211, 618, 2882, 4522, 2827, 2437, 2445, 3700, 3246, 230, 1519, 3557, 3239, 4660, 3595, 3305, 3130, 2138, 4278, 451, 4923, 4207, 1464, 1893, 2137, 908, 4939, 3584, 593, 2839, 2823, 3781, 3239, 1836, 741, 3927, 3902, 4731, 1255, 4219, 4179, 2931, 741, 2147, 3723, 2150, 3059, 3723, 3168, 3880, 790, 4924, 4939, 211, 3609, 4146, 4624, 3877, 4650, 1569, 1740, 3298, 1791, 618, 1283, 2206, 3579, 2093, 4767, 4277, 2753, 1381, 2709, 2912, 2988, 3878, 3481, 2437, 1226, 3059, 2150, 2073, 2793, 2710, 2079, 4637, 4770, 1492, 3412, 1839, 4112, 1632, 4974, 3612, 596, 2401, 211, 3625, 451, 1998, 4302, 265, 1047, 2247, 1927, 790, 214, 730, 4027, 4759, 2931, 2825, 2697, 3886, 3584, 4626, 2137, 3809, 1291, 3544, 1741, 1662, 2039, 2151, 2123, 2792, 2907, 1960, 2575, 3239, 2153, 3957, 2903, 4648, 4781, 2445, 3927, 4643, 2137, 4520, 2138, 2361, 1207, 4179, 4924, 3708, 3057, 2146, 3115, 2146, 3931, 4179, 4938, 2451, 3723, 3892, 2147, 2137, 4637, 5129, 3298, 2760, 3584, 3051, 2137, 3109, 2137, 879, 512, 5145, 1170, 4603, 1227, 1255, 2838, 2753, 1783, 2596, 4531, 2931, 5111, 1761, 4649, 2040, 2138, 3875, 1791, 3876, 3878, 3481, 4355, 3877, 3880, 3875, 618, 832, 3239, 2150, 2137, 2150, 2137, 3878, 2137, 3481, 3723, 618, 3880, 3059, 3059, 2146, 609, 3790, 3751, 625, 789, 4939, 4029, 480, 2215, 2138, 3066, 3269, 1162, 2147, 3443, 1376, 2138, 2401, 4018, 2137, 3298, 4858, 2147, 2793, 4971, 4447, 2392, 3739, 832, 4031, 1784, 2931, 1603, 607, 1632, 879, 410, 741, 3109, 896, 3881, 918, 1277, 4869, 3625, 1893, 3706, 3277, 832, 4522, 211, 3166, 3356, 1904, 741, 453, 3986, 4836, 1255, 2146, 1577, 2799, 2445, 4531, 2617, 2481, 2881, 3269, 1286, 2445, 598, 691, 1448, 1824, 4643, 1255, 1763, 773, 1120, 4836, 4760, 4727, 1071, 3059, 3927, 4370, 3481, 2034, 574, 4650, 1286, 2137, 2137, 211, 928, 741, 1548, 2825, 741, 1547, 3809, 2150, 3481, 4938, 1904, 2161, 480, 3481, 3579, 2277, 4822, 1204, 4731, 3046, 1976, 2091, 3272, 453, 1761, 2326, 804, 1434, 2002, 4626, 4011, 214, 1701, 4003, 2968, 1031, 1695, 3751, 4840, 2147, 3109, 2138, 3188, 3876, 1207, 4732, 1279, 642, 3871, 3232, 3277, 1286, 1749, 4923, 4923, 3703, 2138, 1272, 453, 3596, 214, 3463, 3481, 4580, 3521, 2073, 453, 4939, 3878, 2031, 211, 3239, 2753, 3635, 741, 832, 2035, 1069, 1546, 4859, 3239, 3239, 3239, 3526, 4643, 3468, 2713, 4768, 2793, 1953, 1553, 3469, 3579, 2457, 1439, 2130, 4660, 2582, 4112, 3481, 1577, 453, 3595, 4643, 625, 1073, 2190, 2698, 20, 844, 4182, 3840, 1878, 3560, 4760, 2139, 741, 3928, 3931, 453, 3848, 3504, 4185, 1255, 3169, 804, 1520, 3478, 3579, 1826, 3618, 4759, 684, 475, 2792, 1137, 4794, 1203, 4794, 3819, 3848, 2285, 2038, 3880, 792, 451, 2959, 2137, 2137, 4517, 4859, 2137, 3239, 3239, 3481, 741, 2997, 2150, 3880, 2073, 5010, 211, 1791, 4938, 3882, 3878, 3879, 3878, 3879, 3878, 3878, 3879, 3481, 2147, 4113, 3878, 3878, 3902, 2772, 1577, 2839, 2147, 3878, 2615, 4834, 4759, 3883, 2137, 4707, 797, 3305, 3239, 4749, 4531, 3891, 2560, 1255, 3059, 3059, 1381, 2050, 2215, 1004, 4070, 2074, 1024, 2830, 4939, 1275, 2137, 3059, 3702, 2457, 3751, 1255, 4137, 1807, 3879, 908, 3054, 618, 451, 451, 1207, 2215, 13, 2612, 1577, 434, 402, 844, 1358, 3966, 3877, 879, 1632, 2882, 1740, 1137, 3579, 3033, 4027, 3879, 1904, 4076, 398, 4112, 4531, 4814, 5027, 3211, 4776, 985, 4172, 4888, 2206, 1224, 4939, 2181, 3792, 3482, 4531, 3059, 3875, 3594, 4475, 4442, 4724, 4092, 2713, 3579, 4027, 2184, 1245, 4643, 3966, 603, 2262, 4572, 453, 2339, 1017, 4076, 1470, 3579, 214, 2872, 3166, 211, 1013, 4304, 1826, 2520, 2445, 3703, 2713, 451, 4555, 832, 3054, 3365, 211, 1223, 541, 2457, 2251, 4749, 4185, 2137, 2143, 2831, 3579, 3625, 3291, 2881, 3579, 2137, 4531, 3198, 2812, 4938, 2137, 2931, 453, 4830, 4938, 4384, 3054, 2973, 4626, 4932, 3118, 2185, 3571, 2882, 3653, 2062, 3957, 1255, 3066, 2206, 3168, 3635, 3266, 4580, 3871, 2620, 3109, 4613, 2557, 1255, 2939, 2702, 3603, 2945, 1423, 2793, 1983, 3168, 4119, 2753, 2146, 4765, 3481, 3957, 2828, 3269, 453, 3527, 1255, 1862, 2839, 3584, 2826, 2653, 4741, 868, 453, 1819, 1655, 4095, 2731, 2138, 453, 453, 4371, 2963, 4272, 2827, 1540, 832, 1255, 1861, 4859, 4357, 2806, 3751, 2736, 4384, 4135, 1118, 1255, 3481, 3723, 2215, 618, 2268, 3862, 2560, 4572, 1492, 832, 2753, 592, 3526, 1591, 2907, 3036, 3777, 1255, 1365, 1255, 2137, 618, 2075, 3481, 4003, 589, 674, 636, 4981, 3190, 4302, 2374, 2931, 4794, 4135, 453, 2997, 2855, 1783, 4272, 593, 4894, 1577, 2812, 1200, 1013, 3305, 1661, 4697, 4932, 453, 2769, 844, 1255, 2150, 214, 4531, 4858, 793, 3314, 2137, 1177, 2137, 4179, 2137, 4355, 4759, 2147, 2406, 2137, 2137, 2769, 4179, 3269, 4185, 1662, 2137, 3957, 4660, 2705, 2693, 3059, 3751, 3579, 832, 4213, 4324, 1223, 343, 1047, 4707, 4640, 2143, 3876, 203, 3651, 2432, 3054, 2302, 2147, 211, 3723, 741, 4031, 3304, 3880, 4759, 1492, 3782, 4894, 4643, 2394, 4293, 3526, 4928, 2769, 3244, 1487, 4181, 2139, 4182, 1525, 4660, 4076, 2997, 4660, 2646, 4952, 541, 2987, 618, 1255, 1081, 2148, 3281, 3145, 4626, 4073, 2137, 2982, 3915, 2361, 1223, 1047, 1824, 4297, 1255, 3635, 650, 2508, 3429, 3270, 2839, 691, 3066, 481, 2749, 2963, 2277, 4179, 1255, 2137, 1255, 1740, 1763, 2147, 1741, 3298, 2632, 3239, 2116, 2821, 826, 1577, 1255, 397, 541, 3059, 3879, 2137, 618, 2137, 3579, 3625, 2138, 3481, 2137, 2369, 2150, 2469, 2151, 2074, 3266, 2146, 1572, 1807, 2138, 3091, 3321, 3066, 1696, 2392, 2035, 2169, 4076, 4923, 2150, 485, 4531, 2405, 451, 453, 481, 4859, 826, 2215, 3717, 2849, 2437, 3269, 2769, 2826, 4869, 3057, 541, 4938, 2957, 3266, 541, 4297, 3054, 3620, 1591, 1695, 544, 2073, 4145, 4530, 2882, 2130, 541, 2799, 2560, 3876, 3277, 3880, 3166, 752, 1255, 1172, 3051, 4660, 1027, 2659, 4637, 2185, 2953, 397, 4759, 2137, 3204, 1673, 4179, 2137, 4836, 2137, 826, 2705, 567, 2410, 4272, 4179, 2437, 3912, 1207, 1277, 2137, 2445, 4660, 3672, 3931, 2695, 3751, 900, 2445, 1819, 4626, 2828, 2705, 4355, 3883, 3521, 2137, 2665, 2696, 243, 3270, 4272, 2948, 4018, 1224, 832, 4660, 1525, 3723, 2138, 2150, 1904, 1255, 3066, 3751, 4388, 4179, 2822, 4603, 3046, 593, 3204, 3890, 2146, 4146, 3178, 3595, 881, 1662, 4626, 2079, 2138, 2793, 3876, 3239, 2096, 2147, 3751, 2247, 4237, 290, 385, 4172, 3780, 2376, 4073, 2823, 1208, 2832, 3431, 2437, 5019, 3298, 3772, 1439, 1255, 1179, 3168, 2451, 2915, 787, 2137, 3066, 1565, 4660, 4278, 3468, 844, 212, 3478, 2622, 2456, 1784, 4146, 1663, 3625, 2147, 793, 1577, 2907, 1452, 3625, 3584, 2437, 3109, 1227, 3, 3178, 832, 832, 3836, 211, 844, 4794, 2215, 2481, 1463, 4293, 1783, 3848, 2147, 2035, 2150, 1776, 579, 1786, 2875, 1639, 1522, 3625, 4112, 2151, 3878, 3892, 2882, 832, 5095, 2957, 3853, 1577, 4519, 3109, 3239, 1740, 397, 2137, 3371, 664, 3861, 4297, 2406, 4403, 2520, 1072, 451, 2437, 453, 453, 3881, 618, 2138, 2445, 1826, 3482, 4776, 1740, 4859, 1492, 3852, 4928, 741, 2150, 4603, 2595, 4904, 2037, 2270, 4741, 3401, 2154, 4567, 512, 2277, 832, 4531, 453, 956, 4185, 4384, 4759, 1568, 1644, 2482, 4660, 2313, 4111, 2147, 1120, 3166, 4938, 2183, 4500, 3239, 3573, 2741, 1255, 4297, 4442, 2190, 211, 3211, 3066, 4221, 4384, 3004, 389, 4388, 4894, 770, 826, 1203, 1282, 4939, 2401, 1824, 3625, 3957, 3579, 607, 2838, 1255, 2839, 4794, 4355, 3723, 896, 3059, 2137, 4650, 3751, 3204, 451, 2007, 1203, 512, 1255, 4179, 2931, 2445, 541, 4219, 453, 2445, 2147, 3481, 832, 2882, 4869, 3306, 4396, 2137, 2151, 4626, 1763, 773, 832, 3482, 2881, 3966, 4135, 4765, 214, 2148, 3703, 4869, 1255, 4759, 1120, 4741, 4530, 1469, 3585, 2812, 3526, 1895, 4179, 2146, 569, 2296, 1553, 1591, 3609, 609, 3846, 844, 1819, 4858, 2147, 1255, 4923, 1470, 280, 609, 4115, 3459, 1249, 3635, 445, 574, 2823, 826, 1420, 3526, 2583, 2215, 2150, 2334, 2445, 3948, 2753, 908, 3054, 2753, 4485, 4874, 2946, 1254, 2445, 3877, 2386, 2832, 2918, 844, 2772, 453, 2401, 510, 4795, 2943, 908, 541, 791, 3054, 790, 3892, 1047, 3012, 2964, 3869, 1207, 2147, 4113, 541, 2263, 3059, 3858, 4599, 1577, 1420, 1608, 3452, 3723, 1343, 3850, 4660, 4731, 3879, 3304, 609, 2215, 2147, 3481, 1791, 3686, 790, 4626, 4939, 2138, 3853, 789, 211, 3625, 3723, 1425, 3723, 879, 4773, 3059, 2138, 4939, 1177, 3109, 3861, 3879, 2137, 1695, 618, 3239, 3109, 1740, 3059, 3986, 4333, 3751, 541, 1577, 4531, 4531, 2215, 2215, 2215, 2215, 2215, 2215, 2215, 2215, 2215, 4221, 3493, 3234, 3753, 2903, 208, 4749, 2829, 3275, 589, 4136, 2698, 2174, 2185, 2761, 3879, 3481, 3878, 1118, 1531, 3557, 453, 3239, 2401, 2147, 1168, 4297, 2392, 2137, 214, 3579, 3977, 4939, 2445, 592, 4018, 804, 4113, 3059, 2138, 3635, 711, 540, 3878, 211, 3625, 691, 2147, 2137, 1658, 4759, 3709, 4237, 1695, 2138, 1492, 3781, 4129, 3885, 4687, 3387, 3046, 1027, 3109, 211, 3305, 3878, 3406, 557, 3579, 3860, 3625, 451, 3059, 1539, 4113, 3885, 4741, 4470, 2315, 4031, 453, 214, 1425, 1766, 5145, 4664, 2931, 1255, 4086, 1525, 3865, 2931, 5004, 1195, 4347, 1721, 4660, 3625, 1765, 3144, 3211, 3621, 2137, 3852, 1525, 3536, 2073, 583, 4939, 2272, 1763, 4557, 3605, 730, 3635, 1525, 2153, 2150, 2147, 1241, 3168, 2401, 1492, 3239, 3059, 3059, 2147, 4185, 3528, 2828, 1791, 2147, 2150, 211, 2137, 4430, 1175, 3751, 3631, 2662, 2091, 3579, 1428, 3579, 4219, 2472, 4923, 2575, 4594, 1463, 4836, 1838, 2561, 3, 3667, 2772, 1603, 4773, 642, 3261, 2810, 4923, 3861, 3605, 2445, 451, 1277, 4620, 3579, 1603, 1434, 2675, 3618, 4003, 2488, 4859, 1255, 3696, 3777, 2872, 1420, 3157, 4785, 3881, 1255, 1930, 4859, 1207, 2401, 1990, 3204, 641, 3579, 3211, 4551, 3751, 2034, 2955, 583, 642, 2080, 4980, 1603, 4520, 4181, 4703, 2138, 3777, 3891, 804, 1224, 3560, 3120, 4923, 4932, 20, 4939, 2167, 4708, 1983, 3306, 4548, 2147, 2313, 2958, 2830, 4765, 4929, 1887, 3579, 2445, 928, 2828, 1718, 4637, 3598, 2323, 844, 3986, 2379, 1347, 4529, 3001, 21, 4832, 3947, 1293, 3871, 782, 3867, 2952, 2145, 3204, 4165, 4795, 2934, 1644, 1277, 3266, 2430, 1992, 1159, 3054, 1277, 1538, 3579, 3418, 3853, 2997, 200, 2390, 3956, 976, 2744, 1745, 4836, 4648, 2798, 4176, 642, 4932, 2248, 1662, 2761, 1470, 4548, 3945, 2270, 1010, 2914, 972, 2957, 1784, 3949, 1692, 2696, 4237, 2998, 642, 2951, 2840, 1276, 3707, 2166, 4869, 4859, 2579, 4557, 1196, 3725, 531, 2161, 1611, 2401, 4765, 1639, 3269, 3971, 2462, 5111, 599, 2713, 4970, 2038, 1251, 4904, 3579, 1140, 3957, 4031, 4859, 4071, 1542, 4469, 959, 1783, 3748, 4237, 1380, 2915, 1241, 3035, 1452, 4275, 3723, 3304, 652, 592, 3239]\n"
     ]
    }
   ],
   "source": [
    "import numpy as np\n",
    "from scipy.spatial.distance import cdist\n",
    "\n",
    "# 假设我们有一个 500*100 的矩阵\n",
    "matrix = adata_rna.X.T  # 示例数据\n",
    "\n",
    "# 假设我们限制的 index_list 是以下这些索引\n",
    "index_list = np.array([list(adata_rna.var_names).index(i) for i in common_var])  # 示例 index_list\n",
    "\n",
    "# 计算每个向量与其他向量的余弦距离\n",
    "distance_matrix = cdist(matrix, matrix, metric='cosine')\n",
    "\n",
    "# 将对角线（即每个向量到自己的距离）设置为无穷大，以排除自己\n",
    "np.fill_diagonal(distance_matrix, np.inf)\n",
    "\n",
    "# 创建一个布尔掩码，将不在 index_list 中的向量距离设置为无穷大\n",
    "mask = np.ones(distance_matrix.shape, dtype=bool)\n",
    "mask[:, index_list] = False  # 只保留 index_list 中的列\n",
    "distance_matrix[mask] = np.inf  # 其他列设置为无穷大\n",
    "\n",
    "# 找到每个向量最近的其他向量的索引\n",
    "nearest_indices = np.argmin(distance_matrix, axis=1)\n",
    "\n",
    "# 将结果转换为 list\n",
    "nearest_indices_list = nearest_indices.tolist()\n",
    "\n",
    "print(nearest_indices_list)\n"
   ]
  },
  {
   "cell_type": "code",
   "execution_count": null,
   "metadata": {},
   "outputs": [],
   "source": []
  },
  {
   "cell_type": "code",
   "execution_count": 11,
   "metadata": {},
   "outputs": [
    {
     "name": "stdout",
     "output_type": "stream",
     "text": [
      "[81, 786, 3625, 2137, 2530, 3826, 180, 1595, 1396, 4283, 4085, 691, 1975, 2835, 662, 3298, 2437, 2323, 3453, 2137, 2137, 2138, 2147, 1747, 301, 917, 2772, 908, 4182, 212, 1255, 3584, 2241, 3632, 4886, 2097, 4873, 1702, 465, 622, 4666, 1190, 3518, 786, 331, 5048, 781, 2245, 2090, 3360, 100, 3981, 108, 242, 58, 2240, 185, 4482, 3250, 1702, 1180, 114, 1006, 935, 4221, 83, 3938, 3360, 2416, 52, 4592, 572, 4499, 853, 117, 114, 83, 740, 155, 1515, 5092, 0, 122, 2428, 363, 341, 1277, 533, 347, 3622, 190, 4118, 1515, 2107, 347, 1912, 3796, 2091, 867, 2192, 114, 461, 837, 4564, 4004, 4836, 124, 4280, 52, 4561, 3938, 156, 117, 3033, 100, 3521, 329, 1676, 369, 319, 364, 176, 82, 562, 3965, 234, 2363, 1711, 3124, 318, 3228, 511, 4026, 4238, 3236, 312, 4565, 4751, 3091, 3421, 364, 4947, 365, 347, 359, 615, 2545, 3210, 1070, 4869, 3223, 3128, 1097, 3016, 2222, 2228, 111, 703, 4571, 169, 2598, 105, 2228, 4889, 2635, 1945, 769, 2105, 4560, 2068, 150, 2256, 2966, 2394, 175, 2207, 121, 4275, 1999, 4889, 2256, 1908, 4478, 2137, 314, 3673, 2983, 2571, 2485, 2622, 666, 386, 4531, 54, 3515, 3751, 1950, 451, 3772, 3298, 1420, 3505, 4706, 2137, 1224, 211, 2627, 4181, 4923, 804, 3584, 3481, 211, 1724, 2150, 2150, 826, 602, 1540, 4765, 4859, 4431, 1162, 2150, 1101, 1378, 3870, 1513, 117, 1676, 1255, 1277, 2784, 2931, 125, 2329, 2445, 2959, 2560, 618, 804, 3796, 3421, 2150, 786, 3880, 790, 4491, 4182, 4296, 2832, 4531, 4108, 444, 4939, 2276, 114, 4858, 1274, 275, 804, 2137, 534, 3967, 771, 3790, 3378, 4939, 2445, 1925, 1277, 470, 4182, 3059, 338, 1577, 4859, 591, 2440, 2137, 3723, 171, 832, 3881, 3059, 386, 3239, 4904, 390, 2068, 2825, 2893, 4146, 2772, 3284, 2397, 418, 2145, 3579, 908, 3886, 305, 301, 304, 303, 303, 461, 3878, 300, 2137, 3957, 4923, 1587, 43, 5133, 2429, 359, 376, 129, 1711, 907, 1454, 4001, 1686, 326, 4262, 879, 185, 4191, 2363, 4300, 2635, 1165, 2545, 4158, 4452, 3447, 364, 1740, 2655, 2588, 85, 4784, 1515, 359, 4560, 2236, 88, 3224, 3829, 4621, 1327, 1190, 2191, 4153, 1671, 2245, 3579, 1190, 316, 462, 4413, 4004, 84, 120, 2493, 2564, 3128, 2545, 66, 1615, 781, 1999, 1115, 5055, 2256, 317, 2065, 1476, 2457, 1156, 2584, 2451, 2147, 804, 4939, 3481, 2490, 4219, 301, 1925, 4531, 305, 2217, 1591, 591, 386, 1741, 1791, 2538, 2753, 4178, 4211, 2889, 4643, 2440, 453, 4003, 3625, 197, 2873, 386, 2140, 607, 4941, 2798, 832, 3304, 3625, 2858, 4162, 1389, 1636, 2264, 117, 4597, 3012, 1277, 2293, 1005, 2564, 3579, 583, 3502, 3579, 2475, 2827, 2828, 495, 4794, 4626, 1515, 3169, 1577, 4815, 2137, 940, 3054, 386, 1759, 269, 3481, 4660, 2445, 3481, 4642, 898, 456, 1186, 245, 4130, 4906, 3622, 3652, 4140, 38, 59, 1687, 171, 1589, 271, 2972, 2488, 3304, 3169, 4938, 2793, 3974, 3816, 418, 4027, 3059, 3584, 113, 4251, 1555, 269, 2214, 3901, 2473, 1740, 3584, 2137, 3877, 475, 390, 3014, 2827, 2968, 4870, 741, 4939, 4759, 4860, 3244, 641, 1415, 3059, 1255, 4179, 4626, 131, 3269, 704, 2516, 1724, 593, 214, 4944, 2166, 2035, 491, 4763, 4941, 1237, 4859, 4417, 214, 2137, 322, 2482, 3481, 2150, 183, 2602, 1476, 4463, 208, 1182, 3481, 1791, 3880, 4642, 211, 2882, 211, 269, 2772, 4751, 453, 1001, 3584, 4869, 564, 4923, 1675, 2401, 3902, 3579, 1591, 1969, 572, 123, 4531, 979, 3239, 4237, 3239, 642, 792, 1819, 3234, 2447, 2793, 4531, 1004, 4923, 1700, 2150, 1577, 2177, 1724, 826, 2150, 2827, 183, 2174, 3035, 3618, 386, 1814, 2445, 2835, 2835, 1783, 3751, 3932, 1069, 3481, 3876, 4939, 2882, 3875, 443, 3957, 1069, 4162, 214, 4018, 4763, 3876, 4763, 4858, 3880, 214, 1385, 832, 4018, 2882, 1190, 3932, 4092, 2215, 4542, 2137, 3298, 212, 4545, 1969, 4938, 3261, 2882, 3066, 2147, 2146, 4219, 390, 3902, 4315, 41, 4520, 3881, 2138, 214, 5089, 652, 3088, 4636, 2447, 3035, 3059, 4421, 3131, 4924, 4830, 1182, 1420, 4795, 3166, 4439, 445, 4620, 4296, 2185, 2137, 4794, 190, 4308, 898, 4640, 1204, 4660, 804, 234, 451, 2035, 4531, 3542, 1255, 3909, 3035, 2442, 2849, 832, 2432, 3579, 4820, 4182, 4418, 908, 3932, 1741, 214, 3604, 2538, 453, 4625, 1341, 4330, 1515, 3463, 2137, 3880, 386, 3703, 3579, 3973, 2539, 1966, 1924, 4455, 3579, 1857, 1982, 3239, 4182, 2401, 544, 4584, 4272, 4597, 3579, 2794, 386, 958, 3239, 115, 2363, 4626, 4626, 2137, 4844, 3481, 3059, 1389, 4660, 543, 4396, 831, 1341, 1069, 3481, 2784, 2977, 4599, 3269, 1476, 976, 4265, 2458, 2041, 447, 1155, 3870, 3957, 3294, 1986, 1396, 2975, 269, 591, 4643, 4589, 3414, 2490, 2710, 2247, 1246, 2539, 2384, 2940, 303, 4300, 2452, 2212, 215, 804, 1774, 607, 2674, 364, 371, 642, 4660, 2458, 2627, 2569, 386, 631, 3481, 3723, 4759, 2138, 211, 2736, 4721, 2247, 386, 4293, 4822, 1255, 2147, 5148, 3625, 4939, 2445, 4760, 1480, 3878, 1577, 1454, 1204, 2247, 3625, 2784, 2550, 3178, 4869, 1649, 3751, 4296, 1341, 2705, 544, 2893, 1588, 2445, 4927, 3707, 2753, 1483, 832, 211, 301, 910, 454, 1668, 102, 1741, 1226, 841, 4669, 3045, 2596, 3625, 1904, 4210, 2229, 3566, 2154, 1271, 3579, 3902, 3642, 2994, 3957, 2458, 214, 1542, 735, 1676, 1203, 4208, 453, 4660, 3059, 3059, 4508, 4086, 2275, 4597, 3468, 2490, 4130, 4643, 3403, 1487, 1203, 4650, 2432, 879, 1227, 4939, 40, 3298, 2698, 1601, 1620, 3881, 4185, 790, 4531, 3901, 2401, 3642, 2150, 2138, 2603, 4660, 2705, 3059, 1157, 641, 1255, 4531, 1577, 2753, 3932, 2882, 2490, 3054, 3987, 3481, 2490, 1572, 3569, 1203, 3059, 879, 2693, 3109, 609, 2151, 211, 4031, 4660, 4278, 3902, 3239, 2074, 4763, 3902, 3239, 609, 1218, 1082, 269, 4426, 4643, 4426, 2889, 2456, 4759, 2074, 2793, 2153, 1904, 2091, 4439, 1004, 3881, 997, 212, 3591, 4762, 618, 1182, 2575, 641, 730, 2392, 185, 3707, 3651, 2698, 4130, 2889, 269, 634, 3109, 1885, 2150, 2222, 1107, 3299, 786, 592, 4763, 979, 4626, 1277, 826, 2323, 804, 4553, 1177, 4027, 3579, 4626, 2147, 2665, 3563, 3504, 386, 1774, 996, 995, 587, 1953, 3591, 3987, 453, 269, 1002, 3481, 4938, 62, 3201, 3123, 2695, 3876, 2073, 3579, 1724, 844, 3579, 3298, 735, 3239, 4580, 2137, 591, 1515, 4952, 4939, 3198, 2091, 1953, 398, 3782, 215, 4939, 4928, 4179, 1492, 2503, 1254, 1791, 3877, 38, 4626, 269, 4626, 609, 4626, 1119, 790, 4731, 1724, 2401, 2199, 1577, 2791, 319, 445, 269, 1695, 2137, 2447, 2456, 2753, 2338, 2447, 1226, 386, 3751, 2823, 3886, 451, 2137, 148, 3526, 1741, 2753, 3059, 3579, 3557, 4795, 3045, 4859, 3059, 386, 591, 4592, 4626, 2437, 269, 1539, 1577, 4018, 1950, 4237, 292, 2853, 371, 1125, 364, 152, 938, 4008, 2310, 224, 2035, 910, 4499, 4421, 4858, 451, 386, 4939, 2150, 2150, 2147, 3723, 3220, 2363, 211, 420, 3878, 3879, 3879, 591, 452, 2889, 38, 4794, 3777, 882, 303, 832, 2137, 4034, 4797, 3035, 4794, 2457, 4463, 3948, 347, 4666, 4553, 491, 1470, 2931, 3886, 82, 1695, 3618, 445, 908, 4057, 2753, 3284, 3482, 1791, 4146, 380, 380, 1189, 2137, 2338, 2948, 2753, 1279, 2539, 765, 4939, 1329, 2620, 2439, 1632, 1202, 3625, 386, 4297, 4942, 2137, 2137, 4970, 3481, 2140, 155, 832, 4297, 1925, 1184, 3796, 4158, 1932, 1158, 1917, 2153, 211, 4939, 1207, 1827, 386, 832, 214, 2946, 4859, 4219, 1470, 1740, 2445, 3054, 2307, 2151, 2490, 2147, 4162, 1243, 2146, 2401, 1218, 1836, 1218, 1218, 1577, 452, 4693, 453, 3482, 1741, 3066, 1690, 3059, 3723, 1444, 269, 642, 4531, 1700, 2605, 1963, 105, 870, 524, 1066, 1925, 4076, 4939, 3957, 1211, 3880, 3581, 767, 2823, 908, 491, 4643, 2150, 4822, 2074, 3880, 2137, 2029, 735, 2699, 3579, 895, 3875, 3481, 4971, 3932, 1801, 2931, 3881, 269, 2217, 3066, 3378, 1791, 2401, 1999, 3168, 2138, 2137, 3884, 2147, 4135, 898, 1724, 386, 3408, 2784, 2137, 2197, 1456, 609, 2769, 3277, 451, 3723, 1166, 1440, 3557, 3635, 2120, 214, 2931, 1724, 988, 2084, 1653, 1254, 3604, 3239, 2761, 3212, 4944, 303, 1740, 3526, 4219, 4923, 2137, 4179, 2477, 1791, 2769, 1525, 804, 2839, 4388, 1290, 3304, 2150, 2447, 2903, 4408, 2138, 1887, 5143, 879, 3507, 1999, 3881, 4027, 4272, 4182, 2437, 2147, 2147, 1255, 832, 386, 3886, 2834, 3625, 1156, 403, 4721, 346, 2274, 2440, 4200, 214, 214, 3339, 2147, 2827, 4302, 3059, 215, 4148, 735, 1925, 1587, 2872, 1808, 142, 2609, 2839, 4637, 735, 3109, 2363, 3054, 832, 3579, 3909, 3087, 2146, 1255, 771, 3579, 928, 3579, 2151, 4643, 2247, 3306, 3128, 4518, 3932, 386, 551, 1224, 4463, 5115, 3135, 903, 3579, 4011, 790, 1470, 1162, 4179, 276, 2698, 928, 3579, 4297, 4031, 3306, 928, 4760, 185, 807, 3059, 4760, 3853, 3878, 2794, 3886, 3878, 3291, 2401, 743, 3947, 542, 386, 870, 1255, 4297, 214, 3266, 4643, 2440, 832, 3088, 2063, 2440, 363, 1255, 3204, 741, 1703, 4923, 2603, 884, 4488, 804, 321, 2952, 3884, 3878, 592, 4904, 1227, 211, 3751, 3481, 3481, 3059, 2145, 183, 3877, 2137, 2137, 3059, 3875, 741, 4135, 214, 2437, 3266, 896, 1255, 807, 2319, 3128, 1470, 346, 4112, 3790, 4923, 2416, 1918, 4794, 610, 3481, 2447, 741, 4531, 4437, 3948, 4146, 781, 844, 2931, 3304, 2445, 4643, 4491, 2891, 1724, 2147, 4636, 1157, 1587, 1577, 227, 2363, 3505, 4499, 4031, 2493, 453, 2038, 3579, 2823, 170, 943, 2150, 2445, 4931, 1399, 2832, 2601, 3876, 1724, 2150, 3707, 214, 4626, 1255, 300, 1791, 3880, 2004, 2137, 4939, 2214, 391, 3223, 1525, 3902, 3723, 933, 4555, 3957, 451, 305, 3931, 3625, 3045, 4643, 2142, 1224, 245, 898, 2139, 2137, 2698, 3699, 3579, 2678, 3584, 1227, 3059, 2256, 3702, 4859, 3861, 2074, 2147, 300, 4906, 2692, 1255, 1672, 3733, 353, 1918, 4477, 2977, 1540, 3209, 3882, 386, 2705, 2247, 4421, 4759, 3534, 303, 117, 697, 2074, 928, 2401, 2138, 5050, 784, 214, 4391, 3239, 4545, 2827, 1819, 3378, 2693, 3884, 370, 448, 4327, 1619, 4763, 4763, 2890, 3239, 3700, 4749, 4530, 4182, 3881, 3957, 2147, 3579, 4130, 3875, 4833, 4499, 1731, 4660, 533, 4288, 2912, 632, 4059, 3605, 3284, 1724, 4008, 3626, 865, 2074, 2835, 392, 4859, 838, 1254, 3481, 789, 3881, 2146, 3239, 2891, 2471, 4520, 152, 2447, 269, 1679, 1679, 2439, 1577, 3310, 4499, 355, 2439, 1255, 3109, 555, 117, 391, 2277, 1666, 4901, 269, 1182, 2309, 3879, 895, 4572, 3360, 305, 408, 3526, 3886, 2137, 1724, 4762, 211, 4923, 1310, 2858, 3987, 3626, 3967, 37, 591, 1128, 3045, 4643, 4003, 1463, 2503, 38, 319, 2831, 878, 607, 3605, 1945, 593, 2025, 2481, 3938, 545, 2844, 1724, 4939, 4731, 3696, 2397, 3046, 591, 1166, 1515, 2491, 2104, 4840, 1540, 1328, 3054, 211, 4617, 1741, 1740, 398, 2858, 1591, 2150, 1748, 4540, 1746, 2444, 1403, 533, 1761, 5152, 124, 4185, 1231, 2858, 3295, 2439, 609, 2137, 4923, 1740, 3966, 4904, 1071, 4761, 2074, 183, 183, 543, 3204, 386, 666, 453, 4597, 4643, 3708, 3054, 1207, 1227, 1389, 4660, 4480, 3434, 1082, 1255, 470, 3581, 2944, 1741, 2147, 609, 3875, 4622, 2627, 2480, 4703, 2490, 4553, 3751, 4421, 3079, 3544, 3711, 55, 2635, 1370, 2025, 2439, 2146, 1218, 1819, 590, 2457, 1114, 838, 3298, 3298, 301, 812, 2862, 2812, 691, 3973, 589, 2397, 2263, 5012, 3780, 2471, 895, 4278, 4643, 4531, 3035, 2150, 3481, 2445, 4759, 781, 1953, 2146, 5012, 3579, 3966, 2218, 1741, 1838, 3467, 3579, 271, 4499, 4719, 3054, 593, 2137, 771, 714, 1740, 3877, 214, 211, 4914, 591, 908, 598, 1896, 4172, 3239, 2882, 2150, 4297, 3883, 2893, 4491, 2964, 2137, 3260, 1277, 3128, 3481, 3066, 2146, 2437, 3054, 3878, 3059, 804, 2493, 2035, 3707, 386, 3700, 3625, 211, 790, 2138, 3109, 541, 3696, 390, 4198, 1741, 1518, 1724, 1472, 2274, 244, 1261, 2451, 95, 1676, 4904, 4640, 215, 1190, 1577, 832, 453, 4794, 3820, 4626, 300, 301, 2627, 3879, 290, 4980, 2137, 453, 470, 1098, 4002, 451, 2857, 4187, 2299, 2988, 391, 2445, 2147, 4599, 1239, 3382, 4297, 4031, 3284, 2481, 3625, 1740, 4034, 1741, 1924, 1251, 1277, 3878, 4290, 3482, 3702, 741, 2147, 1724, 4869, 1632, 609, 4814, 1356, 2882, 2437, 2761, 3884, 3169, 4297, 3481, 1047, 3848, 444, 4660, 4265, 4297, 386, 3277, 2437, 3135, 756, 2743, 3609, 903, 2150, 4643, 741, 4357, 4794, 2146, 2772, 942, 2161, 3250, 786, 4531, 3738, 4637, 2138, 4278, 1080, 1669, 1231, 2560, 2954, 2137, 3046, 4938, 3579, 3239, 1761, 4859, 1277, 4587, 4829, 3584, 3466, 2987, 2912, 2753, 3298, 1999, 804, 269, 2137, 303, 4320, 908, 4484, 386, 4859, 3876, 3298, 3879, 787, 3579, 3931, 2052, 2052, 183, 2051, 882, 532, 1983, 38, 2046, 3902, 5044, 1204, 2056, 4522, 183, 533, 2045, 183, 2074, 1207, 804, 618, 2784, 1666, 3950, 169, 2852, 183, 1577, 1277, 3481, 943, 183, 1038, 2545, 804, 1577, 2948, 2039, 4971, 609, 1740, 300, 4146, 787, 3118, 2440, 3938, 2137, 1927, 1653, 384, 4980, 3579, 3853, 5028, 1476, 3054, 1338, 4118, 1794, 1733, 2889, 723, 93, 4764, 4214, 2378, 908, 882, 2045, 3194, 4228, 4687, 4754, 2660, 5075, 451, 3481, 269, 3875, 1898, 3566, 1724, 2337, 2256, 3481, 3878, 2793, 2835, 2146, 2611, 3059, 1819, 2138, 2137, 2146, 3268, 694, 2147, 2142, 3881, 2138, 2138, 2138, 4759, 452, 2138, 3880, 2843, 2147, 1740, 2138, 4421, 3128, 4522, 185, 2147, 1724, 786, 3584, 1155, 2139, 1724, 214, 214, 4315, 2615, 4018, 1950, 386, 1740, 2174, 2178, 3880, 2176, 1255, 741, 741, 3927, 3239, 2445, 3932, 4027, 4009, 2823, 908, 4596, 353, 2834, 230, 3052, 2828, 2238, 453, 1860, 2451, 2323, 1982, 3931, 2147, 4640, 4787, 3965, 175, 2137, 831, 214, 593, 591, 1207, 2823, 300, 3641, 4938, 2839, 3266, 353, 3883, 154, 1215, 1421, 1464, 2969, 2882, 155, 2218, 152, 3751, 3216, 1697, 2817, 3932, 4130, 4794, 4941, 1218, 55, 4643, 1504, 15, 1724, 47, 369, 2137, 215, 691, 1420, 3059, 2147, 2769, 3239, 4124, 171, 771, 169, 4294, 245, 3581, 3094, 2183, 390, 4509, 347, 3653, 2772, 4308, 1120, 4517, 2583, 3059, 2545, 531, 2429, 4939, 16, 1494, 2899, 4322, 3109, 832, 792, 303, 2903, 5075, 3266, 2445, 303, 300, 2958, 3575, 3298, 3190, 3466, 344, 4882, 514, 593, 832, 4210, 4759, 1724, 3880, 1168, 143, 390, 3066, 1100, 122, 457, 2276, 3931, 100, 1469, 2227, 454, 4923, 1577, 3707, 1255, 2137, 358, 786, 3251, 3156, 910, 792, 2137, 1057, 4531, 4890, 4660, 4728, 3266, 1925, 2150, 4858, 214, 804, 1255, 2142, 2309, 3808, 3018, 3166, 1730, 2440, 3938, 2206, 4148, 38, 4221, 4384, 3094, 4162, 4396, 1182, 4727, 2545, 4944, 329, 1421, 2784, 3909, 4626, 3560, 3481, 3612, 804, 3848, 2700, 4939, 183, 1956, 444, 3625, 3481, 4859, 4859, 3707, 2890, 769, 3848, 2888, 3950, 2769, 2772, 609, 2074, 960, 2150, 879, 4626, 1819, 2755, 4626, 609, 4626, 2137, 3622, 3560, 2398, 4939, 2660, 2893, 3622, 214, 1872, 2907, 1277, 2490, 3239, 4499, 68, 1224, 4330, 4384, 408, 2812, 2256, 3945, 1190, 882, 1524, 3635, 4565, 2276, 979, 4763, 183, 2147, 5145, 2439, 1189, 2445, 269, 2490, 3804, 295, 2837, 269, 3566, 2437, 1470, 3880, 2445, 1377, 2299, 2137, 2150, 163, 3614, 1531, 4643, 4660, 784, 3876, 3579, 4582, 1255, 1700, 1218, 386, 4278, 540, 1492, 2138, 3424, 2137, 4829, 1440, 2490, 2401, 1429, 1318, 741, 1515, 269, 1492, 3481, 454, 1703, 188, 3657, 3485, 2882, 1774, 908, 735, 491, 2940, 2793, 4859, 2660, 1885, 3088, 551, 2414, 1204, 3149, 242, 4749, 4496, 3239, 3560, 787, 300, 1154, 3622, 1016, 3148, 1885, 4366, 514, 3261, 831, 3622, 4540, 1565, 735, 3205, 1072, 4565, 1885, 1159, 139, 2844, 2983, 4884, 2557, 1182, 2545, 190, 169, 4582, 399, 3950, 1002, 1052, 601, 4524, 2206, 2534, 3022, 2493, 1738, 3626, 618, 3584, 1476, 1328, 1740, 345, 3193, 2835, 4290, 4294, 451, 4626, 3109, 4660, 514, 5015, 2120, 4906, 4829, 786, 4439, 187, 3821, 4157, 898, 4859, 1724, 3845, 3090, 2962, 4531, 940, 386, 2147, 381, 4755, 137, 4179, 300, 2138, 4179, 1071, 714, 475, 3544, 493, 3481, 2369, 1440, 4821, 1791, 386, 2428, 1700, 4607, 137, 3693, 2073, 47, 3054, 470, 4939, 1463, 3281, 2137, 3625, 3579, 2137, 2147, 1472, 1168, 2622, 2621, 453, 1553, 2794, 3579, 301, 4491, 1449, 2414, 2678, 2665, 269, 2575, 1807, 5113, 2079, 2323, 3052, 2147, 3877, 2825, 1577, 2772, 3584, 2626, 832, 4026, 3579, 4146, 2121, 3190, 2379, 3406, 4938, 4923, 2695, 2137, 1396, 2118, 4938, 211, 2481, 1904, 2138, 3109, 4355, 2247, 903, 2359, 2445, 3635, 4923, 38, 1872, 1272, 3239, 3625, 448, 4980, 4278, 1190, 3266, 4772, 214, 491, 386, 804, 4009, 2452, 4531, 211, 2696, 2698, 3239, 3239, 3239, 3239, 3239, 3901, 4558, 3880, 1492, 1277, 3880, 3481, 2784, 3881, 2091, 3066, 2147, 3592, 150, 792, 2137, 743, 832, 1540, 1179, 3168, 3168, 790, 3521, 1196, 4387, 3957, 1724, 535, 684, 453, 3902, 2401, 4372, 3239, 2401, 2138, 2753, 1227, 4531, 4039, 4940, 2665, 3054, 2931, 1492, 705, 1156, 269, 2835, 2890, 301, 691, 1741, 3931, 2397, 4643, 1010, 4258, 3466, 4931, 3878, 2443, 4795, 2977, 533, 4643, 4626, 4660, 4626, 3120, 1224, 4531, 4531, 3059, 691, 448, 1761, 4135, 4531, 749, 1224, 4789, 1594, 1925, 4297, 1976, 2831, 1130, 1558, 183, 4660, 3481, 2138, 1741, 2401, 1463, 832, 4531, 1492, 4286, 4009, 2355, 1073, 741, 4759, 2150, 3481, 3599, 3054, 4923, 3525, 3239, 1420, 1591, 541, 3927, 2234, 2893, 220, 4970, 2823, 2828, 2825, 2825, 2835, 2823, 2821, 2821, 2828, 2823, 2828, 2828, 2843, 2835, 2825, 2839, 2442, 2839, 2488, 3109, 826, 2807, 2821, 2830, 3178, 3109, 2150, 1724, 2150, 2554, 2827, 2828, 2353, 4859, 804, 1898, 1936, 3269, 1740, 444, 1157, 269, 4647, 4152, 1229, 591, 3477, 1047, 1204, 3883, 2147, 2942, 832, 3902, 2137, 300, 3707, 4727, 804, 4477, 4939, 3879, 1791, 4252, 533, 4182, 4794, 2146, 4480, 2147, 4923, 1558, 1577, 2888, 1526, 3635, 1724, 3059, 2280, 826, 4113, 4355, 2138, 3585, 4290, 4491, 2908, 2907, 2146, 1716, 2137, 2138, 2183, 1464, 4131, 212, 2893, 592, 593, 2137, 2215, 2589, 4626, 4626, 2074, 1255, 870, 2471, 1343, 3618, 2150, 4182, 3579, 214, 1156, 1695, 1936, 609, 386, 2493, 2834, 4226, 2881, 3879, 2753, 3876, 4642, 3879, 4759, 3880, 3892, 3879, 2482, 1791, 3723, 3881, 3879, 3879, 3875, 3886, 3876, 3481, 3932, 3481, 4923, 1492, 3879, 3877, 3876, 908, 1969, 2761, 1741, 3298, 758, 3566, 743, 4418, 2596, 4727, 3902, 4548, 2530, 879, 4643, 3751, 3878, 303, 3584, 564, 4652, 4643, 2067, 2890, 3957, 2311, 5074, 3625, 1740, 642, 1961, 544, 2589, 3880, 741, 773, 2881, 353, 1241, 2692, 4018, 3481, 1360, 496, 143, 153, 3054, 1277, 1492, 4844, 3881, 3268, 4262, 1046, 3575, 3419, 4290, 3306, 631, 4499, 2678, 1137, 113, 398, 3879, 3880, 4073, 3370, 1425, 908, 4721, 3284, 1360, 3931, 3059, 214, 4759, 2858, 2188, 271, 129, 2889, 4219, 2488, 386, 390, 2137, 564, 3481, 4200, 2849, 922, 2823, 3105, 3768, 1741, 3298, 2447, 2451, 2948, 1503, 2140, 3702, 1013, 285, 3584, 1763, 3526, 3109, 2888, 2017, 2671, 2236, 2137, 3609, 3454, 4923, 300, 4636, 844, 138, 1123, 2146, 4499, 3877, 804, 3879, 208, 3594, 2147, 2560, 3927, 2882, 907, 3419, 2035, 4643, 2445, 2137, 2401, 3947, 3876, 4531, 4763, 2147, 3579, 2451, 3204, 3625, 1286, 3453, 2138, 3585, 128, 3169, 2401, 4643, 1393, 305, 386, 3481, 3877, 1546, 2931, 3277, 3579, 2151, 4869, 300, 2611, 4857, 4258, 2146, 2471, 1423, 1925, 3059, 3298, 3298, 804, 4434, 1476, 4994, 4278, 797, 4759, 3879, 4627, 2146, 1116, 4727, 3841, 3626, 1591, 214, 386, 2952, 3723, 3059, 295, 2363, 1010, 3128, 2137, 2137, 4859, 2761, 3059, 1226, 3109, 2538, 4731, 1577, 1182, 4237, 491, 418, 3131, 3585, 2137, 3957, 4572, 2823, 2490, 215, 83, 4156, 3751, 2142, 4859, 3886, 1471, 4860, 2137, 4830, 4135, 1724, 2853, 1589, 4904, 4906, 347, 4626, 2945, 3957, 4531, 4587, 4572, 4707, 3481, 4760, 129, 150, 2503, 2834, 491, 786, 4660, 2705, 4302, 2828, 4859, 3045, 2849, 5026, 4859, 2137, 591, 3481, 4727, 4647, 4172, 2183, 3481, 895, 453, 4643, 2926, 2596, 58, 2401, 3910, 3466, 3848, 3883, 938, 2858, 3481, 1740, 3298, 792, 2146, 4070, 2944, 1128, 2445, 2889, 3022, 2445, 2839, 214, 4018, 4179, 578, 1255, 452, 3481, 771, 804, 4822, 1740, 3812, 2893, 2437, 723, 3612, 4923, 3258, 1028, 2091, 3723, 3579, 826, 2150, 3481, 4821, 4371, 1740, 3996, 544, 4660, 4944, 2075, 386, 2206, 3481, 4937, 2457, 1279, 2912, 4731, 1773, 4031, 3625, 4092, 4179, 3258, 1763, 1549, 4297, 3932, 3912, 4858, 1932, 1277, 3581, 3175, 3528, 4081, 1341, 3669, 2981, 4859, 3593, 2898, 493, 4488, 977, 1359, 1116, 3702, 2437, 3277, 3635, 1670, 3751, 2973, 2481, 1574, 1657, 491, 187, 3579, 533, 1071, 656, 2954, 4763, 1740, 67, 2889, 4859, 3156, 2379, 386, 4092, 1724, 4255, 3298, 3038, 3284, 4765, 2705, 3707, 3045, 618, 3169, 390, 514, 4735, 269, 1945, 1130, 271, 4597, 618, 4470, 2784, 2557, 1577, 4833, 2064, 2891, 3284, 4498, 453, 2839, 3966, 4135, 3998, 1255, 4763, 211, 2074, 3466, 211, 618, 2882, 4522, 2827, 771, 2445, 3700, 763, 1445, 495, 3557, 3239, 4499, 3595, 242, 3130, 2138, 4278, 451, 4923, 4207, 1464, 1893, 2137, 908, 386, 3584, 1785, 4008, 2823, 2890, 3239, 1836, 4787, 3927, 3902, 4731, 183, 4219, 4179, 2931, 741, 2147, 3723, 2150, 3059, 3723, 3168, 3880, 790, 4924, 4939, 211, 3609, 838, 4624, 3877, 4650, 4606, 1740, 3466, 1791, 618, 1283, 2363, 3579, 136, 4767, 3094, 2753, 2545, 2709, 2912, 3626, 3878, 3481, 2437, 1226, 3059, 2150, 2073, 2793, 2710, 2079, 4637, 4770, 1492, 276, 1839, 4112, 1632, 4974, 3612, 596, 2401, 211, 3625, 451, 1515, 4302, 265, 1047, 2247, 1601, 790, 214, 730, 4027, 4759, 2931, 2825, 2697, 3886, 3584, 115, 2137, 3809, 1291, 3544, 1741, 150, 2039, 2151, 2123, 2177, 2907, 1960, 2575, 3239, 2153, 3957, 2903, 4648, 4781, 1396, 3927, 4643, 2137, 4520, 2138, 2545, 1597, 4179, 4924, 3708, 3057, 2146, 3115, 2146, 1156, 4179, 4938, 2451, 3723, 3892, 2147, 2137, 2474, 5129, 3298, 3533, 3284, 915, 2137, 3109, 2137, 879, 2784, 3025, 3642, 875, 1227, 1255, 461, 386, 2439, 2596, 4531, 2931, 5111, 1761, 4649, 802, 2138, 3875, 1791, 3876, 3878, 3481, 4355, 3877, 3880, 3875, 618, 832, 3239, 2150, 2137, 2150, 2137, 3878, 2137, 3481, 3723, 618, 3880, 3059, 3059, 2146, 4763, 3790, 3751, 625, 789, 4939, 462, 84, 2215, 2138, 303, 3269, 1162, 2147, 3443, 3107, 2138, 338, 4018, 2137, 2835, 4858, 2147, 771, 4971, 2216, 853, 3845, 832, 4031, 2889, 2931, 1603, 447, 1632, 183, 463, 741, 3109, 896, 3881, 918, 1277, 4869, 3625, 1893, 3706, 3277, 832, 2490, 211, 3166, 4462, 1904, 741, 453, 1354, 105, 1724, 2146, 1577, 1724, 1925, 4531, 2617, 2481, 2881, 3269, 1286, 2445, 598, 771, 3985, 1824, 4643, 1255, 1763, 2606, 448, 2547, 4760, 4787, 1820, 3059, 3927, 1925, 3481, 4004, 574, 4650, 1286, 2137, 2137, 211, 928, 741, 1548, 2825, 741, 1236, 3809, 2150, 3481, 4938, 1904, 2161, 480, 3481, 3579, 2277, 4822, 269, 4731, 3046, 1976, 2091, 3272, 2603, 1445, 3925, 804, 1814, 2002, 4626, 3094, 214, 1701, 269, 2968, 3106, 1695, 3751, 4840, 2147, 3109, 2138, 1336, 3876, 2309, 4732, 1279, 642, 3871, 1703, 3277, 1286, 3622, 4923, 4923, 3788, 2138, 1272, 4545, 2230, 214, 3463, 3481, 4580, 3521, 2073, 1925, 4939, 3878, 419, 386, 3239, 386, 3635, 741, 831, 3106, 1069, 753, 4859, 3239, 3239, 3239, 386, 4643, 3468, 1186, 4768, 2793, 1953, 1666, 3469, 3579, 2457, 2440, 2130, 735, 2582, 4112, 3481, 1577, 591, 3595, 4643, 625, 1073, 4561, 2698, 4198, 844, 4182, 4436, 1878, 3560, 4760, 2139, 741, 3928, 3931, 349, 3848, 3504, 2029, 1255, 3169, 804, 496, 786, 3579, 169, 3618, 4759, 684, 475, 2792, 3643, 4794, 1203, 4794, 48, 3848, 2285, 4556, 3880, 792, 451, 2959, 2137, 2137, 4517, 4859, 2137, 3239, 3239, 3481, 741, 52, 2150, 3880, 2073, 753, 211, 1791, 4938, 3882, 3878, 3879, 3878, 3879, 3878, 3878, 3879, 3481, 2147, 1456, 3878, 3878, 3902, 2772, 1577, 2839, 2147, 3878, 2615, 3250, 4759, 1724, 2137, 4707, 797, 2363, 3239, 4749, 390, 3891, 2560, 1255, 3059, 3059, 1381, 38, 2215, 1004, 4070, 2074, 1024, 2214, 4939, 3135, 2137, 3059, 3702, 2457, 3751, 1255, 3735, 2307, 3932, 908, 3135, 618, 3932, 451, 390, 301, 13, 2612, 1577, 66, 2899, 1231, 1358, 3966, 3877, 879, 1632, 2882, 1740, 1137, 3579, 2539, 4027, 3879, 1904, 1666, 398, 4112, 4531, 2429, 4443, 226, 4776, 985, 1445, 1186, 2206, 1224, 4939, 2217, 4162, 3482, 386, 3059, 3875, 3594, 807, 3788, 105, 4092, 3796, 3579, 4027, 2184, 1188, 4643, 1002, 2545, 4280, 4572, 269, 2276, 228, 1666, 1470, 3579, 214, 3222, 3166, 386, 1013, 4304, 322, 1934, 301, 104, 4090, 451, 4502, 832, 300, 3365, 211, 3626, 541, 1098, 2251, 958, 4185, 2137, 2143, 2831, 3579, 3625, 183, 2881, 3579, 2137, 4531, 491, 2888, 4938, 2137, 2931, 453, 4830, 4938, 269, 3054, 2973, 4763, 4932, 3379, 2185, 3571, 2882, 3653, 2062, 3957, 1255, 3066, 2206, 3168, 3635, 591, 4580, 3871, 2416, 3109, 4613, 2557, 1255, 2939, 910, 3603, 2945, 1423, 2793, 2627, 3168, 4119, 2753, 2146, 4914, 3481, 3957, 2828, 3269, 771, 4198, 1255, 1862, 2839, 3584, 390, 786, 10, 117, 4545, 3284, 2434, 4005, 2731, 2138, 453, 453, 4371, 2963, 4272, 591, 1540, 832, 1255, 1861, 4859, 838, 2806, 3751, 2736, 2784, 4135, 1118, 1255, 3481, 3723, 2215, 618, 2105, 3862, 2560, 1885, 1492, 735, 2753, 592, 3526, 4499, 2907, 3036, 3777, 1255, 2236, 2835, 2137, 618, 2075, 3481, 1925, 3738, 674, 390, 464, 3190, 4302, 2374, 2931, 4794, 4135, 2029, 4130, 73, 1783, 4272, 593, 1235, 1577, 2812, 1200, 450, 1187, 3393, 1105, 4932, 4545, 2769, 844, 1255, 2150, 214, 4531, 4499, 793, 1396, 2137, 1177, 2137, 4179, 2137, 4355, 4759, 2147, 1187, 2137, 2137, 2769, 4179, 3269, 3727, 4455, 2137, 3957, 1218, 2705, 3958, 3059, 3751, 3579, 832, 4213, 4078, 1223, 5074, 1047, 4707, 4640, 390, 3876, 203, 183, 2432, 3054, 4512, 2147, 211, 3723, 741, 4031, 1724, 3880, 4759, 300, 3782, 64, 3088, 2394, 183, 3526, 4928, 2769, 3244, 1487, 4181, 2139, 4182, 1525, 4543, 484, 2997, 3581, 133, 1724, 2447, 2987, 3135, 1255, 1081, 2148, 3281, 3145, 4626, 4073, 2137, 4560, 359, 2361, 1223, 4763, 269, 4297, 1255, 3635, 838, 4078, 1438, 1687, 2839, 691, 3066, 481, 2429, 2963, 2277, 1724, 1255, 2137, 1255, 1740, 1763, 2147, 1741, 771, 107, 3239, 50, 2834, 826, 1577, 1255, 1489, 541, 3059, 3879, 2137, 618, 2137, 3579, 3625, 2138, 3481, 2137, 2369, 330, 2469, 2151, 2074, 3266, 2146, 1572, 2363, 2138, 3569, 3321, 303, 1696, 2307, 2035, 116, 4076, 4923, 2150, 4034, 4531, 2405, 451, 453, 49, 4859, 303, 1617, 2609, 2849, 771, 1128, 2769, 2826, 4869, 3057, 541, 4938, 2957, 3266, 541, 4297, 3659, 3620, 1591, 1695, 2490, 2073, 4145, 4530, 2882, 2130, 541, 2799, 2560, 3876, 3277, 3880, 3166, 2276, 1255, 1172, 2530, 4660, 1925, 2293, 4637, 3106, 2953, 738, 4759, 2137, 3204, 3106, 4179, 2137, 5148, 2137, 826, 386, 1636, 156, 4272, 491, 2437, 3912, 2603, 1277, 2137, 2445, 898, 156, 3931, 1918, 1724, 900, 2445, 1819, 4626, 2834, 2705, 4355, 3883, 3521, 2137, 1545, 2696, 243, 3270, 4272, 2948, 4018, 1224, 832, 4728, 1525, 3723, 2138, 2150, 1904, 1255, 3066, 3751, 4388, 4179, 2822, 939, 3046, 593, 3204, 1999, 2146, 4146, 3178, 3595, 881, 3821, 4626, 302, 2138, 2793, 3876, 3239, 3959, 2147, 3751, 2247, 4237, 290, 385, 4172, 3780, 335, 4073, 305, 4187, 2832, 3431, 448, 100, 303, 3772, 353, 1255, 1179, 3168, 2451, 786, 591, 2137, 3066, 2363, 4660, 4278, 3468, 844, 212, 1586, 182, 910, 2889, 4146, 1663, 3625, 2147, 491, 1577, 1700, 2889, 3625, 3584, 2437, 3109, 1227, 1918, 3178, 832, 4496, 444, 300, 844, 3284, 2215, 2481, 1463, 4293, 1783, 3848, 2147, 2035, 183, 2144, 4210, 2439, 2875, 2363, 1522, 3625, 4112, 2151, 3878, 3892, 2882, 832, 2543, 2957, 3853, 2893, 3187, 3109, 3239, 1740, 4618, 2137, 4391, 664, 3861, 4297, 2406, 156, 1747, 1072, 3932, 4542, 1925, 453, 3881, 618, 2138, 2445, 1370, 3482, 4776, 386, 4859, 1492, 3852, 4928, 741, 2150, 67, 3816, 3205, 2037, 103, 2428, 2533, 2154, 4034, 4540, 2277, 158, 386, 1703, 1814, 4185, 2784, 386, 3252, 1644, 2482, 4660, 2461, 4809, 2147, 1120, 3166, 4938, 2183, 4873, 3239, 3573, 3128, 1255, 4297, 2550, 2190, 211, 4906, 3066, 2140, 2784, 2359, 23, 3135, 117, 514, 1700, 910, 1282, 4939, 2401, 3566, 3625, 3957, 3579, 607, 371, 1255, 2839, 1476, 4355, 3723, 300, 3059, 2137, 4650, 2835, 3204, 451, 894, 1203, 2784, 1255, 4179, 2931, 1925, 541, 4219, 453, 2445, 2147, 3481, 832, 2882, 4869, 3306, 1157, 2137, 2151, 4626, 1763, 4571, 832, 3482, 2881, 3966, 4135, 4765, 214, 2148, 3382, 4869, 1255, 4759, 1120, 40, 4530, 2893, 3585, 2812, 3526, 2140, 4179, 2146, 4436, 269, 1553, 1591, 3466, 609, 159, 844, 4300, 4858, 2147, 1255, 4923, 1470, 280, 609, 2603, 5039, 1915, 3635, 445, 574, 303, 1156, 1420, 3526, 3659, 2215, 2150, 2439, 269, 202, 2753, 908, 3054, 386, 2864, 1711, 2490, 1254, 2445, 3877, 38, 2832, 1854, 2888, 2772, 3378, 2401, 510, 4795, 743, 908, 541, 791, 3054, 790, 3892, 1047, 3012, 2964, 3869, 1207, 2147, 3884, 541, 2442, 3059, 3858, 4599, 1724, 831, 380, 3452, 3723, 903, 137, 4660, 4731, 3879, 3304, 609, 2215, 2147, 3481, 1791, 1767, 790, 4626, 4939, 2138, 3853, 386, 211, 3625, 3723, 1425, 3723, 879, 4773, 3059, 2138, 4939, 1177, 3109, 3861, 3879, 2137, 1695, 342, 3239, 3109, 1740, 3059, 1711, 2067, 3751, 541, 1577, 4531, 4531, 4798, 4803, 4799, 4798, 4798, 4798, 4798, 4797, 4798, 3222, 3493, 3234, 1445, 2903, 208, 4749, 4139, 3275, 4162, 444, 2698, 2174, 3106, 2761, 3879, 3481, 3878, 1118, 1531, 3557, 2029, 3239, 2401, 2147, 3205, 4297, 2392, 2137, 214, 3579, 105, 4939, 491, 592, 4018, 804, 3884, 3059, 2138, 3635, 711, 540, 3878, 386, 3625, 691, 2147, 2137, 1658, 4759, 3709, 4237, 1695, 2138, 1492, 3781, 4129, 3885, 1445, 4381, 3046, 1027, 3109, 211, 242, 3878, 4499, 36, 3579, 3860, 386, 451, 3059, 1539, 4113, 3885, 364, 814, 2531, 4031, 34, 214, 1425, 179, 2333, 864, 2931, 1255, 4153, 1525, 3865, 2931, 5004, 1195, 4347, 1680, 4660, 4671, 3210, 1917, 461, 3621, 2137, 3852, 1525, 3536, 2073, 583, 4939, 4229, 1763, 4557, 3605, 391, 3635, 1525, 2153, 2150, 2147, 1241, 3168, 2401, 1492, 3239, 3059, 3059, 2147, 4185, 3528, 2828, 1791, 2147, 2150, 211, 2137, 1999, 1587, 3751, 3302, 2662, 2091, 141, 1428, 3579, 4219, 2440, 4923, 2575, 4359, 1463, 3796, 1838, 2561, 3, 3667, 2772, 1603, 4773, 642, 3156, 2810, 4923, 3861, 549, 2445, 451, 1277, 438, 3579, 1603, 886, 1190, 3618, 4003, 2488, 4859, 1255, 1456, 4914, 764, 1420, 1586, 4090, 390, 1255, 1930, 4859, 1724, 2401, 1990, 3204, 641, 3579, 3211, 4551, 1724, 314, 1390, 583, 642, 391, 4980, 1603, 4520, 4181, 4703, 2138, 3777, 3891, 804, 1224, 3560, 3120, 4923, 4932, 20, 4939, 2167, 4708, 1983, 3306, 2893, 2147, 47, 2958, 2830, 4765, 4929, 1887, 276, 2445, 928, 2828, 316, 4637, 3598, 2323, 844, 1747, 2379, 1347, 4529, 45, 21, 1604, 3947, 1293, 3871, 782, 374, 2952, 2145, 3204, 3563, 4795, 1190, 1644, 2893, 3266, 2068, 1992, 1159, 3054, 1277, 1538, 3579, 3418, 3853, 4200, 2119, 2390, 3956, 359, 2744, 1745, 105, 4648, 4523, 4176, 642, 4932, 2067, 363, 2761, 1470, 4548, 80, 2270, 1010, 2027, 972, 2957, 117, 3949, 1692, 2696, 2128, 2998, 642, 479, 2840, 1276, 3707, 2166, 882, 4859, 49, 411, 1196, 1190, 531, 2161, 1611, 2401, 4765, 2479, 3269, 491, 2462, 5111, 599, 2118, 4970, 2038, 1251, 4904, 3579, 314, 771, 4031, 4859, 2888, 1542, 4469, 959, 549, 74, 4237, 1380, 2293, 1396, 3035, 802, 549, 3723, 3304, 1753, 592, 3239]\n"
     ]
    }
   ],
   "source": [
    "import numpy as np\n",
    "from scipy.spatial.distance import cdist\n",
    "\n",
    "# 假设我们有一个 500*100 的矩阵\n",
    "matrix = adata_rna.X.T  # 示例数据\n",
    "\n",
    "# 计算每个向量与其他向量的余弦距离\n",
    "distance_matrix = cdist(matrix, matrix, metric='cosine')\n",
    "\n",
    "# 将对角线（即每个向量到自己的距离）设置为无穷大，以排除自己\n",
    "np.fill_diagonal(distance_matrix, np.inf)\n",
    "\n",
    "# 找到每个向量最近的其他向量的索引\n",
    "nearest_indices = np.argmin(distance_matrix, axis=1)\n",
    "\n",
    "# 将结果转换为 list\n",
    "nearest_indices_list = nearest_indices.tolist()\n",
    "\n",
    "print(nearest_indices_list)\n"
   ]
  },
  {
   "cell_type": "code",
   "execution_count": 14,
   "metadata": {},
   "outputs": [
    {
     "data": {
      "text/plain": [
       "5155"
      ]
     },
     "execution_count": 14,
     "metadata": {},
     "output_type": "execute_result"
    }
   ],
   "source": [
    "len(nearest_indices_list)"
   ]
  },
  {
   "cell_type": "code",
   "execution_count": 13,
   "metadata": {},
   "outputs": [
    {
     "data": {
      "text/plain": [
       "array([[0.00000000e+00, 8.70379673e-01, 6.72934804e-01, ...,\n",
       "        9.58046734e-01, 8.41414129e-01, 7.68164595e-01],\n",
       "       [8.70379673e-01, 0.00000000e+00, 8.64498517e-01, ...,\n",
       "        1.00000000e+00, 9.14451413e-01, 8.87232965e-01],\n",
       "       [6.72934804e-01, 8.64498517e-01, 0.00000000e+00, ...,\n",
       "        9.12601185e-01, 6.50920434e-01, 5.15319435e-01],\n",
       "       ...,\n",
       "       [9.58046734e-01, 1.00000000e+00, 9.12601185e-01, ...,\n",
       "        0.00000000e+00, 1.00000000e+00, 8.98259869e-01],\n",
       "       [8.41414129e-01, 9.14451413e-01, 6.50920434e-01, ...,\n",
       "        1.00000000e+00, 0.00000000e+00, 7.85272243e-01],\n",
       "       [7.68164595e-01, 8.87232965e-01, 5.15319435e-01, ...,\n",
       "        8.98259869e-01, 7.85272243e-01, 1.11022302e-16]])"
      ]
     },
     "execution_count": 13,
     "metadata": {},
     "output_type": "execute_result"
    }
   ],
   "source": [
    "cdist(matrix, matrix, metric='cosine')"
   ]
  },
  {
   "cell_type": "code",
   "execution_count": null,
   "metadata": {},
   "outputs": [],
   "source": []
  },
  {
   "cell_type": "code",
   "execution_count": null,
   "metadata": {},
   "outputs": [],
   "source": []
  },
  {
   "cell_type": "code",
   "execution_count": null,
   "metadata": {},
   "outputs": [],
   "source": []
  },
  {
   "cell_type": "code",
   "execution_count": null,
   "metadata": {},
   "outputs": [],
   "source": []
  }
 ],
 "metadata": {
  "kernelspec": {
   "display_name": "scGPT",
   "language": "python",
   "name": "python3"
  },
  "language_info": {
   "codemirror_mode": {
    "name": "ipython",
    "version": 3
   },
   "file_extension": ".py",
   "mimetype": "text/x-python",
   "name": "python",
   "nbconvert_exporter": "python",
   "pygments_lexer": "ipython3",
   "version": "3.9.19"
  }
 },
 "nbformat": 4,
 "nbformat_minor": 2
}
