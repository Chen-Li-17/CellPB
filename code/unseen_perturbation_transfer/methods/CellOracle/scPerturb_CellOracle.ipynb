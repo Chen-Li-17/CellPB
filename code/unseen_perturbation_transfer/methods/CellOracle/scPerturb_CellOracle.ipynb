{
 "cells": [
  {
   "cell_type": "markdown",
   "metadata": {},
   "source": [
    "env: scGPT"
   ]
  },
  {
   "cell_type": "markdown",
   "metadata": {},
   "source": [
    "本代码用来在scPerturb数据上跑CellOracle"
   ]
  },
  {
   "cell_type": "code",
   "execution_count": 2,
   "metadata": {},
   "outputs": [],
   "source": [
    "import scanpy as sc\n",
    "import pandas as pd\n",
    "import numpy as np\n",
    "from glob import glob\n",
    "import os\n",
    "import matplotlib.pyplot as plt\n",
    "from tqdm import tqdm\n",
    "import torch\n",
    "from torch_geometric.data import Data\n",
    "from torch_geometric.data import DataLoader\n",
    "\n",
    "import pickle\n",
    "import sys\n",
    "import requests\n",
    "\n",
    "from types import MethodType\n",
    "import importlib\n",
    "from scperturb import *\n",
    "\n",
    "import anndata as ad"
   ]
  },
  {
   "cell_type": "code",
   "execution_count": 3,
   "metadata": {},
   "outputs": [
    {
     "data": {
      "text/plain": [
       "'0.18.0'"
      ]
     },
     "execution_count": 3,
     "metadata": {},
     "output_type": "execute_result"
    }
   ],
   "source": [
    "import os\n",
    "import sys\n",
    "\n",
    "import matplotlib.pyplot as plt\n",
    "import numpy as np\n",
    "import pandas as pd\n",
    "import scanpy as sc\n",
    "import seaborn as sns\n",
    "\n",
    "import celloracle as co\n",
    "co.__version__\n"
   ]
  },
  {
   "cell_type": "code",
   "execution_count": 4,
   "metadata": {},
   "outputs": [],
   "source": [
    "# %matplotlib inline"
   ]
  },
  {
   "cell_type": "code",
   "execution_count": 5,
   "metadata": {},
   "outputs": [],
   "source": [
    "sys.path.append(\"/data1/lichen/code/single_cell_perturbation/scPerturb/Byte_Pert_Data/\")"
   ]
  },
  {
   "cell_type": "code",
   "execution_count": 6,
   "metadata": {},
   "outputs": [],
   "source": [
    "import v1\n",
    "from v1.utils import *\n",
    "from v1.dataloader import *"
   ]
  },
  {
   "cell_type": "code",
   "execution_count": 7,
   "metadata": {},
   "outputs": [
    {
     "data": {
      "text/plain": [
       "<module 'v1.dataloader' from '/data1/lichen/code/single_cell_perturbation/scPerturb/Byte_Pert_Data/v1/dataloader.py'>"
      ]
     },
     "execution_count": 7,
     "metadata": {},
     "output_type": "execute_result"
    }
   ],
   "source": [
    "importlib.reload(v1)\n",
    "importlib.reload(v1.utils)\n",
    "importlib.reload(v1.dataloader)"
   ]
  },
  {
   "cell_type": "code",
   "execution_count": 8,
   "metadata": {},
   "outputs": [],
   "source": [
    "pd.set_option('display.max_columns', 60)"
   ]
  },
  {
   "cell_type": "markdown",
   "metadata": {},
   "source": [
    "# 所有gene pert的数据metadata"
   ]
  },
  {
   "cell_type": "code",
   "execution_count": 9,
   "metadata": {},
   "outputs": [],
   "source": [
    "gene_pert_dict = \\\n",
    "{'AdamsonWeissman2016_GSM2406675_10X001': {'perturbation_type': 'CRISPRi',\n",
    "  'perturbation_state': 1,\n",
    "  'multi_perturbation': 0,\n",
    "  'multi_sgRNA': 0},\n",
    " 'AdamsonWeissman2016_GSM2406677_10X005': {'perturbation_type': 'CRISPRi',\n",
    "  'perturbation_state': 1,\n",
    "  'multi_perturbation': 1,\n",
    "  'multi_sgRNA': 0},\n",
    " 'AdamsonWeissman2016_GSM2406681_10X010': {'perturbation_type': 'CRISPRi',\n",
    "  'perturbation_state': 1,\n",
    "  'multi_perturbation': 0,\n",
    "  'multi_sgRNA': 0},\n",
    "#  'DatlingerBock2017': {'perturbation_type': 'CRISPR-cas9',\n",
    "#   'perturbation_state': 1,\n",
    "#   'multi_perturbation': 0,\n",
    "#   'multi_sgRNA': 1},\n",
    " 'DatlingerBock2021': {'perturbation_type': 'CRISPR-cas9',\n",
    "  'perturbation_state': 1,\n",
    "  'multi_perturbation': 0,\n",
    "  'multi_sgRNA': 1},\n",
    " 'DixitRegev2016': {'perturbation_type': 'CRISPR-cas9',\n",
    "  'perturbation_state': 1,\n",
    "  'multi_perturbation': 0,\n",
    "  'multi_sgRNA': 1},\n",
    "#  'FrangiehIzar2021_RNA': {'perturbation_type': 'CRISPR-cas9', # 唯一一个multi celltype，先留着\n",
    "#   'perturbation_state': 1,\n",
    "#   'multi_perturbation': 0,\n",
    "#   'multi_sgRNA': 1},\n",
    " \n",
    "#  'LaraAstiasoHuntly2023_exvivo': {'perturbation_type': 'CRISPR-cas9',\n",
    "#   'perturbation_state': 3,\n",
    "#   'multi_perturbation': 0,\n",
    "#   'multi_sgRNA': 1},\n",
    "#  'LaraAstiasoHuntly2023_invivo': {'perturbation_type': 'CRISPR-cas9',\n",
    "#   'perturbation_state': 3,\n",
    "#   'multi_perturbation': 0,\n",
    "#   'multi_sgRNA': 1},\n",
    "#  'LaraAstiasoHuntly2023_leukemia': {'perturbation_type': 'CRISPR-cas9',\n",
    "#   'perturbation_state': 3,\n",
    "#   'multi_perturbation': 0,\n",
    "#   'multi_sgRNA': 1},\n",
    "#  'LiangWang2023': {'perturbation_type': 'CRISPR-cas9',\n",
    "#   'perturbation_state': 3,\n",
    "#   'multi_perturbation': 1,\n",
    "#   'multi_sgRNA': 1},\n",
    "#  'McFarlandTsherniak2020': {'perturbation_type': 'CRISPR-cas9',\n",
    "#   'perturbation_state': 3,\n",
    "#   'multi_perturbation': 0,\n",
    "#   'multi_sgRNA': 0},\n",
    " 'NormanWeissman2019_filtered': {'perturbation_type': 'CRISPRa',\n",
    "  'perturbation_state': 1,\n",
    "  'multi_perturbation': 1,\n",
    "  'multi_sgRNA': 0},\n",
    " 'PapalexiSatija2021_eccite_RNA': {'perturbation_type': 'CRISPR-cas9',\n",
    "  'perturbation_state': 1,\n",
    "  'multi_perturbation': 0,\n",
    "  'multi_sgRNA': 1},\n",
    " 'PapalexiSatija2021_eccite_arrayed_RNA': {'perturbation_type': 'CRISPR-cas9',\n",
    "  'perturbation_state': 1,\n",
    "  'multi_perturbation': 0,\n",
    "  'multi_sgRNA': 1},\n",
    " 'ReplogleWeissman2022_K562_essential': {'perturbation_type': 'CRISPRi',\n",
    "  'perturbation_state': 1,\n",
    "  'multi_perturbation': 0,\n",
    "  'multi_sgRNA': 1},\n",
    "#  'ReplogleWeissman2022_K562_gwps': {'perturbation_type': 'CRISPRi', # pert太多了，先不测试\n",
    "#   'perturbation_state': 1,\n",
    "#   'multi_perturbation': 0,\n",
    "#   'multi_sgRNA': 1},\n",
    " 'ReplogleWeissman2022_rpe1': {'perturbation_type': 'CRISPRi',\n",
    "  'perturbation_state': 1,\n",
    "  'multi_perturbation': 0,\n",
    "  'multi_sgRNA': 1},\n",
    "#  'SantinhaPlatt2023': {'perturbation_type': 'CRISPR-cas9',\n",
    "#   'perturbation_state': 3,\n",
    "#   'multi_perturbation': 0,\n",
    "#   'multi_sgRNA': 0},\n",
    " 'ShifrutMarson2018': {'perturbation_type': 'CRISPR-cas9',\n",
    "  'perturbation_state': 1,\n",
    "  'multi_perturbation': 1,\n",
    "  'multi_sgRNA': 1},\n",
    " 'SunshineHein2023': {'perturbation_type': 'CRISPR-cas9',\n",
    "  'perturbation_state': 1,\n",
    "  'multi_perturbation': 1,\n",
    "  'multi_sgRNA': 1},\n",
    " 'TianKampmann2019_day7neuron': {'perturbation_type': 'CRISPRi',\n",
    "  'perturbation_state': 1,\n",
    "  'multi_perturbation': 1,\n",
    "  'multi_sgRNA': 1},\n",
    " 'TianKampmann2019_iPSC': {'perturbation_type': 'CRISPRi',\n",
    "  'perturbation_state': 1,\n",
    "  'multi_perturbation': 1,\n",
    "  'multi_sgRNA': 1},\n",
    " 'TianKampmann2021_CRISPRa': {'perturbation_type': 'CRISPRa',\n",
    "  'perturbation_state': 1,\n",
    "  'multi_perturbation': 0,\n",
    "  'multi_sgRNA': 1},\n",
    " 'TianKampmann2021_CRISPRi': {'perturbation_type': 'CRISPRi',\n",
    "  'perturbation_state': 1,\n",
    "  'multi_perturbation': 0,\n",
    "  'multi_sgRNA': 1},\n",
    " 'XuCao2023': {'perturbation_type': 'CRISPRi',\n",
    "  'perturbation_state': 1,\n",
    "  'multi_perturbation': 0,\n",
    "  'multi_sgRNA': 1}}\n"
   ]
  },
  {
   "cell_type": "code",
   "execution_count": 10,
   "metadata": {},
   "outputs": [
    {
     "data": {
      "text/plain": [
       "17"
      ]
     },
     "execution_count": 10,
     "metadata": {},
     "output_type": "execute_result"
    }
   ],
   "source": [
    "prefix_list = list(gene_pert_dict.keys())\n",
    "len(prefix_list)"
   ]
  },
  {
   "cell_type": "markdown",
   "metadata": {},
   "source": [
    "# 正式版"
   ]
  },
  {
   "cell_type": "markdown",
   "metadata": {},
   "source": [
    "## 一次性运行所有dataset"
   ]
  },
  {
   "cell_type": "code",
   "execution_count": 16,
   "metadata": {},
   "outputs": [
    {
     "name": "stdout",
     "output_type": "stream",
     "text": [
      "==================== AdamsonWeissman2016_GSM2406675_10X001\n",
      "add condition finished\n",
      "adata.shape is:  (1769, 5001)\n",
      "Loading prebuilt promoter base-GRN. Version: hg19_gimmemotifsv5_fpr2\n",
      "base_GRN.shape:  (37003, 1096)\n",
      "file exists\n"
     ]
    },
    {
     "data": {
      "application/vnd.jupyter.widget-view+json": {
       "model_id": "c86d34e04eb74bd8bdfb71f4b36c5e61",
       "version_major": 2,
       "version_minor": 0
      },
      "text/plain": [
       "  0%|          | 0/1 [00:00<?, ?it/s]"
      ]
     },
     "metadata": {},
     "output_type": "display_data"
    },
    {
     "name": "stdout",
     "output_type": "stream",
     "text": [
      "common_pert num is:  2\n",
      "['DDIT3', 'EP300']\n"
     ]
    },
    {
     "name": "stderr",
     "output_type": "stream",
     "text": [
      "... storing 'perturbation' as categorical\n",
      "... storing 'tissue_type' as categorical\n",
      "... storing 'cell_line' as categorical\n",
      "... storing 'disease' as categorical\n",
      "... storing 'perturbation_type' as categorical\n",
      "... storing 'celltype' as categorical\n",
      "... storing 'organism' as categorical\n",
      "... storing 'perturbation_new' as categorical\n",
      "... storing 'perturbation_type_new' as categorical\n",
      "... storing 'celltype_new' as categorical\n",
      "... storing 'sgRNA_new' as categorical\n",
      "... storing 'perturbation_group' as categorical\n",
      "... storing 'data_split' as categorical\n",
      "... storing 'retain' as categorical\n",
      "... storing 'control_barcode' as categorical\n",
      "... storing 'sgRNA_ID' as categorical\n",
      "... storing 'pert_sgRNA' as categorical\n",
      "... storing 'condition' as categorical\n",
      "... storing 'condition_name' as categorical\n"
     ]
    },
    {
     "name": "stdout",
     "output_type": "stream",
     "text": [
      "5001 genes were found in the adata. Note that Celloracle is intended to use around 1000-3000 genes, so the behavior with this number of genes may differ from what is expected.\n"
     ]
    },
    {
     "name": "stderr",
     "output_type": "stream",
     "text": [
      "... storing 'perturbation' as categorical\n",
      "... storing 'tissue_type' as categorical\n",
      "... storing 'cell_line' as categorical\n",
      "... storing 'disease' as categorical\n",
      "... storing 'perturbation_type' as categorical\n",
      "... storing 'celltype' as categorical\n",
      "... storing 'organism' as categorical\n",
      "... storing 'perturbation_new' as categorical\n",
      "... storing 'perturbation_type_new' as categorical\n",
      "... storing 'celltype_new' as categorical\n",
      "... storing 'sgRNA_new' as categorical\n",
      "... storing 'perturbation_group' as categorical\n",
      "... storing 'data_split' as categorical\n",
      "... storing 'retain' as categorical\n",
      "... storing 'control_barcode' as categorical\n",
      "... storing 'sgRNA_ID' as categorical\n",
      "... storing 'pert_sgRNA' as categorical\n",
      "... storing 'condition' as categorical\n",
      "... storing 'condition_name' as categorical\n"
     ]
    },
    {
     "name": "stdout",
     "output_type": "stream",
     "text": [
      "5001 genes were found in the adata. Note that Celloracle is intended to use around 1000-3000 genes, so the behavior with this number of genes may differ from what is expected.\n",
      "get metrics... ...\n"
     ]
    },
    {
     "name": "stderr",
     "output_type": "stream",
     "text": [
      "  0%|          | 0/2 [00:00<?, ?it/s]/data1/lichen/code/single_cell_perturbation/scPerturb/Byte_Pert_Data/v1/utils.py:720: RuntimeWarning: invalid value encountered in divide\n",
      "  change_ratio = np.abs(pred-truth)/truth\n",
      "/data1/lichen/code/single_cell_perturbation/scPerturb/Byte_Pert_Data/v1/utils.py:720: RuntimeWarning: invalid value encountered in divide\n",
      "  change_ratio = np.abs(pred-truth)/truth\n",
      "/data1/lichen/code/single_cell_perturbation/scPerturb/Byte_Pert_Data/v1/utils.py:720: RuntimeWarning: invalid value encountered in divide\n",
      "  change_ratio = np.abs(pred-truth)/truth\n",
      "/data1/lichen/code/single_cell_perturbation/scPerturb/Byte_Pert_Data/v1/utils.py:720: RuntimeWarning: invalid value encountered in divide\n",
      "  change_ratio = np.abs(pred-truth)/truth\n",
      "/data1/lichen/code/single_cell_perturbation/scPerturb/Byte_Pert_Data/v1/utils.py:720: RuntimeWarning: invalid value encountered in divide\n",
      "  change_ratio = np.abs(pred-truth)/truth\n",
      "/data1/lichen/code/single_cell_perturbation/scPerturb/Byte_Pert_Data/v1/utils.py:720: RuntimeWarning: invalid value encountered in divide\n",
      "  change_ratio = np.abs(pred-truth)/truth\n",
      "/data1/lichen/code/single_cell_perturbation/scPerturb/Byte_Pert_Data/v1/utils.py:720: RuntimeWarning: invalid value encountered in divide\n",
      "  change_ratio = np.abs(pred-truth)/truth\n",
      "/data1/lichen/code/single_cell_perturbation/scPerturb/Byte_Pert_Data/v1/utils.py:720: RuntimeWarning: invalid value encountered in divide\n",
      "  change_ratio = np.abs(pred-truth)/truth\n",
      "/data1/lichen/code/single_cell_perturbation/scPerturb/Byte_Pert_Data/v1/utils.py:720: RuntimeWarning: invalid value encountered in divide\n",
      "  change_ratio = np.abs(pred-truth)/truth\n",
      "/data1/lichen/code/single_cell_perturbation/scPerturb/Byte_Pert_Data/v1/utils.py:720: RuntimeWarning: divide by zero encountered in divide\n",
      "  change_ratio = np.abs(pred-truth)/truth\n",
      "/data1/lichen/code/single_cell_perturbation/scPerturb/Byte_Pert_Data/v1/utils.py:720: RuntimeWarning: invalid value encountered in divide\n",
      "  change_ratio = np.abs(pred-truth)/truth\n",
      " 50%|█████     | 1/2 [00:02<00:02,  2.23s/it]/data1/lichen/code/single_cell_perturbation/scPerturb/Byte_Pert_Data/v1/utils.py:720: RuntimeWarning: invalid value encountered in divide\n",
      "  change_ratio = np.abs(pred-truth)/truth\n",
      "/data1/lichen/code/single_cell_perturbation/scPerturb/Byte_Pert_Data/v1/utils.py:720: RuntimeWarning: invalid value encountered in divide\n",
      "  change_ratio = np.abs(pred-truth)/truth\n",
      "/data1/lichen/code/single_cell_perturbation/scPerturb/Byte_Pert_Data/v1/utils.py:720: RuntimeWarning: invalid value encountered in divide\n",
      "  change_ratio = np.abs(pred-truth)/truth\n",
      "/data1/lichen/code/single_cell_perturbation/scPerturb/Byte_Pert_Data/v1/utils.py:720: RuntimeWarning: invalid value encountered in divide\n",
      "  change_ratio = np.abs(pred-truth)/truth\n",
      "/data1/lichen/code/single_cell_perturbation/scPerturb/Byte_Pert_Data/v1/utils.py:720: RuntimeWarning: invalid value encountered in divide\n",
      "  change_ratio = np.abs(pred-truth)/truth\n",
      "/data1/lichen/code/single_cell_perturbation/scPerturb/Byte_Pert_Data/v1/utils.py:720: RuntimeWarning: invalid value encountered in divide\n",
      "  change_ratio = np.abs(pred-truth)/truth\n",
      "/data1/lichen/code/single_cell_perturbation/scPerturb/Byte_Pert_Data/v1/utils.py:720: RuntimeWarning: divide by zero encountered in divide\n",
      "  change_ratio = np.abs(pred-truth)/truth\n",
      "/data1/lichen/code/single_cell_perturbation/scPerturb/Byte_Pert_Data/v1/utils.py:720: RuntimeWarning: invalid value encountered in divide\n",
      "  change_ratio = np.abs(pred-truth)/truth\n",
      "100%|██████████| 2/2 [00:05<00:00,  2.60s/it]\n"
     ]
    },
    {
     "name": "stdout",
     "output_type": "stream",
     "text": [
      "==================== AdamsonWeissman2016_GSM2406677_10X005\n",
      "add condition finished\n",
      "adata.shape is:  (3365, 5000)\n",
      "Loading prebuilt promoter base-GRN. Version: hg19_gimmemotifsv5_fpr2\n",
      "base_GRN.shape:  (37003, 1096)\n",
      "Cell number is :3365\n",
      "Metadata columns : ['perturbation', 'read count', 'UMI count', 'tissue_type', 'cell_line', 'cancer', 'disease', 'perturbation_type', 'celltype', 'organism', 'ncounts', 'ngenes', 'percent_mito', 'percent_ribo', 'nperts', 'perturbation_new', 'perturbation_type_new', 'nperts_new', 'celltype_new', 'sgRNA_new', 'perturbation_group', 'data_split', 'retain', 'n_genes', 'control_barcode', 'sgRNA_ID', 'pert_sgRNA', 'condition', 'condition_name']\n",
      "Dimensional reduction:  ['X_pca', 'X_umap']\n",
      "5000 genes were found in the adata. Note that Celloracle is intended to use around 1000-3000 genes, so the behavior with this number of genes may differ from what is expected.\n"
     ]
    },
    {
     "name": "stderr",
     "output_type": "stream",
     "text": [
      "... storing 'perturbation' as categorical\n",
      "... storing 'tissue_type' as categorical\n",
      "... storing 'cell_line' as categorical\n",
      "... storing 'disease' as categorical\n",
      "... storing 'perturbation_type' as categorical\n",
      "... storing 'celltype' as categorical\n",
      "... storing 'organism' as categorical\n",
      "... storing 'perturbation_new' as categorical\n",
      "... storing 'perturbation_type_new' as categorical\n",
      "... storing 'celltype_new' as categorical\n",
      "... storing 'sgRNA_new' as categorical\n",
      "... storing 'perturbation_group' as categorical\n",
      "... storing 'data_split' as categorical\n",
      "... storing 'retain' as categorical\n",
      "... storing 'control_barcode' as categorical\n",
      "... storing 'sgRNA_ID' as categorical\n",
      "... storing 'pert_sgRNA' as categorical\n",
      "... storing 'condition' as categorical\n",
      "... storing 'condition_name' as categorical\n"
     ]
    },
    {
     "name": "stdout",
     "output_type": "stream",
     "text": [
      "21\n",
      "cell number is :3365\n",
      "Auto-selected k is :84\n"
     ]
    },
    {
     "data": {
      "application/vnd.jupyter.widget-view+json": {
       "model_id": "06a363c33f8d47d9ab4a6edaf9aca403",
       "version_major": 2,
       "version_minor": 0
      },
      "text/plain": [
       "  0%|          | 0/1 [00:00<?, ?it/s]"
      ]
     },
     "metadata": {},
     "output_type": "display_data"
    },
    {
     "name": "stdout",
     "output_type": "stream",
     "text": [
      "Inferring GRN for lymphoblasts...\n"
     ]
    },
    {
     "data": {
      "application/vnd.jupyter.widget-view+json": {
       "model_id": "bc326b67c856487eb51f39fdc92417e1",
       "version_major": 2,
       "version_minor": 0
      },
      "text/plain": [
       "  0%|          | 0/3655 [00:00<?, ?it/s]"
      ]
     },
     "metadata": {},
     "output_type": "display_data"
    },
    {
     "data": {
      "application/vnd.jupyter.widget-view+json": {
       "model_id": "bae26d8eb7964af1bcc9af7087199e27",
       "version_major": 2,
       "version_minor": 0
      },
      "text/plain": [
       "  0%|          | 0/1 [00:00<?, ?it/s]"
      ]
     },
     "metadata": {},
     "output_type": "display_data"
    },
    {
     "name": "stdout",
     "output_type": "stream",
     "text": [
      "common_pert num is:  0\n",
      "[]\n",
      "==================== AdamsonWeissman2016_GSM2406681_10X010\n",
      "add condition finished\n",
      "adata.shape is:  (7293, 5065)\n",
      "Loading prebuilt promoter base-GRN. Version: hg19_gimmemotifsv5_fpr2\n",
      "base_GRN.shape:  (37003, 1096)\n",
      "Cell number is :7293\n",
      "Metadata columns : ['perturbation', 'read count', 'UMI count', 'tissue_type', 'cell_line', 'cancer', 'disease', 'perturbation_type', 'celltype', 'organism', 'ncounts', 'ngenes', 'percent_mito', 'percent_ribo', 'nperts', 'perturbation_new', 'perturbation_type_new', 'nperts_new', 'celltype_new', 'sgRNA_new', 'perturbation_group', 'data_split', 'retain', 'n_genes', 'control_barcode', 'sgRNA_ID', 'pert_sgRNA', 'condition', 'condition_name']\n",
      "Dimensional reduction:  ['X_pca', 'X_umap']\n",
      "5065 genes were found in the adata. Note that Celloracle is intended to use around 1000-3000 genes, so the behavior with this number of genes may differ from what is expected.\n"
     ]
    },
    {
     "name": "stderr",
     "output_type": "stream",
     "text": [
      "... storing 'perturbation' as categorical\n",
      "... storing 'tissue_type' as categorical\n",
      "... storing 'cell_line' as categorical\n",
      "... storing 'disease' as categorical\n",
      "... storing 'perturbation_type' as categorical\n",
      "... storing 'celltype' as categorical\n",
      "... storing 'organism' as categorical\n",
      "... storing 'perturbation_new' as categorical\n",
      "... storing 'perturbation_type_new' as categorical\n",
      "... storing 'celltype_new' as categorical\n",
      "... storing 'sgRNA_new' as categorical\n",
      "... storing 'perturbation_group' as categorical\n",
      "... storing 'data_split' as categorical\n",
      "... storing 'retain' as categorical\n",
      "... storing 'control_barcode' as categorical\n",
      "... storing 'sgRNA_ID' as categorical\n",
      "... storing 'pert_sgRNA' as categorical\n",
      "... storing 'condition' as categorical\n",
      "... storing 'condition_name' as categorical\n"
     ]
    },
    {
     "name": "stdout",
     "output_type": "stream",
     "text": [
      "20\n",
      "cell number is :7293\n",
      "Auto-selected k is :182\n"
     ]
    },
    {
     "data": {
      "application/vnd.jupyter.widget-view+json": {
       "model_id": "4a7a6705cf8c49d1b3b5358f18c7df71",
       "version_major": 2,
       "version_minor": 0
      },
      "text/plain": [
       "  0%|          | 0/1 [00:00<?, ?it/s]"
      ]
     },
     "metadata": {},
     "output_type": "display_data"
    },
    {
     "name": "stdout",
     "output_type": "stream",
     "text": [
      "Inferring GRN for lymphoblasts...\n"
     ]
    },
    {
     "data": {
      "application/vnd.jupyter.widget-view+json": {
       "model_id": "c6d9c767506d4f2c80e85d0677bbfe02",
       "version_major": 2,
       "version_minor": 0
      },
      "text/plain": [
       "  0%|          | 0/3657 [00:00<?, ?it/s]"
      ]
     },
     "metadata": {},
     "output_type": "display_data"
    },
    {
     "data": {
      "application/vnd.jupyter.widget-view+json": {
       "model_id": "13b25cc399954572acb1b8741d9cb642",
       "version_major": 2,
       "version_minor": 0
      },
      "text/plain": [
       "  0%|          | 0/1 [00:00<?, ?it/s]"
      ]
     },
     "metadata": {},
     "output_type": "display_data"
    },
    {
     "name": "stdout",
     "output_type": "stream",
     "text": [
      "common_pert num is:  0\n",
      "[]\n",
      "==================== DatlingerBock2021\n",
      "add condition finished\n",
      "adata.shape is:  (635, 5012)\n",
      "Loading prebuilt promoter base-GRN. Version: hg19_gimmemotifsv5_fpr2\n",
      "base_GRN.shape:  (37003, 1096)\n",
      "Cell number is :635\n",
      "Metadata columns : ['sample', 'cell_line', 'perturbation', 'perturbation_2', 'tissue_type', 'cancer', 'celltype', 'disease', 'organism', 'perturbation_type', 'perturbation_type_2', 'ncounts', 'ngenes', 'percent_mito', 'percent_ribo', 'nperts', 'perturbation_new', 'perturbation_type_new', 'nperts_new', 'celltype_new', 'sgRNA_new', 'perturbation_group', 'data_split', 'retain', 'n_genes', 'control_barcode', 'sgRNA_ID', 'pert_sgRNA', 'condition', 'condition_name']\n",
      "Dimensional reduction:  ['X_pca', 'X_umap']\n",
      "5012 genes were found in the adata. Note that Celloracle is intended to use around 1000-3000 genes, so the behavior with this number of genes may differ from what is expected.\n"
     ]
    },
    {
     "name": "stderr",
     "output_type": "stream",
     "text": [
      "... storing 'sample' as categorical\n",
      "... storing 'cell_line' as categorical\n",
      "... storing 'perturbation' as categorical\n",
      "... storing 'perturbation_2' as categorical\n",
      "... storing 'tissue_type' as categorical\n",
      "... storing 'celltype' as categorical\n",
      "... storing 'disease' as categorical\n",
      "... storing 'organism' as categorical\n",
      "... storing 'perturbation_type' as categorical\n",
      "... storing 'perturbation_type_2' as categorical\n",
      "... storing 'perturbation_new' as categorical\n",
      "... storing 'perturbation_type_new' as categorical\n",
      "... storing 'celltype_new' as categorical\n",
      "... storing 'sgRNA_new' as categorical\n",
      "... storing 'perturbation_group' as categorical\n",
      "... storing 'data_split' as categorical\n",
      "... storing 'retain' as categorical\n",
      "... storing 'control_barcode' as categorical\n",
      "... storing 'sgRNA_ID' as categorical\n",
      "... storing 'pert_sgRNA' as categorical\n",
      "... storing 'condition' as categorical\n",
      "... storing 'condition_name' as categorical\n"
     ]
    },
    {
     "name": "stdout",
     "output_type": "stream",
     "text": [
      "154\n",
      "cell number is :635\n",
      "Auto-selected k is :15\n"
     ]
    },
    {
     "data": {
      "application/vnd.jupyter.widget-view+json": {
       "model_id": "18f903e620654af298609861e88e87c8",
       "version_major": 2,
       "version_minor": 0
      },
      "text/plain": [
       "  0%|          | 0/1 [00:00<?, ?it/s]"
      ]
     },
     "metadata": {},
     "output_type": "display_data"
    },
    {
     "name": "stdout",
     "output_type": "stream",
     "text": [
      "Inferring GRN for T cells...\n"
     ]
    },
    {
     "data": {
      "application/vnd.jupyter.widget-view+json": {
       "model_id": "db7adee4cc7e4da398e947b504b04341",
       "version_major": 2,
       "version_minor": 0
      },
      "text/plain": [
       "  0%|          | 0/4358 [00:00<?, ?it/s]"
      ]
     },
     "metadata": {},
     "output_type": "display_data"
    },
    {
     "data": {
      "application/vnd.jupyter.widget-view+json": {
       "model_id": "dd6d0df574144d75a6046affb32831d2",
       "version_major": 2,
       "version_minor": 0
      },
      "text/plain": [
       "  0%|          | 0/1 [00:00<?, ?it/s]"
      ]
     },
     "metadata": {},
     "output_type": "display_data"
    },
    {
     "name": "stdout",
     "output_type": "stream",
     "text": [
      "common_pert num is:  3\n",
      "['JUND', 'NFKB2', 'NR4A1']\n",
      "5012 genes were found in the adata. Note that Celloracle is intended to use around 1000-3000 genes, so the behavior with this number of genes may differ from what is expected.\n"
     ]
    },
    {
     "name": "stderr",
     "output_type": "stream",
     "text": [
      "... storing 'sample' as categorical\n",
      "... storing 'cell_line' as categorical\n",
      "... storing 'perturbation' as categorical\n",
      "... storing 'perturbation_2' as categorical\n",
      "... storing 'tissue_type' as categorical\n",
      "... storing 'celltype' as categorical\n",
      "... storing 'disease' as categorical\n",
      "... storing 'organism' as categorical\n",
      "... storing 'perturbation_type' as categorical\n",
      "... storing 'perturbation_type_2' as categorical\n",
      "... storing 'perturbation_new' as categorical\n",
      "... storing 'perturbation_type_new' as categorical\n",
      "... storing 'celltype_new' as categorical\n",
      "... storing 'sgRNA_new' as categorical\n",
      "... storing 'perturbation_group' as categorical\n",
      "... storing 'data_split' as categorical\n",
      "... storing 'retain' as categorical\n",
      "... storing 'control_barcode' as categorical\n",
      "... storing 'sgRNA_ID' as categorical\n",
      "... storing 'pert_sgRNA' as categorical\n",
      "... storing 'condition' as categorical\n",
      "... storing 'condition_name' as categorical\n"
     ]
    },
    {
     "name": "stdout",
     "output_type": "stream",
     "text": [
      "NFKB2 ctrl expression is 0\n",
      "NFKB2 | T cells is filtered\n",
      "NR4A1 ctrl expression is 0\n",
      "NR4A1 | T cells is filtered\n",
      "get metrics... ...\n"
     ]
    },
    {
     "name": "stderr",
     "output_type": "stream",
     "text": [
      "  0%|          | 0/1 [00:00<?, ?it/s]/data1/lichen/code/single_cell_perturbation/scPerturb/Byte_Pert_Data/v1/utils.py:720: RuntimeWarning: invalid value encountered in divide\n",
      "  change_ratio = np.abs(pred-truth)/truth\n",
      "/data1/lichen/code/single_cell_perturbation/scPerturb/Byte_Pert_Data/v1/utils.py:720: RuntimeWarning: invalid value encountered in divide\n",
      "  change_ratio = np.abs(pred-truth)/truth\n",
      "/data1/lichen/code/single_cell_perturbation/scPerturb/Byte_Pert_Data/v1/utils.py:720: RuntimeWarning: invalid value encountered in divide\n",
      "  change_ratio = np.abs(pred-truth)/truth\n",
      "/data1/lichen/code/single_cell_perturbation/scPerturb/Byte_Pert_Data/v1/utils.py:720: RuntimeWarning: invalid value encountered in divide\n",
      "  change_ratio = np.abs(pred-truth)/truth\n",
      "/data1/lichen/code/single_cell_perturbation/scPerturb/Byte_Pert_Data/v1/utils.py:720: RuntimeWarning: invalid value encountered in divide\n",
      "  change_ratio = np.abs(pred-truth)/truth\n",
      "/data1/lichen/code/single_cell_perturbation/scPerturb/Byte_Pert_Data/v1/utils.py:720: RuntimeWarning: invalid value encountered in divide\n",
      "  change_ratio = np.abs(pred-truth)/truth\n",
      "/data1/lichen/code/single_cell_perturbation/scPerturb/Byte_Pert_Data/v1/utils.py:720: RuntimeWarning: divide by zero encountered in divide\n",
      "  change_ratio = np.abs(pred-truth)/truth\n",
      "/data1/lichen/code/single_cell_perturbation/scPerturb/Byte_Pert_Data/v1/utils.py:720: RuntimeWarning: invalid value encountered in divide\n",
      "  change_ratio = np.abs(pred-truth)/truth\n",
      "100%|██████████| 1/1 [00:02<00:00,  2.56s/it]\n"
     ]
    },
    {
     "name": "stdout",
     "output_type": "stream",
     "text": [
      "==================== DixitRegev2016\n",
      "add condition finished\n",
      "adata.shape is:  (9117, 5007)\n",
      "Loading prebuilt promoter base-GRN. Version: hg19_gimmemotifsv5_fpr2\n",
      "base_GRN.shape:  (37003, 1096)\n",
      "Cell number is :9117\n",
      "Metadata columns : ['perturbation', 'grna_lenient', 'target', 'moi', 'cell_line', 'celltype', 'perturbation_type', 'cancer', 'disease', 'guide_id', 'ncounts', 'ngenes', 'percent_mito', 'percent_ribo', 'nperts', 'perturbation_new', 'perturbation_type_new', 'nperts_new', 'celltype_new', 'sgRNA_new', 'guide_id_new', 'perturbation_new_2', 'perturbation_group', 'data_split', 'retain', 'n_genes', 'control_barcode', 'sgRNA_ID', 'pert_sgRNA', 'condition', 'condition_name']\n",
      "Dimensional reduction:  ['X_pca', 'X_umap']\n",
      "5007 genes were found in the adata. Note that Celloracle is intended to use around 1000-3000 genes, so the behavior with this number of genes may differ from what is expected.\n"
     ]
    },
    {
     "name": "stderr",
     "output_type": "stream",
     "text": [
      "... storing 'perturbation' as categorical\n",
      "... storing 'grna_lenient' as categorical\n",
      "... storing 'target' as categorical\n",
      "... storing 'moi' as categorical\n",
      "... storing 'cell_line' as categorical\n",
      "... storing 'celltype' as categorical\n",
      "... storing 'perturbation_type' as categorical\n",
      "... storing 'disease' as categorical\n",
      "... storing 'guide_id' as categorical\n",
      "... storing 'perturbation_new' as categorical\n",
      "... storing 'perturbation_type_new' as categorical\n",
      "... storing 'celltype_new' as categorical\n",
      "... storing 'sgRNA_new' as categorical\n",
      "... storing 'guide_id_new' as categorical\n",
      "... storing 'perturbation_new_2' as categorical\n",
      "... storing 'perturbation_group' as categorical\n",
      "... storing 'data_split' as categorical\n",
      "... storing 'retain' as categorical\n",
      "... storing 'control_barcode' as categorical\n",
      "... storing 'sgRNA_ID' as categorical\n",
      "... storing 'pert_sgRNA' as categorical\n",
      "... storing 'condition' as categorical\n",
      "... storing 'condition_name' as categorical\n"
     ]
    },
    {
     "name": "stdout",
     "output_type": "stream",
     "text": [
      "22\n",
      "cell number is :9117\n",
      "Auto-selected k is :227\n"
     ]
    },
    {
     "data": {
      "application/vnd.jupyter.widget-view+json": {
       "model_id": "3387af1dde284ac5b1a285b09a364f71",
       "version_major": 2,
       "version_minor": 0
      },
      "text/plain": [
       "  0%|          | 0/1 [00:00<?, ?it/s]"
      ]
     },
     "metadata": {},
     "output_type": "display_data"
    },
    {
     "name": "stdout",
     "output_type": "stream",
     "text": [
      "Inferring GRN for lymphoblasts...\n"
     ]
    },
    {
     "data": {
      "application/vnd.jupyter.widget-view+json": {
       "model_id": "60ccb8ec60c84a858e81d198da60714c",
       "version_major": 2,
       "version_minor": 0
      },
      "text/plain": [
       "  0%|          | 0/3649 [00:00<?, ?it/s]"
      ]
     },
     "metadata": {},
     "output_type": "display_data"
    },
    {
     "data": {
      "application/vnd.jupyter.widget-view+json": {
       "model_id": "855c99bcdb86416280c066ccdd385616",
       "version_major": 2,
       "version_minor": 0
      },
      "text/plain": [
       "  0%|          | 0/1 [00:00<?, ?it/s]"
      ]
     },
     "metadata": {},
     "output_type": "display_data"
    },
    {
     "name": "stdout",
     "output_type": "stream",
     "text": [
      "common_pert num is:  2\n",
      "['NR2C2', 'ELK1']\n",
      "5007 genes were found in the adata. Note that Celloracle is intended to use around 1000-3000 genes, so the behavior with this number of genes may differ from what is expected.\n"
     ]
    },
    {
     "name": "stderr",
     "output_type": "stream",
     "text": [
      "... storing 'perturbation' as categorical\n",
      "... storing 'grna_lenient' as categorical\n",
      "... storing 'target' as categorical\n",
      "... storing 'moi' as categorical\n",
      "... storing 'cell_line' as categorical\n",
      "... storing 'celltype' as categorical\n",
      "... storing 'perturbation_type' as categorical\n",
      "... storing 'disease' as categorical\n",
      "... storing 'guide_id' as categorical\n",
      "... storing 'perturbation_new' as categorical\n",
      "... storing 'perturbation_type_new' as categorical\n",
      "... storing 'celltype_new' as categorical\n",
      "... storing 'sgRNA_new' as categorical\n",
      "... storing 'guide_id_new' as categorical\n",
      "... storing 'perturbation_new_2' as categorical\n",
      "... storing 'perturbation_group' as categorical\n",
      "... storing 'data_split' as categorical\n",
      "... storing 'retain' as categorical\n",
      "... storing 'control_barcode' as categorical\n",
      "... storing 'sgRNA_ID' as categorical\n",
      "... storing 'pert_sgRNA' as categorical\n",
      "... storing 'condition' as categorical\n",
      "... storing 'condition_name' as categorical\n"
     ]
    },
    {
     "name": "stdout",
     "output_type": "stream",
     "text": [
      "5007 genes were found in the adata. Note that Celloracle is intended to use around 1000-3000 genes, so the behavior with this number of genes may differ from what is expected.\n"
     ]
    },
    {
     "name": "stderr",
     "output_type": "stream",
     "text": [
      "... storing 'perturbation' as categorical\n",
      "... storing 'grna_lenient' as categorical\n",
      "... storing 'target' as categorical\n",
      "... storing 'moi' as categorical\n",
      "... storing 'cell_line' as categorical\n",
      "... storing 'celltype' as categorical\n",
      "... storing 'perturbation_type' as categorical\n",
      "... storing 'disease' as categorical\n",
      "... storing 'guide_id' as categorical\n",
      "... storing 'perturbation_new' as categorical\n",
      "... storing 'perturbation_type_new' as categorical\n",
      "... storing 'celltype_new' as categorical\n",
      "... storing 'sgRNA_new' as categorical\n",
      "... storing 'guide_id_new' as categorical\n",
      "... storing 'perturbation_new_2' as categorical\n",
      "... storing 'perturbation_group' as categorical\n",
      "... storing 'data_split' as categorical\n",
      "... storing 'retain' as categorical\n",
      "... storing 'control_barcode' as categorical\n",
      "... storing 'sgRNA_ID' as categorical\n",
      "... storing 'pert_sgRNA' as categorical\n",
      "... storing 'condition' as categorical\n",
      "... storing 'condition_name' as categorical\n"
     ]
    },
    {
     "name": "stdout",
     "output_type": "stream",
     "text": [
      "get metrics... ...\n"
     ]
    },
    {
     "name": "stderr",
     "output_type": "stream",
     "text": [
      "  0%|          | 0/2 [00:00<?, ?it/s]/data1/lichen/code/single_cell_perturbation/scPerturb/Byte_Pert_Data/v1/utils.py:720: RuntimeWarning: invalid value encountered in divide\n",
      "  change_ratio = np.abs(pred-truth)/truth\n",
      "/data1/lichen/code/single_cell_perturbation/scPerturb/Byte_Pert_Data/v1/utils.py:720: RuntimeWarning: invalid value encountered in divide\n",
      "  change_ratio = np.abs(pred-truth)/truth\n",
      "/data1/lichen/code/single_cell_perturbation/scPerturb/Byte_Pert_Data/v1/utils.py:720: RuntimeWarning: invalid value encountered in divide\n",
      "  change_ratio = np.abs(pred-truth)/truth\n",
      "/data1/lichen/code/single_cell_perturbation/scPerturb/Byte_Pert_Data/v1/utils.py:720: RuntimeWarning: invalid value encountered in divide\n",
      "  change_ratio = np.abs(pred-truth)/truth\n",
      "/data1/lichen/code/single_cell_perturbation/scPerturb/Byte_Pert_Data/v1/utils.py:720: RuntimeWarning: invalid value encountered in divide\n",
      "  change_ratio = np.abs(pred-truth)/truth\n",
      "/data1/lichen/code/single_cell_perturbation/scPerturb/Byte_Pert_Data/v1/utils.py:720: RuntimeWarning: invalid value encountered in divide\n",
      "  change_ratio = np.abs(pred-truth)/truth\n",
      "/data1/lichen/code/single_cell_perturbation/scPerturb/Byte_Pert_Data/v1/utils.py:720: RuntimeWarning: invalid value encountered in divide\n",
      "  change_ratio = np.abs(pred-truth)/truth\n",
      "/data1/lichen/code/single_cell_perturbation/scPerturb/Byte_Pert_Data/v1/utils.py:720: RuntimeWarning: divide by zero encountered in divide\n",
      "  change_ratio = np.abs(pred-truth)/truth\n",
      "/data1/lichen/code/single_cell_perturbation/scPerturb/Byte_Pert_Data/v1/utils.py:720: RuntimeWarning: invalid value encountered in divide\n",
      "  change_ratio = np.abs(pred-truth)/truth\n",
      " 50%|█████     | 1/2 [00:26<00:26, 26.75s/it]/data1/lichen/code/single_cell_perturbation/scPerturb/Byte_Pert_Data/v1/utils.py:720: RuntimeWarning: invalid value encountered in divide\n",
      "  change_ratio = np.abs(pred-truth)/truth\n",
      "/data1/lichen/code/single_cell_perturbation/scPerturb/Byte_Pert_Data/v1/utils.py:720: RuntimeWarning: invalid value encountered in divide\n",
      "  change_ratio = np.abs(pred-truth)/truth\n",
      "/data1/lichen/code/single_cell_perturbation/scPerturb/Byte_Pert_Data/v1/utils.py:720: RuntimeWarning: invalid value encountered in divide\n",
      "  change_ratio = np.abs(pred-truth)/truth\n",
      "/data1/lichen/code/single_cell_perturbation/scPerturb/Byte_Pert_Data/v1/utils.py:720: RuntimeWarning: invalid value encountered in divide\n",
      "  change_ratio = np.abs(pred-truth)/truth\n",
      "/data1/lichen/code/single_cell_perturbation/scPerturb/Byte_Pert_Data/v1/utils.py:720: RuntimeWarning: invalid value encountered in divide\n",
      "  change_ratio = np.abs(pred-truth)/truth\n",
      "/data1/lichen/code/single_cell_perturbation/scPerturb/Byte_Pert_Data/v1/utils.py:720: RuntimeWarning: invalid value encountered in divide\n",
      "  change_ratio = np.abs(pred-truth)/truth\n",
      "/data1/lichen/code/single_cell_perturbation/scPerturb/Byte_Pert_Data/v1/utils.py:720: RuntimeWarning: invalid value encountered in divide\n",
      "  change_ratio = np.abs(pred-truth)/truth\n",
      "/data1/lichen/code/single_cell_perturbation/scPerturb/Byte_Pert_Data/v1/utils.py:720: RuntimeWarning: divide by zero encountered in divide\n",
      "  change_ratio = np.abs(pred-truth)/truth\n",
      "/data1/lichen/code/single_cell_perturbation/scPerturb/Byte_Pert_Data/v1/utils.py:720: RuntimeWarning: invalid value encountered in divide\n",
      "  change_ratio = np.abs(pred-truth)/truth\n",
      "100%|██████████| 2/2 [00:53<00:00, 26.83s/it]\n"
     ]
    },
    {
     "name": "stdout",
     "output_type": "stream",
     "text": [
      "==================== NormanWeissman2019_filtered\n",
      "add condition finished\n",
      "adata.shape is:  (11855, 5032)\n",
      "Loading prebuilt promoter base-GRN. Version: hg19_gimmemotifsv5_fpr2\n",
      "base_GRN.shape:  (37003, 1096)\n",
      "Cell number is :10000\n",
      "Metadata columns : ['guide_id', 'read_count', 'UMI_count', 'coverage', 'gemgroup', 'good_coverage', 'number_of_cells', 'tissue_type', 'cell_line', 'cancer', 'disease', 'perturbation_type', 'celltype', 'organism', 'perturbation', 'nperts', 'ngenes', 'ncounts', 'percent_mito', 'percent_ribo', 'perturbation_new', 'perturbation_type_new', 'nperts_new', 'celltype_new', 'sgRNA_new', 'perturbation_group', 'data_split', 'retain', 'n_genes', 'control_barcode', 'sgRNA_ID', 'pert_sgRNA', 'condition', 'condition_name']\n",
      "Dimensional reduction:  ['X_pca', 'X_umap']\n",
      "5032 genes were found in the adata. Note that Celloracle is intended to use around 1000-3000 genes, so the behavior with this number of genes may differ from what is expected.\n"
     ]
    },
    {
     "name": "stderr",
     "output_type": "stream",
     "text": [
      "... storing 'guide_id' as categorical\n",
      "... storing 'tissue_type' as categorical\n",
      "... storing 'cell_line' as categorical\n",
      "... storing 'disease' as categorical\n",
      "... storing 'perturbation_type' as categorical\n",
      "... storing 'celltype' as categorical\n",
      "... storing 'organism' as categorical\n",
      "... storing 'perturbation' as categorical\n",
      "... storing 'perturbation_new' as categorical\n",
      "... storing 'perturbation_type_new' as categorical\n",
      "... storing 'celltype_new' as categorical\n",
      "... storing 'sgRNA_new' as categorical\n",
      "... storing 'perturbation_group' as categorical\n",
      "... storing 'data_split' as categorical\n",
      "... storing 'retain' as categorical\n",
      "... storing 'control_barcode' as categorical\n",
      "... storing 'sgRNA_ID' as categorical\n",
      "... storing 'pert_sgRNA' as categorical\n",
      "... storing 'condition' as categorical\n",
      "... storing 'condition_name' as categorical\n"
     ]
    },
    {
     "name": "stdout",
     "output_type": "stream",
     "text": [
      "24\n",
      "cell number is :10000\n",
      "Auto-selected k is :250\n"
     ]
    },
    {
     "data": {
      "application/vnd.jupyter.widget-view+json": {
       "model_id": "5d3f1e99b99d4cc8b38bf8f0ddf1d275",
       "version_major": 2,
       "version_minor": 0
      },
      "text/plain": [
       "  0%|          | 0/1 [00:00<?, ?it/s]"
      ]
     },
     "metadata": {},
     "output_type": "display_data"
    },
    {
     "name": "stdout",
     "output_type": "stream",
     "text": [
      "Inferring GRN for lymphoblasts...\n"
     ]
    },
    {
     "data": {
      "application/vnd.jupyter.widget-view+json": {
       "model_id": "60036058f15040e79056aa5854c6ab69",
       "version_major": 2,
       "version_minor": 0
      },
      "text/plain": [
       "  0%|          | 0/3542 [00:00<?, ?it/s]"
      ]
     },
     "metadata": {},
     "output_type": "display_data"
    },
    {
     "data": {
      "application/vnd.jupyter.widget-view+json": {
       "model_id": "bf9cfe6617094530851e398ef71e2019",
       "version_major": 2,
       "version_minor": 0
      },
      "text/plain": [
       "  0%|          | 0/1 [00:00<?, ?it/s]"
      ]
     },
     "metadata": {},
     "output_type": "display_data"
    },
    {
     "name": "stdout",
     "output_type": "stream",
     "text": [
      "common_pert num is:  15\n",
      "['CEBPE; KLF1', 'AHR; KLF1', 'ZBTB1', 'AHR', 'SNAI1; DLX2', 'FOSB; OSR2', 'LHX1', 'FOXL2; MEIS1', 'KLF1', 'CEBPB; OSR2', 'PRDM1', 'TBX2', 'MEIS1', 'FEV', 'LYL1; CEBPB']\n",
      "5032 genes were found in the adata. Note that Celloracle is intended to use around 1000-3000 genes, so the behavior with this number of genes may differ from what is expected.\n"
     ]
    },
    {
     "name": "stderr",
     "output_type": "stream",
     "text": [
      "... storing 'guide_id' as categorical\n",
      "... storing 'tissue_type' as categorical\n",
      "... storing 'cell_line' as categorical\n",
      "... storing 'disease' as categorical\n",
      "... storing 'perturbation_type' as categorical\n",
      "... storing 'celltype' as categorical\n",
      "... storing 'organism' as categorical\n",
      "... storing 'perturbation' as categorical\n",
      "... storing 'perturbation_new' as categorical\n",
      "... storing 'perturbation_type_new' as categorical\n",
      "... storing 'celltype_new' as categorical\n",
      "... storing 'sgRNA_new' as categorical\n",
      "... storing 'perturbation_group' as categorical\n",
      "... storing 'data_split' as categorical\n",
      "... storing 'retain' as categorical\n",
      "... storing 'control_barcode' as categorical\n",
      "... storing 'sgRNA_ID' as categorical\n",
      "... storing 'pert_sgRNA' as categorical\n",
      "... storing 'condition' as categorical\n",
      "... storing 'condition_name' as categorical\n"
     ]
    },
    {
     "name": "stdout",
     "output_type": "stream",
     "text": [
      "AHR ctrl expression is 0\n",
      "5032 genes were found in the adata. Note that Celloracle is intended to use around 1000-3000 genes, so the behavior with this number of genes may differ from what is expected.\n"
     ]
    },
    {
     "name": "stderr",
     "output_type": "stream",
     "text": [
      "... storing 'guide_id' as categorical\n",
      "... storing 'tissue_type' as categorical\n",
      "... storing 'cell_line' as categorical\n",
      "... storing 'disease' as categorical\n",
      "... storing 'perturbation_type' as categorical\n",
      "... storing 'celltype' as categorical\n",
      "... storing 'organism' as categorical\n",
      "... storing 'perturbation' as categorical\n",
      "... storing 'perturbation_new' as categorical\n",
      "... storing 'perturbation_type_new' as categorical\n",
      "... storing 'celltype_new' as categorical\n",
      "... storing 'sgRNA_new' as categorical\n",
      "... storing 'perturbation_group' as categorical\n",
      "... storing 'data_split' as categorical\n",
      "... storing 'retain' as categorical\n",
      "... storing 'control_barcode' as categorical\n",
      "... storing 'sgRNA_ID' as categorical\n",
      "... storing 'pert_sgRNA' as categorical\n",
      "... storing 'condition' as categorical\n",
      "... storing 'condition_name' as categorical\n"
     ]
    },
    {
     "name": "stdout",
     "output_type": "stream",
     "text": [
      "5032 genes were found in the adata. Note that Celloracle is intended to use around 1000-3000 genes, so the behavior with this number of genes may differ from what is expected.\n"
     ]
    },
    {
     "name": "stderr",
     "output_type": "stream",
     "text": [
      "... storing 'guide_id' as categorical\n",
      "... storing 'tissue_type' as categorical\n",
      "... storing 'cell_line' as categorical\n",
      "... storing 'disease' as categorical\n",
      "... storing 'perturbation_type' as categorical\n",
      "... storing 'celltype' as categorical\n",
      "... storing 'organism' as categorical\n",
      "... storing 'perturbation' as categorical\n",
      "... storing 'perturbation_new' as categorical\n",
      "... storing 'perturbation_type_new' as categorical\n",
      "... storing 'celltype_new' as categorical\n",
      "... storing 'sgRNA_new' as categorical\n",
      "... storing 'perturbation_group' as categorical\n",
      "... storing 'data_split' as categorical\n",
      "... storing 'retain' as categorical\n",
      "... storing 'control_barcode' as categorical\n",
      "... storing 'sgRNA_ID' as categorical\n",
      "... storing 'pert_sgRNA' as categorical\n",
      "... storing 'condition' as categorical\n",
      "... storing 'condition_name' as categorical\n"
     ]
    },
    {
     "name": "stdout",
     "output_type": "stream",
     "text": [
      "5032 genes were found in the adata. Note that Celloracle is intended to use around 1000-3000 genes, so the behavior with this number of genes may differ from what is expected.\n"
     ]
    },
    {
     "name": "stderr",
     "output_type": "stream",
     "text": [
      "... storing 'guide_id' as categorical\n",
      "... storing 'tissue_type' as categorical\n",
      "... storing 'cell_line' as categorical\n",
      "... storing 'disease' as categorical\n",
      "... storing 'perturbation_type' as categorical\n",
      "... storing 'celltype' as categorical\n",
      "... storing 'organism' as categorical\n",
      "... storing 'perturbation' as categorical\n",
      "... storing 'perturbation_new' as categorical\n",
      "... storing 'perturbation_type_new' as categorical\n",
      "... storing 'celltype_new' as categorical\n",
      "... storing 'sgRNA_new' as categorical\n",
      "... storing 'perturbation_group' as categorical\n",
      "... storing 'data_split' as categorical\n",
      "... storing 'retain' as categorical\n",
      "... storing 'control_barcode' as categorical\n",
      "... storing 'sgRNA_ID' as categorical\n",
      "... storing 'pert_sgRNA' as categorical\n",
      "... storing 'condition' as categorical\n",
      "... storing 'condition_name' as categorical\n"
     ]
    },
    {
     "name": "stdout",
     "output_type": "stream",
     "text": [
      "5032 genes were found in the adata. Note that Celloracle is intended to use around 1000-3000 genes, so the behavior with this number of genes may differ from what is expected.\n"
     ]
    },
    {
     "name": "stderr",
     "output_type": "stream",
     "text": [
      "... storing 'guide_id' as categorical\n",
      "... storing 'tissue_type' as categorical\n",
      "... storing 'cell_line' as categorical\n",
      "... storing 'disease' as categorical\n",
      "... storing 'perturbation_type' as categorical\n",
      "... storing 'celltype' as categorical\n",
      "... storing 'organism' as categorical\n",
      "... storing 'perturbation' as categorical\n",
      "... storing 'perturbation_new' as categorical\n",
      "... storing 'perturbation_type_new' as categorical\n",
      "... storing 'celltype_new' as categorical\n",
      "... storing 'sgRNA_new' as categorical\n",
      "... storing 'perturbation_group' as categorical\n",
      "... storing 'data_split' as categorical\n",
      "... storing 'retain' as categorical\n",
      "... storing 'control_barcode' as categorical\n",
      "... storing 'sgRNA_ID' as categorical\n",
      "... storing 'pert_sgRNA' as categorical\n",
      "... storing 'condition' as categorical\n",
      "... storing 'condition_name' as categorical\n"
     ]
    },
    {
     "name": "stdout",
     "output_type": "stream",
     "text": [
      "5032 genes were found in the adata. Note that Celloracle is intended to use around 1000-3000 genes, so the behavior with this number of genes may differ from what is expected.\n"
     ]
    },
    {
     "name": "stderr",
     "output_type": "stream",
     "text": [
      "... storing 'guide_id' as categorical\n",
      "... storing 'tissue_type' as categorical\n",
      "... storing 'cell_line' as categorical\n",
      "... storing 'disease' as categorical\n",
      "... storing 'perturbation_type' as categorical\n",
      "... storing 'celltype' as categorical\n",
      "... storing 'organism' as categorical\n",
      "... storing 'perturbation' as categorical\n",
      "... storing 'perturbation_new' as categorical\n",
      "... storing 'perturbation_type_new' as categorical\n",
      "... storing 'celltype_new' as categorical\n",
      "... storing 'sgRNA_new' as categorical\n",
      "... storing 'perturbation_group' as categorical\n",
      "... storing 'data_split' as categorical\n",
      "... storing 'retain' as categorical\n",
      "... storing 'control_barcode' as categorical\n",
      "... storing 'sgRNA_ID' as categorical\n",
      "... storing 'pert_sgRNA' as categorical\n",
      "... storing 'condition' as categorical\n",
      "... storing 'condition_name' as categorical\n"
     ]
    },
    {
     "name": "stdout",
     "output_type": "stream",
     "text": [
      "5032 genes were found in the adata. Note that Celloracle is intended to use around 1000-3000 genes, so the behavior with this number of genes may differ from what is expected.\n"
     ]
    },
    {
     "name": "stderr",
     "output_type": "stream",
     "text": [
      "... storing 'guide_id' as categorical\n",
      "... storing 'tissue_type' as categorical\n",
      "... storing 'cell_line' as categorical\n",
      "... storing 'disease' as categorical\n",
      "... storing 'perturbation_type' as categorical\n",
      "... storing 'celltype' as categorical\n",
      "... storing 'organism' as categorical\n",
      "... storing 'perturbation' as categorical\n",
      "... storing 'perturbation_new' as categorical\n",
      "... storing 'perturbation_type_new' as categorical\n",
      "... storing 'celltype_new' as categorical\n",
      "... storing 'sgRNA_new' as categorical\n",
      "... storing 'perturbation_group' as categorical\n",
      "... storing 'data_split' as categorical\n",
      "... storing 'retain' as categorical\n",
      "... storing 'control_barcode' as categorical\n",
      "... storing 'sgRNA_ID' as categorical\n",
      "... storing 'pert_sgRNA' as categorical\n",
      "... storing 'condition' as categorical\n",
      "... storing 'condition_name' as categorical\n"
     ]
    },
    {
     "name": "stdout",
     "output_type": "stream",
     "text": [
      "5032 genes were found in the adata. Note that Celloracle is intended to use around 1000-3000 genes, so the behavior with this number of genes may differ from what is expected.\n"
     ]
    },
    {
     "name": "stderr",
     "output_type": "stream",
     "text": [
      "... storing 'guide_id' as categorical\n",
      "... storing 'tissue_type' as categorical\n",
      "... storing 'cell_line' as categorical\n",
      "... storing 'disease' as categorical\n",
      "... storing 'perturbation_type' as categorical\n",
      "... storing 'celltype' as categorical\n",
      "... storing 'organism' as categorical\n",
      "... storing 'perturbation' as categorical\n",
      "... storing 'perturbation_new' as categorical\n",
      "... storing 'perturbation_type_new' as categorical\n",
      "... storing 'celltype_new' as categorical\n",
      "... storing 'sgRNA_new' as categorical\n",
      "... storing 'perturbation_group' as categorical\n",
      "... storing 'data_split' as categorical\n",
      "... storing 'retain' as categorical\n",
      "... storing 'control_barcode' as categorical\n",
      "... storing 'sgRNA_ID' as categorical\n",
      "... storing 'pert_sgRNA' as categorical\n",
      "... storing 'condition' as categorical\n",
      "... storing 'condition_name' as categorical\n"
     ]
    },
    {
     "name": "stdout",
     "output_type": "stream",
     "text": [
      "5032 genes were found in the adata. Note that Celloracle is intended to use around 1000-3000 genes, so the behavior with this number of genes may differ from what is expected.\n"
     ]
    },
    {
     "name": "stderr",
     "output_type": "stream",
     "text": [
      "... storing 'guide_id' as categorical\n",
      "... storing 'tissue_type' as categorical\n",
      "... storing 'cell_line' as categorical\n",
      "... storing 'disease' as categorical\n",
      "... storing 'perturbation_type' as categorical\n",
      "... storing 'celltype' as categorical\n",
      "... storing 'organism' as categorical\n",
      "... storing 'perturbation' as categorical\n",
      "... storing 'perturbation_new' as categorical\n",
      "... storing 'perturbation_type_new' as categorical\n",
      "... storing 'celltype_new' as categorical\n",
      "... storing 'sgRNA_new' as categorical\n",
      "... storing 'perturbation_group' as categorical\n",
      "... storing 'data_split' as categorical\n",
      "... storing 'retain' as categorical\n",
      "... storing 'control_barcode' as categorical\n",
      "... storing 'sgRNA_ID' as categorical\n",
      "... storing 'pert_sgRNA' as categorical\n",
      "... storing 'condition' as categorical\n",
      "... storing 'condition_name' as categorical\n"
     ]
    },
    {
     "name": "stdout",
     "output_type": "stream",
     "text": [
      "5032 genes were found in the adata. Note that Celloracle is intended to use around 1000-3000 genes, so the behavior with this number of genes may differ from what is expected.\n"
     ]
    },
    {
     "name": "stderr",
     "output_type": "stream",
     "text": [
      "... storing 'guide_id' as categorical\n",
      "... storing 'tissue_type' as categorical\n",
      "... storing 'cell_line' as categorical\n",
      "... storing 'disease' as categorical\n",
      "... storing 'perturbation_type' as categorical\n",
      "... storing 'celltype' as categorical\n",
      "... storing 'organism' as categorical\n",
      "... storing 'perturbation' as categorical\n",
      "... storing 'perturbation_new' as categorical\n",
      "... storing 'perturbation_type_new' as categorical\n",
      "... storing 'celltype_new' as categorical\n",
      "... storing 'sgRNA_new' as categorical\n",
      "... storing 'perturbation_group' as categorical\n",
      "... storing 'data_split' as categorical\n",
      "... storing 'retain' as categorical\n",
      "... storing 'control_barcode' as categorical\n",
      "... storing 'sgRNA_ID' as categorical\n",
      "... storing 'pert_sgRNA' as categorical\n",
      "... storing 'condition' as categorical\n",
      "... storing 'condition_name' as categorical\n"
     ]
    },
    {
     "name": "stdout",
     "output_type": "stream",
     "text": [
      "5032 genes were found in the adata. Note that Celloracle is intended to use around 1000-3000 genes, so the behavior with this number of genes may differ from what is expected.\n"
     ]
    },
    {
     "name": "stderr",
     "output_type": "stream",
     "text": [
      "... storing 'guide_id' as categorical\n",
      "... storing 'tissue_type' as categorical\n",
      "... storing 'cell_line' as categorical\n",
      "... storing 'disease' as categorical\n",
      "... storing 'perturbation_type' as categorical\n",
      "... storing 'celltype' as categorical\n",
      "... storing 'organism' as categorical\n",
      "... storing 'perturbation' as categorical\n",
      "... storing 'perturbation_new' as categorical\n",
      "... storing 'perturbation_type_new' as categorical\n",
      "... storing 'celltype_new' as categorical\n",
      "... storing 'sgRNA_new' as categorical\n",
      "... storing 'perturbation_group' as categorical\n",
      "... storing 'data_split' as categorical\n",
      "... storing 'retain' as categorical\n",
      "... storing 'control_barcode' as categorical\n",
      "... storing 'sgRNA_ID' as categorical\n",
      "... storing 'pert_sgRNA' as categorical\n",
      "... storing 'condition' as categorical\n",
      "... storing 'condition_name' as categorical\n"
     ]
    },
    {
     "name": "stdout",
     "output_type": "stream",
     "text": [
      "5032 genes were found in the adata. Note that Celloracle is intended to use around 1000-3000 genes, so the behavior with this number of genes may differ from what is expected.\n"
     ]
    },
    {
     "name": "stderr",
     "output_type": "stream",
     "text": [
      "... storing 'guide_id' as categorical\n",
      "... storing 'tissue_type' as categorical\n",
      "... storing 'cell_line' as categorical\n",
      "... storing 'disease' as categorical\n",
      "... storing 'perturbation_type' as categorical\n",
      "... storing 'celltype' as categorical\n",
      "... storing 'organism' as categorical\n",
      "... storing 'perturbation' as categorical\n",
      "... storing 'perturbation_new' as categorical\n",
      "... storing 'perturbation_type_new' as categorical\n",
      "... storing 'celltype_new' as categorical\n",
      "... storing 'sgRNA_new' as categorical\n",
      "... storing 'perturbation_group' as categorical\n",
      "... storing 'data_split' as categorical\n",
      "... storing 'retain' as categorical\n",
      "... storing 'control_barcode' as categorical\n",
      "... storing 'sgRNA_ID' as categorical\n",
      "... storing 'pert_sgRNA' as categorical\n",
      "... storing 'condition' as categorical\n",
      "... storing 'condition_name' as categorical\n"
     ]
    },
    {
     "name": "stdout",
     "output_type": "stream",
     "text": [
      "5032 genes were found in the adata. Note that Celloracle is intended to use around 1000-3000 genes, so the behavior with this number of genes may differ from what is expected.\n"
     ]
    },
    {
     "name": "stderr",
     "output_type": "stream",
     "text": [
      "... storing 'guide_id' as categorical\n",
      "... storing 'tissue_type' as categorical\n",
      "... storing 'cell_line' as categorical\n",
      "... storing 'disease' as categorical\n",
      "... storing 'perturbation_type' as categorical\n",
      "... storing 'celltype' as categorical\n",
      "... storing 'organism' as categorical\n",
      "... storing 'perturbation' as categorical\n",
      "... storing 'perturbation_new' as categorical\n",
      "... storing 'perturbation_type_new' as categorical\n",
      "... storing 'celltype_new' as categorical\n",
      "... storing 'sgRNA_new' as categorical\n",
      "... storing 'perturbation_group' as categorical\n",
      "... storing 'data_split' as categorical\n",
      "... storing 'retain' as categorical\n",
      "... storing 'control_barcode' as categorical\n",
      "... storing 'sgRNA_ID' as categorical\n",
      "... storing 'pert_sgRNA' as categorical\n",
      "... storing 'condition' as categorical\n",
      "... storing 'condition_name' as categorical\n"
     ]
    },
    {
     "name": "stdout",
     "output_type": "stream",
     "text": [
      "5032 genes were found in the adata. Note that Celloracle is intended to use around 1000-3000 genes, so the behavior with this number of genes may differ from what is expected.\n"
     ]
    },
    {
     "name": "stderr",
     "output_type": "stream",
     "text": [
      "... storing 'guide_id' as categorical\n",
      "... storing 'tissue_type' as categorical\n",
      "... storing 'cell_line' as categorical\n",
      "... storing 'disease' as categorical\n",
      "... storing 'perturbation_type' as categorical\n",
      "... storing 'celltype' as categorical\n",
      "... storing 'organism' as categorical\n",
      "... storing 'perturbation' as categorical\n",
      "... storing 'perturbation_new' as categorical\n",
      "... storing 'perturbation_type_new' as categorical\n",
      "... storing 'celltype_new' as categorical\n",
      "... storing 'sgRNA_new' as categorical\n",
      "... storing 'perturbation_group' as categorical\n",
      "... storing 'data_split' as categorical\n",
      "... storing 'retain' as categorical\n",
      "... storing 'control_barcode' as categorical\n",
      "... storing 'sgRNA_ID' as categorical\n",
      "... storing 'pert_sgRNA' as categorical\n",
      "... storing 'condition' as categorical\n",
      "... storing 'condition_name' as categorical\n"
     ]
    },
    {
     "name": "stdout",
     "output_type": "stream",
     "text": [
      "5032 genes were found in the adata. Note that Celloracle is intended to use around 1000-3000 genes, so the behavior with this number of genes may differ from what is expected.\n"
     ]
    },
    {
     "name": "stderr",
     "output_type": "stream",
     "text": [
      "... storing 'guide_id' as categorical\n",
      "... storing 'tissue_type' as categorical\n",
      "... storing 'cell_line' as categorical\n",
      "... storing 'disease' as categorical\n",
      "... storing 'perturbation_type' as categorical\n",
      "... storing 'celltype' as categorical\n",
      "... storing 'organism' as categorical\n",
      "... storing 'perturbation' as categorical\n",
      "... storing 'perturbation_new' as categorical\n",
      "... storing 'perturbation_type_new' as categorical\n",
      "... storing 'celltype_new' as categorical\n",
      "... storing 'sgRNA_new' as categorical\n",
      "... storing 'perturbation_group' as categorical\n",
      "... storing 'data_split' as categorical\n",
      "... storing 'retain' as categorical\n",
      "... storing 'control_barcode' as categorical\n",
      "... storing 'sgRNA_ID' as categorical\n",
      "... storing 'pert_sgRNA' as categorical\n",
      "... storing 'condition' as categorical\n",
      "... storing 'condition_name' as categorical\n"
     ]
    },
    {
     "name": "stdout",
     "output_type": "stream",
     "text": [
      "get metrics... ...\n"
     ]
    },
    {
     "name": "stderr",
     "output_type": "stream",
     "text": [
      "  0%|          | 0/15 [00:00<?, ?it/s]/data1/lichen/code/single_cell_perturbation/scPerturb/Byte_Pert_Data/v1/utils.py:720: RuntimeWarning: invalid value encountered in divide\n",
      "  change_ratio = np.abs(pred-truth)/truth\n",
      "/data1/lichen/code/single_cell_perturbation/scPerturb/Byte_Pert_Data/v1/utils.py:720: RuntimeWarning: invalid value encountered in divide\n",
      "  change_ratio = np.abs(pred-truth)/truth\n",
      "/data1/lichen/code/single_cell_perturbation/scPerturb/Byte_Pert_Data/v1/utils.py:720: RuntimeWarning: invalid value encountered in divide\n",
      "  change_ratio = np.abs(pred-truth)/truth\n",
      "/data1/lichen/code/single_cell_perturbation/scPerturb/Byte_Pert_Data/v1/utils.py:720: RuntimeWarning: invalid value encountered in divide\n",
      "  change_ratio = np.abs(pred-truth)/truth\n",
      "/data1/lichen/code/single_cell_perturbation/scPerturb/Byte_Pert_Data/v1/utils.py:720: RuntimeWarning: divide by zero encountered in divide\n",
      "  change_ratio = np.abs(pred-truth)/truth\n",
      "/data1/lichen/code/single_cell_perturbation/scPerturb/Byte_Pert_Data/v1/utils.py:720: RuntimeWarning: invalid value encountered in divide\n",
      "  change_ratio = np.abs(pred-truth)/truth\n",
      "  7%|▋         | 1/15 [00:01<00:24,  1.76s/it]/data1/lichen/code/single_cell_perturbation/scPerturb/Byte_Pert_Data/v1/utils.py:720: RuntimeWarning: invalid value encountered in divide\n",
      "  change_ratio = np.abs(pred-truth)/truth\n",
      "/data1/lichen/code/single_cell_perturbation/scPerturb/Byte_Pert_Data/v1/utils.py:720: RuntimeWarning: invalid value encountered in divide\n",
      "  change_ratio = np.abs(pred-truth)/truth\n",
      "/data1/lichen/code/single_cell_perturbation/scPerturb/Byte_Pert_Data/v1/utils.py:720: RuntimeWarning: invalid value encountered in divide\n",
      "  change_ratio = np.abs(pred-truth)/truth\n",
      "/data1/lichen/code/single_cell_perturbation/scPerturb/Byte_Pert_Data/v1/utils.py:720: RuntimeWarning: invalid value encountered in divide\n",
      "  change_ratio = np.abs(pred-truth)/truth\n",
      "/data1/lichen/code/single_cell_perturbation/scPerturb/Byte_Pert_Data/v1/utils.py:720: RuntimeWarning: divide by zero encountered in divide\n",
      "  change_ratio = np.abs(pred-truth)/truth\n",
      "/data1/lichen/code/single_cell_perturbation/scPerturb/Byte_Pert_Data/v1/utils.py:720: RuntimeWarning: invalid value encountered in divide\n",
      "  change_ratio = np.abs(pred-truth)/truth\n",
      " 13%|█▎        | 2/15 [00:03<00:25,  1.94s/it]/data1/lichen/code/single_cell_perturbation/scPerturb/Byte_Pert_Data/v1/utils.py:720: RuntimeWarning: invalid value encountered in divide\n",
      "  change_ratio = np.abs(pred-truth)/truth\n",
      "/data1/lichen/code/single_cell_perturbation/scPerturb/Byte_Pert_Data/v1/utils.py:720: RuntimeWarning: invalid value encountered in divide\n",
      "  change_ratio = np.abs(pred-truth)/truth\n",
      "/data1/lichen/code/single_cell_perturbation/scPerturb/Byte_Pert_Data/v1/utils.py:720: RuntimeWarning: invalid value encountered in divide\n",
      "  change_ratio = np.abs(pred-truth)/truth\n",
      "/data1/lichen/code/single_cell_perturbation/scPerturb/Byte_Pert_Data/v1/utils.py:720: RuntimeWarning: invalid value encountered in divide\n",
      "  change_ratio = np.abs(pred-truth)/truth\n",
      "/data1/lichen/code/single_cell_perturbation/scPerturb/Byte_Pert_Data/v1/utils.py:720: RuntimeWarning: divide by zero encountered in divide\n",
      "  change_ratio = np.abs(pred-truth)/truth\n",
      "/data1/lichen/code/single_cell_perturbation/scPerturb/Byte_Pert_Data/v1/utils.py:720: RuntimeWarning: invalid value encountered in divide\n",
      "  change_ratio = np.abs(pred-truth)/truth\n",
      " 20%|██        | 3/15 [00:04<00:15,  1.31s/it]/data1/lichen/code/single_cell_perturbation/scPerturb/Byte_Pert_Data/v1/utils.py:720: RuntimeWarning: invalid value encountered in divide\n",
      "  change_ratio = np.abs(pred-truth)/truth\n",
      "/data1/lichen/code/single_cell_perturbation/scPerturb/Byte_Pert_Data/v1/utils.py:720: RuntimeWarning: invalid value encountered in divide\n",
      "  change_ratio = np.abs(pred-truth)/truth\n",
      "/data1/lichen/code/single_cell_perturbation/scPerturb/Byte_Pert_Data/v1/utils.py:720: RuntimeWarning: invalid value encountered in divide\n",
      "  change_ratio = np.abs(pred-truth)/truth\n",
      "/data1/lichen/code/single_cell_perturbation/scPerturb/Byte_Pert_Data/v1/utils.py:720: RuntimeWarning: invalid value encountered in divide\n",
      "  change_ratio = np.abs(pred-truth)/truth\n",
      "/data1/lichen/code/single_cell_perturbation/scPerturb/Byte_Pert_Data/v1/utils.py:720: RuntimeWarning: divide by zero encountered in divide\n",
      "  change_ratio = np.abs(pred-truth)/truth\n",
      "/data1/lichen/code/single_cell_perturbation/scPerturb/Byte_Pert_Data/v1/utils.py:720: RuntimeWarning: invalid value encountered in divide\n",
      "  change_ratio = np.abs(pred-truth)/truth\n",
      " 27%|██▋       | 4/15 [00:06<00:16,  1.47s/it]/data1/lichen/code/single_cell_perturbation/scPerturb/Byte_Pert_Data/v1/utils.py:720: RuntimeWarning: invalid value encountered in divide\n",
      "  change_ratio = np.abs(pred-truth)/truth\n",
      "/data1/lichen/code/single_cell_perturbation/scPerturb/Byte_Pert_Data/v1/utils.py:720: RuntimeWarning: invalid value encountered in divide\n",
      "  change_ratio = np.abs(pred-truth)/truth\n",
      "/data1/lichen/code/single_cell_perturbation/scPerturb/Byte_Pert_Data/v1/utils.py:720: RuntimeWarning: invalid value encountered in divide\n",
      "  change_ratio = np.abs(pred-truth)/truth\n",
      "/data1/lichen/code/single_cell_perturbation/scPerturb/Byte_Pert_Data/v1/utils.py:720: RuntimeWarning: invalid value encountered in divide\n",
      "  change_ratio = np.abs(pred-truth)/truth\n",
      "/data1/lichen/code/single_cell_perturbation/scPerturb/Byte_Pert_Data/v1/utils.py:720: RuntimeWarning: divide by zero encountered in divide\n",
      "  change_ratio = np.abs(pred-truth)/truth\n",
      "/data1/lichen/code/single_cell_perturbation/scPerturb/Byte_Pert_Data/v1/utils.py:720: RuntimeWarning: invalid value encountered in divide\n",
      "  change_ratio = np.abs(pred-truth)/truth\n",
      " 33%|███▎      | 5/15 [00:08<00:19,  1.91s/it]/data1/lichen/code/single_cell_perturbation/scPerturb/Byte_Pert_Data/v1/utils.py:720: RuntimeWarning: invalid value encountered in divide\n",
      "  change_ratio = np.abs(pred-truth)/truth\n",
      "/data1/lichen/code/single_cell_perturbation/scPerturb/Byte_Pert_Data/v1/utils.py:720: RuntimeWarning: invalid value encountered in divide\n",
      "  change_ratio = np.abs(pred-truth)/truth\n",
      "/data1/lichen/code/single_cell_perturbation/scPerturb/Byte_Pert_Data/v1/utils.py:720: RuntimeWarning: invalid value encountered in divide\n",
      "  change_ratio = np.abs(pred-truth)/truth\n",
      "/data1/lichen/code/single_cell_perturbation/scPerturb/Byte_Pert_Data/v1/utils.py:720: RuntimeWarning: invalid value encountered in divide\n",
      "  change_ratio = np.abs(pred-truth)/truth\n",
      "/data1/lichen/code/single_cell_perturbation/scPerturb/Byte_Pert_Data/v1/utils.py:720: RuntimeWarning: divide by zero encountered in divide\n",
      "  change_ratio = np.abs(pred-truth)/truth\n",
      "/data1/lichen/code/single_cell_perturbation/scPerturb/Byte_Pert_Data/v1/utils.py:720: RuntimeWarning: invalid value encountered in divide\n",
      "  change_ratio = np.abs(pred-truth)/truth\n",
      " 40%|████      | 6/15 [00:10<00:15,  1.71s/it]/data1/lichen/code/single_cell_perturbation/scPerturb/Byte_Pert_Data/v1/utils.py:720: RuntimeWarning: invalid value encountered in divide\n",
      "  change_ratio = np.abs(pred-truth)/truth\n",
      "/data1/lichen/code/single_cell_perturbation/scPerturb/Byte_Pert_Data/v1/utils.py:720: RuntimeWarning: invalid value encountered in divide\n",
      "  change_ratio = np.abs(pred-truth)/truth\n",
      "/data1/lichen/code/single_cell_perturbation/scPerturb/Byte_Pert_Data/v1/utils.py:720: RuntimeWarning: invalid value encountered in divide\n",
      "  change_ratio = np.abs(pred-truth)/truth\n",
      "/data1/lichen/code/single_cell_perturbation/scPerturb/Byte_Pert_Data/v1/utils.py:720: RuntimeWarning: invalid value encountered in divide\n",
      "  change_ratio = np.abs(pred-truth)/truth\n",
      "/data1/lichen/code/single_cell_perturbation/scPerturb/Byte_Pert_Data/v1/utils.py:720: RuntimeWarning: divide by zero encountered in divide\n",
      "  change_ratio = np.abs(pred-truth)/truth\n",
      "/data1/lichen/code/single_cell_perturbation/scPerturb/Byte_Pert_Data/v1/utils.py:720: RuntimeWarning: invalid value encountered in divide\n",
      "  change_ratio = np.abs(pred-truth)/truth\n",
      " 47%|████▋     | 7/15 [00:10<00:10,  1.32s/it]/data1/lichen/code/single_cell_perturbation/scPerturb/Byte_Pert_Data/v1/utils.py:720: RuntimeWarning: invalid value encountered in divide\n",
      "  change_ratio = np.abs(pred-truth)/truth\n",
      "/data1/lichen/code/single_cell_perturbation/scPerturb/Byte_Pert_Data/v1/utils.py:720: RuntimeWarning: divide by zero encountered in divide\n",
      "  change_ratio = np.abs(pred-truth)/truth\n",
      "/data1/lichen/code/single_cell_perturbation/scPerturb/Byte_Pert_Data/v1/utils.py:720: RuntimeWarning: invalid value encountered in divide\n",
      "  change_ratio = np.abs(pred-truth)/truth\n",
      " 53%|█████▎    | 8/15 [00:18<00:22,  3.25s/it]/data1/lichen/code/single_cell_perturbation/scPerturb/Byte_Pert_Data/v1/utils.py:720: RuntimeWarning: invalid value encountered in divide\n",
      "  change_ratio = np.abs(pred-truth)/truth\n",
      "/data1/lichen/code/single_cell_perturbation/scPerturb/Byte_Pert_Data/v1/utils.py:720: RuntimeWarning: invalid value encountered in divide\n",
      "  change_ratio = np.abs(pred-truth)/truth\n",
      "/data1/lichen/code/single_cell_perturbation/scPerturb/Byte_Pert_Data/v1/utils.py:720: RuntimeWarning: invalid value encountered in divide\n",
      "  change_ratio = np.abs(pred-truth)/truth\n",
      "/data1/lichen/code/single_cell_perturbation/scPerturb/Byte_Pert_Data/v1/utils.py:720: RuntimeWarning: invalid value encountered in divide\n",
      "  change_ratio = np.abs(pred-truth)/truth\n",
      "/data1/lichen/code/single_cell_perturbation/scPerturb/Byte_Pert_Data/v1/utils.py:720: RuntimeWarning: divide by zero encountered in divide\n",
      "  change_ratio = np.abs(pred-truth)/truth\n",
      "/data1/lichen/code/single_cell_perturbation/scPerturb/Byte_Pert_Data/v1/utils.py:720: RuntimeWarning: invalid value encountered in divide\n",
      "  change_ratio = np.abs(pred-truth)/truth\n",
      " 60%|██████    | 9/15 [00:19<00:15,  2.64s/it]/data1/lichen/code/single_cell_perturbation/scPerturb/Byte_Pert_Data/v1/utils.py:720: RuntimeWarning: invalid value encountered in divide\n",
      "  change_ratio = np.abs(pred-truth)/truth\n",
      "/data1/lichen/code/single_cell_perturbation/scPerturb/Byte_Pert_Data/v1/utils.py:720: RuntimeWarning: invalid value encountered in divide\n",
      "  change_ratio = np.abs(pred-truth)/truth\n",
      "/data1/lichen/code/single_cell_perturbation/scPerturb/Byte_Pert_Data/v1/utils.py:720: RuntimeWarning: invalid value encountered in divide\n",
      "  change_ratio = np.abs(pred-truth)/truth\n",
      "/data1/lichen/code/single_cell_perturbation/scPerturb/Byte_Pert_Data/v1/utils.py:720: RuntimeWarning: invalid value encountered in divide\n",
      "  change_ratio = np.abs(pred-truth)/truth\n",
      "/data1/lichen/code/single_cell_perturbation/scPerturb/Byte_Pert_Data/v1/utils.py:720: RuntimeWarning: divide by zero encountered in divide\n",
      "  change_ratio = np.abs(pred-truth)/truth\n",
      "/data1/lichen/code/single_cell_perturbation/scPerturb/Byte_Pert_Data/v1/utils.py:720: RuntimeWarning: invalid value encountered in divide\n",
      "  change_ratio = np.abs(pred-truth)/truth\n",
      " 67%|██████▋   | 10/15 [00:19<00:09,  1.98s/it]/data1/lichen/code/single_cell_perturbation/scPerturb/Byte_Pert_Data/v1/utils.py:720: RuntimeWarning: invalid value encountered in divide\n",
      "  change_ratio = np.abs(pred-truth)/truth\n",
      "/data1/lichen/code/single_cell_perturbation/scPerturb/Byte_Pert_Data/v1/utils.py:720: RuntimeWarning: invalid value encountered in divide\n",
      "  change_ratio = np.abs(pred-truth)/truth\n",
      "/data1/lichen/code/single_cell_perturbation/scPerturb/Byte_Pert_Data/v1/utils.py:720: RuntimeWarning: invalid value encountered in divide\n",
      "  change_ratio = np.abs(pred-truth)/truth\n",
      "/data1/lichen/code/single_cell_perturbation/scPerturb/Byte_Pert_Data/v1/utils.py:720: RuntimeWarning: invalid value encountered in divide\n",
      "  change_ratio = np.abs(pred-truth)/truth\n",
      "/data1/lichen/code/single_cell_perturbation/scPerturb/Byte_Pert_Data/v1/utils.py:720: RuntimeWarning: divide by zero encountered in divide\n",
      "  change_ratio = np.abs(pred-truth)/truth\n",
      "/data1/lichen/code/single_cell_perturbation/scPerturb/Byte_Pert_Data/v1/utils.py:720: RuntimeWarning: invalid value encountered in divide\n",
      "  change_ratio = np.abs(pred-truth)/truth\n",
      " 73%|███████▎  | 11/15 [00:22<00:08,  2.22s/it]/data1/lichen/code/single_cell_perturbation/scPerturb/Byte_Pert_Data/v1/utils.py:720: RuntimeWarning: invalid value encountered in divide\n",
      "  change_ratio = np.abs(pred-truth)/truth\n",
      "/data1/lichen/code/single_cell_perturbation/scPerturb/Byte_Pert_Data/v1/utils.py:720: RuntimeWarning: invalid value encountered in divide\n",
      "  change_ratio = np.abs(pred-truth)/truth\n",
      "/data1/lichen/code/single_cell_perturbation/scPerturb/Byte_Pert_Data/v1/utils.py:720: RuntimeWarning: invalid value encountered in divide\n",
      "  change_ratio = np.abs(pred-truth)/truth\n",
      "/data1/lichen/code/single_cell_perturbation/scPerturb/Byte_Pert_Data/v1/utils.py:720: RuntimeWarning: invalid value encountered in divide\n",
      "  change_ratio = np.abs(pred-truth)/truth\n",
      "/data1/lichen/code/single_cell_perturbation/scPerturb/Byte_Pert_Data/v1/utils.py:720: RuntimeWarning: divide by zero encountered in divide\n",
      "  change_ratio = np.abs(pred-truth)/truth\n",
      "/data1/lichen/code/single_cell_perturbation/scPerturb/Byte_Pert_Data/v1/utils.py:720: RuntimeWarning: invalid value encountered in divide\n",
      "  change_ratio = np.abs(pred-truth)/truth\n",
      " 80%|████████  | 12/15 [00:23<00:05,  1.82s/it]/data1/lichen/code/single_cell_perturbation/scPerturb/Byte_Pert_Data/v1/utils.py:720: RuntimeWarning: invalid value encountered in divide\n",
      "  change_ratio = np.abs(pred-truth)/truth\n",
      "/data1/lichen/code/single_cell_perturbation/scPerturb/Byte_Pert_Data/v1/utils.py:720: RuntimeWarning: invalid value encountered in divide\n",
      "  change_ratio = np.abs(pred-truth)/truth\n",
      "/data1/lichen/code/single_cell_perturbation/scPerturb/Byte_Pert_Data/v1/utils.py:720: RuntimeWarning: invalid value encountered in divide\n",
      "  change_ratio = np.abs(pred-truth)/truth\n",
      "/data1/lichen/code/single_cell_perturbation/scPerturb/Byte_Pert_Data/v1/utils.py:720: RuntimeWarning: invalid value encountered in divide\n",
      "  change_ratio = np.abs(pred-truth)/truth\n",
      "/data1/lichen/code/single_cell_perturbation/scPerturb/Byte_Pert_Data/v1/utils.py:720: RuntimeWarning: divide by zero encountered in divide\n",
      "  change_ratio = np.abs(pred-truth)/truth\n",
      "/data1/lichen/code/single_cell_perturbation/scPerturb/Byte_Pert_Data/v1/utils.py:720: RuntimeWarning: invalid value encountered in divide\n",
      "  change_ratio = np.abs(pred-truth)/truth\n",
      " 87%|████████▋ | 13/15 [00:23<00:02,  1.36s/it]/data1/lichen/code/single_cell_perturbation/scPerturb/Byte_Pert_Data/v1/utils.py:720: RuntimeWarning: invalid value encountered in divide\n",
      "  change_ratio = np.abs(pred-truth)/truth\n",
      "/data1/lichen/code/single_cell_perturbation/scPerturb/Byte_Pert_Data/v1/utils.py:720: RuntimeWarning: invalid value encountered in divide\n",
      "  change_ratio = np.abs(pred-truth)/truth\n",
      "/data1/lichen/code/single_cell_perturbation/scPerturb/Byte_Pert_Data/v1/utils.py:720: RuntimeWarning: invalid value encountered in divide\n",
      "  change_ratio = np.abs(pred-truth)/truth\n",
      "/data1/lichen/code/single_cell_perturbation/scPerturb/Byte_Pert_Data/v1/utils.py:720: RuntimeWarning: invalid value encountered in divide\n",
      "  change_ratio = np.abs(pred-truth)/truth\n",
      "/data1/lichen/code/single_cell_perturbation/scPerturb/Byte_Pert_Data/v1/utils.py:720: RuntimeWarning: divide by zero encountered in divide\n",
      "  change_ratio = np.abs(pred-truth)/truth\n",
      "/data1/lichen/code/single_cell_perturbation/scPerturb/Byte_Pert_Data/v1/utils.py:720: RuntimeWarning: invalid value encountered in divide\n",
      "  change_ratio = np.abs(pred-truth)/truth\n",
      " 93%|█████████▎| 14/15 [00:26<00:01,  1.74s/it]/data1/lichen/code/single_cell_perturbation/scPerturb/Byte_Pert_Data/v1/utils.py:720: RuntimeWarning: invalid value encountered in divide\n",
      "  change_ratio = np.abs(pred-truth)/truth\n",
      "/data1/lichen/code/single_cell_perturbation/scPerturb/Byte_Pert_Data/v1/utils.py:720: RuntimeWarning: invalid value encountered in divide\n",
      "  change_ratio = np.abs(pred-truth)/truth\n",
      "/data1/lichen/code/single_cell_perturbation/scPerturb/Byte_Pert_Data/v1/utils.py:720: RuntimeWarning: invalid value encountered in divide\n",
      "  change_ratio = np.abs(pred-truth)/truth\n",
      "/data1/lichen/code/single_cell_perturbation/scPerturb/Byte_Pert_Data/v1/utils.py:720: RuntimeWarning: invalid value encountered in divide\n",
      "  change_ratio = np.abs(pred-truth)/truth\n",
      "/data1/lichen/code/single_cell_perturbation/scPerturb/Byte_Pert_Data/v1/utils.py:720: RuntimeWarning: divide by zero encountered in divide\n",
      "  change_ratio = np.abs(pred-truth)/truth\n",
      "/data1/lichen/code/single_cell_perturbation/scPerturb/Byte_Pert_Data/v1/utils.py:720: RuntimeWarning: invalid value encountered in divide\n",
      "  change_ratio = np.abs(pred-truth)/truth\n",
      "100%|██████████| 15/15 [00:29<00:00,  1.93s/it]\n"
     ]
    },
    {
     "name": "stdout",
     "output_type": "stream",
     "text": [
      "==================== PapalexiSatija2021_eccite_RNA\n",
      "add condition finished\n",
      "adata.shape is:  (2386, 5013)\n",
      "Loading prebuilt promoter base-GRN. Version: hg19_gimmemotifsv5_fpr2\n",
      "base_GRN.shape:  (37003, 1096)\n",
      "Cell number is :2386\n",
      "Metadata columns : ['hto', 'guide_id', 'hto_barcode', 'gdo_barcode', 'perturbation', 'tissue_type', 'cell_line', 'cancer', 'disease', 'perturbation_type', 'celltype', 'organism', 'nperts', 'ngenes', 'ncounts', 'percent_mito', 'percent_ribo', 'perturbation_new', 'perturbation_type_new', 'nperts_new', 'celltype_new', 'sgRNA_new', 'perturbation_group', 'data_split', 'retain', 'n_genes', 'control_barcode', 'sgRNA_ID', 'pert_sgRNA', 'condition', 'condition_name']\n",
      "Dimensional reduction:  ['X_pca', 'X_umap']\n",
      "5013 genes were found in the adata. Note that Celloracle is intended to use around 1000-3000 genes, so the behavior with this number of genes may differ from what is expected.\n"
     ]
    },
    {
     "name": "stderr",
     "output_type": "stream",
     "text": [
      "... storing 'hto' as categorical\n",
      "... storing 'guide_id' as categorical\n",
      "... storing 'hto_barcode' as categorical\n",
      "... storing 'gdo_barcode' as categorical\n",
      "... storing 'perturbation' as categorical\n",
      "... storing 'tissue_type' as categorical\n",
      "... storing 'cell_line' as categorical\n",
      "... storing 'disease' as categorical\n",
      "... storing 'perturbation_type' as categorical\n",
      "... storing 'celltype' as categorical\n",
      "... storing 'organism' as categorical\n",
      "... storing 'perturbation_new' as categorical\n",
      "... storing 'perturbation_type_new' as categorical\n",
      "... storing 'celltype_new' as categorical\n",
      "... storing 'sgRNA_new' as categorical\n",
      "... storing 'perturbation_group' as categorical\n",
      "... storing 'data_split' as categorical\n",
      "... storing 'retain' as categorical\n",
      "... storing 'control_barcode' as categorical\n",
      "... storing 'sgRNA_ID' as categorical\n",
      "... storing 'pert_sgRNA' as categorical\n",
      "... storing 'condition' as categorical\n",
      "... storing 'condition_name' as categorical\n"
     ]
    },
    {
     "name": "stdout",
     "output_type": "stream",
     "text": [
      "40\n",
      "cell number is :2386\n",
      "Auto-selected k is :59\n"
     ]
    },
    {
     "data": {
      "application/vnd.jupyter.widget-view+json": {
       "model_id": "71be096ac9fa4b4b964a8b83fe9ebbe0",
       "version_major": 2,
       "version_minor": 0
      },
      "text/plain": [
       "  0%|          | 0/1 [00:00<?, ?it/s]"
      ]
     },
     "metadata": {},
     "output_type": "display_data"
    },
    {
     "name": "stdout",
     "output_type": "stream",
     "text": [
      "Inferring GRN for monocytes...\n"
     ]
    },
    {
     "data": {
      "application/vnd.jupyter.widget-view+json": {
       "model_id": "764ca8efbefa4be78c6202ac1037c72e",
       "version_major": 2,
       "version_minor": 0
      },
      "text/plain": [
       "  0%|          | 0/3897 [00:00<?, ?it/s]"
      ]
     },
     "metadata": {},
     "output_type": "display_data"
    },
    {
     "data": {
      "application/vnd.jupyter.widget-view+json": {
       "model_id": "b2cc6e81ddc24956a787b693ec1675cb",
       "version_major": 2,
       "version_minor": 0
      },
      "text/plain": [
       "  0%|          | 0/1 [00:00<?, ?it/s]"
      ]
     },
     "metadata": {},
     "output_type": "display_data"
    },
    {
     "name": "stdout",
     "output_type": "stream",
     "text": [
      "common_pert num is:  3\n",
      "['STAT1', 'STAT2', 'ETV7']\n",
      "5013 genes were found in the adata. Note that Celloracle is intended to use around 1000-3000 genes, so the behavior with this number of genes may differ from what is expected.\n"
     ]
    },
    {
     "name": "stderr",
     "output_type": "stream",
     "text": [
      "... storing 'hto' as categorical\n",
      "... storing 'guide_id' as categorical\n",
      "... storing 'hto_barcode' as categorical\n",
      "... storing 'gdo_barcode' as categorical\n",
      "... storing 'perturbation' as categorical\n",
      "... storing 'tissue_type' as categorical\n",
      "... storing 'cell_line' as categorical\n",
      "... storing 'disease' as categorical\n",
      "... storing 'perturbation_type' as categorical\n",
      "... storing 'celltype' as categorical\n",
      "... storing 'organism' as categorical\n",
      "... storing 'perturbation_new' as categorical\n",
      "... storing 'perturbation_type_new' as categorical\n",
      "... storing 'celltype_new' as categorical\n",
      "... storing 'sgRNA_new' as categorical\n",
      "... storing 'perturbation_group' as categorical\n",
      "... storing 'data_split' as categorical\n",
      "... storing 'retain' as categorical\n",
      "... storing 'control_barcode' as categorical\n",
      "... storing 'sgRNA_ID' as categorical\n",
      "... storing 'pert_sgRNA' as categorical\n",
      "... storing 'condition' as categorical\n",
      "... storing 'condition_name' as categorical\n"
     ]
    },
    {
     "name": "stdout",
     "output_type": "stream",
     "text": [
      "5013 genes were found in the adata. Note that Celloracle is intended to use around 1000-3000 genes, so the behavior with this number of genes may differ from what is expected.\n"
     ]
    },
    {
     "name": "stderr",
     "output_type": "stream",
     "text": [
      "... storing 'hto' as categorical\n",
      "... storing 'guide_id' as categorical\n",
      "... storing 'hto_barcode' as categorical\n",
      "... storing 'gdo_barcode' as categorical\n",
      "... storing 'perturbation' as categorical\n",
      "... storing 'tissue_type' as categorical\n",
      "... storing 'cell_line' as categorical\n",
      "... storing 'disease' as categorical\n",
      "... storing 'perturbation_type' as categorical\n",
      "... storing 'celltype' as categorical\n",
      "... storing 'organism' as categorical\n",
      "... storing 'perturbation_new' as categorical\n",
      "... storing 'perturbation_type_new' as categorical\n",
      "... storing 'celltype_new' as categorical\n",
      "... storing 'sgRNA_new' as categorical\n",
      "... storing 'perturbation_group' as categorical\n",
      "... storing 'data_split' as categorical\n",
      "... storing 'retain' as categorical\n",
      "... storing 'control_barcode' as categorical\n",
      "... storing 'sgRNA_ID' as categorical\n",
      "... storing 'pert_sgRNA' as categorical\n",
      "... storing 'condition' as categorical\n",
      "... storing 'condition_name' as categorical\n"
     ]
    },
    {
     "name": "stdout",
     "output_type": "stream",
     "text": [
      "5013 genes were found in the adata. Note that Celloracle is intended to use around 1000-3000 genes, so the behavior with this number of genes may differ from what is expected.\n"
     ]
    },
    {
     "name": "stderr",
     "output_type": "stream",
     "text": [
      "... storing 'hto' as categorical\n",
      "... storing 'guide_id' as categorical\n",
      "... storing 'hto_barcode' as categorical\n",
      "... storing 'gdo_barcode' as categorical\n",
      "... storing 'perturbation' as categorical\n",
      "... storing 'tissue_type' as categorical\n",
      "... storing 'cell_line' as categorical\n",
      "... storing 'disease' as categorical\n",
      "... storing 'perturbation_type' as categorical\n",
      "... storing 'celltype' as categorical\n",
      "... storing 'organism' as categorical\n",
      "... storing 'perturbation_new' as categorical\n",
      "... storing 'perturbation_type_new' as categorical\n",
      "... storing 'celltype_new' as categorical\n",
      "... storing 'sgRNA_new' as categorical\n",
      "... storing 'perturbation_group' as categorical\n",
      "... storing 'data_split' as categorical\n",
      "... storing 'retain' as categorical\n",
      "... storing 'control_barcode' as categorical\n",
      "... storing 'sgRNA_ID' as categorical\n",
      "... storing 'pert_sgRNA' as categorical\n",
      "... storing 'condition' as categorical\n",
      "... storing 'condition_name' as categorical\n"
     ]
    },
    {
     "name": "stdout",
     "output_type": "stream",
     "text": [
      "get metrics... ...\n"
     ]
    },
    {
     "name": "stderr",
     "output_type": "stream",
     "text": [
      "  0%|          | 0/3 [00:00<?, ?it/s]/data1/lichen/code/single_cell_perturbation/scPerturb/Byte_Pert_Data/v1/utils.py:720: RuntimeWarning: invalid value encountered in divide\n",
      "  change_ratio = np.abs(pred-truth)/truth\n",
      "/data1/lichen/code/single_cell_perturbation/scPerturb/Byte_Pert_Data/v1/utils.py:720: RuntimeWarning: invalid value encountered in divide\n",
      "  change_ratio = np.abs(pred-truth)/truth\n",
      "/data1/lichen/code/single_cell_perturbation/scPerturb/Byte_Pert_Data/v1/utils.py:720: RuntimeWarning: invalid value encountered in divide\n",
      "  change_ratio = np.abs(pred-truth)/truth\n",
      "/data1/lichen/code/single_cell_perturbation/scPerturb/Byte_Pert_Data/v1/utils.py:720: RuntimeWarning: invalid value encountered in divide\n",
      "  change_ratio = np.abs(pred-truth)/truth\n",
      "/data1/lichen/code/single_cell_perturbation/scPerturb/Byte_Pert_Data/v1/utils.py:720: RuntimeWarning: invalid value encountered in divide\n",
      "  change_ratio = np.abs(pred-truth)/truth\n",
      "/data1/lichen/code/single_cell_perturbation/scPerturb/Byte_Pert_Data/v1/utils.py:720: RuntimeWarning: invalid value encountered in divide\n",
      "  change_ratio = np.abs(pred-truth)/truth\n",
      "/data1/lichen/code/single_cell_perturbation/scPerturb/Byte_Pert_Data/v1/utils.py:720: RuntimeWarning: invalid value encountered in divide\n",
      "  change_ratio = np.abs(pred-truth)/truth\n",
      "/data1/lichen/code/single_cell_perturbation/scPerturb/Byte_Pert_Data/v1/utils.py:720: RuntimeWarning: divide by zero encountered in divide\n",
      "  change_ratio = np.abs(pred-truth)/truth\n",
      "/data1/lichen/code/single_cell_perturbation/scPerturb/Byte_Pert_Data/v1/utils.py:720: RuntimeWarning: invalid value encountered in divide\n",
      "  change_ratio = np.abs(pred-truth)/truth\n",
      " 33%|███▎      | 1/3 [00:03<00:07,  3.68s/it]/data1/lichen/code/single_cell_perturbation/scPerturb/Byte_Pert_Data/v1/utils.py:720: RuntimeWarning: invalid value encountered in divide\n",
      "  change_ratio = np.abs(pred-truth)/truth\n",
      "/data1/lichen/code/single_cell_perturbation/scPerturb/Byte_Pert_Data/v1/utils.py:720: RuntimeWarning: invalid value encountered in divide\n",
      "  change_ratio = np.abs(pred-truth)/truth\n",
      "/data1/lichen/code/single_cell_perturbation/scPerturb/Byte_Pert_Data/v1/utils.py:720: RuntimeWarning: divide by zero encountered in divide\n",
      "  change_ratio = np.abs(pred-truth)/truth\n",
      "/data1/lichen/code/single_cell_perturbation/scPerturb/Byte_Pert_Data/v1/utils.py:720: RuntimeWarning: invalid value encountered in divide\n",
      "  change_ratio = np.abs(pred-truth)/truth\n",
      " 67%|██████▋   | 2/3 [00:05<00:02,  2.61s/it]/data1/lichen/code/single_cell_perturbation/scPerturb/Byte_Pert_Data/v1/utils.py:720: RuntimeWarning: invalid value encountered in divide\n",
      "  change_ratio = np.abs(pred-truth)/truth\n",
      "/data1/lichen/code/single_cell_perturbation/scPerturb/Byte_Pert_Data/v1/utils.py:720: RuntimeWarning: invalid value encountered in divide\n",
      "  change_ratio = np.abs(pred-truth)/truth\n",
      "/data1/lichen/code/single_cell_perturbation/scPerturb/Byte_Pert_Data/v1/utils.py:720: RuntimeWarning: invalid value encountered in divide\n",
      "  change_ratio = np.abs(pred-truth)/truth\n",
      "/data1/lichen/code/single_cell_perturbation/scPerturb/Byte_Pert_Data/v1/utils.py:720: RuntimeWarning: invalid value encountered in divide\n",
      "  change_ratio = np.abs(pred-truth)/truth\n",
      "/data1/lichen/code/single_cell_perturbation/scPerturb/Byte_Pert_Data/v1/utils.py:720: RuntimeWarning: invalid value encountered in divide\n",
      "  change_ratio = np.abs(pred-truth)/truth\n",
      "/data1/lichen/code/single_cell_perturbation/scPerturb/Byte_Pert_Data/v1/utils.py:720: RuntimeWarning: divide by zero encountered in divide\n",
      "  change_ratio = np.abs(pred-truth)/truth\n",
      "/data1/lichen/code/single_cell_perturbation/scPerturb/Byte_Pert_Data/v1/utils.py:720: RuntimeWarning: invalid value encountered in divide\n",
      "  change_ratio = np.abs(pred-truth)/truth\n",
      "100%|██████████| 3/3 [00:08<00:00,  2.78s/it]\n"
     ]
    },
    {
     "name": "stdout",
     "output_type": "stream",
     "text": [
      "==================== PapalexiSatija2021_eccite_arrayed_RNA\n",
      "add condition finished\n",
      "adata.shape is:  (2009, 5002)\n",
      "Loading prebuilt promoter base-GRN. Version: hg19_gimmemotifsv5_fpr2\n",
      "base_GRN.shape:  (37003, 1096)\n"
     ]
    },
    {
     "name": "stderr",
     "output_type": "stream",
     "text": [
      "... storing 'perturbation' as categorical\n",
      "... storing 'hto' as categorical\n",
      "... storing 'guide_id' as categorical\n",
      "... storing 'hto_barcode' as categorical\n"
     ]
    },
    {
     "name": "stdout",
     "output_type": "stream",
     "text": [
      "Cell number is :2009\n",
      "Metadata columns : ['perturbation', 'hto', 'guide_id', 'hto_barcode', 'gdo_barcode', 'tissue_type', 'cell_line', 'cancer', 'disease', 'perturbation_type', 'celltype', 'organism', 'nperts', 'ngenes', 'ncounts', 'percent_mito', 'percent_ribo', 'perturbation_new', 'perturbation_type_new', 'nperts_new', 'celltype_new', 'sgRNA_new', 'perturbation_group', 'data_split', 'retain', 'n_genes', 'control_barcode', 'sgRNA_ID', 'pert_sgRNA', 'condition', 'condition_name']\n",
      "Dimensional reduction:  ['X_pca', 'X_umap']\n",
      "5002 genes were found in the adata. Note that Celloracle is intended to use around 1000-3000 genes, so the behavior with this number of genes may differ from what is expected.\n"
     ]
    },
    {
     "name": "stderr",
     "output_type": "stream",
     "text": [
      "... storing 'gdo_barcode' as categorical\n",
      "... storing 'tissue_type' as categorical\n",
      "... storing 'cell_line' as categorical\n",
      "... storing 'disease' as categorical\n",
      "... storing 'perturbation_type' as categorical\n",
      "... storing 'celltype' as categorical\n",
      "... storing 'organism' as categorical\n",
      "... storing 'perturbation_new' as categorical\n",
      "... storing 'perturbation_type_new' as categorical\n",
      "... storing 'celltype_new' as categorical\n",
      "... storing 'sgRNA_new' as categorical\n",
      "... storing 'perturbation_group' as categorical\n",
      "... storing 'data_split' as categorical\n",
      "... storing 'retain' as categorical\n",
      "... storing 'control_barcode' as categorical\n",
      "... storing 'sgRNA_ID' as categorical\n",
      "... storing 'pert_sgRNA' as categorical\n",
      "... storing 'condition' as categorical\n",
      "... storing 'condition_name' as categorical\n"
     ]
    },
    {
     "name": "stdout",
     "output_type": "stream",
     "text": [
      "49\n",
      "cell number is :2009\n",
      "Auto-selected k is :50\n"
     ]
    },
    {
     "data": {
      "application/vnd.jupyter.widget-view+json": {
       "model_id": "08dcd2bac1524fab9e5afb0879a6fab5",
       "version_major": 2,
       "version_minor": 0
      },
      "text/plain": [
       "  0%|          | 0/1 [00:00<?, ?it/s]"
      ]
     },
     "metadata": {},
     "output_type": "display_data"
    },
    {
     "name": "stdout",
     "output_type": "stream",
     "text": [
      "Inferring GRN for monocytes...\n"
     ]
    },
    {
     "data": {
      "application/vnd.jupyter.widget-view+json": {
       "model_id": "8fcfd2187e464b949667207ac62970d3",
       "version_major": 2,
       "version_minor": 0
      },
      "text/plain": [
       "  0%|          | 0/3914 [00:00<?, ?it/s]"
      ]
     },
     "metadata": {},
     "output_type": "display_data"
    },
    {
     "data": {
      "application/vnd.jupyter.widget-view+json": {
       "model_id": "a321dd5a43c54b21a7f17fa704b0982e",
       "version_major": 2,
       "version_minor": 0
      },
      "text/plain": [
       "  0%|          | 0/1 [00:00<?, ?it/s]"
      ]
     },
     "metadata": {},
     "output_type": "display_data"
    },
    {
     "name": "stdout",
     "output_type": "stream",
     "text": [
      "common_pert num is:  2\n",
      "['ATF2', 'IRF1']\n"
     ]
    },
    {
     "name": "stderr",
     "output_type": "stream",
     "text": [
      "... storing 'perturbation' as categorical\n",
      "... storing 'hto' as categorical\n",
      "... storing 'guide_id' as categorical\n",
      "... storing 'hto_barcode' as categorical\n",
      "... storing 'gdo_barcode' as categorical\n",
      "... storing 'tissue_type' as categorical\n",
      "... storing 'cell_line' as categorical\n",
      "... storing 'disease' as categorical\n",
      "... storing 'perturbation_type' as categorical\n",
      "... storing 'celltype' as categorical\n",
      "... storing 'organism' as categorical\n",
      "... storing 'perturbation_new' as categorical\n",
      "... storing 'perturbation_type_new' as categorical\n",
      "... storing 'celltype_new' as categorical\n",
      "... storing 'sgRNA_new' as categorical\n",
      "... storing 'perturbation_group' as categorical\n",
      "... storing 'data_split' as categorical\n",
      "... storing 'retain' as categorical\n",
      "... storing 'control_barcode' as categorical\n",
      "... storing 'sgRNA_ID' as categorical\n",
      "... storing 'pert_sgRNA' as categorical\n",
      "... storing 'condition' as categorical\n",
      "... storing 'condition_name' as categorical\n"
     ]
    },
    {
     "name": "stdout",
     "output_type": "stream",
     "text": [
      "5002 genes were found in the adata. Note that Celloracle is intended to use around 1000-3000 genes, so the behavior with this number of genes may differ from what is expected.\n"
     ]
    },
    {
     "name": "stderr",
     "output_type": "stream",
     "text": [
      "... storing 'perturbation' as categorical\n",
      "... storing 'hto' as categorical\n",
      "... storing 'guide_id' as categorical\n",
      "... storing 'hto_barcode' as categorical\n",
      "... storing 'gdo_barcode' as categorical\n",
      "... storing 'tissue_type' as categorical\n",
      "... storing 'cell_line' as categorical\n",
      "... storing 'disease' as categorical\n",
      "... storing 'perturbation_type' as categorical\n",
      "... storing 'celltype' as categorical\n",
      "... storing 'organism' as categorical\n",
      "... storing 'perturbation_new' as categorical\n",
      "... storing 'perturbation_type_new' as categorical\n",
      "... storing 'celltype_new' as categorical\n",
      "... storing 'sgRNA_new' as categorical\n",
      "... storing 'perturbation_group' as categorical\n",
      "... storing 'data_split' as categorical\n",
      "... storing 'retain' as categorical\n",
      "... storing 'control_barcode' as categorical\n",
      "... storing 'sgRNA_ID' as categorical\n",
      "... storing 'pert_sgRNA' as categorical\n",
      "... storing 'condition' as categorical\n",
      "... storing 'condition_name' as categorical\n"
     ]
    },
    {
     "name": "stdout",
     "output_type": "stream",
     "text": [
      "5002 genes were found in the adata. Note that Celloracle is intended to use around 1000-3000 genes, so the behavior with this number of genes may differ from what is expected.\n",
      "get metrics... ...\n"
     ]
    },
    {
     "name": "stderr",
     "output_type": "stream",
     "text": [
      "  0%|          | 0/2 [00:00<?, ?it/s]/data1/lichen/code/single_cell_perturbation/scPerturb/Byte_Pert_Data/v1/utils.py:720: RuntimeWarning: invalid value encountered in divide\n",
      "  change_ratio = np.abs(pred-truth)/truth\n",
      "/data1/lichen/code/single_cell_perturbation/scPerturb/Byte_Pert_Data/v1/utils.py:720: RuntimeWarning: invalid value encountered in divide\n",
      "  change_ratio = np.abs(pred-truth)/truth\n",
      "/data1/lichen/code/single_cell_perturbation/scPerturb/Byte_Pert_Data/v1/utils.py:720: RuntimeWarning: divide by zero encountered in divide\n",
      "  change_ratio = np.abs(pred-truth)/truth\n",
      "/data1/lichen/code/single_cell_perturbation/scPerturb/Byte_Pert_Data/v1/utils.py:720: RuntimeWarning: invalid value encountered in divide\n",
      "  change_ratio = np.abs(pred-truth)/truth\n",
      " 50%|█████     | 1/2 [00:03<00:03,  3.22s/it]/data1/lichen/code/single_cell_perturbation/scPerturb/Byte_Pert_Data/v1/utils.py:720: RuntimeWarning: invalid value encountered in divide\n",
      "  change_ratio = np.abs(pred-truth)/truth\n",
      "/data1/lichen/code/single_cell_perturbation/scPerturb/Byte_Pert_Data/v1/utils.py:720: RuntimeWarning: invalid value encountered in divide\n",
      "  change_ratio = np.abs(pred-truth)/truth\n",
      "/data1/lichen/code/single_cell_perturbation/scPerturb/Byte_Pert_Data/v1/utils.py:720: RuntimeWarning: invalid value encountered in divide\n",
      "  change_ratio = np.abs(pred-truth)/truth\n",
      "/data1/lichen/code/single_cell_perturbation/scPerturb/Byte_Pert_Data/v1/utils.py:720: RuntimeWarning: invalid value encountered in divide\n",
      "  change_ratio = np.abs(pred-truth)/truth\n",
      "/data1/lichen/code/single_cell_perturbation/scPerturb/Byte_Pert_Data/v1/utils.py:720: RuntimeWarning: divide by zero encountered in divide\n",
      "  change_ratio = np.abs(pred-truth)/truth\n",
      "/data1/lichen/code/single_cell_perturbation/scPerturb/Byte_Pert_Data/v1/utils.py:720: RuntimeWarning: invalid value encountered in divide\n",
      "  change_ratio = np.abs(pred-truth)/truth\n",
      "100%|██████████| 2/2 [00:07<00:00,  3.64s/it]\n"
     ]
    },
    {
     "name": "stdout",
     "output_type": "stream",
     "text": [
      "==================== ReplogleWeissman2022_K562_essential\n",
      "add condition finished\n",
      "adata.shape is:  (10691, 5642)\n",
      "Loading prebuilt promoter base-GRN. Version: hg19_gimmemotifsv5_fpr2\n",
      "base_GRN.shape:  (37003, 1096)\n",
      "Cell number is :10000\n",
      "Metadata columns : ['batch', 'gene', 'gene_id', 'transcript', 'gene_transcript', 'guide_id', 'percent_mito', 'UMI_count', 'z_gemgroup_UMI', 'core_scale_factor', 'core_adjusted_UMI_count', 'disease', 'cancer', 'cell_line', 'sex', 'age', 'perturbation', 'organism', 'perturbation_type', 'tissue_type', 'ncounts', 'ngenes', 'nperts', 'percent_ribo', 'perturbation_new', 'perturbation_type_new', 'nperts_new', 'celltype', 'celltype_new', 'sgRNA_new', 'perturbation_group', 'data_split', 'retain', 'n_genes', 'control_barcode', 'sgRNA_ID', 'pert_sgRNA', 'condition', 'condition_name']\n",
      "Dimensional reduction:  ['X_pca', 'X_umap']\n",
      "5642 genes were found in the adata. Note that Celloracle is intended to use around 1000-3000 genes, so the behavior with this number of genes may differ from what is expected.\n"
     ]
    },
    {
     "name": "stderr",
     "output_type": "stream",
     "text": [
      "... storing 'gene' as categorical\n",
      "... storing 'gene_id' as categorical\n",
      "... storing 'transcript' as categorical\n",
      "... storing 'gene_transcript' as categorical\n",
      "... storing 'guide_id' as categorical\n",
      "... storing 'disease' as categorical\n",
      "... storing 'cell_line' as categorical\n",
      "... storing 'sex' as categorical\n",
      "... storing 'perturbation' as categorical\n",
      "... storing 'organism' as categorical\n",
      "... storing 'perturbation_type' as categorical\n",
      "... storing 'tissue_type' as categorical\n",
      "... storing 'perturbation_new' as categorical\n",
      "... storing 'perturbation_type_new' as categorical\n",
      "... storing 'celltype' as categorical\n",
      "... storing 'celltype_new' as categorical\n",
      "... storing 'sgRNA_new' as categorical\n",
      "... storing 'perturbation_group' as categorical\n",
      "... storing 'data_split' as categorical\n",
      "... storing 'retain' as categorical\n",
      "... storing 'control_barcode' as categorical\n",
      "... storing 'sgRNA_ID' as categorical\n",
      "... storing 'pert_sgRNA' as categorical\n",
      "... storing 'condition' as categorical\n",
      "... storing 'condition_name' as categorical\n"
     ]
    },
    {
     "name": "stdout",
     "output_type": "stream",
     "text": [
      "7\n",
      "cell number is :10000\n",
      "Auto-selected k is :250\n"
     ]
    },
    {
     "data": {
      "application/vnd.jupyter.widget-view+json": {
       "model_id": "eefb04bb9c85498ca51a6b87c41336c5",
       "version_major": 2,
       "version_minor": 0
      },
      "text/plain": [
       "  0%|          | 0/1 [00:00<?, ?it/s]"
      ]
     },
     "metadata": {},
     "output_type": "display_data"
    },
    {
     "name": "stdout",
     "output_type": "stream",
     "text": [
      "Inferring GRN for K562...\n"
     ]
    },
    {
     "data": {
      "application/vnd.jupyter.widget-view+json": {
       "model_id": "37306217de24497fac670fde7371c922",
       "version_major": 2,
       "version_minor": 0
      },
      "text/plain": [
       "  0%|          | 0/5401 [00:00<?, ?it/s]"
      ]
     },
     "metadata": {},
     "output_type": "display_data"
    },
    {
     "data": {
      "application/vnd.jupyter.widget-view+json": {
       "model_id": "e2a02a4cf105402e95d63529cde510c9",
       "version_major": 2,
       "version_minor": 0
      },
      "text/plain": [
       "  0%|          | 0/1 [00:00<?, ?it/s]"
      ]
     },
     "metadata": {},
     "output_type": "display_data"
    },
    {
     "name": "stdout",
     "output_type": "stream",
     "text": [
      "common_pert num is:  6\n",
      "['BRF2', 'TFDP1', 'HINFP', 'CXXC1', 'MYBL2', 'ZBTB17']\n",
      "5642 genes were found in the adata. Note that Celloracle is intended to use around 1000-3000 genes, so the behavior with this number of genes may differ from what is expected.\n"
     ]
    },
    {
     "name": "stderr",
     "output_type": "stream",
     "text": [
      "... storing 'gene' as categorical\n",
      "... storing 'gene_id' as categorical\n",
      "... storing 'transcript' as categorical\n",
      "... storing 'gene_transcript' as categorical\n",
      "... storing 'guide_id' as categorical\n",
      "... storing 'disease' as categorical\n",
      "... storing 'cell_line' as categorical\n",
      "... storing 'sex' as categorical\n",
      "... storing 'perturbation' as categorical\n",
      "... storing 'organism' as categorical\n",
      "... storing 'perturbation_type' as categorical\n",
      "... storing 'tissue_type' as categorical\n",
      "... storing 'perturbation_new' as categorical\n",
      "... storing 'perturbation_type_new' as categorical\n",
      "... storing 'celltype' as categorical\n",
      "... storing 'celltype_new' as categorical\n",
      "... storing 'sgRNA_new' as categorical\n",
      "... storing 'perturbation_group' as categorical\n",
      "... storing 'data_split' as categorical\n",
      "... storing 'retain' as categorical\n",
      "... storing 'control_barcode' as categorical\n",
      "... storing 'sgRNA_ID' as categorical\n",
      "... storing 'pert_sgRNA' as categorical\n",
      "... storing 'condition' as categorical\n",
      "... storing 'condition_name' as categorical\n"
     ]
    },
    {
     "name": "stdout",
     "output_type": "stream",
     "text": [
      "5642 genes were found in the adata. Note that Celloracle is intended to use around 1000-3000 genes, so the behavior with this number of genes may differ from what is expected.\n"
     ]
    },
    {
     "name": "stderr",
     "output_type": "stream",
     "text": [
      "... storing 'gene' as categorical\n",
      "... storing 'gene_id' as categorical\n",
      "... storing 'transcript' as categorical\n",
      "... storing 'gene_transcript' as categorical\n",
      "... storing 'guide_id' as categorical\n",
      "... storing 'disease' as categorical\n",
      "... storing 'cell_line' as categorical\n",
      "... storing 'sex' as categorical\n",
      "... storing 'perturbation' as categorical\n",
      "... storing 'organism' as categorical\n",
      "... storing 'perturbation_type' as categorical\n",
      "... storing 'tissue_type' as categorical\n",
      "... storing 'perturbation_new' as categorical\n",
      "... storing 'perturbation_type_new' as categorical\n",
      "... storing 'celltype' as categorical\n",
      "... storing 'celltype_new' as categorical\n",
      "... storing 'sgRNA_new' as categorical\n",
      "... storing 'perturbation_group' as categorical\n",
      "... storing 'data_split' as categorical\n",
      "... storing 'retain' as categorical\n",
      "... storing 'control_barcode' as categorical\n",
      "... storing 'sgRNA_ID' as categorical\n",
      "... storing 'pert_sgRNA' as categorical\n",
      "... storing 'condition' as categorical\n",
      "... storing 'condition_name' as categorical\n"
     ]
    },
    {
     "name": "stdout",
     "output_type": "stream",
     "text": [
      "HINFP is not in the tf_GRN_dict, no targets\n",
      "HINFP | K562 is filtered\n",
      "5642 genes were found in the adata. Note that Celloracle is intended to use around 1000-3000 genes, so the behavior with this number of genes may differ from what is expected.\n"
     ]
    },
    {
     "name": "stderr",
     "output_type": "stream",
     "text": [
      "... storing 'gene' as categorical\n",
      "... storing 'gene_id' as categorical\n",
      "... storing 'transcript' as categorical\n",
      "... storing 'gene_transcript' as categorical\n",
      "... storing 'guide_id' as categorical\n",
      "... storing 'disease' as categorical\n",
      "... storing 'cell_line' as categorical\n",
      "... storing 'sex' as categorical\n",
      "... storing 'perturbation' as categorical\n",
      "... storing 'organism' as categorical\n",
      "... storing 'perturbation_type' as categorical\n",
      "... storing 'tissue_type' as categorical\n",
      "... storing 'perturbation_new' as categorical\n",
      "... storing 'perturbation_type_new' as categorical\n",
      "... storing 'celltype' as categorical\n",
      "... storing 'celltype_new' as categorical\n",
      "... storing 'sgRNA_new' as categorical\n",
      "... storing 'perturbation_group' as categorical\n",
      "... storing 'data_split' as categorical\n",
      "... storing 'retain' as categorical\n",
      "... storing 'control_barcode' as categorical\n",
      "... storing 'sgRNA_ID' as categorical\n",
      "... storing 'pert_sgRNA' as categorical\n",
      "... storing 'condition' as categorical\n",
      "... storing 'condition_name' as categorical\n"
     ]
    },
    {
     "name": "stdout",
     "output_type": "stream",
     "text": [
      "5642 genes were found in the adata. Note that Celloracle is intended to use around 1000-3000 genes, so the behavior with this number of genes may differ from what is expected.\n"
     ]
    },
    {
     "name": "stderr",
     "output_type": "stream",
     "text": [
      "... storing 'gene' as categorical\n",
      "... storing 'gene_id' as categorical\n",
      "... storing 'transcript' as categorical\n",
      "... storing 'gene_transcript' as categorical\n",
      "... storing 'guide_id' as categorical\n",
      "... storing 'disease' as categorical\n",
      "... storing 'cell_line' as categorical\n",
      "... storing 'sex' as categorical\n",
      "... storing 'perturbation' as categorical\n",
      "... storing 'organism' as categorical\n",
      "... storing 'perturbation_type' as categorical\n",
      "... storing 'tissue_type' as categorical\n",
      "... storing 'perturbation_new' as categorical\n",
      "... storing 'perturbation_type_new' as categorical\n",
      "... storing 'celltype' as categorical\n",
      "... storing 'celltype_new' as categorical\n",
      "... storing 'sgRNA_new' as categorical\n",
      "... storing 'perturbation_group' as categorical\n",
      "... storing 'data_split' as categorical\n",
      "... storing 'retain' as categorical\n",
      "... storing 'control_barcode' as categorical\n",
      "... storing 'sgRNA_ID' as categorical\n",
      "... storing 'pert_sgRNA' as categorical\n",
      "... storing 'condition' as categorical\n",
      "... storing 'condition_name' as categorical\n"
     ]
    },
    {
     "name": "stdout",
     "output_type": "stream",
     "text": [
      "5642 genes were found in the adata. Note that Celloracle is intended to use around 1000-3000 genes, so the behavior with this number of genes may differ from what is expected.\n"
     ]
    },
    {
     "name": "stderr",
     "output_type": "stream",
     "text": [
      "... storing 'gene' as categorical\n",
      "... storing 'gene_id' as categorical\n",
      "... storing 'transcript' as categorical\n",
      "... storing 'gene_transcript' as categorical\n",
      "... storing 'guide_id' as categorical\n",
      "... storing 'disease' as categorical\n",
      "... storing 'cell_line' as categorical\n",
      "... storing 'sex' as categorical\n",
      "... storing 'perturbation' as categorical\n",
      "... storing 'organism' as categorical\n",
      "... storing 'perturbation_type' as categorical\n",
      "... storing 'tissue_type' as categorical\n",
      "... storing 'perturbation_new' as categorical\n",
      "... storing 'perturbation_type_new' as categorical\n",
      "... storing 'celltype' as categorical\n",
      "... storing 'celltype_new' as categorical\n",
      "... storing 'sgRNA_new' as categorical\n",
      "... storing 'perturbation_group' as categorical\n",
      "... storing 'data_split' as categorical\n",
      "... storing 'retain' as categorical\n",
      "... storing 'control_barcode' as categorical\n",
      "... storing 'sgRNA_ID' as categorical\n",
      "... storing 'pert_sgRNA' as categorical\n",
      "... storing 'condition' as categorical\n",
      "... storing 'condition_name' as categorical\n"
     ]
    },
    {
     "name": "stdout",
     "output_type": "stream",
     "text": [
      "get metrics... ...\n"
     ]
    },
    {
     "name": "stderr",
     "output_type": "stream",
     "text": [
      "100%|██████████| 5/5 [00:03<00:00,  1.29it/s]\n"
     ]
    },
    {
     "name": "stdout",
     "output_type": "stream",
     "text": [
      "==================== ReplogleWeissman2022_rpe1\n",
      "add condition finished\n",
      "adata.shape is:  (11485, 5359)\n",
      "Loading prebuilt promoter base-GRN. Version: hg19_gimmemotifsv5_fpr2\n",
      "base_GRN.shape:  (37003, 1096)\n",
      "Cell number is :10000\n",
      "Metadata columns : ['batch', 'gene', 'gene_id', 'transcript', 'gene_transcript', 'guide_id', 'percent_mito', 'UMI_count', 'z_gemgroup_UMI', 'core_scale_factor', 'core_adjusted_UMI_count', 'disease', 'cancer', 'cell_line', 'sex', 'age', 'perturbation', 'organism', 'perturbation_type', 'tissue_type', 'ncounts', 'ngenes', 'nperts', 'percent_ribo', 'celltype', 'perturbation_new', 'perturbation_type_new', 'nperts_new', 'celltype_new', 'sgRNA_new', 'perturbation_group', 'data_split', 'retain', 'n_genes', 'control_barcode', 'sgRNA_ID', 'pert_sgRNA', 'condition', 'condition_name']\n",
      "Dimensional reduction:  ['X_pca', 'X_umap']\n",
      "5359 genes were found in the adata. Note that Celloracle is intended to use around 1000-3000 genes, so the behavior with this number of genes may differ from what is expected.\n"
     ]
    },
    {
     "name": "stderr",
     "output_type": "stream",
     "text": [
      "... storing 'gene' as categorical\n",
      "... storing 'gene_id' as categorical\n",
      "... storing 'transcript' as categorical\n",
      "... storing 'gene_transcript' as categorical\n",
      "... storing 'guide_id' as categorical\n",
      "... storing 'cell_line' as categorical\n",
      "... storing 'sex' as categorical\n",
      "... storing 'perturbation' as categorical\n",
      "... storing 'organism' as categorical\n",
      "... storing 'perturbation_type' as categorical\n",
      "... storing 'tissue_type' as categorical\n",
      "... storing 'celltype' as categorical\n",
      "... storing 'perturbation_new' as categorical\n",
      "... storing 'perturbation_type_new' as categorical\n",
      "... storing 'celltype_new' as categorical\n",
      "... storing 'sgRNA_new' as categorical\n",
      "... storing 'perturbation_group' as categorical\n",
      "... storing 'data_split' as categorical\n",
      "... storing 'retain' as categorical\n",
      "... storing 'control_barcode' as categorical\n",
      "... storing 'sgRNA_ID' as categorical\n",
      "... storing 'pert_sgRNA' as categorical\n",
      "... storing 'condition' as categorical\n",
      "... storing 'condition_name' as categorical\n"
     ]
    },
    {
     "name": "stdout",
     "output_type": "stream",
     "text": [
      "10\n",
      "cell number is :10000\n",
      "Auto-selected k is :250\n"
     ]
    },
    {
     "data": {
      "application/vnd.jupyter.widget-view+json": {
       "model_id": "193067257e8f4f8d8bcf31b3df11ea46",
       "version_major": 2,
       "version_minor": 0
      },
      "text/plain": [
       "  0%|          | 0/1 [00:00<?, ?it/s]"
      ]
     },
     "metadata": {},
     "output_type": "display_data"
    },
    {
     "name": "stdout",
     "output_type": "stream",
     "text": [
      "Inferring GRN for retinal pigment epithelial cells...\n"
     ]
    },
    {
     "data": {
      "application/vnd.jupyter.widget-view+json": {
       "model_id": "60e33853f57740efaeb8e9043232c192",
       "version_major": 2,
       "version_minor": 0
      },
      "text/plain": [
       "  0%|          | 0/5201 [00:00<?, ?it/s]"
      ]
     },
     "metadata": {},
     "output_type": "display_data"
    },
    {
     "data": {
      "application/vnd.jupyter.widget-view+json": {
       "model_id": "3be57da58042447db4ce7d3610aa2ecf",
       "version_major": 2,
       "version_minor": 0
      },
      "text/plain": [
       "  0%|          | 0/1 [00:00<?, ?it/s]"
      ]
     },
     "metadata": {},
     "output_type": "display_data"
    },
    {
     "name": "stdout",
     "output_type": "stream",
     "text": [
      "common_pert num is:  4\n",
      "['MBTPS2', 'PRDM4', 'SIN3A', 'SP1']\n",
      "5359 genes were found in the adata. Note that Celloracle is intended to use around 1000-3000 genes, so the behavior with this number of genes may differ from what is expected.\n"
     ]
    },
    {
     "name": "stderr",
     "output_type": "stream",
     "text": [
      "... storing 'gene' as categorical\n",
      "... storing 'gene_id' as categorical\n",
      "... storing 'transcript' as categorical\n",
      "... storing 'gene_transcript' as categorical\n",
      "... storing 'guide_id' as categorical\n",
      "... storing 'cell_line' as categorical\n",
      "... storing 'sex' as categorical\n",
      "... storing 'perturbation' as categorical\n",
      "... storing 'organism' as categorical\n",
      "... storing 'perturbation_type' as categorical\n",
      "... storing 'tissue_type' as categorical\n",
      "... storing 'celltype' as categorical\n",
      "... storing 'perturbation_new' as categorical\n",
      "... storing 'perturbation_type_new' as categorical\n",
      "... storing 'celltype_new' as categorical\n",
      "... storing 'sgRNA_new' as categorical\n",
      "... storing 'perturbation_group' as categorical\n",
      "... storing 'data_split' as categorical\n",
      "... storing 'retain' as categorical\n",
      "... storing 'control_barcode' as categorical\n",
      "... storing 'sgRNA_ID' as categorical\n",
      "... storing 'pert_sgRNA' as categorical\n",
      "... storing 'condition' as categorical\n",
      "... storing 'condition_name' as categorical\n"
     ]
    },
    {
     "name": "stdout",
     "output_type": "stream",
     "text": [
      "PRDM4 is not in the tf_GRN_dict, no targets\n",
      "PRDM4 | retinal pigment epithelial cells is filtered\n",
      "5359 genes were found in the adata. Note that Celloracle is intended to use around 1000-3000 genes, so the behavior with this number of genes may differ from what is expected.\n"
     ]
    },
    {
     "name": "stderr",
     "output_type": "stream",
     "text": [
      "... storing 'gene' as categorical\n",
      "... storing 'gene_id' as categorical\n",
      "... storing 'transcript' as categorical\n",
      "... storing 'gene_transcript' as categorical\n",
      "... storing 'guide_id' as categorical\n",
      "... storing 'cell_line' as categorical\n",
      "... storing 'sex' as categorical\n",
      "... storing 'perturbation' as categorical\n",
      "... storing 'organism' as categorical\n",
      "... storing 'perturbation_type' as categorical\n",
      "... storing 'tissue_type' as categorical\n",
      "... storing 'celltype' as categorical\n",
      "... storing 'perturbation_new' as categorical\n",
      "... storing 'perturbation_type_new' as categorical\n",
      "... storing 'celltype_new' as categorical\n",
      "... storing 'sgRNA_new' as categorical\n",
      "... storing 'perturbation_group' as categorical\n",
      "... storing 'data_split' as categorical\n",
      "... storing 'retain' as categorical\n",
      "... storing 'control_barcode' as categorical\n",
      "... storing 'sgRNA_ID' as categorical\n",
      "... storing 'pert_sgRNA' as categorical\n",
      "... storing 'condition' as categorical\n",
      "... storing 'condition_name' as categorical\n"
     ]
    },
    {
     "name": "stdout",
     "output_type": "stream",
     "text": [
      "5359 genes were found in the adata. Note that Celloracle is intended to use around 1000-3000 genes, so the behavior with this number of genes may differ from what is expected.\n"
     ]
    },
    {
     "name": "stderr",
     "output_type": "stream",
     "text": [
      "... storing 'gene' as categorical\n",
      "... storing 'gene_id' as categorical\n",
      "... storing 'transcript' as categorical\n",
      "... storing 'gene_transcript' as categorical\n",
      "... storing 'guide_id' as categorical\n",
      "... storing 'cell_line' as categorical\n",
      "... storing 'sex' as categorical\n",
      "... storing 'perturbation' as categorical\n",
      "... storing 'organism' as categorical\n",
      "... storing 'perturbation_type' as categorical\n",
      "... storing 'tissue_type' as categorical\n",
      "... storing 'celltype' as categorical\n",
      "... storing 'perturbation_new' as categorical\n",
      "... storing 'perturbation_type_new' as categorical\n",
      "... storing 'celltype_new' as categorical\n",
      "... storing 'sgRNA_new' as categorical\n",
      "... storing 'perturbation_group' as categorical\n",
      "... storing 'data_split' as categorical\n",
      "... storing 'retain' as categorical\n",
      "... storing 'control_barcode' as categorical\n",
      "... storing 'sgRNA_ID' as categorical\n",
      "... storing 'pert_sgRNA' as categorical\n",
      "... storing 'condition' as categorical\n",
      "... storing 'condition_name' as categorical\n"
     ]
    },
    {
     "name": "stdout",
     "output_type": "stream",
     "text": [
      "get metrics... ...\n"
     ]
    },
    {
     "name": "stderr",
     "output_type": "stream",
     "text": [
      "100%|██████████| 3/3 [00:01<00:00,  1.54it/s]\n"
     ]
    },
    {
     "name": "stdout",
     "output_type": "stream",
     "text": [
      "==================== ShifrutMarson2018\n",
      "add condition finished\n",
      "adata.shape is:  (13461, 5014)\n",
      "Loading prebuilt promoter base-GRN. Version: hg19_gimmemotifsv5_fpr2\n",
      "base_GRN.shape:  (37003, 1096)\n",
      "Cell number is :10000\n",
      "Metadata columns : ['perturbation', 'gRNA_UMI_count', 'replicate', 'perturbation_2', 'library', 'cancer', 'celltype', 'organism', 'disease', 'tissue_type', 'perturbation_type', 'perturbation_type_2', 'ncounts', 'ngenes', 'percent_mito', 'percent_ribo', 'nperts', 'guide_id', 'target', 'perturbation_new', 'perturbation_type_new', 'nperts_new', 'celltype_new', 'sgRNA_new', 'perturbation_group', 'data_split', 'retain', 'n_genes', 'control_barcode', 'sgRNA_ID', 'pert_sgRNA', 'condition', 'condition_name']\n",
      "Dimensional reduction:  ['X_pca', 'X_umap']\n",
      "5014 genes were found in the adata. Note that Celloracle is intended to use around 1000-3000 genes, so the behavior with this number of genes may differ from what is expected.\n"
     ]
    },
    {
     "name": "stderr",
     "output_type": "stream",
     "text": [
      "... storing 'perturbation' as categorical\n",
      "... storing 'replicate' as categorical\n",
      "... storing 'perturbation_2' as categorical\n",
      "... storing 'library' as categorical\n",
      "... storing 'celltype' as categorical\n",
      "... storing 'organism' as categorical\n",
      "... storing 'disease' as categorical\n",
      "... storing 'tissue_type' as categorical\n",
      "... storing 'perturbation_type' as categorical\n",
      "... storing 'perturbation_type_2' as categorical\n",
      "... storing 'guide_id' as categorical\n",
      "... storing 'target' as categorical\n",
      "... storing 'perturbation_new' as categorical\n",
      "... storing 'perturbation_type_new' as categorical\n",
      "... storing 'celltype_new' as categorical\n",
      "... storing 'sgRNA_new' as categorical\n",
      "... storing 'perturbation_group' as categorical\n",
      "... storing 'data_split' as categorical\n",
      "... storing 'retain' as categorical\n",
      "... storing 'control_barcode' as categorical\n",
      "... storing 'sgRNA_ID' as categorical\n",
      "... storing 'pert_sgRNA' as categorical\n",
      "... storing 'condition' as categorical\n",
      "... storing 'condition_name' as categorical\n"
     ]
    },
    {
     "name": "stdout",
     "output_type": "stream",
     "text": [
      "37\n",
      "cell number is :10000\n",
      "Auto-selected k is :250\n"
     ]
    },
    {
     "data": {
      "application/vnd.jupyter.widget-view+json": {
       "model_id": "f35c7813b96e4d1889a7eaf4412f0659",
       "version_major": 2,
       "version_minor": 0
      },
      "text/plain": [
       "  0%|          | 0/1 [00:00<?, ?it/s]"
      ]
     },
     "metadata": {},
     "output_type": "display_data"
    },
    {
     "name": "stdout",
     "output_type": "stream",
     "text": [
      "Inferring GRN for T cells...\n"
     ]
    },
    {
     "data": {
      "application/vnd.jupyter.widget-view+json": {
       "model_id": "1b0e061f15de4a2681ecf2b58a9125e3",
       "version_major": 2,
       "version_minor": 0
      },
      "text/plain": [
       "  0%|          | 0/3420 [00:00<?, ?it/s]"
      ]
     },
     "metadata": {},
     "output_type": "display_data"
    },
    {
     "data": {
      "application/vnd.jupyter.widget-view+json": {
       "model_id": "e05310cfe6f640ee8759c5d246083177",
       "version_major": 2,
       "version_minor": 0
      },
      "text/plain": [
       "  0%|          | 0/1 [00:00<?, ?it/s]"
      ]
     },
     "metadata": {},
     "output_type": "display_data"
    },
    {
     "name": "stdout",
     "output_type": "stream",
     "text": [
      "common_pert num is:  1\n",
      "['STAT6']\n",
      "5014 genes were found in the adata. Note that Celloracle is intended to use around 1000-3000 genes, so the behavior with this number of genes may differ from what is expected.\n"
     ]
    },
    {
     "name": "stderr",
     "output_type": "stream",
     "text": [
      "... storing 'perturbation' as categorical\n",
      "... storing 'replicate' as categorical\n",
      "... storing 'perturbation_2' as categorical\n",
      "... storing 'library' as categorical\n",
      "... storing 'celltype' as categorical\n",
      "... storing 'organism' as categorical\n",
      "... storing 'disease' as categorical\n",
      "... storing 'tissue_type' as categorical\n",
      "... storing 'perturbation_type' as categorical\n",
      "... storing 'perturbation_type_2' as categorical\n",
      "... storing 'guide_id' as categorical\n",
      "... storing 'target' as categorical\n",
      "... storing 'perturbation_new' as categorical\n",
      "... storing 'perturbation_type_new' as categorical\n",
      "... storing 'celltype_new' as categorical\n",
      "... storing 'sgRNA_new' as categorical\n",
      "... storing 'perturbation_group' as categorical\n",
      "... storing 'data_split' as categorical\n",
      "... storing 'retain' as categorical\n",
      "... storing 'control_barcode' as categorical\n",
      "... storing 'sgRNA_ID' as categorical\n",
      "... storing 'pert_sgRNA' as categorical\n",
      "... storing 'condition' as categorical\n",
      "... storing 'condition_name' as categorical\n"
     ]
    },
    {
     "name": "stdout",
     "output_type": "stream",
     "text": [
      "get metrics... ...\n"
     ]
    },
    {
     "name": "stderr",
     "output_type": "stream",
     "text": [
      "  0%|          | 0/1 [00:00<?, ?it/s]/data1/lichen/code/single_cell_perturbation/scPerturb/Byte_Pert_Data/v1/utils.py:720: RuntimeWarning: invalid value encountered in divide\n",
      "  change_ratio = np.abs(pred-truth)/truth\n",
      "/data1/lichen/code/single_cell_perturbation/scPerturb/Byte_Pert_Data/v1/utils.py:720: RuntimeWarning: invalid value encountered in divide\n",
      "  change_ratio = np.abs(pred-truth)/truth\n",
      "/data1/lichen/code/single_cell_perturbation/scPerturb/Byte_Pert_Data/v1/utils.py:720: RuntimeWarning: invalid value encountered in divide\n",
      "  change_ratio = np.abs(pred-truth)/truth\n",
      "/data1/lichen/code/single_cell_perturbation/scPerturb/Byte_Pert_Data/v1/utils.py:720: RuntimeWarning: invalid value encountered in divide\n",
      "  change_ratio = np.abs(pred-truth)/truth\n",
      "/data1/lichen/code/single_cell_perturbation/scPerturb/Byte_Pert_Data/v1/utils.py:720: RuntimeWarning: invalid value encountered in divide\n",
      "  change_ratio = np.abs(pred-truth)/truth\n",
      "/data1/lichen/code/single_cell_perturbation/scPerturb/Byte_Pert_Data/v1/utils.py:720: RuntimeWarning: invalid value encountered in divide\n",
      "  change_ratio = np.abs(pred-truth)/truth\n",
      "/data1/lichen/code/single_cell_perturbation/scPerturb/Byte_Pert_Data/v1/utils.py:720: RuntimeWarning: invalid value encountered in divide\n",
      "  change_ratio = np.abs(pred-truth)/truth\n",
      "/data1/lichen/code/single_cell_perturbation/scPerturb/Byte_Pert_Data/v1/utils.py:720: RuntimeWarning: invalid value encountered in divide\n",
      "  change_ratio = np.abs(pred-truth)/truth\n",
      "/data1/lichen/code/single_cell_perturbation/scPerturb/Byte_Pert_Data/v1/utils.py:720: RuntimeWarning: invalid value encountered in divide\n",
      "  change_ratio = np.abs(pred-truth)/truth\n",
      "/data1/lichen/code/single_cell_perturbation/scPerturb/Byte_Pert_Data/v1/utils.py:720: RuntimeWarning: divide by zero encountered in divide\n",
      "  change_ratio = np.abs(pred-truth)/truth\n",
      "/data1/lichen/code/single_cell_perturbation/scPerturb/Byte_Pert_Data/v1/utils.py:720: RuntimeWarning: invalid value encountered in divide\n",
      "  change_ratio = np.abs(pred-truth)/truth\n",
      "100%|██████████| 1/1 [00:00<00:00,  2.09it/s]\n"
     ]
    },
    {
     "name": "stdout",
     "output_type": "stream",
     "text": [
      "==================== SunshineHein2023\n",
      "add condition finished\n",
      "adata.shape is:  (3530, 5112)\n",
      "Loading prebuilt promoter base-GRN. Version: hg19_gimmemotifsv5_fpr2\n",
      "base_GRN.shape:  (37003, 1096)\n",
      "Cell number is :3530\n",
      "Metadata columns : ['guide_id', 'nperts', 'read_count', 'UMI_count', 'coverage', 'gem_group', 'good_coverage', 'number_of_cells', 'matched_library_element', 'match_type', 'perturbation', 'perturbation_type', 'disease', 'cancer', 'tissue_type', 'cell_line', 'celltype', 'organism', 'ncounts', 'ngenes', 'percent_mito', 'percent_ribo', 'perturbation_new', 'perturbation_type_new', 'nperts_new', 'celltype_new', 'sgRNA_new', 'guide_id_new', 'perturbation_group', 'data_split', 'retain', 'n_genes', 'control_barcode', 'sgRNA_ID', 'pert_sgRNA', 'condition', 'condition_name']\n",
      "Dimensional reduction:  ['SCOV_expression', 'lentivirus_capture', 'X_pca', 'X_umap']\n",
      "5112 genes were found in the adata. Note that Celloracle is intended to use around 1000-3000 genes, so the behavior with this number of genes may differ from what is expected.\n"
     ]
    },
    {
     "name": "stderr",
     "output_type": "stream",
     "text": [
      "... storing 'guide_id' as categorical\n",
      "... storing 'read_count' as categorical\n",
      "... storing 'UMI_count' as categorical\n",
      "... storing 'coverage' as categorical\n",
      "... storing 'matched_library_element' as categorical\n",
      "... storing 'match_type' as categorical\n",
      "... storing 'perturbation' as categorical\n",
      "... storing 'perturbation_type' as categorical\n",
      "... storing 'disease' as categorical\n",
      "... storing 'tissue_type' as categorical\n",
      "... storing 'cell_line' as categorical\n",
      "... storing 'celltype' as categorical\n",
      "... storing 'organism' as categorical\n",
      "... storing 'perturbation_new' as categorical\n",
      "... storing 'perturbation_type_new' as categorical\n",
      "... storing 'celltype_new' as categorical\n",
      "... storing 'sgRNA_new' as categorical\n",
      "... storing 'guide_id_new' as categorical\n",
      "... storing 'perturbation_group' as categorical\n",
      "... storing 'data_split' as categorical\n",
      "... storing 'retain' as categorical\n",
      "... storing 'control_barcode' as categorical\n",
      "... storing 'sgRNA_ID' as categorical\n",
      "... storing 'pert_sgRNA' as categorical\n",
      "... storing 'condition' as categorical\n",
      "... storing 'condition_name' as categorical\n"
     ]
    },
    {
     "name": "stdout",
     "output_type": "stream",
     "text": [
      "34\n",
      "cell number is :3530\n",
      "Auto-selected k is :88\n"
     ]
    },
    {
     "data": {
      "application/vnd.jupyter.widget-view+json": {
       "model_id": "ae8a7f0c381241569d9b5057e50b6148",
       "version_major": 2,
       "version_minor": 0
      },
      "text/plain": [
       "  0%|          | 0/1 [00:00<?, ?it/s]"
      ]
     },
     "metadata": {},
     "output_type": "display_data"
    },
    {
     "name": "stdout",
     "output_type": "stream",
     "text": [
      "Inferring GRN for lung epithelial cells...\n"
     ]
    },
    {
     "data": {
      "application/vnd.jupyter.widget-view+json": {
       "model_id": "ca6ca87ecec14a8f92baa5cf925087d2",
       "version_major": 2,
       "version_minor": 0
      },
      "text/plain": [
       "  0%|          | 0/3883 [00:00<?, ?it/s]"
      ]
     },
     "metadata": {},
     "output_type": "display_data"
    },
    {
     "data": {
      "application/vnd.jupyter.widget-view+json": {
       "model_id": "abd6f014d84a4438a4d85d333ca4a8e1",
       "version_major": 2,
       "version_minor": 0
      },
      "text/plain": [
       "  0%|          | 0/1 [00:00<?, ?it/s]"
      ]
     },
     "metadata": {},
     "output_type": "display_data"
    },
    {
     "name": "stdout",
     "output_type": "stream",
     "text": [
      "common_pert num is:  3\n",
      "['XBP1', 'STAT1', 'HDAC2']\n",
      "5112 genes were found in the adata. Note that Celloracle is intended to use around 1000-3000 genes, so the behavior with this number of genes may differ from what is expected.\n"
     ]
    },
    {
     "name": "stderr",
     "output_type": "stream",
     "text": [
      "... storing 'guide_id' as categorical\n",
      "... storing 'read_count' as categorical\n",
      "... storing 'UMI_count' as categorical\n",
      "... storing 'coverage' as categorical\n",
      "... storing 'matched_library_element' as categorical\n",
      "... storing 'match_type' as categorical\n",
      "... storing 'perturbation' as categorical\n",
      "... storing 'perturbation_type' as categorical\n",
      "... storing 'disease' as categorical\n",
      "... storing 'tissue_type' as categorical\n",
      "... storing 'cell_line' as categorical\n",
      "... storing 'celltype' as categorical\n",
      "... storing 'organism' as categorical\n",
      "... storing 'perturbation_new' as categorical\n",
      "... storing 'perturbation_type_new' as categorical\n",
      "... storing 'celltype_new' as categorical\n",
      "... storing 'sgRNA_new' as categorical\n",
      "... storing 'guide_id_new' as categorical\n",
      "... storing 'perturbation_group' as categorical\n",
      "... storing 'data_split' as categorical\n",
      "... storing 'retain' as categorical\n",
      "... storing 'control_barcode' as categorical\n",
      "... storing 'sgRNA_ID' as categorical\n",
      "... storing 'pert_sgRNA' as categorical\n",
      "... storing 'condition' as categorical\n",
      "... storing 'condition_name' as categorical\n"
     ]
    },
    {
     "name": "stdout",
     "output_type": "stream",
     "text": [
      "5112 genes were found in the adata. Note that Celloracle is intended to use around 1000-3000 genes, so the behavior with this number of genes may differ from what is expected.\n"
     ]
    },
    {
     "name": "stderr",
     "output_type": "stream",
     "text": [
      "... storing 'guide_id' as categorical\n",
      "... storing 'read_count' as categorical\n",
      "... storing 'UMI_count' as categorical\n",
      "... storing 'coverage' as categorical\n",
      "... storing 'matched_library_element' as categorical\n",
      "... storing 'match_type' as categorical\n",
      "... storing 'perturbation' as categorical\n",
      "... storing 'perturbation_type' as categorical\n",
      "... storing 'disease' as categorical\n",
      "... storing 'tissue_type' as categorical\n",
      "... storing 'cell_line' as categorical\n",
      "... storing 'celltype' as categorical\n",
      "... storing 'organism' as categorical\n",
      "... storing 'perturbation_new' as categorical\n",
      "... storing 'perturbation_type_new' as categorical\n",
      "... storing 'celltype_new' as categorical\n",
      "... storing 'sgRNA_new' as categorical\n",
      "... storing 'guide_id_new' as categorical\n",
      "... storing 'perturbation_group' as categorical\n",
      "... storing 'data_split' as categorical\n",
      "... storing 'retain' as categorical\n",
      "... storing 'control_barcode' as categorical\n",
      "... storing 'sgRNA_ID' as categorical\n",
      "... storing 'pert_sgRNA' as categorical\n",
      "... storing 'condition' as categorical\n",
      "... storing 'condition_name' as categorical\n"
     ]
    },
    {
     "name": "stdout",
     "output_type": "stream",
     "text": [
      "5112 genes were found in the adata. Note that Celloracle is intended to use around 1000-3000 genes, so the behavior with this number of genes may differ from what is expected.\n"
     ]
    },
    {
     "name": "stderr",
     "output_type": "stream",
     "text": [
      "... storing 'guide_id' as categorical\n",
      "... storing 'read_count' as categorical\n",
      "... storing 'UMI_count' as categorical\n",
      "... storing 'coverage' as categorical\n",
      "... storing 'matched_library_element' as categorical\n",
      "... storing 'match_type' as categorical\n",
      "... storing 'perturbation' as categorical\n",
      "... storing 'perturbation_type' as categorical\n",
      "... storing 'disease' as categorical\n",
      "... storing 'tissue_type' as categorical\n",
      "... storing 'cell_line' as categorical\n",
      "... storing 'celltype' as categorical\n",
      "... storing 'organism' as categorical\n",
      "... storing 'perturbation_new' as categorical\n",
      "... storing 'perturbation_type_new' as categorical\n",
      "... storing 'celltype_new' as categorical\n",
      "... storing 'sgRNA_new' as categorical\n",
      "... storing 'guide_id_new' as categorical\n",
      "... storing 'perturbation_group' as categorical\n",
      "... storing 'data_split' as categorical\n",
      "... storing 'retain' as categorical\n",
      "... storing 'control_barcode' as categorical\n",
      "... storing 'sgRNA_ID' as categorical\n",
      "... storing 'pert_sgRNA' as categorical\n",
      "... storing 'condition' as categorical\n",
      "... storing 'condition_name' as categorical\n"
     ]
    },
    {
     "name": "stdout",
     "output_type": "stream",
     "text": [
      "get metrics... ...\n"
     ]
    },
    {
     "name": "stderr",
     "output_type": "stream",
     "text": [
      "  0%|          | 0/3 [00:00<?, ?it/s]/data1/lichen/code/single_cell_perturbation/scPerturb/Byte_Pert_Data/v1/utils.py:720: RuntimeWarning: invalid value encountered in divide\n",
      "  change_ratio = np.abs(pred-truth)/truth\n",
      "/data1/lichen/code/single_cell_perturbation/scPerturb/Byte_Pert_Data/v1/utils.py:720: RuntimeWarning: invalid value encountered in divide\n",
      "  change_ratio = np.abs(pred-truth)/truth\n",
      "/data1/lichen/code/single_cell_perturbation/scPerturb/Byte_Pert_Data/v1/utils.py:720: RuntimeWarning: invalid value encountered in divide\n",
      "  change_ratio = np.abs(pred-truth)/truth\n",
      "/data1/lichen/code/single_cell_perturbation/scPerturb/Byte_Pert_Data/v1/utils.py:720: RuntimeWarning: invalid value encountered in divide\n",
      "  change_ratio = np.abs(pred-truth)/truth\n",
      "/data1/lichen/code/single_cell_perturbation/scPerturb/Byte_Pert_Data/v1/utils.py:720: RuntimeWarning: invalid value encountered in divide\n",
      "  change_ratio = np.abs(pred-truth)/truth\n",
      "/data1/lichen/code/single_cell_perturbation/scPerturb/Byte_Pert_Data/v1/utils.py:720: RuntimeWarning: invalid value encountered in divide\n",
      "  change_ratio = np.abs(pred-truth)/truth\n",
      "/data1/lichen/code/single_cell_perturbation/scPerturb/Byte_Pert_Data/v1/utils.py:720: RuntimeWarning: invalid value encountered in divide\n",
      "  change_ratio = np.abs(pred-truth)/truth\n",
      "/data1/lichen/code/single_cell_perturbation/scPerturb/Byte_Pert_Data/v1/utils.py:720: RuntimeWarning: invalid value encountered in divide\n",
      "  change_ratio = np.abs(pred-truth)/truth\n",
      "/data1/lichen/code/single_cell_perturbation/scPerturb/Byte_Pert_Data/v1/utils.py:720: RuntimeWarning: invalid value encountered in divide\n",
      "  change_ratio = np.abs(pred-truth)/truth\n",
      "/data1/lichen/code/single_cell_perturbation/scPerturb/Byte_Pert_Data/v1/utils.py:720: RuntimeWarning: divide by zero encountered in divide\n",
      "  change_ratio = np.abs(pred-truth)/truth\n",
      "/data1/lichen/code/single_cell_perturbation/scPerturb/Byte_Pert_Data/v1/utils.py:720: RuntimeWarning: invalid value encountered in divide\n",
      "  change_ratio = np.abs(pred-truth)/truth\n",
      " 33%|███▎      | 1/3 [00:00<00:00,  2.66it/s]/data1/lichen/code/single_cell_perturbation/scPerturb/Byte_Pert_Data/v1/utils.py:720: RuntimeWarning: invalid value encountered in divide\n",
      "  change_ratio = np.abs(pred-truth)/truth\n",
      "/data1/lichen/code/single_cell_perturbation/scPerturb/Byte_Pert_Data/v1/utils.py:720: RuntimeWarning: invalid value encountered in divide\n",
      "  change_ratio = np.abs(pred-truth)/truth\n",
      "/data1/lichen/code/single_cell_perturbation/scPerturb/Byte_Pert_Data/v1/utils.py:720: RuntimeWarning: invalid value encountered in divide\n",
      "  change_ratio = np.abs(pred-truth)/truth\n",
      "/data1/lichen/code/single_cell_perturbation/scPerturb/Byte_Pert_Data/v1/utils.py:720: RuntimeWarning: invalid value encountered in divide\n",
      "  change_ratio = np.abs(pred-truth)/truth\n",
      "/data1/lichen/code/single_cell_perturbation/scPerturb/Byte_Pert_Data/v1/utils.py:720: RuntimeWarning: invalid value encountered in divide\n",
      "  change_ratio = np.abs(pred-truth)/truth\n",
      "/data1/lichen/code/single_cell_perturbation/scPerturb/Byte_Pert_Data/v1/utils.py:720: RuntimeWarning: invalid value encountered in divide\n",
      "  change_ratio = np.abs(pred-truth)/truth\n",
      "/data1/lichen/code/single_cell_perturbation/scPerturb/Byte_Pert_Data/v1/utils.py:720: RuntimeWarning: invalid value encountered in divide\n",
      "  change_ratio = np.abs(pred-truth)/truth\n",
      "/data1/lichen/code/single_cell_perturbation/scPerturb/Byte_Pert_Data/v1/utils.py:720: RuntimeWarning: divide by zero encountered in divide\n",
      "  change_ratio = np.abs(pred-truth)/truth\n",
      "/data1/lichen/code/single_cell_perturbation/scPerturb/Byte_Pert_Data/v1/utils.py:720: RuntimeWarning: invalid value encountered in divide\n",
      "  change_ratio = np.abs(pred-truth)/truth\n",
      " 67%|██████▋   | 2/3 [00:01<00:00,  1.38it/s]/data1/lichen/code/single_cell_perturbation/scPerturb/Byte_Pert_Data/v1/utils.py:720: RuntimeWarning: invalid value encountered in divide\n",
      "  change_ratio = np.abs(pred-truth)/truth\n",
      "/data1/lichen/code/single_cell_perturbation/scPerturb/Byte_Pert_Data/v1/utils.py:720: RuntimeWarning: invalid value encountered in divide\n",
      "  change_ratio = np.abs(pred-truth)/truth\n",
      "/data1/lichen/code/single_cell_perturbation/scPerturb/Byte_Pert_Data/v1/utils.py:720: RuntimeWarning: invalid value encountered in divide\n",
      "  change_ratio = np.abs(pred-truth)/truth\n",
      "/data1/lichen/code/single_cell_perturbation/scPerturb/Byte_Pert_Data/v1/utils.py:720: RuntimeWarning: invalid value encountered in divide\n",
      "  change_ratio = np.abs(pred-truth)/truth\n",
      "/data1/lichen/code/single_cell_perturbation/scPerturb/Byte_Pert_Data/v1/utils.py:720: RuntimeWarning: invalid value encountered in divide\n",
      "  change_ratio = np.abs(pred-truth)/truth\n",
      "/data1/lichen/code/single_cell_perturbation/scPerturb/Byte_Pert_Data/v1/utils.py:720: RuntimeWarning: invalid value encountered in divide\n",
      "  change_ratio = np.abs(pred-truth)/truth\n",
      "/data1/lichen/code/single_cell_perturbation/scPerturb/Byte_Pert_Data/v1/utils.py:720: RuntimeWarning: invalid value encountered in divide\n",
      "  change_ratio = np.abs(pred-truth)/truth\n",
      "/data1/lichen/code/single_cell_perturbation/scPerturb/Byte_Pert_Data/v1/utils.py:720: RuntimeWarning: invalid value encountered in divide\n",
      "  change_ratio = np.abs(pred-truth)/truth\n",
      "/data1/lichen/code/single_cell_perturbation/scPerturb/Byte_Pert_Data/v1/utils.py:720: RuntimeWarning: invalid value encountered in divide\n",
      "  change_ratio = np.abs(pred-truth)/truth\n",
      "/data1/lichen/code/single_cell_perturbation/scPerturb/Byte_Pert_Data/v1/utils.py:720: RuntimeWarning: divide by zero encountered in divide\n",
      "  change_ratio = np.abs(pred-truth)/truth\n",
      "/data1/lichen/code/single_cell_perturbation/scPerturb/Byte_Pert_Data/v1/utils.py:720: RuntimeWarning: invalid value encountered in divide\n",
      "  change_ratio = np.abs(pred-truth)/truth\n",
      "100%|██████████| 3/3 [00:02<00:00,  1.45it/s]\n"
     ]
    },
    {
     "name": "stdout",
     "output_type": "stream",
     "text": [
      "==================== TianKampmann2019_day7neuron\n",
      "add condition finished\n",
      "adata.shape is:  (5296, 5015)\n",
      "Loading prebuilt promoter base-GRN. Version: hg19_gimmemotifsv5_fpr2\n",
      "base_GRN.shape:  (37003, 1096)\n",
      "Cell number is :5296\n",
      "Metadata columns : ['batch', 'cancer', 'celltype', 'disease', 'guide_id', 'organism', 'perturbation', 'perturbation_type', 'sgRNA_read_count', 'sgRNA_umi_count', 'tissue_type', 'nperts', 'ngenes', 'ncounts', 'percent_mito', 'percent_ribo', 'percent_hemo', 'perturbation_new', 'perturbation_type_new', 'nperts_new', 'celltype_new', 'sgRNA_new', 'guide_id_new', 'perturbation_group', 'data_split', 'retain', 'n_genes', 'control_barcode', 'sgRNA_ID', 'pert_sgRNA', 'condition', 'condition_name']\n",
      "Dimensional reduction:  ['X_pca', 'X_umap']\n",
      "5015 genes were found in the adata. Note that Celloracle is intended to use around 1000-3000 genes, so the behavior with this number of genes may differ from what is expected.\n"
     ]
    },
    {
     "name": "stderr",
     "output_type": "stream",
     "text": [
      "... storing 'celltype' as categorical\n",
      "... storing 'disease' as categorical\n",
      "... storing 'guide_id' as categorical\n",
      "... storing 'organism' as categorical\n",
      "... storing 'perturbation' as categorical\n",
      "... storing 'perturbation_type' as categorical\n",
      "... storing 'sgRNA_read_count' as categorical\n",
      "... storing 'sgRNA_umi_count' as categorical\n",
      "... storing 'tissue_type' as categorical\n",
      "... storing 'perturbation_new' as categorical\n",
      "... storing 'perturbation_type_new' as categorical\n",
      "... storing 'celltype_new' as categorical\n",
      "... storing 'sgRNA_new' as categorical\n",
      "... storing 'guide_id_new' as categorical\n",
      "... storing 'perturbation_group' as categorical\n",
      "... storing 'data_split' as categorical\n",
      "... storing 'retain' as categorical\n",
      "... storing 'control_barcode' as categorical\n",
      "... storing 'sgRNA_ID' as categorical\n",
      "... storing 'pert_sgRNA' as categorical\n",
      "... storing 'condition' as categorical\n",
      "... storing 'condition_name' as categorical\n"
     ]
    },
    {
     "name": "stdout",
     "output_type": "stream",
     "text": [
      "76\n",
      "cell number is :5296\n",
      "Auto-selected k is :132\n"
     ]
    },
    {
     "data": {
      "application/vnd.jupyter.widget-view+json": {
       "model_id": "5485a6491a30412ebe785c66d7e345f3",
       "version_major": 2,
       "version_minor": 0
      },
      "text/plain": [
       "  0%|          | 0/1 [00:00<?, ?it/s]"
      ]
     },
     "metadata": {},
     "output_type": "display_data"
    },
    {
     "name": "stdout",
     "output_type": "stream",
     "text": [
      "Inferring GRN for iPSC-induced neuron...\n"
     ]
    },
    {
     "data": {
      "application/vnd.jupyter.widget-view+json": {
       "model_id": "3e70e9f047fe46d59fc0245fc6a82923",
       "version_major": 2,
       "version_minor": 0
      },
      "text/plain": [
       "  0%|          | 0/3778 [00:00<?, ?it/s]"
      ]
     },
     "metadata": {},
     "output_type": "display_data"
    },
    {
     "data": {
      "application/vnd.jupyter.widget-view+json": {
       "model_id": "25037f357a134f60b1cdd7f26ca90fdd",
       "version_major": 2,
       "version_minor": 0
      },
      "text/plain": [
       "  0%|          | 0/1 [00:00<?, ?it/s]"
      ]
     },
     "metadata": {},
     "output_type": "display_data"
    },
    {
     "name": "stdout",
     "output_type": "stream",
     "text": [
      "common_pert num is:  0\n",
      "[]\n",
      "==================== TianKampmann2019_iPSC\n",
      "add condition finished\n",
      "adata.shape is:  (2359, 5014)\n",
      "Loading prebuilt promoter base-GRN. Version: hg19_gimmemotifsv5_fpr2\n",
      "base_GRN.shape:  (37003, 1096)\n",
      "Cell number is :2359\n",
      "Metadata columns : ['guide_id', 'sgRNA_read_count', 'sgRNA_umi_count', 'perturbation', 'tissue_type', 'celltype', 'cancer', 'disease', 'perturbation_type', 'organism', 'batch', 'nperts', 'ngenes', 'ncounts', 'percent_mito', 'percent_ribo', 'perturbation_new', 'perturbation_type_new', 'nperts_new', 'celltype_new', 'guide_id_new', 'sgRNA_new', 'perturbation_group', 'data_split', 'retain', 'n_genes', 'control_barcode', 'sgRNA_ID', 'pert_sgRNA', 'condition', 'condition_name']\n",
      "Dimensional reduction:  ['X_pca', 'X_umap']\n",
      "5014 genes were found in the adata. Note that Celloracle is intended to use around 1000-3000 genes, so the behavior with this number of genes may differ from what is expected.\n"
     ]
    },
    {
     "name": "stderr",
     "output_type": "stream",
     "text": [
      "... storing 'guide_id' as categorical\n",
      "... storing 'sgRNA_read_count' as categorical\n",
      "... storing 'sgRNA_umi_count' as categorical\n",
      "... storing 'perturbation' as categorical\n",
      "... storing 'tissue_type' as categorical\n",
      "... storing 'celltype' as categorical\n",
      "... storing 'disease' as categorical\n",
      "... storing 'perturbation_type' as categorical\n",
      "... storing 'organism' as categorical\n",
      "... storing 'perturbation_new' as categorical\n",
      "... storing 'perturbation_type_new' as categorical\n",
      "... storing 'celltype_new' as categorical\n",
      "... storing 'guide_id_new' as categorical\n",
      "... storing 'sgRNA_new' as categorical\n",
      "... storing 'perturbation_group' as categorical\n",
      "... storing 'data_split' as categorical\n",
      "... storing 'retain' as categorical\n",
      "... storing 'control_barcode' as categorical\n",
      "... storing 'sgRNA_ID' as categorical\n",
      "... storing 'pert_sgRNA' as categorical\n",
      "... storing 'condition' as categorical\n",
      "... storing 'condition_name' as categorical\n"
     ]
    },
    {
     "name": "stdout",
     "output_type": "stream",
     "text": [
      "95\n",
      "cell number is :2359\n",
      "Auto-selected k is :58\n"
     ]
    },
    {
     "data": {
      "application/vnd.jupyter.widget-view+json": {
       "model_id": "b2e7e4f0f18c4f37ad823e8659a14a2d",
       "version_major": 2,
       "version_minor": 0
      },
      "text/plain": [
       "  0%|          | 0/1 [00:00<?, ?it/s]"
      ]
     },
     "metadata": {},
     "output_type": "display_data"
    },
    {
     "name": "stdout",
     "output_type": "stream",
     "text": [
      "Inferring GRN for iPSC...\n"
     ]
    },
    {
     "data": {
      "application/vnd.jupyter.widget-view+json": {
       "model_id": "18e09c08568d4e6dbef7bd8dffc8d62a",
       "version_major": 2,
       "version_minor": 0
      },
      "text/plain": [
       "  0%|          | 0/4157 [00:00<?, ?it/s]"
      ]
     },
     "metadata": {},
     "output_type": "display_data"
    },
    {
     "data": {
      "application/vnd.jupyter.widget-view+json": {
       "model_id": "12dfd7182b0e43eb95a34e4c88f8b1e4",
       "version_major": 2,
       "version_minor": 0
      },
      "text/plain": [
       "  0%|          | 0/1 [00:00<?, ?it/s]"
      ]
     },
     "metadata": {},
     "output_type": "display_data"
    },
    {
     "name": "stdout",
     "output_type": "stream",
     "text": [
      "common_pert num is:  0\n",
      "[]\n",
      "==================== TianKampmann2021_CRISPRa\n",
      "add condition finished\n",
      "adata.shape is:  (434, 5054)\n",
      "Loading prebuilt promoter base-GRN. Version: hg19_gimmemotifsv5_fpr2\n",
      "base_GRN.shape:  (37003, 1096)\n",
      "Cell number is :434\n",
      "Metadata columns : ['guide_id', 'perturbation', 'tissue_type', 'celltype', 'cancer', 'disease', 'perturbation_type', 'organism', 'batch', 'nperts', 'ngenes', 'ncounts', 'percent_mito', 'percent_ribo', 'percent_hemo', 'perturbation_new', 'perturbation_type_new', 'nperts_new', 'celltype_new', 'sgRNA_new', 'perturbation_group', 'data_split', 'retain', 'n_genes', 'control_barcode', 'sgRNA_ID', 'pert_sgRNA', 'condition', 'condition_name']\n",
      "Dimensional reduction:  ['X_pca', 'X_umap']\n",
      "5054 genes were found in the adata. Note that Celloracle is intended to use around 1000-3000 genes, so the behavior with this number of genes may differ from what is expected.\n"
     ]
    },
    {
     "name": "stderr",
     "output_type": "stream",
     "text": [
      "... storing 'guide_id' as categorical\n",
      "... storing 'perturbation' as categorical\n",
      "... storing 'tissue_type' as categorical\n",
      "... storing 'celltype' as categorical\n",
      "... storing 'disease' as categorical\n",
      "... storing 'perturbation_type' as categorical\n",
      "... storing 'organism' as categorical\n",
      "... storing 'perturbation_new' as categorical\n",
      "... storing 'perturbation_type_new' as categorical\n",
      "... storing 'celltype_new' as categorical\n",
      "... storing 'sgRNA_new' as categorical\n",
      "... storing 'perturbation_group' as categorical\n",
      "... storing 'data_split' as categorical\n",
      "... storing 'retain' as categorical\n",
      "... storing 'control_barcode' as categorical\n",
      "... storing 'sgRNA_ID' as categorical\n",
      "... storing 'pert_sgRNA' as categorical\n",
      "... storing 'condition' as categorical\n",
      "... storing 'condition_name' as categorical\n"
     ]
    },
    {
     "name": "stdout",
     "output_type": "stream",
     "text": [
      "166\n",
      "cell number is :434\n",
      "Auto-selected k is :10\n"
     ]
    },
    {
     "data": {
      "application/vnd.jupyter.widget-view+json": {
       "model_id": "aeeb2bbe491344afb795d4b65371dca1",
       "version_major": 2,
       "version_minor": 0
      },
      "text/plain": [
       "  0%|          | 0/1 [00:00<?, ?it/s]"
      ]
     },
     "metadata": {},
     "output_type": "display_data"
    },
    {
     "name": "stdout",
     "output_type": "stream",
     "text": [
      "Inferring GRN for iPSC-induced neuron...\n"
     ]
    },
    {
     "data": {
      "application/vnd.jupyter.widget-view+json": {
       "model_id": "395943f883e54dee8b06e6095f6d3b7e",
       "version_major": 2,
       "version_minor": 0
      },
      "text/plain": [
       "  0%|          | 0/3664 [00:00<?, ?it/s]"
      ]
     },
     "metadata": {},
     "output_type": "display_data"
    },
    {
     "data": {
      "application/vnd.jupyter.widget-view+json": {
       "model_id": "d68e5a1d691a44f6b01191346610368e",
       "version_major": 2,
       "version_minor": 0
      },
      "text/plain": [
       "  0%|          | 0/1 [00:00<?, ?it/s]"
      ]
     },
     "metadata": {},
     "output_type": "display_data"
    },
    {
     "name": "stdout",
     "output_type": "stream",
     "text": [
      "common_pert num is:  5\n",
      "['GLIS3', 'MEF2C', 'EGR2', 'GBX2', 'HMGA2']\n",
      "GLIS3 ctrl expression is 0\n",
      "GLIS3 | iPSC-induced neuron is filtered\n",
      "5054 genes were found in the adata. Note that Celloracle is intended to use around 1000-3000 genes, so the behavior with this number of genes may differ from what is expected.\n"
     ]
    },
    {
     "name": "stderr",
     "output_type": "stream",
     "text": [
      "... storing 'guide_id' as categorical\n",
      "... storing 'perturbation' as categorical\n",
      "... storing 'tissue_type' as categorical\n",
      "... storing 'celltype' as categorical\n",
      "... storing 'disease' as categorical\n",
      "... storing 'perturbation_type' as categorical\n",
      "... storing 'organism' as categorical\n",
      "... storing 'perturbation_new' as categorical\n",
      "... storing 'perturbation_type_new' as categorical\n",
      "... storing 'celltype_new' as categorical\n",
      "... storing 'sgRNA_new' as categorical\n",
      "... storing 'perturbation_group' as categorical\n",
      "... storing 'data_split' as categorical\n",
      "... storing 'retain' as categorical\n",
      "... storing 'control_barcode' as categorical\n",
      "... storing 'sgRNA_ID' as categorical\n",
      "... storing 'pert_sgRNA' as categorical\n",
      "... storing 'condition' as categorical\n",
      "... storing 'condition_name' as categorical\n"
     ]
    },
    {
     "name": "stdout",
     "output_type": "stream",
     "text": [
      "EGR2 ctrl expression is 0\n",
      "EGR2 | iPSC-induced neuron is filtered\n",
      "5054 genes were found in the adata. Note that Celloracle is intended to use around 1000-3000 genes, so the behavior with this number of genes may differ from what is expected.\n"
     ]
    },
    {
     "name": "stderr",
     "output_type": "stream",
     "text": [
      "... storing 'guide_id' as categorical\n",
      "... storing 'perturbation' as categorical\n",
      "... storing 'tissue_type' as categorical\n",
      "... storing 'celltype' as categorical\n",
      "... storing 'disease' as categorical\n",
      "... storing 'perturbation_type' as categorical\n",
      "... storing 'organism' as categorical\n",
      "... storing 'perturbation_new' as categorical\n",
      "... storing 'perturbation_type_new' as categorical\n",
      "... storing 'celltype_new' as categorical\n",
      "... storing 'sgRNA_new' as categorical\n",
      "... storing 'perturbation_group' as categorical\n",
      "... storing 'data_split' as categorical\n",
      "... storing 'retain' as categorical\n",
      "... storing 'control_barcode' as categorical\n",
      "... storing 'sgRNA_ID' as categorical\n",
      "... storing 'pert_sgRNA' as categorical\n",
      "... storing 'condition' as categorical\n",
      "... storing 'condition_name' as categorical\n"
     ]
    },
    {
     "name": "stdout",
     "output_type": "stream",
     "text": [
      "5054 genes were found in the adata. Note that Celloracle is intended to use around 1000-3000 genes, so the behavior with this number of genes may differ from what is expected.\n"
     ]
    },
    {
     "name": "stderr",
     "output_type": "stream",
     "text": [
      "... storing 'guide_id' as categorical\n",
      "... storing 'perturbation' as categorical\n",
      "... storing 'tissue_type' as categorical\n",
      "... storing 'celltype' as categorical\n",
      "... storing 'disease' as categorical\n",
      "... storing 'perturbation_type' as categorical\n",
      "... storing 'organism' as categorical\n",
      "... storing 'perturbation_new' as categorical\n",
      "... storing 'perturbation_type_new' as categorical\n",
      "... storing 'celltype_new' as categorical\n",
      "... storing 'sgRNA_new' as categorical\n",
      "... storing 'perturbation_group' as categorical\n",
      "... storing 'data_split' as categorical\n",
      "... storing 'retain' as categorical\n",
      "... storing 'control_barcode' as categorical\n",
      "... storing 'sgRNA_ID' as categorical\n",
      "... storing 'pert_sgRNA' as categorical\n",
      "... storing 'condition' as categorical\n",
      "... storing 'condition_name' as categorical\n"
     ]
    },
    {
     "name": "stdout",
     "output_type": "stream",
     "text": [
      "get metrics... ...\n"
     ]
    },
    {
     "name": "stderr",
     "output_type": "stream",
     "text": [
      "  0%|          | 0/3 [00:00<?, ?it/s]/data1/lichen/code/single_cell_perturbation/scPerturb/Byte_Pert_Data/v1/utils.py:720: RuntimeWarning: invalid value encountered in divide\n",
      "  change_ratio = np.abs(pred-truth)/truth\n",
      "/data1/lichen/code/single_cell_perturbation/scPerturb/Byte_Pert_Data/v1/utils.py:720: RuntimeWarning: invalid value encountered in divide\n",
      "  change_ratio = np.abs(pred-truth)/truth\n",
      "/data1/lichen/code/single_cell_perturbation/scPerturb/Byte_Pert_Data/v1/utils.py:720: RuntimeWarning: divide by zero encountered in divide\n",
      "  change_ratio = np.abs(pred-truth)/truth\n",
      "/data1/lichen/code/single_cell_perturbation/scPerturb/Byte_Pert_Data/v1/utils.py:720: RuntimeWarning: invalid value encountered in divide\n",
      "  change_ratio = np.abs(pred-truth)/truth\n",
      " 33%|███▎      | 1/3 [00:00<00:01,  1.21it/s]/data1/lichen/code/single_cell_perturbation/scPerturb/Byte_Pert_Data/v1/utils.py:720: RuntimeWarning: invalid value encountered in divide\n",
      "  change_ratio = np.abs(pred-truth)/truth\n",
      "/data1/lichen/code/single_cell_perturbation/scPerturb/Byte_Pert_Data/v1/utils.py:720: RuntimeWarning: invalid value encountered in divide\n",
      "  change_ratio = np.abs(pred-truth)/truth\n",
      "/data1/lichen/code/single_cell_perturbation/scPerturb/Byte_Pert_Data/v1/utils.py:720: RuntimeWarning: invalid value encountered in divide\n",
      "  change_ratio = np.abs(pred-truth)/truth\n",
      "/data1/lichen/code/single_cell_perturbation/scPerturb/Byte_Pert_Data/v1/utils.py:720: RuntimeWarning: invalid value encountered in divide\n",
      "  change_ratio = np.abs(pred-truth)/truth\n",
      "/data1/lichen/code/single_cell_perturbation/scPerturb/Byte_Pert_Data/v1/utils.py:720: RuntimeWarning: invalid value encountered in divide\n",
      "  change_ratio = np.abs(pred-truth)/truth\n",
      "/data1/lichen/code/single_cell_perturbation/scPerturb/Byte_Pert_Data/v1/utils.py:720: RuntimeWarning: invalid value encountered in divide\n",
      "  change_ratio = np.abs(pred-truth)/truth\n",
      "/data1/lichen/code/single_cell_perturbation/scPerturb/Byte_Pert_Data/v1/utils.py:720: RuntimeWarning: invalid value encountered in divide\n",
      "  change_ratio = np.abs(pred-truth)/truth\n",
      "/data1/lichen/code/single_cell_perturbation/scPerturb/Byte_Pert_Data/v1/utils.py:720: RuntimeWarning: invalid value encountered in divide\n",
      "  change_ratio = np.abs(pred-truth)/truth\n",
      "/data1/lichen/code/single_cell_perturbation/scPerturb/Byte_Pert_Data/v1/utils.py:720: RuntimeWarning: invalid value encountered in divide\n",
      "  change_ratio = np.abs(pred-truth)/truth\n",
      "/data1/lichen/code/single_cell_perturbation/scPerturb/Byte_Pert_Data/v1/utils.py:720: RuntimeWarning: divide by zero encountered in divide\n",
      "  change_ratio = np.abs(pred-truth)/truth\n",
      "/data1/lichen/code/single_cell_perturbation/scPerturb/Byte_Pert_Data/v1/utils.py:720: RuntimeWarning: invalid value encountered in divide\n",
      "  change_ratio = np.abs(pred-truth)/truth\n",
      " 67%|██████▋   | 2/3 [00:01<00:00,  1.27it/s]/data1/lichen/code/single_cell_perturbation/scPerturb/Byte_Pert_Data/v1/utils.py:720: RuntimeWarning: invalid value encountered in divide\n",
      "  change_ratio = np.abs(pred-truth)/truth\n",
      "/data1/lichen/code/single_cell_perturbation/scPerturb/Byte_Pert_Data/v1/utils.py:720: RuntimeWarning: invalid value encountered in divide\n",
      "  change_ratio = np.abs(pred-truth)/truth\n",
      "/data1/lichen/code/single_cell_perturbation/scPerturb/Byte_Pert_Data/v1/utils.py:720: RuntimeWarning: invalid value encountered in divide\n",
      "  change_ratio = np.abs(pred-truth)/truth\n",
      "/data1/lichen/code/single_cell_perturbation/scPerturb/Byte_Pert_Data/v1/utils.py:720: RuntimeWarning: invalid value encountered in divide\n",
      "  change_ratio = np.abs(pred-truth)/truth\n",
      "/data1/lichen/code/single_cell_perturbation/scPerturb/Byte_Pert_Data/v1/utils.py:720: RuntimeWarning: invalid value encountered in divide\n",
      "  change_ratio = np.abs(pred-truth)/truth\n",
      "/data1/lichen/code/single_cell_perturbation/scPerturb/Byte_Pert_Data/v1/utils.py:720: RuntimeWarning: invalid value encountered in divide\n",
      "  change_ratio = np.abs(pred-truth)/truth\n",
      "/data1/lichen/code/single_cell_perturbation/scPerturb/Byte_Pert_Data/v1/utils.py:720: RuntimeWarning: invalid value encountered in divide\n",
      "  change_ratio = np.abs(pred-truth)/truth\n",
      "/data1/lichen/code/single_cell_perturbation/scPerturb/Byte_Pert_Data/v1/utils.py:720: RuntimeWarning: invalid value encountered in divide\n",
      "  change_ratio = np.abs(pred-truth)/truth\n",
      "/data1/lichen/code/single_cell_perturbation/scPerturb/Byte_Pert_Data/v1/utils.py:720: RuntimeWarning: invalid value encountered in divide\n",
      "  change_ratio = np.abs(pred-truth)/truth\n",
      "/data1/lichen/code/single_cell_perturbation/scPerturb/Byte_Pert_Data/v1/utils.py:720: RuntimeWarning: divide by zero encountered in divide\n",
      "  change_ratio = np.abs(pred-truth)/truth\n",
      "/data1/lichen/code/single_cell_perturbation/scPerturb/Byte_Pert_Data/v1/utils.py:720: RuntimeWarning: invalid value encountered in divide\n",
      "  change_ratio = np.abs(pred-truth)/truth\n",
      "100%|██████████| 3/3 [00:02<00:00,  1.49it/s]\n"
     ]
    },
    {
     "name": "stdout",
     "output_type": "stream",
     "text": [
      "==================== TianKampmann2021_CRISPRi\n",
      "add condition finished\n",
      "adata.shape is:  (437, 5145)\n",
      "Loading prebuilt promoter base-GRN. Version: hg19_gimmemotifsv5_fpr2\n",
      "base_GRN.shape:  (37003, 1096)\n",
      "Cell number is :437\n",
      "Metadata columns : ['guide_id', 'perturbation', 'tissue_type', 'celltype', 'cancer', 'disease', 'perturbation_type', 'organism', 'batch', 'nperts', 'ngenes', 'ncounts', 'percent_mito', 'percent_ribo', 'percent_hemo', 'perturbation_new', 'perturbation_type_new', 'nperts_new', 'celltype_new', 'sgRNA_new', 'perturbation_group', 'data_split', 'retain', 'n_genes', 'control_barcode', 'sgRNA_ID', 'pert_sgRNA', 'condition', 'condition_name']\n",
      "Dimensional reduction:  ['X_pca', 'X_umap']\n",
      "5145 genes were found in the adata. Note that Celloracle is intended to use around 1000-3000 genes, so the behavior with this number of genes may differ from what is expected.\n"
     ]
    },
    {
     "name": "stderr",
     "output_type": "stream",
     "text": [
      "... storing 'guide_id' as categorical\n",
      "... storing 'perturbation' as categorical\n",
      "... storing 'tissue_type' as categorical\n",
      "... storing 'celltype' as categorical\n",
      "... storing 'disease' as categorical\n",
      "... storing 'perturbation_type' as categorical\n",
      "... storing 'organism' as categorical\n",
      "... storing 'perturbation_new' as categorical\n",
      "... storing 'perturbation_type_new' as categorical\n",
      "... storing 'celltype_new' as categorical\n",
      "... storing 'sgRNA_new' as categorical\n",
      "... storing 'perturbation_group' as categorical\n",
      "... storing 'data_split' as categorical\n",
      "... storing 'retain' as categorical\n",
      "... storing 'control_barcode' as categorical\n",
      "... storing 'sgRNA_ID' as categorical\n",
      "... storing 'pert_sgRNA' as categorical\n",
      "... storing 'condition' as categorical\n",
      "... storing 'condition_name' as categorical\n"
     ]
    },
    {
     "name": "stdout",
     "output_type": "stream",
     "text": [
      "164\n",
      "cell number is :437\n",
      "Auto-selected k is :10\n"
     ]
    },
    {
     "data": {
      "application/vnd.jupyter.widget-view+json": {
       "model_id": "1c9a972d176647e78bbc2be227bbc613",
       "version_major": 2,
       "version_minor": 0
      },
      "text/plain": [
       "  0%|          | 0/1 [00:00<?, ?it/s]"
      ]
     },
     "metadata": {},
     "output_type": "display_data"
    },
    {
     "name": "stdout",
     "output_type": "stream",
     "text": [
      "Inferring GRN for iPSC-induced neuron...\n"
     ]
    },
    {
     "data": {
      "application/vnd.jupyter.widget-view+json": {
       "model_id": "ef2bad1188924795a911b095081ff2ce",
       "version_major": 2,
       "version_minor": 0
      },
      "text/plain": [
       "  0%|          | 0/3594 [00:00<?, ?it/s]"
      ]
     },
     "metadata": {},
     "output_type": "display_data"
    },
    {
     "data": {
      "application/vnd.jupyter.widget-view+json": {
       "model_id": "828f89ecf6be43f2b66dfd30ed7cab8e",
       "version_major": 2,
       "version_minor": 0
      },
      "text/plain": [
       "  0%|          | 0/1 [00:00<?, ?it/s]"
      ]
     },
     "metadata": {},
     "output_type": "display_data"
    },
    {
     "name": "stdout",
     "output_type": "stream",
     "text": [
      "common_pert num is:  2\n",
      "['EWSR1', 'THAP1']\n",
      "5145 genes were found in the adata. Note that Celloracle is intended to use around 1000-3000 genes, so the behavior with this number of genes may differ from what is expected.\n"
     ]
    },
    {
     "name": "stderr",
     "output_type": "stream",
     "text": [
      "... storing 'guide_id' as categorical\n",
      "... storing 'perturbation' as categorical\n",
      "... storing 'tissue_type' as categorical\n",
      "... storing 'celltype' as categorical\n",
      "... storing 'disease' as categorical\n",
      "... storing 'perturbation_type' as categorical\n",
      "... storing 'organism' as categorical\n",
      "... storing 'perturbation_new' as categorical\n",
      "... storing 'perturbation_type_new' as categorical\n",
      "... storing 'celltype_new' as categorical\n",
      "... storing 'sgRNA_new' as categorical\n",
      "... storing 'perturbation_group' as categorical\n",
      "... storing 'data_split' as categorical\n",
      "... storing 'retain' as categorical\n",
      "... storing 'control_barcode' as categorical\n",
      "... storing 'sgRNA_ID' as categorical\n",
      "... storing 'pert_sgRNA' as categorical\n",
      "... storing 'condition' as categorical\n",
      "... storing 'condition_name' as categorical\n"
     ]
    },
    {
     "name": "stdout",
     "output_type": "stream",
     "text": [
      "5145 genes were found in the adata. Note that Celloracle is intended to use around 1000-3000 genes, so the behavior with this number of genes may differ from what is expected.\n"
     ]
    },
    {
     "name": "stderr",
     "output_type": "stream",
     "text": [
      "... storing 'guide_id' as categorical\n",
      "... storing 'perturbation' as categorical\n",
      "... storing 'tissue_type' as categorical\n",
      "... storing 'celltype' as categorical\n",
      "... storing 'disease' as categorical\n",
      "... storing 'perturbation_type' as categorical\n",
      "... storing 'organism' as categorical\n",
      "... storing 'perturbation_new' as categorical\n",
      "... storing 'perturbation_type_new' as categorical\n",
      "... storing 'celltype_new' as categorical\n",
      "... storing 'sgRNA_new' as categorical\n",
      "... storing 'perturbation_group' as categorical\n",
      "... storing 'data_split' as categorical\n",
      "... storing 'retain' as categorical\n",
      "... storing 'control_barcode' as categorical\n",
      "... storing 'sgRNA_ID' as categorical\n",
      "... storing 'pert_sgRNA' as categorical\n",
      "... storing 'condition' as categorical\n",
      "... storing 'condition_name' as categorical\n"
     ]
    },
    {
     "name": "stdout",
     "output_type": "stream",
     "text": [
      "get metrics... ...\n"
     ]
    },
    {
     "name": "stderr",
     "output_type": "stream",
     "text": [
      "  0%|          | 0/2 [00:00<?, ?it/s]/data1/lichen/code/single_cell_perturbation/scPerturb/Byte_Pert_Data/v1/utils.py:720: RuntimeWarning: invalid value encountered in divide\n",
      "  change_ratio = np.abs(pred-truth)/truth\n",
      "/data1/lichen/code/single_cell_perturbation/scPerturb/Byte_Pert_Data/v1/utils.py:720: RuntimeWarning: invalid value encountered in divide\n",
      "  change_ratio = np.abs(pred-truth)/truth\n",
      "/data1/lichen/code/single_cell_perturbation/scPerturb/Byte_Pert_Data/v1/utils.py:720: RuntimeWarning: invalid value encountered in divide\n",
      "  change_ratio = np.abs(pred-truth)/truth\n",
      "/data1/lichen/code/single_cell_perturbation/scPerturb/Byte_Pert_Data/v1/utils.py:720: RuntimeWarning: divide by zero encountered in divide\n",
      "  change_ratio = np.abs(pred-truth)/truth\n",
      "/data1/lichen/code/single_cell_perturbation/scPerturb/Byte_Pert_Data/v1/utils.py:720: RuntimeWarning: invalid value encountered in divide\n",
      "  change_ratio = np.abs(pred-truth)/truth\n",
      "/data1/lichen/code/single_cell_perturbation/scPerturb/Byte_Pert_Data/v1/utils.py:720: RuntimeWarning: invalid value encountered in divide\n",
      "  change_ratio = np.abs(pred-truth)/truth\n",
      "/data1/lichen/code/single_cell_perturbation/scPerturb/Byte_Pert_Data/v1/utils.py:720: RuntimeWarning: invalid value encountered in divide\n",
      "  change_ratio = np.abs(pred-truth)/truth\n",
      "/data1/lichen/code/single_cell_perturbation/scPerturb/Byte_Pert_Data/v1/utils.py:720: RuntimeWarning: invalid value encountered in divide\n",
      "  change_ratio = np.abs(pred-truth)/truth\n",
      "/data1/lichen/code/single_cell_perturbation/scPerturb/Byte_Pert_Data/v1/utils.py:720: RuntimeWarning: invalid value encountered in divide\n",
      "  change_ratio = np.abs(pred-truth)/truth\n",
      "/data1/lichen/code/single_cell_perturbation/scPerturb/Byte_Pert_Data/v1/utils.py:720: RuntimeWarning: invalid value encountered in divide\n",
      "  change_ratio = np.abs(pred-truth)/truth\n",
      "/data1/lichen/code/single_cell_perturbation/scPerturb/Byte_Pert_Data/v1/utils.py:720: RuntimeWarning: divide by zero encountered in divide\n",
      "  change_ratio = np.abs(pred-truth)/truth\n",
      "/data1/lichen/code/single_cell_perturbation/scPerturb/Byte_Pert_Data/v1/utils.py:720: RuntimeWarning: invalid value encountered in divide\n",
      "  change_ratio = np.abs(pred-truth)/truth\n",
      " 50%|█████     | 1/2 [00:00<00:00,  3.12it/s]/data1/lichen/code/single_cell_perturbation/scPerturb/Byte_Pert_Data/v1/utils.py:720: RuntimeWarning: invalid value encountered in divide\n",
      "  change_ratio = np.abs(pred-truth)/truth\n",
      "/data1/lichen/code/single_cell_perturbation/scPerturb/Byte_Pert_Data/v1/utils.py:720: RuntimeWarning: invalid value encountered in divide\n",
      "  change_ratio = np.abs(pred-truth)/truth\n",
      "/data1/lichen/code/single_cell_perturbation/scPerturb/Byte_Pert_Data/v1/utils.py:720: RuntimeWarning: invalid value encountered in divide\n",
      "  change_ratio = np.abs(pred-truth)/truth\n",
      "/data1/lichen/code/single_cell_perturbation/scPerturb/Byte_Pert_Data/v1/utils.py:720: RuntimeWarning: invalid value encountered in divide\n",
      "  change_ratio = np.abs(pred-truth)/truth\n",
      "/data1/lichen/code/single_cell_perturbation/scPerturb/Byte_Pert_Data/v1/utils.py:720: RuntimeWarning: invalid value encountered in divide\n",
      "  change_ratio = np.abs(pred-truth)/truth\n",
      "/data1/lichen/code/single_cell_perturbation/scPerturb/Byte_Pert_Data/v1/utils.py:720: RuntimeWarning: invalid value encountered in divide\n",
      "  change_ratio = np.abs(pred-truth)/truth\n",
      "/data1/lichen/code/single_cell_perturbation/scPerturb/Byte_Pert_Data/v1/utils.py:720: RuntimeWarning: invalid value encountered in divide\n",
      "  change_ratio = np.abs(pred-truth)/truth\n",
      "/data1/lichen/code/single_cell_perturbation/scPerturb/Byte_Pert_Data/v1/utils.py:720: RuntimeWarning: invalid value encountered in divide\n",
      "  change_ratio = np.abs(pred-truth)/truth\n",
      "/data1/lichen/code/single_cell_perturbation/scPerturb/Byte_Pert_Data/v1/utils.py:720: RuntimeWarning: invalid value encountered in divide\n",
      "  change_ratio = np.abs(pred-truth)/truth\n",
      "/data1/lichen/code/single_cell_perturbation/scPerturb/Byte_Pert_Data/v1/utils.py:720: RuntimeWarning: divide by zero encountered in divide\n",
      "  change_ratio = np.abs(pred-truth)/truth\n",
      "/data1/lichen/code/single_cell_perturbation/scPerturb/Byte_Pert_Data/v1/utils.py:720: RuntimeWarning: invalid value encountered in divide\n",
      "  change_ratio = np.abs(pred-truth)/truth\n",
      "100%|██████████| 2/2 [00:00<00:00,  3.16it/s]\n"
     ]
    },
    {
     "name": "stdout",
     "output_type": "stream",
     "text": [
      "==================== XuCao2023\n",
      "add condition finished\n",
      "adata.shape is:  (2758, 5146)\n",
      "Loading prebuilt promoter base-GRN. Version: hg19_gimmemotifsv5_fpr2\n",
      "base_GRN.shape:  (37003, 1096)\n",
      "Cell number is :2758\n",
      "Metadata columns : ['perturbation', 'ncounts', 'nascent_UMI_counts', 'nascent_ratio', 'guide_id', 'gRNA_UMI_counts', 'nascent_MT_ratio', 'Cell_cycle_phase', 'whole_exon_ratio', 'new_exon_ratio', 'target', 'perturbation_type', 'disease', 'cancer', 'tissue_type', 'cell_line', 'celltype', 'organism', 'nperts', 'ngenes', 'percent_mito', 'percent_ribo', 'perturbation_new', 'perturbation_type_new', 'nperts_new', 'celltype_new', 'sgRNA_new', 'perturbation_group', 'data_split', 'retain', 'n_genes', 'control_barcode', 'sgRNA_ID', 'pert_sgRNA', 'condition', 'condition_name']\n",
      "Dimensional reduction:  ['sgRNA_counts', 'X_pca', 'X_umap']\n",
      "5146 genes were found in the adata. Note that Celloracle is intended to use around 1000-3000 genes, so the behavior with this number of genes may differ from what is expected.\n"
     ]
    },
    {
     "name": "stderr",
     "output_type": "stream",
     "text": [
      "... storing 'perturbation' as categorical\n",
      "... storing 'guide_id' as categorical\n",
      "... storing 'Cell_cycle_phase' as categorical\n",
      "... storing 'target' as categorical\n",
      "... storing 'perturbation_type' as categorical\n",
      "... storing 'disease' as categorical\n",
      "... storing 'tissue_type' as categorical\n",
      "... storing 'cell_line' as categorical\n",
      "... storing 'celltype' as categorical\n",
      "... storing 'organism' as categorical\n",
      "... storing 'perturbation_new' as categorical\n",
      "... storing 'perturbation_type_new' as categorical\n",
      "... storing 'celltype_new' as categorical\n",
      "... storing 'sgRNA_new' as categorical\n",
      "... storing 'perturbation_group' as categorical\n",
      "... storing 'data_split' as categorical\n",
      "... storing 'retain' as categorical\n",
      "... storing 'control_barcode' as categorical\n",
      "... storing 'sgRNA_ID' as categorical\n",
      "... storing 'pert_sgRNA' as categorical\n",
      "... storing 'condition' as categorical\n",
      "... storing 'condition_name' as categorical\n"
     ]
    },
    {
     "name": "stdout",
     "output_type": "stream",
     "text": [
      "138\n",
      "cell number is :2758\n",
      "Auto-selected k is :68\n"
     ]
    },
    {
     "data": {
      "application/vnd.jupyter.widget-view+json": {
       "model_id": "ff60a0d73c184844a70d11e7e43958ab",
       "version_major": 2,
       "version_minor": 0
      },
      "text/plain": [
       "  0%|          | 0/1 [00:00<?, ?it/s]"
      ]
     },
     "metadata": {},
     "output_type": "display_data"
    },
    {
     "name": "stdout",
     "output_type": "stream",
     "text": [
      "Inferring GRN for embryonic kidney cells...\n"
     ]
    },
    {
     "data": {
      "application/vnd.jupyter.widget-view+json": {
       "model_id": "deae77e3b4e14ae0a1503614c1829bb0",
       "version_major": 2,
       "version_minor": 0
      },
      "text/plain": [
       "  0%|          | 0/2883 [00:00<?, ?it/s]"
      ]
     },
     "metadata": {},
     "output_type": "display_data"
    },
    {
     "data": {
      "application/vnd.jupyter.widget-view+json": {
       "model_id": "0e182a089fa244b2bfd7da02f63e8e00",
       "version_major": 2,
       "version_minor": 0
      },
      "text/plain": [
       "  0%|          | 0/1 [00:00<?, ?it/s]"
      ]
     },
     "metadata": {},
     "output_type": "display_data"
    },
    {
     "name": "stdout",
     "output_type": "stream",
     "text": [
      "common_pert num is:  5\n",
      "['REST', 'POLR3A', 'SMC3', 'JUN', 'FOXK1']\n",
      "5146 genes were found in the adata. Note that Celloracle is intended to use around 1000-3000 genes, so the behavior with this number of genes may differ from what is expected.\n"
     ]
    },
    {
     "name": "stderr",
     "output_type": "stream",
     "text": [
      "... storing 'perturbation' as categorical\n",
      "... storing 'guide_id' as categorical\n",
      "... storing 'Cell_cycle_phase' as categorical\n",
      "... storing 'target' as categorical\n",
      "... storing 'perturbation_type' as categorical\n",
      "... storing 'disease' as categorical\n",
      "... storing 'tissue_type' as categorical\n",
      "... storing 'cell_line' as categorical\n",
      "... storing 'celltype' as categorical\n",
      "... storing 'organism' as categorical\n",
      "... storing 'perturbation_new' as categorical\n",
      "... storing 'perturbation_type_new' as categorical\n",
      "... storing 'celltype_new' as categorical\n",
      "... storing 'sgRNA_new' as categorical\n",
      "... storing 'perturbation_group' as categorical\n",
      "... storing 'data_split' as categorical\n",
      "... storing 'retain' as categorical\n",
      "... storing 'control_barcode' as categorical\n",
      "... storing 'sgRNA_ID' as categorical\n",
      "... storing 'pert_sgRNA' as categorical\n",
      "... storing 'condition' as categorical\n",
      "... storing 'condition_name' as categorical\n"
     ]
    },
    {
     "name": "stdout",
     "output_type": "stream",
     "text": [
      "5146 genes were found in the adata. Note that Celloracle is intended to use around 1000-3000 genes, so the behavior with this number of genes may differ from what is expected.\n"
     ]
    },
    {
     "name": "stderr",
     "output_type": "stream",
     "text": [
      "... storing 'perturbation' as categorical\n",
      "... storing 'guide_id' as categorical\n",
      "... storing 'Cell_cycle_phase' as categorical\n",
      "... storing 'target' as categorical\n",
      "... storing 'perturbation_type' as categorical\n",
      "... storing 'disease' as categorical\n",
      "... storing 'tissue_type' as categorical\n",
      "... storing 'cell_line' as categorical\n",
      "... storing 'celltype' as categorical\n",
      "... storing 'organism' as categorical\n",
      "... storing 'perturbation_new' as categorical\n",
      "... storing 'perturbation_type_new' as categorical\n",
      "... storing 'celltype_new' as categorical\n",
      "... storing 'sgRNA_new' as categorical\n",
      "... storing 'perturbation_group' as categorical\n",
      "... storing 'data_split' as categorical\n",
      "... storing 'retain' as categorical\n",
      "... storing 'control_barcode' as categorical\n",
      "... storing 'sgRNA_ID' as categorical\n",
      "... storing 'pert_sgRNA' as categorical\n",
      "... storing 'condition' as categorical\n",
      "... storing 'condition_name' as categorical\n"
     ]
    },
    {
     "name": "stdout",
     "output_type": "stream",
     "text": [
      "5146 genes were found in the adata. Note that Celloracle is intended to use around 1000-3000 genes, so the behavior with this number of genes may differ from what is expected.\n"
     ]
    },
    {
     "name": "stderr",
     "output_type": "stream",
     "text": [
      "... storing 'perturbation' as categorical\n",
      "... storing 'guide_id' as categorical\n",
      "... storing 'Cell_cycle_phase' as categorical\n",
      "... storing 'target' as categorical\n",
      "... storing 'perturbation_type' as categorical\n",
      "... storing 'disease' as categorical\n",
      "... storing 'tissue_type' as categorical\n",
      "... storing 'cell_line' as categorical\n",
      "... storing 'celltype' as categorical\n",
      "... storing 'organism' as categorical\n",
      "... storing 'perturbation_new' as categorical\n",
      "... storing 'perturbation_type_new' as categorical\n",
      "... storing 'celltype_new' as categorical\n",
      "... storing 'sgRNA_new' as categorical\n",
      "... storing 'perturbation_group' as categorical\n",
      "... storing 'data_split' as categorical\n",
      "... storing 'retain' as categorical\n",
      "... storing 'control_barcode' as categorical\n",
      "... storing 'sgRNA_ID' as categorical\n",
      "... storing 'pert_sgRNA' as categorical\n",
      "... storing 'condition' as categorical\n",
      "... storing 'condition_name' as categorical\n"
     ]
    },
    {
     "name": "stdout",
     "output_type": "stream",
     "text": [
      "5146 genes were found in the adata. Note that Celloracle is intended to use around 1000-3000 genes, so the behavior with this number of genes may differ from what is expected.\n"
     ]
    },
    {
     "name": "stderr",
     "output_type": "stream",
     "text": [
      "... storing 'perturbation' as categorical\n",
      "... storing 'guide_id' as categorical\n",
      "... storing 'Cell_cycle_phase' as categorical\n",
      "... storing 'target' as categorical\n",
      "... storing 'perturbation_type' as categorical\n",
      "... storing 'disease' as categorical\n",
      "... storing 'tissue_type' as categorical\n",
      "... storing 'cell_line' as categorical\n",
      "... storing 'celltype' as categorical\n",
      "... storing 'organism' as categorical\n",
      "... storing 'perturbation_new' as categorical\n",
      "... storing 'perturbation_type_new' as categorical\n",
      "... storing 'celltype_new' as categorical\n",
      "... storing 'sgRNA_new' as categorical\n",
      "... storing 'perturbation_group' as categorical\n",
      "... storing 'data_split' as categorical\n",
      "... storing 'retain' as categorical\n",
      "... storing 'control_barcode' as categorical\n",
      "... storing 'sgRNA_ID' as categorical\n",
      "... storing 'pert_sgRNA' as categorical\n",
      "... storing 'condition' as categorical\n",
      "... storing 'condition_name' as categorical\n"
     ]
    },
    {
     "name": "stdout",
     "output_type": "stream",
     "text": [
      "5146 genes were found in the adata. Note that Celloracle is intended to use around 1000-3000 genes, so the behavior with this number of genes may differ from what is expected.\n"
     ]
    },
    {
     "name": "stderr",
     "output_type": "stream",
     "text": [
      "... storing 'perturbation' as categorical\n",
      "... storing 'guide_id' as categorical\n",
      "... storing 'Cell_cycle_phase' as categorical\n",
      "... storing 'target' as categorical\n",
      "... storing 'perturbation_type' as categorical\n",
      "... storing 'disease' as categorical\n",
      "... storing 'tissue_type' as categorical\n",
      "... storing 'cell_line' as categorical\n",
      "... storing 'celltype' as categorical\n",
      "... storing 'organism' as categorical\n",
      "... storing 'perturbation_new' as categorical\n",
      "... storing 'perturbation_type_new' as categorical\n",
      "... storing 'celltype_new' as categorical\n",
      "... storing 'sgRNA_new' as categorical\n",
      "... storing 'perturbation_group' as categorical\n",
      "... storing 'data_split' as categorical\n",
      "... storing 'retain' as categorical\n",
      "... storing 'control_barcode' as categorical\n",
      "... storing 'sgRNA_ID' as categorical\n",
      "... storing 'pert_sgRNA' as categorical\n",
      "... storing 'condition' as categorical\n",
      "... storing 'condition_name' as categorical\n"
     ]
    },
    {
     "name": "stdout",
     "output_type": "stream",
     "text": [
      "get metrics... ...\n"
     ]
    },
    {
     "name": "stderr",
     "output_type": "stream",
     "text": [
      "  0%|          | 0/5 [00:00<?, ?it/s]/data1/lichen/code/single_cell_perturbation/scPerturb/Byte_Pert_Data/v1/utils.py:720: RuntimeWarning: invalid value encountered in divide\n",
      "  change_ratio = np.abs(pred-truth)/truth\n",
      "/data1/lichen/code/single_cell_perturbation/scPerturb/Byte_Pert_Data/v1/utils.py:720: RuntimeWarning: invalid value encountered in divide\n",
      "  change_ratio = np.abs(pred-truth)/truth\n",
      "/data1/lichen/code/single_cell_perturbation/scPerturb/Byte_Pert_Data/v1/utils.py:720: RuntimeWarning: invalid value encountered in divide\n",
      "  change_ratio = np.abs(pred-truth)/truth\n",
      "/data1/lichen/code/single_cell_perturbation/scPerturb/Byte_Pert_Data/v1/utils.py:720: RuntimeWarning: invalid value encountered in divide\n",
      "  change_ratio = np.abs(pred-truth)/truth\n",
      "/data1/lichen/code/single_cell_perturbation/scPerturb/Byte_Pert_Data/v1/utils.py:720: RuntimeWarning: invalid value encountered in divide\n",
      "  change_ratio = np.abs(pred-truth)/truth\n",
      "/data1/lichen/code/single_cell_perturbation/scPerturb/Byte_Pert_Data/v1/utils.py:720: RuntimeWarning: invalid value encountered in divide\n",
      "  change_ratio = np.abs(pred-truth)/truth\n",
      "/data1/lichen/code/single_cell_perturbation/scPerturb/Byte_Pert_Data/v1/utils.py:720: RuntimeWarning: invalid value encountered in divide\n",
      "  change_ratio = np.abs(pred-truth)/truth\n",
      "/data1/lichen/code/single_cell_perturbation/scPerturb/Byte_Pert_Data/v1/utils.py:720: RuntimeWarning: invalid value encountered in divide\n",
      "  change_ratio = np.abs(pred-truth)/truth\n",
      "/data1/lichen/code/single_cell_perturbation/scPerturb/Byte_Pert_Data/v1/utils.py:720: RuntimeWarning: invalid value encountered in divide\n",
      "  change_ratio = np.abs(pred-truth)/truth\n",
      "/data1/lichen/code/single_cell_perturbation/scPerturb/Byte_Pert_Data/v1/utils.py:720: RuntimeWarning: divide by zero encountered in divide\n",
      "  change_ratio = np.abs(pred-truth)/truth\n",
      "/data1/lichen/code/single_cell_perturbation/scPerturb/Byte_Pert_Data/v1/utils.py:720: RuntimeWarning: invalid value encountered in divide\n",
      "  change_ratio = np.abs(pred-truth)/truth\n",
      " 20%|██        | 1/5 [00:05<00:20,  5.09s/it]/data1/lichen/code/single_cell_perturbation/scPerturb/Byte_Pert_Data/v1/utils.py:720: RuntimeWarning: invalid value encountered in divide\n",
      "  change_ratio = np.abs(pred-truth)/truth\n",
      "/data1/lichen/code/single_cell_perturbation/scPerturb/Byte_Pert_Data/v1/utils.py:720: RuntimeWarning: invalid value encountered in divide\n",
      "  change_ratio = np.abs(pred-truth)/truth\n",
      "/data1/lichen/code/single_cell_perturbation/scPerturb/Byte_Pert_Data/v1/utils.py:720: RuntimeWarning: invalid value encountered in divide\n",
      "  change_ratio = np.abs(pred-truth)/truth\n",
      "/data1/lichen/code/single_cell_perturbation/scPerturb/Byte_Pert_Data/v1/utils.py:720: RuntimeWarning: invalid value encountered in divide\n",
      "  change_ratio = np.abs(pred-truth)/truth\n",
      "/data1/lichen/code/single_cell_perturbation/scPerturb/Byte_Pert_Data/v1/utils.py:720: RuntimeWarning: invalid value encountered in divide\n",
      "  change_ratio = np.abs(pred-truth)/truth\n",
      "/data1/lichen/code/single_cell_perturbation/scPerturb/Byte_Pert_Data/v1/utils.py:720: RuntimeWarning: invalid value encountered in divide\n",
      "  change_ratio = np.abs(pred-truth)/truth\n",
      "/data1/lichen/code/single_cell_perturbation/scPerturb/Byte_Pert_Data/v1/utils.py:720: RuntimeWarning: invalid value encountered in divide\n",
      "  change_ratio = np.abs(pred-truth)/truth\n",
      "/data1/lichen/code/single_cell_perturbation/scPerturb/Byte_Pert_Data/v1/utils.py:720: RuntimeWarning: invalid value encountered in divide\n",
      "  change_ratio = np.abs(pred-truth)/truth\n",
      "/data1/lichen/code/single_cell_perturbation/scPerturb/Byte_Pert_Data/v1/utils.py:720: RuntimeWarning: invalid value encountered in divide\n",
      "  change_ratio = np.abs(pred-truth)/truth\n",
      "/data1/lichen/code/single_cell_perturbation/scPerturb/Byte_Pert_Data/v1/utils.py:720: RuntimeWarning: divide by zero encountered in divide\n",
      "  change_ratio = np.abs(pred-truth)/truth\n",
      "/data1/lichen/code/single_cell_perturbation/scPerturb/Byte_Pert_Data/v1/utils.py:720: RuntimeWarning: invalid value encountered in divide\n",
      "  change_ratio = np.abs(pred-truth)/truth\n",
      " 40%|████      | 2/5 [00:06<00:08,  2.90s/it]/data1/lichen/code/single_cell_perturbation/scPerturb/Byte_Pert_Data/v1/utils.py:720: RuntimeWarning: invalid value encountered in divide\n",
      "  change_ratio = np.abs(pred-truth)/truth\n",
      "/data1/lichen/code/single_cell_perturbation/scPerturb/Byte_Pert_Data/v1/utils.py:720: RuntimeWarning: invalid value encountered in divide\n",
      "  change_ratio = np.abs(pred-truth)/truth\n",
      "/data1/lichen/code/single_cell_perturbation/scPerturb/Byte_Pert_Data/v1/utils.py:720: RuntimeWarning: invalid value encountered in divide\n",
      "  change_ratio = np.abs(pred-truth)/truth\n",
      "/data1/lichen/code/single_cell_perturbation/scPerturb/Byte_Pert_Data/v1/utils.py:720: RuntimeWarning: invalid value encountered in divide\n",
      "  change_ratio = np.abs(pred-truth)/truth\n",
      "/data1/lichen/code/single_cell_perturbation/scPerturb/Byte_Pert_Data/v1/utils.py:720: RuntimeWarning: invalid value encountered in divide\n",
      "  change_ratio = np.abs(pred-truth)/truth\n",
      "/data1/lichen/code/single_cell_perturbation/scPerturb/Byte_Pert_Data/v1/utils.py:720: RuntimeWarning: invalid value encountered in divide\n",
      "  change_ratio = np.abs(pred-truth)/truth\n",
      "/data1/lichen/code/single_cell_perturbation/scPerturb/Byte_Pert_Data/v1/utils.py:720: RuntimeWarning: invalid value encountered in divide\n",
      "  change_ratio = np.abs(pred-truth)/truth\n",
      "/data1/lichen/code/single_cell_perturbation/scPerturb/Byte_Pert_Data/v1/utils.py:720: RuntimeWarning: invalid value encountered in divide\n",
      "  change_ratio = np.abs(pred-truth)/truth\n",
      "/data1/lichen/code/single_cell_perturbation/scPerturb/Byte_Pert_Data/v1/utils.py:720: RuntimeWarning: invalid value encountered in divide\n",
      "  change_ratio = np.abs(pred-truth)/truth\n",
      "/data1/lichen/code/single_cell_perturbation/scPerturb/Byte_Pert_Data/v1/utils.py:720: RuntimeWarning: divide by zero encountered in divide\n",
      "  change_ratio = np.abs(pred-truth)/truth\n",
      "/data1/lichen/code/single_cell_perturbation/scPerturb/Byte_Pert_Data/v1/utils.py:720: RuntimeWarning: invalid value encountered in divide\n",
      "  change_ratio = np.abs(pred-truth)/truth\n",
      " 60%|██████    | 3/5 [00:09<00:06,  3.13s/it]/data1/lichen/code/single_cell_perturbation/scPerturb/Byte_Pert_Data/v1/utils.py:720: RuntimeWarning: invalid value encountered in divide\n",
      "  change_ratio = np.abs(pred-truth)/truth\n",
      "/data1/lichen/code/single_cell_perturbation/scPerturb/Byte_Pert_Data/v1/utils.py:720: RuntimeWarning: invalid value encountered in divide\n",
      "  change_ratio = np.abs(pred-truth)/truth\n",
      "/data1/lichen/code/single_cell_perturbation/scPerturb/Byte_Pert_Data/v1/utils.py:720: RuntimeWarning: invalid value encountered in divide\n",
      "  change_ratio = np.abs(pred-truth)/truth\n",
      "/data1/lichen/code/single_cell_perturbation/scPerturb/Byte_Pert_Data/v1/utils.py:720: RuntimeWarning: divide by zero encountered in divide\n",
      "  change_ratio = np.abs(pred-truth)/truth\n",
      "/data1/lichen/code/single_cell_perturbation/scPerturb/Byte_Pert_Data/v1/utils.py:720: RuntimeWarning: invalid value encountered in divide\n",
      "  change_ratio = np.abs(pred-truth)/truth\n",
      "/data1/lichen/code/single_cell_perturbation/scPerturb/Byte_Pert_Data/v1/utils.py:720: RuntimeWarning: invalid value encountered in divide\n",
      "  change_ratio = np.abs(pred-truth)/truth\n",
      "/data1/lichen/code/single_cell_perturbation/scPerturb/Byte_Pert_Data/v1/utils.py:720: RuntimeWarning: invalid value encountered in divide\n",
      "  change_ratio = np.abs(pred-truth)/truth\n",
      "/data1/lichen/code/single_cell_perturbation/scPerturb/Byte_Pert_Data/v1/utils.py:720: RuntimeWarning: invalid value encountered in divide\n",
      "  change_ratio = np.abs(pred-truth)/truth\n",
      "/data1/lichen/code/single_cell_perturbation/scPerturb/Byte_Pert_Data/v1/utils.py:720: RuntimeWarning: invalid value encountered in divide\n",
      "  change_ratio = np.abs(pred-truth)/truth\n",
      "/data1/lichen/code/single_cell_perturbation/scPerturb/Byte_Pert_Data/v1/utils.py:720: RuntimeWarning: invalid value encountered in divide\n",
      "  change_ratio = np.abs(pred-truth)/truth\n",
      "/data1/lichen/code/single_cell_perturbation/scPerturb/Byte_Pert_Data/v1/utils.py:720: RuntimeWarning: divide by zero encountered in divide\n",
      "  change_ratio = np.abs(pred-truth)/truth\n",
      "/data1/lichen/code/single_cell_perturbation/scPerturb/Byte_Pert_Data/v1/utils.py:720: RuntimeWarning: invalid value encountered in divide\n",
      "  change_ratio = np.abs(pred-truth)/truth\n",
      " 80%|████████  | 4/5 [00:12<00:02,  2.88s/it]/data1/lichen/code/single_cell_perturbation/scPerturb/Byte_Pert_Data/v1/utils.py:720: RuntimeWarning: invalid value encountered in divide\n",
      "  change_ratio = np.abs(pred-truth)/truth\n",
      "/data1/lichen/code/single_cell_perturbation/scPerturb/Byte_Pert_Data/v1/utils.py:720: RuntimeWarning: invalid value encountered in divide\n",
      "  change_ratio = np.abs(pred-truth)/truth\n",
      "/data1/lichen/code/single_cell_perturbation/scPerturb/Byte_Pert_Data/v1/utils.py:720: RuntimeWarning: invalid value encountered in divide\n",
      "  change_ratio = np.abs(pred-truth)/truth\n",
      "/data1/lichen/code/single_cell_perturbation/scPerturb/Byte_Pert_Data/v1/utils.py:720: RuntimeWarning: invalid value encountered in divide\n",
      "  change_ratio = np.abs(pred-truth)/truth\n",
      "/data1/lichen/code/single_cell_perturbation/scPerturb/Byte_Pert_Data/v1/utils.py:720: RuntimeWarning: invalid value encountered in divide\n",
      "  change_ratio = np.abs(pred-truth)/truth\n",
      "/data1/lichen/code/single_cell_perturbation/scPerturb/Byte_Pert_Data/v1/utils.py:720: RuntimeWarning: invalid value encountered in divide\n",
      "  change_ratio = np.abs(pred-truth)/truth\n",
      "/data1/lichen/code/single_cell_perturbation/scPerturb/Byte_Pert_Data/v1/utils.py:720: RuntimeWarning: invalid value encountered in divide\n",
      "  change_ratio = np.abs(pred-truth)/truth\n",
      "/data1/lichen/code/single_cell_perturbation/scPerturb/Byte_Pert_Data/v1/utils.py:720: RuntimeWarning: invalid value encountered in divide\n",
      "  change_ratio = np.abs(pred-truth)/truth\n",
      "/data1/lichen/code/single_cell_perturbation/scPerturb/Byte_Pert_Data/v1/utils.py:720: RuntimeWarning: invalid value encountered in divide\n",
      "  change_ratio = np.abs(pred-truth)/truth\n",
      "/data1/lichen/code/single_cell_perturbation/scPerturb/Byte_Pert_Data/v1/utils.py:720: RuntimeWarning: divide by zero encountered in divide\n",
      "  change_ratio = np.abs(pred-truth)/truth\n",
      "/data1/lichen/code/single_cell_perturbation/scPerturb/Byte_Pert_Data/v1/utils.py:720: RuntimeWarning: invalid value encountered in divide\n",
      "  change_ratio = np.abs(pred-truth)/truth\n",
      "100%|██████████| 5/5 [00:15<00:00,  3.01s/it]\n"
     ]
    }
   ],
   "source": [
    "\n",
    "for prefix in prefix_list[:]:\n",
    "    print('='*20,prefix)\n",
    "\n",
    "    fix_seed(2024)\n",
    "    # - init para\n",
    "    data_dir = '/nfs/public/lichen/data/single_cell/perturb_data/scPerturb/raw/scPerturb_rna/statistic_20240520'\n",
    "    pert_cell_filter = 100 # this is used to filter perts, cell number less than this will be filtered\n",
    "    seed = 2024 # this is the random seed\n",
    "    split_type = 1 # 1 for unseen perts; 0 for unseen celltypes\n",
    "    split_ratio = [0.7, 0.2, 0.1] # train:test:val; val is used to choose data, test is for final validation\n",
    "    var_num = 5000 # selecting hvg number\n",
    "    num_de_genes = 20 # number of de genes\n",
    "    bs_train = 32 # batch size of trainloader\n",
    "    bs_test = 32 # batch size of testloader\n",
    "    lr = 1e-4\n",
    "\n",
    "    tmp_dir = '/nfs/public/lichen/results/single_cell_perturbation/perturbation_benchmark/scPerturb'\n",
    "    # save_prefix = f'GEARS'\n",
    "    save_prefix = f'GEARS_v2-prefix_{prefix}-pert_cell_filter_{pert_cell_filter}-\\\n",
    "seed_{seed}-split_type_{split_type}-var_num_{var_num}-num_de_genes_{num_de_genes}-bs_train_{bs_train}-\\\n",
    "bs_test_{bs_test}'\n",
    "    save_dir = os.path.join(tmp_dir, prefix, save_prefix)\n",
    "    # - load pert_data\n",
    "    pert_data = pickle.load(open(os.path.join(save_dir,'pert_data.pkl'), 'rb'))\n",
    "\n",
    "    # - create new dir\n",
    "    tmp_dir = '/nfs/public/lichen/results/single_cell_perturbation/perturbation_benchmark_202410/unseen_perturbation/result/CellOracle'\n",
    "    save_prefix = f'CellOracle_v1' # v1 version\n",
    "    save_dir = os.path.join(tmp_dir, prefix, save_prefix)\n",
    "    \n",
    "    # - add condition, which is perturbation in gears [TODO] this is only \n",
    "    pert_data.adata = pert_data.adata_split\n",
    "    def get_adata_condition(x):\n",
    "        if ';' in x['perturbation_new']:\n",
    "            return '+'.join(x['perturbation_new'].split('; '))\n",
    "        \n",
    "        if x['perturbation_new'] == 'control':\n",
    "            return 'ctrl'\n",
    "        else:\n",
    "            return '+'.join([x['perturbation_new'],'ctrl'])\n",
    "        \n",
    "    adata_condition = pert_data.adata.obs.apply(get_adata_condition, axis=1)\n",
    "    pert_data.adata.obs['condition'] = adata_condition\n",
    "    \n",
    "    pert_data.adata.uns['rank_genes_groups_cov_all'] = pert_data.adata.uns['rank_genes_groups']\n",
    "    pert_data.adata.var['gene_name'] = pert_data.adata.var_names\n",
    "    \n",
    "    # - condition_name : this variable should be changed if \n",
    "    pert_data.adata.obs.loc[:, 'condition_name'] =  pert_data.adata.obs.apply(lambda x: ' | '.join([x.perturbation_new, x.celltype_new]), axis = 1)\n",
    "    print('add condition finished')\n",
    "\n",
    "    \n",
    "    # # - get go genes; special set for GEARS\n",
    "    # pert_data.get_gene2go()\n",
    "    # pert_data.set_pert_genes()\n",
    "\n",
    "    # # - get dataset for gears\n",
    "    # pert_data.get_Data_gears(num_de_genes = pert_data.num_de_genes,\n",
    "    #                         dataset_name = ['train', 'test', 'val'])\n",
    "\n",
    "    # # - add necessary elements for gears\n",
    "    # pert_data.modify_gears()\n",
    "\n",
    "    # # - get dataloader\n",
    "    # trainloader, testloader, valloader = pert_data.get_dataloader(mode='all')\n",
    "    \n",
    "    # if len(testloader)==0:\n",
    "    #     continue\n",
    "    \n",
    "    n_cells_downsample = 10000\n",
    "    threshold_number = 10000\n",
    "    \n",
    "    ##########################################################\n",
    "    \n",
    "    # - get control adata\n",
    "    pert_ctrl = ' | '.join(['control',pert_data.filter_perturbation_list[0].split(' | ')[1]])\n",
    "    adata = pert_data.adata_split[pert_data.adata_split.obs['perturbation_group']==pert_ctrl].copy()\n",
    "    print(f'adata.shape is: ',adata.shape)\n",
    "\n",
    "    # -- get the baseGRN\n",
    "    # Load TF info which was made from mouse cell atlas dataset.\n",
    "    base_GRN = co.data.load_human_promoter_base_GRN()\n",
    "    print('base_GRN.shape: ', base_GRN.shape)\n",
    "\n",
    "    if os.path.exists(os.path.join(save_dir, \"ctrl.celloracle.oracle\")):\n",
    "        print('file exists')\n",
    "        oracle = co.load_hdf5(os.path.join(save_dir, \"ctrl.celloracle.oracle\"))\n",
    "        links = co.load_hdf5(file_path=os.path.join(save_dir, \"ctrl.celloracle.links\"))\n",
    "        \n",
    "    else:\n",
    "\n",
    "        # - start CellOracle process for the whole ctrl\n",
    "\n",
    "        # -- keep raw cont data before log transformation\n",
    "        adata.raw = adata\n",
    "        if not isinstance(adata.raw.X, np.ndarray):\n",
    "            adata.layers[\"raw_count\"] = (np.exp(adata.raw.X.toarray())-1).copy()\n",
    "        else:\n",
    "            adata.layers[\"raw_count\"] = (np.exp(adata.raw.X)-1).copy()\n",
    "            \n",
    "        # -- get umap \n",
    "        sc.pp.scale(adata)\n",
    "        # PCA\n",
    "        sc.tl.pca(adata, svd_solver='arpack', random_state=2022)\n",
    "        # UMAP\n",
    "        sc.pp.neighbors(adata, n_neighbors=4, n_pcs=20, random_state=2022)\n",
    "        sc.tl.umap(adata,random_state=2022)\n",
    "\n",
    "        # -- Random downsampling into 30K cells if the anndata object include more than 30 K cells.\n",
    "        if adata.shape[0] > n_cells_downsample:\n",
    "            # Let's dowmsample into 30K cells\n",
    "            sc.pp.subsample(adata, n_obs=n_cells_downsample, random_state=123)\n",
    "        print(f\"Cell number is :{adata.shape[0]}\")\n",
    "\n",
    "        # -- Instantiate Oracle object\n",
    "        oracle = co.Oracle()\n",
    "\n",
    "        # -- Check data in anndata\n",
    "        print(\"Metadata columns :\", list(adata.obs.columns))\n",
    "        print(\"Dimensional reduction: \", list(adata.obsm.keys()))\n",
    "\n",
    "        # -- In this notebook, we use the unscaled mRNA count for the nput of Oracle object.\n",
    "        adata.X = adata.layers[\"raw_count\"].copy()\n",
    "\n",
    "        # -- Instantiate Oracle object.\n",
    "        oracle.import_anndata_as_raw_count(adata=adata,\n",
    "                                        cluster_column_name=\"celltype\",\n",
    "                                        embedding_name=\"X_umap\")\n",
    "\n",
    "        # -- You can load TF info dataframe with the following code.\n",
    "        oracle.import_TF_data(TF_info_matrix=base_GRN)\n",
    "\n",
    "        # -- knn imputation, this step is needed for the whole ctrl\n",
    "        # Perform PCA\n",
    "        oracle.perform_PCA()\n",
    "\n",
    "        # Select important PCs\n",
    "        plt.plot(np.cumsum(oracle.pca.explained_variance_ratio_)[:100])\n",
    "        n_comps = np.where(np.diff(np.diff(np.cumsum(oracle.pca.explained_variance_ratio_))>0.002))[0][0]\n",
    "        plt.axvline(n_comps, c=\"k\")\n",
    "        plt.show()\n",
    "        print(n_comps)\n",
    "        n_comps = min(n_comps, 50)\n",
    "\n",
    "        n_cell = oracle.adata.shape[0]\n",
    "        print(f\"cell number is :{n_cell}\")\n",
    "\n",
    "        k = int(0.025*n_cell)\n",
    "        print(f\"Auto-selected k is :{k}\")\n",
    "\n",
    "        oracle.knn_imputation(n_pca_dims=n_comps, k=k, balanced=True, b_sight=k*8,\n",
    "                            b_maxl=k*4, n_jobs=4)\n",
    "\n",
    "        # model_prefix = ''\n",
    "        os.makedirs(save_dir, exist_ok=True)\n",
    "        # -- save the oracle\n",
    "        oracle.to_hdf5(os.path.join(save_dir, \"ctrl.celloracle.oracle\"))\n",
    "\n",
    "        # -- get the links\n",
    "        # Calculate GRN for each population in \"louvain_annot\" clustering unit.\n",
    "        # This step may take some time.(~30 minutes)\n",
    "        links = oracle.get_links(cluster_name_for_GRN_unit=\"celltype\", alpha=10,\n",
    "                                verbose_level=10)\n",
    "\n",
    "        # -- Save Links object.\n",
    "        links.to_hdf5(file_path=os.path.join(save_dir, \"ctrl.celloracle.links\"))\n",
    "\n",
    "\n",
    "    # -- filter and get the coef_mtx\n",
    "    links.filter_links(threshold_number=threshold_number,\n",
    "                        p=0.001,\n",
    "                        weight='coef_abs')\n",
    "    oracle.get_cluster_specific_TFdict_from_Links(links_object=links)\n",
    "    oracle.fit_GRN_for_simulation(alpha=10,\n",
    "                                use_cluster_specific_TFdict=True)\n",
    "\n",
    "\n",
    "    ######################################################\n",
    "\n",
    "    # - get all the TFs in the base_GRN\n",
    "    TFdict = import_TF_data(TF_info_matrix=base_GRN)\n",
    "    tf_target_dict = {}\n",
    "    for target, gene_set in TFdict.items():\n",
    "        for tf in gene_set:\n",
    "            if tf not in tf_target_dict:\n",
    "                tf_target_dict[tf] = []\n",
    "                tf_target_dict[tf].append(target)\n",
    "            else:\n",
    "                tf_target_dict[tf].append(target)\n",
    "    total_tf_list = list(tf_target_dict.keys())\n",
    "\n",
    "    common_pert = []\n",
    "    for perts in pert_data.test_perts:\n",
    "        flag = True\n",
    "        for pert in perts.split('; '):\n",
    "            if pert not in total_tf_list:\n",
    "                flag = False\n",
    "                break\n",
    "        if flag:\n",
    "            common_pert.append(perts)\n",
    "    common_pert_2 = []       \n",
    "    for perts in common_pert:\n",
    "        flag = True\n",
    "        for pert in perts.split('; '):\n",
    "            if pert not in adata.var_names:\n",
    "                flag = False\n",
    "                break\n",
    "        if flag:\n",
    "            common_pert_2.append(perts)\n",
    "    print('common_pert num is: ',len(common_pert_2))\n",
    "    print(common_pert_2)\n",
    "    if len(common_pert_2) == 0:\n",
    "        continue\n",
    "    \n",
    "    \n",
    "    ###########################################\n",
    "    celltype = adata.obs['celltype_new'].unique()[0]\n",
    "    \n",
    "    # - get the tf_GRN_dict, to check whether pert have regulatory relations\n",
    "    gene_GRN_mtx = oracle.coef_matrix_per_cluster[celltype].copy()\n",
    "    tf_GRN_mtx = gene_GRN_mtx[~(gene_GRN_mtx == 0).all(axis=1)]\n",
    "    # - get TF-target pair and the regulatory values\n",
    "    tf_GRN_dict = {} # the tf to targets\n",
    "    for i in range(len(tf_GRN_mtx)):\n",
    "        tmp = tf_GRN_mtx.iloc[i,:]\n",
    "        tmp = tmp[tmp!=0]\n",
    "\n",
    "        tf_GRN_dict[tf_GRN_mtx.index[i]] = {}\n",
    "        for j in range(len(tmp)):\n",
    "            tf_GRN_dict[tf_GRN_mtx.index[i]][tmp.index[j]] = tmp.values[j]\n",
    "    \n",
    "    \n",
    "    pert_cat_list, pred_list, truth_list, pred_de_list, truth_de_list = [], [], [], [], []\n",
    "\n",
    "    for pert_suffix in common_pert_2:\n",
    "        pert = ' | '.join([pert_suffix,celltype])\n",
    "        \n",
    "        adata_pert = pert_data.adata_split[pert_data.adata_split.obs['perturbation_group']==pert].copy()\n",
    "        adata_ctrl = pert_data.adata_split[list(adata_pert.obs['control_barcode'])].copy()\n",
    "        # - this is for crispra\n",
    "        gois = pert.split(' | ')[0].split('; ')\n",
    "        goi_dict = {}\n",
    "        if gene_pert_dict[prefix]['perturbation_type'] == 'CRISPRa':\n",
    "            for goi in gois:\n",
    "                # -- if original value is zero\n",
    "                if np.mean(adata_ctrl[:,goi].X.toarray())==0:\n",
    "                    print(f'{goi} ctrl expression is 0')\n",
    "                    continue\n",
    "                # -- if the TF has no targets\n",
    "                if goi not in list(tf_GRN_dict.keys()):\n",
    "                    print(f'{goi} is not in the tf_GRN_dict, no targets')\n",
    "                    continue\n",
    "                goi_dict[goi] = np.mean(adata_ctrl[:,goi].X.toarray())+1\n",
    "        else:\n",
    "            for goi in gois:\n",
    "                # -- if original value is zero\n",
    "                if np.mean(adata_ctrl[:,goi].X.toarray())==0:\n",
    "                    print(f'{goi} ctrl expression is 0')\n",
    "                    continue\n",
    "                # -- if the TF has no targets\n",
    "                if goi not in list(tf_GRN_dict.keys()):\n",
    "                    print(f'{goi} is not in the tf_GRN_dict, no targets')\n",
    "                    continue\n",
    "                goi_dict[goi] = 0\n",
    "        if len(goi_dict) == 0:\n",
    "            print(f'{pert} is filtered')\n",
    "            continue\n",
    "\n",
    "\n",
    "        # - get oracle_ctrl\n",
    "\n",
    "        # keep raw cont data before log transformation\n",
    "        adata_ctrl.raw = adata_ctrl\n",
    "\n",
    "        # the result will be recovered in normalized_count\n",
    "        if not isinstance(adata_ctrl.raw.X, np.ndarray):\n",
    "            adata_ctrl.layers[\"raw_count\"] = (np.exp(adata_ctrl.raw.X.toarray())-1).copy()\n",
    "        else:\n",
    "            adata_ctrl.layers[\"raw_count\"] = (np.exp(adata_ctrl.raw.X)-1).copy()\n",
    "            \n",
    "        sc.pp.scale(adata_ctrl)\n",
    "        # PCA\n",
    "        sc.tl.pca(adata_ctrl, svd_solver='arpack', random_state=2022)\n",
    "\n",
    "        # Diffusion map\n",
    "        sc.pp.neighbors(adata_ctrl, n_neighbors=4, n_pcs=20, random_state=2022)\n",
    "        sc.tl.umap(adata_ctrl,random_state=2022)\n",
    "\n",
    "        # Instantiate Oracle object\n",
    "        oracle_ctrl = co.Oracle()\n",
    "\n",
    "        # In this notebook, we use the unscaled mRNA count for the nput of Oracle object.\n",
    "        adata_ctrl.X = adata_ctrl.layers[\"raw_count\"].copy()\n",
    "\n",
    "        # Instantiate Oracle object.\n",
    "        oracle_ctrl.import_anndata_as_raw_count(adata=adata_ctrl,\n",
    "                                        cluster_column_name=\"celltype\",\n",
    "                                        embedding_name=\"X_umap\")\n",
    "\n",
    "        # You can load TF info dataframe with the following code.\n",
    "        oracle_ctrl.import_TF_data(TF_info_matrix=base_GRN)\n",
    "\n",
    "        # get the imputed_count, here we dont do the impute to get the prediction\n",
    "        oracle_ctrl.adata.layers[\"imputed_count\"] = oracle_ctrl.adata.layers[\"normalized_count\"].copy()\n",
    "\n",
    "        # get the coef from the whole ctrl\n",
    "        oracle_ctrl.coef_matrix_per_cluster = oracle.coef_matrix_per_cluster\n",
    "\n",
    "        # Enter perturbation conditions to simulate signal propagation after the perturbation.\n",
    "        oracle_ctrl.simulate_shift(perturb_condition=goi_dict,\n",
    "                            n_propagation=3)\n",
    "        # - get the prediction; delta_X = simulated_count - imputed_count\n",
    "        delta_X, simulated_count = oracle_ctrl.adata.layers[\"delta_X\"], oracle_ctrl.adata.layers[\"simulated_count\"]\n",
    "        \n",
    "        # - get test_res\n",
    "        pert_gears = transform_name(pert)\n",
    "        geneid2idx = dict(zip(pert_data.adata.var.index.values, range(len(pert_data.adata.var.index.values))))\n",
    "        pert2pert_full_id = dict(pert_data.adata.obs[['condition', 'condition_name']].values)\n",
    "        de_idx = [geneid2idx[i] for i in pert_data.adata.uns['rank_genes_groups_cov_all'][pert2pert_full_id[pert_gears]][:20]]\n",
    "        \n",
    "        # - add to list\n",
    "        pert_cat_list.append(np.array([pert_gears]*delta_X.shape[0]))\n",
    "        pred_list.append(simulated_count)\n",
    "        truth_list.append(adata_pert.X.toarray())\n",
    "        pred_de_list.append(simulated_count[:,de_idx])\n",
    "        truth_de_list.append(adata_pert.X.toarray()[:, de_idx])\n",
    "\n",
    "    test_res = {}\n",
    "    test_res['pert_cat'] = np.hstack(pert_cat_list)\n",
    "    test_res['pred'] = np.vstack(pred_list)\n",
    "    test_res['truth'] = np.vstack(truth_list)\n",
    "    test_res['pred_de'] = np.vstack(pred_de_list)\n",
    "    test_res['truth_de'] = np.vstack(truth_de_list)\n",
    "\n",
    "    # - get the out\n",
    "    out = get_metric(pert_data.adata, test_res)\n",
    "    # out_non_dropout = non_dropout_analysis(pert_data.adata, test_res)\n",
    "\n",
    "\n",
    "    pickle.dump(out, open(os.path.join(save_dir,f'out.pkl'), 'wb'))\n",
    "    # pickle.dump(out_non_dropout, open(os.path.join(save_dir,f'out_non_dropout.pkl'), 'wb'))\n",
    "    \n",
    "    # break\n"
   ]
  },
  {
   "cell_type": "code",
   "execution_count": 13,
   "metadata": {},
   "outputs": [
    {
     "name": "stdout",
     "output_type": "stream",
     "text": [
      "add adata finished\n",
      "add condition finished\n"
     ]
    },
    {
     "ename": "AttributeError",
     "evalue": "'Byte_Pert_Data' object has no attribute 'dataset_perturbation_list'",
     "output_type": "error",
     "traceback": [
      "\u001b[0;31m---------------------------------------------------------------------------\u001b[0m",
      "\u001b[0;31mAttributeError\u001b[0m                            Traceback (most recent call last)",
      "Cell \u001b[0;32mIn[13], line 1\u001b[0m\n\u001b[0;32m----> 1\u001b[0m \u001b[43mpert_data\u001b[49m\u001b[38;5;241;43m.\u001b[39;49m\u001b[43mmodify_gears\u001b[49m\u001b[43m(\u001b[49m\u001b[43mwithout_subgroup\u001b[49m\u001b[43m \u001b[49m\u001b[38;5;241;43m=\u001b[39;49m\u001b[43m \u001b[49m\u001b[38;5;28;43;01mFalse\u001b[39;49;00m\u001b[43m)\u001b[49m\n",
      "File \u001b[0;32m/data1/lichen/code/single_cell_perturbation/scPerturb/Byte_Pert_Data/v1/dataloader.py:890\u001b[0m, in \u001b[0;36mByte_Pert_Data.modify_gears\u001b[0;34m(self, split, train_gene_set_size, without_subgroup)\u001b[0m\n\u001b[1;32m    886\u001b[0m         \u001b[38;5;28;01mreturn\u001b[39;00m \u001b[38;5;124m'\u001b[39m\u001b[38;5;124m+\u001b[39m\u001b[38;5;124m'\u001b[39m\u001b[38;5;241m.\u001b[39mjoin(my_pert\u001b[38;5;241m.\u001b[39msplit(\u001b[38;5;124m'\u001b[39m\u001b[38;5;124m | \u001b[39m\u001b[38;5;124m'\u001b[39m)[\u001b[38;5;241m0\u001b[39m]\u001b[38;5;241m.\u001b[39msplit(\u001b[38;5;124m'\u001b[39m\u001b[38;5;124m; \u001b[39m\u001b[38;5;124m'\u001b[39m)\u001b[38;5;241m+\u001b[39m[\u001b[38;5;124m'\u001b[39m\u001b[38;5;124mctrl\u001b[39m\u001b[38;5;124m'\u001b[39m])\n\u001b[1;32m    888\u001b[0m \u001b[38;5;28;01mif\u001b[39;00m \u001b[38;5;129;01mnot\u001b[39;00m without_subgroup:\n\u001b[0;32m--> 890\u001b[0m     tmp_list \u001b[38;5;241m=\u001b[39m [convert_gears_pert(i) \u001b[38;5;28;01mfor\u001b[39;00m i \u001b[38;5;129;01min\u001b[39;00m \u001b[38;5;28;43mself\u001b[39;49m\u001b[38;5;241;43m.\u001b[39;49m\u001b[43mdataset_perturbation_list\u001b[49m[\u001b[38;5;124m'\u001b[39m\u001b[38;5;124mtest\u001b[39m\u001b[38;5;124m'\u001b[39m]]\n\u001b[1;32m    891\u001b[0m     subgroup[\u001b[38;5;124m'\u001b[39m\u001b[38;5;124mtest_subgroup\u001b[39m\u001b[38;5;124m'\u001b[39m][\u001b[38;5;124m'\u001b[39m\u001b[38;5;124munseen_single\u001b[39m\u001b[38;5;124m'\u001b[39m] \u001b[38;5;241m=\u001b[39m \u001b[38;5;28mlist\u001b[39m(tmp_list)\n\u001b[1;32m    893\u001b[0m     tmp_list \u001b[38;5;241m=\u001b[39m [convert_gears_pert(i) \u001b[38;5;28;01mfor\u001b[39;00m i \u001b[38;5;129;01min\u001b[39;00m \u001b[38;5;28mself\u001b[39m\u001b[38;5;241m.\u001b[39mdataset_perturbation_list[\u001b[38;5;124m'\u001b[39m\u001b[38;5;124mval\u001b[39m\u001b[38;5;124m'\u001b[39m]]\n",
      "\u001b[0;31mAttributeError\u001b[0m: 'Byte_Pert_Data' object has no attribute 'dataset_perturbation_list'"
     ]
    }
   ],
   "source": [
    "pert_data.modify_gears(without_subgroup = False)"
   ]
  },
  {
   "cell_type": "code",
   "execution_count": 47,
   "metadata": {},
   "outputs": [
    {
     "data": {
      "text/plain": [
       "{'DDIT3+ctrl': {'frac_correct_direction_all': 0.5490901819636073,\n",
       "  'frac_correct_direction_top20_de': 0.2,\n",
       "  'frac_correct_direction_top50_de': 0.12,\n",
       "  'frac_correct_direction_top100_de': 0.12,\n",
       "  'frac_correct_direction_top200_de': 0.15,\n",
       "  'frac_correct_direction_all_de': 0.5490901819636073,\n",
       "  'frac_correct_direction_20_nonzero': 0.2,\n",
       "  'frac_in_range': 1.0,\n",
       "  'frac_in_range_45_55': 0.35,\n",
       "  'frac_in_range_40_60': 0.5,\n",
       "  'frac_in_range_25_75': 1.0,\n",
       "  'mean_sigma': 0.24109451336757576,\n",
       "  'std_sigma': 0.07616755175733825,\n",
       "  'frac_sigma_below_1': 1.0,\n",
       "  'frac_sigma_below_2': 1.0,\n",
       "  'pearson_delta': 0.01756796584103145,\n",
       "  'pearson_delta_de': -0.028187475489290216,\n",
       "  'fold_change_gap_all': 0.038811493479702974,\n",
       "  'pearson_delta_top200_hvg': 0.009680739307155005,\n",
       "  'pearson_top200_hvg': 0.9977266465165873,\n",
       "  'mse_top200_hvg': 0.0034803336259919947,\n",
       "  'pearson_delta_top20_de': -0.028187475489290216,\n",
       "  'pearson_top20_de': 0.9956921503915804,\n",
       "  'mse_top20_de': 0.01583192508479619,\n",
       "  'pearson_delta_top50_de': -0.19760960385302784,\n",
       "  'pearson_top50_de': 0.9948231034689914,\n",
       "  'mse_top50_de': 0.010878781967630669,\n",
       "  'pearson_delta_top100_de': -0.27193854859380234,\n",
       "  'pearson_top100_de': 0.9972243190706113,\n",
       "  'mse_top100_de': 0.007236896558594746,\n",
       "  'pearson_delta_top200_de': -0.30886930462458,\n",
       "  'pearson_top200_de': 0.9976912118241781,\n",
       "  'mse_top200_de': 0.0048931659213505155,\n",
       "  'pearson_delta_all_de': 0.01756796584103168,\n",
       "  'pearson_all_de': 0.9989232835056717,\n",
       "  'mse_all_de': 0.0003430939485499018,\n",
       "  'DE_pearson_delta_top20': 0.1035551841387425,\n",
       "  'DE_pearson_top20': 0.9967035032879403,\n",
       "  'DE_mse_top20': 0.01230036708142545,\n",
       "  'DE_mae_top20': 0.08063691757110278,\n",
       "  'DE_change_ratio_top20': nan,\n",
       "  'DE_pearson_delta_top50': 0.09276234882090678,\n",
       "  'DE_pearson_top50': 0.9972469115816709,\n",
       "  'DE_mse_top50': 0.004992540874872898,\n",
       "  'DE_mae_top50': 0.036610696602199545,\n",
       "  'DE_change_ratio_top50': nan,\n",
       "  'DE_pearson_delta_top100': 0.09353106085431934,\n",
       "  'DE_pearson_top100': 0.9973761529904503,\n",
       "  'DE_mse_top100': 0.0025325385881560065,\n",
       "  'DE_mae_top100': 0.02045732066065412,\n",
       "  'DE_change_ratio_top100': nan,\n",
       "  'DE_pearson_delta_top200': 0.09806441842371773,\n",
       "  'DE_pearson_top200': 0.9978944325250121,\n",
       "  'DE_mse_top200': 0.001334274284855155,\n",
       "  'DE_mae_top200': 0.012985037196467179,\n",
       "  'DE_change_ratio_top200': nan,\n",
       "  'DE_pearson_delta_sig_DE': 0.1035551841387425,\n",
       "  'DE_pearson_sig_DE': 0.9967035032879403,\n",
       "  'DE_mse_sig_DE': 0.01230036708142545,\n",
       "  'DE_mae_sig_DE': 0.08063691757110278,\n",
       "  'DE_change_ratio_sig_DE': nan,\n",
       "  'NonDE-high_pearson_delta_top20': 0.5188640156760689,\n",
       "  'NonDE-high_pearson_top20': 0.9989500050489076,\n",
       "  'NonDE-high_mse_top20': 0.0008737181600546477,\n",
       "  'NonDE-high_mae_top20': 0.02287898769043777,\n",
       "  'NonDE-high_change_ratio_top20': 0.0058449812388625105,\n",
       "  'NonDE-high_pearson_delta_top50': 0.2632825227692226,\n",
       "  'NonDE-high_pearson_top50': 0.9993059347406704,\n",
       "  'NonDE-high_mse_top50': 0.0011406721277416349,\n",
       "  'NonDE-high_mae_top50': 0.02718257509437497,\n",
       "  'NonDE-high_change_ratio_top50': 0.009799006652464632,\n",
       "  'NonDE-high_pearson_delta_top100': -0.015539494783957691,\n",
       "  'NonDE-high_pearson_top100': 0.9989725614426229,\n",
       "  'NonDE-high_mse_top100': 0.0020564203621556455,\n",
       "  'NonDE-high_mae_top100': 0.03576361733793807,\n",
       "  'NonDE-high_change_ratio_top100': 0.019096646501747493,\n",
       "  'NonDE-high_pearson_delta_top200': 0.009531098086644393,\n",
       "  'NonDE-high_pearson_top200': 0.9989636473853409,\n",
       "  'NonDE-high_mse_top200': 0.001971429540036494,\n",
       "  'NonDE-high_mae_top200': 0.03519078063109639,\n",
       "  'NonDE-high_change_ratio_top200': 0.02694806710978166,\n",
       "  'NonDE-low_pearson_delta_top20': -0.7515282300344053,\n",
       "  'NonDE-low_pearson_top20': 0,\n",
       "  'NonDE-low_mse_top20': 6.495905751156612e-06,\n",
       "  'NonDE-low_mae_top20': 0.0008456963973003439,\n",
       "  'NonDE-low_change_ratio_top20': nan,\n",
       "  'NonDE-low_pearson_delta_top50': -0.14153675482921604,\n",
       "  'NonDE-low_pearson_top50': 0,\n",
       "  'NonDE-low_mse_top50': 5.005098555313549e-06,\n",
       "  'NonDE-low_mae_top50': 0.000903065818711184,\n",
       "  'NonDE-low_change_ratio_top50': nan,\n",
       "  'NonDE-low_pearson_delta_top100': -0.05391219564755895,\n",
       "  'NonDE-low_pearson_top100': 0,\n",
       "  'NonDE-low_mse_top100': 3.937502691107352e-06,\n",
       "  'NonDE-low_mae_top100': 0.0008122126079979353,\n",
       "  'NonDE-low_change_ratio_top100': nan,\n",
       "  'NonDE-low_pearson_delta_top200': 0.030453556037926686,\n",
       "  'NonDE-low_pearson_top200': 0,\n",
       "  'NonDE-low_mse_top200': 3.2035745260439414e-06,\n",
       "  'NonDE-low_mae_top200': 0.0007153347828716505,\n",
       "  'NonDE-low_change_ratio_top200': nan},\n",
       " 'EP300+ctrl': {'frac_correct_direction_all': 0.5332933413317337,\n",
       "  'frac_correct_direction_top20_de': 0.3,\n",
       "  'frac_correct_direction_top50_de': 0.26,\n",
       "  'frac_correct_direction_top100_de': 0.16,\n",
       "  'frac_correct_direction_top200_de': 0.16,\n",
       "  'frac_correct_direction_all_de': 0.5332933413317337,\n",
       "  'frac_correct_direction_20_nonzero': 0.3,\n",
       "  'frac_in_range': 1.0,\n",
       "  'frac_in_range_45_55': 0.1,\n",
       "  'frac_in_range_40_60': 0.5,\n",
       "  'frac_in_range_25_75': 1.0,\n",
       "  'mean_sigma': 0.31784460191188524,\n",
       "  'std_sigma': 0.09311359478590694,\n",
       "  'frac_sigma_below_1': 1.0,\n",
       "  'frac_sigma_below_2': 1.0,\n",
       "  'pearson_delta': 0.060426015297940415,\n",
       "  'pearson_delta_de': 0.24241211490988213,\n",
       "  'fold_change_gap_all': 0.03838396753488935,\n",
       "  'pearson_delta_top200_hvg': 0.14258344945906798,\n",
       "  'pearson_top200_hvg': 0.9965008739830981,\n",
       "  'mse_top200_hvg': 0.006060604259377343,\n",
       "  'pearson_delta_top20_de': 0.24241211490988213,\n",
       "  'pearson_top20_de': 0.9933643105944646,\n",
       "  'mse_top20_de': 0.04608956090838915,\n",
       "  'pearson_delta_top50_de': 0.0965276428471187,\n",
       "  'pearson_top50_de': 0.9933183840610051,\n",
       "  'mse_top50_de': 0.022186227680118065,\n",
       "  'pearson_delta_top100_de': -0.02999515941060262,\n",
       "  'pearson_top100_de': 0.9954104229224614,\n",
       "  'mse_top100_de': 0.012825015825816409,\n",
       "  'pearson_delta_top200_de': -0.10322994052087578,\n",
       "  'pearson_top200_de': 0.9964432259219925,\n",
       "  'mse_top200_de': 0.007359186093391088,\n",
       "  'pearson_delta_all_de': 0.060426015297940415,\n",
       "  'pearson_all_de': 0.9987614454738211,\n",
       "  'mse_all_de': 0.00040527554513555705,\n",
       "  'DE_pearson_delta_top20': 0.24241211490988213,\n",
       "  'DE_pearson_top20': 0.9933643105944646,\n",
       "  'DE_mse_top20': 0.04608956090838915,\n",
       "  'DE_mae_top20': 0.19853515500102334,\n",
       "  'DE_change_ratio_top20': 0.1834691377210703,\n",
       "  'DE_pearson_delta_top50': 0.1048887688808199,\n",
       "  'DE_pearson_top50': 0.9950461222279228,\n",
       "  'DE_mse_top50': 0.02102493796408586,\n",
       "  'DE_mae_top50': 0.1111361558959439,\n",
       "  'DE_change_ratio_top50': nan,\n",
       "  'DE_pearson_delta_top100': 0.049247524468862866,\n",
       "  'DE_pearson_top100': 0.9965265517788231,\n",
       "  'DE_mse_top100': 0.010578022212654631,\n",
       "  'DE_mae_top100': 0.05889812310421512,\n",
       "  'DE_change_ratio_top100': nan,\n",
       "  'DE_pearson_delta_top200': 0.0383487651564235,\n",
       "  'DE_pearson_top200': 0.9970186787557617,\n",
       "  'DE_mse_top200': 0.0053521536964211735,\n",
       "  'DE_mae_top200': 0.03228639442681849,\n",
       "  'DE_change_ratio_top200': nan,\n",
       "  'DE_pearson_delta_sig_DE': 0.24241211490988213,\n",
       "  'DE_pearson_sig_DE': 0.9933643105944646,\n",
       "  'DE_mse_sig_DE': 0.04608956090838915,\n",
       "  'DE_mae_sig_DE': 0.19853515500102334,\n",
       "  'DE_change_ratio_sig_DE': 0.1834691377210703,\n",
       "  'NonDE-high_pearson_delta_top20': -0.0016992342871877397,\n",
       "  'NonDE-high_pearson_top20': 0.9994420628250438,\n",
       "  'NonDE-high_mse_top20': 0.0004602859112735684,\n",
       "  'NonDE-high_mae_top20': 0.017846057274931403,\n",
       "  'NonDE-high_change_ratio_top20': 0.004704677170417713,\n",
       "  'NonDE-high_pearson_delta_top50': 0.11067863685054295,\n",
       "  'NonDE-high_pearson_top50': 0.9996479890164381,\n",
       "  'NonDE-high_mse_top50': 0.0006239938917169095,\n",
       "  'NonDE-high_mae_top50': 0.01982132462918766,\n",
       "  'NonDE-high_change_ratio_top50': 0.007385852500513799,\n",
       "  'NonDE-high_pearson_delta_top100': -0.15822476732808344,\n",
       "  'NonDE-high_pearson_top100': 0.9992976052354763,\n",
       "  'NonDE-high_mse_top100': 0.0013615552768170792,\n",
       "  'NonDE-high_mae_top100': 0.029507174487759906,\n",
       "  'NonDE-high_change_ratio_top100': 0.01642357634997285,\n",
       "  'NonDE-high_pearson_delta_top200': 0.10178410532426606,\n",
       "  'NonDE-high_pearson_top200': 0.9993252214299311,\n",
       "  'NonDE-high_mse_top200': 0.0012656040658136766,\n",
       "  'NonDE-high_mae_top200': 0.028301460265643383,\n",
       "  'NonDE-high_change_ratio_top200': 0.022676820321114,\n",
       "  'NonDE-low_pearson_delta_top20': 0.20894893429210892,\n",
       "  'NonDE-low_pearson_top20': 0,\n",
       "  'NonDE-low_mse_top20': 1.312760168216864e-06,\n",
       "  'NonDE-low_mae_top20': 0.0006249720434425398,\n",
       "  'NonDE-low_change_ratio_top20': nan,\n",
       "  'NonDE-low_pearson_delta_top50': 0.09636473077404517,\n",
       "  'NonDE-low_pearson_top50': 0,\n",
       "  'NonDE-low_mse_top50': 2.0913262306973024e-06,\n",
       "  'NonDE-low_mae_top50': 0.0007582968741189688,\n",
       "  'NonDE-low_change_ratio_top50': nan,\n",
       "  'NonDE-low_pearson_delta_top100': 0.1831489992858173,\n",
       "  'NonDE-low_pearson_top100': 0,\n",
       "  'NonDE-low_mse_top100': 1.8627322657559966e-06,\n",
       "  'NonDE-low_mae_top100': 0.0007050980944768526,\n",
       "  'NonDE-low_change_ratio_top100': nan,\n",
       "  'NonDE-low_pearson_delta_top200': 0.21678462142007765,\n",
       "  'NonDE-low_pearson_top200': 0,\n",
       "  'NonDE-low_mse_top200': 2.055483115757712e-06,\n",
       "  'NonDE-low_mae_top200': 0.0007274660900293383,\n",
       "  'NonDE-low_change_ratio_top200': nan}}"
      ]
     },
     "execution_count": 47,
     "metadata": {},
     "output_type": "execute_result"
    }
   ],
   "source": [
    "out"
   ]
  },
  {
   "cell_type": "code",
   "execution_count": 12,
   "metadata": {},
   "outputs": [
    {
     "data": {
      "text/plain": [
       "('DatlingerBock2021', 'NR4A1 | T cells')"
      ]
     },
     "execution_count": 12,
     "metadata": {},
     "output_type": "execute_result"
    }
   ],
   "source": [
    "prefix, pert"
   ]
  },
  {
   "cell_type": "code",
   "execution_count": 32,
   "metadata": {},
   "outputs": [
    {
     "data": {
      "text/plain": [
       "True"
      ]
     },
     "execution_count": 32,
     "metadata": {},
     "output_type": "execute_result"
    }
   ],
   "source": [
    "goi not in list(tf_GRN_dict.keys())"
   ]
  },
  {
   "cell_type": "code",
   "execution_count": 28,
   "metadata": {},
   "outputs": [
    {
     "data": {
      "text/plain": [
       "3"
      ]
     },
     "execution_count": 28,
     "metadata": {},
     "output_type": "execute_result"
    }
   ],
   "source": [
    "prefix_list.index(prefix)"
   ]
  },
  {
   "cell_type": "code",
   "execution_count": 17,
   "metadata": {},
   "outputs": [
    {
     "data": {
      "text/plain": [
       "4553"
      ]
     },
     "execution_count": 17,
     "metadata": {},
     "output_type": "execute_result"
    }
   ],
   "source": [
    "len(tf_target_dict['NR4A1'])"
   ]
  },
  {
   "cell_type": "code",
   "execution_count": 42,
   "metadata": {},
   "outputs": [
    {
     "data": {
      "text/plain": [
       "(0.0, 0.8494193)"
      ]
     },
     "execution_count": 42,
     "metadata": {},
     "output_type": "execute_result"
    }
   ],
   "source": [
    "np.mean(adata_ctrl[:,'AHR'].X.toarray()), np.mean(adata_ctrl[:,'KLF1'].X.toarray())"
   ]
  },
  {
   "cell_type": "code",
   "execution_count": 27,
   "metadata": {},
   "outputs": [
    {
     "data": {
      "text/plain": [
       "151"
      ]
     },
     "execution_count": 27,
     "metadata": {},
     "output_type": "execute_result"
    }
   ],
   "source": [
    "len(list(total_tf_GRN_dict[cluster].keys()))"
   ]
  },
  {
   "cell_type": "code",
   "execution_count": 12,
   "metadata": {},
   "outputs": [
    {
     "data": {
      "text/plain": [
       "12"
      ]
     },
     "execution_count": 12,
     "metadata": {},
     "output_type": "execute_result"
    }
   ],
   "source": [
    "prefix_list.index('TianKampmann2019_day7neuron')"
   ]
  },
  {
   "cell_type": "code",
   "execution_count": null,
   "metadata": {},
   "outputs": [],
   "source": []
  },
  {
   "cell_type": "code",
   "execution_count": null,
   "metadata": {},
   "outputs": [],
   "source": []
  },
  {
   "cell_type": "code",
   "execution_count": null,
   "metadata": {},
   "outputs": [],
   "source": []
  },
  {
   "cell_type": "code",
   "execution_count": 31,
   "metadata": {},
   "outputs": [
    {
     "data": {
      "text/plain": [
       "array([[0.        , 0.        , 0.        , ..., 0.        , 0.        ,\n",
       "        0.        ],\n",
       "       [0.        , 0.        , 0.        , ..., 0.        , 0.        ,\n",
       "        0.        ],\n",
       "       [0.        , 0.        , 0.        , ..., 0.        , 0.        ,\n",
       "        0.78645015],\n",
       "       ...,\n",
       "       [0.        , 0.        , 0.        , ..., 0.        , 0.        ,\n",
       "        0.        ],\n",
       "       [0.        , 0.        , 0.        , ..., 0.        , 0.        ,\n",
       "        0.61073571],\n",
       "       [0.        , 0.        , 0.        , ..., 0.        , 0.51516783,\n",
       "        0.51516783]])"
      ]
     },
     "execution_count": 31,
     "metadata": {},
     "output_type": "execute_result"
    }
   ],
   "source": [
    "pert_cat_list, pred_list, truth_list, pred_de_list, truth_de_list = [], [], [], [], []"
   ]
  },
  {
   "cell_type": "code",
   "execution_count": 37,
   "metadata": {},
   "outputs": [],
   "source": [
    "out_non_dropout = non_dropout_analysis(pert_data.adata, test_res)"
   ]
  },
  {
   "cell_type": "code",
   "execution_count": null,
   "metadata": {},
   "outputs": [],
   "source": []
  },
  {
   "cell_type": "code",
   "execution_count": null,
   "metadata": {},
   "outputs": [],
   "source": []
  },
  {
   "cell_type": "code",
   "execution_count": null,
   "metadata": {},
   "outputs": [],
   "source": []
  },
  {
   "cell_type": "code",
   "execution_count": null,
   "metadata": {},
   "outputs": [],
   "source": []
  },
  {
   "cell_type": "code",
   "execution_count": null,
   "metadata": {},
   "outputs": [],
   "source": []
  }
 ],
 "metadata": {
  "kernelspec": {
   "display_name": "scGPT",
   "language": "python",
   "name": "python3"
  },
  "language_info": {
   "codemirror_mode": {
    "name": "ipython",
    "version": 3
   },
   "file_extension": ".py",
   "mimetype": "text/x-python",
   "name": "python",
   "nbconvert_exporter": "python",
   "pygments_lexer": "ipython3",
   "version": "3.9.19"
  }
 },
 "nbformat": 4,
 "nbformat_minor": 2
}
