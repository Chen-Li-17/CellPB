{
 "cells": [
  {
   "cell_type": "markdown",
   "metadata": {},
   "source": [
    "env: scGPT"
   ]
  },
  {
   "cell_type": "markdown",
   "metadata": {},
   "source": [
    "# import"
   ]
  },
  {
   "cell_type": "code",
   "execution_count": 1,
   "metadata": {},
   "outputs": [],
   "source": [
    "import scanpy as sc\n",
    "import pandas as pd\n",
    "import numpy as np\n",
    "from glob import glob\n",
    "import os\n",
    "import matplotlib.pyplot as plt\n",
    "from tqdm import tqdm\n",
    "import torch\n",
    "from torch_geometric.data import Data\n",
    "from torch_geometric.data import DataLoader\n",
    "\n",
    "import pickle\n",
    "import sys\n",
    "import requests\n",
    "\n",
    "from types import MethodType\n",
    "import importlib\n",
    "from scperturb import *\n",
    "import anndata as ad"
   ]
  },
  {
   "cell_type": "code",
   "execution_count": 2,
   "metadata": {},
   "outputs": [],
   "source": [
    "import numpy as np\n",
    "import matplotlib.pyplot as plt\n",
    "from sklearn.metrics import roc_curve, auc, precision_recall_curve\n",
    "from tqdm import tqdm"
   ]
  },
  {
   "cell_type": "markdown",
   "metadata": {},
   "source": [
    "# 在L1000上跑corrlation method并存储结果"
   ]
  },
  {
   "cell_type": "code",
   "execution_count": 3,
   "metadata": {},
   "outputs": [
    {
     "name": "stderr",
     "output_type": "stream",
     "text": [
      "/data1/lichen/anaconda3/envs/scGPT/lib/python3.9/site-packages/anndata/__init__.py:55: FutureWarning: `anndata.read` is deprecated, use `anndata.read_h5ad` instead. `ad.read` will be removed in mid 2024.\n",
      "  warnings.warn(\n"
     ]
    },
    {
     "data": {
      "text/plain": [
       "AnnData object with n_obs × n_vars = 36720 × 978\n",
       "    obs: 'sig_id', 'pert_id', 'pert_iname', 'pert_type', 'cell_id', 'pert_dose', 'pert_dose_unit', 'pert_idose', 'pert_time', 'pert_time_unit', 'pert_itime', 'distil_id'\n",
       "    var: 'pr_gene_id', 'pr_gene_symbol', 'pr_gene_title', 'pr_is_lm', 'pr_is_bing'"
      ]
     },
     "execution_count": 3,
     "metadata": {},
     "output_type": "execute_result"
    }
   ],
   "source": [
    "# - get cell line name\n",
    "common_cell_line = \\\n",
    "{   'A549': 'A549',\n",
    "    'HEPG2': 'HepG2',\n",
    "    'HT29': 'HT29',\n",
    "    'MCF7': 'MCF7',\n",
    "    # 'SKBR3': 'SK-BR-3',\n",
    "    'SW480': 'SW480',\n",
    "    'PC3': 'PC3',\n",
    "    'A375': 'A375',\n",
    "} # L1000 cell line : single-cell cell line\n",
    "\n",
    "# - read adata_L1000, this is processed data\n",
    "adata_L1000 = sc.read('/nfs/public/lichen/results/single_cell_perturbation/perturbation_benchmark/benchmark_data/L1000/GSE92742/adata_gene_pert.h5ad')\n",
    "adata_L1000"
   ]
  },
  {
   "cell_type": "code",
   "execution_count": 5,
   "metadata": {},
   "outputs": [
    {
     "name": "stdout",
     "output_type": "stream",
     "text": [
      "==================== cell line is A549\n"
     ]
    },
    {
     "name": "stderr",
     "output_type": "stream",
     "text": [
      "/data1/lichen/anaconda3/envs/scGPT/lib/python3.9/site-packages/anndata/__init__.py:55: FutureWarning: `anndata.read` is deprecated, use `anndata.read_h5ad` instead. `ad.read` will be removed in mid 2024.\n",
      "  warnings.warn(\n",
      "/data1/lichen/anaconda3/envs/scGPT/lib/python3.9/site-packages/anndata/__init__.py:55: FutureWarning: `anndata.read` is deprecated, use `anndata.read_h5ad` instead. `ad.read` will be removed in mid 2024.\n",
      "  warnings.warn(\n"
     ]
    },
    {
     "name": "stdout",
     "output_type": "stream",
     "text": [
      "common_perts num:  3620\n"
     ]
    },
    {
     "name": "stderr",
     "output_type": "stream",
     "text": [
      "100%|██████████| 3620/3620 [00:15<00:00, 228.88it/s]\n"
     ]
    },
    {
     "name": "stdout",
     "output_type": "stream",
     "text": [
      "==================== cell line is HepG2\n"
     ]
    },
    {
     "name": "stderr",
     "output_type": "stream",
     "text": [
      "/data1/lichen/anaconda3/envs/scGPT/lib/python3.9/site-packages/anndata/__init__.py:55: FutureWarning: `anndata.read` is deprecated, use `anndata.read_h5ad` instead. `ad.read` will be removed in mid 2024.\n",
      "  warnings.warn(\n",
      "/data1/lichen/anaconda3/envs/scGPT/lib/python3.9/site-packages/anndata/__init__.py:55: FutureWarning: `anndata.read` is deprecated, use `anndata.read_h5ad` instead. `ad.read` will be removed in mid 2024.\n",
      "  warnings.warn(\n"
     ]
    },
    {
     "name": "stdout",
     "output_type": "stream",
     "text": [
      "common_perts num:  3341\n"
     ]
    },
    {
     "name": "stderr",
     "output_type": "stream",
     "text": [
      "100%|██████████| 3341/3341 [00:15<00:00, 216.16it/s]\n"
     ]
    },
    {
     "name": "stdout",
     "output_type": "stream",
     "text": [
      "==================== cell line is HT29\n"
     ]
    },
    {
     "name": "stderr",
     "output_type": "stream",
     "text": [
      "/data1/lichen/anaconda3/envs/scGPT/lib/python3.9/site-packages/anndata/__init__.py:55: FutureWarning: `anndata.read` is deprecated, use `anndata.read_h5ad` instead. `ad.read` will be removed in mid 2024.\n",
      "  warnings.warn(\n",
      "/data1/lichen/anaconda3/envs/scGPT/lib/python3.9/site-packages/anndata/__init__.py:55: FutureWarning: `anndata.read` is deprecated, use `anndata.read_h5ad` instead. `ad.read` will be removed in mid 2024.\n",
      "  warnings.warn(\n"
     ]
    },
    {
     "name": "stdout",
     "output_type": "stream",
     "text": [
      "common_perts num:  3302\n"
     ]
    },
    {
     "name": "stderr",
     "output_type": "stream",
     "text": [
      "100%|██████████| 3302/3302 [00:13<00:00, 249.47it/s]\n"
     ]
    },
    {
     "name": "stdout",
     "output_type": "stream",
     "text": [
      "==================== cell line is MCF7\n"
     ]
    },
    {
     "name": "stderr",
     "output_type": "stream",
     "text": [
      "/data1/lichen/anaconda3/envs/scGPT/lib/python3.9/site-packages/anndata/__init__.py:55: FutureWarning: `anndata.read` is deprecated, use `anndata.read_h5ad` instead. `ad.read` will be removed in mid 2024.\n",
      "  warnings.warn(\n",
      "/data1/lichen/anaconda3/envs/scGPT/lib/python3.9/site-packages/anndata/__init__.py:55: FutureWarning: `anndata.read` is deprecated, use `anndata.read_h5ad` instead. `ad.read` will be removed in mid 2024.\n",
      "  warnings.warn(\n"
     ]
    },
    {
     "name": "stdout",
     "output_type": "stream",
     "text": [
      "common_perts num:  3649\n"
     ]
    },
    {
     "name": "stderr",
     "output_type": "stream",
     "text": [
      "100%|██████████| 3649/3649 [00:14<00:00, 246.87it/s]\n"
     ]
    },
    {
     "name": "stdout",
     "output_type": "stream",
     "text": [
      "==================== cell line is SW480\n"
     ]
    },
    {
     "name": "stderr",
     "output_type": "stream",
     "text": [
      "/data1/lichen/anaconda3/envs/scGPT/lib/python3.9/site-packages/anndata/__init__.py:55: FutureWarning: `anndata.read` is deprecated, use `anndata.read_h5ad` instead. `ad.read` will be removed in mid 2024.\n",
      "  warnings.warn(\n",
      "/data1/lichen/anaconda3/envs/scGPT/lib/python3.9/site-packages/anndata/__init__.py:55: FutureWarning: `anndata.read` is deprecated, use `anndata.read_h5ad` instead. `ad.read` will be removed in mid 2024.\n",
      "  warnings.warn(\n"
     ]
    },
    {
     "name": "stdout",
     "output_type": "stream",
     "text": [
      "common_perts num:  232\n"
     ]
    },
    {
     "name": "stderr",
     "output_type": "stream",
     "text": [
      "100%|██████████| 232/232 [00:01<00:00, 207.67it/s]\n"
     ]
    },
    {
     "name": "stdout",
     "output_type": "stream",
     "text": [
      "==================== cell line is PC3\n"
     ]
    },
    {
     "name": "stderr",
     "output_type": "stream",
     "text": [
      "/data1/lichen/anaconda3/envs/scGPT/lib/python3.9/site-packages/anndata/__init__.py:55: FutureWarning: `anndata.read` is deprecated, use `anndata.read_h5ad` instead. `ad.read` will be removed in mid 2024.\n",
      "  warnings.warn(\n",
      "/data1/lichen/anaconda3/envs/scGPT/lib/python3.9/site-packages/anndata/__init__.py:55: FutureWarning: `anndata.read` is deprecated, use `anndata.read_h5ad` instead. `ad.read` will be removed in mid 2024.\n",
      "  warnings.warn(\n"
     ]
    },
    {
     "name": "stdout",
     "output_type": "stream",
     "text": [
      "common_perts num:  3780\n"
     ]
    },
    {
     "name": "stderr",
     "output_type": "stream",
     "text": [
      "100%|██████████| 3780/3780 [00:17<00:00, 218.32it/s]\n"
     ]
    },
    {
     "name": "stdout",
     "output_type": "stream",
     "text": [
      "==================== cell line is A375\n"
     ]
    },
    {
     "name": "stderr",
     "output_type": "stream",
     "text": [
      "/data1/lichen/anaconda3/envs/scGPT/lib/python3.9/site-packages/anndata/__init__.py:55: FutureWarning: `anndata.read` is deprecated, use `anndata.read_h5ad` instead. `ad.read` will be removed in mid 2024.\n",
      "  warnings.warn(\n",
      "/data1/lichen/anaconda3/envs/scGPT/lib/python3.9/site-packages/anndata/__init__.py:55: FutureWarning: `anndata.read` is deprecated, use `anndata.read_h5ad` instead. `ad.read` will be removed in mid 2024.\n",
      "  warnings.warn(\n"
     ]
    },
    {
     "name": "stdout",
     "output_type": "stream",
     "text": [
      "common_perts num:  3669\n"
     ]
    },
    {
     "name": "stderr",
     "output_type": "stream",
     "text": [
      "100%|██████████| 3669/3669 [00:14<00:00, 253.32it/s]\n"
     ]
    }
   ],
   "source": [
    "from tqdm import tqdm\n",
    "from sklearn.metrics import precision_recall_curve, auc\n",
    "\n",
    "for cell_line_bulk in list(common_cell_line.keys())[:]:\n",
    "    cell_line_single = common_cell_line[cell_line_bulk]\n",
    "    print('='*20, f'cell line is {cell_line_single}')\n",
    "    \n",
    "    #===================prepare data\n",
    "    if cell_line_bulk in ['PC3', 'A375']:\n",
    "        save_dir_adata = '/nfs/public/lichen/results/single_cell_perturbation/perturbation_benchmark/benchmark_data/L1000/single_cell_data/SCP542'\n",
    "        adata_rna = sc.read(os.path.join(save_dir_adata, cell_line_bulk, f'adata_{cell_line_bulk}.h5ad'))\n",
    "        \n",
    "        # - read adata_rna_raw\n",
    "        save_dir = f'/nfs/public/lichen/data/single_cell/cell_line/SCP542/process/{cell_line_bulk}'\n",
    "        adata_rna_raw = sc.read(os.path.join(save_dir, f'adata.h5ad'))\n",
    "    \n",
    "    else:\n",
    "        save_dir_adata = '/nfs/public/lichen/results/single_cell_perturbation/perturbation_benchmark/benchmark_data/L1000/single_cell_data/CNP0003658'\n",
    "        adata_rna = sc.read(os.path.join(save_dir_adata, cell_line_bulk, f'adata_{cell_line_bulk}.h5ad'))\n",
    "\n",
    "        # - read adata_rna\n",
    "        save_dir = f'/nfs/public/lichen/data/single_cell/cell_line/CNP0003658/process/RNA/{cell_line_single}'\n",
    "        adata_rna_raw = sc.read(os.path.join(save_dir, f'adata_rna_{cell_line_single}.h5ad'))\n",
    "    \n",
    "    # - get common pert\n",
    "    adata_L1000_sub = adata_L1000[adata_L1000.obs['cell_id']==cell_line_bulk]\n",
    "    L1000_total_perts = np.unique(adata_L1000_sub.obs['pert_iname'])\n",
    "    common_perts = L1000_total_perts\n",
    "\n",
    "    print('common_perts num: ', len(common_perts))\n",
    "    \n",
    "    # - get common var\n",
    "    common_var = np.intersect1d(adata_rna.var_names, adata_L1000.var_names)\n",
    "    \n",
    "    adata_pert_list = []\n",
    "    pert_gene_rank_dict = {}\n",
    "\n",
    "    for pert in tqdm(common_perts):\n",
    "        \n",
    "        sub_idx = (adata_L1000.obs['cell_id']==cell_line_bulk) & (adata_L1000.obs['pert_iname']==pert)\n",
    "        gene_score_L1000 = pd.DataFrame({'gene': list(adata_L1000.var_names), 'z-score-L1000': adata_L1000[sub_idx].X[0, :]})\n",
    "        gene_score_L1000 = gene_score_L1000.sort_values(by='z-score-L1000', ascending=False)\n",
    "        \n",
    "        gene_score_L1000 = gene_score_L1000[gene_score_L1000['gene'].isin(common_var)]\n",
    "\n",
    "        np.random.seed(2024)\n",
    "        scores = list(gene_score_L1000['z-score-L1000'])\n",
    "        np.random.shuffle(scores)\n",
    "\n",
    "        # - get gene_score\n",
    "        gene_score = pd.DataFrame({'gene':list(gene_score_L1000['gene']),\n",
    "                                   'z-score':scores})\n",
    "        \n",
    "        pert_gene_rank_dict[pert] = (list(gene_score['gene']), list(gene_score['z-score']))\n",
    "        \n",
    "        # break\n",
    "        # if count == 10:break\n",
    "        \n",
    "    save_dir = '/nfs/public/lichen/results/single_cell_perturbation/perturbation_benchmark_202410/zero_shot/result'\n",
    "    save_prefix = f'random/{cell_line_bulk}' # use result of K562 to do the direct transfer\n",
    "    os.makedirs(os.path.join(save_dir, save_prefix), exist_ok=True)\n",
    "\n",
    "    import json\n",
    "    with open(os.path.join(save_dir, save_prefix, 'pert_gene_rank_dict.json'), 'w') as f:\n",
    "        json.dump(pert_gene_rank_dict, f)\n",
    "        \n",
    "        \n",
    "    # break"
   ]
  },
  {
   "cell_type": "markdown",
   "metadata": {},
   "source": [
    "# 并行化-在L1000上跑corrlation method并存储结果"
   ]
  },
  {
   "cell_type": "code",
   "execution_count": null,
   "metadata": {},
   "outputs": [
    {
     "name": "stderr",
     "output_type": "stream",
     "text": [
      "/data1/lichen/anaconda3/envs/scGPT/lib/python3.9/site-packages/anndata/__init__.py:55: FutureWarning: `anndata.read` is deprecated, use `anndata.read_h5ad` instead. `ad.read` will be removed in mid 2024.\n",
      "  warnings.warn(\n"
     ]
    },
    {
     "name": "stdout",
     "output_type": "stream",
     "text": [
      "==================== cell line is A549\n"
     ]
    },
    {
     "name": "stderr",
     "output_type": "stream",
     "text": [
      "/data1/lichen/anaconda3/envs/scGPT/lib/python3.9/site-packages/anndata/__init__.py:55: FutureWarning: `anndata.read` is deprecated, use `anndata.read_h5ad` instead. `ad.read` will be removed in mid 2024.\n",
      "  warnings.warn(\n",
      "/data1/lichen/anaconda3/envs/scGPT/lib/python3.9/site-packages/anndata/__init__.py:55: FutureWarning: `anndata.read` is deprecated, use `anndata.read_h5ad` instead. `ad.read` will be removed in mid 2024.\n",
      "  warnings.warn(\n"
     ]
    },
    {
     "name": "stdout",
     "output_type": "stream",
     "text": [
      "==================== cell line is HepG2\n"
     ]
    },
    {
     "name": "stderr",
     "output_type": "stream",
     "text": [
      "/data1/lichen/anaconda3/envs/scGPT/lib/python3.9/site-packages/anndata/__init__.py:55: FutureWarning: `anndata.read` is deprecated, use `anndata.read_h5ad` instead. `ad.read` will be removed in mid 2024.\n",
      "  warnings.warn(\n",
      "/data1/lichen/anaconda3/envs/scGPT/lib/python3.9/site-packages/anndata/__init__.py:55: FutureWarning: `anndata.read` is deprecated, use `anndata.read_h5ad` instead. `ad.read` will be removed in mid 2024.\n",
      "  warnings.warn(\n"
     ]
    },
    {
     "name": "stdout",
     "output_type": "stream",
     "text": [
      "==================== cell line is HT29\n"
     ]
    },
    {
     "name": "stderr",
     "output_type": "stream",
     "text": [
      "/data1/lichen/anaconda3/envs/scGPT/lib/python3.9/site-packages/anndata/__init__.py:55: FutureWarning: `anndata.read` is deprecated, use `anndata.read_h5ad` instead. `ad.read` will be removed in mid 2024.\n",
      "  warnings.warn(\n",
      "/data1/lichen/anaconda3/envs/scGPT/lib/python3.9/site-packages/anndata/__init__.py:55: FutureWarning: `anndata.read` is deprecated, use `anndata.read_h5ad` instead. `ad.read` will be removed in mid 2024.\n",
      "  warnings.warn(\n"
     ]
    },
    {
     "name": "stdout",
     "output_type": "stream",
     "text": [
      "==================== cell line is MCF7\n"
     ]
    },
    {
     "name": "stderr",
     "output_type": "stream",
     "text": [
      "/data1/lichen/anaconda3/envs/scGPT/lib/python3.9/site-packages/anndata/__init__.py:55: FutureWarning: `anndata.read` is deprecated, use `anndata.read_h5ad` instead. `ad.read` will be removed in mid 2024.\n",
      "  warnings.warn(\n",
      "/data1/lichen/anaconda3/envs/scGPT/lib/python3.9/site-packages/anndata/__init__.py:55: FutureWarning: `anndata.read` is deprecated, use `anndata.read_h5ad` instead. `ad.read` will be removed in mid 2024.\n",
      "  warnings.warn(\n"
     ]
    },
    {
     "name": "stdout",
     "output_type": "stream",
     "text": [
      "==================== cell line is SW480\n"
     ]
    },
    {
     "name": "stderr",
     "output_type": "stream",
     "text": [
      "/data1/lichen/anaconda3/envs/scGPT/lib/python3.9/site-packages/anndata/__init__.py:55: FutureWarning: `anndata.read` is deprecated, use `anndata.read_h5ad` instead. `ad.read` will be removed in mid 2024.\n",
      "  warnings.warn(\n",
      "/data1/lichen/anaconda3/envs/scGPT/lib/python3.9/site-packages/anndata/__init__.py:55: FutureWarning: `anndata.read` is deprecated, use `anndata.read_h5ad` instead. `ad.read` will be removed in mid 2024.\n",
      "  warnings.warn(\n"
     ]
    },
    {
     "name": "stdout",
     "output_type": "stream",
     "text": [
      "common_perts num:  2883\n",
      "common var to L1000 data is:  915\n"
     ]
    },
    {
     "name": "stderr",
     "output_type": "stream",
     "text": [
      "  0%|          | 0/2883 [00:00<?, ?it/s]"
     ]
    },
    {
     "name": "stdout",
     "output_type": "stream",
     "text": [
      "==================== cell line is PC3\n"
     ]
    },
    {
     "name": "stderr",
     "output_type": "stream",
     "text": [
      "/data1/lichen/anaconda3/envs/scGPT/lib/python3.9/site-packages/anndata/__init__.py:55: FutureWarning: `anndata.read` is deprecated, use `anndata.read_h5ad` instead. `ad.read` will be removed in mid 2024.\n",
      "  warnings.warn(\n",
      "/data1/lichen/anaconda3/envs/scGPT/lib/python3.9/site-packages/anndata/__init__.py:55: FutureWarning: `anndata.read` is deprecated, use `anndata.read_h5ad` instead. `ad.read` will be removed in mid 2024.\n",
      "  warnings.warn(\n"
     ]
    },
    {
     "name": "stdout",
     "output_type": "stream",
     "text": [
      "common_perts num:  3096\n",
      "common var to L1000 data is:  933\n"
     ]
    },
    {
     "name": "stderr",
     "output_type": "stream",
     "text": [
      "  0%|          | 1/2883 [00:01<1:00:04,  1.25s/it]"
     ]
    },
    {
     "name": "stdout",
     "output_type": "stream",
     "text": [
      "==================== cell line is A375\n"
     ]
    },
    {
     "name": "stderr",
     "output_type": "stream",
     "text": [
      "/data1/lichen/anaconda3/envs/scGPT/lib/python3.9/site-packages/anndata/__init__.py:55: FutureWarning: `anndata.read` is deprecated, use `anndata.read_h5ad` instead. `ad.read` will be removed in mid 2024.\n",
      "  warnings.warn(\n",
      "  0%|          | 2/2883 [00:02<56:04,  1.17s/it]  "
     ]
    },
    {
     "name": "stdout",
     "output_type": "stream",
     "text": [
      "common_perts num:  3091\n"
     ]
    },
    {
     "name": "stderr",
     "output_type": "stream",
     "text": [
      "/data1/lichen/anaconda3/envs/scGPT/lib/python3.9/site-packages/anndata/__init__.py:55: FutureWarning: `anndata.read` is deprecated, use `anndata.read_h5ad` instead. `ad.read` will be removed in mid 2024.\n",
      "  warnings.warn(\n"
     ]
    },
    {
     "name": "stdout",
     "output_type": "stream",
     "text": [
      "common var to L1000 data is:  932\n"
     ]
    },
    {
     "name": "stderr",
     "output_type": "stream",
     "text": [
      "  0%|          | 2/3091 [00:00<14:59,  3.44it/s]"
     ]
    },
    {
     "name": "stdout",
     "output_type": "stream",
     "text": [
      "common_perts num:  207\n",
      "common_perts num:  2750\n",
      "common var to L1000 data is:  932\n"
     ]
    },
    {
     "name": "stderr",
     "output_type": "stream",
     "text": [
      "  0%|          | 0/207 [00:00<?, ?it/s]"
     ]
    },
    {
     "name": "stdout",
     "output_type": "stream",
     "text": [
      "common var to L1000 data is:  931\n"
     ]
    },
    {
     "name": "stderr",
     "output_type": "stream",
     "text": [
      "  0%|          | 5/3091 [00:01<16:01,  3.21it/s]t]"
     ]
    },
    {
     "name": "stdout",
     "output_type": "stream",
     "text": [
      "common_perts num:  3086\n",
      "common var to L1000 data is:  930\n"
     ]
    },
    {
     "name": "stderr",
     "output_type": "stream",
     "text": [
      "  0%|          | 7/3086 [00:05<39:37,  1.29it/s]] "
     ]
    },
    {
     "name": "stdout",
     "output_type": "stream",
     "text": [
      "common_perts num:  3107\n",
      "common var to L1000 data is:  945\n"
     ]
    },
    {
     "name": "stderr",
     "output_type": "stream",
     "text": [
      "100%|██████████| 207/207 [02:15<00:00,  1.53it/s]]  \n",
      "100%|██████████| 3091/3091 [15:04<00:00,  3.42it/s] \n",
      "100%|██████████| 3086/3086 [37:59<00:00,  1.35it/s]  \n",
      "100%|██████████| 2750/2750 [39:40<00:00,  1.16it/s]\n",
      "100%|██████████| 2883/2883 [40:10<00:00,  1.20it/s]\n",
      "100%|██████████| 3107/3107 [40:22<00:00,  1.28it/s]\n",
      "100%|██████████| 3096/3096 [46:26<00:00,  1.11it/s]\n"
     ]
    }
   ],
   "source": [
    "import os\n",
    "import numpy as np\n",
    "import pandas as pd\n",
    "import scanpy as sc\n",
    "from tqdm import tqdm\n",
    "from sklearn.metrics import precision_recall_curve, auc\n",
    "from scipy.spatial.distance import cdist\n",
    "import concurrent.futures\n",
    "import json\n",
    "\n",
    "# 定义处理每个 cell_line_single 的函数\n",
    "def process_cell_line(cell_line_bulk, cell_line_single, common_cell_line, adata_L1000):\n",
    "    print('=' * 20, f'cell line is {cell_line_single}')\n",
    "\n",
    "    #===================prepare data\n",
    "    if cell_line_bulk in ['PC3', 'A375']:\n",
    "        save_dir_adata = '/nfs/public/lichen/results/single_cell_perturbation/perturbation_benchmark/benchmark_data/L1000/single_cell_data/SCP542'\n",
    "        adata_rna = sc.read(os.path.join(save_dir_adata, cell_line_bulk, f'adata_{cell_line_bulk}.h5ad'))\n",
    "        \n",
    "        # - read adata_rna_raw\n",
    "        save_dir = f'/nfs/public/lichen/data/single_cell/cell_line/SCP542/process/{cell_line_bulk}'\n",
    "        adata_rna_raw = sc.read(os.path.join(save_dir, f'adata.h5ad'))\n",
    "    \n",
    "    else:\n",
    "        save_dir_adata = '/nfs/public/lichen/results/single_cell_perturbation/perturbation_benchmark/benchmark_data/L1000/single_cell_data/CNP0003658'\n",
    "        adata_rna = sc.read(os.path.join(save_dir_adata, cell_line_bulk, f'adata_{cell_line_bulk}.h5ad'))\n",
    "\n",
    "        # - read adata_rna\n",
    "        save_dir = f'/nfs/public/lichen/data/single_cell/cell_line/CNP0003658/process/RNA/{cell_line_single}'\n",
    "        adata_rna_raw = sc.read(os.path.join(save_dir, f'adata_rna_{cell_line_single}.h5ad'))\n",
    "\n",
    "    # - consctrut corr mtx\n",
    "    if not isinstance(adata_rna.X, np.ndarray):\n",
    "        adata_rna.X = adata_rna.X.toarray()\n",
    "    corr_mtx = np.corrcoef(adata_rna.X.T)\n",
    "    \n",
    "    # - get var_names\n",
    "    var_names = list(adata_rna.var_names)\n",
    "    \n",
    "    # - get common pert\n",
    "    adata_L1000_sub = adata_L1000[adata_L1000.obs['cell_id']==cell_line_bulk]\n",
    "    L1000_total_perts = np.unique(adata_L1000_sub.obs['pert_iname'])\n",
    "    common_perts = np.intersect1d(adata_rna.var_names, L1000_total_perts)\n",
    "\n",
    "    \n",
    "    \n",
    "    print('common_perts num: ', len(common_perts))\n",
    "    print('common var to L1000 data is: ', len(np.intersect1d(var_names, adata_L1000.var_names)))\n",
    "\n",
    "    \n",
    "    adata_pert_list = []\n",
    "    pert_gene_rank_dict = {}\n",
    "    count = 0\n",
    "    for pert in tqdm(common_perts):\n",
    "        count += 1\n",
    "        # - get the corr change\n",
    "        pert_value = adata_rna.X[:, var_names.index(pert)] # value of the pert gene, 500 cells\n",
    "        pert_corr = corr_mtx[var_names.index(pert), :] # corr of the pert gene to total genes\n",
    "        exp_change = np.dot(pert_value.reshape(-1, 1), pert_corr.reshape(1, -1))\n",
    "        \n",
    "        # - create adata_pert\n",
    "        adata_pert = adata_rna.copy()\n",
    "        adata_pert.X -= exp_change\n",
    "        adata_pert.X[adata_pert.X < 0] = 0\n",
    "        adata_pert.obs_names = [i+f'_{pert}' for i in adata_pert.obs_names]\n",
    "        \n",
    "        # - adata_ctrl\n",
    "        adata_ctrl = adata_rna.copy()\n",
    "        \n",
    "        adata_ctrl.obs['batch'] = 'ctrl'\n",
    "        adata_pert.obs['batch'] = 'pert'\n",
    "        \n",
    "        adata_concat = ad.concat([adata_ctrl, adata_pert])\n",
    "        \n",
    "        # - cal de genes\n",
    "        rankby_abs = False\n",
    "\n",
    "        sc.tl.rank_genes_groups(\n",
    "            adata_concat,\n",
    "            groupby='batch',\n",
    "            reference='ctrl',\n",
    "            rankby_abs=rankby_abs,\n",
    "            n_genes=len(adata_concat.var),\n",
    "            use_raw=False,\n",
    "            method = 'wilcoxon'\n",
    "        )\n",
    "        de_genes = pd.DataFrame(adata_concat.uns['rank_genes_groups']['names'])\n",
    "        pvals = pd.DataFrame(adata_concat.uns['rank_genes_groups']['pvals'])\n",
    "        pvals_adj = pd.DataFrame(adata_concat.uns['rank_genes_groups']['pvals_adj'])\n",
    "        scores = pd.DataFrame(adata_concat.uns['rank_genes_groups']['scores'])\n",
    "        logfoldchanges = pd.DataFrame(adata_concat.uns['rank_genes_groups']['logfoldchanges'])\n",
    "\n",
    "        # - get gene_score\n",
    "        gene_score = pd.DataFrame({'gene':list(de_genes['pert']),\n",
    "                                   'z-score':list(scores['pert'])})\n",
    "        \n",
    "        pert_gene_rank_dict[pert] = (list(de_genes['pert']), list(scores['pert']))\n",
    "        \n",
    "        \n",
    "    save_dir = '/nfs/public/lichen/results/single_cell_perturbation/perturbation_benchmark_202410/zero_shot/result'\n",
    "    save_prefix = f'correlation_method/{cell_line_bulk}' # use result of K562 to do the direct transfer\n",
    "    os.makedirs(os.path.join(save_dir, save_prefix), exist_ok=True)\n",
    "\n",
    "    import json\n",
    "    with open(os.path.join(save_dir, save_prefix, 'pert_gene_rank_dict.json'), 'w') as f:\n",
    "        json.dump(pert_gene_rank_dict, f)\n",
    "        \n",
    "        \n",
    "# 主函数\n",
    "if __name__ == \"__main__\":\n",
    "    # - get cell line name\n",
    "    common_cell_line = \\\n",
    "    {   'A549': 'A549',\n",
    "        'HEPG2': 'HepG2',\n",
    "        'HT29': 'HT29',\n",
    "        'MCF7': 'MCF7',\n",
    "        # 'SKBR3': 'SK-BR-3',\n",
    "        'SW480': 'SW480',\n",
    "        'PC3': 'PC3',\n",
    "        'A375': 'A375',\n",
    "    } # L1000 cell line : single-cell cell line\n",
    "\n",
    "    # - read adata_L1000, this is processed data\n",
    "    adata_L1000 = sc.read('/nfs/public/lichen/results/single_cell_perturbation/perturbation_benchmark/benchmark_data/L1000/GSE92742/adata_gene_pert.h5ad')\n",
    "\n",
    "\n",
    "    # 使用并行执行\n",
    "    with concurrent.futures.ProcessPoolExecutor() as executor:\n",
    "        futures = [\n",
    "            executor.submit(process_cell_line, cell_line_bulk, common_cell_line[cell_line_bulk], common_cell_line, adata_L1000)\n",
    "            for cell_line_bulk in common_cell_line.keys()\n",
    "        ]\n",
    "        \n",
    "        # 等待所有任务完成\n",
    "        for future in concurrent.futures.as_completed(futures):\n",
    "            try:\n",
    "                future.result()  # 获取每个任务的结果，如果有异常，将在此处抛出\n",
    "            except Exception as e:\n",
    "                print(f\"Error: {e}\")\n"
   ]
  },
  {
   "cell_type": "code",
   "execution_count": null,
   "metadata": {},
   "outputs": [],
   "source": []
  },
  {
   "cell_type": "code",
   "execution_count": null,
   "metadata": {},
   "outputs": [],
   "source": []
  },
  {
   "cell_type": "code",
   "execution_count": null,
   "metadata": {},
   "outputs": [],
   "source": []
  },
  {
   "cell_type": "code",
   "execution_count": null,
   "metadata": {},
   "outputs": [],
   "source": []
  },
  {
   "cell_type": "code",
   "execution_count": null,
   "metadata": {},
   "outputs": [],
   "source": []
  },
  {
   "cell_type": "code",
   "execution_count": null,
   "metadata": {},
   "outputs": [],
   "source": []
  },
  {
   "cell_type": "code",
   "execution_count": null,
   "metadata": {},
   "outputs": [],
   "source": []
  },
  {
   "cell_type": "code",
   "execution_count": null,
   "metadata": {},
   "outputs": [],
   "source": []
  }
 ],
 "metadata": {
  "kernelspec": {
   "display_name": "scGPT",
   "language": "python",
   "name": "python3"
  },
  "language_info": {
   "codemirror_mode": {
    "name": "ipython",
    "version": 3
   },
   "file_extension": ".py",
   "mimetype": "text/x-python",
   "name": "python",
   "nbconvert_exporter": "python",
   "pygments_lexer": "ipython3",
   "version": "3.9.19"
  }
 },
 "nbformat": 4,
 "nbformat_minor": 2
}
