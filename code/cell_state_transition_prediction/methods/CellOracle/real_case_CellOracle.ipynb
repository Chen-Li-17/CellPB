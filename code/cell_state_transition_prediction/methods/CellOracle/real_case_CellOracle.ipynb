{
 "cells": [
  {
   "cell_type": "markdown",
   "metadata": {},
   "source": [
    "env: cell_rank"
   ]
  },
  {
   "cell_type": "markdown",
   "metadata": {},
   "source": [
    "# import"
   ]
  },
  {
   "cell_type": "code",
   "execution_count": 1,
   "metadata": {},
   "outputs": [
    {
     "name": "stderr",
     "output_type": "stream",
     "text": [
      "Global seed set to 0\n"
     ]
    }
   ],
   "source": [
    "import scanpy as sc\n",
    "import pandas as pd\n",
    "import numpy as np\n",
    "from glob import glob\n",
    "import os\n",
    "import matplotlib.pyplot as plt\n",
    "from tqdm import tqdm\n",
    "# import torch\n",
    "# from torch_geometric.data import Data\n",
    "# from torch_geometric.data import DataLoader\n",
    "\n",
    "import pickle\n",
    "import sys\n",
    "import requests\n",
    "\n",
    "from types import MethodType\n",
    "import importlib\n",
    "# from scperturb import *\n",
    "import anndata as ad\n",
    "\n",
    "import scvelo as scv"
   ]
  },
  {
   "cell_type": "code",
   "execution_count": 2,
   "metadata": {},
   "outputs": [
    {
     "name": "stderr",
     "output_type": "stream",
     "text": [
      "Matplotlib is building the font cache; this may take a moment.\n"
     ]
    },
    {
     "data": {
      "text/plain": [
       "'0.18.0'"
      ]
     },
     "execution_count": 2,
     "metadata": {},
     "output_type": "execute_result"
    }
   ],
   "source": [
    "import celloracle as co\n",
    "co.__version__"
   ]
  },
  {
   "cell_type": "code",
   "execution_count": 3,
   "metadata": {},
   "outputs": [],
   "source": [
    "def import_TF_data(TF_info_matrix=None, TF_info_matrix_path=None, TFdict=None):\n",
    "    \"\"\"\n",
    "    Load data about potential-regulatory TFs.\n",
    "    You can import either TF_info_matrix or TFdict.\n",
    "    For more information on how to make these files, please see the motif analysis module within the celloracle tutorial.\n",
    "\n",
    "    Args:\n",
    "        TF_info_matrix (pandas.DataFrame): TF_info_matrix.\n",
    "\n",
    "        TF_info_matrix_path (str): File path for TF_info_matrix (pandas.DataFrame).\n",
    "\n",
    "        TFdict (dictionary): Python dictionary of TF info.\n",
    "    \"\"\"\n",
    "\n",
    "    if not TF_info_matrix is None:\n",
    "        tmp = TF_info_matrix.copy()\n",
    "        tmp = tmp.drop([\"peak_id\"], axis=1)\n",
    "        tmp = tmp.groupby(by=\"gene_short_name\").sum()\n",
    "        TFdict = dict(tmp.apply(lambda x: x[x>0].index.values, axis=1))\n",
    "\n",
    "    if not TF_info_matrix_path is None:\n",
    "        tmp = pd.read_parquet(TF_info_matrix_path)\n",
    "        tmp = tmp.drop([\"peak_id\"], axis=1)\n",
    "        tmp = tmp.groupby(by=\"gene_short_name\").sum()\n",
    "        TFdict = dict(tmp.apply(lambda x: x[x>0].index.values, axis=1))\n",
    "\n",
    "    return TFdict"
   ]
  },
  {
   "cell_type": "markdown",
   "metadata": {},
   "source": [
    "# initial"
   ]
  },
  {
   "cell_type": "code",
   "execution_count": 10,
   "metadata": {},
   "outputs": [],
   "source": [
    "dataset_pert_dict = {\n",
    "    # 'CAR_T': ['PDCD1'], # total_tf_list中似乎没有\n",
    "    'blood': ['GATA1', 'SPI1'],\n",
    "    'OSKM': [['SOX2',\n",
    "         'POU5F1',\n",
    "         'KLF4',\n",
    "         'MYC']],\n",
    "    'ADM': ['PTF1A']\n",
    "}\n",
    "dataset_celltype_dict = {\n",
    "    'CAR_T': 'Tex', \n",
    "    'blood': 'LMPP',\n",
    "    'OSKM': 'Fibroblast-like',\n",
    "    'ADM': 'Acinar'\n",
    "}\n",
    "\n",
    "dataset_dire_dict = {\n",
    "    'CAR_T': 'down', \n",
    "    'blood': 'down',\n",
    "    'OSKM': 'up',\n",
    "    'ADM': 'down'\n",
    "}\n",
    "\n",
    "\n",
    "datasets = list(dataset_pert_dict.keys())"
   ]
  },
  {
   "cell_type": "markdown",
   "metadata": {},
   "source": [
    "# CellOracle跑所有datasets"
   ]
  },
  {
   "cell_type": "code",
   "execution_count": 11,
   "metadata": {},
   "outputs": [
    {
     "name": "stdout",
     "output_type": "stream",
     "text": [
      "==================== blood ====================\n",
      "adata.shape is:  (7073, 1206)\n",
      "Loading prebuilt promoter base-GRN. Version: hg19_gimmemotifsv5_fpr2\n",
      "base_GRN.shape:  (37003, 1096)\n",
      "file exists\n"
     ]
    },
    {
     "data": {
      "application/vnd.jupyter.widget-view+json": {
       "model_id": "13071f59558d46b4a6422b4cddc3ce7f",
       "version_major": 2,
       "version_minor": 0
      },
      "text/plain": [
       "  0%|          | 0/5 [00:00<?, ?it/s]"
      ]
     },
     "metadata": {},
     "output_type": "display_data"
    },
    {
     "name": "stderr",
     "output_type": "stream",
     "text": [
      "  0%|          | 0/2 [00:00<?, ?it/s]"
     ]
    },
    {
     "name": "stdout",
     "output_type": "stream",
     "text": [
      "******************** GATA1\n"
     ]
    },
    {
     "name": "stderr",
     "output_type": "stream",
     "text": [
      "... storing 'batch' as categorical\n",
      " 50%|█████     | 1/2 [01:13<01:13, 73.83s/it]"
     ]
    },
    {
     "name": "stdout",
     "output_type": "stream",
     "text": [
      "******************** SPI1\n"
     ]
    },
    {
     "name": "stderr",
     "output_type": "stream",
     "text": [
      "... storing 'batch' as categorical\n",
      "100%|██████████| 2/2 [01:42<00:00, 51.09s/it]\n"
     ]
    },
    {
     "name": "stdout",
     "output_type": "stream",
     "text": [
      "==================== OSKM ====================\n",
      "adata.shape is:  (7349, 3563)\n",
      "Loading prebuilt promoter base-GRN. Version: hg19_gimmemotifsv5_fpr2\n",
      "base_GRN.shape:  (37003, 1096)\n",
      "Cell number is :7349\n",
      "Metadata columns : ['nCount_RNA', 'nFeature_RNA', 'sample', 'percent.oskm', 'barcode_sample', 'cell type', 'celltype', 'n_genes', 'n_genes_by_counts', 'total_counts', 'total_counts_mt', 'pct_counts_mt', 'n_counts_all', 'celltype_v2']\n",
      "Dimensional reduction:  ['X_pca', 'X_umap']\n",
      "WARNING: adata.X seems to be already log-transformed.\n",
      "28\n",
      "cell number is :7349\n",
      "Auto-selected k is :183\n"
     ]
    },
    {
     "data": {
      "application/vnd.jupyter.widget-view+json": {
       "model_id": "cab09af7fb264b80a1fbb1cfde367fd3",
       "version_major": 2,
       "version_minor": 0
      },
      "text/plain": [
       "  0%|          | 0/3 [00:00<?, ?it/s]"
      ]
     },
     "metadata": {},
     "output_type": "display_data"
    },
    {
     "name": "stdout",
     "output_type": "stream",
     "text": [
      "Inferring GRN for Fibroblast-like...\n"
     ]
    },
    {
     "data": {
      "application/vnd.jupyter.widget-view+json": {
       "model_id": "3d855a987c4146d2be1d0acbc70fc9f5",
       "version_major": 2,
       "version_minor": 0
      },
      "text/plain": [
       "  0%|          | 0/3087 [00:00<?, ?it/s]"
      ]
     },
     "metadata": {},
     "output_type": "display_data"
    },
    {
     "name": "stdout",
     "output_type": "stream",
     "text": [
      "Inferring GRN for Keratinocyte-like...\n"
     ]
    },
    {
     "data": {
      "application/vnd.jupyter.widget-view+json": {
       "model_id": "6a8fb6e5ae1646059e26f4621226f260",
       "version_major": 2,
       "version_minor": 0
      },
      "text/plain": [
       "  0%|          | 0/3087 [00:00<?, ?it/s]"
      ]
     },
     "metadata": {},
     "output_type": "display_data"
    },
    {
     "name": "stdout",
     "output_type": "stream",
     "text": [
      "Inferring GRN for Stem-like...\n"
     ]
    },
    {
     "data": {
      "application/vnd.jupyter.widget-view+json": {
       "model_id": "802265db4a034d07bdc3773583f4312e",
       "version_major": 2,
       "version_minor": 0
      },
      "text/plain": [
       "  0%|          | 0/3087 [00:00<?, ?it/s]"
      ]
     },
     "metadata": {},
     "output_type": "display_data"
    },
    {
     "data": {
      "application/vnd.jupyter.widget-view+json": {
       "model_id": "02a616399e53410f8fb162afa0b7010b",
       "version_major": 2,
       "version_minor": 0
      },
      "text/plain": [
       "  0%|          | 0/3 [00:00<?, ?it/s]"
      ]
     },
     "metadata": {},
     "output_type": "display_data"
    },
    {
     "name": "stdout",
     "output_type": "stream",
     "text": [
      "WARNING: adata.X seems to be already log-transformed.\n"
     ]
    },
    {
     "name": "stderr",
     "output_type": "stream",
     "text": [
      "  0%|          | 0/1 [00:00<?, ?it/s]"
     ]
    },
    {
     "name": "stdout",
     "output_type": "stream",
     "text": [
      "******************** ['SOX2', 'POU5F1', 'KLF4', 'MYC']\n"
     ]
    },
    {
     "name": "stderr",
     "output_type": "stream",
     "text": [
      "... storing 'batch' as categorical\n",
      "100%|██████████| 1/1 [00:55<00:00, 55.62s/it]\n"
     ]
    },
    {
     "name": "stdout",
     "output_type": "stream",
     "text": [
      "==================== ADM ====================\n",
      "adata.shape is:  (968, 4880)\n",
      "Loading prebuilt promoter base-GRN. Version: hg19_gimmemotifsv5_fpr2\n",
      "base_GRN.shape:  (37003, 1096)\n",
      "Cell number is :968\n",
      "Metadata columns : ['CELL', 'Patient', 'Type', 'Cell_type', 'celltype0', 'celltype1', 'celltype2', 'celltype3', 'Patient2', 'nCount_RNA', 'nFeature_RNA', 'Project', 'orig.ident', 'Stage', 'Grade', 'Gender', 'Age', 'Percent_mito', 'Percent_ribo', 'Percent_hemo', 'percent.mt', 'predicted.id', 'prediction.score.Fibroblast.cell', 'prediction.score.Stellate.cell', 'prediction.score.Macrophage.cell', 'prediction.score.Endothelial.cell', 'prediction.score.T.cell', 'prediction.score.B.cell', 'prediction.score.Ductal.cell.type.2', 'prediction.score.Endocrine.cell', 'prediction.score.Ductal.cell.type.1', 'prediction.score.Acinar.cell', 'prediction.score.max', 'classical_score1', 'basal_score1', 'classical_score21', 'basal_score21', 'endocrine_score_1', 'immune_score_1', 'exocrine_score_1', 'activated_stroma_score_1', 'histone_score_1', 'normal_stroma_score_1', 'olfactory_score_1', 'na_score_1', 'celltype', 'n_genes', 'n_genes_by_counts', 'total_counts', 'total_counts_mt', 'pct_counts_mt', 'n_counts_all', 'celltype_v2']\n",
      "Dimensional reduction:  ['X_pca', 'X_umap']\n",
      "4880 genes were found in the adata. Note that Celloracle is intended to use around 1000-3000 genes, so the behavior with this number of genes may differ from what is expected.\n",
      "WARNING: adata.X seems to be already log-transformed.\n",
      "121\n",
      "cell number is :968\n",
      "Auto-selected k is :24\n"
     ]
    },
    {
     "data": {
      "application/vnd.jupyter.widget-view+json": {
       "model_id": "ee399f87854f4f02aafe524161191db1",
       "version_major": 2,
       "version_minor": 0
      },
      "text/plain": [
       "  0%|          | 0/3 [00:00<?, ?it/s]"
      ]
     },
     "metadata": {},
     "output_type": "display_data"
    },
    {
     "name": "stdout",
     "output_type": "stream",
     "text": [
      "Inferring GRN for Acinar...\n"
     ]
    },
    {
     "data": {
      "application/vnd.jupyter.widget-view+json": {
       "model_id": "616df96481144998a3d32a2b7aa01cf4",
       "version_major": 2,
       "version_minor": 0
      },
      "text/plain": [
       "  0%|          | 0/4380 [00:00<?, ?it/s]"
      ]
     },
     "metadata": {},
     "output_type": "display_data"
    },
    {
     "name": "stdout",
     "output_type": "stream",
     "text": [
      "Inferring GRN for Ductal...\n"
     ]
    },
    {
     "data": {
      "application/vnd.jupyter.widget-view+json": {
       "model_id": "7183e9cad9cc445d925056423b106d4d",
       "version_major": 2,
       "version_minor": 0
      },
      "text/plain": [
       "  0%|          | 0/4380 [00:00<?, ?it/s]"
      ]
     },
     "metadata": {},
     "output_type": "display_data"
    },
    {
     "name": "stdout",
     "output_type": "stream",
     "text": [
      "Inferring GRN for Stellate...\n"
     ]
    },
    {
     "data": {
      "application/vnd.jupyter.widget-view+json": {
       "model_id": "d0a2beea809c4879b1d913e423e9c524",
       "version_major": 2,
       "version_minor": 0
      },
      "text/plain": [
       "  0%|          | 0/4380 [00:00<?, ?it/s]"
      ]
     },
     "metadata": {},
     "output_type": "display_data"
    },
    {
     "data": {
      "application/vnd.jupyter.widget-view+json": {
       "model_id": "bfafda894fee44f4957563441f045a7d",
       "version_major": 2,
       "version_minor": 0
      },
      "text/plain": [
       "  0%|          | 0/3 [00:00<?, ?it/s]"
      ]
     },
     "metadata": {},
     "output_type": "display_data"
    },
    {
     "name": "stdout",
     "output_type": "stream",
     "text": [
      "4880 genes were found in the adata. Note that Celloracle is intended to use around 1000-3000 genes, so the behavior with this number of genes may differ from what is expected.\n",
      "WARNING: adata.X seems to be already log-transformed.\n"
     ]
    },
    {
     "name": "stderr",
     "output_type": "stream",
     "text": [
      "  0%|          | 0/1 [00:00<?, ?it/s]"
     ]
    },
    {
     "name": "stdout",
     "output_type": "stream",
     "text": [
      "******************** PTF1A\n"
     ]
    },
    {
     "name": "stderr",
     "output_type": "stream",
     "text": [
      "... storing 'batch' as categorical\n",
      "100%|██████████| 1/1 [00:08<00:00,  8.43s/it]\n"
     ]
    }
   ],
   "source": [
    "celltype_col = 'celltype_v2'\n",
    "\n",
    "for dataset in datasets[:]:\n",
    "    # dataset = 'OSKM'\n",
    "    # dataset = 'blood'\n",
    "    print('='*20, dataset, '='*20)\n",
    "    save_dir = '/nfs/public/lichen/results/single_cell_perturbation/perturbation_benchmark/real_case/data'\n",
    "    adata_rna = sc.read(os.path.join(save_dir, dataset, 'adata_ctrl_v2.h5ad'))\n",
    "    if not isinstance(adata_rna.X, np.ndarray):\n",
    "        adata_rna.X = adata_rna.X.toarray()\n",
    "    adata = adata_rna.copy()\n",
    "\n",
    "    n_cells_downsample = 10000\n",
    "    threshold_number = 10000\n",
    "\n",
    "    ##########################################################\n",
    "\n",
    "    # - get control adata\n",
    "    print(f'adata.shape is: ',adata.shape)\n",
    "\n",
    "    # -- get the baseGRN\n",
    "    # Load TF info which was made from mouse cell atlas dataset.\n",
    "    base_GRN = co.data.load_human_promoter_base_GRN()\n",
    "    print('base_GRN.shape: ', base_GRN.shape)\n",
    "\n",
    "    tmp_dir = f'/nfs/public/lichen/results/single_cell_perturbation/perturbation_benchmark_202410/real_case/result/{dataset}'\n",
    "    save_prefix = f'CellOracle' # use result of K562 to do the direct transfer\n",
    "    os.makedirs(os.path.join(tmp_dir, save_prefix), exist_ok=True)\n",
    "\n",
    "    save_dir = os.path.join(tmp_dir, save_prefix)\n",
    "    if os.path.exists(os.path.join(save_dir, \"ctrl.celloracle.oracle\")):\n",
    "        print('file exists')\n",
    "        oracle = co.load_hdf5(os.path.join(save_dir, \"ctrl.celloracle.oracle\"))\n",
    "        links = co.load_hdf5(file_path=os.path.join(save_dir, \"ctrl.celloracle.links\"))\n",
    "        \n",
    "    else:\n",
    "\n",
    "        # - start CellOracle process for the whole ctrl\n",
    "\n",
    "        # -- keep raw cont data before log transformation\n",
    "        adata.raw = adata\n",
    "        if not isinstance(adata.raw.X, np.ndarray):\n",
    "            adata.layers[\"raw_count\"] = (np.exp(adata.raw.X.toarray())-1).copy()\n",
    "        else:\n",
    "            adata.layers[\"raw_count\"] = (np.exp(adata.raw.X)-1).copy()\n",
    "            \n",
    "        # -- get umap \n",
    "        sc.pp.scale(adata)\n",
    "        # PCA\n",
    "        sc.tl.pca(adata, svd_solver='arpack', random_state=2022)\n",
    "        # UMAP\n",
    "        sc.pp.neighbors(adata, n_neighbors=4, n_pcs=20, random_state=2022)\n",
    "        sc.tl.umap(adata,random_state=2022)\n",
    "\n",
    "        # -- Random downsampling into 30K cells if the anndata object include more than 30 K cells.\n",
    "        if adata.shape[0] > n_cells_downsample:\n",
    "            # Let's dowmsample into 30K cells\n",
    "            sc.pp.subsample(adata, n_obs=n_cells_downsample, random_state=123)\n",
    "        print(f\"Cell number is :{adata.shape[0]}\")\n",
    "\n",
    "        # -- Instantiate Oracle object\n",
    "        oracle = co.Oracle()\n",
    "\n",
    "        # -- Check data in anndata\n",
    "        print(\"Metadata columns :\", list(adata.obs.columns))\n",
    "        print(\"Dimensional reduction: \", list(adata.obsm.keys()))\n",
    "\n",
    "        # -- In this notebook, we use the unscaled mRNA count for the nput of Oracle object.\n",
    "        adata.X = adata.layers[\"raw_count\"].copy()\n",
    "\n",
    "        # -- Instantiate Oracle object.\n",
    "        oracle.import_anndata_as_raw_count(adata=adata,\n",
    "                                        cluster_column_name=celltype_col,\n",
    "                                        embedding_name=\"X_umap\")\n",
    "\n",
    "        # -- You can load TF info dataframe with the following code.\n",
    "        oracle.import_TF_data(TF_info_matrix=base_GRN)\n",
    "\n",
    "        # -- knn imputation, this step is needed for the whole ctrl\n",
    "        # Perform PCA\n",
    "        oracle.perform_PCA()\n",
    "\n",
    "        # Select important PCs\n",
    "        plt.plot(np.cumsum(oracle.pca.explained_variance_ratio_)[:100])\n",
    "        n_comps = np.where(np.diff(np.diff(np.cumsum(oracle.pca.explained_variance_ratio_))>0.002))[0][0]\n",
    "        plt.axvline(n_comps, c=\"k\")\n",
    "        plt.show()\n",
    "        print(n_comps)\n",
    "        n_comps = min(n_comps, 50)\n",
    "\n",
    "        n_cell = oracle.adata.shape[0]\n",
    "        print(f\"cell number is :{n_cell}\")\n",
    "\n",
    "        k = int(0.025*n_cell)\n",
    "        print(f\"Auto-selected k is :{k}\")\n",
    "\n",
    "        oracle.knn_imputation(n_pca_dims=n_comps, k=k, balanced=True, b_sight=k*8,\n",
    "                            b_maxl=k*4, n_jobs=4)\n",
    "\n",
    "        # model_prefix = ''\n",
    "        os.makedirs(save_dir, exist_ok=True)\n",
    "        # -- save the oracle\n",
    "        oracle.to_hdf5(os.path.join(save_dir, \"ctrl.celloracle.oracle\"))\n",
    "\n",
    "        # -- get the links\n",
    "        # Calculate GRN for each population in \"louvain_annot\" clustering unit.\n",
    "        # This step may take some time.(~30 minutes)\n",
    "        links = oracle.get_links(cluster_name_for_GRN_unit=celltype_col, alpha=10,\n",
    "                                verbose_level=10)\n",
    "\n",
    "        # -- Save Links object.\n",
    "        links.to_hdf5(file_path=os.path.join(save_dir, \"ctrl.celloracle.links\"))\n",
    "\n",
    "\n",
    "    # -- filter and get the coef_mtx\n",
    "    links.filter_links(threshold_number=threshold_number,\n",
    "                        p=0.001,\n",
    "                        weight='coef_abs')\n",
    "    oracle.get_cluster_specific_TFdict_from_Links(links_object=links)\n",
    "    oracle.fit_GRN_for_simulation(alpha=10,\n",
    "                                use_cluster_specific_TFdict=True)\n",
    "\n",
    "    ###################################################\n",
    "    # - get all the TFs in the base_GRN\n",
    "    TFdict = import_TF_data(TF_info_matrix=base_GRN)\n",
    "    tf_target_dict = {}\n",
    "    for target, gene_set in TFdict.items():\n",
    "        for tf in gene_set:\n",
    "            if tf not in tf_target_dict:\n",
    "                tf_target_dict[tf] = []\n",
    "                tf_target_dict[tf].append(target)\n",
    "            else:\n",
    "                tf_target_dict[tf].append(target)\n",
    "    total_tf_list = list(tf_target_dict.keys())\n",
    "\n",
    "\n",
    "    ###########################################\n",
    "    celltype = dataset_celltype_dict[dataset]\n",
    "\n",
    "    # - get the tf_GRN_dict, to check whether pert have regulatory relations\n",
    "    gene_GRN_mtx = oracle.coef_matrix_per_cluster[celltype].copy()\n",
    "    tf_GRN_mtx = gene_GRN_mtx[~(gene_GRN_mtx == 0).all(axis=1)]\n",
    "    # - get TF-target pair and the regulatory values\n",
    "    tf_GRN_dict = {} # the tf to targets\n",
    "    for i in range(len(tf_GRN_mtx)):\n",
    "        tmp = tf_GRN_mtx.iloc[i,:]\n",
    "        tmp = tmp[tmp!=0]\n",
    "\n",
    "        tf_GRN_dict[tf_GRN_mtx.index[i]] = {}\n",
    "        for j in range(len(tmp)):\n",
    "            tf_GRN_dict[tf_GRN_mtx.index[i]][tmp.index[j]] = tmp.values[j]\n",
    "\n",
    "    ###########################################        \n",
    "    # - get oracle_ctrl\n",
    "\n",
    "    # adata_rna.obs['celltype'] = cell_line_bulk\n",
    "    adata_ctrl = adata_rna.copy()\n",
    "    # keep raw cont data before log transformation\n",
    "    adata_ctrl.raw = adata_ctrl\n",
    "\n",
    "    # the result will be recovered in normalized_count\n",
    "    if not isinstance(adata_ctrl.raw.X, np.ndarray):\n",
    "        adata_ctrl.layers[\"raw_count\"] = (np.exp(adata_ctrl.raw.X.toarray())-1).copy()\n",
    "    else:\n",
    "        adata_ctrl.layers[\"raw_count\"] = (np.exp(adata_ctrl.raw.X)-1).copy()\n",
    "        \n",
    "    sc.pp.scale(adata_ctrl)\n",
    "    # PCA\n",
    "    sc.tl.pca(adata_ctrl, svd_solver='arpack', random_state=2022)\n",
    "\n",
    "    # Diffusion map\n",
    "    sc.pp.neighbors(adata_ctrl, n_neighbors=4, n_pcs=20, random_state=2022)\n",
    "    sc.tl.umap(adata_ctrl,random_state=2022)\n",
    "\n",
    "    # Instantiate Oracle object\n",
    "    oracle_ctrl = co.Oracle()\n",
    "\n",
    "    # In this notebook, we use the unscaled mRNA count for the nput of Oracle object.\n",
    "    adata_ctrl.X = adata_ctrl.layers[\"raw_count\"].copy()\n",
    "\n",
    "    # Instantiate Oracle object.\n",
    "    oracle_ctrl.import_anndata_as_raw_count(adata=adata_ctrl,\n",
    "                                    cluster_column_name=celltype_col,\n",
    "                                    embedding_name=\"X_umap\")\n",
    "\n",
    "    # You can load TF info dataframe with the following code.\n",
    "    oracle_ctrl.import_TF_data(TF_info_matrix=base_GRN)\n",
    "\n",
    "    # get the imputed_count, here we dont do the impute to get the prediction\n",
    "    oracle_ctrl.adata.layers[\"imputed_count\"] = oracle_ctrl.adata.layers[\"normalized_count\"].copy()\n",
    "\n",
    "    # get the coef from the whole ctrl\n",
    "    oracle_ctrl.coef_matrix_per_cluster = oracle.coef_matrix_per_cluster\n",
    "\n",
    "    pert_gene_rank_dict = {} \n",
    "    for pert in tqdm(dataset_pert_dict[dataset]):\n",
    "        # pert = ['SOX2','POU5F1','KLF4','MYC']\n",
    "        print('*'*20, pert)\n",
    "        if isinstance(pert, str):\n",
    "            pert_combo = [pert]\n",
    "        else:\n",
    "            pert_combo = pert\n",
    "        # - this is for crispra\n",
    "        gois = pert_combo\n",
    "        goi_dict = {}\n",
    "\n",
    "        pert_prefix = '_'.join(pert_combo)\n",
    "\n",
    "        if dataset_dire_dict[dataset] == 'up':\n",
    "            # - if pert is up\n",
    "            for goi in gois:\n",
    "                # -- if original value is zero\n",
    "                if np.mean(adata_rna[:,goi].X.toarray())==0:\n",
    "                    print(f'{goi} ctrl expression is 0')\n",
    "                    continue\n",
    "                # -- if the TF has no targets\n",
    "                if goi not in list(tf_GRN_dict.keys()):\n",
    "                    print(f'{goi} is not in the tf_GRN_dict, no targets')\n",
    "                    continue\n",
    "                goi_dict[goi] = np.mean(adata_rna[adata.obs[celltype_col]==celltype][:,goi].X.toarray())+1\n",
    "        else:\n",
    "            # - if pert is down\n",
    "            for goi in gois:\n",
    "                # -- if original value is zero\n",
    "                if np.mean(adata_rna[:,goi].X.toarray())==0:\n",
    "                    print(f'{goi} ctrl expression is 0')\n",
    "                    continue\n",
    "                # -- if the TF has no targets\n",
    "                if goi not in list(tf_GRN_dict.keys()):\n",
    "                    print(f'{goi} is not in the tf_GRN_dict, no targets')\n",
    "                    continue\n",
    "                goi_dict[goi] = 0\n",
    "\n",
    "\n",
    "        if len(goi_dict) == 0:\n",
    "            print(f'{pert_prefix} is filtered')\n",
    "            continue\n",
    "\n",
    "\n",
    "        # Enter perturbation conditions to simulate signal propagation after the perturbation.\n",
    "        oracle_ctrl.simulate_shift(perturb_condition=goi_dict,\n",
    "                            n_propagation=3)\n",
    "        # - get the prediction; delta_X = simulated_count - imputed_count\n",
    "        delta_X, simulated_count = oracle_ctrl.adata.layers[\"delta_X\"], oracle_ctrl.adata.layers[\"simulated_count\"]\n",
    "\n",
    "\n",
    "        # - create adata_pert\n",
    "        adata_pert = adata_rna.copy()\n",
    "        adata_pert.X = simulated_count\n",
    "        adata_pert.X[adata_pert.X < 0] = 0\n",
    "        adata_pert.obs_names = [i+f'_{pert_prefix}' for i in adata_pert.obs_names]\n",
    "\n",
    "        # - adata_ctrl\n",
    "        adata_ctrl = adata_rna.copy()\n",
    "\n",
    "        adata_ctrl.obs['batch'] = 'ctrl'\n",
    "        adata_pert.obs['batch'] = 'pert'\n",
    "\n",
    "        adata_concat = ad.concat([adata_ctrl, adata_pert])\n",
    "\n",
    "        tmp_dir = f'/nfs/public/lichen/results/single_cell_perturbation/perturbation_benchmark_202410/real_case/result/{dataset}'\n",
    "        save_prefix = f'CellOracle/{pert_prefix}' # use result of K562 to do the direct transfer\n",
    "        os.makedirs(os.path.join(tmp_dir, save_prefix), exist_ok=True)\n",
    "        adata_pert.write(os.path.join(tmp_dir, save_prefix, 'adata_pert.h5ad'))\n",
    "\n",
    "    #     break\n",
    "    # break\n"
   ]
  },
  {
   "cell_type": "markdown",
   "metadata": {},
   "source": [
    "# debug"
   ]
  },
  {
   "cell_type": "code",
   "execution_count": 6,
   "metadata": {},
   "outputs": [
    {
     "data": {
      "text/plain": [
       "array([[0.69125253, 0.        , 0.        , ..., 0.69125253, 0.69125253,\n",
       "        0.        ],\n",
       "       [1.26249027, 0.        , 0.        , ..., 0.8185041 , 1.26249027,\n",
       "        0.        ],\n",
       "       [0.        , 0.        , 0.        , ..., 0.        , 1.23931146,\n",
       "        1.04377818],\n",
       "       ...,\n",
       "       [0.        , 0.        , 0.        , ..., 0.        , 3.74183989,\n",
       "        0.        ],\n",
       "       [0.59633952, 0.        , 0.        , ..., 0.        , 2.80298233,\n",
       "        0.        ],\n",
       "       [0.        , 0.        , 0.        , ..., 0.        , 1.19598246,\n",
       "        0.        ]])"
      ]
     },
     "execution_count": 6,
     "metadata": {},
     "output_type": "execute_result"
    }
   ],
   "source": [
    "oracle_ctrl.adata.layers[\"normalized_count\"]"
   ]
  },
  {
   "cell_type": "code",
   "execution_count": 9,
   "metadata": {},
   "outputs": [
    {
     "data": {
      "text/plain": [
       "array([[0.69125253, 0.        , 0.        , ..., 0.69125253, 0.69125253,\n",
       "        0.        ],\n",
       "       [1.26249027, 0.        , 0.        , ..., 0.8185041 , 1.26249027,\n",
       "        0.        ],\n",
       "       [0.        , 0.        , 0.        , ..., 0.        , 1.23931146,\n",
       "        1.04377818],\n",
       "       ...,\n",
       "       [0.        , 0.        , 0.        , ..., 0.        , 3.74183989,\n",
       "        0.        ],\n",
       "       [0.59633952, 0.        , 0.        , ..., 0.        , 2.80298233,\n",
       "        0.        ],\n",
       "       [0.        , 0.        , 0.        , ..., 0.        , 1.19598246,\n",
       "        0.        ]])"
      ]
     },
     "execution_count": 9,
     "metadata": {},
     "output_type": "execute_result"
    }
   ],
   "source": [
    "adata_rna.X"
   ]
  },
  {
   "cell_type": "code",
   "execution_count": 8,
   "metadata": {},
   "outputs": [
    {
     "data": {
      "text/plain": [
       "array([[ 0.99621429,  0.        ,  0.        , ...,  0.99621429,\n",
       "         0.99621429,  0.        ],\n",
       "       [ 2.53421169,  0.        ,  0.        , ...,  1.26710592,\n",
       "         2.53421169,  0.        ],\n",
       "       [ 0.        ,  0.        ,  0.        , ...,  0.        ,\n",
       "         2.45323494,  1.83992653],\n",
       "       ...,\n",
       "       [ 0.        ,  0.        ,  0.        , ...,  0.        ,\n",
       "        41.17551695,  0.        ],\n",
       "       [ 0.81546117,  0.        ,  0.        , ...,  0.        ,\n",
       "        15.49376334,  0.        ],\n",
       "       [ 0.        ,  0.        ,  0.        , ...,  0.        ,\n",
       "         2.30680497,  0.        ]])"
      ]
     },
     "execution_count": 8,
     "metadata": {},
     "output_type": "execute_result"
    }
   ],
   "source": [
    "(np.exp(adata_rna.X)-1)"
   ]
  },
  {
   "cell_type": "code",
   "execution_count": null,
   "metadata": {},
   "outputs": [],
   "source": []
  },
  {
   "cell_type": "code",
   "execution_count": null,
   "metadata": {},
   "outputs": [],
   "source": []
  }
 ],
 "metadata": {
  "kernelspec": {
   "display_name": "cell_rank",
   "language": "python",
   "name": "python3"
  },
  "language_info": {
   "codemirror_mode": {
    "name": "ipython",
    "version": 3
   },
   "file_extension": ".py",
   "mimetype": "text/x-python",
   "name": "python",
   "nbconvert_exporter": "python",
   "pygments_lexer": "ipython3",
   "version": "3.10.14"
  }
 },
 "nbformat": 4,
 "nbformat_minor": 2
}
