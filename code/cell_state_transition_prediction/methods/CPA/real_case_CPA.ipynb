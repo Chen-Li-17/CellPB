{
 "cells": [
  {
   "cell_type": "code",
   "execution_count": null,
   "metadata": {},
   "outputs": [],
   "source": []
  },
  {
   "cell_type": "markdown",
   "metadata": {},
   "source": [
    "# import"
   ]
  },
  {
   "cell_type": "code",
   "execution_count": 2,
   "metadata": {},
   "outputs": [],
   "source": [
    "############################### import\n",
    "\n",
    "import sys\n",
    "import json\n",
    "from anndata import AnnData\n",
    "import cpa\n",
    "import scanpy as sc\n",
    "import importlib\n",
    "import numpy as np\n",
    "from tqdm import tqdm\n",
    "import pickle\n",
    "import os\n",
    "import shutil\n",
    "import torch\n",
    "import pandas as pd\n",
    "from scipy.spatial.distance import cdist\n",
    "\n",
    "sys.path.append(\"/data1/lichen/code/single_cell_perturbation/scPerturb/Byte_Pert_Data/\")\n",
    "import v1\n",
    "from v1.utils import *\n",
    "from v1.dataloader import *\n",
    "\n",
    "import argparse\n",
    "\n",
    "# importlib.reload(v1)\n",
    "# importlib.reload(v1.utils)\n",
    "# importlib.reload(v1.dataloader)"
   ]
  },
  {
   "cell_type": "markdown",
   "metadata": {},
   "source": [
    "# function"
   ]
  },
  {
   "cell_type": "code",
   "execution_count": 44,
   "metadata": {},
   "outputs": [],
   "source": [
    "############################### function\n",
    "\n",
    "def cpa_single_pert(pert, model_mode='whole'):\n",
    "    \n",
    "    cell_type = pert_data.filter_perturbation_list[0].split(' | ')[1]\n",
    "    # - get adata_pert and adata_ctrl\n",
    "    adata_pert = adata_split[adata_split.obs['perturbation_group']==pert+' | '+cell_type].copy()\n",
    "    adata_ctrl = adata_split[list(adata_pert.obs['control_barcode'])].copy()\n",
    "\n",
    "    adata_pert = adata_pert[:, common_var]\n",
    "    adata_ctrl = adata_ctrl[:, common_var]\n",
    "\n",
    "\n",
    "    # - get adata_rna_common\n",
    "    adata_rna_common = adata_rna[:, common_var]\n",
    "\n",
    "    # - generate adata_train to input to scGen model\n",
    "    np_list, obs_list, pert_list, celltype_list = [], [], [], []\n",
    "    pert_list_2 = []\n",
    "    adata_list = [adata_pert, adata_rna_common, adata_ctrl, adata_rna_common]\n",
    "    for j, adata_ in enumerate(adata_list):\n",
    "        if j in [0, 1]:\n",
    "            pert_list.extend(['stimulated']*len(adata_))\n",
    "        else:\n",
    "            pert_list.extend(['ctrl']*len(adata_))\n",
    "\n",
    "        if j in [0, 2]:\n",
    "            celltype_list.extend([cell_type]*len(adata_))\n",
    "        else:\n",
    "            celltype_list.extend([dataset]*len(adata_))\n",
    "        obs_list.extend([obs+f'_{j}' for obs in adata_.obs_names])\n",
    "        \n",
    "        if not isinstance(adata_.X, np.ndarray):\n",
    "            np_list.append(adata_.X.toarray())\n",
    "        else:\n",
    "            np_list.append(adata_.X)\n",
    "\n",
    "    adata_train = AnnData(X = np.vstack(np_list))\n",
    "    adata_train.obs_names = obs_list\n",
    "    adata_train.var_names = adata_pert.var_names\n",
    "\n",
    "    adata_train.obs['condition'] = pert_list\n",
    "    # adata_train.obs['condition_2'] = pert_list_2\n",
    "    adata_train.obs['cell_type'] = celltype_list\n",
    "\n",
    "    # - transform the adata_train.X to count\n",
    "    adata_train.obs['cov_cond'] = adata_train.obs['cell_type'] + '_' + adata_train.obs['condition']\n",
    "    adata_train.X = np.exp(adata_train.X)-1\n",
    "    \n",
    "    if model_prefix == 'CPA_v1':\n",
    "        # - add norm\n",
    "        sc.pp.normalize_per_cell(adata_train, key_n_counts='n_counts_all')\n",
    "\n",
    "    # - initial model\n",
    "    cpa.CPA.setup_anndata(adata_train, \n",
    "                        perturbation_key='condition',\n",
    "                        control_group='ctrl',\n",
    "                        #   dosage_key='dose',\n",
    "                        categorical_covariate_keys=['cell_type'],\n",
    "                        is_count_data=True,\n",
    "                        #   deg_uns_key='rank_genes_groups_cov',\n",
    "                        deg_uns_cat_key='cov_cond',\n",
    "                        max_comb_len=1,\n",
    "                        )\n",
    "\n",
    "    # - set the train and validation for cpa\n",
    "    # -- get total obs_names of the pert\n",
    "    adata_train_new = adata_train[~((adata_train.obs[\"cell_type\"] == dataset) &\n",
    "                        (adata_train.obs[\"condition\"] == \"stimulated\"))].copy()\n",
    "    # obs_df_split = adata_train_new.obs\n",
    "    obs_df_sub_idx = np.array(adata_train_new.obs.index)\n",
    "\n",
    "    np.random.seed(2024)\n",
    "    np.random.shuffle(obs_df_sub_idx)\n",
    "\n",
    "    # -- data split\n",
    "    split_point_1 = int(len(obs_df_sub_idx) * 0.9)\n",
    "    split_point_2 = int(len(obs_df_sub_idx) * (0.9+0.1))\n",
    "    train = obs_df_sub_idx[:split_point_1]\n",
    "    valid = obs_df_sub_idx[split_point_1:split_point_2]\n",
    "\n",
    "\n",
    "    adata_train.obs['split_key'] = 'ood'\n",
    "\n",
    "    # -- set the test row\n",
    "    adata_train.obs.loc[train,'split_key'] = 'train'\n",
    "    adata_train.obs.loc[valid,'split_key'] = 'valid'\n",
    "\n",
    "    # - initial the model and training   \n",
    "    model = cpa.CPA(adata=adata_train, \n",
    "                    split_key='split_key',\n",
    "                    train_split='train',\n",
    "                    valid_split='valid',\n",
    "                    test_split='ood',\n",
    "                    **model_params,\n",
    "                )\n",
    "\n",
    "    # if cell_line_bulk == 'PC3' and adata_train.shape[0] == 726:\n",
    "    #     batch_size = 512\n",
    "    # else:\n",
    "    #     batch_size = 500\n",
    "    batch_size = 500\n",
    "    model.train(max_epochs=2000,\n",
    "                use_gpu=True, \n",
    "                batch_size=batch_size,\n",
    "                plan_kwargs=trainer_params,\n",
    "                early_stopping_patience=5,\n",
    "                check_val_every_n_epoch=5,\n",
    "                # save_path='../../datasets/',\n",
    "                progress_bar_refresh_rate = 0\n",
    "            )\n",
    "\n",
    "    # - predict result\n",
    "    model.predict(adata_train, batch_size=2048)\n",
    "    \n",
    "    if model_prefix == 'CPA_v3':\n",
    "        # - get the pred data\n",
    "        cat = dataset + '_' + 'stimulated'\n",
    "        cat_adata = adata_train[adata_train.obs['cov_cond'] == cat].copy()\n",
    "        x_pred_sti = cat_adata.obsm['CPA_pred']\n",
    "        x_pred_sti = np.log1p(x_pred_sti)\n",
    "        \n",
    "        # - get the pred data\n",
    "        cat = dataset + '_' + 'ctrl'\n",
    "        cat_adata = adata_train[adata_train.obs['cov_cond'] == cat].copy()\n",
    "        x_pred_ctrl = cat_adata.obsm['CPA_pred']\n",
    "        x_pred_ctrl = np.log1p(x_pred_ctrl)\n",
    "        \n",
    "        x_pred = x_pred_sti - x_pred_ctrl\n",
    "        \n",
    "        if model_mode == 'subset':\n",
    "            # - get pert_gene_rank_dict\n",
    "            adata_ctrl = adata_rna_common.copy()\n",
    "            adata_pert = adata_ctrl.copy()\n",
    "            adata_pert.X = x_pred\n",
    "            \n",
    "        elif model_mode == 'whole':\n",
    "            # - get pert_gene_rank_dict\n",
    "            adata_ctrl = adata_rna.copy()\n",
    "            adata_pert = adata_ctrl.copy()\n",
    "            adata_pert.X = x_pred[:, common_idx]\n",
    "\n",
    "        elif model_mode == 'zero_pad':\n",
    "            adata_ctrl = adata_rna.copy()\n",
    "            adata_pert = adata_ctrl.copy()\n",
    "            adata_pert.X = np.zeros(adata_pert.X.shape)\n",
    "            for i, gene in enumerate(adata_pert.var_names):\n",
    "                if gene in common_var:\n",
    "                    adata_pert.X[:, i] = x_pred[:, list(common_var).index(gene)]\n",
    "\n",
    "        \n",
    "        else:\n",
    "            raise ValueError()\n",
    "        \n",
    "        \n",
    "        return adata_pert\n",
    "        \n",
    "    else:\n",
    "\n",
    "        # - get the pred data\n",
    "        cat = cell_line_bulk + '_' + 'stimulated'\n",
    "        cat_adata = adata_train[adata_train.obs['cov_cond'] == cat].copy()\n",
    "        x_pred = cat_adata.obsm['CPA_pred']\n",
    "        x_pred = np.log1p(x_pred)\n",
    "    \n",
    "    if model_prefix == 'CPA_v2': # normalize output\n",
    "        x_pred = x_pred / x_pred.mean(1).reshape(-1,1) * adata_rna_common.X.mean(1).reshape(-1, 1)\n",
    "\n",
    "    if model_mode == 'subset':\n",
    "        # - get pert_gene_rank_dict\n",
    "        adata_ctrl = adata_rna_common.copy()\n",
    "        adata_pert = adata_ctrl.copy()\n",
    "        adata_pert.X = x_pred\n",
    "        \n",
    "    elif model_mode == 'whole':\n",
    "        # - get pert_gene_rank_dict\n",
    "        adata_ctrl = adata_rna.copy()\n",
    "        adata_pert = adata_ctrl.copy()\n",
    "        adata_pert.X = x_pred[:, common_idx]\n",
    "    else:\n",
    "        raise ValueError()\n",
    "        \n",
    "\n",
    "    return adata_pert"
   ]
  },
  {
   "cell_type": "markdown",
   "metadata": {},
   "source": [
    "# init"
   ]
  },
  {
   "cell_type": "code",
   "execution_count": 4,
   "metadata": {},
   "outputs": [],
   "source": [
    "############################### init\n",
    "# - model initial\n",
    "model_params = {\n",
    "    \"n_latent\": 64,\n",
    "    \"recon_loss\": \"nb\",\n",
    "    \"doser_type\": \"linear\",\n",
    "    \"n_hidden_encoder\": 128,\n",
    "    \"n_layers_encoder\": 2,\n",
    "    \"n_hidden_decoder\": 512,\n",
    "    \"n_layers_decoder\": 2,\n",
    "    \"use_batch_norm_encoder\": True,\n",
    "    \"use_layer_norm_encoder\": False,\n",
    "    \"use_batch_norm_decoder\": False,\n",
    "    \"use_layer_norm_decoder\": True,\n",
    "    \"dropout_rate_encoder\": 0.0,\n",
    "    \"dropout_rate_decoder\": 0.1,\n",
    "    \"variational\": False,\n",
    "    \"seed\": 6977,\n",
    "}\n",
    "\n",
    "trainer_params = {\n",
    "    \"n_epochs_kl_warmup\": None,\n",
    "    \"n_epochs_pretrain_ae\": 30,\n",
    "    \"n_epochs_adv_warmup\": 50,\n",
    "    \"n_epochs_mixup_warmup\": 0,\n",
    "    \"mixup_alpha\": 0.0,\n",
    "    \"adv_steps\": None,\n",
    "    \"n_hidden_adv\": 64,\n",
    "    \"n_layers_adv\": 3,\n",
    "    \"use_batch_norm_adv\": True,\n",
    "    \"use_layer_norm_adv\": False,\n",
    "    \"dropout_rate_adv\": 0.3,\n",
    "    \"reg_adv\": 20.0,\n",
    "    \"pen_adv\": 5.0,\n",
    "    \"lr\": 0.0003,\n",
    "    \"wd\": 4e-07,\n",
    "    \"adv_lr\": 0.0003,\n",
    "    \"adv_wd\": 4e-07,\n",
    "    \"adv_loss\": \"cce\",\n",
    "    \"doser_lr\": 0.0003,\n",
    "    \"doser_wd\": 4e-07,\n",
    "    \"do_clip_grad\": True,\n",
    "    \"gradient_clip_value\": 1.0,\n",
    "    \"step_size_lr\": 10,\n",
    "}\n",
    "\n",
    "# - get cell line name\n",
    "common_cell_line = \\\n",
    "{   'A549': 'A549',\n",
    "    'HEPG2': 'HepG2',\n",
    "    'HT29': 'HT29',\n",
    "    'MCF7': 'MCF7',\n",
    "    # 'SKBR3': 'SK-BR-3',\n",
    "    'SW480': 'SW480',\n",
    "    'PC3': 'PC3',\n",
    "    'A375': 'A375',\n",
    "} # L1000 cell line : single-cell cell line\n",
    "\n",
    "# - read adata_L1000, this is processed data\n",
    "adata_L1000 = sc.read('/nfs/public/lichen/results/single_cell_perturbation/perturbation_benchmark/benchmark_data/L1000/GSE92742/adata_gene_pert.h5ad')\n",
    "adata_L1000\n",
    "\n",
    "model_prefix = 'CPA_v3'"
   ]
  },
  {
   "cell_type": "code",
   "execution_count": 5,
   "metadata": {},
   "outputs": [],
   "source": [
    "dataset_pert_dict = {\n",
    "    'CAR_T': ['PDCD1'], # direct_transfer只有前两个数据有\n",
    "    'blood': ['GATA1', 'SPI1'],\n",
    "    # 'OSKM': ['SOX2',\n",
    "    #      'POU5F1',\n",
    "    #      'KLF4',\n",
    "    #      'MYC'],\n",
    "    # 'ADM': ['PTF1A']\n",
    "}\n",
    "dataset_celltype_dict = {\n",
    "    'CAR_T': 'Tex', \n",
    "    'blood': 'LMPP',\n",
    "    'OSKM': 'Fibroblast-like',\n",
    "    'ADM': 'Acinar'\n",
    "}\n",
    "\n",
    "dataset_dire_dict = {\n",
    "    'CAR_T': 'down', \n",
    "    'blood': 'down',\n",
    "    'OSKM': 'up',\n",
    "    'ADM': 'down'\n",
    "}\n",
    "\n",
    "\n",
    "datasets = list(dataset_pert_dict.keys())"
   ]
  },
  {
   "cell_type": "code",
   "execution_count": 6,
   "metadata": {},
   "outputs": [],
   "source": [
    "gene_dataset_dict = {\n",
    "    'SPI1': 'AdamsonWeissman2016_GSM2406675_10X001',\n",
    "    'GATA1': 'ReplogleWeissman2022_K562_essential',\n",
    "    'PDCD1': 'ShifrutMarson2018',\n",
    "}"
   ]
  },
  {
   "cell_type": "code",
   "execution_count": 7,
   "metadata": {},
   "outputs": [],
   "source": [
    "# - init dataloader para\n",
    "data_dir = '/nfs/public/lichen/data/single_cell/perturb_data/scPerturb/raw/scPerturb_rna/statistic_20240520'\n",
    "pert_cell_filter = 100 # this is used to filter perts, cell number less than this will be filtered\n",
    "seed = 2024 # this is the random seed\n",
    "split_type = 1 # 1 for unseen perts; 0 for unseen celltypes\n",
    "split_ratio = [0.7, 0.2, 0.1] # train:test:val; val is used to choose data, test is for final validation\n",
    "var_num = 5000 # selecting hvg number\n",
    "num_de_genes = 20 # number of de genes\n",
    "bs_train = 32 # batch size of trainloader\n",
    "bs_test = 32 # batch size of testloader\n",
    "lr = 1e-4"
   ]
  },
  {
   "cell_type": "markdown",
   "metadata": {},
   "source": [
    "# main"
   ]
  },
  {
   "cell_type": "code",
   "execution_count": 49,
   "metadata": {},
   "outputs": [
    {
     "name": "stdout",
     "output_type": "stream",
     "text": [
      "==================== CAR_T ====================\n"
     ]
    },
    {
     "name": "stderr",
     "output_type": "stream",
     "text": [
      "  0%|          | 0/1 [00:00<?, ?it/s]"
     ]
    },
    {
     "name": "stdout",
     "output_type": "stream",
     "text": [
      "==================== PDCD1 ====================\n",
      "common var of direct change and single-cell data is:  750\n",
      "Warning: dosage_key is not set. Setting it to \"1.0\" for all cells\n"
     ]
    },
    {
     "name": "stderr",
     "output_type": "stream",
     "text": [
      "100%|██████████| 4148/4148 [00:00<00:00, 91608.78it/s]\n",
      "100%|██████████| 4148/4148 [00:00<00:00, 507288.69it/s]"
     ]
    },
    {
     "name": "stdout",
     "output_type": "stream",
     "text": [
      "\u001b[34mINFO    \u001b[0m Generating sequential column names                                                                        \n",
      "\u001b[34mINFO    \u001b[0m Generating sequential column names                                                                        \n"
     ]
    },
    {
     "name": "stderr",
     "output_type": "stream",
     "text": [
      "\n",
      "Global seed set to 6977\n",
      "100%|██████████| 2/2 [00:00<00:00, 646.77it/s]\n",
      "GPU available: True (cuda), used: True\n",
      "TPU available: False, using: 0 TPU cores\n",
      "IPU available: False, using: 0 IPUs\n",
      "HPU available: False, using: 0 HPUs\n",
      "You are using a CUDA device ('NVIDIA A100-PCIE-40GB') that has Tensor Cores. To properly utilize them, you should set `torch.set_float32_matmul_precision('medium' | 'high')` which will trade-off precision for performance. For more details, read https://pytorch.org/docs/stable/generated/torch.set_float32_matmul_precision.html#torch.set_float32_matmul_precision\n",
      "LOCAL_RANK: 0 - CUDA_VISIBLE_DEVICES: [0,1,2,3]\n",
      "\n",
      "Epoch 00004: cpa_metric reached. Module best state updated.\n",
      "\n",
      "Epoch 00009: cpa_metric reached. Module best state updated.\n"
     ]
    },
    {
     "name": "stdout",
     "output_type": "stream",
     "text": [
      "\n",
      "disnt_basal = 1.5749346758297766\n",
      "disnt_after = 2.0\n",
      "val_r2_mean = 0.6618771553039551\n",
      "val_r2_var = -0.46952927112579346\n"
     ]
    },
    {
     "name": "stderr",
     "output_type": "stream",
     "text": [
      "\n",
      "Epoch 00014: cpa_metric reached. Module best state updated.\n",
      "\n",
      "Epoch 00019: cpa_metric reached. Module best state updated.\n"
     ]
    },
    {
     "name": "stdout",
     "output_type": "stream",
     "text": [
      "\n",
      "disnt_basal = 1.4977304192713927\n",
      "disnt_after = 2.0\n",
      "val_r2_mean = 0.6649097601572672\n",
      "val_r2_var = -0.4202553828557332\n"
     ]
    },
    {
     "name": "stderr",
     "output_type": "stream",
     "text": [
      "\n",
      "Epoch 00024: cpa_metric reached. Module best state updated.\n",
      "\n",
      "Epoch 00029: cpa_metric reached. Module best state updated.\n"
     ]
    },
    {
     "name": "stdout",
     "output_type": "stream",
     "text": [
      "\n",
      "disnt_basal = 1.4346504331177627\n",
      "disnt_after = 2.0\n",
      "val_r2_mean = 0.6800881425539652\n",
      "val_r2_var = -0.3028413454691569\n"
     ]
    },
    {
     "name": "stderr",
     "output_type": "stream",
     "text": [
      "\n",
      "Epoch 00034: cpa_metric reached. Module best state updated.\n",
      "\n",
      "Epoch 00039: cpa_metric reached. Module best state updated.\n"
     ]
    },
    {
     "name": "stdout",
     "output_type": "stream",
     "text": [
      "\n",
      "disnt_basal = 1.2482252003695335\n",
      "disnt_after = 2.0\n",
      "val_r2_mean = 0.7104568282763163\n",
      "val_r2_var = -0.1482564608256022\n",
      "\n",
      "disnt_basal = 1.5883297868054402\n",
      "disnt_after = 2.0\n",
      "val_r2_mean = 0.771066149075826\n",
      "val_r2_var = 0.048276940981547035\n"
     ]
    },
    {
     "name": "stderr",
     "output_type": "stream",
     "text": [
      "\n",
      "Epoch 00059: cpa_metric reached. Module best state updated.\n"
     ]
    },
    {
     "name": "stdout",
     "output_type": "stream",
     "text": [
      "\n",
      "disnt_basal = 1.327965921977321\n",
      "disnt_after = 2.0\n",
      "val_r2_mean = 0.7902522683143616\n",
      "val_r2_var = 0.16724008321762085\n"
     ]
    },
    {
     "name": "stderr",
     "output_type": "stream",
     "text": [
      "\n",
      "Epoch 00069: cpa_metric reached. Module best state updated.\n"
     ]
    },
    {
     "name": "stdout",
     "output_type": "stream",
     "text": [
      "\n",
      "disnt_basal = 1.2182651937153377\n",
      "disnt_after = 2.0\n",
      "val_r2_mean = 0.8297659357388815\n",
      "val_r2_var = 0.2861541112263997\n"
     ]
    },
    {
     "name": "stderr",
     "output_type": "stream",
     "text": [
      "\n",
      "Epoch 00079: cpa_metric reached. Module best state updated.\n"
     ]
    },
    {
     "name": "stdout",
     "output_type": "stream",
     "text": [
      "\n",
      "disnt_basal = 1.1674344678929511\n",
      "disnt_after = 2.0\n",
      "val_r2_mean = 0.8415791988372803\n",
      "val_r2_var = 0.32634154955546063\n"
     ]
    },
    {
     "name": "stderr",
     "output_type": "stream",
     "text": [
      "\n",
      "Epoch 00089: cpa_metric reached. Module best state updated.\n"
     ]
    },
    {
     "name": "stdout",
     "output_type": "stream",
     "text": [
      "\n",
      "disnt_basal = 1.1744286511176978\n",
      "disnt_after = 2.0\n",
      "val_r2_mean = 0.8594867785771688\n",
      "val_r2_var = 0.3807335098584493\n"
     ]
    },
    {
     "name": "stderr",
     "output_type": "stream",
     "text": [
      "\n",
      "Epoch 00094: cpa_metric reached. Module best state updated.\n"
     ]
    },
    {
     "name": "stdout",
     "output_type": "stream",
     "text": [
      "\n",
      "disnt_basal = 1.1052602861236802\n",
      "disnt_after = 2.0\n",
      "val_r2_mean = 0.8656089901924133\n",
      "val_r2_var = 0.41238588094711304\n",
      "\n",
      "disnt_basal = 1.0718043248120916\n",
      "disnt_after = 2.0\n",
      "val_r2_mean = 0.8649522662162781\n",
      "val_r2_var = 0.4377317229906718\n"
     ]
    },
    {
     "name": "stderr",
     "output_type": "stream",
     "text": [
      "\n",
      "Epoch 00114: cpa_metric reached. Module best state updated.\n"
     ]
    },
    {
     "name": "stdout",
     "output_type": "stream",
     "text": [
      "\n",
      "disnt_basal = 1.0469504074284761\n",
      "disnt_after = 2.0\n",
      "val_r2_mean = 0.8785508275032043\n",
      "val_r2_var = 0.45979710419972736\n"
     ]
    },
    {
     "name": "stderr",
     "output_type": "stream",
     "text": [
      "\n",
      "Epoch 00124: cpa_metric reached. Module best state updated.\n",
      "\n",
      "Epoch 00129: cpa_metric reached. Module best state updated.\n"
     ]
    },
    {
     "name": "stdout",
     "output_type": "stream",
     "text": [
      "\n",
      "disnt_basal = 1.0417310078035242\n",
      "disnt_after = 2.0\n",
      "val_r2_mean = 0.8797484238942465\n",
      "val_r2_var = 0.47189627091089886\n"
     ]
    },
    {
     "name": "stderr",
     "output_type": "stream",
     "text": [
      "\n",
      "Epoch 00139: cpa_metric reached. Module best state updated.\n"
     ]
    },
    {
     "name": "stdout",
     "output_type": "stream",
     "text": [
      "\n",
      "disnt_basal = 1.0419406304307635\n",
      "disnt_after = 2.0\n",
      "val_r2_mean = 0.8843962152798971\n",
      "val_r2_var = 0.48448437452316284\n"
     ]
    },
    {
     "name": "stderr",
     "output_type": "stream",
     "text": [
      "\n",
      "Epoch 00144: cpa_metric reached. Module best state updated.\n",
      "\n",
      "Epoch 00149: cpa_metric reached. Module best state updated.\n"
     ]
    },
    {
     "name": "stdout",
     "output_type": "stream",
     "text": [
      "\n",
      "disnt_basal = 1.0352091696656793\n",
      "disnt_after = 2.0\n",
      "val_r2_mean = 0.881819466749827\n",
      "val_r2_var = 0.4930091102917989\n",
      "\n",
      "disnt_basal = 1.0378484792147784\n",
      "disnt_after = 2.0\n",
      "val_r2_mean = 0.8811887502670288\n",
      "val_r2_var = 0.49894193808237713\n"
     ]
    },
    {
     "name": "stderr",
     "output_type": "stream",
     "text": [
      "\n",
      "Epoch 00169: cpa_metric reached. Module best state updated.\n"
     ]
    },
    {
     "name": "stdout",
     "output_type": "stream",
     "text": [
      "\n",
      "disnt_basal = 1.0319951824246372\n",
      "disnt_after = 2.0\n",
      "val_r2_mean = 0.885300079981486\n",
      "val_r2_var = 0.5251136223475138\n"
     ]
    },
    {
     "name": "stderr",
     "output_type": "stream",
     "text": [
      "\n",
      "Epoch 00174: cpa_metric reached. Module best state updated.\n"
     ]
    },
    {
     "name": "stdout",
     "output_type": "stream",
     "text": [
      "\n",
      "disnt_basal = 1.0369625292243212\n",
      "disnt_after = 2.0\n",
      "val_r2_mean = 0.888872762521108\n",
      "val_r2_var = 0.5277415911356608\n",
      "\n",
      "disnt_basal = 1.035637651983126\n",
      "disnt_after = 2.0\n",
      "val_r2_mean = 0.8887220422426859\n",
      "val_r2_var = 0.5329270561536154\n"
     ]
    },
    {
     "name": "stderr",
     "output_type": "stream",
     "text": [
      "\n",
      "Epoch 00194: cpa_metric reached. Module best state updated.\n",
      "\n",
      "Epoch 00199: cpa_metric reached. Module best state updated.\n"
     ]
    },
    {
     "name": "stdout",
     "output_type": "stream",
     "text": [
      "\n",
      "disnt_basal = 1.0304959402515255\n",
      "disnt_after = 2.0\n",
      "val_r2_mean = 0.8912355502446493\n",
      "val_r2_var = 0.5381438533465067\n"
     ]
    },
    {
     "name": "stderr",
     "output_type": "stream",
     "text": [
      "\n",
      "Epoch 00204: cpa_metric reached. Module best state updated.\n"
     ]
    },
    {
     "name": "stdout",
     "output_type": "stream",
     "text": [
      "\n",
      "disnt_basal = 1.030754611706222\n",
      "disnt_after = 2.0\n",
      "val_r2_mean = 0.8937287529309591\n",
      "val_r2_var = 0.5465837915738424\n"
     ]
    },
    {
     "name": "stderr",
     "output_type": "stream",
     "text": [
      "\n",
      "Epoch 00214: cpa_metric reached. Module best state updated.\n"
     ]
    },
    {
     "name": "stdout",
     "output_type": "stream",
     "text": [
      "\n",
      "disnt_basal = 1.0313411439437008\n",
      "disnt_after = 2.0\n",
      "val_r2_mean = 0.8932034174601237\n",
      "val_r2_var = 0.560086190700531\n",
      "\n",
      "disnt_basal = 1.031263211786393\n",
      "disnt_after = 2.0\n",
      "val_r2_mean = 0.8941017190615336\n",
      "val_r2_var = 0.5645580887794495\n"
     ]
    },
    {
     "name": "stderr",
     "output_type": "stream",
     "text": [
      "\n",
      "Epoch 00234: cpa_metric reached. Module best state updated.\n"
     ]
    },
    {
     "name": "stdout",
     "output_type": "stream",
     "text": [
      "\n",
      "disnt_basal = 1.0286424590977965\n",
      "disnt_after = 2.0\n",
      "val_r2_mean = 0.8899584213892618\n",
      "val_r2_var = 0.5775222380956014\n"
     ]
    },
    {
     "name": "stderr",
     "output_type": "stream",
     "text": [
      "\n",
      "Epoch 00244: cpa_metric reached. Module best state updated.\n"
     ]
    },
    {
     "name": "stdout",
     "output_type": "stream",
     "text": [
      "\n",
      "disnt_basal = 1.0286213298579707\n",
      "disnt_after = 2.0\n",
      "val_r2_mean = 0.8981737494468689\n",
      "val_r2_var = 0.5782150030136108\n"
     ]
    },
    {
     "name": "stderr",
     "output_type": "stream",
     "text": [
      "\n",
      "Epoch 00259: cpa_metric reached. Module best state updated.\n"
     ]
    },
    {
     "name": "stdout",
     "output_type": "stream",
     "text": [
      "\n",
      "disnt_basal = 1.0261316505943157\n",
      "disnt_after = 2.0\n",
      "val_r2_mean = 0.8979706565539042\n",
      "val_r2_var = 0.5880561073621114\n"
     ]
    },
    {
     "name": "stderr",
     "output_type": "stream",
     "text": [
      "\n",
      "Epoch 00269: cpa_metric reached. Module best state updated.\n"
     ]
    },
    {
     "name": "stdout",
     "output_type": "stream",
     "text": [
      "\n",
      "disnt_basal = 1.0275848015988154\n",
      "disnt_after = 2.0\n",
      "val_r2_mean = 0.9023659030596415\n",
      "val_r2_var = 0.5882585644721985\n"
     ]
    },
    {
     "name": "stderr",
     "output_type": "stream",
     "text": [
      "\n",
      "Epoch 00274: cpa_metric reached. Module best state updated.\n",
      "\n",
      "Epoch 00279: cpa_metric reached. Module best state updated.\n"
     ]
    },
    {
     "name": "stdout",
     "output_type": "stream",
     "text": [
      "\n",
      "disnt_basal = 1.022066428053114\n",
      "disnt_after = 2.0\n",
      "val_r2_mean = 0.9027782678604126\n",
      "val_r2_var = 0.5861150423685709\n"
     ]
    },
    {
     "name": "stderr",
     "output_type": "stream",
     "text": [
      "\n",
      "Epoch 00289: cpa_metric reached. Module best state updated.\n"
     ]
    },
    {
     "name": "stdout",
     "output_type": "stream",
     "text": [
      "\n",
      "disnt_basal = 1.0207695396846548\n",
      "disnt_after = 2.0\n",
      "val_r2_mean = 0.9020123680432638\n",
      "val_r2_var = 0.5978950659434\n",
      "\n",
      "disnt_basal = 1.0219635118229569\n",
      "disnt_after = 2.0\n",
      "val_r2_mean = 0.9010432958602905\n",
      "val_r2_var = 0.6019090612729391\n"
     ]
    },
    {
     "name": "stderr",
     "output_type": "stream",
     "text": [
      "\n",
      "Epoch 00304: cpa_metric reached. Module best state updated.\n"
     ]
    },
    {
     "name": "stdout",
     "output_type": "stream",
     "text": [
      "\n",
      "disnt_basal = 1.0206779360818339\n",
      "disnt_after = 2.0\n",
      "val_r2_mean = 0.9021538694699606\n",
      "val_r2_var = 0.6117414832115173\n"
     ]
    },
    {
     "name": "stderr",
     "output_type": "stream",
     "text": [
      "\n",
      "Epoch 00319: cpa_metric reached. Module best state updated.\n"
     ]
    },
    {
     "name": "stdout",
     "output_type": "stream",
     "text": [
      "\n",
      "disnt_basal = 1.0168564584025979\n",
      "disnt_after = 2.0\n",
      "val_r2_mean = 0.9029973745346069\n",
      "val_r2_var = 0.6175216833750407\n"
     ]
    },
    {
     "name": "stderr",
     "output_type": "stream",
     "text": [
      "\n",
      "Epoch 00324: cpa_metric reached. Module best state updated.\n",
      "\n",
      "Epoch 00329: cpa_metric reached. Module best state updated.\n"
     ]
    },
    {
     "name": "stdout",
     "output_type": "stream",
     "text": [
      "\n",
      "disnt_basal = 1.0133534736165961\n",
      "disnt_after = 2.0\n",
      "val_r2_mean = 0.907687246799469\n",
      "val_r2_var = 0.621389369169871\n"
     ]
    },
    {
     "name": "stderr",
     "output_type": "stream",
     "text": [
      "\n",
      "Epoch 00339: cpa_metric reached. Module best state updated.\n"
     ]
    },
    {
     "name": "stdout",
     "output_type": "stream",
     "text": [
      "\n",
      "disnt_basal = 1.0144801582350063\n",
      "disnt_after = 2.0\n",
      "val_r2_mean = 0.9084329803784689\n",
      "val_r2_var = 0.6277651786804199\n",
      "\n",
      "disnt_basal = 1.0169129193777113\n",
      "disnt_after = 2.0\n",
      "val_r2_mean = 0.9075831373532613\n",
      "val_r2_var = 0.6199437777201334\n"
     ]
    },
    {
     "name": "stderr",
     "output_type": "stream",
     "text": [
      "\n",
      "Epoch 00354: cpa_metric reached. Module best state updated.\n"
     ]
    },
    {
     "name": "stdout",
     "output_type": "stream",
     "text": [
      "\n",
      "disnt_basal = 1.0152847220019137\n",
      "disnt_after = 2.0\n",
      "val_r2_mean = 0.9046849211057028\n",
      "val_r2_var = 0.6364588936169943\n"
     ]
    },
    {
     "name": "stderr",
     "output_type": "stream",
     "text": [
      "\n",
      "Epoch 00364: cpa_metric reached. Module best state updated.\n",
      "\n",
      "Epoch 00369: cpa_metric reached. Module best state updated.\n"
     ]
    },
    {
     "name": "stdout",
     "output_type": "stream",
     "text": [
      "\n",
      "disnt_basal = 1.0128239525594727\n",
      "disnt_after = 2.0\n",
      "val_r2_mean = 0.9065301815668741\n",
      "val_r2_var = 0.6360171238581339\n"
     ]
    },
    {
     "name": "stderr",
     "output_type": "stream",
     "text": [
      "\n",
      "Epoch 00379: cpa_metric reached. Module best state updated.\n"
     ]
    },
    {
     "name": "stdout",
     "output_type": "stream",
     "text": [
      "\n",
      "disnt_basal = 1.0122781831943595\n",
      "disnt_after = 2.0\n",
      "val_r2_mean = 0.9099411765734354\n",
      "val_r2_var = 0.6397326985994974\n"
     ]
    },
    {
     "name": "stderr",
     "output_type": "stream",
     "text": [
      "\n",
      "Epoch 00389: cpa_metric reached. Module best state updated.\n"
     ]
    },
    {
     "name": "stdout",
     "output_type": "stream",
     "text": [
      "\n",
      "disnt_basal = 1.0096176267566097\n",
      "disnt_after = 2.0\n",
      "val_r2_mean = 0.9073919256528219\n",
      "val_r2_var = 0.645405093828837\n",
      "\n",
      "disnt_basal = 1.0139571066405573\n",
      "disnt_after = 2.0\n",
      "val_r2_mean = 0.9006768862406412\n",
      "val_r2_var = 0.6505118211110433\n"
     ]
    },
    {
     "name": "stderr",
     "output_type": "stream",
     "text": [
      "\n",
      "Epoch 00409: cpa_metric reached. Module best state updated.\n"
     ]
    },
    {
     "name": "stdout",
     "output_type": "stream",
     "text": [
      "\n",
      "disnt_basal = 1.00549554491887\n",
      "disnt_after = 2.0\n",
      "val_r2_mean = 0.9113807876904806\n",
      "val_r2_var = 0.6510932445526123\n",
      "\n",
      "disnt_basal = 1.0088301102500448\n",
      "disnt_after = 2.0\n",
      "val_r2_mean = 0.9128730098406473\n",
      "val_r2_var = 0.6594099005063375\n",
      "\n",
      "disnt_basal = 1.0082134709175747\n",
      "disnt_after = 2.0\n",
      "val_r2_mean = 0.912967840830485\n",
      "val_r2_var = 0.6562577287356058\n"
     ]
    },
    {
     "name": "stderr",
     "output_type": "stream",
     "text": [
      "\n",
      "Epoch 00434: cpa_metric reached. Module best state updated.\n"
     ]
    },
    {
     "name": "stdout",
     "output_type": "stream",
     "text": [
      "\n",
      "disnt_basal = 1.0100928653796721\n",
      "disnt_after = 2.0\n",
      "val_r2_mean = 0.9124264319737753\n",
      "val_r2_var = 0.6529348691304525\n"
     ]
    },
    {
     "name": "stderr",
     "output_type": "stream",
     "text": [
      "\n",
      "Epoch 00444: cpa_metric reached. Module best state updated.\n"
     ]
    },
    {
     "name": "stdout",
     "output_type": "stream",
     "text": [
      "\n",
      "disnt_basal = 1.005425684883802\n",
      "disnt_after = 2.0\n",
      "val_r2_mean = 0.914214034875234\n",
      "val_r2_var = 0.6644651691118876\n",
      "\n",
      "disnt_basal = 1.0081357069464616\n",
      "disnt_after = 2.0\n",
      "val_r2_mean = 0.9117849469184875\n",
      "val_r2_var = 0.6715217034022013\n",
      "\n",
      "disnt_basal = 1.0126526853509954\n",
      "disnt_after = 2.0\n",
      "val_r2_mean = 0.916390856107076\n",
      "val_r2_var = 0.6691354115804037\n"
     ]
    },
    {
     "name": "stderr",
     "output_type": "stream",
     "text": [
      "100%|██████████| 3/3 [00:00<00:00, 58.83it/s]\n",
      "100%|██████████| 1/1 [01:56<00:00, 116.20s/it]\n"
     ]
    },
    {
     "name": "stdout",
     "output_type": "stream",
     "text": [
      "==================== blood ====================\n"
     ]
    },
    {
     "name": "stderr",
     "output_type": "stream",
     "text": [
      "  0%|          | 0/2 [00:00<?, ?it/s]"
     ]
    },
    {
     "name": "stdout",
     "output_type": "stream",
     "text": [
      "==================== GATA1 ====================\n",
      "common var of direct change and single-cell data is:  494\n",
      "Warning: dosage_key is not set. Setting it to \"1.0\" for all cells\n"
     ]
    },
    {
     "name": "stderr",
     "output_type": "stream",
     "text": [
      "100%|██████████| 14362/14362 [00:00<00:00, 41898.52it/s]\n",
      "100%|██████████| 14362/14362 [00:00<00:00, 419789.92it/s]\n"
     ]
    },
    {
     "name": "stdout",
     "output_type": "stream",
     "text": [
      "\u001b[34mINFO    \u001b[0m Generating sequential column names                                                                        \n",
      "\u001b[34mINFO    \u001b[0m Generating sequential column names                                                                        \n"
     ]
    },
    {
     "name": "stderr",
     "output_type": "stream",
     "text": [
      "Global seed set to 6977\n",
      "100%|██████████| 2/2 [00:00<00:00, 170.42it/s]\n",
      "GPU available: True (cuda), used: True\n",
      "TPU available: False, using: 0 TPU cores\n",
      "IPU available: False, using: 0 IPUs\n",
      "HPU available: False, using: 0 HPUs\n",
      "You are using a CUDA device ('NVIDIA A100-PCIE-40GB') that has Tensor Cores. To properly utilize them, you should set `torch.set_float32_matmul_precision('medium' | 'high')` which will trade-off precision for performance. For more details, read https://pytorch.org/docs/stable/generated/torch.set_float32_matmul_precision.html#torch.set_float32_matmul_precision\n",
      "LOCAL_RANK: 0 - CUDA_VISIBLE_DEVICES: [0,1,2,3]\n",
      "\n",
      "Epoch 00004: cpa_metric reached. Module best state updated.\n",
      "\n",
      "Epoch 00009: cpa_metric reached. Module best state updated.\n"
     ]
    },
    {
     "name": "stdout",
     "output_type": "stream",
     "text": [
      "\n",
      "disnt_basal = 1.0694425517908046\n",
      "disnt_after = 1.274846490390486\n",
      "val_r2_mean = 0.7312578658262889\n",
      "val_r2_var = -0.6477146744728088\n"
     ]
    },
    {
     "name": "stderr",
     "output_type": "stream",
     "text": [
      "\n",
      "Epoch 00014: cpa_metric reached. Module best state updated.\n",
      "\n",
      "Epoch 00019: cpa_metric reached. Module best state updated.\n"
     ]
    },
    {
     "name": "stdout",
     "output_type": "stream",
     "text": [
      "\n",
      "disnt_basal = 1.0799994002203113\n",
      "disnt_after = 1.2645305525719057\n",
      "val_r2_mean = 0.7810930709044139\n",
      "val_r2_var = -0.37496981024742126\n"
     ]
    },
    {
     "name": "stderr",
     "output_type": "stream",
     "text": [
      "\n",
      "Epoch 00024: cpa_metric reached. Module best state updated.\n",
      "\n",
      "Epoch 00029: cpa_metric reached. Module best state updated.\n"
     ]
    },
    {
     "name": "stdout",
     "output_type": "stream",
     "text": [
      "\n",
      "disnt_basal = 1.0613946097480351\n",
      "disnt_after = 1.2605579582042317\n",
      "val_r2_mean = 0.8030420343081157\n",
      "val_r2_var = -0.15025739868481955\n"
     ]
    },
    {
     "name": "stderr",
     "output_type": "stream",
     "text": [
      "\n",
      "Epoch 00034: cpa_metric reached. Module best state updated.\n",
      "\n",
      "Epoch 00039: cpa_metric reached. Module best state updated.\n"
     ]
    },
    {
     "name": "stdout",
     "output_type": "stream",
     "text": [
      "\n",
      "disnt_basal = 1.0159836900233963\n",
      "disnt_after = 1.2585126441347103\n",
      "val_r2_mean = 0.7845711608727772\n",
      "val_r2_var = -0.0709395706653595\n"
     ]
    },
    {
     "name": "stderr",
     "output_type": "stream",
     "text": [
      "\n",
      "Epoch 00044: cpa_metric reached. Module best state updated.\n",
      "\n",
      "Epoch 00049: cpa_metric reached. Module best state updated.\n"
     ]
    },
    {
     "name": "stdout",
     "output_type": "stream",
     "text": [
      "\n",
      "disnt_basal = 1.0126758231913813\n",
      "disnt_after = 1.2573876263531436\n",
      "val_r2_mean = 0.8404724498589834\n",
      "val_r2_var = -0.059096972147623696\n"
     ]
    },
    {
     "name": "stderr",
     "output_type": "stream",
     "text": [
      "\n",
      "Epoch 00054: cpa_metric reached. Module best state updated.\n"
     ]
    },
    {
     "name": "stdout",
     "output_type": "stream",
     "text": [
      "\n",
      "disnt_basal = 1.0037486341619517\n",
      "disnt_after = 1.252275821439687\n",
      "val_r2_mean = 0.8351262708504995\n",
      "val_r2_var = -0.04307033618291219\n",
      "\n",
      "disnt_basal = 1.0047229380455178\n",
      "disnt_after = 1.2564642564139685\n",
      "val_r2_mean = 0.8023407955964407\n",
      "val_r2_var = -0.011872212092081705\n"
     ]
    },
    {
     "name": "stderr",
     "output_type": "stream",
     "text": [
      "\n",
      "Epoch 00074: cpa_metric reached. Module best state updated.\n",
      "\n",
      "Epoch 00079: cpa_metric reached. Module best state updated.\n"
     ]
    },
    {
     "name": "stdout",
     "output_type": "stream",
     "text": [
      "\n",
      "disnt_basal = 1.0027057415880583\n",
      "disnt_after = 1.2589122342986447\n",
      "val_r2_mean = 0.8141951262950897\n",
      "val_r2_var = 0.0490286648273468\n"
     ]
    },
    {
     "name": "stderr",
     "output_type": "stream",
     "text": [
      "\n",
      "Epoch 00089: cpa_metric reached. Module best state updated.\n"
     ]
    },
    {
     "name": "stdout",
     "output_type": "stream",
     "text": [
      "\n",
      "disnt_basal = 0.9990744367399101\n",
      "disnt_after = 1.2610386005641225\n",
      "val_r2_mean = 0.8418309390544891\n",
      "val_r2_var = 0.07316219806671143\n",
      "\n",
      "disnt_basal = 0.9948269678483843\n",
      "disnt_after = 1.2568683548146025\n",
      "val_r2_mean = 0.8346656461556752\n",
      "val_r2_var = 0.029072205225626625\n"
     ]
    },
    {
     "name": "stderr",
     "output_type": "stream",
     "text": [
      "\n",
      "Epoch 00109: cpa_metric reached. Module best state updated.\n"
     ]
    },
    {
     "name": "stdout",
     "output_type": "stream",
     "text": [
      "\n",
      "disnt_basal = 1.017829335016835\n",
      "disnt_after = 1.2731007996632997\n",
      "val_r2_mean = 0.8522086888551712\n",
      "val_r2_var = 0.10852158069610596\n",
      "\n",
      "disnt_basal = 1.0020058464392616\n",
      "disnt_after = 1.257022054313076\n",
      "val_r2_mean = 0.8231609960397085\n",
      "val_r2_var = 0.09130229552586873\n",
      "\n",
      "disnt_basal = 1.018511340278663\n",
      "disnt_after = 1.2612565355902834\n",
      "val_r2_mean = 0.8156916797161102\n",
      "val_r2_var = 0.07555624842643738\n"
     ]
    },
    {
     "name": "stderr",
     "output_type": "stream",
     "text": [
      "100%|██████████| 8/8 [00:00<00:00, 82.49it/s]\n",
      " 50%|█████     | 1/2 [04:25<04:25, 265.87s/it]"
     ]
    },
    {
     "name": "stdout",
     "output_type": "stream",
     "text": [
      "==================== SPI1 ====================\n",
      "common var of direct change and single-cell data is:  441\n",
      "Warning: dosage_key is not set. Setting it to \"1.0\" for all cells\n"
     ]
    },
    {
     "name": "stderr",
     "output_type": "stream",
     "text": [
      "100%|██████████| 15538/15538 [00:00<00:00, 106016.67it/s]\n",
      "100%|██████████| 15538/15538 [00:00<00:00, 900650.85it/s]\n"
     ]
    },
    {
     "name": "stdout",
     "output_type": "stream",
     "text": [
      "\u001b[34mINFO    \u001b[0m Generating sequential column names                                                                        \n",
      "\u001b[34mINFO    \u001b[0m Generating sequential column names                                                                        \n"
     ]
    },
    {
     "name": "stderr",
     "output_type": "stream",
     "text": [
      "Global seed set to 6977\n",
      "100%|██████████| 2/2 [00:00<00:00, 375.77it/s]\n",
      "GPU available: True (cuda), used: True\n",
      "TPU available: False, using: 0 TPU cores\n",
      "IPU available: False, using: 0 IPUs\n",
      "HPU available: False, using: 0 HPUs\n",
      "You are using a CUDA device ('NVIDIA A100-PCIE-40GB') that has Tensor Cores. To properly utilize them, you should set `torch.set_float32_matmul_precision('medium' | 'high')` which will trade-off precision for performance. For more details, read https://pytorch.org/docs/stable/generated/torch.set_float32_matmul_precision.html#torch.set_float32_matmul_precision\n",
      "LOCAL_RANK: 0 - CUDA_VISIBLE_DEVICES: [0,1,2,3]\n",
      "\n",
      "Epoch 00004: cpa_metric reached. Module best state updated.\n",
      "\n",
      "Epoch 00009: cpa_metric reached. Module best state updated.\n"
     ]
    },
    {
     "name": "stdout",
     "output_type": "stream",
     "text": [
      "\n",
      "disnt_basal = 1.6067034702612197\n",
      "disnt_after = 2.0\n",
      "val_r2_mean = 0.924451728661855\n",
      "val_r2_var = -0.42099299033482873\n"
     ]
    },
    {
     "name": "stderr",
     "output_type": "stream",
     "text": [
      "\n",
      "Epoch 00014: cpa_metric reached. Module best state updated.\n",
      "\n",
      "Epoch 00019: cpa_metric reached. Module best state updated.\n"
     ]
    },
    {
     "name": "stdout",
     "output_type": "stream",
     "text": [
      "\n",
      "disnt_basal = 1.591637574511886\n",
      "disnt_after = 1.9583333333333333\n",
      "val_r2_mean = 0.9512549738089243\n",
      "val_r2_var = -0.048510223627090454\n"
     ]
    },
    {
     "name": "stderr",
     "output_type": "stream",
     "text": [
      "\n",
      "Epoch 00024: cpa_metric reached. Module best state updated.\n",
      "\n",
      "Epoch 00029: cpa_metric reached. Module best state updated.\n"
     ]
    },
    {
     "name": "stdout",
     "output_type": "stream",
     "text": [
      "\n",
      "disnt_basal = 1.581436523504678\n",
      "disnt_after = 2.0\n",
      "val_r2_mean = 0.962794045607249\n",
      "val_r2_var = 0.15578149755795795\n"
     ]
    },
    {
     "name": "stderr",
     "output_type": "stream",
     "text": [
      "\n",
      "Epoch 00034: cpa_metric reached. Module best state updated.\n",
      "\n",
      "Epoch 00039: cpa_metric reached. Module best state updated.\n"
     ]
    },
    {
     "name": "stdout",
     "output_type": "stream",
     "text": [
      "\n",
      "disnt_basal = 1.4790529980642808\n",
      "disnt_after = 1.975\n",
      "val_r2_mean = 0.9616301556428273\n",
      "val_r2_var = 0.20164329806963602\n"
     ]
    },
    {
     "name": "stderr",
     "output_type": "stream",
     "text": [
      "\n",
      "Epoch 00049: cpa_metric reached. Module best state updated.\n"
     ]
    },
    {
     "name": "stdout",
     "output_type": "stream",
     "text": [
      "\n",
      "disnt_basal = 1.3833205435868674\n",
      "disnt_after = 1.975\n",
      "val_r2_mean = 0.965000331401825\n",
      "val_r2_var = 0.2536863287289937\n",
      "\n",
      "disnt_basal = 1.4762289867445764\n",
      "disnt_after = 1.9333333333333333\n",
      "val_r2_mean = 0.9681967496871948\n",
      "val_r2_var = 0.2769266366958618\n",
      "\n",
      "disnt_basal = 1.5825009416631644\n",
      "disnt_after = 1.9500000000000002\n",
      "val_r2_mean = 0.9607940316200256\n",
      "val_r2_var = 0.2851107021172842\n"
     ]
    },
    {
     "name": "stderr",
     "output_type": "stream",
     "text": [
      "100%|██████████| 8/8 [00:00<00:00, 108.20it/s]\n",
      "100%|██████████| 2/2 [05:34<00:00, 167.04s/it]\n"
     ]
    },
    {
     "name": "stdout",
     "output_type": "stream",
     "text": [
      "==================== OSKM ====================\n"
     ]
    },
    {
     "name": "stderr",
     "output_type": "stream",
     "text": [
      "100%|██████████| 4/4 [00:00<00:00, 32017.59it/s]\n"
     ]
    },
    {
     "name": "stdout",
     "output_type": "stream",
     "text": [
      "SOX2 can not be found in scPerturb pert_data\n",
      "POU5F1 can not be found in scPerturb pert_data\n",
      "KLF4 can not be found in scPerturb pert_data\n",
      "MYC can not be found in scPerturb pert_data\n",
      "==================== ADM ====================\n"
     ]
    },
    {
     "name": "stderr",
     "output_type": "stream",
     "text": [
      "100%|██████████| 1/1 [00:00<00:00, 9845.78it/s]"
     ]
    },
    {
     "name": "stdout",
     "output_type": "stream",
     "text": [
      "PTF1A can not be found in scPerturb pert_data\n"
     ]
    },
    {
     "name": "stderr",
     "output_type": "stream",
     "text": [
      "\n"
     ]
    },
    {
     "ename": "",
     "evalue": "",
     "output_type": "error",
     "traceback": [
      "\u001b[1;31m在当前单元格或上一个单元格中执行代码时 Kernel 崩溃。\n",
      "\u001b[1;31m请查看单元格中的代码，以确定故障的可能原因。\n",
      "\u001b[1;31m单击<a href='https://aka.ms/vscodeJupyterKernelCrash'>此处</a>了解详细信息。\n",
      "\u001b[1;31m有关更多详细信息，请查看 Jupyter <a href='command:jupyter.viewOutput'>log</a>。"
     ]
    }
   ],
   "source": [
    "parser = argparse.ArgumentParser(description=\"CPA on real case\")\n",
    "# parser.add_argument('--cell_line_bulk', type=str, default=None)\n",
    "# parser.add_argument('--model_mode', type=str, default='whole') # pretrain, init\n",
    "args = parser.parse_args([])\n",
    "\n",
    "adata_mode = 'non_minus'\n",
    "# minus: save adata as the minus delta\n",
    "# non_minus: save adata, add the minus delta on the original gene exp\n",
    "\n",
    "args.cell_line_bulk = None\n",
    "args.model_mode = 'zero_pad'\n",
    "# whole: find similar genes and pad; \n",
    "# subset: discard non overlap; \n",
    "# zero_pad: for non overlap, pad zero values\n",
    "\n",
    "model_prefix = 'CPA_v3'\n",
    "\n",
    "# CPA_v3: minus version\n",
    "\n",
    "torch.cuda.set_device(1)\n",
    "\n",
    "# - get paras\n",
    "cell_line_bulk = args.cell_line_bulk\n",
    "# cell_line_single = common_cell_line[cell_line_bulk]\n",
    "\n",
    "model_mode = args.model_mode\n",
    "\n",
    "for dataset in datasets[:]:\n",
    "    # dataset = 'OSKM'\n",
    "    # dataset = 'blood'\n",
    "    # dataset = 'CAR_T'\n",
    "    # dataset = 'ADM'\n",
    "    print('='*20, dataset, '='*20)\n",
    "    save_dir = '/nfs/public/lichen/results/single_cell_perturbation/perturbation_benchmark/real_case/data'\n",
    "    adata_rna = sc.read(os.path.join(save_dir, dataset, 'adata_ctrl_v2.h5ad'))\n",
    "\n",
    "    if not isinstance(adata_rna.X, np.ndarray):\n",
    "        adata_rna.X = adata_rna.X.toarray()\n",
    "\n",
    "    for pert in tqdm(dataset_pert_dict[dataset]):\n",
    "\n",
    "        if pert not in gene_dataset_dict:\n",
    "            print(f'{pert} can not be found in scPerturb pert_data')\n",
    "            continue\n",
    "\n",
    "        print('='*20, pert, '='*20)\n",
    "\n",
    "        prefix = gene_dataset_dict[pert]\n",
    "\n",
    "        # - read dataset\n",
    "        tmp_dir = '/nfs/public/lichen/results/single_cell_perturbation/perturbation_benchmark/scPerturb'\n",
    "        save_prefix = f'GEARS_v2-prefix_{prefix}-pert_cell_filter_{pert_cell_filter}-\\\n",
    "seed_{seed}-split_type_{split_type}-var_num_{var_num}-num_de_genes_{num_de_genes}-bs_train_{bs_train}-\\\n",
    "bs_test_{bs_test}'\n",
    "        save_dir = os.path.join(tmp_dir, prefix, save_prefix)\n",
    "        # - load pert_data\n",
    "        pert_data = pickle.load(open(os.path.join(save_dir,'pert_data.pkl'), 'rb'))\n",
    "\n",
    "        adata_split = pert_data.adata_split\n",
    "\n",
    "        # - get common var\n",
    "        common_var = np.intersect1d(adata_rna.var_names, adata_split.var_names)\n",
    "        # common_var_2 = np.intersect1d(common_var, adata_L1000.var_names)\n",
    "\n",
    "        print('common var of direct change and single-cell data is: ', len(common_var))\n",
    "        # print('common var to L1000 data is: ', len(common_var_2))\n",
    "\n",
    "        # 最近基因计算\n",
    "        matrix = adata_rna.X.T\n",
    "        index_list = np.array([list(adata_rna.var_names).index(i) for i in common_var])\n",
    "\n",
    "        distance_matrix = cdist(matrix, matrix, metric='cosine')\n",
    "        np.fill_diagonal(distance_matrix, np.inf)\n",
    "        mask = np.ones(distance_matrix.shape, dtype=bool)\n",
    "        mask[:, index_list] = False\n",
    "        distance_matrix[mask] = np.inf\n",
    "        nearest_indices = np.argmin(distance_matrix, axis=1)\n",
    "        nearest_indices_list = nearest_indices.tolist()\n",
    "\n",
    "        common_idx = [list(common_var).index(gene) if i in common_var else list(common_var).index(adata_rna.var_names[nearest_indices_list[i]]) for i, gene in enumerate(adata_rna.var_names)]\n",
    "\n",
    "        torch.cuda.set_device(1)\n",
    "        # - run CPA\n",
    "        adata_pert = cpa_single_pert(pert, model_mode)\n",
    "            \n",
    "            \n",
    "        tmp_dir = f'/nfs/public/lichen/results/single_cell_perturbation/perturbation_benchmark_202410/real_case/result/{dataset}'\n",
    "        save_prefix = f'CPA/{pert}' # use result of K562 to do the direct transfer\n",
    "        os.makedirs(os.path.join(tmp_dir, save_prefix), exist_ok=True)\n",
    "\n",
    "        if adata_mode == 'minus':\n",
    "            adata_pert.write(os.path.join(tmp_dir, save_prefix, 'adata_pert_minus.h5ad'))\n",
    "        elif adata_mode == 'non_minus':\n",
    "            adata_pert.X = adata_rna.X + adata_pert.X\n",
    "            adata_pert.write(os.path.join(tmp_dir, save_prefix, 'adata_pert.h5ad'))\n",
    "\n",
    "    #     break\n",
    "    # break"
   ]
  },
  {
   "cell_type": "code",
   "execution_count": null,
   "metadata": {},
   "outputs": [],
   "source": []
  },
  {
   "cell_type": "markdown",
   "metadata": {},
   "source": [
    "# debug"
   ]
  },
  {
   "cell_type": "code",
   "execution_count": 30,
   "metadata": {},
   "outputs": [
    {
     "name": "stdout",
     "output_type": "stream",
     "text": [
      "Warning: dosage_key is not set. Setting it to \"1.0\" for all cells\n"
     ]
    },
    {
     "name": "stderr",
     "output_type": "stream",
     "text": [
      "100%|██████████| 14362/14362 [00:00<00:00, 58012.37it/s]\n",
      "100%|██████████| 14362/14362 [00:00<00:00, 506683.55it/s]\n"
     ]
    },
    {
     "name": "stdout",
     "output_type": "stream",
     "text": [
      "\u001b[34mINFO    \u001b[0m Generating sequential column names                                                                        \n",
      "\u001b[34mINFO    \u001b[0m Generating sequential column names                                                                        \n"
     ]
    },
    {
     "name": "stderr",
     "output_type": "stream",
     "text": [
      "Global seed set to 6977\n",
      "100%|██████████| 2/2 [00:00<00:00, 335.57it/s]\n",
      "GPU available: True (cuda), used: True\n",
      "TPU available: False, using: 0 TPU cores\n",
      "IPU available: False, using: 0 IPUs\n",
      "HPU available: False, using: 0 HPUs\n",
      "You are using a CUDA device ('NVIDIA A100-PCIE-40GB') that has Tensor Cores. To properly utilize them, you should set `torch.set_float32_matmul_precision('medium' | 'high')` which will trade-off precision for performance. For more details, read https://pytorch.org/docs/stable/generated/torch.set_float32_matmul_precision.html#torch.set_float32_matmul_precision\n",
      "LOCAL_RANK: 0 - CUDA_VISIBLE_DEVICES: [0,1,2,3]\n",
      "\n",
      "Epoch 00004: cpa_metric reached. Module best state updated.\n",
      "\n",
      "Epoch 00009: cpa_metric reached. Module best state updated.\n"
     ]
    },
    {
     "name": "stdout",
     "output_type": "stream",
     "text": [
      "\n",
      "disnt_basal = 1.0694425517908046\n",
      "disnt_after = 1.274846490390486\n",
      "val_r2_mean = 0.7312578658262889\n",
      "val_r2_var = -0.6477146744728088\n"
     ]
    },
    {
     "name": "stderr",
     "output_type": "stream",
     "text": [
      "\n",
      "Epoch 00014: cpa_metric reached. Module best state updated.\n",
      "\n",
      "Epoch 00019: cpa_metric reached. Module best state updated.\n"
     ]
    },
    {
     "name": "stdout",
     "output_type": "stream",
     "text": [
      "\n",
      "disnt_basal = 1.0799994002203113\n",
      "disnt_after = 1.2645305525719057\n",
      "val_r2_mean = 0.7810930709044139\n",
      "val_r2_var = -0.37496981024742126\n"
     ]
    },
    {
     "name": "stderr",
     "output_type": "stream",
     "text": [
      "\n",
      "Epoch 00024: cpa_metric reached. Module best state updated.\n",
      "\n",
      "Epoch 00029: cpa_metric reached. Module best state updated.\n"
     ]
    },
    {
     "name": "stdout",
     "output_type": "stream",
     "text": [
      "\n",
      "disnt_basal = 1.0613946097480351\n",
      "disnt_after = 1.2605579582042317\n",
      "val_r2_mean = 0.8030420343081157\n",
      "val_r2_var = -0.15025739868481955\n"
     ]
    },
    {
     "name": "stderr",
     "output_type": "stream",
     "text": [
      "\n",
      "Epoch 00034: cpa_metric reached. Module best state updated.\n",
      "\n",
      "Epoch 00039: cpa_metric reached. Module best state updated.\n"
     ]
    },
    {
     "name": "stdout",
     "output_type": "stream",
     "text": [
      "\n",
      "disnt_basal = 1.0159836900233963\n",
      "disnt_after = 1.2585126441347103\n",
      "val_r2_mean = 0.7845711608727772\n",
      "val_r2_var = -0.0709395706653595\n"
     ]
    },
    {
     "name": "stderr",
     "output_type": "stream",
     "text": [
      "\n",
      "Epoch 00044: cpa_metric reached. Module best state updated.\n",
      "\n",
      "Epoch 00049: cpa_metric reached. Module best state updated.\n"
     ]
    },
    {
     "name": "stdout",
     "output_type": "stream",
     "text": [
      "\n",
      "disnt_basal = 1.0126758231913813\n",
      "disnt_after = 1.2573876263531436\n",
      "val_r2_mean = 0.8404724498589834\n",
      "val_r2_var = -0.059096972147623696\n"
     ]
    },
    {
     "name": "stderr",
     "output_type": "stream",
     "text": [
      "\n",
      "Epoch 00054: cpa_metric reached. Module best state updated.\n"
     ]
    },
    {
     "name": "stdout",
     "output_type": "stream",
     "text": [
      "\n",
      "disnt_basal = 1.0037486341619517\n",
      "disnt_after = 1.252275821439687\n",
      "val_r2_mean = 0.8351262708504995\n",
      "val_r2_var = -0.04307033618291219\n",
      "\n",
      "disnt_basal = 1.0047229380455178\n",
      "disnt_after = 1.2564642564139685\n",
      "val_r2_mean = 0.8023407955964407\n",
      "val_r2_var = -0.011872212092081705\n"
     ]
    },
    {
     "name": "stderr",
     "output_type": "stream",
     "text": [
      "\n",
      "Epoch 00074: cpa_metric reached. Module best state updated.\n",
      "\n",
      "Epoch 00079: cpa_metric reached. Module best state updated.\n"
     ]
    },
    {
     "name": "stdout",
     "output_type": "stream",
     "text": [
      "\n",
      "disnt_basal = 1.0027057415880583\n",
      "disnt_after = 1.2589122342986447\n",
      "val_r2_mean = 0.8141951262950897\n",
      "val_r2_var = 0.0490286648273468\n"
     ]
    },
    {
     "name": "stderr",
     "output_type": "stream",
     "text": [
      "\n",
      "Epoch 00089: cpa_metric reached. Module best state updated.\n"
     ]
    },
    {
     "name": "stdout",
     "output_type": "stream",
     "text": [
      "\n",
      "disnt_basal = 0.9990744367399101\n",
      "disnt_after = 1.2610386005641225\n",
      "val_r2_mean = 0.8418309390544891\n",
      "val_r2_var = 0.07316219806671143\n",
      "\n",
      "disnt_basal = 0.9948269678483843\n",
      "disnt_after = 1.2568683548146025\n",
      "val_r2_mean = 0.8346656461556752\n",
      "val_r2_var = 0.029072205225626625\n"
     ]
    },
    {
     "name": "stderr",
     "output_type": "stream",
     "text": [
      "\n",
      "Epoch 00109: cpa_metric reached. Module best state updated.\n"
     ]
    },
    {
     "name": "stdout",
     "output_type": "stream",
     "text": [
      "\n",
      "disnt_basal = 1.017829335016835\n",
      "disnt_after = 1.2731007996632997\n",
      "val_r2_mean = 0.8522086888551712\n",
      "val_r2_var = 0.10852158069610596\n",
      "\n",
      "disnt_basal = 1.0020058464392616\n",
      "disnt_after = 1.257022054313076\n",
      "val_r2_mean = 0.8231609960397085\n",
      "val_r2_var = 0.09130229552586873\n",
      "\n",
      "disnt_basal = 1.018511340278663\n",
      "disnt_after = 1.2612565355902834\n",
      "val_r2_mean = 0.8156916797161102\n",
      "val_r2_var = 0.07555624842643738\n"
     ]
    },
    {
     "name": "stderr",
     "output_type": "stream",
     "text": [
      "100%|██████████| 8/8 [00:00<00:00, 11.14it/s]\n"
     ]
    }
   ],
   "source": [
    "cell_type = pert_data.filter_perturbation_list[0].split(' | ')[1]\n",
    "# - get adata_pert and adata_ctrl\n",
    "adata_pert = adata_split[adata_split.obs['perturbation_group']==pert+' | '+cell_type].copy()\n",
    "adata_ctrl = adata_split[list(adata_pert.obs['control_barcode'])].copy()\n",
    "\n",
    "adata_pert = adata_pert[:, common_var]\n",
    "adata_ctrl = adata_ctrl[:, common_var]\n",
    "\n",
    "\n",
    "# - get adata_rna_common\n",
    "adata_rna_common = adata_rna[:, common_var]\n",
    "\n",
    "# - generate adata_train to input to scGen model\n",
    "np_list, obs_list, pert_list, celltype_list = [], [], [], []\n",
    "pert_list_2 = []\n",
    "adata_list = [adata_pert, adata_rna_common, adata_ctrl, adata_rna_common]\n",
    "for j, adata_ in enumerate(adata_list):\n",
    "    if j in [0, 1]:\n",
    "        pert_list.extend(['stimulated']*len(adata_))\n",
    "    else:\n",
    "        pert_list.extend(['ctrl']*len(adata_))\n",
    "\n",
    "    if j in [0, 2]:\n",
    "        celltype_list.extend([cell_type]*len(adata_))\n",
    "    else:\n",
    "        celltype_list.extend([dataset]*len(adata_))\n",
    "    obs_list.extend([obs+f'_{j}' for obs in adata_.obs_names])\n",
    "    \n",
    "    if not isinstance(adata_.X, np.ndarray):\n",
    "        np_list.append(adata_.X.toarray())\n",
    "    else:\n",
    "        np_list.append(adata_.X)\n",
    "\n",
    "adata_train = AnnData(X = np.vstack(np_list))\n",
    "adata_train.obs_names = obs_list\n",
    "adata_train.var_names = adata_pert.var_names\n",
    "\n",
    "adata_train.obs['condition'] = pert_list\n",
    "# adata_train.obs['condition_2'] = pert_list_2\n",
    "adata_train.obs['cell_type'] = celltype_list\n",
    "\n",
    "# - transform the adata_train.X to count\n",
    "adata_train.obs['cov_cond'] = adata_train.obs['cell_type'] + '_' + adata_train.obs['condition']\n",
    "adata_train.X = np.exp(adata_train.X)-1\n",
    "\n",
    "if model_prefix == 'CPA_v1':\n",
    "    # - add norm\n",
    "    sc.pp.normalize_per_cell(adata_train, key_n_counts='n_counts_all')\n",
    "\n",
    "# - initial model\n",
    "cpa.CPA.setup_anndata(adata_train, \n",
    "                    perturbation_key='condition',\n",
    "                    control_group='ctrl',\n",
    "                    #   dosage_key='dose',\n",
    "                    categorical_covariate_keys=['cell_type'],\n",
    "                    is_count_data=True,\n",
    "                    #   deg_uns_key='rank_genes_groups_cov',\n",
    "                    deg_uns_cat_key='cov_cond',\n",
    "                    max_comb_len=1,\n",
    "                    )\n",
    "\n",
    "# - set the train and validation for cpa\n",
    "# -- get total obs_names of the pert\n",
    "adata_train_new = adata_train[~((adata_train.obs[\"cell_type\"] == dataset) &\n",
    "                    (adata_train.obs[\"condition\"] == \"stimulated\"))].copy()\n",
    "# obs_df_split = adata_train_new.obs\n",
    "obs_df_sub_idx = np.array(adata_train_new.obs.index)\n",
    "\n",
    "np.random.seed(2024)\n",
    "np.random.shuffle(obs_df_sub_idx)\n",
    "\n",
    "# -- data split\n",
    "split_point_1 = int(len(obs_df_sub_idx) * 0.9)\n",
    "split_point_2 = int(len(obs_df_sub_idx) * (0.9+0.1))\n",
    "train = obs_df_sub_idx[:split_point_1]\n",
    "valid = obs_df_sub_idx[split_point_1:split_point_2]\n",
    "\n",
    "\n",
    "adata_train.obs['split_key'] = 'ood'\n",
    "\n",
    "# -- set the test row\n",
    "adata_train.obs.loc[train,'split_key'] = 'train'\n",
    "adata_train.obs.loc[valid,'split_key'] = 'valid'\n",
    "\n",
    "# - initial the model and training   \n",
    "model = cpa.CPA(adata=adata_train, \n",
    "                split_key='split_key',\n",
    "                train_split='train',\n",
    "                valid_split='valid',\n",
    "                test_split='ood',\n",
    "                **model_params,\n",
    "            )\n",
    "\n",
    "# if cell_line_bulk == 'PC3' and adata_train.shape[0] == 726:\n",
    "#     batch_size = 512\n",
    "# else:\n",
    "#     batch_size = 500\n",
    "batch_size = 500\n",
    "model.train(max_epochs=2000,\n",
    "            use_gpu=True, \n",
    "            batch_size=batch_size,\n",
    "            plan_kwargs=trainer_params,\n",
    "            early_stopping_patience=5,\n",
    "            check_val_every_n_epoch=5,\n",
    "            # save_path='../../datasets/',\n",
    "            progress_bar_refresh_rate = 0\n",
    "        )\n",
    "\n",
    "# - predict result\n",
    "model.predict(adata_train, batch_size=2048)"
   ]
  },
  {
   "cell_type": "code",
   "execution_count": 31,
   "metadata": {},
   "outputs": [
    {
     "data": {
      "text/plain": [
       "AnnData object with n_obs × n_vars = 14362 × 494\n",
       "    obs: 'condition', 'cell_type', 'cov_cond', 'CPA_dose_val', 'CPA_cat', 'CPA_ctrl', '_scvi_condition', '_scvi_cell_type', '_scvi_CPA_cat', 'split_key'\n",
       "    uns: '_scvi_uuid', '_scvi_manager_uuid'\n",
       "    obsm: 'perts', 'perts_doses', 'CPA_pred'"
      ]
     },
     "execution_count": 31,
     "metadata": {},
     "output_type": "execute_result"
    }
   ],
   "source": [
    "adata_train"
   ]
  },
  {
   "cell_type": "code",
   "execution_count": 32,
   "metadata": {},
   "outputs": [],
   "source": [
    "# - get the pred data\n",
    "cat = dataset + '_' + 'stimulated'\n",
    "cat_adata = adata_train[adata_train.obs['cov_cond'] == cat].copy()\n",
    "x_pred_sti = cat_adata.obsm['CPA_pred']\n",
    "x_pred_sti = np.log1p(x_pred_sti)\n",
    "\n",
    "# - get the pred data\n",
    "cat = dataset + '_' + 'ctrl'\n",
    "cat_adata = adata_train[adata_train.obs['cov_cond'] == cat].copy()\n",
    "x_pred_ctrl = cat_adata.obsm['CPA_pred']\n",
    "x_pred_ctrl = np.log1p(x_pred_ctrl)\n",
    "\n",
    "x_pred = x_pred_sti - x_pred_ctrl"
   ]
  },
  {
   "cell_type": "code",
   "execution_count": 33,
   "metadata": {},
   "outputs": [
    {
     "data": {
      "text/plain": [
       "(7073, 494)"
      ]
     },
     "execution_count": 33,
     "metadata": {},
     "output_type": "execute_result"
    }
   ],
   "source": [
    "x_pred.shape"
   ]
  },
  {
   "cell_type": "code",
   "execution_count": 36,
   "metadata": {},
   "outputs": [],
   "source": [
    "if model_mode == 'subset':\n",
    "    # - get pert_gene_rank_dict\n",
    "    adata_ctrl = adata_rna_common.copy()\n",
    "    adata_pert = adata_ctrl.copy()\n",
    "    adata_pert.X = x_pred\n",
    "    \n",
    "elif model_mode == 'whole':\n",
    "    # - get pert_gene_rank_dict\n",
    "    adata_ctrl = adata_rna.copy()\n",
    "    adata_pert = adata_ctrl.copy()\n",
    "    adata_pert.X = x_pred[:, common_idx]\n",
    "\n",
    "elif model_mode == 'zero_pad':\n",
    "    adata_ctrl = adata_rna.copy()\n",
    "    adata_pert = adata_ctrl.copy()\n",
    "    adata_pert.X = np.zeros(adata_pert.X.shape)\n",
    "    for i, gene in enumerate(adata_pert.var_names):\n",
    "        if gene in common_var:\n",
    "            adata_pert.X[:, i] = x_pred[:, list(common_var).index(gene)]\n",
    "\n",
    "else:\n",
    "    raise ValueError()"
   ]
  },
  {
   "cell_type": "code",
   "execution_count": 38,
   "metadata": {},
   "outputs": [
    {
     "data": {
      "text/plain": [
       "array([[-0.22718215,  0.        , -0.01641595, ...,  0.05895928,\n",
       "        -0.05172372,  0.09957126],\n",
       "       [-0.26976117,  0.        ,  0.01202253, ...,  0.10973807,\n",
       "         0.67712152,  0.40142328],\n",
       "       [-0.23892549,  0.        , -0.02298968, ...,  0.01848671,\n",
       "         0.70593727, -0.46685663],\n",
       "       ...,\n",
       "       [ 0.01390265,  0.        ,  0.01464741, ..., -0.07788485,\n",
       "        -0.98207021,  0.16043766],\n",
       "       [-0.45531112,  0.        , -0.01492572, ...,  0.27272016,\n",
       "        -0.34711146,  0.00320973],\n",
       "       [-0.37197357,  0.        ,  0.01045347, ..., -0.09800789,\n",
       "         0.61474955,  0.02261361]])"
      ]
     },
     "execution_count": 38,
     "metadata": {},
     "output_type": "execute_result"
    }
   ],
   "source": [
    "adata_pert.X"
   ]
  },
  {
   "cell_type": "code",
   "execution_count": null,
   "metadata": {},
   "outputs": [],
   "source": []
  },
  {
   "cell_type": "code",
   "execution_count": 41,
   "metadata": {},
   "outputs": [
    {
     "data": {
      "text/plain": [
       "(AnnData object with n_obs × n_vars = 7073 × 1206\n",
       "     obs: 'cid', 'seq_tech', 'donor_ID', 'donor_gender', 'donor_age', 'donor_status', 'original_name', 'organ', 'region', 'subregion', 'sample_status', 'treatment', 'ethnicity', 'cell_type', 'cell_id', 'study_id', 'age_bin', 'celltype', 'n_genes', 'n_genes_by_counts', 'total_counts', 'total_counts_mt', 'pct_counts_mt'\n",
       "     var: 'n_cells', 'mt', 'n_cells_by_counts', 'mean_counts', 'pct_dropout_by_counts', 'total_counts', 'highly_variable', 'means', 'dispersions', 'dispersions_norm'\n",
       "     uns: 'hvg',\n",
       " 494)"
      ]
     },
     "execution_count": 41,
     "metadata": {},
     "output_type": "execute_result"
    }
   ],
   "source": [
    "adata_rna, len(common_var)"
   ]
  },
  {
   "cell_type": "code",
   "execution_count": 27,
   "metadata": {},
   "outputs": [
    {
     "data": {
      "text/plain": [
       "Index(['A1BG', 'AAAS', 'AAGAB', 'AAK1', 'AAMDC', 'AARS', 'AARS2', 'AASDH',\n",
       "       'AASDHPPT', 'AATF',\n",
       "       ...\n",
       "       'ZSCAN32', 'ZSCAN9', 'ZSWIM6', 'ZSWIM7', 'ZSWIM8', 'ZUP1', 'ZW10',\n",
       "       'ZWINT', 'ZYX', 'ZZEF1'],\n",
       "      dtype='object', name='gene_name', length=5642)"
      ]
     },
     "execution_count": 27,
     "metadata": {},
     "output_type": "execute_result"
    }
   ],
   "source": [
    "pert_data.adata_split.var_names"
   ]
  },
  {
   "cell_type": "code",
   "execution_count": null,
   "metadata": {},
   "outputs": [],
   "source": []
  },
  {
   "cell_type": "code",
   "execution_count": null,
   "metadata": {},
   "outputs": [],
   "source": []
  },
  {
   "cell_type": "code",
   "execution_count": 16,
   "metadata": {},
   "outputs": [],
   "source": [
    "cell_type = pert_data.filter_perturbation_list[0].split(' | ')[1]\n",
    "# - get adata_pert and adata_ctrl\n",
    "adata_pert = adata_split[adata_split.obs['perturbation_group']==pert+' | '+cell_type].copy()\n",
    "adata_ctrl = adata_split[list(adata_pert.obs['control_barcode'])].copy()\n",
    "\n",
    "adata_pert = adata_pert[:, common_var]\n",
    "adata_ctrl = adata_ctrl[:, common_var]"
   ]
  },
  {
   "cell_type": "code",
   "execution_count": 14,
   "metadata": {},
   "outputs": [
    {
     "data": {
      "text/plain": [
       "View of AnnData object with n_obs × n_vars = 108 × 5642\n",
       "    obs: 'batch', 'gene', 'gene_id', 'transcript', 'gene_transcript', 'guide_id', 'percent_mito', 'UMI_count', 'z_gemgroup_UMI', 'core_scale_factor', 'core_adjusted_UMI_count', 'disease', 'cancer', 'cell_line', 'sex', 'age', 'perturbation', 'organism', 'perturbation_type', 'tissue_type', 'ncounts', 'ngenes', 'nperts', 'percent_ribo', 'perturbation_new', 'perturbation_type_new', 'nperts_new', 'celltype', 'celltype_new', 'sgRNA_new', 'perturbation_group', 'data_split', 'retain', 'n_genes', 'control_barcode', 'sgRNA_ID', 'pert_sgRNA'\n",
       "    var: 'chr', 'start', 'end', 'class', 'strand', 'length', 'in_matrix', 'mean', 'std', 'cv', 'fano', 'ensembl_id', 'ncounts', 'ncells'\n",
       "    uns: 'rank_genes_groups'"
      ]
     },
     "execution_count": 14,
     "metadata": {},
     "output_type": "execute_result"
    }
   ],
   "source": [
    "adata_pert"
   ]
  },
  {
   "cell_type": "code",
   "execution_count": 15,
   "metadata": {},
   "outputs": [
    {
     "data": {
      "text/plain": [
       "494"
      ]
     },
     "execution_count": 15,
     "metadata": {},
     "output_type": "execute_result"
    }
   ],
   "source": [
    "len(common_var)"
   ]
  },
  {
   "cell_type": "code",
   "execution_count": 43,
   "metadata": {},
   "outputs": [],
   "source": [
    "# tmp_dir = f'/nfs/public/lichen/results/single_cell_perturbation/perturbation_benchmark/real_case/data/{dataset}'\n",
    "tmp_dir = f'/nfs/public/lichen/results/single_cell_perturbation/perturbation_benchmark_202410/real_case/result/{dataset}'\n",
    "save_prefix = f'CPA/{pert}' # use result of K562 to do the direct transfer\n",
    "os.makedirs(os.path.join(tmp_dir, save_prefix), exist_ok=True)\n",
    "# adata_pert.write(os.path.join(tmp_dir, save_prefix, 'adata_pert.h5ad'))\n",
    "adata_pert.write(os.path.join(tmp_dir, save_prefix, 'adata_pert_minus.h5ad'))"
   ]
  },
  {
   "cell_type": "code",
   "execution_count": null,
   "metadata": {},
   "outputs": [],
   "source": []
  },
  {
   "cell_type": "code",
   "execution_count": null,
   "metadata": {},
   "outputs": [],
   "source": []
  }
 ],
 "metadata": {
  "kernelspec": {
   "display_name": "cpa",
   "language": "python",
   "name": "python3"
  },
  "language_info": {
   "codemirror_mode": {
    "name": "ipython",
    "version": 3
   },
   "file_extension": ".py",
   "mimetype": "text/x-python",
   "name": "python",
   "nbconvert_exporter": "python",
   "pygments_lexer": "ipython3",
   "version": "undefined.undefined.undefined"
  }
 },
 "nbformat": 4,
 "nbformat_minor": 2
}
