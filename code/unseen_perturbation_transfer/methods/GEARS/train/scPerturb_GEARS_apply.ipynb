{
 "cells": [
  {
   "cell_type": "code",
   "execution_count": 1,
   "metadata": {},
   "outputs": [],
   "source": [
    "import scanpy as sc\n",
    "import pandas as pd\n",
    "import numpy as np\n",
    "from glob import glob\n",
    "import os\n",
    "import matplotlib.pyplot as plt\n",
    "from tqdm import tqdm\n",
    "import torch\n",
    "from torch_geometric.data import Data\n",
    "from torch_geometric.data import DataLoader\n",
    "\n",
    "import pickle\n",
    "import sys\n",
    "import requests\n",
    "\n",
    "from types import MethodType\n",
    "import importlib\n",
    "from scperturb import *\n",
    "import anndata as ad"
   ]
  },
  {
   "cell_type": "code",
   "execution_count": 2,
   "metadata": {},
   "outputs": [],
   "source": [
    "import sys\n",
    "sys.path.append('/data1/lichen/code/single_cell_perturbation/code_other/GEARS')\n",
    "import gears\n",
    "import importlib\n",
    "importlib.reload(gears)\n",
    "importlib.reload(gears.gears)\n",
    "importlib.reload(gears.inference)\n",
    "importlib.reload(gears.utils)\n",
    "importlib.reload(gears.inference)\n",
    "# importlib.reload(gears.PertData)\n",
    "# importlib.reload(gears.GEARS)\n",
    "\n",
    "\n",
    "from gears import PertData, GEARS\n",
    "from gears.inference import evaluate, compute_metrics, deeper_analysis, \\\n",
    "                  non_dropout_analysis\n",
    "                  \n",
    "from sklearn.metrics import r2_score\n",
    "from scipy.stats import pearsonr, spearmanr\n",
    "from sklearn.metrics import mean_squared_error as mse\n",
    "from sklearn.metrics import mean_absolute_error as mae"
   ]
  },
  {
   "cell_type": "code",
   "execution_count": 3,
   "metadata": {},
   "outputs": [],
   "source": [
    "sys.path.append(\"/data1/lichen/code/single_cell_perturbation/scPerturb/Byte_Pert_Data/\")"
   ]
  },
  {
   "cell_type": "code",
   "execution_count": 4,
   "metadata": {},
   "outputs": [],
   "source": [
    "import v1\n",
    "from v1.utils import *\n",
    "from v1.dataloader import *"
   ]
  },
  {
   "cell_type": "code",
   "execution_count": 5,
   "metadata": {},
   "outputs": [
    {
     "data": {
      "text/plain": [
       "<module 'v1.dataloader' from '/data1/lichen/code/single_cell_perturbation/scPerturb/Byte_Pert_Data/v1/dataloader.py'>"
      ]
     },
     "execution_count": 5,
     "metadata": {},
     "output_type": "execute_result"
    }
   ],
   "source": [
    "importlib.reload(v1)\n",
    "importlib.reload(v1.utils)\n",
    "importlib.reload(v1.dataloader)"
   ]
  },
  {
   "cell_type": "markdown",
   "metadata": {},
   "source": [
    "# 所有gene pert的数据metadata"
   ]
  },
  {
   "cell_type": "code",
   "execution_count": 6,
   "metadata": {},
   "outputs": [],
   "source": [
    "gene_pert_dict = \\\n",
    "{'AdamsonWeissman2016_GSM2406675_10X001': {'perturbation_type': 'CRISPRi',\n",
    "  'perturbation_state': 1,\n",
    "  'multi_perturbation': 0,\n",
    "  'multi_sgRNA': 0},\n",
    " 'AdamsonWeissman2016_GSM2406677_10X005': {'perturbation_type': 'CRISPRi',\n",
    "  'perturbation_state': 1,\n",
    "  'multi_perturbation': 1,\n",
    "  'multi_sgRNA': 0},\n",
    " 'AdamsonWeissman2016_GSM2406681_10X010': {'perturbation_type': 'CRISPRi',\n",
    "  'perturbation_state': 1,\n",
    "  'multi_perturbation': 0,\n",
    "  'multi_sgRNA': 0},\n",
    "#  'DatlingerBock2017': {'perturbation_type': 'CRISPR-cas9',\n",
    "#   'perturbation_state': 1,\n",
    "#   'multi_perturbation': 0,\n",
    "#   'multi_sgRNA': 1},\n",
    " 'DatlingerBock2021': {'perturbation_type': 'CRISPR-cas9',\n",
    "  'perturbation_state': 1,\n",
    "  'multi_perturbation': 0,\n",
    "  'multi_sgRNA': 1},\n",
    " 'DixitRegev2016': {'perturbation_type': 'CRISPR-cas9',\n",
    "  'perturbation_state': 1,\n",
    "  'multi_perturbation': 0,\n",
    "  'multi_sgRNA': 1},\n",
    "#  'FrangiehIzar2021_RNA': {'perturbation_type': 'CRISPR-cas9', # 唯一一个multi celltype，先留着\n",
    "#   'perturbation_state': 1,\n",
    "#   'multi_perturbation': 0,\n",
    "#   'multi_sgRNA': 1},\n",
    " \n",
    "#  'LaraAstiasoHuntly2023_exvivo': {'perturbation_type': 'CRISPR-cas9',\n",
    "#   'perturbation_state': 3,\n",
    "#   'multi_perturbation': 0,\n",
    "#   'multi_sgRNA': 1},\n",
    "#  'LaraAstiasoHuntly2023_invivo': {'perturbation_type': 'CRISPR-cas9',\n",
    "#   'perturbation_state': 3,\n",
    "#   'multi_perturbation': 0,\n",
    "#   'multi_sgRNA': 1},\n",
    "#  'LaraAstiasoHuntly2023_leukemia': {'perturbation_type': 'CRISPR-cas9',\n",
    "#   'perturbation_state': 3,\n",
    "#   'multi_perturbation': 0,\n",
    "#   'multi_sgRNA': 1},\n",
    "#  'LiangWang2023': {'perturbation_type': 'CRISPR-cas9',\n",
    "#   'perturbation_state': 3,\n",
    "#   'multi_perturbation': 1,\n",
    "#   'multi_sgRNA': 1},\n",
    "#  'McFarlandTsherniak2020': {'perturbation_type': 'CRISPR-cas9',\n",
    "#   'perturbation_state': 3,\n",
    "#   'multi_perturbation': 0,\n",
    "#   'multi_sgRNA': 0},\n",
    " 'NormanWeissman2019_filtered': {'perturbation_type': 'CRISPRa',\n",
    "  'perturbation_state': 1,\n",
    "  'multi_perturbation': 1,\n",
    "  'multi_sgRNA': 0},\n",
    " 'PapalexiSatija2021_eccite_RNA': {'perturbation_type': 'CRISPR-cas9',\n",
    "  'perturbation_state': 1,\n",
    "  'multi_perturbation': 0,\n",
    "  'multi_sgRNA': 1},\n",
    " 'PapalexiSatija2021_eccite_arrayed_RNA': {'perturbation_type': 'CRISPR-cas9',\n",
    "  'perturbation_state': 1,\n",
    "  'multi_perturbation': 0,\n",
    "  'multi_sgRNA': 1},\n",
    " 'ReplogleWeissman2022_K562_essential': {'perturbation_type': 'CRISPRi',\n",
    "  'perturbation_state': 1,\n",
    "  'multi_perturbation': 0,\n",
    "  'multi_sgRNA': 1},\n",
    "#  'ReplogleWeissman2022_K562_gwps': {'perturbation_type': 'CRISPRi', # pert太多了，先不测试\n",
    "#   'perturbation_state': 1,\n",
    "#   'multi_perturbation': 0,\n",
    "#   'multi_sgRNA': 1},\n",
    " 'ReplogleWeissman2022_rpe1': {'perturbation_type': 'CRISPRi',\n",
    "  'perturbation_state': 1,\n",
    "  'multi_perturbation': 0,\n",
    "  'multi_sgRNA': 1},\n",
    "#  'SantinhaPlatt2023': {'perturbation_type': 'CRISPR-cas9',\n",
    "#   'perturbation_state': 3,\n",
    "#   'multi_perturbation': 0,\n",
    "#   'multi_sgRNA': 0},\n",
    " 'ShifrutMarson2018': {'perturbation_type': 'CRISPR-cas9',\n",
    "  'perturbation_state': 1,\n",
    "  'multi_perturbation': 1,\n",
    "  'multi_sgRNA': 1},\n",
    " 'SunshineHein2023': {'perturbation_type': 'CRISPR-cas9',\n",
    "  'perturbation_state': 1,\n",
    "  'multi_perturbation': 1,\n",
    "  'multi_sgRNA': 1},\n",
    " 'TianKampmann2019_day7neuron': {'perturbation_type': 'CRISPRi',\n",
    "  'perturbation_state': 1,\n",
    "  'multi_perturbation': 1,\n",
    "  'multi_sgRNA': 1},\n",
    " 'TianKampmann2019_iPSC': {'perturbation_type': 'CRISPRi',\n",
    "  'perturbation_state': 1,\n",
    "  'multi_perturbation': 1,\n",
    "  'multi_sgRNA': 1},\n",
    " 'TianKampmann2021_CRISPRa': {'perturbation_type': 'CRISPRa',\n",
    "  'perturbation_state': 1,\n",
    "  'multi_perturbation': 0,\n",
    "  'multi_sgRNA': 1},\n",
    " 'TianKampmann2021_CRISPRi': {'perturbation_type': 'CRISPRi',\n",
    "  'perturbation_state': 1,\n",
    "  'multi_perturbation': 0,\n",
    "  'multi_sgRNA': 1},\n",
    " 'XuCao2023': {'perturbation_type': 'CRISPRi',\n",
    "  'perturbation_state': 1,\n",
    "  'multi_perturbation': 0,\n",
    "  'multi_sgRNA': 1}}\n",
    "\n",
    "prefix_list = list(gene_pert_dict.keys())"
   ]
  },
  {
   "cell_type": "markdown",
   "metadata": {},
   "source": [
    "# GEARS都跑一遍"
   ]
  },
  {
   "cell_type": "code",
   "execution_count": 9,
   "metadata": {},
   "outputs": [
    {
     "name": "stderr",
     "output_type": "stream",
     "text": [
      "Found local copy...\n"
     ]
    },
    {
     "name": "stdout",
     "output_type": "stream",
     "text": [
      "==================== AdamsonWeissman2016_GSM2406675_10X001\n"
     ]
    },
    {
     "name": "stderr",
     "output_type": "stream",
     "text": [
      "Found local copy...\n",
      "100%|██████████| 4/4 [00:00<00:00, 34.86it/s]\n",
      "100%|██████████| 2/2 [00:00<00:00, 40.03it/s]\n",
      "100%|██████████| 1/1 [00:00<00:00, 42.29it/s]\n"
     ]
    },
    {
     "name": "stdout",
     "output_type": "stream",
     "text": [
      "========== get Data_gears finished!\n",
      "add adata finished\n",
      "add condition finished\n",
      "add set2conditions finished\n"
     ]
    },
    {
     "name": "stderr",
     "output_type": "stream",
     "text": [
      "Found local copy...\n"
     ]
    },
    {
     "name": "stdout",
     "output_type": "stream",
     "text": [
      "init changed\n",
      "this is lichen version 2!\n",
      "init changed\n",
      "get metrics... ...\n"
     ]
    },
    {
     "name": "stderr",
     "output_type": "stream",
     "text": [
      "100%|██████████| 2/2 [00:00<00:00,  2.25it/s]\n"
     ]
    },
    {
     "name": "stdout",
     "output_type": "stream",
     "text": [
      "==================== AdamsonWeissman2016_GSM2406677_10X005\n"
     ]
    },
    {
     "name": "stderr",
     "output_type": "stream",
     "text": [
      "Found local copy...\n",
      "Found local copy...\n",
      " 50%|█████     | 2/4 [00:00<00:00, 11.02it/s]"
     ]
    },
    {
     "name": "stdout",
     "output_type": "stream",
     "text": [
      "IRE1 | lymphoblasts not in pert_names\n",
      "ATF6; PERK; IRE1 | lymphoblasts not in pert_names\n"
     ]
    },
    {
     "name": "stderr",
     "output_type": "stream",
     "text": [
      "100%|██████████| 4/4 [00:00<00:00, 11.90it/s]\n"
     ]
    },
    {
     "name": "stdout",
     "output_type": "stream",
     "text": [
      "ATF6; IRE1 | lymphoblasts not in pert_names\n"
     ]
    },
    {
     "name": "stderr",
     "output_type": "stream",
     "text": [
      "  0%|          | 0/2 [00:00<?, ?it/s]"
     ]
    },
    {
     "name": "stdout",
     "output_type": "stream",
     "text": [
      "ATF6; PERK | lymphoblasts not in pert_names\n"
     ]
    },
    {
     "name": "stderr",
     "output_type": "stream",
     "text": [
      "100%|██████████| 2/2 [00:00<00:00, 12.17it/s]\n"
     ]
    },
    {
     "name": "stdout",
     "output_type": "stream",
     "text": [
      "PERK | lymphoblasts not in pert_names\n"
     ]
    },
    {
     "name": "stderr",
     "output_type": "stream",
     "text": [
      "  0%|          | 0/1 [00:00<?, ?it/s]"
     ]
    },
    {
     "name": "stdout",
     "output_type": "stream",
     "text": [
      "PERK; IRE1 | lymphoblasts not in pert_names\n"
     ]
    },
    {
     "name": "stderr",
     "output_type": "stream",
     "text": [
      "100%|██████████| 1/1 [00:00<00:00, 12.08it/s]"
     ]
    },
    {
     "name": "stdout",
     "output_type": "stream",
     "text": [
      "========== get Data_gears finished!\n",
      "add adata finished\n"
     ]
    },
    {
     "name": "stderr",
     "output_type": "stream",
     "text": [
      "\n"
     ]
    },
    {
     "name": "stdout",
     "output_type": "stream",
     "text": [
      "add condition finished\n",
      "add set2conditions finished\n",
      "init changed\n",
      "this is lichen version 2!\n"
     ]
    },
    {
     "name": "stderr",
     "output_type": "stream",
     "text": [
      "Found local copy...\n"
     ]
    },
    {
     "name": "stdout",
     "output_type": "stream",
     "text": [
      "init changed\n",
      "get metrics... ...\n"
     ]
    },
    {
     "name": "stderr",
     "output_type": "stream",
     "text": [
      "100%|██████████| 2/2 [00:02<00:00,  1.46s/it]\n"
     ]
    },
    {
     "name": "stdout",
     "output_type": "stream",
     "text": [
      "==================== AdamsonWeissman2016_GSM2406681_10X010\n"
     ]
    },
    {
     "name": "stderr",
     "output_type": "stream",
     "text": [
      "Found local copy...\n",
      "Found local copy...\n",
      " 45%|████▍     | 26/58 [00:01<00:01, 22.69it/s]"
     ]
    },
    {
     "name": "stdout",
     "output_type": "stream",
     "text": [
      "SRPR | lymphoblasts not in pert_names\n"
     ]
    },
    {
     "name": "stderr",
     "output_type": "stream",
     "text": [
      " 66%|██████▌   | 38/58 [00:01<00:00, 30.11it/s]"
     ]
    },
    {
     "name": "stdout",
     "output_type": "stream",
     "text": [
      "KCTD16 | lymphoblasts not in pert_names\n"
     ]
    },
    {
     "name": "stderr",
     "output_type": "stream",
     "text": [
      "100%|██████████| 58/58 [00:02<00:00, 21.69it/s]\n",
      " 47%|████▋     | 8/17 [00:00<00:00, 35.66it/s]"
     ]
    },
    {
     "name": "stdout",
     "output_type": "stream",
     "text": [
      "SLMO2 | lymphoblasts not in pert_names\n"
     ]
    },
    {
     "name": "stderr",
     "output_type": "stream",
     "text": [
      " 94%|█████████▍| 16/17 [00:00<00:00, 33.92it/s]"
     ]
    },
    {
     "name": "stdout",
     "output_type": "stream",
     "text": [
      "AMIGO3 | lymphoblasts not in pert_names\n"
     ]
    },
    {
     "name": "stderr",
     "output_type": "stream",
     "text": [
      "100%|██████████| 17/17 [00:00<00:00, 34.94it/s]\n",
      "100%|██████████| 9/9 [00:00<00:00, 13.59it/s]\n"
     ]
    },
    {
     "name": "stdout",
     "output_type": "stream",
     "text": [
      "TIMM23 | lymphoblasts not in pert_names\n",
      "========== get Data_gears finished!\n",
      "add adata finished\n",
      "add condition finished\n",
      "add set2conditions finished\n"
     ]
    },
    {
     "name": "stderr",
     "output_type": "stream",
     "text": [
      "Found local copy...\n"
     ]
    },
    {
     "name": "stdout",
     "output_type": "stream",
     "text": [
      "init changed\n",
      "this is lichen version 2!\n",
      "init changed\n",
      "get metrics... ...\n"
     ]
    },
    {
     "name": "stderr",
     "output_type": "stream",
     "text": [
      "100%|██████████| 17/17 [00:07<00:00,  2.33it/s]\n",
      "Found local copy...\n"
     ]
    },
    {
     "name": "stdout",
     "output_type": "stream",
     "text": [
      "==================== DatlingerBock2021\n"
     ]
    },
    {
     "name": "stderr",
     "output_type": "stream",
     "text": [
      "Found local copy...\n",
      " 36%|███▌      | 5/14 [00:00<00:00, 44.67it/s]"
     ]
    },
    {
     "name": "stdout",
     "output_type": "stream",
     "text": [
      "LCK | T cells not in pert_names\n",
      "LAT | T cells not in pert_names\n"
     ]
    },
    {
     "name": "stderr",
     "output_type": "stream",
     "text": [
      "100%|██████████| 14/14 [00:00<00:00, 62.38it/s]\n",
      "100%|██████████| 4/4 [00:00<00:00, 69.83it/s]\n"
     ]
    },
    {
     "name": "stdout",
     "output_type": "stream",
     "text": [
      "PTPN6 | T cells not in pert_names\n"
     ]
    },
    {
     "name": "stderr",
     "output_type": "stream",
     "text": [
      "100%|██████████| 2/2 [00:00<00:00, 41.06it/s]\n"
     ]
    },
    {
     "name": "stdout",
     "output_type": "stream",
     "text": [
      "ZAP70 | T cells not in pert_names\n",
      "========== get Data_gears finished!\n",
      "add adata finished\n",
      "add condition finished\n",
      "add set2conditions finished\n"
     ]
    },
    {
     "name": "stderr",
     "output_type": "stream",
     "text": [
      "Found local copy...\n"
     ]
    },
    {
     "name": "stdout",
     "output_type": "stream",
     "text": [
      "init changed\n",
      "this is lichen version 2!\n",
      "init changed\n",
      "get metrics... ...\n"
     ]
    },
    {
     "name": "stderr",
     "output_type": "stream",
     "text": [
      "100%|██████████| 4/4 [00:01<00:00,  3.52it/s]\n"
     ]
    },
    {
     "name": "stdout",
     "output_type": "stream",
     "text": [
      "==================== DixitRegev2016\n"
     ]
    },
    {
     "name": "stderr",
     "output_type": "stream",
     "text": [
      "Found local copy...\n",
      "Found local copy...\n",
      "100%|██████████| 7/7 [00:01<00:00,  4.33it/s]\n",
      "100%|██████████| 2/2 [00:00<00:00,  4.86it/s]\n",
      "100%|██████████| 1/1 [00:00<00:00,  6.95it/s]\n"
     ]
    },
    {
     "name": "stdout",
     "output_type": "stream",
     "text": [
      "========== get Data_gears finished!\n",
      "add adata finished\n",
      "add condition finished\n",
      "add set2conditions finished\n"
     ]
    },
    {
     "name": "stderr",
     "output_type": "stream",
     "text": [
      "Found local copy...\n"
     ]
    },
    {
     "name": "stdout",
     "output_type": "stream",
     "text": [
      "init changed\n",
      "this is lichen version 2!\n",
      "init changed\n",
      "get metrics... ...\n"
     ]
    },
    {
     "name": "stderr",
     "output_type": "stream",
     "text": [
      "100%|██████████| 2/2 [00:11<00:00,  5.72s/it]\n"
     ]
    },
    {
     "name": "stdout",
     "output_type": "stream",
     "text": [
      "==================== NormanWeissman2019_filtered\n"
     ]
    },
    {
     "name": "stderr",
     "output_type": "stream",
     "text": [
      "Found local copy...\n",
      "Found local copy...\n",
      " 88%|████████▊ | 137/156 [00:04<00:00, 33.76it/s]"
     ]
    },
    {
     "name": "stdout",
     "output_type": "stream",
     "text": [
      "KIAA1804 | lymphoblasts not in pert_names\n",
      "IER5L | lymphoblasts not in pert_names\n"
     ]
    },
    {
     "name": "stderr",
     "output_type": "stream",
     "text": [
      "100%|██████████| 156/156 [00:04<00:00, 32.38it/s]\n",
      " 51%|█████     | 23/45 [00:00<00:00, 33.74it/s]"
     ]
    },
    {
     "name": "stdout",
     "output_type": "stream",
     "text": [
      "LYL1; IER5L | lymphoblasts not in pert_names\n"
     ]
    },
    {
     "name": "stderr",
     "output_type": "stream",
     "text": [
      "100%|██████████| 45/45 [00:01<00:00, 25.79it/s]\n",
      "100%|██████████| 23/23 [00:00<00:00, 36.34it/s]\n"
     ]
    },
    {
     "name": "stdout",
     "output_type": "stream",
     "text": [
      "========== get Data_gears finished!\n",
      "add adata finished\n",
      "add condition finished\n",
      "add set2conditions finished\n"
     ]
    },
    {
     "name": "stderr",
     "output_type": "stream",
     "text": [
      "Found local copy...\n"
     ]
    },
    {
     "name": "stdout",
     "output_type": "stream",
     "text": [
      "init changed\n",
      "this is lichen version 2!\n",
      "init changed\n",
      "get metrics... ...\n"
     ]
    },
    {
     "name": "stderr",
     "output_type": "stream",
     "text": [
      "100%|██████████| 45/45 [00:17<00:00,  2.50it/s]\n"
     ]
    },
    {
     "name": "stdout",
     "output_type": "stream",
     "text": [
      "==================== PapalexiSatija2021_eccite_RNA\n"
     ]
    },
    {
     "name": "stderr",
     "output_type": "stream",
     "text": [
      "Found local copy...\n",
      "Found local copy...\n",
      " 38%|███▊      | 6/16 [00:00<00:00, 20.75it/s]"
     ]
    },
    {
     "name": "stdout",
     "output_type": "stream",
     "text": [
      "CAV1 | monocytes not in pert_names\n",
      "TNFRSF14 | monocytes not in pert_names\n"
     ]
    },
    {
     "name": "stderr",
     "output_type": "stream",
     "text": [
      "100%|██████████| 16/16 [00:00<00:00, 23.12it/s]\n"
     ]
    },
    {
     "name": "stdout",
     "output_type": "stream",
     "text": [
      "PDCD1LG2 | monocytes not in pert_names\n"
     ]
    },
    {
     "name": "stderr",
     "output_type": "stream",
     "text": [
      "100%|██████████| 5/5 [00:00<00:00, 31.18it/s]\n",
      "100%|██████████| 3/3 [00:00<00:00, 32.51it/s]\n"
     ]
    },
    {
     "name": "stdout",
     "output_type": "stream",
     "text": [
      "CD86 | monocytes not in pert_names\n",
      "========== get Data_gears finished!\n",
      "add adata finished\n",
      "add condition finished\n",
      "add set2conditions finished\n",
      "init changed\n",
      "this is lichen version 2!\n"
     ]
    },
    {
     "name": "stderr",
     "output_type": "stream",
     "text": [
      "Found local copy...\n"
     ]
    },
    {
     "name": "stdout",
     "output_type": "stream",
     "text": [
      "init changed\n",
      "get metrics... ...\n"
     ]
    },
    {
     "name": "stderr",
     "output_type": "stream",
     "text": [
      "100%|██████████| 5/5 [00:02<00:00,  1.79it/s]\n",
      "Found local copy...\n"
     ]
    },
    {
     "name": "stdout",
     "output_type": "stream",
     "text": [
      "==================== PapalexiSatija2021_eccite_arrayed_RNA\n"
     ]
    },
    {
     "name": "stderr",
     "output_type": "stream",
     "text": [
      "Found local copy...\n",
      "100%|██████████| 6/6 [00:00<00:00, 21.30it/s]\n"
     ]
    },
    {
     "name": "stdout",
     "output_type": "stream",
     "text": [
      "CAV1 | monocytes not in pert_names\n"
     ]
    },
    {
     "name": "stderr",
     "output_type": "stream",
     "text": [
      "100%|██████████| 2/2 [00:00<00:00,  4.41it/s]\n",
      "100%|██████████| 1/1 [00:00<00:00, 72.41it/s]\n"
     ]
    },
    {
     "name": "stdout",
     "output_type": "stream",
     "text": [
      "PDL1 | monocytes not in pert_names\n",
      "========== get Data_gears finished!\n",
      "add adata finished\n",
      "add condition finished\n",
      "add set2conditions finished\n"
     ]
    },
    {
     "name": "stderr",
     "output_type": "stream",
     "text": [
      "Found local copy...\n"
     ]
    },
    {
     "name": "stdout",
     "output_type": "stream",
     "text": [
      "init changed\n",
      "this is lichen version 2!\n",
      "init changed\n",
      "get metrics... ...\n"
     ]
    },
    {
     "name": "stderr",
     "output_type": "stream",
     "text": [
      "100%|██████████| 2/2 [00:01<00:00,  1.39it/s]\n"
     ]
    },
    {
     "name": "stdout",
     "output_type": "stream",
     "text": [
      "==================== ReplogleWeissman2022_K562_essential\n"
     ]
    },
    {
     "name": "stderr",
     "output_type": "stream",
     "text": [
      "Found local copy...\n",
      "Found local copy...\n",
      " 24%|██▍       | 221/909 [00:07<00:19, 34.50it/s]"
     ]
    },
    {
     "name": "stdout",
     "output_type": "stream",
     "text": [
      "KRTAP4-7 | K562 not in pert_names\n"
     ]
    },
    {
     "name": "stderr",
     "output_type": "stream",
     "text": [
      " 33%|███▎      | 303/909 [00:10<00:15, 39.96it/s]"
     ]
    },
    {
     "name": "stdout",
     "output_type": "stream",
     "text": [
      "C16orf86 | K562 not in pert_names\n"
     ]
    },
    {
     "name": "stderr",
     "output_type": "stream",
     "text": [
      " 62%|██████▏   | 564/909 [00:17<00:08, 39.88it/s]"
     ]
    },
    {
     "name": "stdout",
     "output_type": "stream",
     "text": [
      "C14orf178 | K562 not in pert_names\n"
     ]
    },
    {
     "name": "stderr",
     "output_type": "stream",
     "text": [
      " 77%|███████▋  | 698/909 [00:20<00:04, 42.83it/s]"
     ]
    },
    {
     "name": "stdout",
     "output_type": "stream",
     "text": [
      "RPS10-NUDT3 | K562 not in pert_names\n"
     ]
    },
    {
     "name": "stderr",
     "output_type": "stream",
     "text": [
      "100%|██████████| 909/909 [00:26<00:00, 34.30it/s]\n",
      " 18%|█▊        | 47/260 [00:01<00:04, 44.32it/s]"
     ]
    },
    {
     "name": "stdout",
     "output_type": "stream",
     "text": [
      "C19orf53 | K562 not in pert_names\n"
     ]
    },
    {
     "name": "stderr",
     "output_type": "stream",
     "text": [
      " 94%|█████████▍| 245/260 [00:06<00:00, 43.28it/s]"
     ]
    },
    {
     "name": "stdout",
     "output_type": "stream",
     "text": [
      "FAM229A | K562 not in pert_names\n"
     ]
    },
    {
     "name": "stderr",
     "output_type": "stream",
     "text": [
      "100%|██████████| 260/260 [00:06<00:00, 40.88it/s]\n",
      " 50%|█████     | 65/130 [00:01<00:01, 45.51it/s]"
     ]
    },
    {
     "name": "stdout",
     "output_type": "stream",
     "text": [
      "ALG1L | K562 not in pert_names\n"
     ]
    },
    {
     "name": "stderr",
     "output_type": "stream",
     "text": [
      " 74%|███████▍  | 96/130 [00:02<00:00, 57.61it/s]"
     ]
    },
    {
     "name": "stdout",
     "output_type": "stream",
     "text": [
      "GOLGA6L1 | K562 not in pert_names\n"
     ]
    },
    {
     "name": "stderr",
     "output_type": "stream",
     "text": [
      "100%|██████████| 130/130 [00:02<00:00, 48.32it/s]\n"
     ]
    },
    {
     "name": "stdout",
     "output_type": "stream",
     "text": [
      "========== get Data_gears finished!\n",
      "add adata finished\n",
      "add condition finished\n",
      "add set2conditions finished\n"
     ]
    },
    {
     "name": "stderr",
     "output_type": "stream",
     "text": [
      "Found local copy...\n"
     ]
    },
    {
     "name": "stdout",
     "output_type": "stream",
     "text": [
      "init changed\n",
      "this is lichen version 2!\n",
      "init changed\n",
      "get metrics... ...\n"
     ]
    },
    {
     "name": "stderr",
     "output_type": "stream",
     "text": [
      "100%|██████████| 260/260 [00:58<00:00,  4.46it/s]\n"
     ]
    },
    {
     "name": "stdout",
     "output_type": "stream",
     "text": [
      "==================== ReplogleWeissman2022_rpe1\n"
     ]
    },
    {
     "name": "stderr",
     "output_type": "stream",
     "text": [
      "Found local copy...\n",
      "Found local copy...\n",
      " 31%|███       | 168/548 [00:04<00:08, 45.69it/s]"
     ]
    },
    {
     "name": "stdout",
     "output_type": "stream",
     "text": [
      "GNB1L | retinal pigment epithelial cells not in pert_names\n"
     ]
    },
    {
     "name": "stderr",
     "output_type": "stream",
     "text": [
      " 42%|████▏     | 228/548 [00:07<00:12, 25.33it/s]"
     ]
    },
    {
     "name": "stdout",
     "output_type": "stream",
     "text": [
      "ALG1L | retinal pigment epithelial cells not in pert_names\n"
     ]
    },
    {
     "name": "stderr",
     "output_type": "stream",
     "text": [
      " 45%|████▌     | 249/548 [00:08<00:07, 39.92it/s]"
     ]
    },
    {
     "name": "stdout",
     "output_type": "stream",
     "text": [
      "CCDC144NL | retinal pigment epithelial cells not in pert_names\n"
     ]
    },
    {
     "name": "stderr",
     "output_type": "stream",
     "text": [
      " 55%|█████▌    | 303/548 [00:09<00:05, 44.94it/s]"
     ]
    },
    {
     "name": "stdout",
     "output_type": "stream",
     "text": [
      "GOLGA6L1 | retinal pigment epithelial cells not in pert_names\n"
     ]
    },
    {
     "name": "stderr",
     "output_type": "stream",
     "text": [
      " 75%|███████▍  | 409/548 [00:11<00:03, 45.25it/s]"
     ]
    },
    {
     "name": "stdout",
     "output_type": "stream",
     "text": [
      "FAM229A | retinal pigment epithelial cells not in pert_names\n"
     ]
    },
    {
     "name": "stderr",
     "output_type": "stream",
     "text": [
      " 90%|████████▉ | 492/548 [00:13<00:01, 51.62it/s]"
     ]
    },
    {
     "name": "stdout",
     "output_type": "stream",
     "text": [
      "KRTAP4-7 | retinal pigment epithelial cells not in pert_names\n"
     ]
    },
    {
     "name": "stderr",
     "output_type": "stream",
     "text": [
      " 94%|█████████▍| 516/548 [00:14<00:00, 50.78it/s]"
     ]
    },
    {
     "name": "stdout",
     "output_type": "stream",
     "text": [
      "C16orf86 | retinal pigment epithelial cells not in pert_names\n"
     ]
    },
    {
     "name": "stderr",
     "output_type": "stream",
     "text": [
      "100%|██████████| 548/548 [00:14<00:00, 37.59it/s]\n",
      " 19%|█▊        | 29/156 [00:01<00:03, 33.61it/s]"
     ]
    },
    {
     "name": "stdout",
     "output_type": "stream",
     "text": [
      "C14orf178 | retinal pigment epithelial cells not in pert_names\n"
     ]
    },
    {
     "name": "stderr",
     "output_type": "stream",
     "text": [
      " 30%|███       | 47/156 [00:01<00:02, 46.56it/s]"
     ]
    },
    {
     "name": "stdout",
     "output_type": "stream",
     "text": [
      "RBM14-RBM4 | retinal pigment epithelial cells not in pert_names\n"
     ]
    },
    {
     "name": "stderr",
     "output_type": "stream",
     "text": [
      "100%|██████████| 156/156 [00:05<00:00, 30.88it/s]\n",
      " 24%|██▍       | 19/79 [00:00<00:01, 47.31it/s]"
     ]
    },
    {
     "name": "stdout",
     "output_type": "stream",
     "text": [
      "C7orf26 | retinal pigment epithelial cells not in pert_names\n"
     ]
    },
    {
     "name": "stderr",
     "output_type": "stream",
     "text": [
      "100%|██████████| 79/79 [00:01<00:00, 53.53it/s]\n"
     ]
    },
    {
     "name": "stdout",
     "output_type": "stream",
     "text": [
      "========== get Data_gears finished!\n",
      "add adata finished\n",
      "add condition finished\n",
      "add set2conditions finished\n"
     ]
    },
    {
     "name": "stderr",
     "output_type": "stream",
     "text": [
      "Found local copy...\n"
     ]
    },
    {
     "name": "stdout",
     "output_type": "stream",
     "text": [
      "init changed\n",
      "this is lichen version 2!\n",
      "init changed\n",
      "get metrics... ...\n"
     ]
    },
    {
     "name": "stderr",
     "output_type": "stream",
     "text": [
      "100%|██████████| 156/156 [00:41<00:00,  3.78it/s]\n"
     ]
    },
    {
     "name": "stdout",
     "output_type": "stream",
     "text": [
      "==================== ShifrutMarson2018\n"
     ]
    },
    {
     "name": "stderr",
     "output_type": "stream",
     "text": [
      "Found local copy...\n",
      "Found local copy...\n",
      " 57%|█████▋    | 8/14 [00:00<00:00, 40.06it/s]"
     ]
    },
    {
     "name": "stdout",
     "output_type": "stream",
     "text": [
      "PDCD1 | T cells not in pert_names\n",
      "DGKA | T cells not in pert_names\n",
      "CD5 | T cells not in pert_names\n",
      "BTLA | T cells not in pert_names\n",
      "LAG3 | T cells not in pert_names\n",
      "CBLB | T cells not in pert_names\n"
     ]
    },
    {
     "name": "stderr",
     "output_type": "stream",
     "text": [
      "100%|██████████| 14/14 [00:00<00:00, 42.84it/s]\n"
     ]
    },
    {
     "name": "stdout",
     "output_type": "stream",
     "text": [
      "TCEB2 | T cells not in pert_names\n",
      "C10orf54 | T cells not in pert_names\n",
      "HAVCR2 | T cells not in pert_names\n"
     ]
    },
    {
     "name": "stderr",
     "output_type": "stream",
     "text": [
      "100%|██████████| 4/4 [00:00<00:00, 60.45it/s]\n"
     ]
    },
    {
     "name": "stdout",
     "output_type": "stream",
     "text": [
      "TNFRSF9 | T cells not in pert_names\n"
     ]
    },
    {
     "name": "stderr",
     "output_type": "stream",
     "text": [
      "100%|██████████| 2/2 [00:00<00:00, 42.34it/s]\n"
     ]
    },
    {
     "name": "stdout",
     "output_type": "stream",
     "text": [
      "========== get Data_gears finished!\n",
      "add adata finished\n",
      "add condition finished\n",
      "add set2conditions finished\n"
     ]
    },
    {
     "name": "stderr",
     "output_type": "stream",
     "text": [
      "Found local copy...\n"
     ]
    },
    {
     "name": "stdout",
     "output_type": "stream",
     "text": [
      "init changed\n",
      "this is lichen version 2!\n",
      "init changed\n",
      "get metrics... ...\n"
     ]
    },
    {
     "name": "stderr",
     "output_type": "stream",
     "text": [
      "100%|██████████| 4/4 [00:01<00:00,  3.47it/s]\n"
     ]
    },
    {
     "name": "stdout",
     "output_type": "stream",
     "text": [
      "==================== SunshineHein2023\n"
     ]
    },
    {
     "name": "stderr",
     "output_type": "stream",
     "text": [
      "Found local copy...\n",
      "Found local copy...\n",
      "  5%|▍         | 5/109 [00:00<00:02, 49.58it/s]"
     ]
    },
    {
     "name": "stdout",
     "output_type": "stream",
     "text": [
      "SMOC1 | lung epithelial cells not in pert_names\n",
      "C19orf66 | lung epithelial cells not in pert_names\n",
      "DPP4 | lung epithelial cells not in pert_names\n"
     ]
    },
    {
     "name": "stderr",
     "output_type": "stream",
     "text": [
      " 23%|██▎       | 25/109 [00:00<00:01, 59.05it/s]"
     ]
    },
    {
     "name": "stdout",
     "output_type": "stream",
     "text": [
      "CKM | lung epithelial cells not in pert_names\n",
      "F2RL1 | lung epithelial cells not in pert_names\n"
     ]
    },
    {
     "name": "stderr",
     "output_type": "stream",
     "text": [
      " 37%|███▋      | 40/109 [00:00<00:01, 63.85it/s]"
     ]
    },
    {
     "name": "stdout",
     "output_type": "stream",
     "text": [
      "ANPEP | lung epithelial cells not in pert_names\n",
      "ACE2; TMPRSS2 | lung epithelial cells not in pert_names\n",
      "ATG14 | lung epithelial cells not in pert_names\n"
     ]
    },
    {
     "name": "stderr",
     "output_type": "stream",
     "text": [
      " 50%|█████     | 55/109 [00:00<00:00, 67.46it/s]"
     ]
    },
    {
     "name": "stdout",
     "output_type": "stream",
     "text": [
      "CTSL; TMPRSS2 | lung epithelial cells not in pert_names\n",
      "TLR3 | lung epithelial cells not in pert_names\n",
      "NLRX1 | lung epithelial cells not in pert_names\n"
     ]
    },
    {
     "name": "stderr",
     "output_type": "stream",
     "text": [
      " 83%|████████▎ | 90/109 [00:01<00:00, 54.29it/s]"
     ]
    },
    {
     "name": "stdout",
     "output_type": "stream",
     "text": [
      "DDX58 | lung epithelial cells not in pert_names\n",
      "TICAM1 | lung epithelial cells not in pert_names\n"
     ]
    },
    {
     "name": "stderr",
     "output_type": "stream",
     "text": [
      "100%|██████████| 109/109 [00:01<00:00, 59.16it/s]"
     ]
    },
    {
     "name": "stdout",
     "output_type": "stream",
     "text": [
      "IFIH1 | lung epithelial cells not in pert_names\n",
      "CTSB; TMPRSS2 | lung epithelial cells not in pert_names\n",
      "ASNA1 | lung epithelial cells not in pert_names\n"
     ]
    },
    {
     "name": "stderr",
     "output_type": "stream",
     "text": [
      "\n",
      " 52%|█████▏    | 16/31 [00:00<00:00, 79.24it/s]"
     ]
    },
    {
     "name": "stdout",
     "output_type": "stream",
     "text": [
      "FYCO1 | lung epithelial cells not in pert_names\n",
      "ACE2 | lung epithelial cells not in pert_names\n",
      "ADCK4 | lung epithelial cells not in pert_names\n",
      "FURIN; TMPRSS2 | lung epithelial cells not in pert_names\n",
      "C18orf8 | lung epithelial cells not in pert_names\n"
     ]
    },
    {
     "name": "stderr",
     "output_type": "stream",
     "text": [
      "100%|██████████| 31/31 [00:00<00:00, 82.00it/s]\n",
      "100%|██████████| 16/16 [00:00<00:00, 94.05it/s]\n"
     ]
    },
    {
     "name": "stdout",
     "output_type": "stream",
     "text": [
      "TMPRSS2 | lung epithelial cells not in pert_names\n",
      "ACE2; FURIN | lung epithelial cells not in pert_names\n",
      "========== get Data_gears finished!\n",
      "add adata finished\n",
      "add condition finished\n",
      "add set2conditions finished\n"
     ]
    },
    {
     "name": "stderr",
     "output_type": "stream",
     "text": [
      "Found local copy...\n"
     ]
    },
    {
     "name": "stdout",
     "output_type": "stream",
     "text": [
      "init changed\n",
      "this is lichen version 2!\n",
      "init changed\n",
      "get metrics... ...\n"
     ]
    },
    {
     "name": "stderr",
     "output_type": "stream",
     "text": [
      "100%|██████████| 31/31 [00:06<00:00,  4.79it/s]\n"
     ]
    },
    {
     "name": "stdout",
     "output_type": "stream",
     "text": [
      "==================== TianKampmann2019_day7neuron\n"
     ]
    },
    {
     "name": "stderr",
     "output_type": "stream",
     "text": [
      "Found local copy...\n",
      "Found local copy...\n",
      "100%|██████████| 28/28 [00:01<00:00, 21.52it/s]\n",
      "100%|██████████| 8/8 [00:00<00:00, 18.97it/s]\n",
      "100%|██████████| 5/5 [00:00<00:00, 97.33it/s]\n"
     ]
    },
    {
     "name": "stdout",
     "output_type": "stream",
     "text": [
      "========== get Data_gears finished!\n",
      "add adata finished\n",
      "add condition finished\n",
      "add set2conditions finished\n"
     ]
    },
    {
     "name": "stderr",
     "output_type": "stream",
     "text": [
      "Found local copy...\n"
     ]
    },
    {
     "name": "stdout",
     "output_type": "stream",
     "text": [
      "init changed\n",
      "this is lichen version 2!\n",
      "init changed\n",
      "get metrics... ...\n"
     ]
    },
    {
     "name": "stderr",
     "output_type": "stream",
     "text": [
      "100%|██████████| 8/8 [00:11<00:00,  1.42s/it]\n"
     ]
    },
    {
     "name": "stdout",
     "output_type": "stream",
     "text": [
      "==================== TianKampmann2019_iPSC\n"
     ]
    },
    {
     "name": "stderr",
     "output_type": "stream",
     "text": [
      "Found local copy...\n",
      "Found local copy...\n",
      "100%|██████████| 46/46 [00:01<00:00, 29.05it/s]\n",
      "100%|██████████| 13/13 [00:00<00:00, 19.63it/s]\n",
      "100%|██████████| 7/7 [00:00<00:00, 11.96it/s]\n"
     ]
    },
    {
     "name": "stdout",
     "output_type": "stream",
     "text": [
      "========== get Data_gears finished!\n",
      "add adata finished\n",
      "add condition finished\n",
      "add set2conditions finished\n"
     ]
    },
    {
     "name": "stderr",
     "output_type": "stream",
     "text": [
      "Found local copy...\n"
     ]
    },
    {
     "name": "stdout",
     "output_type": "stream",
     "text": [
      "init changed\n",
      "this is lichen version 2!\n",
      "init changed\n",
      "get metrics... ...\n"
     ]
    },
    {
     "name": "stderr",
     "output_type": "stream",
     "text": [
      "100%|██████████| 13/13 [00:05<00:00,  2.25it/s]\n"
     ]
    },
    {
     "name": "stdout",
     "output_type": "stream",
     "text": [
      "==================== TianKampmann2021_CRISPRa\n"
     ]
    },
    {
     "name": "stderr",
     "output_type": "stream",
     "text": [
      "Found local copy...\n",
      "Found local copy...\n",
      "100%|██████████| 65/65 [00:00<00:00, 89.90it/s]\n",
      " 42%|████▏     | 8/19 [00:00<00:00, 78.15it/s]"
     ]
    },
    {
     "name": "stdout",
     "output_type": "stream",
     "text": [
      "TUSC1 | iPSC-induced neuron not in pert_names\n"
     ]
    },
    {
     "name": "stderr",
     "output_type": "stream",
     "text": [
      "100%|██████████| 19/19 [00:00<00:00, 26.23it/s]\n",
      "100%|██████████| 10/10 [00:00<00:00, 81.27it/s]\n"
     ]
    },
    {
     "name": "stdout",
     "output_type": "stream",
     "text": [
      "========== get Data_gears finished!\n",
      "add adata finished\n",
      "add condition finished\n",
      "add set2conditions finished\n"
     ]
    },
    {
     "name": "stderr",
     "output_type": "stream",
     "text": [
      "Found local copy...\n"
     ]
    },
    {
     "name": "stdout",
     "output_type": "stream",
     "text": [
      "init changed\n",
      "this is lichen version 2!\n",
      "init changed\n",
      "get metrics... ...\n"
     ]
    },
    {
     "name": "stderr",
     "output_type": "stream",
     "text": [
      "100%|██████████| 19/19 [00:04<00:00,  4.49it/s]\n"
     ]
    },
    {
     "name": "stdout",
     "output_type": "stream",
     "text": [
      "==================== TianKampmann2021_CRISPRi\n"
     ]
    },
    {
     "name": "stderr",
     "output_type": "stream",
     "text": [
      "Found local copy...\n",
      "Found local copy...\n",
      "100%|██████████| 123/123 [00:01<00:00, 67.55it/s]\n",
      "100%|██████████| 36/36 [00:00<00:00, 95.85it/s]\n",
      "100%|██████████| 18/18 [00:00<00:00, 88.21it/s]\n"
     ]
    },
    {
     "name": "stdout",
     "output_type": "stream",
     "text": [
      "========== get Data_gears finished!\n",
      "add adata finished\n",
      "add condition finished\n",
      "add set2conditions finished\n"
     ]
    },
    {
     "name": "stderr",
     "output_type": "stream",
     "text": [
      "Found local copy...\n"
     ]
    },
    {
     "name": "stdout",
     "output_type": "stream",
     "text": [
      "init changed\n",
      "this is lichen version 2!\n",
      "init changed\n",
      "get metrics... ...\n"
     ]
    },
    {
     "name": "stderr",
     "output_type": "stream",
     "text": [
      "100%|██████████| 36/36 [00:06<00:00,  5.35it/s]\n"
     ]
    },
    {
     "name": "stdout",
     "output_type": "stream",
     "text": [
      "==================== XuCao2023\n"
     ]
    },
    {
     "name": "stderr",
     "output_type": "stream",
     "text": [
      "Found local copy...\n",
      "Found local copy...\n",
      "  9%|▉         | 11/118 [00:00<00:05, 20.33it/s]"
     ]
    },
    {
     "name": "stdout",
     "output_type": "stream",
     "text": [
      "ATP12A | embryonic kidney cells not in pert_names\n",
      "SLC29A4 | embryonic kidney cells not in pert_names\n"
     ]
    },
    {
     "name": "stderr",
     "output_type": "stream",
     "text": [
      " 21%|██        | 25/118 [00:01<00:06, 15.13it/s]"
     ]
    },
    {
     "name": "stdout",
     "output_type": "stream",
     "text": [
      "SLC29A3 | embryonic kidney cells not in pert_names\n"
     ]
    },
    {
     "name": "stderr",
     "output_type": "stream",
     "text": [
      " 42%|████▏     | 50/118 [00:02<00:02, 22.96it/s]"
     ]
    },
    {
     "name": "stdout",
     "output_type": "stream",
     "text": [
      "SLC28A3 | embryonic kidney cells not in pert_names\n"
     ]
    },
    {
     "name": "stderr",
     "output_type": "stream",
     "text": [
      " 77%|███████▋  | 91/118 [00:04<00:00, 37.51it/s]"
     ]
    },
    {
     "name": "stdout",
     "output_type": "stream",
     "text": [
      "SLC28A1 | embryonic kidney cells not in pert_names\n"
     ]
    },
    {
     "name": "stderr",
     "output_type": "stream",
     "text": [
      "100%|██████████| 118/118 [00:04<00:00, 23.82it/s]\n",
      "100%|██████████| 34/34 [00:01<00:00, 20.37it/s]\n",
      "100%|██████████| 17/17 [00:00<00:00, 46.81it/s]\n"
     ]
    },
    {
     "name": "stdout",
     "output_type": "stream",
     "text": [
      "========== get Data_gears finished!\n",
      "add adata finished\n",
      "add condition finished\n",
      "add set2conditions finished\n"
     ]
    },
    {
     "name": "stderr",
     "output_type": "stream",
     "text": [
      "Found local copy...\n"
     ]
    },
    {
     "name": "stdout",
     "output_type": "stream",
     "text": [
      "init changed\n",
      "this is lichen version 2!\n",
      "init changed\n",
      "get metrics... ...\n"
     ]
    },
    {
     "name": "stderr",
     "output_type": "stream",
     "text": [
      "100%|██████████| 34/34 [00:18<00:00,  1.86it/s]\n"
     ]
    }
   ],
   "source": [
    "# 每个dataset用跑完的gears重新跑一遍\n",
    "\n",
    "for prefix in list(gene_pert_dict.keys()):\n",
    "    \n",
    "    print('='*20, prefix)\n",
    "    \n",
    "    # - init para\n",
    "    data_dir = '/nfs/public/lichen/data/single_cell/perturb_data/scPerturb/raw/scPerturb_rna/statistic_20240520'\n",
    "    pert_cell_filter = 100 # this is used to filter perts, cell number less than this will be filtered\n",
    "    seed = 2024 # this is the random seed\n",
    "    split_type = 1 # 1 for unseen perts; 0 for unseen celltypes\n",
    "    split_ratio = [0.7, 0.2, 0.1] # train:test:val; val is used to choose data, test is for final validation\n",
    "    var_num = 5000 # selecting hvg number\n",
    "    num_de_genes = 20 # number of de genes\n",
    "    bs_train = 32 # batch size of trainloader\n",
    "    bs_test = 32 # batch size of testloader\n",
    "    lr = 1e-4\n",
    "\n",
    "    tmp_dir = '/nfs/public/lichen/results/single_cell_perturbation/perturbation_benchmark/scPerturb'\n",
    "    # save_prefix = f'GEARS'\n",
    "    save_prefix = f'GEARS_v2-prefix_{prefix}-pert_cell_filter_{pert_cell_filter}-\\\n",
    "seed_{seed}-split_type_{split_type}-var_num_{var_num}-num_de_genes_{num_de_genes}-bs_train_{bs_train}-\\\n",
    "bs_test_{bs_test}'\n",
    "\n",
    "    save_dir = os.path.join(tmp_dir, prefix, save_prefix)\n",
    "\n",
    "    # - load pert_data\n",
    "    pert_data = pickle.load(open(os.path.join(save_dir,'pert_data.pkl'), 'rb'))\n",
    "\n",
    "    # - get go genes; special set for GEARS\n",
    "    pert_data.get_gene2go()\n",
    "    pert_data.set_pert_genes()\n",
    "\n",
    "    # - get dataset for gears\n",
    "    pert_data.get_Data_gears(num_de_genes = pert_data.num_de_genes,\n",
    "                            dataset_name = ['train', 'test', 'val'])\n",
    "\n",
    "    # - add necessary elements for gears\n",
    "    pert_data.modify_gears()\n",
    "\n",
    "    # - get dataloader\n",
    "    trainloader, testloader, valloader = pert_data.get_dataloader(mode='all')\n",
    "    \n",
    "    if len(testloader)==0:\n",
    "        continue\n",
    "\n",
    "    # - init gears model\n",
    "    gears_model = GEARS(pert_data, device = 'cuda:3', \n",
    "                            weight_bias_track = False, \n",
    "                            proj_name = 'pertnet', \n",
    "                            exp_name = 'pertnet')\n",
    "    gears_model.model_initialize(hidden_size = 64)\n",
    "    \n",
    "    # - load pretrain model\n",
    "    tmp_dir = '/nfs/public/lichen/results/single_cell_perturbation/perturbation_benchmark_202410/unseen_perturbation/method/GEARS_v1' # GEARS_v1: with control cells\n",
    "    save_dir = os.path.join(tmp_dir, prefix)\n",
    "\n",
    "    model_dir = os.path.join(save_dir,f'result_lr_0.0001')\n",
    "    gears_model.load_pretrained(model_dir)\n",
    "    \n",
    "    # - Model testing\n",
    "    test_loader = gears_model.dataloader['test_loader']\n",
    "    test_res = evaluate(test_loader, gears_model.best_model,\n",
    "                        gears_model.config['uncertainty'], gears_model.device)\n",
    "    test_metrics, test_pert_res = compute_metrics(test_res)\n",
    "    \n",
    "    out = get_metric(pert_data.adata, test_res)\n",
    "    # out = get_metric(pert_data.adata, test_res)\n",
    "    # out_non_dropout = non_dropout_analysis(pert_data.adata, test_res)\n",
    "    \n",
    "    # - save the result\n",
    "    tmp_dir = '/nfs/public/lichen/results/single_cell_perturbation/perturbation_benchmark_202410/unseen_perturbation/result/GEARS'\n",
    "    save_prefix = 'GEARS_v2' \n",
    "    # GEARS_v1: the old version metric, with adding ctrl cells;  \n",
    "    # GEARS_v2: the new version metric, with adding ctrl cells;  \n",
    "    \n",
    "    save_dir = os.path.join(tmp_dir, prefix, save_prefix)\n",
    "    os.makedirs(save_dir, exist_ok=True)\n",
    "    pickle.dump(out, open(os.path.join(save_dir,f'out.pkl'), 'wb'))"
   ]
  },
  {
   "cell_type": "code",
   "execution_count": null,
   "metadata": {},
   "outputs": [],
   "source": []
  }
 ],
 "metadata": {
  "kernelspec": {
   "display_name": "scGPT",
   "language": "python",
   "name": "python3"
  },
  "language_info": {
   "codemirror_mode": {
    "name": "ipython",
    "version": 3
   },
   "file_extension": ".py",
   "mimetype": "text/x-python",
   "name": "python",
   "nbconvert_exporter": "python",
   "pygments_lexer": "ipython3",
   "version": "3.9.19"
  }
 },
 "nbformat": 4,
 "nbformat_minor": 2
}
