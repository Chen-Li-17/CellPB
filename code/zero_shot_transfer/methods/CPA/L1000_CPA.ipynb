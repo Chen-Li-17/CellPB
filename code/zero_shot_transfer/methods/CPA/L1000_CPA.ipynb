{
 "cells": [
  {
   "cell_type": "markdown",
   "metadata": {},
   "source": [
    "env: cpa"
   ]
  },
  {
   "cell_type": "markdown",
   "metadata": {},
   "source": [
    "# import"
   ]
  },
  {
   "cell_type": "code",
   "execution_count": 1,
   "metadata": {},
   "outputs": [
    {
     "name": "stderr",
     "output_type": "stream",
     "text": [
      "Global seed set to 0\n"
     ]
    }
   ],
   "source": [
    "import sys\n",
    "import json\n",
    "from anndata import AnnData\n",
    "import cpa\n",
    "import scanpy as sc\n",
    "import importlib\n",
    "import numpy as np\n",
    "from tqdm import tqdm\n",
    "import pickle\n",
    "import os\n",
    "import shutil\n",
    "import torch\n",
    "import pandas as pd\n",
    "\n",
    "sys.path.append(\"/data1/lichen/code/single_cell_perturbation/scPerturb/Byte_Pert_Data/\")\n",
    "import v1\n",
    "from v1.utils import *\n",
    "from v1.dataloader import *"
   ]
  },
  {
   "cell_type": "code",
   "execution_count": 2,
   "metadata": {},
   "outputs": [
    {
     "data": {
      "text/plain": [
       "<module 'v1.dataloader' from '/data1/lichen/code/single_cell_perturbation/scPerturb/Byte_Pert_Data/v1/dataloader.py'>"
      ]
     },
     "execution_count": 2,
     "metadata": {},
     "output_type": "execute_result"
    }
   ],
   "source": [
    "importlib.reload(v1)\n",
    "importlib.reload(v1.utils)\n",
    "importlib.reload(v1.dataloader)"
   ]
  },
  {
   "cell_type": "markdown",
   "metadata": {},
   "source": [
    "# load K562 gwps"
   ]
  },
  {
   "cell_type": "code",
   "execution_count": 3,
   "metadata": {},
   "outputs": [
    {
     "name": "stdout",
     "output_type": "stream",
     "text": [
      "==================== ReplogleWeissman2022_K562_gwps\n"
     ]
    }
   ],
   "source": [
    "prefix = 'ReplogleWeissman2022_K562_gwps'\n",
    "\n",
    "print('='*20, prefix)\n",
    "\n",
    "# - init para\n",
    "data_dir = '/nfs/public/lichen/data/single_cell/perturb_data/scPerturb/raw/scPerturb_rna/statistic_20240520'\n",
    "pert_cell_filter = 100 # this is used to filter perts, cell number less than this will be filtered\n",
    "seed = 2024 # this is the random seed\n",
    "split_type = 1 # 1 for unseen perts; 0 for unseen celltypes\n",
    "split_ratio = [0.7, 0.2, 0.1] # train:test:val; val is used to choose data, test is for final validation\n",
    "var_num = 5000 # selecting hvg number\n",
    "num_de_genes = 20 # number of de genes\n",
    "bs_train = 32 # batch size of trainloader\n",
    "bs_test = 32 # batch size of testloader\n",
    "lr = 1e-4\n",
    "\n",
    "tmp_dir = '/nfs/public/lichen/results/single_cell_perturbation/perturbation_benchmark/scPerturb'\n",
    "# save_prefix = f'GEARS'\n",
    "save_prefix = f'GEARS-prefix_{prefix}-pert_cell_filter_{pert_cell_filter}-\\\n",
    "seed_{seed}-split_type_{split_type}-var_num_{var_num}-num_de_genes_{num_de_genes}-bs_train_{bs_train}-\\\n",
    "bs_test_{bs_test}'\n",
    "\n",
    "save_dir = os.path.join(tmp_dir, prefix, save_prefix)\n",
    "\n",
    "# - load pert_data\n",
    "pert_data = pickle.load(open(os.path.join(save_dir,'pert_data.pkl'), 'rb'))"
   ]
  },
  {
   "cell_type": "code",
   "execution_count": null,
   "metadata": {},
   "outputs": [],
   "source": []
  },
  {
   "cell_type": "code",
   "execution_count": null,
   "metadata": {},
   "outputs": [],
   "source": []
  },
  {
   "cell_type": "code",
   "execution_count": null,
   "metadata": {},
   "outputs": [],
   "source": [
    "adata_ori = pert_data.adata_ori\n",
    "sc.pp.normalize_per_cell(adata_ori, key_n_counts='n_counts_all')\n",
    "sc.pp.log1p(adata_ori)"
   ]
  },
  {
   "cell_type": "markdown",
   "metadata": {},
   "source": [
    "# 存储可以用来计算的adata_ori"
   ]
  },
  {
   "cell_type": "code",
   "execution_count": 12,
   "metadata": {},
   "outputs": [],
   "source": [
    "sc.pp.normalize_per_cell(pert_data.adata_ori, key_n_counts='n_counts_all')\n",
    "sc.pp.log1p(pert_data.adata_ori)"
   ]
  },
  {
   "cell_type": "code",
   "execution_count": 13,
   "metadata": {},
   "outputs": [
    {
     "data": {
      "text/plain": [
       "8.268049"
      ]
     },
     "execution_count": 13,
     "metadata": {},
     "output_type": "execute_result"
    }
   ],
   "source": [
    "np.max(pert_data.adata_ori.X)"
   ]
  },
  {
   "cell_type": "code",
   "execution_count": 4,
   "metadata": {},
   "outputs": [
    {
     "data": {
      "text/plain": [
       "AnnData object with n_obs × n_vars = 36720 × 978\n",
       "    obs: 'sig_id', 'pert_id', 'pert_iname', 'pert_type', 'cell_id', 'pert_dose', 'pert_dose_unit', 'pert_idose', 'pert_time', 'pert_time_unit', 'pert_itime', 'distil_id'\n",
       "    var: 'pr_gene_id', 'pr_gene_symbol', 'pr_gene_title', 'pr_is_lm', 'pr_is_bing'"
      ]
     },
     "execution_count": 4,
     "metadata": {},
     "output_type": "execute_result"
    }
   ],
   "source": [
    "# - get cell line name\n",
    "common_cell_line = \\\n",
    "{   'A549': 'A549',\n",
    "    'HEPG2': 'HepG2',\n",
    "    'HT29': 'HT29',\n",
    "    'MCF7': 'MCF7',\n",
    "    # 'SKBR3': 'SK-BR-3',\n",
    "    'SW480': 'SW480',\n",
    "    'PC3': 'PC3',\n",
    "    'A375': 'A375',\n",
    "} # L1000 cell line : single-cell cell line\n",
    "\n",
    "# - read adata_L1000, this is processed data\n",
    "adata_L1000 = sc.read('/nfs/public/lichen/results/single_cell_perturbation/perturbation_benchmark/benchmark_data/L1000/GSE92742/adata_gene_pert.h5ad')\n",
    "adata_L1000"
   ]
  },
  {
   "cell_type": "code",
   "execution_count": 5,
   "metadata": {},
   "outputs": [
    {
     "data": {
      "text/plain": [
       "2359"
      ]
     },
     "execution_count": 5,
     "metadata": {},
     "output_type": "execute_result"
    }
   ],
   "source": [
    "L1000_total_perts = []\n",
    "for cell_line_bulk in common_cell_line.keys():\n",
    "    cell_line_single = common_cell_line[cell_line_bulk]\n",
    "\n",
    "    adata_L1000_sub = adata_L1000[adata_L1000.obs['cell_id']==cell_line_bulk]\n",
    "    L1000_total_perts += list(np.unique(adata_L1000_sub.obs['pert_iname']))\n",
    "L1000_total_perts = np.unique(L1000_total_perts)\n",
    "\n",
    "    \n",
    "import json\n",
    "with open('/nfs/public/lichen/results/single_cell_perturbation/perturbation_benchmark/benchmark_data/L1000/utils_data/direct_change_dict.json', 'r') as f:\n",
    "    direct_change_dict = json.load(f)\n",
    "# - single_total_perts: the perts used in K562\n",
    "gene_list = direct_change_dict['gene_list']\n",
    "single_total_perts = list(direct_change_dict.keys())\n",
    "single_total_perts.remove('gene_list')\n",
    "\n",
    "common_perts = np.intersect1d(single_total_perts, L1000_total_perts)\n",
    "len(common_perts)"
   ]
  },
  {
   "cell_type": "code",
   "execution_count": 10,
   "metadata": {},
   "outputs": [],
   "source": [
    "common_pert_groups = [i+' | K562' for i in common_perts] + ['control | K562']\n",
    "adata_sub = pert_data.adata_split[pert_data.adata_split.obs['perturbation_group'].isin(common_pert_groups)]"
   ]
  },
  {
   "cell_type": "code",
   "execution_count": 11,
   "metadata": {},
   "outputs": [
    {
     "data": {
      "text/plain": [
       "control | K562    75328\n",
       "DUSP9 | K562       1351\n",
       "RAP1GAP | K562     1270\n",
       "STK38L | K562      1169\n",
       "PPP2R1A | K562     1061\n",
       "                  ...  \n",
       "CDK6 | K562          96\n",
       "HIC2 | K562          93\n",
       "DDB1 | K562          70\n",
       "MED15 | K562         59\n",
       "AP2M1 | K562         51\n",
       "Name: perturbation_group, Length: 2360, dtype: int64"
      ]
     },
     "execution_count": 11,
     "metadata": {},
     "output_type": "execute_result"
    }
   ],
   "source": [
    "adata_sub.obs['perturbation_group'].value_counts()"
   ]
  },
  {
   "cell_type": "code",
   "execution_count": 14,
   "metadata": {},
   "outputs": [],
   "source": [
    "adata_sub_ori = pert_data.adata_ori[adata_sub.obs_names].copy()\n",
    "adata_sub_ori.obs = adata_sub.obs"
   ]
  },
  {
   "cell_type": "code",
   "execution_count": 17,
   "metadata": {},
   "outputs": [
    {
     "data": {
      "text/plain": [
       "AnnData object with n_obs × n_vars = 607014 × 8248\n",
       "    obs: 'batch', 'gene', 'gene_id', 'transcript', 'gene_transcript', 'guide_id', 'percent_mito', 'UMI_count', 'z_gemgroup_UMI', 'core_scale_factor', 'core_adjusted_UMI_count', 'disease', 'cancer', 'cell_line', 'sex', 'age', 'perturbation', 'organism', 'perturbation_type', 'tissue_type', 'ncounts', 'ngenes', 'nperts', 'percent_ribo', 'perturbation_new', 'perturbation_type_new', 'nperts_new', 'celltype', 'celltype_new', 'perturbation_group', 'data_split', 'retain', 'n_genes', 'control_barcode', 'sgRNA_new', 'sgRNA_ID', 'pert_sgRNA'\n",
       "    var: 'chr', 'start', 'end', 'class', 'strand', 'length', 'in_matrix', 'mean', 'std', 'cv', 'fano', 'ensembl_id', 'ncounts', 'ncells'\n",
       "    uns: 'log1p'"
      ]
     },
     "execution_count": 17,
     "metadata": {},
     "output_type": "execute_result"
    }
   ],
   "source": [
    "adata_sub_ori"
   ]
  },
  {
   "cell_type": "code",
   "execution_count": 16,
   "metadata": {},
   "outputs": [
    {
     "data": {
      "text/plain": [
       "numpy.ndarray"
      ]
     },
     "execution_count": 16,
     "metadata": {},
     "output_type": "execute_result"
    }
   ],
   "source": [
    "type(adata_sub_ori.X)"
   ]
  },
  {
   "cell_type": "code",
   "execution_count": 18,
   "metadata": {},
   "outputs": [],
   "source": [
    "import scipy.sparse\n",
    "\n",
    "# 检查是否已经是稀疏矩阵\n",
    "if not scipy.sparse.issparse(adata_sub_ori.X):\n",
    "    # 如果不是稀疏矩阵，转换为稀疏矩阵\n",
    "    adata_sub_ori.X = scipy.sparse.csr_matrix(adata_sub_ori.X)\n",
    "    \n",
    "    "
   ]
  },
  {
   "cell_type": "code",
   "execution_count": 23,
   "metadata": {},
   "outputs": [
    {
     "data": {
      "text/plain": [
       "AnnData object with n_obs × n_vars = 607014 × 8248\n",
       "    obs: 'batch', 'gene', 'gene_id', 'transcript', 'gene_transcript', 'guide_id', 'percent_mito', 'UMI_count', 'z_gemgroup_UMI', 'core_scale_factor', 'core_adjusted_UMI_count', 'disease', 'cancer', 'cell_line', 'sex', 'age', 'perturbation', 'organism', 'perturbation_type', 'tissue_type', 'ncounts', 'ngenes', 'nperts', 'percent_ribo', 'perturbation_new', 'perturbation_type_new', 'nperts_new', 'celltype', 'celltype_new', 'perturbation_group', 'data_split', 'retain', 'n_genes', 'control_barcode', 'sgRNA_new', 'sgRNA_ID', 'pert_sgRNA'\n",
       "    var: 'chr', 'start', 'end', 'class', 'strand', 'length', 'in_matrix', 'mean', 'std', 'cv', 'fano', 'ensembl_id', 'ncounts', 'ncells'\n",
       "    uns: 'log1p'"
      ]
     },
     "execution_count": 23,
     "metadata": {},
     "output_type": "execute_result"
    }
   ],
   "source": [
    "adata_sub_ori"
   ]
  },
  {
   "cell_type": "code",
   "execution_count": 29,
   "metadata": {},
   "outputs": [],
   "source": [
    "adata_sub_ori.obs = adata_sub_ori.obs[['perturbation_group', 'control_barcode']]"
   ]
  },
  {
   "cell_type": "code",
   "execution_count": 30,
   "metadata": {},
   "outputs": [
    {
     "data": {
      "text/plain": [
       "AnnData object with n_obs × n_vars = 607014 × 8248\n",
       "    obs: 'perturbation_group', 'control_barcode'\n",
       "    var: 'chr', 'start', 'end', 'class', 'strand', 'length', 'in_matrix', 'mean', 'std', 'cv', 'fano', 'ensembl_id', 'ncounts', 'ncells'\n",
       "    uns: 'log1p'"
      ]
     },
     "execution_count": 30,
     "metadata": {},
     "output_type": "execute_result"
    }
   ],
   "source": [
    "adata_sub_ori"
   ]
  },
  {
   "cell_type": "code",
   "execution_count": null,
   "metadata": {},
   "outputs": [],
   "source": []
  },
  {
   "cell_type": "code",
   "execution_count": null,
   "metadata": {},
   "outputs": [],
   "source": []
  },
  {
   "cell_type": "code",
   "execution_count": 31,
   "metadata": {},
   "outputs": [
    {
     "ename": "",
     "evalue": "",
     "output_type": "error",
     "traceback": [
      "\u001b[1;31m在当前单元格或上一个单元格中执行代码时 Kernel 崩溃。\n",
      "\u001b[1;31m请查看单元格中的代码，以确定故障的可能原因。\n",
      "\u001b[1;31m单击<a href='https://aka.ms/vscodeJupyterKernelCrash'>此处</a>了解详细信息。\n",
      "\u001b[1;31m有关更多详细信息，请查看 Jupyter <a href='command:jupyter.viewOutput'>log</a>。"
     ]
    }
   ],
   "source": [
    "adata_sub_ori.write('/nfs/public/lichen/results/single_cell_perturbation/perturbation_benchmark/benchmark_data/L1000/utils_data/adata_K562_sub.h5ad')"
   ]
  },
  {
   "cell_type": "code",
   "execution_count": null,
   "metadata": {},
   "outputs": [],
   "source": []
  },
  {
   "cell_type": "markdown",
   "metadata": {},
   "source": [
    "# get common perts"
   ]
  },
  {
   "cell_type": "code",
   "execution_count": null,
   "metadata": {},
   "outputs": [],
   "source": [
    "# - get cell line name\n",
    "common_cell_line = \\\n",
    "{   'A549': 'A549',\n",
    "    'HEPG2': 'HepG2',\n",
    "    'HT29': 'HT29',\n",
    "    'MCF7': 'MCF7',\n",
    "    # 'SKBR3': 'SK-BR-3',\n",
    "    'SW480': 'SW480',\n",
    "    'PC3': 'PC3',\n",
    "    'A375': 'A375',\n",
    "} # L1000 cell line : single-cell cell line\n",
    "\n",
    "# - read adata_L1000, this is processed data\n",
    "adata_L1000 = sc.read('/nfs/public/lichen/results/single_cell_perturbation/perturbation_benchmark/benchmark_data/L1000/GSE92742/adata_gene_pert.h5ad')\n",
    "adata_L1000\n",
    "\n",
    "cell_line_bulk = 'A549'\n",
    "cell_line_single = common_cell_line[cell_line_bulk]"
   ]
  },
  {
   "cell_type": "code",
   "execution_count": null,
   "metadata": {},
   "outputs": [],
   "source": [
    "    \n",
    "import json\n",
    "with open('/nfs/public/lichen/results/single_cell_perturbation/perturbation_benchmark/benchmark_data/L1000/utils_data/direct_change_dict.json', 'r') as f:\n",
    "    direct_change_dict = json.load(f)\n",
    "# - single_total_perts: the perts used in K562\n",
    "gene_list = direct_change_dict['gene_list']\n",
    "single_total_perts = list(direct_change_dict.keys())\n",
    "single_total_perts.remove('gene_list')\n",
    "\n",
    "# - get common pert\n",
    "adata_L1000_sub = adata_L1000[adata_L1000.obs['cell_id']==cell_line_bulk]\n",
    "L1000_total_perts = np.unique(adata_L1000_sub.obs['pert_iname'])\n",
    "common_perts = np.intersect1d(single_total_perts, L1000_total_perts)"
   ]
  },
  {
   "cell_type": "code",
   "execution_count": null,
   "metadata": {},
   "outputs": [
    {
     "data": {
      "text/plain": [
       "2184"
      ]
     },
     "execution_count": 7,
     "metadata": {},
     "output_type": "execute_result"
    }
   ],
   "source": [
    "len(common_perts)"
   ]
  },
  {
   "cell_type": "code",
   "execution_count": null,
   "metadata": {},
   "outputs": [
    {
     "name": "stdout",
     "output_type": "stream",
     "text": [
      "==================== cell line is A549\n"
     ]
    }
   ],
   "source": [
    "print('='*20, f'cell line is {cell_line_single}')\n",
    "\n",
    "#===================prepare data\n",
    "if cell_line_bulk in ['PC3', 'A375']:\n",
    "    save_dir_adata = '/nfs/public/lichen/results/single_cell_perturbation/perturbation_benchmark/benchmark_data/L1000/single_cell_data/SCP542'\n",
    "    adata_rna = sc.read(os.path.join(save_dir_adata, cell_line_bulk, f'adata_{cell_line_bulk}.h5ad'))\n",
    "    \n",
    "    # - read adata_rna_raw\n",
    "    save_dir = f'/nfs/public/lichen/data/single_cell/cell_line/SCP542/process/{cell_line_bulk}'\n",
    "    adata_rna_raw = sc.read(os.path.join(save_dir, f'adata.h5ad'))\n",
    "\n",
    "else:\n",
    "    save_dir_adata = '/nfs/public/lichen/results/single_cell_perturbation/perturbation_benchmark/benchmark_data/L1000/single_cell_data/CNP0003658'\n",
    "    adata_rna = sc.read(os.path.join(save_dir_adata, cell_line_bulk, f'adata_{cell_line_bulk}.h5ad'))\n",
    "\n",
    "    # - read adata_rna\n",
    "    save_dir = f'/nfs/public/lichen/data/single_cell/cell_line/CNP0003658/process/RNA/{cell_line_single}'\n",
    "    adata_rna_raw = sc.read(os.path.join(save_dir, f'adata_rna_{cell_line_single}.h5ad'))\n",
    "\n",
    "# - consctrut corr mtx\n",
    "if not isinstance(adata_rna.X, np.ndarray):\n",
    "    adata_rna.X = adata_rna.X.toarray()"
   ]
  },
  {
   "cell_type": "code",
   "execution_count": null,
   "metadata": {},
   "outputs": [
    {
     "name": "stdout",
     "output_type": "stream",
     "text": [
      "common_perts num:  2184\n",
      "common var of direct change and single-cell data is:  2764\n",
      "common var to L1000 data is:  712\n"
     ]
    }
   ],
   "source": [
    "# - get common var\n",
    "common_var = np.intersect1d(adata_rna.var_names, direct_change_dict['gene_list'])\n",
    "common_var_2 = np.intersect1d(common_var, adata_L1000.var_names)\n",
    "\n",
    "print('common_perts num: ', len(common_perts))\n",
    "print('common var of direct change and single-cell data is: ', len(common_var))\n",
    "print('common var to L1000 data is: ', len(common_var_2))"
   ]
  },
  {
   "cell_type": "code",
   "execution_count": null,
   "metadata": {},
   "outputs": [],
   "source": [
    "pert = common_perts[0]"
   ]
  },
  {
   "cell_type": "code",
   "execution_count": null,
   "metadata": {},
   "outputs": [],
   "source": [
    "adata_pert = pert_data.adata_split[pert_data.adata_split[pert_data.adata_split.obs['perturbation_group']==pert+' | K562'].obs_names]\n",
    "adata_ctrl = pert_data.adata_split[adata_pert.obs['control_barcode']]\n",
    "\n",
    "adata_pert = adata_ori[adata_pert.obs_names, common_var]\n",
    "adata_ctrl = adata_ori[adata_ctrl.obs_names, common_var]"
   ]
  },
  {
   "cell_type": "code",
   "execution_count": null,
   "metadata": {},
   "outputs": [
    {
     "data": {
      "text/plain": [
       "(View of AnnData object with n_obs × n_vars = 182 × 2764\n",
       "     obs: 'batch', 'gene', 'gene_id', 'transcript', 'gene_transcript', 'guide_id', 'percent_mito', 'UMI_count', 'z_gemgroup_UMI', 'core_scale_factor', 'core_adjusted_UMI_count', 'disease', 'cancer', 'cell_line', 'sex', 'age', 'perturbation', 'organism', 'perturbation_type', 'tissue_type', 'ncounts', 'ngenes', 'nperts', 'percent_ribo', 'perturbation_new', 'perturbation_type_new', 'nperts_new', 'celltype', 'celltype_new', 'perturbation_group', 'data_split', 'retain', 'n_counts_all'\n",
       "     var: 'chr', 'start', 'end', 'class', 'strand', 'length', 'in_matrix', 'mean', 'std', 'cv', 'fano', 'ensembl_id', 'ncounts', 'ncells'\n",
       "     uns: 'log1p',\n",
       " View of AnnData object with n_obs × n_vars = 182 × 2764\n",
       "     obs: 'batch', 'gene', 'gene_id', 'transcript', 'gene_transcript', 'guide_id', 'percent_mito', 'UMI_count', 'z_gemgroup_UMI', 'core_scale_factor', 'core_adjusted_UMI_count', 'disease', 'cancer', 'cell_line', 'sex', 'age', 'perturbation', 'organism', 'perturbation_type', 'tissue_type', 'ncounts', 'ngenes', 'nperts', 'percent_ribo', 'perturbation_new', 'perturbation_type_new', 'nperts_new', 'celltype', 'celltype_new', 'perturbation_group', 'data_split', 'retain', 'n_counts_all'\n",
       "     var: 'chr', 'start', 'end', 'class', 'strand', 'length', 'in_matrix', 'mean', 'std', 'cv', 'fano', 'ensembl_id', 'ncounts', 'ncells'\n",
       "     uns: 'log1p')"
      ]
     },
     "execution_count": 12,
     "metadata": {},
     "output_type": "execute_result"
    }
   ],
   "source": [
    "adata_ctrl, adata_pert"
   ]
  },
  {
   "cell_type": "code",
   "execution_count": null,
   "metadata": {},
   "outputs": [
    {
     "data": {
      "text/plain": [
       "View of AnnData object with n_obs × n_vars = 500 × 2764\n",
       "    obs: 'n_genes', 'n_counts_all'\n",
       "    var: 'n_cells', 'highly_variable', 'means', 'dispersions', 'dispersions_norm'\n",
       "    uns: 'hvg', 'log1p'"
      ]
     },
     "execution_count": 13,
     "metadata": {},
     "output_type": "execute_result"
    }
   ],
   "source": [
    "adata_rna_common = adata_rna[:, common_var]\n",
    "adata_rna_common"
   ]
  },
  {
   "cell_type": "code",
   "execution_count": null,
   "metadata": {},
   "outputs": [],
   "source": [
    "# - model initial\n",
    "model_params = {\n",
    "    \"n_latent\": 64,\n",
    "    \"recon_loss\": \"nb\",\n",
    "    \"doser_type\": \"linear\",\n",
    "    \"n_hidden_encoder\": 128,\n",
    "    \"n_layers_encoder\": 2,\n",
    "    \"n_hidden_decoder\": 512,\n",
    "    \"n_layers_decoder\": 2,\n",
    "    \"use_batch_norm_encoder\": True,\n",
    "    \"use_layer_norm_encoder\": False,\n",
    "    \"use_batch_norm_decoder\": False,\n",
    "    \"use_layer_norm_decoder\": True,\n",
    "    \"dropout_rate_encoder\": 0.0,\n",
    "    \"dropout_rate_decoder\": 0.1,\n",
    "    \"variational\": False,\n",
    "    \"seed\": 6977,\n",
    "}\n",
    "\n",
    "trainer_params = {\n",
    "    \"n_epochs_kl_warmup\": None,\n",
    "    \"n_epochs_pretrain_ae\": 30,\n",
    "    \"n_epochs_adv_warmup\": 50,\n",
    "    \"n_epochs_mixup_warmup\": 0,\n",
    "    \"mixup_alpha\": 0.0,\n",
    "    \"adv_steps\": None,\n",
    "    \"n_hidden_adv\": 64,\n",
    "    \"n_layers_adv\": 3,\n",
    "    \"use_batch_norm_adv\": True,\n",
    "    \"use_layer_norm_adv\": False,\n",
    "    \"dropout_rate_adv\": 0.3,\n",
    "    \"reg_adv\": 20.0,\n",
    "    \"pen_adv\": 5.0,\n",
    "    \"lr\": 0.0003,\n",
    "    \"wd\": 4e-07,\n",
    "    \"adv_lr\": 0.0003,\n",
    "    \"adv_wd\": 4e-07,\n",
    "    \"adv_loss\": \"cce\",\n",
    "    \"doser_lr\": 0.0003,\n",
    "    \"doser_wd\": 4e-07,\n",
    "    \"do_clip_grad\": True,\n",
    "    \"gradient_clip_value\": 1.0,\n",
    "    \"step_size_lr\": 10,\n",
    "}"
   ]
  },
  {
   "cell_type": "code",
   "execution_count": null,
   "metadata": {},
   "outputs": [
    {
     "name": "stdout",
     "output_type": "stream",
     "text": [
      "Warning: dosage_key is not set. Setting it to \"1.0\" for all cells\n"
     ]
    },
    {
     "name": "stderr",
     "output_type": "stream",
     "text": [
      "100%|██████████| 1364/1364 [00:00<00:00, 72502.54it/s]\n",
      "100%|██████████| 1364/1364 [00:00<00:00, 1131085.54it/s]"
     ]
    },
    {
     "name": "stdout",
     "output_type": "stream",
     "text": [
      "\u001b[34mINFO    \u001b[0m Generating sequential column names                                                                        \n",
      "\u001b[34mINFO    \u001b[0m Generating sequential column names                                                                        \n"
     ]
    },
    {
     "name": "stderr",
     "output_type": "stream",
     "text": [
      "\n"
     ]
    }
   ],
   "source": [
    "# - generate adata_train to input to scGen model\n",
    "np_list, obs_list, pert_list, celltype_list = [], [], [], []\n",
    "pert_list_2 = []\n",
    "adata_list = [adata_pert, adata_rna_common, adata_ctrl, adata_rna_common]\n",
    "for j, adata_ in enumerate(adata_list):\n",
    "    if j in [0, 1]:\n",
    "        pert_list.extend(['stimulated']*len(adata_))\n",
    "    else:\n",
    "        pert_list.extend(['ctrl']*len(adata_))\n",
    "\n",
    "    if j in [0, 2]:\n",
    "        celltype_list.extend(['K562']*len(adata_))\n",
    "    else:\n",
    "        celltype_list.extend([cell_line_bulk]*len(adata_))\n",
    "    obs_list.extend([obs+f'_{j}' for obs in adata_.obs_names])\n",
    "    np_list.append(adata_.X.toarray())\n",
    "\n",
    "adata_train = AnnData(X = np.vstack(np_list))\n",
    "adata_train.obs_names = obs_list\n",
    "adata_train.var_names = adata_pert.var_names\n",
    "\n",
    "adata_train.obs['condition'] = pert_list\n",
    "# adata_train.obs['condition_2'] = pert_list_2\n",
    "adata_train.obs['cell_type'] = celltype_list\n",
    "\n",
    "# - transform the adata_train.X to count\n",
    "adata_train.obs['cov_cond'] = adata_train.obs['cell_type'] + '_' + adata_train.obs['condition']\n",
    "adata_train.X = np.exp(adata_train.X)-1\n",
    "\n",
    "# - initial model\n",
    "cpa.CPA.setup_anndata(adata_train, \n",
    "                    perturbation_key='condition',\n",
    "                    control_group='ctrl',\n",
    "                    #   dosage_key='dose',\n",
    "                    categorical_covariate_keys=['cell_type'],\n",
    "                    is_count_data=True,\n",
    "                    #   deg_uns_key='rank_genes_groups_cov',\n",
    "                    deg_uns_cat_key='cov_cond',\n",
    "                    max_comb_len=1,\n",
    "                    )"
   ]
  },
  {
   "cell_type": "code",
   "execution_count": null,
   "metadata": {},
   "outputs": [
    {
     "name": "stderr",
     "output_type": "stream",
     "text": [
      "Global seed set to 6977\n"
     ]
    },
    {
     "name": "stderr",
     "output_type": "stream",
     "text": [
      "100%|██████████| 2/2 [00:00<00:00, 708.92it/s]\n",
      "GPU available: True (cuda), used: True\n",
      "TPU available: False, using: 0 TPU cores\n",
      "IPU available: False, using: 0 IPUs\n",
      "HPU available: False, using: 0 HPUs\n",
      "You are using a CUDA device ('NVIDIA GeForce RTX 3090') that has Tensor Cores. To properly utilize them, you should set `torch.set_float32_matmul_precision('medium' | 'high')` which will trade-off precision for performance. For more details, read https://pytorch.org/docs/stable/generated/torch.set_float32_matmul_precision.html#torch.set_float32_matmul_precision\n",
      "LOCAL_RANK: 0 - CUDA_VISIBLE_DEVICES: [0,1,2,3]\n",
      "\n",
      "Epoch 00004: cpa_metric reached. Module best state updated.\n",
      "\n",
      "Epoch 00009: cpa_metric reached. Module best state updated.\n"
     ]
    },
    {
     "name": "stdout",
     "output_type": "stream",
     "text": [
      "\n",
      "disnt_basal = 1.692965367965368\n",
      "disnt_after = 1.7727272727272727\n",
      "val_r2_mean = 0.3614012598991394\n",
      "val_r2_var = -2.6723037560780845\n"
     ]
    },
    {
     "name": "stderr",
     "output_type": "stream",
     "text": [
      "\n",
      "Epoch 00014: cpa_metric reached. Module best state updated.\n",
      "\n",
      "Epoch 00019: cpa_metric reached. Module best state updated.\n"
     ]
    },
    {
     "name": "stdout",
     "output_type": "stream",
     "text": [
      "\n",
      "disnt_basal = 1.6858585858585857\n",
      "disnt_after = 1.7727272727272727\n",
      "val_r2_mean = 0.7982175350189209\n",
      "val_r2_var = -2.674081643422445\n"
     ]
    },
    {
     "name": "stderr",
     "output_type": "stream",
     "text": [
      "\n",
      "Epoch 00024: cpa_metric reached. Module best state updated.\n",
      "\n",
      "Epoch 00029: cpa_metric reached. Module best state updated.\n"
     ]
    },
    {
     "name": "stdout",
     "output_type": "stream",
     "text": [
      "\n",
      "disnt_basal = 1.6983953823953826\n",
      "disnt_after = 1.7535285285285285\n",
      "val_r2_mean = 0.9206221302350363\n",
      "val_r2_var = -2.6612748305002847\n"
     ]
    },
    {
     "name": "stderr",
     "output_type": "stream",
     "text": [
      "\n",
      "Epoch 00039: cpa_metric reached. Module best state updated.\n"
     ]
    },
    {
     "name": "stdout",
     "output_type": "stream",
     "text": [
      "\n",
      "disnt_basal = 1.6958730158730158\n",
      "disnt_after = 1.7252252252252251\n",
      "val_r2_mean = 0.9358939925829569\n",
      "val_r2_var = -2.6237972577412925\n"
     ]
    },
    {
     "name": "stderr",
     "output_type": "stream",
     "text": [
      "\n",
      "Epoch 00044: cpa_metric reached. Module best state updated.\n"
     ]
    },
    {
     "name": "stdout",
     "output_type": "stream",
     "text": [
      "\n",
      "disnt_basal = 1.6902958152958152\n",
      "disnt_after = 1.7252252252252251\n",
      "val_r2_mean = 0.9437996745109558\n",
      "val_r2_var = -2.581672509511312\n"
     ]
    },
    {
     "name": "stderr",
     "output_type": "stream",
     "text": [
      "\n",
      "Epoch 00054: cpa_metric reached. Module best state updated.\n",
      "\n",
      "Epoch 00059: cpa_metric reached. Module best state updated.\n"
     ]
    },
    {
     "name": "stdout",
     "output_type": "stream",
     "text": [
      "\n",
      "disnt_basal = 1.6884559884559884\n",
      "disnt_after = 1.7252252252252251\n",
      "val_r2_mean = 0.94074547290802\n",
      "val_r2_var = -2.503347476323446\n"
     ]
    },
    {
     "name": "stderr",
     "output_type": "stream",
     "text": [
      "\n",
      "Epoch 00064: cpa_metric reached. Module best state updated.\n",
      "\n",
      "Epoch 00069: cpa_metric reached. Module best state updated.\n"
     ]
    },
    {
     "name": "stdout",
     "output_type": "stream",
     "text": [
      "\n",
      "disnt_basal = 1.690079365079365\n",
      "disnt_after = 1.7252252252252251\n",
      "val_r2_mean = 0.943392833073934\n",
      "val_r2_var = -2.4379239877065024\n"
     ]
    },
    {
     "name": "stderr",
     "output_type": "stream",
     "text": [
      "\n",
      "Epoch 00074: cpa_metric reached. Module best state updated.\n",
      "\n",
      "Epoch 00079: cpa_metric reached. Module best state updated.\n"
     ]
    },
    {
     "name": "stdout",
     "output_type": "stream",
     "text": [
      "\n",
      "disnt_basal = 1.692965367965368\n",
      "disnt_after = 1.7252252252252251\n",
      "val_r2_mean = 0.9436059792836508\n",
      "val_r2_var = -2.3871254126230874\n"
     ]
    },
    {
     "name": "stderr",
     "output_type": "stream",
     "text": [
      "\n",
      "Epoch 00084: cpa_metric reached. Module best state updated.\n",
      "\n",
      "Epoch 00089: cpa_metric reached. Module best state updated.\n"
     ]
    },
    {
     "name": "stdout",
     "output_type": "stream",
     "text": [
      "\n",
      "disnt_basal = 1.7011202761202762\n",
      "disnt_after = 1.7254231504231505\n",
      "val_r2_mean = 0.9396191239356995\n",
      "val_r2_var = -2.3239022890726724\n"
     ]
    },
    {
     "name": "stderr",
     "output_type": "stream",
     "text": [
      "\n",
      "Epoch 00094: cpa_metric reached. Module best state updated.\n",
      "\n",
      "Epoch 00099: cpa_metric reached. Module best state updated.\n"
     ]
    },
    {
     "name": "stdout",
     "output_type": "stream",
     "text": [
      "\n",
      "disnt_basal = 1.5094290784290785\n",
      "disnt_after = 1.7252252252252251\n",
      "val_r2_mean = 0.9363454778989156\n",
      "val_r2_var = -2.2833077112833657\n",
      "\n",
      "disnt_basal = 1.6963924963924963\n",
      "disnt_after = 1.7361111111111112\n",
      "val_r2_mean = 0.9404150446256002\n",
      "val_r2_var = -2.2283284664154053\n",
      "\n",
      "disnt_basal = 1.697150072150072\n",
      "disnt_after = 1.7291837291837293\n",
      "val_r2_mean = 0.933383027712504\n",
      "val_r2_var = -2.1212982336680093\n"
     ]
    },
    {
     "name": "stderr",
     "output_type": "stream",
     "text": [
      "100%|██████████| 1/1 [00:00<00:00, 20.75it/s]\n"
     ]
    }
   ],
   "source": [
    "# - set the train and validation for cpa\n",
    "# -- get total obs_names of the pert\n",
    "adata_train_new = adata_train[~((adata_train.obs[\"cell_type\"] == cell_line_bulk) &\n",
    "                    (adata_train.obs[\"condition\"] == \"stimulated\"))].copy()\n",
    "# obs_df_split = adata_train_new.obs\n",
    "obs_df_sub_idx = np.array(adata_train_new.obs.index)\n",
    "\n",
    "np.random.seed(2024)\n",
    "np.random.shuffle(obs_df_sub_idx)\n",
    "\n",
    "# -- data split\n",
    "split_point_1 = int(len(obs_df_sub_idx) * 0.9)\n",
    "split_point_2 = int(len(obs_df_sub_idx) * (0.9+0.1))\n",
    "train = obs_df_sub_idx[:split_point_1]\n",
    "valid = obs_df_sub_idx[split_point_1:split_point_2]\n",
    "\n",
    "\n",
    "adata_train.obs['split_key'] = 'ood'\n",
    "\n",
    "# -- set the test row\n",
    "adata_train.obs.loc[train,'split_key'] = 'train'\n",
    "adata_train.obs.loc[valid,'split_key'] = 'valid'\n",
    "\n",
    "# - initial the model and training   \n",
    "model = cpa.CPA(adata=adata_train, \n",
    "                split_key='split_key',\n",
    "                train_split='train',\n",
    "                valid_split='valid',\n",
    "                test_split='ood',\n",
    "                **model_params,\n",
    "            )\n",
    "\n",
    "model.train(max_epochs=2000,\n",
    "            use_gpu=True, \n",
    "            batch_size=500,\n",
    "            plan_kwargs=trainer_params,\n",
    "            early_stopping_patience=5,\n",
    "            check_val_every_n_epoch=5,\n",
    "            # save_path='../../datasets/',\n",
    "            progress_bar_refresh_rate = 0\n",
    "        )\n",
    "\n",
    "# - predict result\n",
    "model.predict(adata_train, batch_size=2048)\n",
    "\n",
    "# - get the pred data\n",
    "cat = cell_line_bulk + '_' + 'stimulated'\n",
    "cat_adata = adata_train[adata_train.obs['cov_cond'] == cat].copy()\n",
    "x_pred = cat_adata.obsm['CPA_pred']\n",
    "x_pred = np.log1p(x_pred)"
   ]
  },
  {
   "cell_type": "code",
   "execution_count": null,
   "metadata": {},
   "outputs": [
    {
     "data": {
      "text/plain": [
       "array([[0.59670675, 0.57625264, 0.918021  , ..., 1.582566  , 1.4443177 ,\n",
       "        0.34309846],\n",
       "       [0.7520548 , 0.5868137 , 1.0911624 , ..., 1.6446931 , 1.3728073 ,\n",
       "        0.3184219 ],\n",
       "       [0.66804856, 0.58108974, 0.913697  , ..., 1.6078756 , 1.4655265 ,\n",
       "        0.32640746],\n",
       "       ...,\n",
       "       [0.6869034 , 0.546764  , 1.0182772 , ..., 1.6756613 , 1.4602138 ,\n",
       "        0.35031497],\n",
       "       [0.6638175 , 0.57233644, 1.0785822 , ..., 1.6767553 , 1.427946  ,\n",
       "        0.30222225],\n",
       "       [0.6788921 , 0.57769287, 0.99439704, ..., 1.9601779 , 1.5734761 ,\n",
       "        0.4031645 ]], dtype=float32)"
      ]
     },
     "execution_count": 25,
     "metadata": {},
     "output_type": "execute_result"
    }
   ],
   "source": [
    "x_pred"
   ]
  },
  {
   "cell_type": "code",
   "execution_count": null,
   "metadata": {},
   "outputs": [
    {
     "data": {
      "text/plain": [
       "ArrayView([[0.        , 0.7986983 , 0.7986983 , ..., 0.7986983 ,\n",
       "            0.7986983 , 0.7986983 ],\n",
       "           [0.5719357 , 0.9334965 , 2.072573  , ..., 1.9704001 ,\n",
       "            0.5719357 , 0.        ],\n",
       "           [0.        , 0.8364108 , 2.1802375 , ..., 1.2854061 ,\n",
       "            1.0858992 , 0.50321716],\n",
       "           ...,\n",
       "           [0.        , 1.5602019 , 1.7939309 , ..., 1.2546245 ,\n",
       "            0.        , 0.        ],\n",
       "           [0.        , 1.1712079 , 1.1712079 , ..., 2.038315  ,\n",
       "            0.90983987, 0.        ],\n",
       "           [0.9632273 , 0.59336513, 1.7682205 , ..., 1.4446287 ,\n",
       "            1.7682205 , 0.59336513]], dtype=float32)"
      ]
     },
     "execution_count": 26,
     "metadata": {},
     "output_type": "execute_result"
    }
   ],
   "source": [
    "adata_rna_common.X"
   ]
  },
  {
   "cell_type": "code",
   "execution_count": null,
   "metadata": {},
   "outputs": [],
   "source": [
    "torch.cuda.empty_cache()"
   ]
  },
  {
   "cell_type": "code",
   "execution_count": null,
   "metadata": {},
   "outputs": [],
   "source": []
  },
  {
   "cell_type": "code",
   "execution_count": null,
   "metadata": {},
   "outputs": [],
   "source": [
    "# ?model.train"
   ]
  },
  {
   "cell_type": "code",
   "execution_count": null,
   "metadata": {},
   "outputs": [],
   "source": [
    "common_idx = [direct_change_dict['gene_list'].index(gene) for i, gene in enumerate(common_var)]"
   ]
  },
  {
   "cell_type": "markdown",
   "metadata": {},
   "source": [
    "# 并行加速搞不通，CPA需要torch，有点复杂"
   ]
  },
  {
   "cell_type": "code",
   "execution_count": null,
   "metadata": {},
   "outputs": [
    {
     "name": "stderr",
     "output_type": "stream",
     "text": [
      "cpa_single_pert:   0%|          | 0/2184 [00:00<?, ?it/s]"
     ]
    },
    {
     "name": "stdout",
     "output_type": "stream",
     "text": [
      "Warning: dosage_key is not set. Setting it to \"1.0\" for all cells\n"
     ]
    },
    {
     "name": "stderr",
     "output_type": "stream",
     "text": [
      "100%|██████████| 1364/1364 [00:00<00:00, 86824.36it/s]\n",
      "100%|██████████| 1364/1364 [00:00<00:00, 1085378.61it/s]\n",
      "An NVIDIA GPU may be present on this machine, but a CUDA-enabled jaxlib is not installed. Falling back to cpu.\n"
     ]
    },
    {
     "name": "stdout",
     "output_type": "stream",
     "text": [
      "\u001b[34mINFO    \u001b[0m Generating sequential column names                                                                        \n",
      "\u001b[34mINFO    \u001b[0m Generating sequential column names                                                                        \n"
     ]
    },
    {
     "name": "stderr",
     "output_type": "stream",
     "text": [
      "Global seed set to 6977\n",
      "100%|██████████| 2/2 [00:00<00:00, 950.98it/s]\n",
      "GPU available: True (cuda), used: True\n",
      "TPU available: False, using: 0 TPU cores\n",
      "IPU available: False, using: 0 IPUs\n",
      "HPU available: False, using: 0 HPUs\n",
      "You are using a CUDA device ('NVIDIA GeForce RTX 3090') that has Tensor Cores. To properly utilize them, you should set `torch.set_float32_matmul_precision('medium' | 'high')` which will trade-off precision for performance. For more details, read https://pytorch.org/docs/stable/generated/torch.set_float32_matmul_precision.html#torch.set_float32_matmul_precision\n",
      "LOCAL_RANK: 0 - CUDA_VISIBLE_DEVICES: [0,1,2,3]\n",
      "\n",
      "Epoch 00004: cpa_metric reached. Module best state updated.\n",
      "\n",
      "Epoch 00009: cpa_metric reached. Module best state updated.\n"
     ]
    },
    {
     "name": "stdout",
     "output_type": "stream",
     "text": [
      "\n",
      "disnt_basal = 1.692965367965368\n",
      "disnt_after = 1.7727272727272727\n",
      "val_r2_mean = 0.3614012598991394\n",
      "val_r2_var = -2.6723037560780845\n"
     ]
    },
    {
     "name": "stderr",
     "output_type": "stream",
     "text": [
      "\n",
      "Epoch 00014: cpa_metric reached. Module best state updated.\n",
      "\n",
      "Epoch 00019: cpa_metric reached. Module best state updated.\n"
     ]
    },
    {
     "name": "stdout",
     "output_type": "stream",
     "text": [
      "\n",
      "disnt_basal = 1.6858585858585857\n",
      "disnt_after = 1.7727272727272727\n",
      "val_r2_mean = 0.7982175350189209\n",
      "val_r2_var = -2.674081643422445\n"
     ]
    },
    {
     "name": "stderr",
     "output_type": "stream",
     "text": [
      "\n",
      "Epoch 00024: cpa_metric reached. Module best state updated.\n",
      "\n",
      "Epoch 00029: cpa_metric reached. Module best state updated.\n"
     ]
    },
    {
     "name": "stdout",
     "output_type": "stream",
     "text": [
      "\n",
      "disnt_basal = 1.6983953823953826\n",
      "disnt_after = 1.7535285285285285\n",
      "val_r2_mean = 0.9206221302350363\n",
      "val_r2_var = -2.6612748305002847\n"
     ]
    },
    {
     "name": "stderr",
     "output_type": "stream",
     "text": [
      "\n",
      "Epoch 00039: cpa_metric reached. Module best state updated.\n"
     ]
    },
    {
     "name": "stdout",
     "output_type": "stream",
     "text": [
      "\n",
      "disnt_basal = 1.6958730158730158\n",
      "disnt_after = 1.7252252252252251\n",
      "val_r2_mean = 0.9358939925829569\n",
      "val_r2_var = -2.6237972577412925\n"
     ]
    },
    {
     "name": "stderr",
     "output_type": "stream",
     "text": [
      "\n",
      "Epoch 00044: cpa_metric reached. Module best state updated.\n"
     ]
    },
    {
     "name": "stdout",
     "output_type": "stream",
     "text": [
      "\n",
      "disnt_basal = 1.6902958152958152\n",
      "disnt_after = 1.7252252252252251\n",
      "val_r2_mean = 0.9437996745109558\n",
      "val_r2_var = -2.581672509511312\n"
     ]
    },
    {
     "name": "stderr",
     "output_type": "stream",
     "text": [
      "\n",
      "Epoch 00054: cpa_metric reached. Module best state updated.\n",
      "\n",
      "Epoch 00059: cpa_metric reached. Module best state updated.\n"
     ]
    },
    {
     "name": "stdout",
     "output_type": "stream",
     "text": [
      "\n",
      "disnt_basal = 1.6884559884559884\n",
      "disnt_after = 1.7252252252252251\n",
      "val_r2_mean = 0.94074547290802\n",
      "val_r2_var = -2.503347476323446\n"
     ]
    },
    {
     "name": "stderr",
     "output_type": "stream",
     "text": [
      "\n",
      "Epoch 00064: cpa_metric reached. Module best state updated.\n",
      "\n",
      "Epoch 00069: cpa_metric reached. Module best state updated.\n"
     ]
    },
    {
     "name": "stdout",
     "output_type": "stream",
     "text": [
      "\n",
      "disnt_basal = 1.690079365079365\n",
      "disnt_after = 1.7252252252252251\n",
      "val_r2_mean = 0.943392833073934\n",
      "val_r2_var = -2.4379239877065024\n"
     ]
    },
    {
     "name": "stderr",
     "output_type": "stream",
     "text": [
      "\n",
      "Epoch 00074: cpa_metric reached. Module best state updated.\n",
      "\n",
      "Epoch 00079: cpa_metric reached. Module best state updated.\n"
     ]
    },
    {
     "name": "stdout",
     "output_type": "stream",
     "text": [
      "\n",
      "disnt_basal = 1.692965367965368\n",
      "disnt_after = 1.7252252252252251\n",
      "val_r2_mean = 0.9436059792836508\n",
      "val_r2_var = -2.3871254126230874\n"
     ]
    },
    {
     "name": "stderr",
     "output_type": "stream",
     "text": [
      "\n",
      "Epoch 00084: cpa_metric reached. Module best state updated.\n",
      "\n",
      "Epoch 00089: cpa_metric reached. Module best state updated.\n"
     ]
    },
    {
     "name": "stdout",
     "output_type": "stream",
     "text": [
      "\n",
      "disnt_basal = 1.7011202761202762\n",
      "disnt_after = 1.7254231504231505\n",
      "val_r2_mean = 0.9396191239356995\n",
      "val_r2_var = -2.3239022890726724\n"
     ]
    },
    {
     "name": "stderr",
     "output_type": "stream",
     "text": [
      "\n",
      "Epoch 00094: cpa_metric reached. Module best state updated.\n",
      "\n",
      "Epoch 00099: cpa_metric reached. Module best state updated.\n"
     ]
    },
    {
     "name": "stdout",
     "output_type": "stream",
     "text": [
      "\n",
      "disnt_basal = 1.5094290784290785\n",
      "disnt_after = 1.7252252252252251\n",
      "val_r2_mean = 0.9363454778989156\n",
      "val_r2_var = -2.2833077112833657\n",
      "\n",
      "disnt_basal = 1.6963924963924963\n",
      "disnt_after = 1.7361111111111112\n",
      "val_r2_mean = 0.9404150446256002\n",
      "val_r2_var = -2.2283284664154053\n",
      "\n",
      "disnt_basal = 1.697150072150072\n",
      "disnt_after = 1.7291837291837293\n",
      "val_r2_mean = 0.933383027712504\n",
      "val_r2_var = -2.1212982336680093\n"
     ]
    },
    {
     "name": "stderr",
     "output_type": "stream",
     "text": [
      "100%|██████████| 1/1 [00:00<00:00, 28.24it/s]\n",
      "cpa_single_pert:   0%|          | 1/2184 [00:20<12:31:30, 20.66s/it]"
     ]
    },
    {
     "name": "stdout",
     "output_type": "stream",
     "text": [
      "Warning: dosage_key is not set. Setting it to \"1.0\" for all cells\n"
     ]
    },
    {
     "name": "stderr",
     "output_type": "stream",
     "text": [
      "100%|██████████| 1470/1470 [00:00<00:00, 67029.34it/s]\n",
      "100%|██████████| 1470/1470 [00:00<00:00, 853610.26it/s]"
     ]
    },
    {
     "name": "stdout",
     "output_type": "stream",
     "text": [
      "\u001b[34mINFO    \u001b[0m Generating sequential column names                                                                        \n",
      "\u001b[34mINFO    \u001b[0m Generating sequential column names                                                                        \n"
     ]
    },
    {
     "name": "stderr",
     "output_type": "stream",
     "text": [
      "\n",
      "Global seed set to 6977\n",
      "100%|██████████| 2/2 [00:00<00:00, 1022.63it/s]\n",
      "GPU available: True (cuda), used: True\n",
      "TPU available: False, using: 0 TPU cores\n",
      "IPU available: False, using: 0 IPUs\n",
      "HPU available: False, using: 0 HPUs\n",
      "You are using a CUDA device ('NVIDIA GeForce RTX 3090') that has Tensor Cores. To properly utilize them, you should set `torch.set_float32_matmul_precision('medium' | 'high')` which will trade-off precision for performance. For more details, read https://pytorch.org/docs/stable/generated/torch.set_float32_matmul_precision.html#torch.set_float32_matmul_precision\n",
      "LOCAL_RANK: 0 - CUDA_VISIBLE_DEVICES: [0,1,2,3]\n",
      "\n",
      "Epoch 00004: cpa_metric reached. Module best state updated.\n",
      "\n",
      "Epoch 00009: cpa_metric reached. Module best state updated.\n"
     ]
    },
    {
     "name": "stdout",
     "output_type": "stream",
     "text": [
      "\n",
      "disnt_basal = 1.6813796296296297\n",
      "disnt_after = 1.8574074074074074\n",
      "val_r2_mean = 0.3187953233718872\n",
      "val_r2_var = -2.5854386488596597\n"
     ]
    },
    {
     "name": "stderr",
     "output_type": "stream",
     "text": [
      "\n",
      "Epoch 00014: cpa_metric reached. Module best state updated.\n",
      "\n",
      "Epoch 00019: cpa_metric reached. Module best state updated.\n"
     ]
    },
    {
     "name": "stdout",
     "output_type": "stream",
     "text": [
      "\n",
      "disnt_basal = 1.6801574074074075\n",
      "disnt_after = 1.8574074074074074\n",
      "val_r2_mean = 0.7836709022521973\n",
      "val_r2_var = -2.5872008005777993\n"
     ]
    },
    {
     "name": "stderr",
     "output_type": "stream",
     "text": [
      "\n",
      "Epoch 00024: cpa_metric reached. Module best state updated.\n",
      "\n",
      "Epoch 00029: cpa_metric reached. Module best state updated.\n"
     ]
    },
    {
     "name": "stdout",
     "output_type": "stream",
     "text": [
      "\n",
      "disnt_basal = 1.6909215797430084\n",
      "disnt_after = 1.8556712962962965\n",
      "val_r2_mean = 0.9320425391197205\n",
      "val_r2_var = -2.5695308844248452\n"
     ]
    },
    {
     "name": "stderr",
     "output_type": "stream",
     "text": [
      "\n",
      "Epoch 00034: cpa_metric reached. Module best state updated.\n",
      "\n",
      "Epoch 00039: cpa_metric reached. Module best state updated.\n"
     ]
    },
    {
     "name": "stdout",
     "output_type": "stream",
     "text": [
      "\n",
      "disnt_basal = 1.68944992441421\n",
      "disnt_after = 1.8416666666666668\n",
      "val_r2_mean = 0.9443625807762146\n",
      "val_r2_var = -2.5329365730285645\n"
     ]
    },
    {
     "name": "stderr",
     "output_type": "stream",
     "text": [
      "\n",
      "Epoch 00044: cpa_metric reached. Module best state updated.\n",
      "\n",
      "Epoch 00049: cpa_metric reached. Module best state updated.\n"
     ]
    },
    {
     "name": "stdout",
     "output_type": "stream",
     "text": [
      "\n",
      "disnt_basal = 1.6856018518518519\n",
      "disnt_after = 1.8365740740740741\n",
      "val_r2_mean = 0.9429282546043396\n",
      "val_r2_var = -2.503542105356852\n"
     ]
    },
    {
     "name": "stderr",
     "output_type": "stream",
     "text": [
      "\n",
      "Epoch 00054: cpa_metric reached. Module best state updated.\n",
      "\n",
      "Epoch 00059: cpa_metric reached. Module best state updated.\n"
     ]
    },
    {
     "name": "stdout",
     "output_type": "stream",
     "text": [
      "\n",
      "disnt_basal = 1.6885\n",
      "disnt_after = 1.836342592592593\n",
      "val_r2_mean = 0.9447444677352905\n",
      "val_r2_var = -2.41489847501119\n"
     ]
    },
    {
     "name": "stderr",
     "output_type": "stream",
     "text": [
      "\n",
      "Epoch 00064: cpa_metric reached. Module best state updated.\n",
      "\n",
      "Epoch 00069: cpa_metric reached. Module best state updated.\n"
     ]
    },
    {
     "name": "stdout",
     "output_type": "stream",
     "text": [
      "\n",
      "disnt_basal = 1.6822962962962964\n",
      "disnt_after = 1.836342592592593\n",
      "val_r2_mean = 0.9443283279736837\n",
      "val_r2_var = -2.335684299468994\n"
     ]
    },
    {
     "name": "stderr",
     "output_type": "stream",
     "text": [
      "\n",
      "Epoch 00074: cpa_metric reached. Module best state updated.\n",
      "\n",
      "Epoch 00079: cpa_metric reached. Module best state updated.\n"
     ]
    },
    {
     "name": "stdout",
     "output_type": "stream",
     "text": [
      "\n",
      "disnt_basal = 1.6827592592592593\n",
      "disnt_after = 1.8365740740740741\n",
      "val_r2_mean = 0.949158251285553\n",
      "val_r2_var = -2.257342576980591\n"
     ]
    },
    {
     "name": "stderr",
     "output_type": "stream",
     "text": [
      "\n",
      "Epoch 00084: cpa_metric reached. Module best state updated.\n",
      "\n",
      "Epoch 00089: cpa_metric reached. Module best state updated.\n"
     ]
    },
    {
     "name": "stdout",
     "output_type": "stream",
     "text": [
      "\n",
      "disnt_basal = 1.6853981481481481\n",
      "disnt_after = 1.8365740740740741\n",
      "val_r2_mean = 0.9466696381568909\n",
      "val_r2_var = -2.192651907602946\n"
     ]
    },
    {
     "name": "stderr",
     "output_type": "stream",
     "text": [
      "\n",
      "Epoch 00094: cpa_metric reached. Module best state updated.\n",
      "\n",
      "Epoch 00099: cpa_metric reached. Module best state updated.\n"
     ]
    },
    {
     "name": "stdout",
     "output_type": "stream",
     "text": [
      "\n",
      "disnt_basal = 1.6900234315948601\n",
      "disnt_after = 1.8368055555555558\n",
      "val_r2_mean = 0.9545074303944906\n",
      "val_r2_var = -2.139136791229248\n"
     ]
    },
    {
     "name": "stderr",
     "output_type": "stream",
     "text": [
      "\n",
      "Epoch 00104: cpa_metric reached. Module best state updated.\n",
      "\n",
      "Epoch 00109: cpa_metric reached. Module best state updated.\n"
     ]
    },
    {
     "name": "stdout",
     "output_type": "stream",
     "text": [
      "\n",
      "disnt_basal = 1.5248860544217688\n",
      "disnt_after = 1.837037037037037\n",
      "val_r2_mean = 0.9515902002652487\n",
      "val_r2_var = -2.0765206813812256\n",
      "\n",
      "disnt_basal = 1.6828156651549508\n",
      "disnt_after = 1.8483796296296298\n",
      "val_r2_mean = 0.9438965320587158\n",
      "val_r2_var = -1.9478801091512044\n",
      "\n",
      "disnt_basal = 1.6793570483749054\n",
      "disnt_after = 1.8473379629629632\n",
      "val_r2_mean = 0.9525395234425863\n",
      "val_r2_var = -1.8502254486083984\n"
     ]
    },
    {
     "name": "stderr",
     "output_type": "stream",
     "text": [
      "100%|██████████| 1/1 [00:00<00:00, 23.48it/s]\n",
      "cpa_single_pert:   0%|          | 2/2184 [00:35<10:22:02, 17.10s/it]"
     ]
    },
    {
     "name": "stdout",
     "output_type": "stream",
     "text": [
      "Warning: dosage_key is not set. Setting it to \"1.0\" for all cells\n"
     ]
    },
    {
     "name": "stderr",
     "output_type": "stream",
     "text": [
      "100%|██████████| 1488/1488 [00:00<00:00, 89263.49it/s]\n",
      "100%|██████████| 1488/1488 [00:00<00:00, 1046290.75it/s]"
     ]
    },
    {
     "name": "stdout",
     "output_type": "stream",
     "text": [
      "\u001b[34mINFO    \u001b[0m Generating sequential column names                                                                        \n",
      "\u001b[34mINFO    \u001b[0m Generating sequential column names                                                                        \n"
     ]
    },
    {
     "name": "stderr",
     "output_type": "stream",
     "text": [
      "\n",
      "Global seed set to 6977\n",
      "100%|██████████| 2/2 [00:00<00:00, 683.50it/s]\n",
      "GPU available: True (cuda), used: True\n",
      "TPU available: False, using: 0 TPU cores\n",
      "IPU available: False, using: 0 IPUs\n",
      "HPU available: False, using: 0 HPUs\n",
      "You are using a CUDA device ('NVIDIA GeForce RTX 3090') that has Tensor Cores. To properly utilize them, you should set `torch.set_float32_matmul_precision('medium' | 'high')` which will trade-off precision for performance. For more details, read https://pytorch.org/docs/stable/generated/torch.set_float32_matmul_precision.html#torch.set_float32_matmul_precision\n",
      "LOCAL_RANK: 0 - CUDA_VISIBLE_DEVICES: [0,1,2,3]\n",
      "\n",
      "Epoch 00004: cpa_metric reached. Module best state updated.\n",
      "\n",
      "Epoch 00009: cpa_metric reached. Module best state updated.\n"
     ]
    },
    {
     "name": "stdout",
     "output_type": "stream",
     "text": [
      "\n",
      "disnt_basal = 1.6477777777777778\n",
      "disnt_after = 1.8626666666666667\n",
      "val_r2_mean = 0.3384040395418803\n",
      "val_r2_var = -2.5896519819895425\n"
     ]
    },
    {
     "name": "stderr",
     "output_type": "stream",
     "text": [
      "\n",
      "Epoch 00014: cpa_metric reached. Module best state updated.\n",
      "\n",
      "Epoch 00019: cpa_metric reached. Module best state updated.\n"
     ]
    },
    {
     "name": "stdout",
     "output_type": "stream",
     "text": [
      "\n",
      "disnt_basal = 1.6471111111111112\n",
      "disnt_after = 1.8626666666666667\n",
      "val_r2_mean = 0.7986541589101156\n",
      "val_r2_var = -2.5912588437398276\n"
     ]
    },
    {
     "name": "stderr",
     "output_type": "stream",
     "text": [
      "\n",
      "Epoch 00024: cpa_metric reached. Module best state updated.\n",
      "\n",
      "Epoch 00029: cpa_metric reached. Module best state updated.\n"
     ]
    },
    {
     "name": "stdout",
     "output_type": "stream",
     "text": [
      "\n",
      "disnt_basal = 1.6586666666666665\n",
      "disnt_after = 1.8620770975056689\n",
      "val_r2_mean = 0.9225162665049235\n",
      "val_r2_var = -2.5755370457967124\n"
     ]
    },
    {
     "name": "stderr",
     "output_type": "stream",
     "text": [
      "\n",
      "Epoch 00034: cpa_metric reached. Module best state updated.\n",
      "\n",
      "Epoch 00039: cpa_metric reached. Module best state updated.\n"
     ]
    },
    {
     "name": "stdout",
     "output_type": "stream",
     "text": [
      "\n",
      "disnt_basal = 1.6506928104575163\n",
      "disnt_after = 1.8458049886621315\n",
      "val_r2_mean = 0.9421955148379008\n",
      "val_r2_var = -2.538591464360555\n"
     ]
    },
    {
     "name": "stderr",
     "output_type": "stream",
     "text": [
      "\n",
      "Epoch 00044: cpa_metric reached. Module best state updated.\n",
      "\n",
      "Epoch 00049: cpa_metric reached. Module best state updated.\n"
     ]
    },
    {
     "name": "stdout",
     "output_type": "stream",
     "text": [
      "\n",
      "disnt_basal = 1.6513333333333333\n",
      "disnt_after = 1.8434467120181408\n",
      "val_r2_mean = 0.9326207041740417\n",
      "val_r2_var = -2.473722060521444\n"
     ]
    },
    {
     "name": "stderr",
     "output_type": "stream",
     "text": [
      "\n",
      "Epoch 00054: cpa_metric reached. Module best state updated.\n",
      "\n",
      "Epoch 00059: cpa_metric reached. Module best state updated.\n"
     ]
    },
    {
     "name": "stdout",
     "output_type": "stream",
     "text": [
      "\n",
      "disnt_basal = 1.6557777777777778\n",
      "disnt_after = 1.8430929705215422\n",
      "val_r2_mean = 0.9393472274144491\n",
      "val_r2_var = -2.3826725482940674\n"
     ]
    },
    {
     "name": "stderr",
     "output_type": "stream",
     "text": [
      "\n",
      "Epoch 00064: cpa_metric reached. Module best state updated.\n",
      "\n",
      "Epoch 00069: cpa_metric reached. Module best state updated.\n"
     ]
    },
    {
     "name": "stdout",
     "output_type": "stream",
     "text": [
      "\n",
      "disnt_basal = 1.6562222222222223\n",
      "disnt_after = 1.8435646258503402\n",
      "val_r2_mean = 0.9471829930941263\n",
      "val_r2_var = -2.313684860865275\n"
     ]
    },
    {
     "name": "stderr",
     "output_type": "stream",
     "text": [
      "\n",
      "Epoch 00074: cpa_metric reached. Module best state updated.\n",
      "\n",
      "Epoch 00079: cpa_metric reached. Module best state updated.\n"
     ]
    },
    {
     "name": "stdout",
     "output_type": "stream",
     "text": [
      "\n",
      "disnt_basal = 1.6604444444444444\n",
      "disnt_after = 1.843918367346939\n",
      "val_r2_mean = 0.9383940100669861\n",
      "val_r2_var = -2.2210141817728677\n"
     ]
    },
    {
     "name": "stderr",
     "output_type": "stream",
     "text": [
      "\n",
      "Epoch 00084: cpa_metric reached. Module best state updated.\n",
      "\n",
      "Epoch 00089: cpa_metric reached. Module best state updated.\n"
     ]
    },
    {
     "name": "stdout",
     "output_type": "stream",
     "text": [
      "\n",
      "disnt_basal = 1.6622222222222223\n",
      "disnt_after = 1.8432108843537416\n",
      "val_r2_mean = 0.9576320648193359\n",
      "val_r2_var = -2.1928062438964844\n"
     ]
    },
    {
     "name": "stderr",
     "output_type": "stream",
     "text": [
      "\n",
      "Epoch 00094: cpa_metric reached. Module best state updated.\n",
      "\n",
      "Epoch 00099: cpa_metric reached. Module best state updated.\n"
     ]
    },
    {
     "name": "stdout",
     "output_type": "stream",
     "text": [
      "\n",
      "disnt_basal = 1.65956462585034\n",
      "disnt_after = 1.843328798185941\n",
      "val_r2_mean = 0.9520739714304606\n",
      "val_r2_var = -2.057819048563639\n"
     ]
    },
    {
     "name": "stderr",
     "output_type": "stream",
     "text": [
      "\n",
      "Epoch 00104: cpa_metric reached. Module best state updated.\n"
     ]
    },
    {
     "name": "stdout",
     "output_type": "stream",
     "text": [
      "\n",
      "disnt_basal = 1.6408197945845004\n",
      "disnt_after = 1.8518185941043086\n",
      "val_r2_mean = 0.9439069231351217\n",
      "val_r2_var = -2.0358313719431558\n",
      "\n",
      "disnt_basal = 1.6558020541549954\n",
      "disnt_after = 1.8493424036281179\n",
      "val_r2_mean = 0.9403394858042399\n",
      "val_r2_var = -1.8776757717132568\n",
      "\n",
      "disnt_basal = 1.6539717220221422\n",
      "disnt_after = 1.8486349206349206\n",
      "val_r2_mean = 0.9522263209025065\n",
      "val_r2_var = -1.806034803390503\n"
     ]
    },
    {
     "name": "stderr",
     "output_type": "stream",
     "text": [
      "100%|██████████| 1/1 [00:00<00:00, 18.30it/s]\n",
      "cpa_single_pert:   0%|          | 3/2184 [00:46<8:49:34, 14.57s/it] "
     ]
    },
    {
     "name": "stdout",
     "output_type": "stream",
     "text": [
      "Warning: dosage_key is not set. Setting it to \"1.0\" for all cells\n"
     ]
    },
    {
     "name": "stderr",
     "output_type": "stream",
     "text": [
      "100%|██████████| 1402/1402 [00:00<00:00, 65019.34it/s]\n",
      "100%|██████████| 1402/1402 [00:00<00:00, 769586.99it/s]"
     ]
    },
    {
     "name": "stdout",
     "output_type": "stream",
     "text": [
      "\u001b[34mINFO    \u001b[0m Generating sequential column names                                                                        \n",
      "\u001b[34mINFO    \u001b[0m Generating sequential column names                                                                        \n"
     ]
    },
    {
     "name": "stderr",
     "output_type": "stream",
     "text": [
      "\n",
      "Global seed set to 6977\n",
      "100%|██████████| 2/2 [00:00<00:00, 907.07it/s]\n",
      "GPU available: True (cuda), used: True\n",
      "TPU available: False, using: 0 TPU cores\n",
      "IPU available: False, using: 0 IPUs\n",
      "HPU available: False, using: 0 HPUs\n",
      "You are using a CUDA device ('NVIDIA GeForce RTX 3090') that has Tensor Cores. To properly utilize them, you should set `torch.set_float32_matmul_precision('medium' | 'high')` which will trade-off precision for performance. For more details, read https://pytorch.org/docs/stable/generated/torch.set_float32_matmul_precision.html#torch.set_float32_matmul_precision\n",
      "LOCAL_RANK: 0 - CUDA_VISIBLE_DEVICES: [0,1,2,3]\n",
      "\n",
      "Epoch 00004: cpa_metric reached. Module best state updated.\n",
      "\n",
      "Epoch 00009: cpa_metric reached. Module best state updated.\n"
     ]
    },
    {
     "name": "stdout",
     "output_type": "stream",
     "text": [
      "\n",
      "disnt_basal = 1.670026350461133\n",
      "disnt_after = 1.7968599033816424\n",
      "val_r2_mean = 0.31569822629292804\n",
      "val_r2_var = -2.5409911473592124\n"
     ]
    },
    {
     "name": "stderr",
     "output_type": "stream",
     "text": [
      "\n",
      "Epoch 00014: cpa_metric reached. Module best state updated.\n",
      "\n",
      "Epoch 00019: cpa_metric reached. Module best state updated.\n"
     ]
    },
    {
     "name": "stdout",
     "output_type": "stream",
     "text": [
      "\n",
      "disnt_basal = 1.678425559947299\n",
      "disnt_after = 1.7968599033816424\n",
      "val_r2_mean = 0.7781637112299601\n",
      "val_r2_var = -2.543226639429728\n"
     ]
    },
    {
     "name": "stderr",
     "output_type": "stream",
     "text": [
      "\n",
      "Epoch 00024: cpa_metric reached. Module best state updated.\n",
      "\n",
      "Epoch 00029: cpa_metric reached. Module best state updated.\n"
     ]
    },
    {
     "name": "stdout",
     "output_type": "stream",
     "text": [
      "\n",
      "disnt_basal = 1.6830368906455864\n",
      "disnt_after = 1.7932884748102138\n",
      "val_r2_mean = 0.9114195307095846\n",
      "val_r2_var = -2.5287721951802573\n"
     ]
    },
    {
     "name": "stderr",
     "output_type": "stream",
     "text": [
      "\n",
      "Epoch 00034: cpa_metric reached. Module best state updated.\n",
      "\n",
      "Epoch 00039: cpa_metric reached. Module best state updated.\n"
     ]
    },
    {
     "name": "stdout",
     "output_type": "stream",
     "text": [
      "\n",
      "disnt_basal = 1.6776021080368908\n",
      "disnt_after = 1.772015182884748\n",
      "val_r2_mean = 0.921968142191569\n",
      "val_r2_var = -2.4915614128112793\n"
     ]
    },
    {
     "name": "stderr",
     "output_type": "stream",
     "text": [
      "\n",
      "Epoch 00044: cpa_metric reached. Module best state updated.\n"
     ]
    },
    {
     "name": "stdout",
     "output_type": "stream",
     "text": [
      "\n",
      "disnt_basal = 1.6776679841897233\n",
      "disnt_after = 1.7626984126984127\n",
      "val_r2_mean = 0.9238333503405253\n",
      "val_r2_var = -2.4576502641042075\n"
     ]
    },
    {
     "name": "stderr",
     "output_type": "stream",
     "text": [
      "\n",
      "Epoch 00054: cpa_metric reached. Module best state updated.\n",
      "\n",
      "Epoch 00059: cpa_metric reached. Module best state updated.\n"
     ]
    },
    {
     "name": "stdout",
     "output_type": "stream",
     "text": [
      "\n",
      "disnt_basal = 1.6822793148880106\n",
      "disnt_after = 1.7626984126984127\n",
      "val_r2_mean = 0.9359955986340841\n",
      "val_r2_var = -2.371142864227295\n"
     ]
    },
    {
     "name": "stderr",
     "output_type": "stream",
     "text": [
      "\n",
      "Epoch 00064: cpa_metric reached. Module best state updated.\n",
      "\n",
      "Epoch 00069: cpa_metric reached. Module best state updated.\n"
     ]
    },
    {
     "name": "stdout",
     "output_type": "stream",
     "text": [
      "\n",
      "disnt_basal = 1.6816205533596837\n",
      "disnt_after = 1.7626984126984127\n",
      "val_r2_mean = 0.9375585913658142\n",
      "val_r2_var = -2.3009591897328696\n"
     ]
    },
    {
     "name": "stderr",
     "output_type": "stream",
     "text": [
      "\n",
      "Epoch 00074: cpa_metric reached. Module best state updated.\n"
     ]
    },
    {
     "name": "stdout",
     "output_type": "stream",
     "text": [
      "\n",
      "disnt_basal = 1.6814119455423802\n",
      "disnt_after = 1.7626984126984127\n",
      "val_r2_mean = 0.932242751121521\n",
      "val_r2_var = -2.2698351542154946\n"
     ]
    },
    {
     "name": "stderr",
     "output_type": "stream",
     "text": [
      "\n",
      "Epoch 00084: cpa_metric reached. Module best state updated.\n",
      "\n",
      "Epoch 00089: cpa_metric reached. Module best state updated.\n"
     ]
    },
    {
     "name": "stdout",
     "output_type": "stream",
     "text": [
      "\n",
      "disnt_basal = 1.684287193138125\n",
      "disnt_after = 1.7626984126984127\n",
      "val_r2_mean = 0.944982131322225\n",
      "val_r2_var = -2.222517728805542\n"
     ]
    },
    {
     "name": "stderr",
     "output_type": "stream",
     "text": [
      "\n",
      "Epoch 00094: cpa_metric reached. Module best state updated.\n"
     ]
    },
    {
     "name": "stdout",
     "output_type": "stream",
     "text": [
      "\n",
      "disnt_basal = 1.662238399971319\n",
      "disnt_after = 1.7699965493443752\n",
      "val_r2_mean = 0.9409712354342142\n",
      "val_r2_var = -2.2184998989105225\n"
     ]
    },
    {
     "name": "stderr",
     "output_type": "stream",
     "text": [
      "\n",
      "Epoch 00109: cpa_metric reached. Module best state updated.\n"
     ]
    },
    {
     "name": "stdout",
     "output_type": "stream",
     "text": [
      "\n",
      "disnt_basal = 1.6856253305011069\n",
      "disnt_after = 1.7790027605244996\n",
      "val_r2_mean = 0.946609099706014\n",
      "val_r2_var = -2.0826830863952637\n"
     ]
    },
    {
     "name": "stderr",
     "output_type": "stream",
     "text": [
      "\n",
      "Epoch 00114: cpa_metric reached. Module best state updated.\n",
      "\n",
      "Epoch 00119: cpa_metric reached. Module best state updated.\n"
     ]
    },
    {
     "name": "stdout",
     "output_type": "stream",
     "text": [
      "\n",
      "disnt_basal = 1.6794645657999696\n",
      "disnt_after = 1.7692201518288475\n",
      "val_r2_mean = 0.9421578248341879\n",
      "val_r2_var = -1.9916698932647705\n"
     ]
    },
    {
     "name": "stderr",
     "output_type": "stream",
     "text": [
      "\n",
      "Epoch 00124: cpa_metric reached. Module best state updated.\n",
      "\n",
      "Epoch 00129: cpa_metric reached. Module best state updated.\n"
     ]
    },
    {
     "name": "stdout",
     "output_type": "stream",
     "text": [
      "\n",
      "disnt_basal = 1.640609063124591\n",
      "disnt_after = 1.76735679779158\n",
      "val_r2_mean = 0.9432130853335062\n",
      "val_r2_var = -1.91215976079305\n"
     ]
    },
    {
     "name": "stderr",
     "output_type": "stream",
     "text": [
      "\n",
      "Epoch 00134: cpa_metric reached. Module best state updated.\n",
      "\n",
      "Epoch 00139: cpa_metric reached. Module best state updated.\n"
     ]
    },
    {
     "name": "stdout",
     "output_type": "stream",
     "text": [
      "\n",
      "disnt_basal = 1.4313635467362176\n",
      "disnt_after = 1.764095928226363\n",
      "val_r2_mean = 0.9477550188700358\n",
      "val_r2_var = -1.8773539066314697\n"
     ]
    },
    {
     "name": "stderr",
     "output_type": "stream",
     "text": [
      "\n",
      "Epoch 00144: cpa_metric reached. Module best state updated.\n"
     ]
    },
    {
     "name": "stdout",
     "output_type": "stream",
     "text": [
      "\n",
      "disnt_basal = 1.6065638640172804\n",
      "disnt_after = 1.7628536922015183\n",
      "val_r2_mean = 0.9475875298182169\n",
      "val_r2_var = -1.8754913806915283\n",
      "\n",
      "disnt_basal = 1.6605460102354512\n",
      "disnt_after = 1.7626984126984127\n",
      "val_r2_mean = 0.94826207558314\n",
      "val_r2_var = -1.713260014851888\n",
      "\n",
      "disnt_basal = 1.5794316277235532\n",
      "disnt_after = 1.762853692201518\n",
      "val_r2_mean = 0.95298304160436\n",
      "val_r2_var = -1.6754644711812336\n"
     ]
    },
    {
     "name": "stderr",
     "output_type": "stream",
     "text": [
      "100%|██████████| 1/1 [00:00<00:00, 31.55it/s]\n",
      "cpa_single_pert:   0%|          | 4/2184 [01:04<9:26:55, 15.60s/it]"
     ]
    },
    {
     "name": "stdout",
     "output_type": "stream",
     "text": [
      "Warning: dosage_key is not set. Setting it to \"1.0\" for all cells\n"
     ]
    },
    {
     "name": "stderr",
     "output_type": "stream",
     "text": [
      "100%|██████████| 1262/1262 [00:00<00:00, 85225.92it/s]\n",
      "100%|██████████| 1262/1262 [00:00<00:00, 1033830.40it/s]"
     ]
    },
    {
     "name": "stdout",
     "output_type": "stream",
     "text": [
      "\u001b[34mINFO    \u001b[0m Generating sequential column names                                                                        \n",
      "\u001b[34mINFO    \u001b[0m Generating sequential column names                                                                        \n"
     ]
    },
    {
     "name": "stderr",
     "output_type": "stream",
     "text": [
      "\n",
      "Global seed set to 6977\n",
      "100%|██████████| 2/2 [00:00<00:00, 914.89it/s]\n",
      "GPU available: True (cuda), used: True\n",
      "TPU available: False, using: 0 TPU cores\n",
      "IPU available: False, using: 0 IPUs\n",
      "HPU available: False, using: 0 HPUs\n",
      "You are using a CUDA device ('NVIDIA GeForce RTX 3090') that has Tensor Cores. To properly utilize them, you should set `torch.set_float32_matmul_precision('medium' | 'high')` which will trade-off precision for performance. For more details, read https://pytorch.org/docs/stable/generated/torch.set_float32_matmul_precision.html#torch.set_float32_matmul_precision\n",
      "LOCAL_RANK: 0 - CUDA_VISIBLE_DEVICES: [0,1,2,3]\n",
      "\n",
      "Epoch 00004: cpa_metric reached. Module best state updated.\n",
      "\n",
      "Epoch 00009: cpa_metric reached. Module best state updated.\n"
     ]
    },
    {
     "name": "stdout",
     "output_type": "stream",
     "text": [
      "\n",
      "disnt_basal = 1.6317460317460317\n",
      "disnt_after = 1.6317460317460317\n",
      "val_r2_mean = 0.29072050253550213\n",
      "val_r2_var = -2.3359766006469727\n"
     ]
    },
    {
     "name": "stderr",
     "output_type": "stream",
     "text": [
      "\n",
      "Epoch 00014: cpa_metric reached. Module best state updated.\n",
      "\n",
      "Epoch 00019: cpa_metric reached. Module best state updated.\n"
     ]
    },
    {
     "name": "stdout",
     "output_type": "stream",
     "text": [
      "\n",
      "disnt_basal = 1.6317460317460317\n",
      "disnt_after = 1.6317460317460317\n",
      "val_r2_mean = 0.7589184840520223\n",
      "val_r2_var = -2.3367292881011963\n"
     ]
    },
    {
     "name": "stderr",
     "output_type": "stream",
     "text": [
      "\n",
      "Epoch 00024: cpa_metric reached. Module best state updated.\n",
      "\n",
      "Epoch 00029: cpa_metric reached. Module best state updated.\n"
     ]
    },
    {
     "name": "stdout",
     "output_type": "stream",
     "text": [
      "\n",
      "disnt_basal = 1.6245608465608465\n",
      "disnt_after = 1.6307539682539682\n",
      "val_r2_mean = 0.8955092827479044\n",
      "val_r2_var = -2.3194520473480225\n"
     ]
    },
    {
     "name": "stderr",
     "output_type": "stream",
     "text": [
      "\n",
      "Epoch 00034: cpa_metric reached. Module best state updated.\n"
     ]
    },
    {
     "name": "stdout",
     "output_type": "stream",
     "text": [
      "\n",
      "disnt_basal = 1.6285502645502645\n",
      "disnt_after = 1.6049603174603175\n",
      "val_r2_mean = 0.9067819118499756\n",
      "val_r2_var = -2.285635232925415\n",
      "\n",
      "disnt_basal = 1.6317460317460317\n",
      "disnt_after = 1.5708994708994708\n",
      "val_r2_mean = 0.9052253762880961\n",
      "val_r2_var = -2.228798786799113\n"
     ]
    },
    {
     "name": "stderr",
     "output_type": "stream",
     "text": [
      "\n",
      "Epoch 00054: cpa_metric reached. Module best state updated.\n",
      "\n",
      "Epoch 00059: cpa_metric reached. Module best state updated.\n"
     ]
    },
    {
     "name": "stdout",
     "output_type": "stream",
     "text": [
      "\n",
      "disnt_basal = 1.6317460317460317\n",
      "disnt_after = 1.5755291005291006\n",
      "val_r2_mean = 0.9135512709617615\n",
      "val_r2_var = -2.168065071105957\n"
     ]
    },
    {
     "name": "stderr",
     "output_type": "stream",
     "text": [
      "\n",
      "Epoch 00064: cpa_metric reached. Module best state updated.\n",
      "\n",
      "Epoch 00069: cpa_metric reached. Module best state updated.\n"
     ]
    },
    {
     "name": "stdout",
     "output_type": "stream",
     "text": [
      "\n",
      "disnt_basal = 1.6305502645502645\n",
      "disnt_after = 1.5672619047619047\n",
      "val_r2_mean = 0.9236167470614115\n",
      "val_r2_var = -2.1182024478912354\n"
     ]
    },
    {
     "name": "stderr",
     "output_type": "stream",
     "text": [
      "\n",
      "Epoch 00074: cpa_metric reached. Module best state updated.\n",
      "\n",
      "Epoch 00079: cpa_metric reached. Module best state updated.\n"
     ]
    },
    {
     "name": "stdout",
     "output_type": "stream",
     "text": [
      "\n",
      "disnt_basal = 1.5748015873015873\n",
      "disnt_after = 1.5672619047619047\n",
      "val_r2_mean = 0.9235551953315735\n",
      "val_r2_var = -2.0444088776906333\n"
     ]
    },
    {
     "name": "stderr",
     "output_type": "stream",
     "text": [
      "\n",
      "Epoch 00084: cpa_metric reached. Module best state updated.\n"
     ]
    },
    {
     "name": "stdout",
     "output_type": "stream",
     "text": [
      "\n",
      "disnt_basal = 1.622116402116402\n",
      "disnt_after = 1.5722222222222222\n",
      "val_r2_mean = 0.926965336004893\n",
      "val_r2_var = -1.9594817161560059\n",
      "\n",
      "disnt_basal = 1.5960952380952382\n",
      "disnt_after = 1.5781746031746031\n",
      "val_r2_mean = 0.9303377866744995\n",
      "val_r2_var = -1.8846064408620198\n"
     ]
    },
    {
     "name": "stderr",
     "output_type": "stream",
     "text": [
      "\n",
      "Epoch 00104: cpa_metric reached. Module best state updated.\n",
      "\n",
      "Epoch 00109: cpa_metric reached. Module best state updated.\n"
     ]
    },
    {
     "name": "stdout",
     "output_type": "stream",
     "text": [
      "\n",
      "disnt_basal = 1.3418068783068782\n",
      "disnt_after = 1.5692460317460317\n",
      "val_r2_mean = 0.9265432953834534\n",
      "val_r2_var = -1.8160611788431804\n"
     ]
    },
    {
     "name": "stderr",
     "output_type": "stream",
     "text": [
      "\n",
      "Epoch 00114: cpa_metric reached. Module best state updated.\n"
     ]
    },
    {
     "name": "stdout",
     "output_type": "stream",
     "text": [
      "\n",
      "disnt_basal = 1.499473544973545\n",
      "disnt_after = 1.5715608465608466\n",
      "val_r2_mean = 0.9194307327270508\n",
      "val_r2_var = -1.7889052232106526\n",
      "\n",
      "disnt_basal = 1.465666666666667\n",
      "disnt_after = 1.5689153439153438\n",
      "val_r2_mean = 0.9342906475067139\n",
      "val_r2_var = -1.7011624177296956\n"
     ]
    },
    {
     "name": "stderr",
     "output_type": "stream",
     "text": [
      "\n",
      "Epoch 00139: cpa_metric reached. Module best state updated.\n"
     ]
    },
    {
     "name": "stdout",
     "output_type": "stream",
     "text": [
      "\n",
      "disnt_basal = 1.259994708994709\n",
      "disnt_after = 1.570568783068783\n",
      "val_r2_mean = 0.9310408234596252\n",
      "val_r2_var = -1.6343406836191814\n"
     ]
    },
    {
     "name": "stderr",
     "output_type": "stream",
     "text": [
      "\n",
      "Epoch 00144: cpa_metric reached. Module best state updated.\n",
      "\n",
      "Epoch 00149: cpa_metric reached. Module best state updated.\n"
     ]
    },
    {
     "name": "stdout",
     "output_type": "stream",
     "text": [
      "\n",
      "disnt_basal = 1.1498703703703703\n",
      "disnt_after = 1.570568783068783\n",
      "val_r2_mean = 0.9310978055000305\n",
      "val_r2_var = -1.5516708691914876\n",
      "\n",
      "disnt_basal = 1.2221349206349206\n",
      "disnt_after = 1.5718915343915343\n",
      "val_r2_mean = 0.9407820502916971\n",
      "val_r2_var = -1.4956664244333904\n"
     ]
    },
    {
     "name": "stderr",
     "output_type": "stream",
     "text": [
      "\n",
      "Epoch 00169: cpa_metric reached. Module best state updated.\n"
     ]
    },
    {
     "name": "stdout",
     "output_type": "stream",
     "text": [
      "\n",
      "disnt_basal = 1.1193835978835978\n",
      "disnt_after = 1.5712301587301587\n",
      "val_r2_mean = 0.9275315205256144\n",
      "val_r2_var = -1.408171017964681\n"
     ]
    },
    {
     "name": "stderr",
     "output_type": "stream",
     "text": [
      "\n",
      "Epoch 00174: cpa_metric reached. Module best state updated.\n",
      "\n",
      "Epoch 00179: cpa_metric reached. Module best state updated.\n"
     ]
    },
    {
     "name": "stdout",
     "output_type": "stream",
     "text": [
      "\n",
      "disnt_basal = 1.0629550264550267\n",
      "disnt_after = 1.5689153439153438\n",
      "val_r2_mean = 0.9392244021097819\n",
      "val_r2_var = -1.3721817334493\n",
      "\n",
      "disnt_basal = 1.1339497354497352\n",
      "disnt_after = 1.5708994708994708\n",
      "val_r2_mean = 0.9430321455001831\n",
      "val_r2_var = -1.3701399167378743\n"
     ]
    },
    {
     "name": "stderr",
     "output_type": "stream",
     "text": [
      "\n",
      "Epoch 00199: cpa_metric reached. Module best state updated.\n"
     ]
    },
    {
     "name": "stdout",
     "output_type": "stream",
     "text": [
      "\n",
      "disnt_basal = 1.07484126984127\n",
      "disnt_after = 1.5702380952380952\n",
      "val_r2_mean = 0.9453375736872355\n",
      "val_r2_var = -1.327462116877238\n"
     ]
    },
    {
     "name": "stderr",
     "output_type": "stream",
     "text": [
      "\n",
      "Epoch 00204: cpa_metric reached. Module best state updated.\n"
     ]
    },
    {
     "name": "stdout",
     "output_type": "stream",
     "text": [
      "\n",
      "disnt_basal = 1.0827989417989419\n",
      "disnt_after = 1.5682539682539682\n",
      "val_r2_mean = 0.9398440917332967\n",
      "val_r2_var = -1.2666839758555095\n",
      "\n",
      "disnt_basal = 1.138399470899471\n",
      "disnt_after = 1.5699074074074073\n",
      "val_r2_mean = 0.9429340163866679\n",
      "val_r2_var = -1.2378525733947754\n",
      "\n",
      "disnt_basal = 1.1235079365079366\n",
      "disnt_after = 1.5695767195767196\n",
      "val_r2_mean = 0.9431518117586771\n",
      "val_r2_var = -1.1939315001169841\n"
     ]
    },
    {
     "name": "stderr",
     "output_type": "stream",
     "text": [
      "100%|██████████| 1/1 [00:00<00:00, 33.78it/s]\n",
      "cpa_single_pert:   0%|          | 5/2184 [01:22<10:06:22, 16.70s/it]"
     ]
    },
    {
     "name": "stdout",
     "output_type": "stream",
     "text": [
      "Warning: dosage_key is not set. Setting it to \"1.0\" for all cells\n"
     ]
    },
    {
     "name": "stderr",
     "output_type": "stream",
     "text": [
      "100%|██████████| 1340/1340 [00:00<00:00, 76293.20it/s]\n",
      "100%|██████████| 1340/1340 [00:00<00:00, 1032017.51it/s]"
     ]
    },
    {
     "name": "stdout",
     "output_type": "stream",
     "text": [
      "\u001b[34mINFO    \u001b[0m Generating sequential column names                                                                        \n",
      "\u001b[34mINFO    \u001b[0m Generating sequential column names                                                                        \n"
     ]
    },
    {
     "name": "stderr",
     "output_type": "stream",
     "text": [
      "\n",
      "Global seed set to 6977\n",
      "100%|██████████| 2/2 [00:00<00:00, 858.78it/s]\n",
      "GPU available: True (cuda), used: True\n",
      "TPU available: False, using: 0 TPU cores\n",
      "IPU available: False, using: 0 IPUs\n",
      "HPU available: False, using: 0 HPUs\n",
      "You are using a CUDA device ('NVIDIA GeForce RTX 3090') that has Tensor Cores. To properly utilize them, you should set `torch.set_float32_matmul_precision('medium' | 'high')` which will trade-off precision for performance. For more details, read https://pytorch.org/docs/stable/generated/torch.set_float32_matmul_precision.html#torch.set_float32_matmul_precision\n",
      "LOCAL_RANK: 0 - CUDA_VISIBLE_DEVICES: [0,1,2,3]\n",
      "\n",
      "Epoch 00004: cpa_metric reached. Module best state updated.\n",
      "\n",
      "Epoch 00009: cpa_metric reached. Module best state updated.\n"
     ]
    },
    {
     "name": "stdout",
     "output_type": "stream",
     "text": [
      "\n",
      "disnt_basal = 1.7374358974358974\n",
      "disnt_after = 1.74\n",
      "val_r2_mean = 0.27734172344207764\n",
      "val_r2_var = -2.363736867904663\n"
     ]
    },
    {
     "name": "stderr",
     "output_type": "stream",
     "text": [
      "\n",
      "Epoch 00014: cpa_metric reached. Module best state updated.\n",
      "\n",
      "Epoch 00019: cpa_metric reached. Module best state updated.\n"
     ]
    },
    {
     "name": "stdout",
     "output_type": "stream",
     "text": [
      "\n",
      "disnt_basal = 1.736302294197031\n",
      "disnt_after = 1.74\n",
      "val_r2_mean = 0.75567626953125\n",
      "val_r2_var = -2.3636085987091064\n"
     ]
    },
    {
     "name": "stderr",
     "output_type": "stream",
     "text": [
      "\n",
      "Epoch 00024: cpa_metric reached. Module best state updated.\n",
      "\n",
      "Epoch 00029: cpa_metric reached. Module best state updated.\n"
     ]
    },
    {
     "name": "stdout",
     "output_type": "stream",
     "text": [
      "\n",
      "disnt_basal = 1.7366666666666668\n",
      "disnt_after = 1.7373557692307693\n",
      "val_r2_mean = 0.9032248258590698\n",
      "val_r2_var = -2.34852663675944\n"
     ]
    },
    {
     "name": "stderr",
     "output_type": "stream",
     "text": [
      "\n",
      "Epoch 00034: cpa_metric reached. Module best state updated.\n"
     ]
    },
    {
     "name": "stdout",
     "output_type": "stream",
     "text": [
      "\n",
      "disnt_basal = 1.7366666666666666\n",
      "disnt_after = 1.6971634615384614\n",
      "val_r2_mean = 0.9157938361167908\n",
      "val_r2_var = -2.319752852121989\n",
      "\n",
      "disnt_basal = 1.7366666666666666\n",
      "disnt_after = 1.678125\n",
      "val_r2_mean = 0.8990533351898193\n",
      "val_r2_var = -2.2628565629323325\n"
     ]
    },
    {
     "name": "stderr",
     "output_type": "stream",
     "text": [
      "\n",
      "Epoch 00059: cpa_metric reached. Module best state updated.\n"
     ]
    },
    {
     "name": "stdout",
     "output_type": "stream",
     "text": [
      "\n",
      "disnt_basal = 1.7366666666666666\n",
      "disnt_after = 1.678389423076923\n",
      "val_r2_mean = 0.9106890161832174\n",
      "val_r2_var = -2.2021677494049072\n"
     ]
    },
    {
     "name": "stderr",
     "output_type": "stream",
     "text": [
      "\n",
      "Epoch 00064: cpa_metric reached. Module best state updated.\n",
      "\n",
      "Epoch 00069: cpa_metric reached. Module best state updated.\n"
     ]
    },
    {
     "name": "stdout",
     "output_type": "stream",
     "text": [
      "\n",
      "disnt_basal = 1.7366666666666666\n",
      "disnt_after = 1.678125\n",
      "val_r2_mean = 0.9221992691357931\n",
      "val_r2_var = -2.14946715037028\n"
     ]
    },
    {
     "name": "stderr",
     "output_type": "stream",
     "text": [
      "\n",
      "Epoch 00074: cpa_metric reached. Module best state updated.\n",
      "\n",
      "Epoch 00079: cpa_metric reached. Module best state updated.\n"
     ]
    },
    {
     "name": "stdout",
     "output_type": "stream",
     "text": [
      "\n",
      "disnt_basal = 1.7328006916329286\n",
      "disnt_after = 1.678125\n",
      "val_r2_mean = 0.9263072808583578\n",
      "val_r2_var = -2.0821568965911865\n"
     ]
    },
    {
     "name": "stderr",
     "output_type": "stream",
     "text": [
      "\n",
      "Epoch 00084: cpa_metric reached. Module best state updated.\n",
      "\n",
      "Epoch 00089: cpa_metric reached. Module best state updated.\n"
     ]
    },
    {
     "name": "stdout",
     "output_type": "stream",
     "text": [
      "\n",
      "disnt_basal = 1.6201581477732794\n",
      "disnt_after = 1.678125\n",
      "val_r2_mean = 0.9360714753468832\n",
      "val_r2_var = -2.011984427769979\n"
     ]
    },
    {
     "name": "stderr",
     "output_type": "stream",
     "text": [
      "\n",
      "Epoch 00094: cpa_metric reached. Module best state updated.\n"
     ]
    },
    {
     "name": "stdout",
     "output_type": "stream",
     "text": [
      "\n",
      "disnt_basal = 1.709926197705803\n",
      "disnt_after = 1.704831730769231\n",
      "val_r2_mean = 0.9276338815689087\n",
      "val_r2_var = -1.977919340133667\n",
      "\n",
      "disnt_basal = 1.720193572874494\n",
      "disnt_after = 1.7080048076923078\n",
      "val_r2_mean = 0.9380089243253072\n",
      "val_r2_var = -1.8860702514648438\n",
      "\n",
      "disnt_basal = 1.6952749662618083\n",
      "disnt_after = 1.6961057692307693\n",
      "val_r2_mean = 0.9393298029899597\n",
      "val_r2_var = -1.8110002676645915\n"
     ]
    },
    {
     "name": "stderr",
     "output_type": "stream",
     "text": [
      "100%|██████████| 1/1 [00:00<00:00, 22.36it/s]\n",
      "cpa_single_pert:   0%|          | 6/2184 [01:33<8:55:06, 14.74s/it] "
     ]
    },
    {
     "name": "stdout",
     "output_type": "stream",
     "text": [
      "Warning: dosage_key is not set. Setting it to \"1.0\" for all cells\n"
     ]
    },
    {
     "name": "stderr",
     "output_type": "stream",
     "text": [
      "100%|██████████| 1612/1612 [00:00<00:00, 81036.72it/s]\n",
      "100%|██████████| 1612/1612 [00:00<00:00, 1031302.33it/s]"
     ]
    },
    {
     "name": "stdout",
     "output_type": "stream",
     "text": [
      "\u001b[34mINFO    \u001b[0m Generating sequential column names                                                                        \n",
      "\u001b[34mINFO    \u001b[0m Generating sequential column names                                                                        \n"
     ]
    },
    {
     "name": "stderr",
     "output_type": "stream",
     "text": [
      "\n",
      "Global seed set to 6977\n",
      "100%|██████████| 2/2 [00:00<00:00, 912.60it/s]\n",
      "GPU available: True (cuda), used: True\n",
      "TPU available: False, using: 0 TPU cores\n",
      "IPU available: False, using: 0 IPUs\n",
      "HPU available: False, using: 0 HPUs\n",
      "You are using a CUDA device ('NVIDIA GeForce RTX 3090') that has Tensor Cores. To properly utilize them, you should set `torch.set_float32_matmul_precision('medium' | 'high')` which will trade-off precision for performance. For more details, read https://pytorch.org/docs/stable/generated/torch.set_float32_matmul_precision.html#torch.set_float32_matmul_precision\n",
      "LOCAL_RANK: 0 - CUDA_VISIBLE_DEVICES: [0,1,2,3]\n",
      "\n",
      "Epoch 00004: cpa_metric reached. Module best state updated.\n",
      "\n",
      "Epoch 00009: cpa_metric reached. Module best state updated.\n"
     ]
    },
    {
     "name": "stdout",
     "output_type": "stream",
     "text": [
      "\n",
      "disnt_basal = 1.6406432748538011\n",
      "disnt_after = 2.0\n",
      "val_r2_mean = 0.3359534740447998\n",
      "val_r2_var = -2.7536628246307373\n"
     ]
    },
    {
     "name": "stderr",
     "output_type": "stream",
     "text": [
      "\n",
      "Epoch 00014: cpa_metric reached. Module best state updated.\n",
      "\n",
      "Epoch 00019: cpa_metric reached. Module best state updated.\n"
     ]
    },
    {
     "name": "stdout",
     "output_type": "stream",
     "text": [
      "\n",
      "disnt_basal = 1.634551656920078\n",
      "disnt_after = 2.0\n",
      "val_r2_mean = 0.7977495590845743\n",
      "val_r2_var = -2.7555975119272866\n"
     ]
    },
    {
     "name": "stderr",
     "output_type": "stream",
     "text": [
      "\n",
      "Epoch 00024: cpa_metric reached. Module best state updated.\n",
      "\n",
      "Epoch 00029: cpa_metric reached. Module best state updated.\n"
     ]
    },
    {
     "name": "stdout",
     "output_type": "stream",
     "text": [
      "\n",
      "disnt_basal = 1.6326842991316675\n",
      "disnt_after = 2.0\n",
      "val_r2_mean = 0.9374423623085022\n",
      "val_r2_var = -2.7415647506713867\n"
     ]
    },
    {
     "name": "stderr",
     "output_type": "stream",
     "text": [
      "\n",
      "Epoch 00034: cpa_metric reached. Module best state updated.\n",
      "\n",
      "Epoch 00039: cpa_metric reached. Module best state updated.\n"
     ]
    },
    {
     "name": "stdout",
     "output_type": "stream",
     "text": [
      "\n",
      "disnt_basal = 1.6175948077263866\n",
      "disnt_after = 2.0\n",
      "val_r2_mean = 0.9517888824144999\n",
      "val_r2_var = -2.706390857696533\n"
     ]
    },
    {
     "name": "stderr",
     "output_type": "stream",
     "text": [
      "\n",
      "Epoch 00044: cpa_metric reached. Module best state updated.\n"
     ]
    },
    {
     "name": "stdout",
     "output_type": "stream",
     "text": [
      "\n",
      "disnt_basal = 1.635840864788233\n",
      "disnt_after = 2.0\n",
      "val_r2_mean = 0.954476793607076\n",
      "val_r2_var = -2.6405778725941977\n"
     ]
    },
    {
     "name": "stderr",
     "output_type": "stream",
     "text": [
      "\n",
      "Epoch 00054: cpa_metric reached. Module best state updated.\n",
      "\n",
      "Epoch 00059: cpa_metric reached. Module best state updated.\n"
     ]
    },
    {
     "name": "stdout",
     "output_type": "stream",
     "text": [
      "\n",
      "disnt_basal = 1.6354775828460038\n",
      "disnt_after = 2.0\n",
      "val_r2_mean = 0.9521381060282389\n",
      "val_r2_var = -2.5698916912078857\n"
     ]
    },
    {
     "name": "stderr",
     "output_type": "stream",
     "text": [
      "\n",
      "Epoch 00064: cpa_metric reached. Module best state updated.\n",
      "\n",
      "Epoch 00069: cpa_metric reached. Module best state updated.\n"
     ]
    },
    {
     "name": "stdout",
     "output_type": "stream",
     "text": [
      "\n",
      "disnt_basal = 1.6397417153996101\n",
      "disnt_after = 2.0\n",
      "val_r2_mean = 0.9549921154975891\n",
      "val_r2_var = -2.5041064421335855\n"
     ]
    },
    {
     "name": "stderr",
     "output_type": "stream",
     "text": [
      "\n",
      "Epoch 00074: cpa_metric reached. Module best state updated.\n",
      "\n",
      "Epoch 00079: cpa_metric reached. Module best state updated.\n"
     ]
    },
    {
     "name": "stdout",
     "output_type": "stream",
     "text": [
      "\n",
      "disnt_basal = 1.64208089668616\n",
      "disnt_after = 2.0\n",
      "val_r2_mean = 0.9605269829432169\n",
      "val_r2_var = -2.4390904108683267\n"
     ]
    },
    {
     "name": "stderr",
     "output_type": "stream",
     "text": [
      "\n",
      "Epoch 00084: cpa_metric reached. Module best state updated.\n",
      "\n",
      "Epoch 00089: cpa_metric reached. Module best state updated.\n"
     ]
    },
    {
     "name": "stdout",
     "output_type": "stream",
     "text": [
      "\n",
      "disnt_basal = 1.6419812156654263\n",
      "disnt_after = 2.0\n",
      "val_r2_mean = 0.9617913762728373\n",
      "val_r2_var = -2.3690088589986167\n"
     ]
    },
    {
     "name": "stderr",
     "output_type": "stream",
     "text": [
      "\n",
      "Epoch 00094: cpa_metric reached. Module best state updated.\n",
      "\n",
      "Epoch 00099: cpa_metric reached. Module best state updated.\n"
     ]
    },
    {
     "name": "stdout",
     "output_type": "stream",
     "text": [
      "\n",
      "disnt_basal = 1.6337674995569733\n",
      "disnt_after = 2.0\n",
      "val_r2_mean = 0.9555482864379883\n",
      "val_r2_var = -2.291666030883789\n"
     ]
    },
    {
     "name": "stderr",
     "output_type": "stream",
     "text": [
      "\n",
      "Epoch 00104: cpa_metric reached. Module best state updated.\n",
      "\n",
      "Epoch 00109: cpa_metric reached. Module best state updated.\n"
     ]
    },
    {
     "name": "stdout",
     "output_type": "stream",
     "text": [
      "\n",
      "disnt_basal = 1.6137452960982375\n",
      "disnt_after = 2.0\n",
      "val_r2_mean = 0.9597216447194418\n",
      "val_r2_var = -2.227461576461792\n"
     ]
    },
    {
     "name": "stderr",
     "output_type": "stream",
     "text": [
      "\n",
      "Epoch 00114: cpa_metric reached. Module best state updated.\n"
     ]
    },
    {
     "name": "stdout",
     "output_type": "stream",
     "text": [
      "\n",
      "disnt_basal = 1.5978904108161074\n",
      "disnt_after = 2.0\n",
      "val_r2_mean = 0.9572152098019918\n",
      "val_r2_var = -2.1818639437357583\n",
      "\n",
      "disnt_basal = 1.6296517809675706\n",
      "disnt_after = 2.0\n",
      "val_r2_mean = 0.9507816831270853\n",
      "val_r2_var = -2.0543415546417236\n",
      "\n",
      "disnt_basal = 1.6305334042176147\n",
      "disnt_after = 2.0\n",
      "val_r2_mean = 0.9551775058110555\n",
      "val_r2_var = -1.9355225563049316\n"
     ]
    },
    {
     "name": "stderr",
     "output_type": "stream",
     "text": [
      "100%|██████████| 1/1 [00:00<00:00, 23.55it/s]\n",
      "cpa_single_pert:   0%|          | 7/2184 [01:46<8:33:44, 14.16s/it]"
     ]
    },
    {
     "name": "stdout",
     "output_type": "stream",
     "text": [
      "Warning: dosage_key is not set. Setting it to \"1.0\" for all cells\n"
     ]
    },
    {
     "name": "stderr",
     "output_type": "stream",
     "text": [
      "100%|██████████| 1414/1414 [00:00<00:00, 85499.32it/s]\n",
      "100%|██████████| 1414/1414 [00:00<00:00, 1081660.74it/s]"
     ]
    },
    {
     "name": "stdout",
     "output_type": "stream",
     "text": [
      "\u001b[34mINFO    \u001b[0m Generating sequential column names                                                                        \n",
      "\u001b[34mINFO    \u001b[0m Generating sequential column names                                                                        \n"
     ]
    },
    {
     "name": "stderr",
     "output_type": "stream",
     "text": [
      "\n",
      "Global seed set to 6977\n",
      "100%|██████████| 2/2 [00:00<00:00, 416.60it/s]\n",
      "GPU available: True (cuda), used: True\n",
      "TPU available: False, using: 0 TPU cores\n",
      "IPU available: False, using: 0 IPUs\n",
      "HPU available: False, using: 0 HPUs\n",
      "You are using a CUDA device ('NVIDIA GeForce RTX 3090') that has Tensor Cores. To properly utilize them, you should set `torch.set_float32_matmul_precision('medium' | 'high')` which will trade-off precision for performance. For more details, read https://pytorch.org/docs/stable/generated/torch.set_float32_matmul_precision.html#torch.set_float32_matmul_precision\n",
      "LOCAL_RANK: 0 - CUDA_VISIBLE_DEVICES: [0,1,2,3]\n",
      "\n",
      "Epoch 00004: cpa_metric reached. Module best state updated.\n",
      "\n",
      "Epoch 00009: cpa_metric reached. Module best state updated.\n"
     ]
    },
    {
     "name": "stdout",
     "output_type": "stream",
     "text": [
      "\n",
      "disnt_basal = 1.6862111801242237\n",
      "disnt_after = 1.8166666666666667\n",
      "val_r2_mean = 0.33938004573186237\n",
      "val_r2_var = -2.6993443965911865\n"
     ]
    },
    {
     "name": "stderr",
     "output_type": "stream",
     "text": [
      "\n",
      "Epoch 00014: cpa_metric reached. Module best state updated.\n",
      "\n",
      "Epoch 00019: cpa_metric reached. Module best state updated.\n"
     ]
    },
    {
     "name": "stdout",
     "output_type": "stream",
     "text": [
      "\n",
      "disnt_basal = 1.6692132505175983\n",
      "disnt_after = 1.8166666666666664\n",
      "val_r2_mean = 0.7934506336847941\n",
      "val_r2_var = -2.7002137502034507\n"
     ]
    },
    {
     "name": "stderr",
     "output_type": "stream",
     "text": [
      "\n",
      "Epoch 00024: cpa_metric reached. Module best state updated.\n",
      "\n",
      "Epoch 00029: cpa_metric reached. Module best state updated.\n"
     ]
    },
    {
     "name": "stdout",
     "output_type": "stream",
     "text": [
      "\n",
      "disnt_basal = 1.6732091097308488\n",
      "disnt_after = 1.8163852813852812\n",
      "val_r2_mean = 0.9307314356168112\n",
      "val_r2_var = -2.6866437594095864\n"
     ]
    },
    {
     "name": "stderr",
     "output_type": "stream",
     "text": [
      "\n",
      "Epoch 00034: cpa_metric reached. Module best state updated.\n"
     ]
    },
    {
     "name": "stdout",
     "output_type": "stream",
     "text": [
      "\n",
      "disnt_basal = 1.684337474120083\n",
      "disnt_after = 1.8014718614718617\n",
      "val_r2_mean = 0.9368169903755188\n",
      "val_r2_var = -2.6594194571177163\n",
      "\n",
      "disnt_basal = 1.6845341614906832\n",
      "disnt_after = 1.78754329004329\n",
      "val_r2_mean = 0.9418168266614279\n",
      "val_r2_var = -2.6139701207478843\n"
     ]
    },
    {
     "name": "stderr",
     "output_type": "stream",
     "text": [
      "\n",
      "Epoch 00054: cpa_metric reached. Module best state updated.\n",
      "\n",
      "Epoch 00059: cpa_metric reached. Module best state updated.\n"
     ]
    },
    {
     "name": "stdout",
     "output_type": "stream",
     "text": [
      "\n",
      "disnt_basal = 1.6903623188405796\n",
      "disnt_after = 1.7876839826839825\n",
      "val_r2_mean = 0.9462791681289673\n",
      "val_r2_var = -2.5552965005238852\n"
     ]
    },
    {
     "name": "stderr",
     "output_type": "stream",
     "text": [
      "\n",
      "Epoch 00064: cpa_metric reached. Module best state updated.\n",
      "\n",
      "Epoch 00069: cpa_metric reached. Module best state updated.\n"
     ]
    },
    {
     "name": "stdout",
     "output_type": "stream",
     "text": [
      "\n",
      "disnt_basal = 1.6923084886128363\n",
      "disnt_after = 1.7881060606060604\n",
      "val_r2_mean = 0.9446269075075785\n",
      "val_r2_var = -2.482820908228556\n"
     ]
    },
    {
     "name": "stderr",
     "output_type": "stream",
     "text": [
      "\n",
      "Epoch 00074: cpa_metric reached. Module best state updated.\n",
      "\n",
      "Epoch 00079: cpa_metric reached. Module best state updated.\n"
     ]
    },
    {
     "name": "stdout",
     "output_type": "stream",
     "text": [
      "\n",
      "disnt_basal = 1.6949482401656315\n",
      "disnt_after = 1.7871212121212119\n",
      "val_r2_mean = 0.9531773527463278\n",
      "val_r2_var = -2.4027557373046875\n"
     ]
    },
    {
     "name": "stderr",
     "output_type": "stream",
     "text": [
      "\n",
      "Epoch 00084: cpa_metric reached. Module best state updated.\n",
      "\n",
      "Epoch 00089: cpa_metric reached. Module best state updated.\n"
     ]
    },
    {
     "name": "stdout",
     "output_type": "stream",
     "text": [
      "\n",
      "disnt_basal = 1.6951449275362318\n",
      "disnt_after = 1.787121212121212\n",
      "val_r2_mean = 0.941952665646871\n",
      "val_r2_var = -2.308884938557943\n"
     ]
    },
    {
     "name": "stderr",
     "output_type": "stream",
     "text": [
      "\n",
      "Epoch 00094: cpa_metric reached. Module best state updated.\n",
      "\n",
      "Epoch 00099: cpa_metric reached. Module best state updated.\n"
     ]
    },
    {
     "name": "stdout",
     "output_type": "stream",
     "text": [
      "\n",
      "disnt_basal = 1.691181603076013\n",
      "disnt_after = 1.787121212121212\n",
      "val_r2_mean = 0.9482053319613138\n",
      "val_r2_var = -2.228065808614095\n"
     ]
    },
    {
     "name": "stderr",
     "output_type": "stream",
     "text": [
      "\n",
      "Epoch 00104: cpa_metric reached. Module best state updated.\n",
      "\n",
      "Epoch 00109: cpa_metric reached. Module best state updated.\n"
     ]
    },
    {
     "name": "stdout",
     "output_type": "stream",
     "text": [
      "\n",
      "disnt_basal = 1.5243392890753138\n",
      "disnt_after = 1.791904761904762\n",
      "val_r2_mean = 0.9448910554250082\n",
      "val_r2_var = -2.211301247278849\n",
      "\n",
      "disnt_basal = 1.6924534161490683\n",
      "disnt_after = 1.7957034632034632\n",
      "val_r2_mean = 0.9455838600794474\n",
      "val_r2_var = -2.082740068435669\n",
      "\n",
      "disnt_basal = 1.6893921916592725\n",
      "disnt_after = 1.7955627705627706\n",
      "val_r2_mean = 0.954897940158844\n",
      "val_r2_var = -1.9851163228352864\n"
     ]
    },
    {
     "name": "stderr",
     "output_type": "stream",
     "text": [
      "100%|██████████| 1/1 [00:00<00:00, 33.04it/s]\n",
      "cpa_single_pert:   0%|          | 8/2184 [01:59<8:21:57, 13.84s/it]"
     ]
    },
    {
     "name": "stdout",
     "output_type": "stream",
     "text": [
      "Warning: dosage_key is not set. Setting it to \"1.0\" for all cells\n"
     ]
    },
    {
     "name": "stderr",
     "output_type": "stream",
     "text": [
      "100%|██████████| 1392/1392 [00:00<00:00, 66089.42it/s]\n",
      "100%|██████████| 1392/1392 [00:00<00:00, 991588.17it/s]"
     ]
    },
    {
     "name": "stdout",
     "output_type": "stream",
     "text": [
      "\u001b[34mINFO    \u001b[0m Generating sequential column names                                                                        \n",
      "\u001b[34mINFO    \u001b[0m Generating sequential column names                                                                        \n"
     ]
    },
    {
     "name": "stderr",
     "output_type": "stream",
     "text": [
      "\n",
      "Global seed set to 6977\n",
      "100%|██████████| 2/2 [00:00<00:00, 826.71it/s]\n",
      "GPU available: True (cuda), used: True\n",
      "TPU available: False, using: 0 TPU cores\n",
      "IPU available: False, using: 0 IPUs\n",
      "HPU available: False, using: 0 HPUs\n",
      "You are using a CUDA device ('NVIDIA GeForce RTX 3090') that has Tensor Cores. To properly utilize them, you should set `torch.set_float32_matmul_precision('medium' | 'high')` which will trade-off precision for performance. For more details, read https://pytorch.org/docs/stable/generated/torch.set_float32_matmul_precision.html#torch.set_float32_matmul_precision\n",
      "LOCAL_RANK: 0 - CUDA_VISIBLE_DEVICES: [0,1,2,3]\n",
      "\n",
      "Epoch 00004: cpa_metric reached. Module best state updated.\n",
      "\n",
      "Epoch 00009: cpa_metric reached. Module best state updated.\n"
     ]
    },
    {
     "name": "stdout",
     "output_type": "stream",
     "text": [
      "\n",
      "disnt_basal = 1.6549242424242425\n",
      "disnt_after = 1.7960784313725489\n",
      "val_r2_mean = 0.35773982604344684\n",
      "val_r2_var = -2.6311829884847007\n"
     ]
    },
    {
     "name": "stderr",
     "output_type": "stream",
     "text": [
      "\n",
      "Epoch 00014: cpa_metric reached. Module best state updated.\n",
      "\n",
      "Epoch 00019: cpa_metric reached. Module best state updated.\n"
     ]
    },
    {
     "name": "stdout",
     "output_type": "stream",
     "text": [
      "\n",
      "disnt_basal = 1.6647504456327986\n",
      "disnt_after = 1.7960784313725489\n",
      "val_r2_mean = 0.8033348123232523\n",
      "val_r2_var = -2.6335842609405518\n"
     ]
    },
    {
     "name": "stderr",
     "output_type": "stream",
     "text": [
      "\n",
      "Epoch 00024: cpa_metric reached. Module best state updated.\n",
      "\n",
      "Epoch 00029: cpa_metric reached. Module best state updated.\n"
     ]
    },
    {
     "name": "stdout",
     "output_type": "stream",
     "text": [
      "\n",
      "disnt_basal = 1.670254010695187\n",
      "disnt_after = 1.781360877684407\n",
      "val_r2_mean = 0.9303862651189169\n",
      "val_r2_var = -2.6208993593851724\n",
      "\n",
      "disnt_basal = 1.680557412358883\n",
      "disnt_after = 1.7626984126984127\n",
      "val_r2_mean = 0.9419266780217489\n",
      "val_r2_var = -2.588535944620768\n"
     ]
    },
    {
     "name": "stderr",
     "output_type": "stream",
     "text": [
      "\n",
      "Epoch 00044: cpa_metric reached. Module best state updated.\n",
      "\n",
      "Epoch 00049: cpa_metric reached. Module best state updated.\n"
     ]
    },
    {
     "name": "stdout",
     "output_type": "stream",
     "text": [
      "\n",
      "disnt_basal = 1.6761586452762924\n",
      "disnt_after = 1.7626984126984127\n",
      "val_r2_mean = 0.9447603623072306\n",
      "val_r2_var = -2.547029892603556\n"
     ]
    },
    {
     "name": "stderr",
     "output_type": "stream",
     "text": [
      "\n",
      "Epoch 00054: cpa_metric reached. Module best state updated.\n",
      "\n",
      "Epoch 00059: cpa_metric reached. Module best state updated.\n"
     ]
    },
    {
     "name": "stdout",
     "output_type": "stream",
     "text": [
      "\n",
      "disnt_basal = 1.6729055258467023\n",
      "disnt_after = 1.7631535947712416\n",
      "val_r2_mean = 0.9464993476867676\n",
      "val_r2_var = -2.4679462909698486\n"
     ]
    },
    {
     "name": "stderr",
     "output_type": "stream",
     "text": [
      "\n",
      "Epoch 00064: cpa_metric reached. Module best state updated.\n",
      "\n",
      "Epoch 00069: cpa_metric reached. Module best state updated.\n"
     ]
    },
    {
     "name": "stdout",
     "output_type": "stream",
     "text": [
      "\n",
      "disnt_basal = 1.672860962566845\n",
      "disnt_after = 1.7652777777777777\n",
      "val_r2_mean = 0.9414335489273071\n",
      "val_r2_var = -2.3818023999532065\n"
     ]
    },
    {
     "name": "stderr",
     "output_type": "stream",
     "text": [
      "\n",
      "Epoch 00074: cpa_metric reached. Module best state updated.\n",
      "\n",
      "Epoch 00079: cpa_metric reached. Module best state updated.\n"
     ]
    },
    {
     "name": "stdout",
     "output_type": "stream",
     "text": [
      "\n",
      "disnt_basal = 1.6700311942959\n",
      "disnt_after = 1.7657329598506069\n",
      "val_r2_mean = 0.9423782030741373\n",
      "val_r2_var = -2.302607456843058\n"
     ]
    },
    {
     "name": "stderr",
     "output_type": "stream",
     "text": [
      "\n",
      "Epoch 00084: cpa_metric reached. Module best state updated.\n",
      "\n",
      "Epoch 00089: cpa_metric reached. Module best state updated.\n"
     ]
    },
    {
     "name": "stdout",
     "output_type": "stream",
     "text": [
      "\n",
      "disnt_basal = 1.6290446481622953\n",
      "disnt_after = 1.7646708683473389\n",
      "val_r2_mean = 0.943507969379425\n",
      "val_r2_var = -2.2230656941731772\n"
     ]
    },
    {
     "name": "stderr",
     "output_type": "stream",
     "text": [
      "\n",
      "Epoch 00094: cpa_metric reached. Module best state updated.\n"
     ]
    },
    {
     "name": "stdout",
     "output_type": "stream",
     "text": [
      "\n",
      "disnt_basal = 1.5626997389865038\n",
      "disnt_after = 1.7645191409897292\n",
      "val_r2_mean = 0.9428917169570923\n",
      "val_r2_var = -2.237464984258016\n",
      "\n",
      "disnt_basal = 1.627375116713352\n",
      "disnt_after = 1.765581232492997\n",
      "val_r2_mean = 0.9405388832092285\n",
      "val_r2_var = -2.062814394632975\n",
      "\n",
      "disnt_basal = 1.608384793311264\n",
      "disnt_after = 1.7660364145658263\n",
      "val_r2_mean = 0.9371350208918253\n",
      "val_r2_var = -1.965319315592448\n"
     ]
    },
    {
     "name": "stderr",
     "output_type": "stream",
     "text": [
      "100%|██████████| 1/1 [00:00<00:00, 32.03it/s]\n",
      "cpa_single_pert:   0%|          | 9/2184 [02:13<8:16:40, 13.70s/it]"
     ]
    },
    {
     "name": "stdout",
     "output_type": "stream",
     "text": [
      "Warning: dosage_key is not set. Setting it to \"1.0\" for all cells\n"
     ]
    },
    {
     "name": "stderr",
     "output_type": "stream",
     "text": [
      "100%|██████████| 1434/1434 [00:00<00:00, 77416.36it/s]\n",
      "100%|██████████| 1434/1434 [00:00<00:00, 1101782.73it/s]"
     ]
    },
    {
     "name": "stdout",
     "output_type": "stream",
     "text": [
      "\u001b[34mINFO    \u001b[0m Generating sequential column names                                                                        \n",
      "\u001b[34mINFO    \u001b[0m Generating sequential column names                                                                        \n"
     ]
    },
    {
     "name": "stderr",
     "output_type": "stream",
     "text": [
      "\n",
      "Global seed set to 6977\n",
      "100%|██████████| 2/2 [00:00<00:00, 913.69it/s]\n",
      "GPU available: True (cuda), used: True\n",
      "TPU available: False, using: 0 TPU cores\n",
      "IPU available: False, using: 0 IPUs\n",
      "HPU available: False, using: 0 HPUs\n",
      "You are using a CUDA device ('NVIDIA GeForce RTX 3090') that has Tensor Cores. To properly utilize them, you should set `torch.set_float32_matmul_precision('medium' | 'high')` which will trade-off precision for performance. For more details, read https://pytorch.org/docs/stable/generated/torch.set_float32_matmul_precision.html#torch.set_float32_matmul_precision\n",
      "LOCAL_RANK: 0 - CUDA_VISIBLE_DEVICES: [0,1,2,3]\n",
      "\n",
      "Epoch 00004: cpa_metric reached. Module best state updated.\n",
      "\n",
      "Epoch 00009: cpa_metric reached. Module best state updated.\n"
     ]
    },
    {
     "name": "stdout",
     "output_type": "stream",
     "text": [
      "\n",
      "disnt_basal = 1.6714431516636048\n",
      "disnt_after = 1.82018779342723\n",
      "val_r2_mean = 0.34310275316238403\n",
      "val_r2_var = -2.6182135740915933\n"
     ]
    },
    {
     "name": "stderr",
     "output_type": "stream",
     "text": [
      "\n",
      "Epoch 00014: cpa_metric reached. Module best state updated.\n",
      "\n",
      "Epoch 00019: cpa_metric reached. Module best state updated.\n"
     ]
    },
    {
     "name": "stdout",
     "output_type": "stream",
     "text": [
      "\n",
      "disnt_basal = 1.6568993672177994\n",
      "disnt_after = 1.82018779342723\n",
      "val_r2_mean = 0.7905231316884359\n",
      "val_r2_var = -2.6187607447306314\n"
     ]
    },
    {
     "name": "stderr",
     "output_type": "stream",
     "text": [
      "\n",
      "Epoch 00024: cpa_metric reached. Module best state updated.\n",
      "\n",
      "Epoch 00029: cpa_metric reached. Module best state updated.\n"
     ]
    },
    {
     "name": "stdout",
     "output_type": "stream",
     "text": [
      "\n",
      "disnt_basal = 1.624171113638352\n",
      "disnt_after = 1.7975378195096505\n",
      "val_r2_mean = 0.9321639537811279\n",
      "val_r2_var = -2.5971460342407227\n"
     ]
    },
    {
     "name": "stderr",
     "output_type": "stream",
     "text": [
      "\n",
      "Epoch 00034: cpa_metric reached. Module best state updated.\n",
      "\n",
      "Epoch 00039: cpa_metric reached. Module best state updated.\n"
     ]
    },
    {
     "name": "stdout",
     "output_type": "stream",
     "text": [
      "\n",
      "disnt_basal = 1.6318180303352203\n",
      "disnt_after = 1.7933333333333332\n",
      "val_r2_mean = 0.9472194910049438\n",
      "val_r2_var = -2.556496540705363\n"
     ]
    },
    {
     "name": "stderr",
     "output_type": "stream",
     "text": [
      "\n",
      "Epoch 00049: cpa_metric reached. Module best state updated.\n"
     ]
    },
    {
     "name": "stdout",
     "output_type": "stream",
     "text": [
      "\n",
      "disnt_basal = 1.6443118337353313\n",
      "disnt_after = 1.7933333333333334\n",
      "val_r2_mean = 0.9454571604728699\n",
      "val_r2_var = -2.501921812693278\n"
     ]
    },
    {
     "name": "stderr",
     "output_type": "stream",
     "text": [
      "\n",
      "Epoch 00054: cpa_metric reached. Module best state updated.\n",
      "\n",
      "Epoch 00059: cpa_metric reached. Module best state updated.\n"
     ]
    },
    {
     "name": "stdout",
     "output_type": "stream",
     "text": [
      "\n",
      "disnt_basal = 1.6417125944070219\n",
      "disnt_after = 1.7933333333333334\n",
      "val_r2_mean = 0.9489310185114542\n",
      "val_r2_var = -2.4176193873087564\n"
     ]
    },
    {
     "name": "stderr",
     "output_type": "stream",
     "text": [
      "\n",
      "Epoch 00064: cpa_metric reached. Module best state updated.\n",
      "\n",
      "Epoch 00069: cpa_metric reached. Module best state updated.\n"
     ]
    },
    {
     "name": "stdout",
     "output_type": "stream",
     "text": [
      "\n",
      "disnt_basal = 1.6404539035454966\n",
      "disnt_after = 1.7933333333333334\n",
      "val_r2_mean = 0.9514341553052267\n",
      "val_r2_var = -2.349461555480957\n"
     ]
    },
    {
     "name": "stderr",
     "output_type": "stream",
     "text": [
      "\n",
      "Epoch 00074: cpa_metric reached. Module best state updated.\n",
      "\n",
      "Epoch 00079: cpa_metric reached. Module best state updated.\n"
     ]
    },
    {
     "name": "stdout",
     "output_type": "stream",
     "text": [
      "\n",
      "disnt_basal = 1.6461458190134595\n",
      "disnt_after = 1.7933333333333334\n",
      "val_r2_mean = 0.9540879527727762\n",
      "val_r2_var = -2.3033103148142495\n"
     ]
    },
    {
     "name": "stderr",
     "output_type": "stream",
     "text": [
      "\n",
      "Epoch 00084: cpa_metric reached. Module best state updated.\n",
      "\n",
      "Epoch 00089: cpa_metric reached. Module best state updated.\n"
     ]
    },
    {
     "name": "stdout",
     "output_type": "stream",
     "text": [
      "\n",
      "disnt_basal = 1.641886724071135\n",
      "disnt_after = 1.7933333333333334\n",
      "val_r2_mean = 0.9547244906425476\n",
      "val_r2_var = -2.2316083113352456\n"
     ]
    },
    {
     "name": "stderr",
     "output_type": "stream",
     "text": [
      "\n",
      "Epoch 00094: cpa_metric reached. Module best state updated.\n",
      "\n",
      "Epoch 00099: cpa_metric reached. Module best state updated.\n"
     ]
    },
    {
     "name": "stdout",
     "output_type": "stream",
     "text": [
      "\n",
      "disnt_basal = 1.6454453428646414\n",
      "disnt_after = 1.7933333333333334\n",
      "val_r2_mean = 0.9562251170476278\n",
      "val_r2_var = -2.1801846027374268\n"
     ]
    },
    {
     "name": "stderr",
     "output_type": "stream",
     "text": [
      "\n",
      "Epoch 00104: cpa_metric reached. Module best state updated.\n",
      "\n",
      "Epoch 00109: cpa_metric reached. Module best state updated.\n"
     ]
    },
    {
     "name": "stdout",
     "output_type": "stream",
     "text": [
      "\n",
      "disnt_basal = 1.5639976875284372\n",
      "disnt_after = 1.7933333333333334\n",
      "val_r2_mean = 0.9603047172228495\n",
      "val_r2_var = -2.0978084405263266\n",
      "\n",
      "disnt_basal = 1.6475913451724842\n",
      "disnt_after = 1.8163901930099113\n",
      "val_r2_mean = 0.9537652532259623\n",
      "val_r2_var = -1.9823774496714275\n"
     ]
    },
    {
     "name": "stderr",
     "output_type": "stream",
     "text": [
      "\n",
      "Epoch 00124: cpa_metric reached. Module best state updated.\n",
      "\n",
      "Epoch 00129: cpa_metric reached. Module best state updated.\n"
     ]
    },
    {
     "name": "stdout",
     "output_type": "stream",
     "text": [
      "\n",
      "disnt_basal = 1.6444172280057154\n",
      "disnt_after = 1.8146270213875848\n",
      "val_r2_mean = 0.9512648781140646\n",
      "val_r2_var = -1.885379155476888\n"
     ]
    },
    {
     "name": "stderr",
     "output_type": "stream",
     "text": [
      "\n",
      "Epoch 00134: cpa_metric reached. Module best state updated.\n",
      "\n",
      "Epoch 00139: cpa_metric reached. Module best state updated.\n"
     ]
    },
    {
     "name": "stdout",
     "output_type": "stream",
     "text": [
      "\n",
      "disnt_basal = 1.6469348180178378\n",
      "disnt_after = 1.8121857068335943\n",
      "val_r2_mean = 0.9513763189315796\n",
      "val_r2_var = -1.802688757578532\n"
     ]
    },
    {
     "name": "stderr",
     "output_type": "stream",
     "text": [
      "\n",
      "Epoch 00144: cpa_metric reached. Module best state updated.\n"
     ]
    },
    {
     "name": "stdout",
     "output_type": "stream",
     "text": [
      "\n",
      "disnt_basal = 1.6377330233991945\n",
      "disnt_after = 1.8067605633802817\n",
      "val_r2_mean = 0.9618248144785563\n",
      "val_r2_var = -1.7748138109842937\n"
     ]
    },
    {
     "name": "stderr",
     "output_type": "stream",
     "text": [
      "\n",
      "Epoch 00154: cpa_metric reached. Module best state updated.\n",
      "\n",
      "Epoch 00159: cpa_metric reached. Module best state updated.\n"
     ]
    },
    {
     "name": "stdout",
     "output_type": "stream",
     "text": [
      "\n",
      "disnt_basal = 1.5982316026362917\n",
      "disnt_after = 1.7994366197183098\n",
      "val_r2_mean = 0.9607738057772318\n",
      "val_r2_var = -1.6992289225260417\n"
     ]
    },
    {
     "name": "stderr",
     "output_type": "stream",
     "text": [
      "\n",
      "Epoch 00164: cpa_metric reached. Module best state updated.\n",
      "\n",
      "Epoch 00169: cpa_metric reached. Module best state updated.\n"
     ]
    },
    {
     "name": "stdout",
     "output_type": "stream",
     "text": [
      "\n",
      "disnt_basal = 1.319843621193459\n",
      "disnt_after = 1.793740219092332\n",
      "val_r2_mean = 0.9567431410153707\n",
      "val_r2_var = -1.6562615235646565\n",
      "\n",
      "disnt_basal = 1.5935783645975232\n",
      "disnt_after = 1.7933333333333334\n",
      "val_r2_mean = 0.9548410971959432\n",
      "val_r2_var = -1.5239485104878743\n",
      "\n",
      "disnt_basal = 1.6094270754501705\n",
      "disnt_after = 1.7933333333333334\n",
      "val_r2_mean = 0.9580127000808716\n",
      "val_r2_var = -1.5137157440185547\n"
     ]
    },
    {
     "name": "stderr",
     "output_type": "stream",
     "text": [
      "100%|██████████| 1/1 [00:00<00:00, 22.08it/s]\n",
      "cpa_single_pert:   0%|          | 10/2184 [02:32<9:23:30, 15.55s/it]"
     ]
    },
    {
     "name": "stdout",
     "output_type": "stream",
     "text": [
      "Warning: dosage_key is not set. Setting it to \"1.0\" for all cells\n"
     ]
    },
    {
     "name": "stderr",
     "output_type": "stream",
     "text": [
      "100%|██████████| 1520/1520 [00:00<00:00, 80132.50it/s]\n",
      "100%|██████████| 1520/1520 [00:00<00:00, 1129378.58it/s]"
     ]
    },
    {
     "name": "stdout",
     "output_type": "stream",
     "text": [
      "\u001b[34mINFO    \u001b[0m Generating sequential column names                                                                        \n",
      "\u001b[34mINFO    \u001b[0m Generating sequential column names                                                                        \n"
     ]
    },
    {
     "name": "stderr",
     "output_type": "stream",
     "text": [
      "\n",
      "Global seed set to 6977\n",
      "100%|██████████| 2/2 [00:00<00:00, 894.31it/s]\n",
      "GPU available: True (cuda), used: True\n",
      "TPU available: False, using: 0 TPU cores\n",
      "IPU available: False, using: 0 IPUs\n",
      "HPU available: False, using: 0 HPUs\n",
      "You are using a CUDA device ('NVIDIA GeForce RTX 3090') that has Tensor Cores. To properly utilize them, you should set `torch.set_float32_matmul_precision('medium' | 'high')` which will trade-off precision for performance. For more details, read https://pytorch.org/docs/stable/generated/torch.set_float32_matmul_precision.html#torch.set_float32_matmul_precision\n",
      "LOCAL_RANK: 0 - CUDA_VISIBLE_DEVICES: [0,1,2,3]\n",
      "\n",
      "Epoch 00004: cpa_metric reached. Module best state updated.\n",
      "\n",
      "Epoch 00009: cpa_metric reached. Module best state updated.\n"
     ]
    },
    {
     "name": "stdout",
     "output_type": "stream",
     "text": [
      "\n",
      "disnt_basal = 1.6715250965250965\n",
      "disnt_after = 1.912162162162162\n",
      "val_r2_mean = 0.33875419696172077\n",
      "val_r2_var = -2.709535837173462\n"
     ]
    },
    {
     "name": "stderr",
     "output_type": "stream",
     "text": [
      "\n",
      "Epoch 00014: cpa_metric reached. Module best state updated.\n",
      "\n",
      "Epoch 00019: cpa_metric reached. Module best state updated.\n"
     ]
    },
    {
     "name": "stdout",
     "output_type": "stream",
     "text": [
      "\n",
      "disnt_basal = 1.6763030888030888\n",
      "disnt_after = 1.912162162162162\n",
      "val_r2_mean = 0.7972262899080912\n",
      "val_r2_var = -2.712682088216146\n"
     ]
    },
    {
     "name": "stderr",
     "output_type": "stream",
     "text": [
      "\n",
      "Epoch 00024: cpa_metric reached. Module best state updated.\n",
      "\n",
      "Epoch 00029: cpa_metric reached. Module best state updated.\n"
     ]
    },
    {
     "name": "stdout",
     "output_type": "stream",
     "text": [
      "\n",
      "disnt_basal = 1.6616518661518662\n",
      "disnt_after = 1.9099705474705475\n",
      "val_r2_mean = 0.9323592583338419\n",
      "val_r2_var = -2.699217955271403\n"
     ]
    },
    {
     "name": "stderr",
     "output_type": "stream",
     "text": [
      "\n",
      "Epoch 00034: cpa_metric reached. Module best state updated.\n"
     ]
    },
    {
     "name": "stdout",
     "output_type": "stream",
     "text": [
      "\n",
      "disnt_basal = 1.6764227799227798\n",
      "disnt_after = 1.9041580041580042\n",
      "val_r2_mean = 0.93873530626297\n",
      "val_r2_var = -2.6613501707712808\n"
     ]
    },
    {
     "name": "stderr",
     "output_type": "stream",
     "text": [
      "\n",
      "Epoch 00044: cpa_metric reached. Module best state updated.\n",
      "\n",
      "Epoch 00049: cpa_metric reached. Module best state updated.\n"
     ]
    },
    {
     "name": "stdout",
     "output_type": "stream",
     "text": [
      "\n",
      "disnt_basal = 1.669550193050193\n",
      "disnt_after = 1.896153846153846\n",
      "val_r2_mean = 0.947451651096344\n",
      "val_r2_var = -2.6237974166870117\n"
     ]
    },
    {
     "name": "stderr",
     "output_type": "stream",
     "text": [
      "\n",
      "Epoch 00054: cpa_metric reached. Module best state updated.\n",
      "\n",
      "Epoch 00059: cpa_metric reached. Module best state updated.\n"
     ]
    },
    {
     "name": "stdout",
     "output_type": "stream",
     "text": [
      "\n",
      "disnt_basal = 1.663377734877735\n",
      "disnt_after = 1.896153846153846\n",
      "val_r2_mean = 0.9511892795562744\n",
      "val_r2_var = -2.5485036373138428\n"
     ]
    },
    {
     "name": "stderr",
     "output_type": "stream",
     "text": [
      "\n",
      "Epoch 00064: cpa_metric reached. Module best state updated.\n",
      "\n",
      "Epoch 00069: cpa_metric reached. Module best state updated.\n"
     ]
    },
    {
     "name": "stdout",
     "output_type": "stream",
     "text": [
      "\n",
      "disnt_basal = 1.6622265122265123\n",
      "disnt_after = 1.8963444213444212\n",
      "val_r2_mean = 0.9548285206158956\n",
      "val_r2_var = -2.49703311920166\n"
     ]
    },
    {
     "name": "stderr",
     "output_type": "stream",
     "text": [
      "\n",
      "Epoch 00074: cpa_metric reached. Module best state updated.\n",
      "\n",
      "Epoch 00079: cpa_metric reached. Module best state updated.\n"
     ]
    },
    {
     "name": "stdout",
     "output_type": "stream",
     "text": [
      "\n",
      "disnt_basal = 1.6647245817245817\n",
      "disnt_after = 1.8962491337491336\n",
      "val_r2_mean = 0.9503642320632935\n",
      "val_r2_var = -2.4225684801737466\n"
     ]
    },
    {
     "name": "stderr",
     "output_type": "stream",
     "text": [
      "\n",
      "Epoch 00084: cpa_metric reached. Module best state updated.\n",
      "\n",
      "Epoch 00089: cpa_metric reached. Module best state updated.\n"
     ]
    },
    {
     "name": "stdout",
     "output_type": "stream",
     "text": [
      "\n",
      "disnt_basal = 1.669362290862291\n",
      "disnt_after = 1.896153846153846\n",
      "val_r2_mean = 0.9598462184270223\n",
      "val_r2_var = -2.3571643034617105\n"
     ]
    },
    {
     "name": "stderr",
     "output_type": "stream",
     "text": [
      "\n",
      "Epoch 00094: cpa_metric reached. Module best state updated.\n",
      "\n",
      "Epoch 00099: cpa_metric reached. Module best state updated.\n"
     ]
    },
    {
     "name": "stdout",
     "output_type": "stream",
     "text": [
      "\n",
      "disnt_basal = 1.6681737451737453\n",
      "disnt_after = 1.8962491337491336\n",
      "val_r2_mean = 0.961110790570577\n",
      "val_r2_var = -2.282841761906942\n"
     ]
    },
    {
     "name": "stderr",
     "output_type": "stream",
     "text": [
      "\n",
      "Epoch 00104: cpa_metric reached. Module best state updated.\n",
      "\n",
      "Epoch 00109: cpa_metric reached. Module best state updated.\n"
     ]
    },
    {
     "name": "stdout",
     "output_type": "stream",
     "text": [
      "\n",
      "disnt_basal = 1.6497419067419068\n",
      "disnt_after = 1.896153846153846\n",
      "val_r2_mean = 0.9566459059715271\n",
      "val_r2_var = -2.1881515979766846\n"
     ]
    },
    {
     "name": "stderr",
     "output_type": "stream",
     "text": [
      "\n",
      "Epoch 00114: cpa_metric reached. Module best state updated.\n"
     ]
    },
    {
     "name": "stdout",
     "output_type": "stream",
     "text": [
      "\n",
      "disnt_basal = 1.664461191961192\n",
      "disnt_after = 1.9016805266805266\n",
      "val_r2_mean = 0.9592636227607727\n",
      "val_r2_var = -2.1870513757069907\n",
      "\n",
      "disnt_basal = 1.6825990495990495\n",
      "disnt_after = 1.9061590436590437\n",
      "val_r2_mean = 0.9551216761271158\n",
      "val_r2_var = -2.0008467038472495\n",
      "\n",
      "disnt_basal = 1.67994653994654\n",
      "disnt_after = 1.9054920304920304\n",
      "val_r2_mean = 0.9567233721415201\n",
      "val_r2_var = -1.8855384190877278\n"
     ]
    },
    {
     "name": "stderr",
     "output_type": "stream",
     "text": [
      "100%|██████████| 1/1 [00:00<00:00, 18.48it/s]\n",
      "cpa_single_pert:   1%|          | 11/2184 [02:46<9:06:30, 15.09s/it]"
     ]
    },
    {
     "name": "stdout",
     "output_type": "stream",
     "text": [
      "Warning: dosage_key is not set. Setting it to \"1.0\" for all cells\n"
     ]
    },
    {
     "name": "stderr",
     "output_type": "stream",
     "text": [
      "100%|██████████| 1458/1458 [00:00<00:00, 83725.29it/s]\n",
      "100%|██████████| 1458/1458 [00:00<00:00, 853733.80it/s]"
     ]
    },
    {
     "name": "stdout",
     "output_type": "stream",
     "text": [
      "\u001b[34mINFO    \u001b[0m Generating sequential column names                                                                        \n",
      "\u001b[34mINFO    \u001b[0m Generating sequential column names                                                                        \n"
     ]
    },
    {
     "name": "stderr",
     "output_type": "stream",
     "text": [
      "\n",
      "Global seed set to 6977\n",
      "100%|██████████| 2/2 [00:00<00:00, 881.99it/s]\n",
      "GPU available: True (cuda), used: True\n",
      "TPU available: False, using: 0 TPU cores\n",
      "IPU available: False, using: 0 IPUs\n",
      "HPU available: False, using: 0 HPUs\n",
      "You are using a CUDA device ('NVIDIA GeForce RTX 3090') that has Tensor Cores. To properly utilize them, you should set `torch.set_float32_matmul_precision('medium' | 'high')` which will trade-off precision for performance. For more details, read https://pytorch.org/docs/stable/generated/torch.set_float32_matmul_precision.html#torch.set_float32_matmul_precision\n",
      "LOCAL_RANK: 0 - CUDA_VISIBLE_DEVICES: [0,1,2,3]\n",
      "\n",
      "Epoch 00004: cpa_metric reached. Module best state updated.\n",
      "\n",
      "Epoch 00009: cpa_metric reached. Module best state updated.\n"
     ]
    },
    {
     "name": "stdout",
     "output_type": "stream",
     "text": [
      "\n",
      "disnt_basal = 1.6645833333333333\n",
      "disnt_after = 1.8375000000000001\n",
      "val_r2_mean = 0.2879616419474284\n",
      "val_r2_var = -2.350093682607015\n"
     ]
    },
    {
     "name": "stderr",
     "output_type": "stream",
     "text": [
      "\n",
      "Epoch 00014: cpa_metric reached. Module best state updated.\n",
      "\n",
      "Epoch 00019: cpa_metric reached. Module best state updated.\n"
     ]
    },
    {
     "name": "stdout",
     "output_type": "stream",
     "text": [
      "\n",
      "disnt_basal = 1.6550925925925926\n",
      "disnt_after = 1.8375000000000001\n",
      "val_r2_mean = 0.7695302168528239\n",
      "val_r2_var = -2.351834853490194\n"
     ]
    },
    {
     "name": "stderr",
     "output_type": "stream",
     "text": [
      "\n",
      "Epoch 00024: cpa_metric reached. Module best state updated.\n",
      "\n",
      "Epoch 00029: cpa_metric reached. Module best state updated.\n"
     ]
    },
    {
     "name": "stdout",
     "output_type": "stream",
     "text": [
      "\n",
      "disnt_basal = 1.6450648148148148\n",
      "disnt_after = 1.831219806763285\n",
      "val_r2_mean = 0.9181086818377177\n",
      "val_r2_var = -2.3357690970102944\n"
     ]
    },
    {
     "name": "stderr",
     "output_type": "stream",
     "text": [
      "\n",
      "Epoch 00034: cpa_metric reached. Module best state updated.\n",
      "\n",
      "Epoch 00039: cpa_metric reached. Module best state updated.\n"
     ]
    },
    {
     "name": "stdout",
     "output_type": "stream",
     "text": [
      "\n",
      "disnt_basal = 1.6414074074074074\n",
      "disnt_after = 1.8131642512077295\n",
      "val_r2_mean = 0.938613216082255\n",
      "val_r2_var = -2.294973373413086\n",
      "\n",
      "disnt_basal = 1.650425925925926\n",
      "disnt_after = 1.8115942028985508\n",
      "val_r2_mean = 0.9287051558494568\n",
      "val_r2_var = -2.2685186862945557\n"
     ]
    },
    {
     "name": "stderr",
     "output_type": "stream",
     "text": [
      "\n",
      "Epoch 00054: cpa_metric reached. Module best state updated.\n",
      "\n",
      "Epoch 00059: cpa_metric reached. Module best state updated.\n"
     ]
    },
    {
     "name": "stdout",
     "output_type": "stream",
     "text": [
      "\n",
      "disnt_basal = 1.65\n",
      "disnt_after = 1.811725040257649\n",
      "val_r2_mean = 0.9312011003494263\n",
      "val_r2_var = -2.196088949839274\n"
     ]
    },
    {
     "name": "stderr",
     "output_type": "stream",
     "text": [
      "\n",
      "Epoch 00064: cpa_metric reached. Module best state updated.\n",
      "\n",
      "Epoch 00069: cpa_metric reached. Module best state updated.\n"
     ]
    },
    {
     "name": "stdout",
     "output_type": "stream",
     "text": [
      "\n",
      "disnt_basal = 1.6569444444444446\n",
      "disnt_after = 1.8115942028985508\n",
      "val_r2_mean = 0.9396840731302897\n",
      "val_r2_var = -2.1393309434254966\n"
     ]
    },
    {
     "name": "stderr",
     "output_type": "stream",
     "text": [
      "\n",
      "Epoch 00074: cpa_metric reached. Module best state updated.\n",
      "\n",
      "Epoch 00079: cpa_metric reached. Module best state updated.\n"
     ]
    },
    {
     "name": "stdout",
     "output_type": "stream",
     "text": [
      "\n",
      "disnt_basal = 1.6585648148148149\n",
      "disnt_after = 1.8115942028985508\n",
      "val_r2_mean = 0.943692147731781\n",
      "val_r2_var = -2.0860716501871743\n"
     ]
    },
    {
     "name": "stderr",
     "output_type": "stream",
     "text": [
      "\n",
      "Epoch 00084: cpa_metric reached. Module best state updated.\n",
      "\n",
      "Epoch 00089: cpa_metric reached. Module best state updated.\n"
     ]
    },
    {
     "name": "stdout",
     "output_type": "stream",
     "text": [
      "\n",
      "disnt_basal = 1.6551932367149758\n",
      "disnt_after = 1.8115942028985508\n",
      "val_r2_mean = 0.9499649604161581\n",
      "val_r2_var = -2.0334231853485107\n"
     ]
    },
    {
     "name": "stderr",
     "output_type": "stream",
     "text": [
      "\n",
      "Epoch 00094: cpa_metric reached. Module best state updated.\n",
      "\n",
      "Epoch 00099: cpa_metric reached. Module best state updated.\n"
     ]
    },
    {
     "name": "stdout",
     "output_type": "stream",
     "text": [
      "\n",
      "disnt_basal = 1.6418341384863124\n",
      "disnt_after = 1.811725040257649\n",
      "val_r2_mean = 0.9535052378972372\n",
      "val_r2_var = -1.9587825934092205\n"
     ]
    },
    {
     "name": "stderr",
     "output_type": "stream",
     "text": [
      "\n",
      "Epoch 00104: cpa_metric reached. Module best state updated.\n",
      "\n",
      "Epoch 00109: cpa_metric reached. Module best state updated.\n"
     ]
    },
    {
     "name": "stdout",
     "output_type": "stream",
     "text": [
      "\n",
      "disnt_basal = 1.3687946859903382\n",
      "disnt_after = 1.8143417874396137\n",
      "val_r2_mean = 0.9509349664052328\n",
      "val_r2_var = -1.917322079340617\n",
      "\n",
      "disnt_basal = 1.6541453301127214\n",
      "disnt_after = 1.8280797101449275\n",
      "val_r2_mean = 0.9467145005861918\n",
      "val_r2_var = -1.7950173219045003\n",
      "\n",
      "disnt_basal = 1.6505712560386474\n",
      "disnt_after = 1.825462962962963\n",
      "val_r2_mean = 0.9574272036552429\n",
      "val_r2_var = -1.7075150807698567\n"
     ]
    },
    {
     "name": "stderr",
     "output_type": "stream",
     "text": [
      "100%|██████████| 1/1 [00:00<00:00, 26.54it/s]\n",
      "cpa_single_pert:   1%|          | 12/2184 [02:59<8:43:10, 14.45s/it]"
     ]
    },
    {
     "name": "stdout",
     "output_type": "stream",
     "text": [
      "Warning: dosage_key is not set. Setting it to \"1.0\" for all cells\n"
     ]
    },
    {
     "name": "stderr",
     "output_type": "stream",
     "text": [
      "100%|██████████| 1590/1590 [00:00<00:00, 82295.04it/s]\n",
      "100%|██████████| 1590/1590 [00:00<00:00, 1102851.56it/s]"
     ]
    },
    {
     "name": "stdout",
     "output_type": "stream",
     "text": [
      "\u001b[34mINFO    \u001b[0m Generating sequential column names                                                                        \n",
      "\u001b[34mINFO    \u001b[0m Generating sequential column names                                                                        \n"
     ]
    },
    {
     "name": "stderr",
     "output_type": "stream",
     "text": [
      "\n",
      "Global seed set to 6977\n",
      "100%|██████████| 2/2 [00:00<00:00, 889.09it/s]\n",
      "GPU available: True (cuda), used: True\n",
      "TPU available: False, using: 0 TPU cores\n",
      "IPU available: False, using: 0 IPUs\n",
      "HPU available: False, using: 0 HPUs\n",
      "You are using a CUDA device ('NVIDIA GeForce RTX 3090') that has Tensor Cores. To properly utilize them, you should set `torch.set_float32_matmul_precision('medium' | 'high')` which will trade-off precision for performance. For more details, read https://pytorch.org/docs/stable/generated/torch.set_float32_matmul_precision.html#torch.set_float32_matmul_precision\n",
      "LOCAL_RANK: 0 - CUDA_VISIBLE_DEVICES: [0,1,2,3]\n",
      "\n",
      "Epoch 00004: cpa_metric reached. Module best state updated.\n",
      "\n",
      "Epoch 00009: cpa_metric reached. Module best state updated.\n"
     ]
    },
    {
     "name": "stdout",
     "output_type": "stream",
     "text": [
      "\n",
      "disnt_basal = 1.6614920634920636\n",
      "disnt_after = 1.9813333333333334\n",
      "val_r2_mean = 0.34738367795944214\n",
      "val_r2_var = -2.618999640146891\n"
     ]
    },
    {
     "name": "stderr",
     "output_type": "stream",
     "text": [
      "\n",
      "Epoch 00014: cpa_metric reached. Module best state updated.\n",
      "\n",
      "Epoch 00019: cpa_metric reached. Module best state updated.\n"
     ]
    },
    {
     "name": "stdout",
     "output_type": "stream",
     "text": [
      "\n",
      "disnt_basal = 1.6592698412698412\n",
      "disnt_after = 1.9813333333333334\n",
      "val_r2_mean = 0.7981757322947184\n",
      "val_r2_var = -2.621148109436035\n"
     ]
    },
    {
     "name": "stderr",
     "output_type": "stream",
     "text": [
      "\n",
      "Epoch 00024: cpa_metric reached. Module best state updated.\n",
      "\n",
      "Epoch 00029: cpa_metric reached. Module best state updated.\n"
     ]
    },
    {
     "name": "stdout",
     "output_type": "stream",
     "text": [
      "\n",
      "disnt_basal = 1.6595184059439378\n",
      "disnt_after = 1.9813333333333334\n",
      "val_r2_mean = 0.9346696337064108\n",
      "val_r2_var = -2.605388561884562\n"
     ]
    },
    {
     "name": "stderr",
     "output_type": "stream",
     "text": [
      "\n",
      "Epoch 00034: cpa_metric reached. Module best state updated.\n",
      "\n",
      "Epoch 00039: cpa_metric reached. Module best state updated.\n"
     ]
    },
    {
     "name": "stdout",
     "output_type": "stream",
     "text": [
      "\n",
      "disnt_basal = 1.657047619047619\n",
      "disnt_after = 1.9787513227513227\n",
      "val_r2_mean = 0.9481182893117269\n",
      "val_r2_var = -2.571783701578776\n"
     ]
    },
    {
     "name": "stderr",
     "output_type": "stream",
     "text": [
      "\n",
      "Epoch 00044: cpa_metric reached. Module best state updated.\n",
      "\n",
      "Epoch 00049: cpa_metric reached. Module best state updated.\n"
     ]
    },
    {
     "name": "stdout",
     "output_type": "stream",
     "text": [
      "\n",
      "disnt_basal = 1.654984126984127\n",
      "disnt_after = 1.977862433862434\n",
      "val_r2_mean = 0.9530457655588785\n",
      "val_r2_var = -2.525882085164388\n"
     ]
    },
    {
     "name": "stderr",
     "output_type": "stream",
     "text": [
      "\n",
      "Epoch 00054: cpa_metric reached. Module best state updated.\n",
      "\n",
      "Epoch 00059: cpa_metric reached. Module best state updated.\n"
     ]
    },
    {
     "name": "stdout",
     "output_type": "stream",
     "text": [
      "\n",
      "disnt_basal = 1.6625396825396825\n",
      "disnt_after = 1.977904761904762\n",
      "val_r2_mean = 0.9560842712720236\n",
      "val_r2_var = -2.4607207775115967\n"
     ]
    },
    {
     "name": "stderr",
     "output_type": "stream",
     "text": [
      "\n",
      "Epoch 00064: cpa_metric reached. Module best state updated.\n",
      "\n",
      "Epoch 00069: cpa_metric reached. Module best state updated.\n"
     ]
    },
    {
     "name": "stdout",
     "output_type": "stream",
     "text": [
      "\n",
      "disnt_basal = 1.6643492063492062\n",
      "disnt_after = 1.977904761904762\n",
      "val_r2_mean = 0.9556785225868225\n",
      "val_r2_var = -2.372267166773478\n"
     ]
    },
    {
     "name": "stderr",
     "output_type": "stream",
     "text": [
      "\n",
      "Epoch 00074: cpa_metric reached. Module best state updated.\n",
      "\n",
      "Epoch 00079: cpa_metric reached. Module best state updated.\n"
     ]
    },
    {
     "name": "stdout",
     "output_type": "stream",
     "text": [
      "\n",
      "disnt_basal = 1.663015873015873\n",
      "disnt_after = 1.977904761904762\n",
      "val_r2_mean = 0.9623288909594218\n",
      "val_r2_var = -2.2979396184285483\n"
     ]
    },
    {
     "name": "stderr",
     "output_type": "stream",
     "text": [
      "\n",
      "Epoch 00084: cpa_metric reached. Module best state updated.\n",
      "\n",
      "Epoch 00089: cpa_metric reached. Module best state updated.\n"
     ]
    },
    {
     "name": "stdout",
     "output_type": "stream",
     "text": [
      "\n",
      "disnt_basal = 1.6631111111111112\n",
      "disnt_after = 1.977904761904762\n",
      "val_r2_mean = 0.9615311423937479\n",
      "val_r2_var = -2.2501818339029946\n"
     ]
    },
    {
     "name": "stderr",
     "output_type": "stream",
     "text": [
      "\n",
      "Epoch 00094: cpa_metric reached. Module best state updated.\n",
      "\n",
      "Epoch 00099: cpa_metric reached. Module best state updated.\n"
     ]
    },
    {
     "name": "stdout",
     "output_type": "stream",
     "text": [
      "\n",
      "disnt_basal = 1.663873015873016\n",
      "disnt_after = 1.977904761904762\n",
      "val_r2_mean = 0.9655895829200745\n",
      "val_r2_var = -2.171518246332804\n"
     ]
    },
    {
     "name": "stderr",
     "output_type": "stream",
     "text": [
      "\n",
      "Epoch 00104: cpa_metric reached. Module best state updated.\n",
      "\n",
      "Epoch 00109: cpa_metric reached. Module best state updated.\n"
     ]
    },
    {
     "name": "stdout",
     "output_type": "stream",
     "text": [
      "\n",
      "disnt_basal = 1.6589730946752224\n",
      "disnt_after = 1.977820105820106\n",
      "val_r2_mean = 0.957540770371755\n",
      "val_r2_var = -2.0861969788869223\n"
     ]
    },
    {
     "name": "stderr",
     "output_type": "stream",
     "text": [
      "\n",
      "Epoch 00114: cpa_metric reached. Module best state updated.\n",
      "\n",
      "Epoch 00119: cpa_metric reached. Module best state updated.\n"
     ]
    },
    {
     "name": "stdout",
     "output_type": "stream",
     "text": [
      "\n",
      "disnt_basal = 1.4498131261961047\n",
      "disnt_after = 1.9784550264550265\n",
      "val_r2_mean = 0.9602910081545512\n",
      "val_r2_var = -2.0192414919535318\n",
      "\n",
      "disnt_basal = 1.6549253630530227\n",
      "disnt_after = 1.980952380952381\n",
      "val_r2_mean = 0.9654593467712402\n",
      "val_r2_var = -1.9430538813273113\n",
      "\n",
      "disnt_basal = 1.6557028031070584\n",
      "disnt_after = 1.9806560846560848\n",
      "val_r2_mean = 0.9653578003247579\n",
      "val_r2_var = -1.8459004561106365\n"
     ]
    },
    {
     "name": "stderr",
     "output_type": "stream",
     "text": [
      "100%|██████████| 1/1 [00:00<00:00, 30.50it/s]\n",
      "cpa_single_pert:   1%|          | 13/2184 [03:12<8:21:31, 13.86s/it]"
     ]
    },
    {
     "name": "stdout",
     "output_type": "stream",
     "text": [
      "Warning: dosage_key is not set. Setting it to \"1.0\" for all cells\n"
     ]
    },
    {
     "name": "stderr",
     "output_type": "stream",
     "text": [
      "100%|██████████| 1452/1452 [00:00<00:00, 84329.80it/s]\n",
      "100%|██████████| 1452/1452 [00:00<00:00, 1111540.32it/s]"
     ]
    },
    {
     "name": "stdout",
     "output_type": "stream",
     "text": [
      "\u001b[34mINFO    \u001b[0m Generating sequential column names                                                                        \n",
      "\u001b[34mINFO    \u001b[0m Generating sequential column names                                                                        \n"
     ]
    },
    {
     "name": "stderr",
     "output_type": "stream",
     "text": [
      "\n",
      "Global seed set to 6977\n",
      "100%|██████████| 2/2 [00:00<00:00, 426.90it/s]\n",
      "GPU available: True (cuda), used: True\n",
      "TPU available: False, using: 0 TPU cores\n",
      "IPU available: False, using: 0 IPUs\n",
      "HPU available: False, using: 0 HPUs\n",
      "You are using a CUDA device ('NVIDIA GeForce RTX 3090') that has Tensor Cores. To properly utilize them, you should set `torch.set_float32_matmul_precision('medium' | 'high')` which will trade-off precision for performance. For more details, read https://pytorch.org/docs/stable/generated/torch.set_float32_matmul_precision.html#torch.set_float32_matmul_precision\n",
      "LOCAL_RANK: 0 - CUDA_VISIBLE_DEVICES: [0,1,2,3]\n",
      "\n",
      "Epoch 00004: cpa_metric reached. Module best state updated.\n",
      "\n",
      "Epoch 00009: cpa_metric reached. Module best state updated.\n"
     ]
    },
    {
     "name": "stdout",
     "output_type": "stream",
     "text": [
      "\n",
      "disnt_basal = 1.6618225134008338\n",
      "disnt_after = 1.8246575342465752\n",
      "val_r2_mean = 0.33392155170440674\n",
      "val_r2_var = -2.5672881603240967\n"
     ]
    },
    {
     "name": "stderr",
     "output_type": "stream",
     "text": [
      "\n",
      "Epoch 00014: cpa_metric reached. Module best state updated.\n",
      "\n",
      "Epoch 00019: cpa_metric reached. Module best state updated.\n"
     ]
    },
    {
     "name": "stdout",
     "output_type": "stream",
     "text": [
      "\n",
      "disnt_basal = 1.6570875521143538\n",
      "disnt_after = 1.8246575342465752\n",
      "val_r2_mean = 0.7898481289545695\n",
      "val_r2_var = -2.5704508622487388\n"
     ]
    },
    {
     "name": "stderr",
     "output_type": "stream",
     "text": [
      "\n",
      "Epoch 00024: cpa_metric reached. Module best state updated.\n",
      "\n",
      "Epoch 00029: cpa_metric reached. Module best state updated.\n"
     ]
    },
    {
     "name": "stdout",
     "output_type": "stream",
     "text": [
      "\n",
      "disnt_basal = 1.6381562437959103\n",
      "disnt_after = 1.8190291840381179\n",
      "val_r2_mean = 0.927831212679545\n",
      "val_r2_var = -2.5530714193979898\n"
     ]
    },
    {
     "name": "stderr",
     "output_type": "stream",
     "text": [
      "\n",
      "Epoch 00034: cpa_metric reached. Module best state updated.\n",
      "\n",
      "Epoch 00039: cpa_metric reached. Module best state updated.\n"
     ]
    },
    {
     "name": "stdout",
     "output_type": "stream",
     "text": [
      "\n",
      "disnt_basal = 1.6373845542981935\n",
      "disnt_after = 1.8006700416914831\n",
      "val_r2_mean = 0.9420348207155863\n",
      "val_r2_var = -2.5124780337015786\n"
     ]
    },
    {
     "name": "stderr",
     "output_type": "stream",
     "text": [
      "\n",
      "Epoch 00044: cpa_metric reached. Module best state updated.\n"
     ]
    },
    {
     "name": "stdout",
     "output_type": "stream",
     "text": [
      "\n",
      "disnt_basal = 1.6502755608497122\n",
      "disnt_after = 1.7999999999999998\n",
      "val_r2_mean = 0.9394235809644064\n",
      "val_r2_var = -2.4586164156595864\n"
     ]
    },
    {
     "name": "stderr",
     "output_type": "stream",
     "text": [
      "\n",
      "Epoch 00059: cpa_metric reached. Module best state updated.\n"
     ]
    },
    {
     "name": "stdout",
     "output_type": "stream",
     "text": [
      "\n",
      "disnt_basal = 1.6480841770895376\n",
      "disnt_after = 1.7999999999999998\n",
      "val_r2_mean = 0.94125896692276\n",
      "val_r2_var = -2.389039675394694\n"
     ]
    },
    {
     "name": "stderr",
     "output_type": "stream",
     "text": [
      "\n",
      "Epoch 00064: cpa_metric reached. Module best state updated.\n",
      "\n",
      "Epoch 00069: cpa_metric reached. Module best state updated.\n"
     ]
    },
    {
     "name": "stdout",
     "output_type": "stream",
     "text": [
      "\n",
      "disnt_basal = 1.6476970418900139\n",
      "disnt_after = 1.7999999999999998\n",
      "val_r2_mean = 0.9432112177213033\n",
      "val_r2_var = -2.334916591644287\n"
     ]
    },
    {
     "name": "stderr",
     "output_type": "stream",
     "text": [
      "\n",
      "Epoch 00074: cpa_metric reached. Module best state updated.\n",
      "\n",
      "Epoch 00079: cpa_metric reached. Module best state updated.\n"
     ]
    },
    {
     "name": "stdout",
     "output_type": "stream",
     "text": [
      "\n",
      "disnt_basal = 1.6503672821123685\n",
      "disnt_after = 1.7999999999999998\n",
      "val_r2_mean = 0.94239874680837\n",
      "val_r2_var = -2.295102914174398\n"
     ]
    },
    {
     "name": "stderr",
     "output_type": "stream",
     "text": [
      "\n",
      "Epoch 00084: cpa_metric reached. Module best state updated.\n",
      "\n",
      "Epoch 00089: cpa_metric reached. Module best state updated.\n"
     ]
    },
    {
     "name": "stdout",
     "output_type": "stream",
     "text": [
      "\n",
      "disnt_basal = 1.6570875521143538\n",
      "disnt_after = 1.7999999999999998\n",
      "val_r2_mean = 0.9416929483413696\n",
      "val_r2_var = -2.2311163743336997\n"
     ]
    },
    {
     "name": "stderr",
     "output_type": "stream",
     "text": [
      "\n",
      "Epoch 00094: cpa_metric reached. Module best state updated.\n",
      "\n",
      "Epoch 00099: cpa_metric reached. Module best state updated.\n"
     ]
    },
    {
     "name": "stdout",
     "output_type": "stream",
     "text": [
      "\n",
      "disnt_basal = 1.6502467738733375\n",
      "disnt_after = 1.7999999999999998\n",
      "val_r2_mean = 0.9483636617660522\n",
      "val_r2_var = -2.1465214093526206\n"
     ]
    },
    {
     "name": "stderr",
     "output_type": "stream",
     "text": [
      "\n",
      "Epoch 00104: cpa_metric reached. Module best state updated.\n",
      "\n",
      "Epoch 00109: cpa_metric reached. Module best state updated.\n"
     ]
    },
    {
     "name": "stdout",
     "output_type": "stream",
     "text": [
      "\n",
      "disnt_basal = 1.6354816358943816\n",
      "disnt_after = 1.7999999999999998\n",
      "val_r2_mean = 0.9543981949488322\n",
      "val_r2_var = -2.1001929442087808\n"
     ]
    },
    {
     "name": "stderr",
     "output_type": "stream",
     "text": [
      "\n",
      "Epoch 00114: cpa_metric reached. Module best state updated.\n",
      "\n",
      "Epoch 00119: cpa_metric reached. Module best state updated.\n"
     ]
    },
    {
     "name": "stdout",
     "output_type": "stream",
     "text": [
      "\n",
      "disnt_basal = 1.3762898550724638\n",
      "disnt_after = 1.8002680166765932\n",
      "val_r2_mean = 0.9541044433911642\n",
      "val_r2_var = -2.06018058458964\n",
      "\n",
      "disnt_basal = 1.6544867976970419\n",
      "disnt_after = 1.8184931506849313\n",
      "val_r2_mean = 0.9544829924901327\n",
      "val_r2_var = -1.999021848042806\n",
      "\n",
      "disnt_basal = 1.6547548143736353\n",
      "disnt_after = 1.8170190589636688\n",
      "val_r2_mean = 0.9533861875534058\n",
      "val_r2_var = -1.874489386876424\n"
     ]
    },
    {
     "name": "stderr",
     "output_type": "stream",
     "text": [
      "100%|██████████| 1/1 [00:00<00:00, 27.37it/s]\n",
      "cpa_single_pert:   1%|          | 14/2184 [03:27<8:36:40, 14.29s/it]"
     ]
    },
    {
     "name": "stdout",
     "output_type": "stream",
     "text": [
      "Warning: dosage_key is not set. Setting it to \"1.0\" for all cells\n"
     ]
    },
    {
     "name": "stderr",
     "output_type": "stream",
     "text": [
      "100%|██████████| 1920/1920 [00:00<00:00, 78699.30it/s]\n",
      "100%|██████████| 1920/1920 [00:00<00:00, 1063672.39it/s]"
     ]
    },
    {
     "name": "stdout",
     "output_type": "stream",
     "text": [
      "\u001b[34mINFO    \u001b[0m Generating sequential column names                                                                        \n",
      "\u001b[34mINFO    \u001b[0m Generating sequential column names                                                                        \n"
     ]
    },
    {
     "name": "stderr",
     "output_type": "stream",
     "text": [
      "\n",
      "Global seed set to 6977\n",
      "100%|██████████| 2/2 [00:00<00:00, 1102.89it/s]\n",
      "GPU available: True (cuda), used: True\n",
      "TPU available: False, using: 0 TPU cores\n",
      "IPU available: False, using: 0 IPUs\n",
      "HPU available: False, using: 0 HPUs\n",
      "You are using a CUDA device ('NVIDIA GeForce RTX 3090') that has Tensor Cores. To properly utilize them, you should set `torch.set_float32_matmul_precision('medium' | 'high')` which will trade-off precision for performance. For more details, read https://pytorch.org/docs/stable/generated/torch.set_float32_matmul_precision.html#torch.set_float32_matmul_precision\n",
      "LOCAL_RANK: 0 - CUDA_VISIBLE_DEVICES: [0,1,2,3]\n",
      "\n",
      "Epoch 00004: cpa_metric reached. Module best state updated.\n",
      "\n",
      "Epoch 00009: cpa_metric reached. Module best state updated.\n"
     ]
    },
    {
     "name": "stdout",
     "output_type": "stream",
     "text": [
      "\n",
      "disnt_basal = 1.6292446941323346\n",
      "disnt_after = 2.0\n",
      "val_r2_mean = 0.5729731122652689\n",
      "val_r2_var = -2.726543744405111\n"
     ]
    },
    {
     "name": "stderr",
     "output_type": "stream",
     "text": [
      "\n",
      "Epoch 00014: cpa_metric reached. Module best state updated.\n",
      "\n",
      "Epoch 00019: cpa_metric reached. Module best state updated.\n"
     ]
    },
    {
     "name": "stdout",
     "output_type": "stream",
     "text": [
      "\n",
      "disnt_basal = 1.6276273581634069\n",
      "disnt_after = 2.0\n",
      "val_r2_mean = 0.9450042247772217\n",
      "val_r2_var = -2.7167762915293374\n"
     ]
    },
    {
     "name": "stderr",
     "output_type": "stream",
     "text": [
      "\n",
      "Epoch 00024: cpa_metric reached. Module best state updated.\n",
      "\n",
      "Epoch 00029: cpa_metric reached. Module best state updated.\n"
     ]
    },
    {
     "name": "stdout",
     "output_type": "stream",
     "text": [
      "\n",
      "disnt_basal = 1.6032598141212375\n",
      "disnt_after = 2.0\n",
      "val_r2_mean = 0.964261015256246\n",
      "val_r2_var = -2.6684793631235757\n"
     ]
    },
    {
     "name": "stderr",
     "output_type": "stream",
     "text": [
      "\n",
      "Epoch 00034: cpa_metric reached. Module best state updated.\n",
      "\n",
      "Epoch 00039: cpa_metric reached. Module best state updated.\n"
     ]
    },
    {
     "name": "stdout",
     "output_type": "stream",
     "text": [
      "\n",
      "disnt_basal = 1.5893813288944376\n",
      "disnt_after = 2.0\n",
      "val_r2_mean = 0.9642144640286764\n",
      "val_r2_var = -2.6173930962880454\n"
     ]
    },
    {
     "name": "stderr",
     "output_type": "stream",
     "text": [
      "\n",
      "Epoch 00044: cpa_metric reached. Module best state updated.\n"
     ]
    },
    {
     "name": "stdout",
     "output_type": "stream",
     "text": [
      "\n",
      "disnt_basal = 1.591850213731374\n",
      "disnt_after = 2.0\n",
      "val_r2_mean = 0.9673049251238505\n",
      "val_r2_var = -2.5885046323140464\n",
      "\n",
      "disnt_basal = 1.6304801290054098\n",
      "disnt_after = 2.0\n",
      "val_r2_mean = 0.9552059570948283\n",
      "val_r2_var = -2.4285077253977456\n"
     ]
    },
    {
     "name": "stderr",
     "output_type": "stream",
     "text": [
      "\n",
      "Epoch 00064: cpa_metric reached. Module best state updated.\n",
      "\n",
      "Epoch 00069: cpa_metric reached. Module best state updated.\n"
     ]
    },
    {
     "name": "stdout",
     "output_type": "stream",
     "text": [
      "\n",
      "disnt_basal = 1.5993285713764227\n",
      "disnt_after = 2.0\n",
      "val_r2_mean = 0.9613840381304423\n",
      "val_r2_var = -2.3289989630381265\n"
     ]
    },
    {
     "name": "stderr",
     "output_type": "stream",
     "text": [
      "\n",
      "Epoch 00074: cpa_metric reached. Module best state updated.\n",
      "\n",
      "Epoch 00079: cpa_metric reached. Module best state updated.\n"
     ]
    },
    {
     "name": "stdout",
     "output_type": "stream",
     "text": [
      "\n",
      "disnt_basal = 1.6142408794562353\n",
      "disnt_after = 2.0\n",
      "val_r2_mean = 0.9618838429450989\n",
      "val_r2_var = -2.1682868798573813\n"
     ]
    },
    {
     "name": "stderr",
     "output_type": "stream",
     "text": [
      "\n",
      "Epoch 00084: cpa_metric reached. Module best state updated.\n",
      "\n",
      "Epoch 00089: cpa_metric reached. Module best state updated.\n"
     ]
    },
    {
     "name": "stdout",
     "output_type": "stream",
     "text": [
      "\n",
      "disnt_basal = 1.5958482269969556\n",
      "disnt_after = 2.0\n",
      "val_r2_mean = 0.9558196266492208\n",
      "val_r2_var = -2.0754186312357583\n"
     ]
    },
    {
     "name": "stderr",
     "output_type": "stream",
     "text": [
      "\n",
      "Epoch 00094: cpa_metric reached. Module best state updated.\n",
      "\n",
      "Epoch 00099: cpa_metric reached. Module best state updated.\n"
     ]
    },
    {
     "name": "stdout",
     "output_type": "stream",
     "text": [
      "\n",
      "disnt_basal = 1.5358963484971273\n",
      "disnt_after = 2.0\n",
      "val_r2_mean = 0.9640516638755798\n",
      "val_r2_var = -1.979591687520345\n"
     ]
    },
    {
     "name": "stderr",
     "output_type": "stream",
     "text": [
      "\n",
      "Epoch 00104: cpa_metric reached. Module best state updated.\n"
     ]
    },
    {
     "name": "stdout",
     "output_type": "stream",
     "text": [
      "\n",
      "disnt_basal = 1.5386207527505822\n",
      "disnt_after = 2.0\n",
      "val_r2_mean = 0.9645289977391561\n",
      "val_r2_var = -1.9092304706573486\n",
      "\n",
      "disnt_basal = 1.4618477360171132\n",
      "disnt_after = 2.0\n",
      "val_r2_mean = 0.9734293421109518\n",
      "val_r2_var = -1.8591898282368977\n"
     ]
    },
    {
     "name": "stderr",
     "output_type": "stream",
     "text": [
      "\n",
      "Epoch 00124: cpa_metric reached. Module best state updated.\n"
     ]
    },
    {
     "name": "stdout",
     "output_type": "stream",
     "text": [
      "\n",
      "disnt_basal = 1.522600080491491\n",
      "disnt_after = 2.0\n",
      "val_r2_mean = 0.9673162500063578\n",
      "val_r2_var = -1.7868017355600994\n"
     ]
    },
    {
     "name": "stderr",
     "output_type": "stream",
     "text": [
      "\n",
      "Epoch 00139: cpa_metric reached. Module best state updated.\n"
     ]
    },
    {
     "name": "stdout",
     "output_type": "stream",
     "text": [
      "\n",
      "disnt_basal = 1.2073724775682444\n",
      "disnt_after = 2.0\n",
      "val_r2_mean = 0.9729268153508505\n",
      "val_r2_var = -1.7348755995432537\n",
      "\n",
      "disnt_basal = 1.4396647328631609\n",
      "disnt_after = 2.0\n",
      "val_r2_mean = 0.972183624903361\n",
      "val_r2_var = -1.6552414894104004\n"
     ]
    },
    {
     "name": "stderr",
     "output_type": "stream",
     "text": [
      "\n",
      "Epoch 00159: cpa_metric reached. Module best state updated.\n"
     ]
    },
    {
     "name": "stdout",
     "output_type": "stream",
     "text": [
      "\n",
      "disnt_basal = 1.1130238015711353\n",
      "disnt_after = 2.0\n",
      "val_r2_mean = 0.9770786960919698\n",
      "val_r2_var = -1.654726505279541\n",
      "\n",
      "disnt_basal = 1.2529832911711238\n",
      "disnt_after = 2.0\n",
      "val_r2_mean = 0.9752334753672282\n",
      "val_r2_var = -1.620368480682373\n"
     ]
    },
    {
     "name": "stderr",
     "output_type": "stream",
     "text": [
      "\n",
      "Epoch 00179: cpa_metric reached. Module best state updated.\n"
     ]
    },
    {
     "name": "stdout",
     "output_type": "stream",
     "text": [
      "\n",
      "disnt_basal = 1.1068259020157551\n",
      "disnt_after = 2.0\n",
      "val_r2_mean = 0.9767802556355795\n",
      "val_r2_var = -1.559661070505778\n",
      "\n",
      "disnt_basal = 1.2305442484175482\n",
      "disnt_after = 2.0\n",
      "val_r2_mean = 0.9765205780665079\n",
      "val_r2_var = -1.526133934656779\n"
     ]
    },
    {
     "name": "stderr",
     "output_type": "stream",
     "text": [
      "\n",
      "Epoch 00199: cpa_metric reached. Module best state updated.\n"
     ]
    },
    {
     "name": "stdout",
     "output_type": "stream",
     "text": [
      "\n",
      "disnt_basal = 1.0752894362675312\n",
      "disnt_after = 2.0\n",
      "val_r2_mean = 0.9704486926396688\n",
      "val_r2_var = -1.479473352432251\n",
      "\n",
      "disnt_basal = 1.1625953577764636\n",
      "disnt_after = 2.0\n",
      "val_r2_mean = 0.978067954381307\n",
      "val_r2_var = -1.4969589710235596\n",
      "\n",
      "disnt_basal = 1.1318030778412949\n",
      "disnt_after = 2.0\n",
      "val_r2_mean = 0.978255033493042\n",
      "val_r2_var = -1.4442949295043945\n"
     ]
    },
    {
     "name": "stderr",
     "output_type": "stream",
     "text": [
      "100%|██████████| 1/1 [00:00<00:00, 16.90it/s]\n",
      "cpa_single_pert:   1%|          | 15/2184 [04:00<12:03:00, 20.00s/it]"
     ]
    },
    {
     "name": "stdout",
     "output_type": "stream",
     "text": [
      "Warning: dosage_key is not set. Setting it to \"1.0\" for all cells\n"
     ]
    },
    {
     "name": "stderr",
     "output_type": "stream",
     "text": [
      "100%|██████████| 1498/1498 [00:00<00:00, 80177.98it/s]\n",
      "100%|██████████| 1498/1498 [00:00<00:00, 1086096.35it/s]"
     ]
    },
    {
     "name": "stdout",
     "output_type": "stream",
     "text": [
      "\u001b[34mINFO    \u001b[0m Generating sequential column names                                                                        \n",
      "\u001b[34mINFO    \u001b[0m Generating sequential column names                                                                        \n"
     ]
    },
    {
     "name": "stderr",
     "output_type": "stream",
     "text": [
      "\n",
      "Global seed set to 6977\n",
      "100%|██████████| 2/2 [00:00<00:00, 941.69it/s]\n",
      "GPU available: True (cuda), used: True\n",
      "TPU available: False, using: 0 TPU cores\n",
      "IPU available: False, using: 0 IPUs\n",
      "HPU available: False, using: 0 HPUs\n",
      "You are using a CUDA device ('NVIDIA GeForce RTX 3090') that has Tensor Cores. To properly utilize them, you should set `torch.set_float32_matmul_precision('medium' | 'high')` which will trade-off precision for performance. For more details, read https://pytorch.org/docs/stable/generated/torch.set_float32_matmul_precision.html#torch.set_float32_matmul_precision\n",
      "LOCAL_RANK: 0 - CUDA_VISIBLE_DEVICES: [0,1,2,3]\n",
      "\n",
      "Epoch 00004: cpa_metric reached. Module best state updated.\n",
      "\n",
      "Epoch 00009: cpa_metric reached. Module best state updated.\n"
     ]
    },
    {
     "name": "stdout",
     "output_type": "stream",
     "text": [
      "\n",
      "disnt_basal = 1.651931623931624\n",
      "disnt_after = 1.8793333333333333\n",
      "val_r2_mean = 0.3227066198984782\n",
      "val_r2_var = -2.5638760725657144\n"
     ]
    },
    {
     "name": "stderr",
     "output_type": "stream",
     "text": [
      "\n",
      "Epoch 00014: cpa_metric reached. Module best state updated.\n",
      "\n",
      "Epoch 00019: cpa_metric reached. Module best state updated.\n"
     ]
    },
    {
     "name": "stdout",
     "output_type": "stream",
     "text": [
      "\n",
      "disnt_basal = 1.6528376068376067\n",
      "disnt_after = 1.8793333333333333\n",
      "val_r2_mean = 0.7893996834754944\n",
      "val_r2_var = -2.5662038326263428\n"
     ]
    },
    {
     "name": "stderr",
     "output_type": "stream",
     "text": [
      "\n",
      "Epoch 00024: cpa_metric reached. Module best state updated.\n",
      "\n",
      "Epoch 00029: cpa_metric reached. Module best state updated.\n"
     ]
    },
    {
     "name": "stdout",
     "output_type": "stream",
     "text": [
      "\n",
      "disnt_basal = 1.6572976370035195\n",
      "disnt_after = 1.8685555555555555\n",
      "val_r2_mean = 0.9319630861282349\n",
      "val_r2_var = -2.552162488301595\n"
     ]
    },
    {
     "name": "stderr",
     "output_type": "stream",
     "text": [
      "\n",
      "Epoch 00034: cpa_metric reached. Module best state updated.\n",
      "\n",
      "Epoch 00039: cpa_metric reached. Module best state updated.\n"
     ]
    },
    {
     "name": "stdout",
     "output_type": "stream",
     "text": [
      "\n",
      "disnt_basal = 1.6348179989944698\n",
      "disnt_after = 1.8607777777777779\n",
      "val_r2_mean = 0.9374167323112488\n",
      "val_r2_var = -2.5185322761535645\n"
     ]
    },
    {
     "name": "stderr",
     "output_type": "stream",
     "text": [
      "\n",
      "Epoch 00044: cpa_metric reached. Module best state updated.\n"
     ]
    },
    {
     "name": "stdout",
     "output_type": "stream",
     "text": [
      "\n",
      "disnt_basal = 1.6593760683760683\n",
      "disnt_after = 1.8606666666666665\n",
      "val_r2_mean = 0.9361593127250671\n",
      "val_r2_var = -2.479434013366699\n"
     ]
    },
    {
     "name": "stderr",
     "output_type": "stream",
     "text": [
      "\n",
      "Epoch 00059: cpa_metric reached. Module best state updated.\n"
     ]
    },
    {
     "name": "stdout",
     "output_type": "stream",
     "text": [
      "\n",
      "disnt_basal = 1.666179487179487\n",
      "disnt_after = 1.8606666666666665\n",
      "val_r2_mean = 0.944792648156484\n",
      "val_r2_var = -2.405449310938517\n"
     ]
    },
    {
     "name": "stderr",
     "output_type": "stream",
     "text": [
      "\n",
      "Epoch 00064: cpa_metric reached. Module best state updated.\n",
      "\n",
      "Epoch 00069: cpa_metric reached. Module best state updated.\n"
     ]
    },
    {
     "name": "stdout",
     "output_type": "stream",
     "text": [
      "\n",
      "disnt_basal = 1.660854700854701\n",
      "disnt_after = 1.8606666666666665\n",
      "val_r2_mean = 0.940283477306366\n",
      "val_r2_var = -2.3304686546325684\n"
     ]
    },
    {
     "name": "stderr",
     "output_type": "stream",
     "text": [
      "\n",
      "Epoch 00074: cpa_metric reached. Module best state updated.\n",
      "\n",
      "Epoch 00079: cpa_metric reached. Module best state updated.\n"
     ]
    },
    {
     "name": "stdout",
     "output_type": "stream",
     "text": [
      "\n",
      "disnt_basal = 1.6585128205128206\n",
      "disnt_after = 1.8606666666666665\n",
      "val_r2_mean = 0.9354501366615295\n",
      "val_r2_var = -2.2582857608795166\n"
     ]
    },
    {
     "name": "stderr",
     "output_type": "stream",
     "text": [
      "\n",
      "Epoch 00084: cpa_metric reached. Module best state updated.\n",
      "\n",
      "Epoch 00089: cpa_metric reached. Module best state updated.\n"
     ]
    },
    {
     "name": "stdout",
     "output_type": "stream",
     "text": [
      "\n",
      "disnt_basal = 1.6561452991452992\n",
      "disnt_after = 1.8606666666666665\n",
      "val_r2_mean = 0.9435293674468994\n",
      "val_r2_var = -2.208865165710449\n"
     ]
    },
    {
     "name": "stderr",
     "output_type": "stream",
     "text": [
      "\n",
      "Epoch 00094: cpa_metric reached. Module best state updated.\n",
      "\n",
      "Epoch 00099: cpa_metric reached. Module best state updated.\n"
     ]
    },
    {
     "name": "stdout",
     "output_type": "stream",
     "text": [
      "\n",
      "disnt_basal = 1.6577094017094018\n",
      "disnt_after = 1.8606666666666665\n",
      "val_r2_mean = 0.9433780908584595\n",
      "val_r2_var = -2.1429710388183594\n"
     ]
    },
    {
     "name": "stderr",
     "output_type": "stream",
     "text": [
      "\n",
      "Epoch 00104: cpa_metric reached. Module best state updated.\n",
      "\n",
      "Epoch 00109: cpa_metric reached. Module best state updated.\n"
     ]
    },
    {
     "name": "stdout",
     "output_type": "stream",
     "text": [
      "\n",
      "disnt_basal = 1.642034188034188\n",
      "disnt_after = 1.8606666666666665\n",
      "val_r2_mean = 0.9512623945871989\n",
      "val_r2_var = -2.0743475755055747\n"
     ]
    },
    {
     "name": "stderr",
     "output_type": "stream",
     "text": [
      "\n",
      "Epoch 00114: cpa_metric reached. Module best state updated.\n",
      "\n",
      "Epoch 00119: cpa_metric reached. Module best state updated.\n"
     ]
    },
    {
     "name": "stdout",
     "output_type": "stream",
     "text": [
      "\n",
      "disnt_basal = 1.3903348416289592\n",
      "disnt_after = 1.8613333333333333\n",
      "val_r2_mean = 0.9593100945154825\n",
      "val_r2_var = -2.0369327068328857\n",
      "\n",
      "disnt_basal = 1.6600437405731525\n",
      "disnt_after = 1.8707777777777777\n",
      "val_r2_mean = 0.9534353613853455\n",
      "val_r2_var = -1.8746368885040283\n",
      "\n",
      "disnt_basal = 1.6504449472096532\n",
      "disnt_after = 1.8695555555555554\n",
      "val_r2_mean = 0.9566797216733297\n",
      "val_r2_var = -1.789516846338908\n"
     ]
    },
    {
     "name": "stderr",
     "output_type": "stream",
     "text": [
      "100%|██████████| 1/1 [00:00<00:00, 24.40it/s]\n",
      "cpa_single_pert:   1%|          | 16/2184 [04:16<11:15:46, 18.70s/it]"
     ]
    },
    {
     "name": "stdout",
     "output_type": "stream",
     "text": [
      "Warning: dosage_key is not set. Setting it to \"1.0\" for all cells\n"
     ]
    },
    {
     "name": "stderr",
     "output_type": "stream",
     "text": [
      "100%|██████████| 1332/1332 [00:00<00:00, 82967.95it/s]\n",
      "100%|██████████| 1332/1332 [00:00<00:00, 962579.76it/s]\n"
     ]
    },
    {
     "name": "stdout",
     "output_type": "stream",
     "text": [
      "\u001b[34mINFO    \u001b[0m Generating sequential column names                                                                        \n",
      "\u001b[34mINFO    \u001b[0m Generating sequential column names                                                                        \n"
     ]
    },
    {
     "name": "stderr",
     "output_type": "stream",
     "text": [
      "Global seed set to 6977\n",
      "100%|██████████| 2/2 [00:00<00:00, 995.09it/s]\n",
      "GPU available: True (cuda), used: True\n",
      "TPU available: False, using: 0 TPU cores\n",
      "IPU available: False, using: 0 IPUs\n",
      "HPU available: False, using: 0 HPUs\n",
      "You are using a CUDA device ('NVIDIA GeForce RTX 3090') that has Tensor Cores. To properly utilize them, you should set `torch.set_float32_matmul_precision('medium' | 'high')` which will trade-off precision for performance. For more details, read https://pytorch.org/docs/stable/generated/torch.set_float32_matmul_precision.html#torch.set_float32_matmul_precision\n",
      "LOCAL_RANK: 0 - CUDA_VISIBLE_DEVICES: [0,1,2,3]\n",
      "\n",
      "Epoch 00004: cpa_metric reached. Module best state updated.\n",
      "\n",
      "Epoch 00009: cpa_metric reached. Module best state updated.\n"
     ]
    },
    {
     "name": "stdout",
     "output_type": "stream",
     "text": [
      "\n",
      "disnt_basal = 1.7089608636977058\n",
      "disnt_after = 1.738974358974359\n",
      "val_r2_mean = 0.3431936502456665\n",
      "val_r2_var = -2.6055612564086914\n"
     ]
    },
    {
     "name": "stderr",
     "output_type": "stream",
     "text": [
      "\n",
      "Epoch 00014: cpa_metric reached. Module best state updated.\n",
      "\n",
      "Epoch 00019: cpa_metric reached. Module best state updated.\n"
     ]
    },
    {
     "name": "stdout",
     "output_type": "stream",
     "text": [
      "\n",
      "disnt_basal = 1.7152091767881241\n",
      "disnt_after = 1.738974358974359\n",
      "val_r2_mean = 0.7910579442977905\n",
      "val_r2_var = -2.6070214907328286\n"
     ]
    },
    {
     "name": "stderr",
     "output_type": "stream",
     "text": [
      "\n",
      "Epoch 00024: cpa_metric reached. Module best state updated.\n",
      "\n",
      "Epoch 00029: cpa_metric reached. Module best state updated.\n"
     ]
    },
    {
     "name": "stdout",
     "output_type": "stream",
     "text": [
      "\n",
      "disnt_basal = 1.7131708607869598\n",
      "disnt_after = 1.7267909867909867\n",
      "val_r2_mean = 0.9231439828872681\n",
      "val_r2_var = -2.586860259373983\n"
     ]
    },
    {
     "name": "stderr",
     "output_type": "stream",
     "text": [
      "\n",
      "Epoch 00034: cpa_metric reached. Module best state updated.\n"
     ]
    },
    {
     "name": "stdout",
     "output_type": "stream",
     "text": [
      "\n",
      "disnt_basal = 1.7109441401391865\n",
      "disnt_after = 1.6835275835275836\n",
      "val_r2_mean = 0.9356913963953654\n",
      "val_r2_var = -2.5535847345987954\n",
      "\n",
      "disnt_basal = 1.7186898997115714\n",
      "disnt_after = 1.6800466200466202\n",
      "val_r2_mean = 0.9396381775538126\n",
      "val_r2_var = -2.515809694925944\n"
     ]
    },
    {
     "name": "stderr",
     "output_type": "stream",
     "text": [
      "\n",
      "Epoch 00054: cpa_metric reached. Module best state updated.\n",
      "\n",
      "Epoch 00059: cpa_metric reached. Module best state updated.\n"
     ]
    },
    {
     "name": "stdout",
     "output_type": "stream",
     "text": [
      "\n",
      "disnt_basal = 1.7189338731443993\n",
      "disnt_after = 1.6825330225330224\n",
      "val_r2_mean = 0.9369866649309794\n",
      "val_r2_var = -2.443882942199707\n"
     ]
    },
    {
     "name": "stderr",
     "output_type": "stream",
     "text": [
      "\n",
      "Epoch 00064: cpa_metric reached. Module best state updated.\n",
      "\n",
      "Epoch 00069: cpa_metric reached. Module best state updated.\n"
     ]
    },
    {
     "name": "stdout",
     "output_type": "stream",
     "text": [
      "\n",
      "disnt_basal = 1.722847503373819\n",
      "disnt_after = 1.6825330225330224\n",
      "val_r2_mean = 0.9469824632008871\n",
      "val_r2_var = -2.4020979404449463\n"
     ]
    },
    {
     "name": "stderr",
     "output_type": "stream",
     "text": [
      "\n",
      "Epoch 00074: cpa_metric reached. Module best state updated.\n",
      "\n",
      "Epoch 00079: cpa_metric reached. Module best state updated.\n"
     ]
    },
    {
     "name": "stdout",
     "output_type": "stream",
     "text": [
      "\n",
      "disnt_basal = 1.7195512880652202\n",
      "disnt_after = 1.682284382284382\n",
      "val_r2_mean = 0.9450995127360026\n",
      "val_r2_var = -2.3253190517425537\n"
     ]
    },
    {
     "name": "stderr",
     "output_type": "stream",
     "text": [
      "\n",
      "Epoch 00084: cpa_metric reached. Module best state updated.\n",
      "\n",
      "Epoch 00089: cpa_metric reached. Module best state updated.\n"
     ]
    },
    {
     "name": "stdout",
     "output_type": "stream",
     "text": [
      "\n",
      "disnt_basal = 1.5449893553299126\n",
      "disnt_after = 1.6825330225330224\n",
      "val_r2_mean = 0.949434240659078\n",
      "val_r2_var = -2.2526838779449463\n",
      "\n",
      "disnt_basal = 1.7187680568485524\n",
      "disnt_after = 1.6865112665112665\n",
      "val_r2_mean = 0.9432789087295532\n",
      "val_r2_var = -2.125180800755819\n",
      "\n",
      "disnt_basal = 1.7173810503222269\n",
      "disnt_after = 1.6865112665112665\n",
      "val_r2_mean = 0.9464794794718424\n",
      "val_r2_var = -2.0211211840311685\n"
     ]
    },
    {
     "name": "stderr",
     "output_type": "stream",
     "text": [
      "100%|██████████| 1/1 [00:00<00:00, 37.96it/s]\n",
      "cpa_single_pert:   1%|          | 17/2184 [04:27<9:55:55, 16.50s/it] "
     ]
    },
    {
     "name": "stdout",
     "output_type": "stream",
     "text": [
      "Warning: dosage_key is not set. Setting it to \"1.0\" for all cells\n"
     ]
    },
    {
     "name": "stderr",
     "output_type": "stream",
     "text": [
      "100%|██████████| 1416/1416 [00:00<00:00, 80386.76it/s]\n",
      "100%|██████████| 1416/1416 [00:00<00:00, 1090349.64it/s]"
     ]
    },
    {
     "name": "stdout",
     "output_type": "stream",
     "text": [
      "\u001b[34mINFO    \u001b[0m Generating sequential column names                                                                        \n",
      "\u001b[34mINFO    \u001b[0m Generating sequential column names                                                                        \n"
     ]
    },
    {
     "name": "stderr",
     "output_type": "stream",
     "text": [
      "\n",
      "Global seed set to 6977\n",
      "100%|██████████| 2/2 [00:00<00:00, 821.37it/s]\n",
      "GPU available: True (cuda), used: True\n",
      "TPU available: False, using: 0 TPU cores\n",
      "IPU available: False, using: 0 IPUs\n",
      "HPU available: False, using: 0 HPUs\n",
      "You are using a CUDA device ('NVIDIA GeForce RTX 3090') that has Tensor Cores. To properly utilize them, you should set `torch.set_float32_matmul_precision('medium' | 'high')` which will trade-off precision for performance. For more details, read https://pytorch.org/docs/stable/generated/torch.set_float32_matmul_precision.html#torch.set_float32_matmul_precision\n",
      "LOCAL_RANK: 0 - CUDA_VISIBLE_DEVICES: [0,1,2,3]\n",
      "\n",
      "Epoch 00004: cpa_metric reached. Module best state updated.\n",
      "\n",
      "Epoch 00009: cpa_metric reached. Module best state updated.\n"
     ]
    },
    {
     "name": "stdout",
     "output_type": "stream",
     "text": [
      "\n",
      "disnt_basal = 1.6482815734989646\n",
      "disnt_after = 1.8166666666666664\n",
      "val_r2_mean = 0.319965660572052\n",
      "val_r2_var = -2.5382744471232095\n"
     ]
    },
    {
     "name": "stderr",
     "output_type": "stream",
     "text": [
      "\n",
      "Epoch 00014: cpa_metric reached. Module best state updated.\n",
      "\n",
      "Epoch 00019: cpa_metric reached. Module best state updated.\n"
     ]
    },
    {
     "name": "stdout",
     "output_type": "stream",
     "text": [
      "\n",
      "disnt_basal = 1.65972049689441\n",
      "disnt_after = 1.8166666666666664\n",
      "val_r2_mean = 0.7833959062894186\n",
      "val_r2_var = -2.5411651134490967\n"
     ]
    },
    {
     "name": "stderr",
     "output_type": "stream",
     "text": [
      "\n",
      "Epoch 00024: cpa_metric reached. Module best state updated.\n",
      "\n",
      "Epoch 00029: cpa_metric reached. Module best state updated.\n"
     ]
    },
    {
     "name": "stdout",
     "output_type": "stream",
     "text": [
      "\n",
      "disnt_basal = 1.6675362318840579\n",
      "disnt_after = 1.8166666666666667\n",
      "val_r2_mean = 0.9245308836301168\n",
      "val_r2_var = -2.530617634455363\n"
     ]
    },
    {
     "name": "stderr",
     "output_type": "stream",
     "text": [
      "\n",
      "Epoch 00034: cpa_metric reached. Module best state updated.\n"
     ]
    },
    {
     "name": "stdout",
     "output_type": "stream",
     "text": [
      "\n",
      "disnt_basal = 1.6716977225672878\n",
      "disnt_after = 1.8068181818181819\n",
      "val_r2_mean = 0.9300942023595175\n",
      "val_r2_var = -2.5075294971466064\n",
      "\n",
      "disnt_basal = 1.671935817805383\n",
      "disnt_after = 1.7923268398268397\n",
      "val_r2_mean = 0.9227483669916788\n",
      "val_r2_var = -2.461564540863037\n"
     ]
    },
    {
     "name": "stderr",
     "output_type": "stream",
     "text": [
      "\n",
      "Epoch 00054: cpa_metric reached. Module best state updated.\n",
      "\n",
      "Epoch 00059: cpa_metric reached. Module best state updated.\n"
     ]
    },
    {
     "name": "stdout",
     "output_type": "stream",
     "text": [
      "\n",
      "disnt_basal = 1.6692546583850931\n",
      "disnt_after = 1.7909199134199132\n",
      "val_r2_mean = 0.9284729957580566\n",
      "val_r2_var = -2.376403490702311\n"
     ]
    },
    {
     "name": "stderr",
     "output_type": "stream",
     "text": [
      "\n",
      "Epoch 00064: cpa_metric reached. Module best state updated.\n",
      "\n",
      "Epoch 00069: cpa_metric reached. Module best state updated.\n"
     ]
    },
    {
     "name": "stdout",
     "output_type": "stream",
     "text": [
      "\n",
      "disnt_basal = 1.663902691511387\n",
      "disnt_after = 1.7907792207792206\n",
      "val_r2_mean = 0.9405759572982788\n",
      "val_r2_var = -2.3182316621144614\n"
     ]
    },
    {
     "name": "stderr",
     "output_type": "stream",
     "text": [
      "\n",
      "Epoch 00074: cpa_metric reached. Module best state updated.\n",
      "\n",
      "Epoch 00079: cpa_metric reached. Module best state updated.\n"
     ]
    },
    {
     "name": "stdout",
     "output_type": "stream",
     "text": [
      "\n",
      "disnt_basal = 1.6682298136645963\n",
      "disnt_after = 1.7910606060606058\n",
      "val_r2_mean = 0.9395920038223267\n",
      "val_r2_var = -2.262680689493815\n"
     ]
    },
    {
     "name": "stderr",
     "output_type": "stream",
     "text": [
      "\n",
      "Epoch 00084: cpa_metric reached. Module best state updated.\n",
      "\n",
      "Epoch 00089: cpa_metric reached. Module best state updated.\n"
     ]
    },
    {
     "name": "stdout",
     "output_type": "stream",
     "text": [
      "\n",
      "disnt_basal = 1.6614906832298137\n",
      "disnt_after = 1.789090909090909\n",
      "val_r2_mean = 0.9456813534100851\n",
      "val_r2_var = -2.185255289077759\n"
     ]
    },
    {
     "name": "stderr",
     "output_type": "stream",
     "text": [
      "\n",
      "Epoch 00094: cpa_metric reached. Module best state updated.\n",
      "\n",
      "Epoch 00099: cpa_metric reached. Module best state updated.\n"
     ]
    },
    {
     "name": "stdout",
     "output_type": "stream",
     "text": [
      "\n",
      "disnt_basal = 1.6682401656314698\n",
      "disnt_after = 1.788246753246753\n",
      "val_r2_mean = 0.9545066754023234\n",
      "val_r2_var = -2.133148988087972\n"
     ]
    },
    {
     "name": "stderr",
     "output_type": "stream",
     "text": [
      "\n",
      "Epoch 00104: cpa_metric reached. Module best state updated.\n",
      "\n",
      "Epoch 00109: cpa_metric reached. Module best state updated.\n"
     ]
    },
    {
     "name": "stdout",
     "output_type": "stream",
     "text": [
      "\n",
      "disnt_basal = 1.6647361592858487\n",
      "disnt_after = 1.7881060606060606\n",
      "val_r2_mean = 0.9569498896598816\n",
      "val_r2_var = -2.067066192626953\n"
     ]
    },
    {
     "name": "stderr",
     "output_type": "stream",
     "text": [
      "\n",
      "Epoch 00114: cpa_metric reached. Module best state updated.\n",
      "\n",
      "Epoch 00119: cpa_metric reached. Module best state updated.\n"
     ]
    },
    {
     "name": "stdout",
     "output_type": "stream",
     "text": [
      "\n",
      "disnt_basal = 1.2710747895996342\n",
      "disnt_after = 1.7888095238095234\n",
      "val_r2_mean = 0.9546862045923868\n",
      "val_r2_var = -2.0341062545776367\n",
      "\n",
      "disnt_basal = 1.662870049205453\n",
      "disnt_after = 1.801190476190476\n",
      "val_r2_mean = 0.9500458240509033\n",
      "val_r2_var = -1.8803922335306804\n",
      "\n",
      "disnt_basal = 1.6635239036325993\n",
      "disnt_after = 1.8038636363636362\n",
      "val_r2_mean = 0.949347178141276\n",
      "val_r2_var = -1.7839840253194172\n"
     ]
    },
    {
     "name": "stderr",
     "output_type": "stream",
     "text": [
      "100%|██████████| 1/1 [00:00<00:00, 33.03it/s]\n",
      "cpa_single_pert:   1%|          | 18/2184 [04:42<9:38:25, 16.02s/it]"
     ]
    },
    {
     "name": "stdout",
     "output_type": "stream",
     "text": [
      "Warning: dosage_key is not set. Setting it to \"1.0\" for all cells\n"
     ]
    },
    {
     "name": "stderr",
     "output_type": "stream",
     "text": [
      "100%|██████████| 1254/1254 [00:00<00:00, 81227.72it/s]\n",
      "100%|██████████| 1254/1254 [00:00<00:00, 876317.43it/s]"
     ]
    },
    {
     "name": "stdout",
     "output_type": "stream",
     "text": [
      "\u001b[34mINFO    \u001b[0m Generating sequential column names                                                                        \n",
      "\u001b[34mINFO    \u001b[0m Generating sequential column names                                                                        \n"
     ]
    },
    {
     "name": "stderr",
     "output_type": "stream",
     "text": [
      "\n",
      "Global seed set to 6977\n",
      "100%|██████████| 2/2 [00:00<00:00, 938.64it/s]\n",
      "GPU available: True (cuda), used: True\n",
      "TPU available: False, using: 0 TPU cores\n",
      "IPU available: False, using: 0 IPUs\n",
      "HPU available: False, using: 0 HPUs\n",
      "You are using a CUDA device ('NVIDIA GeForce RTX 3090') that has Tensor Cores. To properly utilize them, you should set `torch.set_float32_matmul_precision('medium' | 'high')` which will trade-off precision for performance. For more details, read https://pytorch.org/docs/stable/generated/torch.set_float32_matmul_precision.html#torch.set_float32_matmul_precision\n",
      "LOCAL_RANK: 0 - CUDA_VISIBLE_DEVICES: [0,1,2,3]\n",
      "\n",
      "Epoch 00004: cpa_metric reached. Module best state updated.\n",
      "\n",
      "Epoch 00009: cpa_metric reached. Module best state updated.\n"
     ]
    },
    {
     "name": "stdout",
     "output_type": "stream",
     "text": [
      "\n",
      "disnt_basal = 1.5881720430107529\n",
      "disnt_after = 1.5881720430107529\n",
      "val_r2_mean = 0.2892739772796631\n",
      "val_r2_var = -2.371535380681356\n"
     ]
    },
    {
     "name": "stderr",
     "output_type": "stream",
     "text": [
      "\n",
      "Epoch 00014: cpa_metric reached. Module best state updated.\n",
      "\n",
      "Epoch 00019: cpa_metric reached. Module best state updated.\n"
     ]
    },
    {
     "name": "stdout",
     "output_type": "stream",
     "text": [
      "\n",
      "disnt_basal = 1.5881720430107527\n",
      "disnt_after = 1.5881720430107527\n",
      "val_r2_mean = 0.751863936583201\n",
      "val_r2_var = -2.374580144882202\n"
     ]
    },
    {
     "name": "stderr",
     "output_type": "stream",
     "text": [
      "\n",
      "Epoch 00024: cpa_metric reached. Module best state updated.\n",
      "\n",
      "Epoch 00029: cpa_metric reached. Module best state updated.\n"
     ]
    },
    {
     "name": "stdout",
     "output_type": "stream",
     "text": [
      "\n",
      "disnt_basal = 1.5881720430107529\n",
      "disnt_after = 1.5610008271298594\n",
      "val_r2_mean = 0.9026029706001282\n",
      "val_r2_var = -2.36378280321757\n",
      "\n",
      "disnt_basal = 1.5881720430107527\n",
      "disnt_after = 1.5267576509511995\n",
      "val_r2_mean = 0.9110826055208842\n",
      "val_r2_var = -2.329702297846476\n"
     ]
    },
    {
     "name": "stderr",
     "output_type": "stream",
     "text": [
      "\n",
      "Epoch 00044: cpa_metric reached. Module best state updated.\n",
      "\n",
      "Epoch 00049: cpa_metric reached. Module best state updated.\n"
     ]
    },
    {
     "name": "stdout",
     "output_type": "stream",
     "text": [
      "\n",
      "disnt_basal = 1.5881720430107529\n",
      "disnt_after = 1.5256410256410258\n",
      "val_r2_mean = 0.9170685807863871\n",
      "val_r2_var = -2.2748100757598877\n"
     ]
    },
    {
     "name": "stderr",
     "output_type": "stream",
     "text": [
      "\n",
      "Epoch 00054: cpa_metric reached. Module best state updated.\n",
      "\n",
      "Epoch 00059: cpa_metric reached. Module best state updated.\n"
     ]
    },
    {
     "name": "stdout",
     "output_type": "stream",
     "text": [
      "\n",
      "disnt_basal = 1.5881720430107527\n",
      "disnt_after = 1.5256410256410258\n",
      "val_r2_mean = 0.91954638560613\n",
      "val_r2_var = -2.213196277618408\n"
     ]
    },
    {
     "name": "stderr",
     "output_type": "stream",
     "text": [
      "\n",
      "Epoch 00064: cpa_metric reached. Module best state updated.\n",
      "\n",
      "Epoch 00069: cpa_metric reached. Module best state updated.\n"
     ]
    },
    {
     "name": "stdout",
     "output_type": "stream",
     "text": [
      "\n",
      "disnt_basal = 1.5881720430107527\n",
      "disnt_after = 1.5256410256410258\n",
      "val_r2_mean = 0.9353243708610535\n",
      "val_r2_var = -2.1421643098195395\n"
     ]
    },
    {
     "name": "stderr",
     "output_type": "stream",
     "text": [
      "\n",
      "Epoch 00074: cpa_metric reached. Module best state updated.\n",
      "\n",
      "Epoch 00079: cpa_metric reached. Module best state updated.\n"
     ]
    },
    {
     "name": "stdout",
     "output_type": "stream",
     "text": [
      "\n",
      "disnt_basal = 1.3941321044546853\n",
      "disnt_after = 1.5256410256410258\n",
      "val_r2_mean = 0.9258395234743754\n",
      "val_r2_var = -2.09499724706014\n",
      "\n",
      "disnt_basal = 1.5881720430107527\n",
      "disnt_after = 1.5371794871794873\n",
      "val_r2_mean = 0.930893063545227\n",
      "val_r2_var = -1.9975697994232178\n",
      "\n",
      "disnt_basal = 1.5701139075977786\n",
      "disnt_after = 1.533829611248966\n",
      "val_r2_mean = 0.9375860095024109\n",
      "val_r2_var = -1.9007246494293213\n"
     ]
    },
    {
     "name": "stderr",
     "output_type": "stream",
     "text": [
      "100%|██████████| 1/1 [00:00<00:00, 26.85it/s]\n",
      "cpa_single_pert:   1%|          | 19/2184 [04:53<8:43:29, 14.51s/it]"
     ]
    },
    {
     "name": "stdout",
     "output_type": "stream",
     "text": [
      "Warning: dosage_key is not set. Setting it to \"1.0\" for all cells\n"
     ]
    },
    {
     "name": "stderr",
     "output_type": "stream",
     "text": [
      "100%|██████████| 1432/1432 [00:00<00:00, 84950.33it/s]\n",
      "100%|██████████| 1432/1432 [00:00<00:00, 1071204.45it/s]\n"
     ]
    },
    {
     "name": "stdout",
     "output_type": "stream",
     "text": [
      "\u001b[34mINFO    \u001b[0m Generating sequential column names                                                                        \n",
      "\u001b[34mINFO    \u001b[0m Generating sequential column names                                                                        \n"
     ]
    },
    {
     "name": "stderr",
     "output_type": "stream",
     "text": [
      "Global seed set to 6977\n",
      "100%|██████████| 2/2 [00:00<00:00, 875.09it/s]\n",
      "GPU available: True (cuda), used: True\n",
      "TPU available: False, using: 0 TPU cores\n",
      "IPU available: False, using: 0 IPUs\n",
      "HPU available: False, using: 0 HPUs\n",
      "You are using a CUDA device ('NVIDIA GeForce RTX 3090') that has Tensor Cores. To properly utilize them, you should set `torch.set_float32_matmul_precision('medium' | 'high')` which will trade-off precision for performance. For more details, read https://pytorch.org/docs/stable/generated/torch.set_float32_matmul_precision.html#torch.set_float32_matmul_precision\n",
      "LOCAL_RANK: 0 - CUDA_VISIBLE_DEVICES: [0,1,2,3]\n",
      "\n",
      "Epoch 00004: cpa_metric reached. Module best state updated.\n",
      "\n",
      "Epoch 00009: cpa_metric reached. Module best state updated.\n"
     ]
    },
    {
     "name": "stdout",
     "output_type": "stream",
     "text": [
      "\n",
      "disnt_basal = 1.667309655031639\n",
      "disnt_after = 1.82018779342723\n",
      "val_r2_mean = 0.338659663995107\n",
      "val_r2_var = -2.593356450398763\n"
     ]
    },
    {
     "name": "stderr",
     "output_type": "stream",
     "text": [
      "\n",
      "Epoch 00014: cpa_metric reached. Module best state updated.\n",
      "\n",
      "Epoch 00019: cpa_metric reached. Module best state updated.\n"
     ]
    },
    {
     "name": "stdout",
     "output_type": "stream",
     "text": [
      "\n",
      "disnt_basal = 1.6605531741171666\n",
      "disnt_after = 1.82018779342723\n",
      "val_r2_mean = 0.7958119114240011\n",
      "val_r2_var = -2.5958775679270425\n"
     ]
    },
    {
     "name": "stderr",
     "output_type": "stream",
     "text": [
      "\n",
      "Epoch 00024: cpa_metric reached. Module best state updated.\n",
      "\n",
      "Epoch 00029: cpa_metric reached. Module best state updated.\n"
     ]
    },
    {
     "name": "stdout",
     "output_type": "stream",
     "text": [
      "\n",
      "disnt_basal = 1.6721888265410267\n",
      "disnt_after = 1.8111006781429315\n",
      "val_r2_mean = 0.936845044294993\n",
      "val_r2_var = -2.5798420906066895\n"
     ]
    },
    {
     "name": "stderr",
     "output_type": "stream",
     "text": [
      "\n",
      "Epoch 00034: cpa_metric reached. Module best state updated.\n",
      "\n",
      "Epoch 00039: cpa_metric reached. Module best state updated.\n"
     ]
    },
    {
     "name": "stdout",
     "output_type": "stream",
     "text": [
      "\n",
      "disnt_basal = 1.6591770082190869\n",
      "disnt_after = 1.7945539906103285\n",
      "val_r2_mean = 0.9475898345311483\n",
      "val_r2_var = -2.5426501433054605\n"
     ]
    },
    {
     "name": "stderr",
     "output_type": "stream",
     "text": [
      "\n",
      "Epoch 00049: cpa_metric reached. Module best state updated.\n"
     ]
    },
    {
     "name": "stdout",
     "output_type": "stream",
     "text": [
      "\n",
      "disnt_basal = 1.6732904674423352\n",
      "disnt_after = 1.794960876369327\n",
      "val_r2_mean = 0.9471261103947958\n",
      "val_r2_var = -2.4866249561309814\n"
     ]
    },
    {
     "name": "stderr",
     "output_type": "stream",
     "text": [
      "\n",
      "Epoch 00054: cpa_metric reached. Module best state updated.\n",
      "\n",
      "Epoch 00059: cpa_metric reached. Module best state updated.\n"
     ]
    },
    {
     "name": "stdout",
     "output_type": "stream",
     "text": [
      "\n",
      "disnt_basal = 1.6712696468667074\n",
      "disnt_after = 1.797130933750652\n",
      "val_r2_mean = 0.9382565220197042\n",
      "val_r2_var = -2.4031283855438232\n"
     ]
    },
    {
     "name": "stderr",
     "output_type": "stream",
     "text": [
      "\n",
      "Epoch 00064: cpa_metric reached. Module best state updated.\n",
      "\n",
      "Epoch 00069: cpa_metric reached. Module best state updated.\n"
     ]
    },
    {
     "name": "stdout",
     "output_type": "stream",
     "text": [
      "\n",
      "disnt_basal = 1.673229230455195\n",
      "disnt_after = 1.79848721961398\n",
      "val_r2_mean = 0.9463387727737427\n",
      "val_r2_var = -2.354393800099691\n"
     ]
    },
    {
     "name": "stderr",
     "output_type": "stream",
     "text": [
      "\n",
      "Epoch 00074: cpa_metric reached. Module best state updated.\n",
      "\n",
      "Epoch 00079: cpa_metric reached. Module best state updated.\n"
     ]
    },
    {
     "name": "stdout",
     "output_type": "stream",
     "text": [
      "\n",
      "disnt_basal = 1.6708001632986325\n",
      "disnt_after = 1.7967240479916537\n",
      "val_r2_mean = 0.9553853273391724\n",
      "val_r2_var = -2.292421817779541\n"
     ]
    },
    {
     "name": "stderr",
     "output_type": "stream",
     "text": [
      "\n",
      "Epoch 00084: cpa_metric reached. Module best state updated.\n",
      "\n",
      "Epoch 00089: cpa_metric reached. Module best state updated.\n"
     ]
    },
    {
     "name": "stdout",
     "output_type": "stream",
     "text": [
      "\n",
      "disnt_basal = 1.675913451724842\n",
      "disnt_after = 1.7952321335419927\n",
      "val_r2_mean = 0.9546962181727091\n",
      "val_r2_var = -2.2541622320810952\n"
     ]
    },
    {
     "name": "stderr",
     "output_type": "stream",
     "text": [
      "\n",
      "Epoch 00094: cpa_metric reached. Module best state updated.\n",
      "\n",
      "Epoch 00099: cpa_metric reached. Module best state updated.\n"
     ]
    },
    {
     "name": "stdout",
     "output_type": "stream",
     "text": [
      "\n",
      "disnt_basal = 1.6721002527703603\n",
      "disnt_after = 1.79509650495566\n",
      "val_r2_mean = 0.9544816811879476\n",
      "val_r2_var = -2.1703023115793862\n"
     ]
    },
    {
     "name": "stderr",
     "output_type": "stream",
     "text": [
      "\n",
      "Epoch 00104: cpa_metric reached. Module best state updated.\n",
      "\n",
      "Epoch 00109: cpa_metric reached. Module best state updated.\n"
     ]
    },
    {
     "name": "stdout",
     "output_type": "stream",
     "text": [
      "\n",
      "disnt_basal = 1.4044821447664595\n",
      "disnt_after = 1.7950965049556595\n",
      "val_r2_mean = 0.9613906145095825\n",
      "val_r2_var = -2.1382813453674316\n",
      "\n",
      "disnt_basal = 1.666136362689595\n",
      "disnt_after = 1.8102869066249347\n",
      "val_r2_mean = 0.9581615130106608\n",
      "val_r2_var = -2.0396703084309897\n",
      "\n",
      "disnt_basal = 1.6689461822696012\n",
      "disnt_after = 1.809337506520605\n",
      "val_r2_mean = 0.9624332785606384\n",
      "val_r2_var = -1.932869831720988\n"
     ]
    },
    {
     "name": "stderr",
     "output_type": "stream",
     "text": [
      "100%|██████████| 1/1 [00:00<00:00, 30.25it/s]\n",
      "cpa_single_pert:   1%|          | 20/2184 [05:06<8:21:15, 13.90s/it]"
     ]
    },
    {
     "name": "stdout",
     "output_type": "stream",
     "text": [
      "Warning: dosage_key is not set. Setting it to \"1.0\" for all cells\n"
     ]
    },
    {
     "name": "stderr",
     "output_type": "stream",
     "text": [
      "100%|██████████| 1426/1426 [00:00<00:00, 80482.78it/s]\n",
      "100%|██████████| 1426/1426 [00:00<00:00, 1034430.56it/s]"
     ]
    },
    {
     "name": "stdout",
     "output_type": "stream",
     "text": [
      "\u001b[34mINFO    \u001b[0m Generating sequential column names                                                                        \n",
      "\u001b[34mINFO    \u001b[0m Generating sequential column names                                                                        \n"
     ]
    },
    {
     "name": "stderr",
     "output_type": "stream",
     "text": [
      "\n",
      "Global seed set to 6977\n",
      "100%|██████████| 2/2 [00:00<00:00, 875.55it/s]\n",
      "GPU available: True (cuda), used: True\n",
      "TPU available: False, using: 0 TPU cores\n",
      "IPU available: False, using: 0 IPUs\n",
      "HPU available: False, using: 0 HPUs\n",
      "You are using a CUDA device ('NVIDIA GeForce RTX 3090') that has Tensor Cores. To properly utilize them, you should set `torch.set_float32_matmul_precision('medium' | 'high')` which will trade-off precision for performance. For more details, read https://pytorch.org/docs/stable/generated/torch.set_float32_matmul_precision.html#torch.set_float32_matmul_precision\n",
      "LOCAL_RANK: 0 - CUDA_VISIBLE_DEVICES: [0,1,2,3]\n",
      "\n",
      "Epoch 00004: cpa_metric reached. Module best state updated.\n",
      "\n",
      "Epoch 00009: cpa_metric reached. Module best state updated.\n"
     ]
    },
    {
     "name": "stdout",
     "output_type": "stream",
     "text": [
      "\n",
      "disnt_basal = 1.6648136645962732\n",
      "disnt_after = 1.8166666666666664\n",
      "val_r2_mean = 0.35956428448359173\n",
      "val_r2_var = -2.7094593048095703\n"
     ]
    },
    {
     "name": "stderr",
     "output_type": "stream",
     "text": [
      "\n",
      "Epoch 00014: cpa_metric reached. Module best state updated.\n",
      "\n",
      "Epoch 00019: cpa_metric reached. Module best state updated.\n"
     ]
    },
    {
     "name": "stdout",
     "output_type": "stream",
     "text": [
      "\n",
      "disnt_basal = 1.6503312629399587\n",
      "disnt_after = 1.8166666666666667\n",
      "val_r2_mean = 0.804447074731191\n",
      "val_r2_var = -2.710476875305176\n"
     ]
    },
    {
     "name": "stderr",
     "output_type": "stream",
     "text": [
      "\n",
      "Epoch 00024: cpa_metric reached. Module best state updated.\n",
      "\n",
      "Epoch 00029: cpa_metric reached. Module best state updated.\n"
     ]
    },
    {
     "name": "stdout",
     "output_type": "stream",
     "text": [
      "\n",
      "disnt_basal = 1.6689855072463768\n",
      "disnt_after = 1.7941558441558443\n",
      "val_r2_mean = 0.9378485282262167\n",
      "val_r2_var = -2.696113665898641\n"
     ]
    },
    {
     "name": "stderr",
     "output_type": "stream",
     "text": [
      "\n",
      "Epoch 00034: cpa_metric reached. Module best state updated.\n",
      "\n",
      "Epoch 00039: cpa_metric reached. Module best state updated.\n"
     ]
    },
    {
     "name": "stdout",
     "output_type": "stream",
     "text": [
      "\n",
      "disnt_basal = 1.6760351966873706\n",
      "disnt_after = 1.787121212121212\n",
      "val_r2_mean = 0.9525734782218933\n",
      "val_r2_var = -2.6709434191385903\n"
     ]
    },
    {
     "name": "stderr",
     "output_type": "stream",
     "text": [
      "\n",
      "Epoch 00044: cpa_metric reached. Module best state updated.\n",
      "\n",
      "Epoch 00049: cpa_metric reached. Module best state updated.\n"
     ]
    },
    {
     "name": "stdout",
     "output_type": "stream",
     "text": [
      "\n",
      "disnt_basal = 1.6697619047619048\n",
      "disnt_after = 1.7872619047619045\n",
      "val_r2_mean = 0.9459466735521952\n",
      "val_r2_var = -2.6339422861735025\n"
     ]
    },
    {
     "name": "stderr",
     "output_type": "stream",
     "text": [
      "\n",
      "Epoch 00054: cpa_metric reached. Module best state updated.\n",
      "\n",
      "Epoch 00059: cpa_metric reached. Module best state updated.\n"
     ]
    },
    {
     "name": "stdout",
     "output_type": "stream",
     "text": [
      "\n",
      "disnt_basal = 1.670527950310559\n",
      "disnt_after = 1.787121212121212\n",
      "val_r2_mean = 0.9496904611587524\n",
      "val_r2_var = -2.579047203063965\n"
     ]
    },
    {
     "name": "stderr",
     "output_type": "stream",
     "text": [
      "\n",
      "Epoch 00064: cpa_metric reached. Module best state updated.\n",
      "\n",
      "Epoch 00069: cpa_metric reached. Module best state updated.\n"
     ]
    },
    {
     "name": "stdout",
     "output_type": "stream",
     "text": [
      "\n",
      "disnt_basal = 1.6700207039337474\n",
      "disnt_after = 1.7878246753246754\n",
      "val_r2_mean = 0.9503888885180155\n",
      "val_r2_var = -2.5136331717173257\n"
     ]
    },
    {
     "name": "stderr",
     "output_type": "stream",
     "text": [
      "\n",
      "Epoch 00074: cpa_metric reached. Module best state updated.\n",
      "\n",
      "Epoch 00079: cpa_metric reached. Module best state updated.\n"
     ]
    },
    {
     "name": "stdout",
     "output_type": "stream",
     "text": [
      "\n",
      "disnt_basal = 1.6697619047619048\n",
      "disnt_after = 1.787121212121212\n",
      "val_r2_mean = 0.9586944381395975\n",
      "val_r2_var = -2.4814866383870444\n"
     ]
    },
    {
     "name": "stderr",
     "output_type": "stream",
     "text": [
      "\n",
      "Epoch 00084: cpa_metric reached. Module best state updated.\n",
      "\n",
      "Epoch 00089: cpa_metric reached. Module best state updated.\n"
     ]
    },
    {
     "name": "stdout",
     "output_type": "stream",
     "text": [
      "\n",
      "disnt_basal = 1.67\n",
      "disnt_after = 1.787121212121212\n",
      "val_r2_mean = 0.9566695292790731\n",
      "val_r2_var = -2.4106899897257485\n"
     ]
    },
    {
     "name": "stderr",
     "output_type": "stream",
     "text": [
      "\n",
      "Epoch 00094: cpa_metric reached. Module best state updated.\n",
      "\n",
      "Epoch 00099: cpa_metric reached. Module best state updated.\n"
     ]
    },
    {
     "name": "stdout",
     "output_type": "stream",
     "text": [
      "\n",
      "disnt_basal = 1.631339436960555\n",
      "disnt_after = 1.787121212121212\n",
      "val_r2_mean = 0.9535489082336426\n",
      "val_r2_var = -2.3436867396036782\n"
     ]
    },
    {
     "name": "stderr",
     "output_type": "stream",
     "text": [
      "\n",
      "Epoch 00109: cpa_metric reached. Module best state updated.\n"
     ]
    },
    {
     "name": "stdout",
     "output_type": "stream",
     "text": [
      "\n",
      "disnt_basal = 1.673290446613428\n",
      "disnt_after = 1.7916233766233767\n",
      "val_r2_mean = 0.9572346607844034\n",
      "val_r2_var = -2.2365134557088218\n"
     ]
    },
    {
     "name": "stderr",
     "output_type": "stream",
     "text": [
      "\n",
      "Epoch 00114: cpa_metric reached. Module best state updated.\n",
      "\n",
      "Epoch 00119: cpa_metric reached. Module best state updated.\n"
     ]
    },
    {
     "name": "stdout",
     "output_type": "stream",
     "text": [
      "\n",
      "disnt_basal = 1.6744676131322094\n",
      "disnt_after = 1.7941558441558443\n",
      "val_r2_mean = 0.9600429137547811\n",
      "val_r2_var = -2.1268988450368247\n"
     ]
    },
    {
     "name": "stderr",
     "output_type": "stream",
     "text": [
      "\n",
      "Epoch 00124: cpa_metric reached. Module best state updated.\n",
      "\n",
      "Epoch 00129: cpa_metric reached. Module best state updated.\n"
     ]
    },
    {
     "name": "stdout",
     "output_type": "stream",
     "text": [
      "\n",
      "disnt_basal = 1.6725598935226265\n",
      "disnt_after = 1.7951406926406923\n",
      "val_r2_mean = 0.9551815390586853\n",
      "val_r2_var = -2.032339096069336\n"
     ]
    },
    {
     "name": "stderr",
     "output_type": "stream",
     "text": [
      "\n",
      "Epoch 00134: cpa_metric reached. Module best state updated.\n",
      "\n",
      "Epoch 00139: cpa_metric reached. Module best state updated.\n"
     ]
    },
    {
     "name": "stdout",
     "output_type": "stream",
     "text": [
      "\n",
      "disnt_basal = 1.674390712806862\n",
      "disnt_after = 1.7934523809523808\n",
      "val_r2_mean = 0.9592291514078776\n",
      "val_r2_var = -1.983866850535075\n"
     ]
    },
    {
     "name": "stderr",
     "output_type": "stream",
     "text": [
      "\n",
      "Epoch 00144: cpa_metric reached. Module best state updated.\n",
      "\n",
      "Epoch 00149: cpa_metric reached. Module best state updated.\n"
     ]
    },
    {
     "name": "stdout",
     "output_type": "stream",
     "text": [
      "\n",
      "disnt_basal = 1.6595314726681185\n",
      "disnt_after = 1.791060606060606\n",
      "val_r2_mean = 0.956028421719869\n",
      "val_r2_var = -1.9257745742797852\n"
     ]
    },
    {
     "name": "stderr",
     "output_type": "stream",
     "text": [
      "\n",
      "Epoch 00154: cpa_metric reached. Module best state updated.\n",
      "\n",
      "Epoch 00159: cpa_metric reached. Module best state updated.\n"
     ]
    },
    {
     "name": "stdout",
     "output_type": "stream",
     "text": [
      "\n",
      "disnt_basal = 1.5771649727084511\n",
      "disnt_after = 1.7900757575757575\n",
      "val_r2_mean = 0.9619842966397604\n",
      "val_r2_var = -1.9213543732961018\n"
     ]
    },
    {
     "name": "stderr",
     "output_type": "stream",
     "text": [
      "\n",
      "Epoch 00164: cpa_metric reached. Module best state updated.\n"
     ]
    },
    {
     "name": "stdout",
     "output_type": "stream",
     "text": [
      "\n",
      "disnt_basal = 1.3658544405904653\n",
      "disnt_after = 1.787121212121212\n",
      "val_r2_mean = 0.9563153386116028\n",
      "val_r2_var = -1.9177482922871907\n",
      "\n",
      "disnt_basal = 1.6595908284262322\n",
      "disnt_after = 1.7878246753246754\n",
      "val_r2_mean = 0.9615426858266195\n",
      "val_r2_var = -1.7775553862253826\n",
      "\n",
      "disnt_basal = 1.6460021241698262\n",
      "disnt_after = 1.7883874458874458\n",
      "val_r2_mean = 0.9656227032343546\n",
      "val_r2_var = -1.705542802810669\n"
     ]
    },
    {
     "name": "stderr",
     "output_type": "stream",
     "text": [
      "100%|██████████| 1/1 [00:00<00:00, 32.80it/s]\n",
      "cpa_single_pert:   1%|          | 21/2184 [05:25<9:14:32, 15.38s/it]"
     ]
    },
    {
     "name": "stdout",
     "output_type": "stream",
     "text": [
      "Warning: dosage_key is not set. Setting it to \"1.0\" for all cells\n"
     ]
    },
    {
     "name": "stderr",
     "output_type": "stream",
     "text": [
      "100%|██████████| 1304/1304 [00:00<00:00, 86273.15it/s]\n",
      "100%|██████████| 1304/1304 [00:00<00:00, 965126.60it/s]"
     ]
    },
    {
     "name": "stdout",
     "output_type": "stream",
     "text": [
      "\u001b[34mINFO    \u001b[0m Generating sequential column names                                                                        \n",
      "\u001b[34mINFO    \u001b[0m Generating sequential column names                                                                        \n"
     ]
    },
    {
     "name": "stderr",
     "output_type": "stream",
     "text": [
      "\n",
      "Global seed set to 6977\n",
      "100%|██████████| 2/2 [00:00<00:00, 795.20it/s]\n",
      "GPU available: True (cuda), used: True\n",
      "TPU available: False, using: 0 TPU cores\n",
      "IPU available: False, using: 0 IPUs\n",
      "HPU available: False, using: 0 HPUs\n",
      "You are using a CUDA device ('NVIDIA GeForce RTX 3090') that has Tensor Cores. To properly utilize them, you should set `torch.set_float32_matmul_precision('medium' | 'high')` which will trade-off precision for performance. For more details, read https://pytorch.org/docs/stable/generated/torch.set_float32_matmul_precision.html#torch.set_float32_matmul_precision\n",
      "LOCAL_RANK: 0 - CUDA_VISIBLE_DEVICES: [0,1,2,3]\n",
      "\n",
      "Epoch 00004: cpa_metric reached. Module best state updated.\n",
      "\n",
      "Epoch 00009: cpa_metric reached. Module best state updated.\n"
     ]
    },
    {
     "name": "stdout",
     "output_type": "stream",
     "text": [
      "\n",
      "disnt_basal = 1.6738095238095239\n",
      "disnt_after = 1.6738095238095239\n",
      "val_r2_mean = 0.28327323993047077\n",
      "val_r2_var = -2.2644272645314536\n"
     ]
    },
    {
     "name": "stderr",
     "output_type": "stream",
     "text": [
      "\n",
      "Epoch 00014: cpa_metric reached. Module best state updated.\n",
      "\n",
      "Epoch 00019: cpa_metric reached. Module best state updated.\n"
     ]
    },
    {
     "name": "stdout",
     "output_type": "stream",
     "text": [
      "\n",
      "disnt_basal = 1.6738095238095239\n",
      "disnt_after = 1.6738095238095239\n",
      "val_r2_mean = 0.7563994924227396\n",
      "val_r2_var = -2.265320618947347\n"
     ]
    },
    {
     "name": "stderr",
     "output_type": "stream",
     "text": [
      "\n",
      "Epoch 00024: cpa_metric reached. Module best state updated.\n",
      "\n",
      "Epoch 00029: cpa_metric reached. Module best state updated.\n"
     ]
    },
    {
     "name": "stdout",
     "output_type": "stream",
     "text": [
      "\n",
      "disnt_basal = 1.6677248677248677\n",
      "disnt_after = 1.6671075837742504\n",
      "val_r2_mean = 0.8998583356539408\n",
      "val_r2_var = -2.2511433760325112\n"
     ]
    },
    {
     "name": "stderr",
     "output_type": "stream",
     "text": [
      "\n",
      "Epoch 00034: cpa_metric reached. Module best state updated.\n"
     ]
    },
    {
     "name": "stdout",
     "output_type": "stream",
     "text": [
      "\n",
      "disnt_basal = 1.6720458553791886\n",
      "disnt_after = 1.6325396825396825\n",
      "val_r2_mean = 0.9104765057563782\n",
      "val_r2_var = -2.22329052289327\n"
     ]
    },
    {
     "name": "stderr",
     "output_type": "stream",
     "text": [
      "\n",
      "Epoch 00049: cpa_metric reached. Module best state updated.\n"
     ]
    },
    {
     "name": "stdout",
     "output_type": "stream",
     "text": [
      "\n",
      "disnt_basal = 1.6738095238095239\n",
      "disnt_after = 1.6166666666666667\n",
      "val_r2_mean = 0.9187938769658407\n",
      "val_r2_var = -2.1693476835886636\n"
     ]
    },
    {
     "name": "stderr",
     "output_type": "stream",
     "text": [
      "\n",
      "Epoch 00054: cpa_metric reached. Module best state updated.\n",
      "\n",
      "Epoch 00059: cpa_metric reached. Module best state updated.\n"
     ]
    },
    {
     "name": "stdout",
     "output_type": "stream",
     "text": [
      "\n",
      "disnt_basal = 1.6738095238095239\n",
      "disnt_after = 1.6166666666666667\n",
      "val_r2_mean = 0.9153626362482706\n",
      "val_r2_var = -2.1031951904296875\n"
     ]
    },
    {
     "name": "stderr",
     "output_type": "stream",
     "text": [
      "\n",
      "Epoch 00064: cpa_metric reached. Module best state updated.\n",
      "\n",
      "Epoch 00069: cpa_metric reached. Module best state updated.\n"
     ]
    },
    {
     "name": "stdout",
     "output_type": "stream",
     "text": [
      "\n",
      "disnt_basal = 1.6559082892416226\n",
      "disnt_after = 1.6166666666666667\n",
      "val_r2_mean = 0.9232852856318156\n",
      "val_r2_var = -2.034376939137777\n"
     ]
    },
    {
     "name": "stderr",
     "output_type": "stream",
     "text": [
      "\n",
      "Epoch 00074: cpa_metric reached. Module best state updated.\n",
      "\n",
      "Epoch 00079: cpa_metric reached. Module best state updated.\n"
     ]
    },
    {
     "name": "stdout",
     "output_type": "stream",
     "text": [
      "\n",
      "disnt_basal = 1.6002204585537918\n",
      "disnt_after = 1.6166666666666667\n",
      "val_r2_mean = 0.935504674911499\n",
      "val_r2_var = -1.9707162380218506\n"
     ]
    },
    {
     "name": "stderr",
     "output_type": "stream",
     "text": [
      "\n",
      "Epoch 00084: cpa_metric reached. Module best state updated.\n",
      "\n",
      "Epoch 00089: cpa_metric reached. Module best state updated.\n"
     ]
    },
    {
     "name": "stdout",
     "output_type": "stream",
     "text": [
      "\n",
      "disnt_basal = 1.5455908289241622\n",
      "disnt_after = 1.6166666666666667\n",
      "val_r2_mean = 0.9318453073501587\n",
      "val_r2_var = -1.9230742454528809\n",
      "\n",
      "disnt_basal = 1.6271604938271604\n",
      "disnt_after = 1.6198412698412699\n",
      "val_r2_mean = 0.9265917936960856\n",
      "val_r2_var = -1.7892110347747803\n"
     ]
    },
    {
     "name": "stderr",
     "output_type": "stream",
     "text": [
      "\n",
      "Epoch 00104: cpa_metric reached. Module best state updated.\n",
      "\n",
      "Epoch 00109: cpa_metric reached. Module best state updated.\n"
     ]
    },
    {
     "name": "stdout",
     "output_type": "stream",
     "text": [
      "\n",
      "disnt_basal = 1.5653439153439155\n",
      "disnt_after = 1.6180776014109348\n",
      "val_r2_mean = 0.9243407050768534\n",
      "val_r2_var = -1.721236228942871\n"
     ]
    },
    {
     "name": "stderr",
     "output_type": "stream",
     "text": [
      "\n",
      "Epoch 00114: cpa_metric reached. Module best state updated.\n",
      "\n",
      "Epoch 00119: cpa_metric reached. Module best state updated.\n"
     ]
    },
    {
     "name": "stdout",
     "output_type": "stream",
     "text": [
      "\n",
      "disnt_basal = 1.2929453262786597\n",
      "disnt_after = 1.6166666666666667\n",
      "val_r2_mean = 0.9368294676144918\n",
      "val_r2_var = -1.7012054920196533\n",
      "\n",
      "disnt_basal = 1.4966049382716051\n",
      "disnt_after = 1.6166666666666667\n",
      "val_r2_mean = 0.9294304847717285\n",
      "val_r2_var = -1.600153923034668\n",
      "\n",
      "disnt_basal = 1.4807760141093476\n",
      "disnt_after = 1.6166666666666667\n",
      "val_r2_mean = 0.9411884943644205\n",
      "val_r2_var = -1.5308455626169841\n"
     ]
    },
    {
     "name": "stderr",
     "output_type": "stream",
     "text": [
      "100%|██████████| 1/1 [00:00<00:00, 36.89it/s]\n",
      "cpa_single_pert:   1%|          | 22/2184 [05:38<8:56:12, 14.88s/it]"
     ]
    },
    {
     "name": "stdout",
     "output_type": "stream",
     "text": [
      "Warning: dosage_key is not set. Setting it to \"1.0\" for all cells\n"
     ]
    },
    {
     "name": "stderr",
     "output_type": "stream",
     "text": [
      "100%|██████████| 1474/1474 [00:00<00:00, 88320.06it/s]\n",
      "100%|██████████| 1474/1474 [00:00<00:00, 1061356.93it/s]"
     ]
    },
    {
     "name": "stdout",
     "output_type": "stream",
     "text": [
      "\u001b[34mINFO    \u001b[0m Generating sequential column names                                                                        \n",
      "\u001b[34mINFO    \u001b[0m Generating sequential column names                                                                        \n"
     ]
    },
    {
     "name": "stderr",
     "output_type": "stream",
     "text": [
      "\n",
      "Global seed set to 6977\n",
      "100%|██████████| 2/2 [00:00<00:00, 391.61it/s]\n",
      "GPU available: True (cuda), used: True\n",
      "TPU available: False, using: 0 TPU cores\n",
      "IPU available: False, using: 0 IPUs\n",
      "HPU available: False, using: 0 HPUs\n",
      "You are using a CUDA device ('NVIDIA GeForce RTX 3090') that has Tensor Cores. To properly utilize them, you should set `torch.set_float32_matmul_precision('medium' | 'high')` which will trade-off precision for performance. For more details, read https://pytorch.org/docs/stable/generated/torch.set_float32_matmul_precision.html#torch.set_float32_matmul_precision\n",
      "LOCAL_RANK: 0 - CUDA_VISIBLE_DEVICES: [0,1,2,3]\n",
      "\n",
      "Epoch 00004: cpa_metric reached. Module best state updated.\n",
      "\n",
      "Epoch 00009: cpa_metric reached. Module best state updated.\n"
     ]
    },
    {
     "name": "stdout",
     "output_type": "stream",
     "text": [
      "\n",
      "disnt_basal = 1.6981891891891892\n",
      "disnt_after = 1.8585585585585587\n",
      "val_r2_mean = 0.33952565987904865\n",
      "val_r2_var = -2.660771131515503\n"
     ]
    },
    {
     "name": "stderr",
     "output_type": "stream",
     "text": [
      "\n",
      "Epoch 00014: cpa_metric reached. Module best state updated.\n",
      "\n",
      "Epoch 00019: cpa_metric reached. Module best state updated.\n"
     ]
    },
    {
     "name": "stdout",
     "output_type": "stream",
     "text": [
      "\n",
      "disnt_basal = 1.6983423423423423\n",
      "disnt_after = 1.8585585585585587\n",
      "val_r2_mean = 0.7930688063303629\n",
      "val_r2_var = -2.6621956825256348\n"
     ]
    },
    {
     "name": "stderr",
     "output_type": "stream",
     "text": [
      "\n",
      "Epoch 00024: cpa_metric reached. Module best state updated.\n",
      "\n",
      "Epoch 00029: cpa_metric reached. Module best state updated.\n"
     ]
    },
    {
     "name": "stdout",
     "output_type": "stream",
     "text": [
      "\n",
      "disnt_basal = 1.6842068539127362\n",
      "disnt_after = 1.8540446696696697\n",
      "val_r2_mean = 0.9258845249811808\n",
      "val_r2_var = -2.6465397675832114\n"
     ]
    },
    {
     "name": "stderr",
     "output_type": "stream",
     "text": [
      "\n",
      "Epoch 00034: cpa_metric reached. Module best state updated.\n",
      "\n",
      "Epoch 00039: cpa_metric reached. Module best state updated.\n"
     ]
    },
    {
     "name": "stdout",
     "output_type": "stream",
     "text": [
      "\n",
      "disnt_basal = 1.67148595654478\n",
      "disnt_after = 1.837331081081081\n",
      "val_r2_mean = 0.9397350152333578\n",
      "val_r2_var = -2.6153148810068765\n"
     ]
    },
    {
     "name": "stderr",
     "output_type": "stream",
     "text": [
      "\n",
      "Epoch 00044: cpa_metric reached. Module best state updated.\n"
     ]
    },
    {
     "name": "stdout",
     "output_type": "stream",
     "text": [
      "\n",
      "disnt_basal = 1.687216216216216\n",
      "disnt_after = 1.8361111111111112\n",
      "val_r2_mean = 0.9412307143211365\n",
      "val_r2_var = -2.558656613032023\n"
     ]
    },
    {
     "name": "stderr",
     "output_type": "stream",
     "text": [
      "\n",
      "Epoch 00054: cpa_metric reached. Module best state updated.\n",
      "\n",
      "Epoch 00059: cpa_metric reached. Module best state updated.\n"
     ]
    },
    {
     "name": "stdout",
     "output_type": "stream",
     "text": [
      "\n",
      "disnt_basal = 1.6877117117117117\n",
      "disnt_after = 1.8361111111111112\n",
      "val_r2_mean = 0.9427894552548727\n",
      "val_r2_var = -2.477170467376709\n"
     ]
    },
    {
     "name": "stderr",
     "output_type": "stream",
     "text": [
      "\n",
      "Epoch 00064: cpa_metric reached. Module best state updated.\n",
      "\n",
      "Epoch 00069: cpa_metric reached. Module best state updated.\n"
     ]
    },
    {
     "name": "stdout",
     "output_type": "stream",
     "text": [
      "\n",
      "disnt_basal = 1.691054054054054\n",
      "disnt_after = 1.8361111111111112\n",
      "val_r2_mean = 0.9460509022076925\n",
      "val_r2_var = -2.4182024002075195\n"
     ]
    },
    {
     "name": "stderr",
     "output_type": "stream",
     "text": [
      "\n",
      "Epoch 00074: cpa_metric reached. Module best state updated.\n",
      "\n",
      "Epoch 00079: cpa_metric reached. Module best state updated.\n"
     ]
    },
    {
     "name": "stdout",
     "output_type": "stream",
     "text": [
      "\n",
      "disnt_basal = 1.6890450450450452\n",
      "disnt_after = 1.8361111111111112\n",
      "val_r2_mean = 0.9538228313128153\n",
      "val_r2_var = -2.3521553675333657\n"
     ]
    },
    {
     "name": "stderr",
     "output_type": "stream",
     "text": [
      "\n",
      "Epoch 00084: cpa_metric reached. Module best state updated.\n",
      "\n",
      "Epoch 00089: cpa_metric reached. Module best state updated.\n"
     ]
    },
    {
     "name": "stdout",
     "output_type": "stream",
     "text": [
      "\n",
      "disnt_basal = 1.68614820703056\n",
      "disnt_after = 1.8361111111111112\n",
      "val_r2_mean = 0.9531999627749125\n",
      "val_r2_var = -2.305747111638387\n"
     ]
    },
    {
     "name": "stderr",
     "output_type": "stream",
     "text": [
      "\n",
      "Epoch 00094: cpa_metric reached. Module best state updated.\n",
      "\n",
      "Epoch 00099: cpa_metric reached. Module best state updated.\n"
     ]
    },
    {
     "name": "stdout",
     "output_type": "stream",
     "text": [
      "\n",
      "disnt_basal = 1.6888009185656245\n",
      "disnt_after = 1.8361111111111112\n",
      "val_r2_mean = 0.9598461190859476\n",
      "val_r2_var = -2.236586411794027\n"
     ]
    },
    {
     "name": "stderr",
     "output_type": "stream",
     "text": [
      "\n",
      "Epoch 00104: cpa_metric reached. Module best state updated.\n",
      "\n",
      "Epoch 00109: cpa_metric reached. Module best state updated.\n"
     ]
    },
    {
     "name": "stdout",
     "output_type": "stream",
     "text": [
      "\n",
      "disnt_basal = 1.6826364599894013\n",
      "disnt_after = 1.8361111111111112\n",
      "val_r2_mean = 0.9556497732798258\n",
      "val_r2_var = -2.164353370666504\n"
     ]
    },
    {
     "name": "stderr",
     "output_type": "stream",
     "text": [
      "\n",
      "Epoch 00114: cpa_metric reached. Module best state updated.\n"
     ]
    },
    {
     "name": "stdout",
     "output_type": "stream",
     "text": [
      "\n",
      "disnt_basal = 1.6125738606253313\n",
      "disnt_after = 1.8401370120120122\n",
      "val_r2_mean = 0.9518794020016988\n",
      "val_r2_var = -2.130057175954183\n",
      "\n",
      "disnt_basal = 1.6839066198551493\n",
      "disnt_after = 1.8425769519519521\n",
      "val_r2_mean = 0.9516083796819051\n",
      "val_r2_var = -2.018190622329712\n",
      "\n",
      "disnt_basal = 1.6844880763116057\n",
      "disnt_after = 1.842698948948949\n",
      "val_r2_mean = 0.9521786570549011\n",
      "val_r2_var = -1.9436016082763672\n"
     ]
    },
    {
     "name": "stderr",
     "output_type": "stream",
     "text": [
      "100%|██████████| 1/1 [00:00<00:00, 26.06it/s]\n",
      "cpa_single_pert:   1%|          | 23/2184 [05:52<8:40:47, 14.46s/it]"
     ]
    },
    {
     "name": "stdout",
     "output_type": "stream",
     "text": [
      "Warning: dosage_key is not set. Setting it to \"1.0\" for all cells\n"
     ]
    },
    {
     "name": "stderr",
     "output_type": "stream",
     "text": [
      "100%|██████████| 1306/1306 [00:00<00:00, 87107.59it/s]\n",
      "100%|██████████| 1306/1306 [00:00<00:00, 1079149.14it/s]"
     ]
    },
    {
     "name": "stdout",
     "output_type": "stream",
     "text": [
      "\u001b[34mINFO    \u001b[0m Generating sequential column names                                                                        \n",
      "\u001b[34mINFO    \u001b[0m Generating sequential column names                                                                        \n"
     ]
    },
    {
     "name": "stderr",
     "output_type": "stream",
     "text": [
      "\n",
      "Global seed set to 6977\n",
      "100%|██████████| 2/2 [00:00<00:00, 903.85it/s]\n",
      "GPU available: True (cuda), used: True\n",
      "TPU available: False, using: 0 TPU cores\n",
      "IPU available: False, using: 0 IPUs\n",
      "HPU available: False, using: 0 HPUs\n",
      "You are using a CUDA device ('NVIDIA GeForce RTX 3090') that has Tensor Cores. To properly utilize them, you should set `torch.set_float32_matmul_precision('medium' | 'high')` which will trade-off precision for performance. For more details, read https://pytorch.org/docs/stable/generated/torch.set_float32_matmul_precision.html#torch.set_float32_matmul_precision\n",
      "LOCAL_RANK: 0 - CUDA_VISIBLE_DEVICES: [0,1,2,3]\n",
      "\n",
      "Epoch 00004: cpa_metric reached. Module best state updated.\n",
      "\n",
      "Epoch 00009: cpa_metric reached. Module best state updated.\n"
     ]
    },
    {
     "name": "stdout",
     "output_type": "stream",
     "text": [
      "\n",
      "disnt_basal = 1.6984375\n",
      "disnt_after = 1.6984375\n",
      "val_r2_mean = 0.3133279085159302\n",
      "val_r2_var = -2.323213736216227\n"
     ]
    },
    {
     "name": "stderr",
     "output_type": "stream",
     "text": [
      "\n",
      "Epoch 00014: cpa_metric reached. Module best state updated.\n",
      "\n",
      "Epoch 00019: cpa_metric reached. Module best state updated.\n"
     ]
    },
    {
     "name": "stdout",
     "output_type": "stream",
     "text": [
      "\n",
      "disnt_basal = 1.6984375\n",
      "disnt_after = 1.6984375\n",
      "val_r2_mean = 0.7703620394070944\n",
      "val_r2_var = -2.32456111907959\n"
     ]
    },
    {
     "name": "stderr",
     "output_type": "stream",
     "text": [
      "\n",
      "Epoch 00024: cpa_metric reached. Module best state updated.\n",
      "\n",
      "Epoch 00029: cpa_metric reached. Module best state updated.\n"
     ]
    },
    {
     "name": "stdout",
     "output_type": "stream",
     "text": [
      "\n",
      "disnt_basal = 1.6984375\n",
      "disnt_after = 1.6852370689655172\n",
      "val_r2_mean = 0.9140551686286926\n",
      "val_r2_var = -2.3101905981699624\n",
      "\n",
      "disnt_basal = 1.6984375\n",
      "disnt_after = 1.636835488505747\n",
      "val_r2_mean = 0.9278884331385294\n",
      "val_r2_var = -2.2752816677093506\n",
      "\n",
      "disnt_basal = 1.6984375\n",
      "disnt_after = 1.6365211925287357\n",
      "val_r2_mean = 0.9239024519920349\n",
      "val_r2_var = -2.237175703048706\n"
     ]
    },
    {
     "name": "stderr",
     "output_type": "stream",
     "text": [
      "\n",
      "Epoch 00054: cpa_metric reached. Module best state updated.\n",
      "\n",
      "Epoch 00059: cpa_metric reached. Module best state updated.\n"
     ]
    },
    {
     "name": "stdout",
     "output_type": "stream",
     "text": [
      "\n",
      "disnt_basal = 1.6984375\n",
      "disnt_after = 1.636206896551724\n",
      "val_r2_mean = 0.9324952363967896\n",
      "val_r2_var = -2.15458353360494\n"
     ]
    },
    {
     "name": "stderr",
     "output_type": "stream",
     "text": [
      "\n",
      "Epoch 00064: cpa_metric reached. Module best state updated.\n",
      "\n",
      "Epoch 00069: cpa_metric reached. Module best state updated.\n"
     ]
    },
    {
     "name": "stdout",
     "output_type": "stream",
     "text": [
      "\n",
      "disnt_basal = 1.6984375\n",
      "disnt_after = 1.636206896551724\n",
      "val_r2_mean = 0.9325738151868185\n",
      "val_r2_var = -2.1016484101613364\n"
     ]
    },
    {
     "name": "stderr",
     "output_type": "stream",
     "text": [
      "\n",
      "Epoch 00074: cpa_metric reached. Module best state updated.\n",
      "\n",
      "Epoch 00079: cpa_metric reached. Module best state updated.\n"
     ]
    },
    {
     "name": "stdout",
     "output_type": "stream",
     "text": [
      "\n",
      "disnt_basal = 1.6984375\n",
      "disnt_after = 1.636206896551724\n",
      "val_r2_mean = 0.9421114126841227\n",
      "val_r2_var = -2.0377093156178794\n"
     ]
    },
    {
     "name": "stderr",
     "output_type": "stream",
     "text": [
      "\n",
      "Epoch 00084: cpa_metric reached. Module best state updated.\n",
      "\n",
      "Epoch 00089: cpa_metric reached. Module best state updated.\n"
     ]
    },
    {
     "name": "stdout",
     "output_type": "stream",
     "text": [
      "\n",
      "disnt_basal = 1.529302720396877\n",
      "disnt_after = 1.636206896551724\n",
      "val_r2_mean = 0.9375332991282145\n",
      "val_r2_var = -2.0073235034942627\n",
      "\n",
      "disnt_basal = 1.6984374999999998\n",
      "disnt_after = 1.6572647270114942\n",
      "val_r2_mean = 0.9250019192695618\n",
      "val_r2_var = -1.9286341667175293\n",
      "\n",
      "disnt_basal = 1.6984374999999998\n",
      "disnt_after = 1.651293103448276\n",
      "val_r2_mean = 0.939553459485372\n",
      "val_r2_var = -1.8176924387613933\n"
     ]
    },
    {
     "name": "stderr",
     "output_type": "stream",
     "text": [
      "100%|██████████| 1/1 [00:00<00:00, 25.50it/s]\n",
      "cpa_single_pert:   1%|          | 24/2184 [06:03<8:05:35, 13.49s/it]"
     ]
    },
    {
     "name": "stdout",
     "output_type": "stream",
     "text": [
      "Warning: dosage_key is not set. Setting it to \"1.0\" for all cells\n"
     ]
    },
    {
     "name": "stderr",
     "output_type": "stream",
     "text": [
      "100%|██████████| 1310/1310 [00:00<00:00, 84504.06it/s]\n",
      "100%|██████████| 1310/1310 [00:00<00:00, 1060107.71it/s]"
     ]
    },
    {
     "name": "stdout",
     "output_type": "stream",
     "text": [
      "\u001b[34mINFO    \u001b[0m Generating sequential column names                                                                        \n",
      "\u001b[34mINFO    \u001b[0m Generating sequential column names                                                                        \n"
     ]
    },
    {
     "name": "stderr",
     "output_type": "stream",
     "text": [
      "\n",
      "Global seed set to 6977\n",
      "100%|██████████| 2/2 [00:00<00:00, 670.23it/s]\n",
      "GPU available: True (cuda), used: True\n",
      "TPU available: False, using: 0 TPU cores\n",
      "IPU available: False, using: 0 IPUs\n",
      "HPU available: False, using: 0 HPUs\n",
      "You are using a CUDA device ('NVIDIA GeForce RTX 3090') that has Tensor Cores. To properly utilize them, you should set `torch.set_float32_matmul_precision('medium' | 'high')` which will trade-off precision for performance. For more details, read https://pytorch.org/docs/stable/generated/torch.set_float32_matmul_precision.html#torch.set_float32_matmul_precision\n",
      "LOCAL_RANK: 0 - CUDA_VISIBLE_DEVICES: [0,1,2,3]\n",
      "\n",
      "Epoch 00004: cpa_metric reached. Module best state updated.\n",
      "\n",
      "Epoch 00009: cpa_metric reached. Module best state updated.\n"
     ]
    },
    {
     "name": "stdout",
     "output_type": "stream",
     "text": [
      "\n",
      "disnt_basal = 1.6857142857142855\n",
      "disnt_after = 1.6857142857142855\n",
      "val_r2_mean = 0.3272705078125\n",
      "val_r2_var = -2.4037667910257974\n"
     ]
    },
    {
     "name": "stderr",
     "output_type": "stream",
     "text": [
      "\n",
      "Epoch 00014: cpa_metric reached. Module best state updated.\n",
      "\n",
      "Epoch 00019: cpa_metric reached. Module best state updated.\n"
     ]
    },
    {
     "name": "stdout",
     "output_type": "stream",
     "text": [
      "\n",
      "disnt_basal = 1.6857142857142857\n",
      "disnt_after = 1.6857142857142857\n",
      "val_r2_mean = 0.7770458261171976\n",
      "val_r2_var = -2.4066304365793862\n"
     ]
    },
    {
     "name": "stderr",
     "output_type": "stream",
     "text": [
      "\n",
      "Epoch 00024: cpa_metric reached. Module best state updated.\n",
      "\n",
      "Epoch 00029: cpa_metric reached. Module best state updated.\n"
     ]
    },
    {
     "name": "stdout",
     "output_type": "stream",
     "text": [
      "\n",
      "disnt_basal = 1.6845063392233204\n",
      "disnt_after = 1.6833994708994708\n",
      "val_r2_mean = 0.9151291251182556\n",
      "val_r2_var = -2.3903070290883384\n"
     ]
    },
    {
     "name": "stderr",
     "output_type": "stream",
     "text": [
      "\n",
      "Epoch 00034: cpa_metric reached. Module best state updated.\n"
     ]
    },
    {
     "name": "stdout",
     "output_type": "stream",
     "text": [
      "\n",
      "disnt_basal = 1.6857142857142857\n",
      "disnt_after = 1.6546296296296297\n",
      "val_r2_mean = 0.9284403324127197\n",
      "val_r2_var = -2.354764779408773\n",
      "\n",
      "disnt_basal = 1.6857142857142857\n",
      "disnt_after = 1.6390873015873015\n",
      "val_r2_mean = 0.9255573352177938\n",
      "val_r2_var = -2.3094331423441568\n"
     ]
    },
    {
     "name": "stderr",
     "output_type": "stream",
     "text": [
      "\n",
      "Epoch 00054: cpa_metric reached. Module best state updated.\n",
      "\n",
      "Epoch 00059: cpa_metric reached. Module best state updated.\n"
     ]
    },
    {
     "name": "stdout",
     "output_type": "stream",
     "text": [
      "\n",
      "disnt_basal = 1.6857142857142857\n",
      "disnt_after = 1.6304894179894178\n",
      "val_r2_mean = 0.9297114014625549\n",
      "val_r2_var = -2.2373456160227456\n"
     ]
    },
    {
     "name": "stderr",
     "output_type": "stream",
     "text": [
      "\n",
      "Epoch 00064: cpa_metric reached. Module best state updated.\n",
      "\n",
      "Epoch 00069: cpa_metric reached. Module best state updated.\n"
     ]
    },
    {
     "name": "stdout",
     "output_type": "stream",
     "text": [
      "\n",
      "disnt_basal = 1.6857142857142857\n",
      "disnt_after = 1.6261904761904762\n",
      "val_r2_mean = 0.9326857328414917\n",
      "val_r2_var = -2.1710216999053955\n"
     ]
    },
    {
     "name": "stderr",
     "output_type": "stream",
     "text": [
      "\n",
      "Epoch 00074: cpa_metric reached. Module best state updated.\n",
      "\n",
      "Epoch 00079: cpa_metric reached. Module best state updated.\n"
     ]
    },
    {
     "name": "stdout",
     "output_type": "stream",
     "text": [
      "\n",
      "disnt_basal = 1.6242063492063492\n",
      "disnt_after = 1.626521164021164\n",
      "val_r2_mean = 0.9339876969655355\n",
      "val_r2_var = -2.1278932094573975\n"
     ]
    },
    {
     "name": "stderr",
     "output_type": "stream",
     "text": [
      "\n",
      "Epoch 00084: cpa_metric reached. Module best state updated.\n"
     ]
    },
    {
     "name": "stdout",
     "output_type": "stream",
     "text": [
      "\n",
      "disnt_basal = 1.682091694119996\n",
      "disnt_after = 1.6321428571428571\n",
      "val_r2_mean = 0.9409315586090088\n",
      "val_r2_var = -2.0955821673075357\n"
     ]
    },
    {
     "name": "stderr",
     "output_type": "stream",
     "text": [
      "\n",
      "Epoch 00099: cpa_metric reached. Module best state updated.\n"
     ]
    },
    {
     "name": "stdout",
     "output_type": "stream",
     "text": [
      "\n",
      "disnt_basal = 1.6754429969052609\n",
      "disnt_after = 1.6367724867724869\n",
      "val_r2_mean = 0.936696986357371\n",
      "val_r2_var = -1.9993003209431965\n"
     ]
    },
    {
     "name": "stderr",
     "output_type": "stream",
     "text": [
      "\n",
      "Epoch 00104: cpa_metric reached. Module best state updated.\n",
      "\n",
      "Epoch 00109: cpa_metric reached. Module best state updated.\n"
     ]
    },
    {
     "name": "stdout",
     "output_type": "stream",
     "text": [
      "\n",
      "disnt_basal = 1.618810522112409\n",
      "disnt_after = 1.636441798941799\n",
      "val_r2_mean = 0.9341301918029785\n",
      "val_r2_var = -1.9168124198913574\n"
     ]
    },
    {
     "name": "stderr",
     "output_type": "stream",
     "text": [
      "\n",
      "Epoch 00114: cpa_metric reached. Module best state updated.\n",
      "\n",
      "Epoch 00119: cpa_metric reached. Module best state updated.\n"
     ]
    },
    {
     "name": "stdout",
     "output_type": "stream",
     "text": [
      "\n",
      "disnt_basal = 1.3626846860337427\n",
      "disnt_after = 1.6318121693121692\n",
      "val_r2_mean = 0.9283532698949178\n",
      "val_r2_var = -1.8602386315663655\n",
      "\n",
      "disnt_basal = 1.67049765398822\n",
      "disnt_after = 1.630820105820106\n",
      "val_r2_mean = 0.9298275113105774\n",
      "val_r2_var = -1.770856459935506\n",
      "\n",
      "disnt_basal = 1.625545322950983\n",
      "disnt_after = 1.6304894179894178\n",
      "val_r2_mean = 0.9323822259902954\n",
      "val_r2_var = -1.6841583251953125\n"
     ]
    },
    {
     "name": "stderr",
     "output_type": "stream",
     "text": [
      "100%|██████████| 1/1 [00:00<00:00, 29.02it/s]\n",
      "cpa_single_pert:   1%|          | 25/2184 [06:16<7:59:34, 13.33s/it]"
     ]
    },
    {
     "name": "stdout",
     "output_type": "stream",
     "text": [
      "Warning: dosage_key is not set. Setting it to \"1.0\" for all cells\n"
     ]
    },
    {
     "name": "stderr",
     "output_type": "stream",
     "text": [
      "100%|██████████| 1494/1494 [00:00<00:00, 88947.89it/s]\n",
      "100%|██████████| 1494/1494 [00:00<00:00, 1066965.81it/s]"
     ]
    },
    {
     "name": "stdout",
     "output_type": "stream",
     "text": [
      "\u001b[34mINFO    \u001b[0m Generating sequential column names                                                                        \n",
      "\u001b[34mINFO    \u001b[0m Generating sequential column names                                                                        \n"
     ]
    },
    {
     "name": "stderr",
     "output_type": "stream",
     "text": [
      "\n",
      "Global seed set to 6977\n",
      "100%|██████████| 2/2 [00:00<00:00, 815.77it/s]\n",
      "GPU available: True (cuda), used: True\n",
      "TPU available: False, using: 0 TPU cores\n",
      "IPU available: False, using: 0 IPUs\n",
      "HPU available: False, using: 0 HPUs\n",
      "You are using a CUDA device ('NVIDIA GeForce RTX 3090') that has Tensor Cores. To properly utilize them, you should set `torch.set_float32_matmul_precision('medium' | 'high')` which will trade-off precision for performance. For more details, read https://pytorch.org/docs/stable/generated/torch.set_float32_matmul_precision.html#torch.set_float32_matmul_precision\n",
      "LOCAL_RANK: 0 - CUDA_VISIBLE_DEVICES: [0,1,2,3]\n",
      "\n",
      "Epoch 00004: cpa_metric reached. Module best state updated.\n",
      "\n",
      "Epoch 00009: cpa_metric reached. Module best state updated.\n"
     ]
    },
    {
     "name": "stdout",
     "output_type": "stream",
     "text": [
      "\n",
      "disnt_basal = 1.6662222222222223\n",
      "disnt_after = 1.8626666666666667\n",
      "val_r2_mean = 0.3108977675437927\n",
      "val_r2_var = -2.4727625846862793\n"
     ]
    },
    {
     "name": "stderr",
     "output_type": "stream",
     "text": [
      "\n",
      "Epoch 00014: cpa_metric reached. Module best state updated.\n",
      "\n",
      "Epoch 00019: cpa_metric reached. Module best state updated.\n"
     ]
    },
    {
     "name": "stdout",
     "output_type": "stream",
     "text": [
      "\n",
      "disnt_basal = 1.6622222222222223\n",
      "disnt_after = 1.8626666666666667\n",
      "val_r2_mean = 0.7808197538057963\n",
      "val_r2_var = -2.4735941092173257\n"
     ]
    },
    {
     "name": "stderr",
     "output_type": "stream",
     "text": [
      "\n",
      "Epoch 00024: cpa_metric reached. Module best state updated.\n",
      "\n",
      "Epoch 00029: cpa_metric reached. Module best state updated.\n"
     ]
    },
    {
     "name": "stdout",
     "output_type": "stream",
     "text": [
      "\n",
      "disnt_basal = 1.674\n",
      "disnt_after = 1.8575963718820863\n",
      "val_r2_mean = 0.9254482984542847\n",
      "val_r2_var = -2.4611124992370605\n"
     ]
    },
    {
     "name": "stderr",
     "output_type": "stream",
     "text": [
      "\n",
      "Epoch 00034: cpa_metric reached. Module best state updated.\n"
     ]
    },
    {
     "name": "stdout",
     "output_type": "stream",
     "text": [
      "\n",
      "disnt_basal = 1.6817777777777778\n",
      "disnt_after = 1.8445079365079367\n",
      "val_r2_mean = 0.9315300583839417\n",
      "val_r2_var = -2.4350082874298096\n"
     ]
    },
    {
     "name": "stderr",
     "output_type": "stream",
     "text": [
      "\n",
      "Epoch 00044: cpa_metric reached. Module best state updated.\n",
      "\n",
      "Epoch 00049: cpa_metric reached. Module best state updated.\n"
     ]
    },
    {
     "name": "stdout",
     "output_type": "stream",
     "text": [
      "\n",
      "disnt_basal = 1.6846666666666668\n",
      "disnt_after = 1.842857142857143\n",
      "val_r2_mean = 0.9359542727470398\n",
      "val_r2_var = -2.3663503328959146\n"
     ]
    },
    {
     "name": "stderr",
     "output_type": "stream",
     "text": [
      "\n",
      "Epoch 00054: cpa_metric reached. Module best state updated.\n",
      "\n",
      "Epoch 00059: cpa_metric reached. Module best state updated.\n"
     ]
    },
    {
     "name": "stdout",
     "output_type": "stream",
     "text": [
      "\n",
      "disnt_basal = 1.6857777777777778\n",
      "disnt_after = 1.842857142857143\n",
      "val_r2_mean = 0.9395005504290262\n",
      "val_r2_var = -2.3079883257548013\n"
     ]
    },
    {
     "name": "stderr",
     "output_type": "stream",
     "text": [
      "\n",
      "Epoch 00064: cpa_metric reached. Module best state updated.\n",
      "\n",
      "Epoch 00069: cpa_metric reached. Module best state updated.\n"
     ]
    },
    {
     "name": "stdout",
     "output_type": "stream",
     "text": [
      "\n",
      "disnt_basal = 1.6800000000000002\n",
      "disnt_after = 1.842857142857143\n",
      "val_r2_mean = 0.9442593653996786\n",
      "val_r2_var = -2.2362000942230225\n"
     ]
    },
    {
     "name": "stderr",
     "output_type": "stream",
     "text": [
      "\n",
      "Epoch 00074: cpa_metric reached. Module best state updated.\n",
      "\n",
      "Epoch 00079: cpa_metric reached. Module best state updated.\n"
     ]
    },
    {
     "name": "stdout",
     "output_type": "stream",
     "text": [
      "\n",
      "disnt_basal = 1.6735555555555557\n",
      "disnt_after = 1.842857142857143\n",
      "val_r2_mean = 0.9521293242772421\n",
      "val_r2_var = -2.1712427934010825\n"
     ]
    },
    {
     "name": "stderr",
     "output_type": "stream",
     "text": [
      "\n",
      "Epoch 00084: cpa_metric reached. Module best state updated.\n",
      "\n",
      "Epoch 00089: cpa_metric reached. Module best state updated.\n"
     ]
    },
    {
     "name": "stdout",
     "output_type": "stream",
     "text": [
      "\n",
      "disnt_basal = 1.6671111111111112\n",
      "disnt_after = 1.842857142857143\n",
      "val_r2_mean = 0.9517532189687093\n",
      "val_r2_var = -2.0952123006184897\n"
     ]
    },
    {
     "name": "stderr",
     "output_type": "stream",
     "text": [
      "\n",
      "Epoch 00094: cpa_metric reached. Module best state updated.\n",
      "\n",
      "Epoch 00099: cpa_metric reached. Module best state updated.\n"
     ]
    },
    {
     "name": "stdout",
     "output_type": "stream",
     "text": [
      "\n",
      "disnt_basal = 1.6651111111111112\n",
      "disnt_after = 1.842857142857143\n",
      "val_r2_mean = 0.9557366172472636\n",
      "val_r2_var = -2.008717695871989\n"
     ]
    },
    {
     "name": "stderr",
     "output_type": "stream",
     "text": [
      "\n",
      "Epoch 00104: cpa_metric reached. Module best state updated.\n",
      "\n",
      "Epoch 00109: cpa_metric reached. Module best state updated.\n"
     ]
    },
    {
     "name": "stdout",
     "output_type": "stream",
     "text": [
      "\n",
      "disnt_basal = 1.6590292116846739\n",
      "disnt_after = 1.842857142857143\n",
      "val_r2_mean = 0.9557372530301412\n",
      "val_r2_var = -1.9297052224477131\n"
     ]
    },
    {
     "name": "stderr",
     "output_type": "stream",
     "text": [
      "\n",
      "Epoch 00114: cpa_metric reached. Module best state updated.\n"
     ]
    },
    {
     "name": "stdout",
     "output_type": "stream",
     "text": [
      "\n",
      "disnt_basal = 1.6210140056022408\n",
      "disnt_after = 1.8472199546485262\n",
      "val_r2_mean = 0.9575667778650919\n",
      "val_r2_var = -1.9465992450714111\n",
      "\n",
      "disnt_basal = 1.6433842870481525\n",
      "disnt_after = 1.8487528344671205\n",
      "val_r2_mean = 0.9480304718017578\n",
      "val_r2_var = -1.7428747812906902\n"
     ]
    },
    {
     "name": "stderr",
     "output_type": "stream",
     "text": [
      "\n",
      "Epoch 00139: cpa_metric reached. Module best state updated.\n"
     ]
    },
    {
     "name": "stdout",
     "output_type": "stream",
     "text": [
      "\n",
      "disnt_basal = 1.6545092703748168\n",
      "disnt_after = 1.852172335600907\n",
      "val_r2_mean = 0.948683520158132\n",
      "val_r2_var = -1.6722920735677083\n"
     ]
    },
    {
     "name": "stderr",
     "output_type": "stream",
     "text": [
      "\n",
      "Epoch 00144: cpa_metric reached. Module best state updated.\n",
      "\n",
      "Epoch 00149: cpa_metric reached. Module best state updated.\n"
     ]
    },
    {
     "name": "stdout",
     "output_type": "stream",
     "text": [
      "\n",
      "disnt_basal = 1.6395913031879419\n",
      "disnt_after = 1.8508752834467121\n",
      "val_r2_mean = 0.9565751949946085\n",
      "val_r2_var = -1.594262997309367\n"
     ]
    },
    {
     "name": "stderr",
     "output_type": "stream",
     "text": [
      "\n",
      "Epoch 00154: cpa_metric reached. Module best state updated.\n",
      "\n",
      "Epoch 00159: cpa_metric reached. Module best state updated.\n"
     ]
    },
    {
     "name": "stdout",
     "output_type": "stream",
     "text": [
      "\n",
      "disnt_basal = 1.5996529278378016\n",
      "disnt_after = 1.848281179138322\n",
      "val_r2_mean = 0.9539555311203003\n",
      "val_r2_var = -1.5549581050872803\n"
     ]
    },
    {
     "name": "stderr",
     "output_type": "stream",
     "text": [
      "\n",
      "Epoch 00164: cpa_metric reached. Module best state updated.\n",
      "\n",
      "Epoch 00169: cpa_metric reached. Module best state updated.\n"
     ]
    },
    {
     "name": "stdout",
     "output_type": "stream",
     "text": [
      "\n",
      "disnt_basal = 1.3411159130318797\n",
      "disnt_after = 1.8435646258503402\n",
      "val_r2_mean = 0.9557815591494242\n",
      "val_r2_var = -1.564677635828654\n",
      "\n",
      "disnt_basal = 1.5801766039749234\n",
      "disnt_after = 1.842857142857143\n",
      "val_r2_mean = 0.9600072503089905\n",
      "val_r2_var = -1.4943254788716633\n",
      "\n",
      "disnt_basal = 1.6109795918367347\n",
      "disnt_after = 1.8429750566893426\n",
      "val_r2_mean = 0.9635943571726481\n",
      "val_r2_var = -1.4319743315378826\n"
     ]
    },
    {
     "name": "stderr",
     "output_type": "stream",
     "text": [
      "100%|██████████| 1/1 [00:00<00:00, 23.85it/s]\n",
      "cpa_single_pert:   1%|          | 26/2184 [06:35<9:02:52, 15.09s/it]"
     ]
    },
    {
     "name": "stdout",
     "output_type": "stream",
     "text": [
      "Warning: dosage_key is not set. Setting it to \"1.0\" for all cells\n"
     ]
    },
    {
     "name": "stderr",
     "output_type": "stream",
     "text": [
      "100%|██████████| 1812/1812 [00:00<00:00, 84854.51it/s]\n",
      "100%|██████████| 1812/1812 [00:00<00:00, 1055273.38it/s]"
     ]
    },
    {
     "name": "stdout",
     "output_type": "stream",
     "text": [
      "\u001b[34mINFO    \u001b[0m Generating sequential column names                                                                        \n",
      "\u001b[34mINFO    \u001b[0m Generating sequential column names                                                                        \n"
     ]
    },
    {
     "name": "stderr",
     "output_type": "stream",
     "text": [
      "\n",
      "Global seed set to 6977\n",
      "100%|██████████| 2/2 [00:00<00:00, 380.40it/s]\n",
      "GPU available: True (cuda), used: True\n",
      "TPU available: False, using: 0 TPU cores\n",
      "IPU available: False, using: 0 IPUs\n",
      "HPU available: False, using: 0 HPUs\n",
      "You are using a CUDA device ('NVIDIA GeForce RTX 3090') that has Tensor Cores. To properly utilize them, you should set `torch.set_float32_matmul_precision('medium' | 'high')` which will trade-off precision for performance. For more details, read https://pytorch.org/docs/stable/generated/torch.set_float32_matmul_precision.html#torch.set_float32_matmul_precision\n",
      "LOCAL_RANK: 0 - CUDA_VISIBLE_DEVICES: [0,1,2,3]\n",
      "\n",
      "Epoch 00004: cpa_metric reached. Module best state updated.\n",
      "\n",
      "Epoch 00009: cpa_metric reached. Module best state updated.\n"
     ]
    },
    {
     "name": "stdout",
     "output_type": "stream",
     "text": [
      "\n",
      "disnt_basal = 1.654510921177588\n",
      "disnt_after = 2.0\n",
      "val_r2_mean = 0.5896567900975546\n",
      "val_r2_var = -2.871702194213867\n"
     ]
    },
    {
     "name": "stderr",
     "output_type": "stream",
     "text": [
      "\n",
      "Epoch 00014: cpa_metric reached. Module best state updated.\n",
      "\n",
      "Epoch 00019: cpa_metric reached. Module best state updated.\n"
     ]
    },
    {
     "name": "stdout",
     "output_type": "stream",
     "text": [
      "\n",
      "disnt_basal = 1.6391670058336727\n",
      "disnt_after = 2.0\n",
      "val_r2_mean = 0.9511598149935404\n",
      "val_r2_var = -2.8668487866719565\n"
     ]
    },
    {
     "name": "stderr",
     "output_type": "stream",
     "text": [
      "\n",
      "Epoch 00024: cpa_metric reached. Module best state updated.\n",
      "\n",
      "Epoch 00029: cpa_metric reached. Module best state updated.\n"
     ]
    },
    {
     "name": "stdout",
     "output_type": "stream",
     "text": [
      "\n",
      "disnt_basal = 1.64010989010989\n",
      "disnt_after = 2.0\n",
      "val_r2_mean = 0.9614291985829672\n",
      "val_r2_var = -2.825930118560791\n"
     ]
    },
    {
     "name": "stderr",
     "output_type": "stream",
     "text": [
      "\n",
      "Epoch 00034: cpa_metric reached. Module best state updated.\n",
      "\n",
      "Epoch 00039: cpa_metric reached. Module best state updated.\n"
     ]
    },
    {
     "name": "stdout",
     "output_type": "stream",
     "text": [
      "\n",
      "disnt_basal = 1.6245183828517162\n",
      "disnt_after = 2.0\n",
      "val_r2_mean = 0.9639302690823873\n",
      "val_r2_var = -2.76961350440979\n"
     ]
    },
    {
     "name": "stderr",
     "output_type": "stream",
     "text": [
      "\n",
      "Epoch 00044: cpa_metric reached. Module best state updated.\n",
      "\n",
      "Epoch 00049: cpa_metric reached. Module best state updated.\n"
     ]
    },
    {
     "name": "stdout",
     "output_type": "stream",
     "text": [
      "\n",
      "disnt_basal = 1.5205799755799756\n",
      "disnt_after = 2.0\n",
      "val_r2_mean = 0.9572197596232096\n",
      "val_r2_var = -2.713587919871012\n",
      "\n",
      "disnt_basal = 1.643050468050468\n",
      "disnt_after = 2.0\n",
      "val_r2_mean = 0.9629099369049072\n",
      "val_r2_var = -2.5617249806722007\n",
      "\n",
      "disnt_basal = 1.6420451770451772\n",
      "disnt_after = 2.0\n",
      "val_r2_mean = 0.9635969599088033\n",
      "val_r2_var = -2.4664461612701416\n"
     ]
    },
    {
     "name": "stderr",
     "output_type": "stream",
     "text": [
      "\n",
      "Epoch 00074: cpa_metric reached. Module best state updated.\n",
      "\n",
      "Epoch 00079: cpa_metric reached. Module best state updated.\n"
     ]
    },
    {
     "name": "stdout",
     "output_type": "stream",
     "text": [
      "\n",
      "disnt_basal = 1.6046275946275945\n",
      "disnt_after = 2.0\n",
      "val_r2_mean = 0.9645687937736511\n",
      "val_r2_var = -2.378301461537679\n"
     ]
    },
    {
     "name": "stderr",
     "output_type": "stream",
     "text": [
      "\n",
      "Epoch 00084: cpa_metric reached. Module best state updated.\n",
      "\n",
      "Epoch 00089: cpa_metric reached. Module best state updated.\n"
     ]
    },
    {
     "name": "stdout",
     "output_type": "stream",
     "text": [
      "\n",
      "disnt_basal = 1.6318376068376068\n",
      "disnt_after = 2.0\n",
      "val_r2_mean = 0.9654983878135681\n",
      "val_r2_var = -2.1921419302622476\n"
     ]
    },
    {
     "name": "stderr",
     "output_type": "stream",
     "text": [
      "\n",
      "Epoch 00094: cpa_metric reached. Module best state updated.\n"
     ]
    },
    {
     "name": "stdout",
     "output_type": "stream",
     "text": [
      "\n",
      "disnt_basal = 1.6247815764482432\n",
      "disnt_after = 2.0\n",
      "val_r2_mean = 0.9651546676953634\n",
      "val_r2_var = -2.151333491007487\n",
      "\n",
      "disnt_basal = 1.5643121693121693\n",
      "disnt_after = 2.0\n",
      "val_r2_mean = 0.9655494491259257\n",
      "val_r2_var = -2.03354819615682\n"
     ]
    },
    {
     "name": "stderr",
     "output_type": "stream",
     "text": [
      "\n",
      "Epoch 00114: cpa_metric reached. Module best state updated.\n",
      "\n",
      "Epoch 00119: cpa_metric reached. Module best state updated.\n"
     ]
    },
    {
     "name": "stdout",
     "output_type": "stream",
     "text": [
      "\n",
      "disnt_basal = 1.3228150861484194\n",
      "disnt_after = 2.0\n",
      "val_r2_mean = 0.9587020675341288\n",
      "val_r2_var = -1.9087332089742024\n",
      "\n",
      "disnt_basal = 1.4326604259937594\n",
      "disnt_after = 2.0\n",
      "val_r2_mean = 0.9618972539901733\n",
      "val_r2_var = -1.8370265165964763\n"
     ]
    },
    {
     "name": "stderr",
     "output_type": "stream",
     "text": [
      "\n",
      "Epoch 00134: cpa_metric reached. Module best state updated.\n"
     ]
    },
    {
     "name": "stdout",
     "output_type": "stream",
     "text": [
      "\n",
      "disnt_basal = 1.3606735856735854\n",
      "disnt_after = 2.0\n",
      "val_r2_mean = 0.9709634780883789\n",
      "val_r2_var = -1.8284138043721516\n",
      "\n",
      "disnt_basal = 1.2588834622167955\n",
      "disnt_after = 2.0\n",
      "val_r2_mean = 0.964774509270986\n",
      "val_r2_var = -1.7384210427602131\n"
     ]
    },
    {
     "name": "stderr",
     "output_type": "stream",
     "text": [
      "\n",
      "Epoch 00154: cpa_metric reached. Module best state updated.\n",
      "100%|██████████| 1/1 [00:00<00:00, 21.92it/s]\n",
      "cpa_single_pert:   1%|          | 27/2184 [06:56<10:00:19, 16.70s/it]"
     ]
    },
    {
     "name": "stdout",
     "output_type": "stream",
     "text": [
      "Warning: dosage_key is not set. Setting it to \"1.0\" for all cells\n"
     ]
    },
    {
     "name": "stderr",
     "output_type": "stream",
     "text": [
      "100%|██████████| 1260/1260 [00:00<00:00, 51798.79it/s]\n",
      "100%|██████████| 1260/1260 [00:00<00:00, 661926.73it/s]"
     ]
    },
    {
     "name": "stdout",
     "output_type": "stream",
     "text": [
      "\u001b[34mINFO    \u001b[0m Generating sequential column names                                                                        \n",
      "\u001b[34mINFO    \u001b[0m Generating sequential column names                                                                        \n"
     ]
    },
    {
     "name": "stderr",
     "output_type": "stream",
     "text": [
      "\n",
      "Global seed set to 6977\n",
      "100%|██████████| 2/2 [00:00<00:00, 714.41it/s]\n",
      "GPU available: True (cuda), used: True\n",
      "TPU available: False, using: 0 TPU cores\n",
      "IPU available: False, using: 0 IPUs\n",
      "HPU available: False, using: 0 HPUs\n",
      "You are using a CUDA device ('NVIDIA GeForce RTX 3090') that has Tensor Cores. To properly utilize them, you should set `torch.set_float32_matmul_precision('medium' | 'high')` which will trade-off precision for performance. For more details, read https://pytorch.org/docs/stable/generated/torch.set_float32_matmul_precision.html#torch.set_float32_matmul_precision\n",
      "LOCAL_RANK: 0 - CUDA_VISIBLE_DEVICES: [0,1,2,3]\n",
      "\n",
      "Epoch 00004: cpa_metric reached. Module best state updated.\n",
      "\n",
      "Epoch 00009: cpa_metric reached. Module best state updated.\n"
     ]
    },
    {
     "name": "stdout",
     "output_type": "stream",
     "text": [
      "\n",
      "disnt_basal = 1.6049180327868853\n",
      "disnt_after = 1.6049180327868853\n",
      "val_r2_mean = 0.29253751039505005\n",
      "val_r2_var = -2.3411072889963784\n"
     ]
    },
    {
     "name": "stderr",
     "output_type": "stream",
     "text": [
      "\n",
      "Epoch 00014: cpa_metric reached. Module best state updated.\n",
      "\n",
      "Epoch 00019: cpa_metric reached. Module best state updated.\n"
     ]
    },
    {
     "name": "stdout",
     "output_type": "stream",
     "text": [
      "\n",
      "disnt_basal = 1.6049180327868853\n",
      "disnt_after = 1.6049180327868853\n",
      "val_r2_mean = 0.7563416163126627\n",
      "val_r2_var = -2.341919501622518\n"
     ]
    },
    {
     "name": "stderr",
     "output_type": "stream",
     "text": [
      "\n",
      "Epoch 00024: cpa_metric reached. Module best state updated.\n",
      "\n",
      "Epoch 00029: cpa_metric reached. Module best state updated.\n"
     ]
    },
    {
     "name": "stdout",
     "output_type": "stream",
     "text": [
      "\n",
      "disnt_basal = 1.595672131147541\n",
      "disnt_after = 1.603446826397646\n",
      "val_r2_mean = 0.9027062853177389\n",
      "val_r2_var = -2.3248708248138428\n",
      "\n",
      "disnt_basal = 1.6001584699453553\n",
      "disnt_after = 1.5475409836065575\n",
      "val_r2_mean = 0.91940704981486\n",
      "val_r2_var = -2.2833391030629477\n"
     ]
    },
    {
     "name": "stderr",
     "output_type": "stream",
     "text": [
      "\n",
      "Epoch 00044: cpa_metric reached. Module best state updated.\n"
     ]
    },
    {
     "name": "stdout",
     "output_type": "stream",
     "text": [
      "\n",
      "disnt_basal = 1.6049180327868853\n",
      "disnt_after = 1.5442307692307693\n",
      "val_r2_mean = 0.9157058000564575\n",
      "val_r2_var = -2.2255709966023765\n"
     ]
    },
    {
     "name": "stderr",
     "output_type": "stream",
     "text": [
      "\n",
      "Epoch 00054: cpa_metric reached. Module best state updated.\n",
      "\n",
      "Epoch 00059: cpa_metric reached. Module best state updated.\n"
     ]
    },
    {
     "name": "stdout",
     "output_type": "stream",
     "text": [
      "\n",
      "disnt_basal = 1.6049180327868853\n",
      "disnt_after = 1.5442307692307693\n",
      "val_r2_mean = 0.9247613747914633\n",
      "val_r2_var = -2.1619760990142822\n"
     ]
    },
    {
     "name": "stderr",
     "output_type": "stream",
     "text": [
      "\n",
      "Epoch 00064: cpa_metric reached. Module best state updated.\n",
      "\n",
      "Epoch 00069: cpa_metric reached. Module best state updated.\n"
     ]
    },
    {
     "name": "stdout",
     "output_type": "stream",
     "text": [
      "\n",
      "disnt_basal = 1.6049180327868853\n",
      "disnt_after = 1.5442307692307693\n",
      "val_r2_mean = 0.9318892359733582\n",
      "val_r2_var = -2.092792828877767\n"
     ]
    },
    {
     "name": "stderr",
     "output_type": "stream",
     "text": [
      "\n",
      "Epoch 00074: cpa_metric reached. Module best state updated.\n",
      "\n",
      "Epoch 00079: cpa_metric reached. Module best state updated.\n"
     ]
    },
    {
     "name": "stdout",
     "output_type": "stream",
     "text": [
      "\n",
      "disnt_basal = 1.5336757741347906\n",
      "disnt_after = 1.5442307692307693\n",
      "val_r2_mean = 0.936679482460022\n",
      "val_r2_var = -2.0496952533721924\n"
     ]
    },
    {
     "name": "stderr",
     "output_type": "stream",
     "text": [
      "\n",
      "Epoch 00084: cpa_metric reached. Module best state updated.\n"
     ]
    },
    {
     "name": "stdout",
     "output_type": "stream",
     "text": [
      "\n",
      "disnt_basal = 1.5915180047639064\n",
      "disnt_after = 1.553793610760824\n",
      "val_r2_mean = 0.9243518908818563\n",
      "val_r2_var = -1.9872064590454102\n"
     ]
    },
    {
     "name": "stderr",
     "output_type": "stream",
     "text": [
      "\n",
      "Epoch 00099: cpa_metric reached. Module best state updated.\n"
     ]
    },
    {
     "name": "stdout",
     "output_type": "stream",
     "text": [
      "\n",
      "disnt_basal = 1.5470403530895336\n",
      "disnt_after = 1.5508511979823454\n",
      "val_r2_mean = 0.9328565796216329\n",
      "val_r2_var = -1.901870886484782\n"
     ]
    },
    {
     "name": "stderr",
     "output_type": "stream",
     "text": [
      "\n",
      "Epoch 00104: cpa_metric reached. Module best state updated.\n",
      "\n",
      "Epoch 00109: cpa_metric reached. Module best state updated.\n"
     ]
    },
    {
     "name": "stdout",
     "output_type": "stream",
     "text": [
      "\n",
      "disnt_basal = 1.29949418523189\n",
      "disnt_after = 1.5457019756200086\n",
      "val_r2_mean = 0.9242237408955892\n",
      "val_r2_var = -1.8692196210225422\n",
      "\n",
      "disnt_basal = 1.4529234972677596\n",
      "disnt_after = 1.5442307692307693\n",
      "val_r2_mean = 0.9355891744295756\n",
      "val_r2_var = -1.8121793270111084\n"
     ]
    },
    {
     "name": "stderr",
     "output_type": "stream",
     "text": [
      "\n",
      "Epoch 00129: cpa_metric reached. Module best state updated.\n"
     ]
    },
    {
     "name": "stdout",
     "output_type": "stream",
     "text": [
      "\n",
      "disnt_basal = 1.3616387838027182\n",
      "disnt_after = 1.5442307692307693\n",
      "val_r2_mean = 0.9340313076972961\n",
      "val_r2_var = -1.713729699452718\n"
     ]
    },
    {
     "name": "stderr",
     "output_type": "stream",
     "text": [
      "\n",
      "Epoch 00134: cpa_metric reached. Module best state updated.\n",
      "\n",
      "Epoch 00139: cpa_metric reached. Module best state updated.\n"
     ]
    },
    {
     "name": "stdout",
     "output_type": "stream",
     "text": [
      "\n",
      "disnt_basal = 1.1614681238615665\n",
      "disnt_after = 1.5442307692307693\n",
      "val_r2_mean = 0.920773983001709\n",
      "val_r2_var = -1.5852205753326416\n"
     ]
    },
    {
     "name": "stderr",
     "output_type": "stream",
     "text": [
      "\n",
      "Epoch 00144: cpa_metric reached. Module best state updated.\n"
     ]
    },
    {
     "name": "stdout",
     "output_type": "stream",
     "text": [
      "\n",
      "disnt_basal = 1.2103913408995375\n",
      "disnt_after = 1.5445985708280792\n",
      "val_r2_mean = 0.934138298034668\n",
      "val_r2_var = -1.5573915640513103\n"
     ]
    },
    {
     "name": "stderr",
     "output_type": "stream",
     "text": [
      "\n",
      "Epoch 00159: cpa_metric reached. Module best state updated.\n"
     ]
    },
    {
     "name": "stdout",
     "output_type": "stream",
     "text": [
      "\n",
      "disnt_basal = 1.1340718789407314\n",
      "disnt_after = 1.5445985708280792\n",
      "val_r2_mean = 0.9312589168548584\n",
      "val_r2_var = -1.4714175860087078\n"
     ]
    },
    {
     "name": "stderr",
     "output_type": "stream",
     "text": [
      "\n",
      "Epoch 00164: cpa_metric reached. Module best state updated.\n"
     ]
    },
    {
     "name": "stdout",
     "output_type": "stream",
     "text": [
      "\n",
      "disnt_basal = 1.1261658960347485\n",
      "disnt_after = 1.5445985708280792\n",
      "val_r2_mean = 0.928454061349233\n",
      "val_r2_var = -1.4497816562652588\n",
      "\n",
      "disnt_basal = 1.2082072299285413\n",
      "disnt_after = 1.5442307692307693\n",
      "val_r2_mean = 0.9287031888961792\n",
      "val_r2_var = -1.3975172837575276\n"
     ]
    },
    {
     "name": "stderr",
     "output_type": "stream",
     "text": [
      "\n",
      "Epoch 00184: cpa_metric reached. Module best state updated.\n",
      "\n",
      "Epoch 00189: cpa_metric reached. Module best state updated.\n"
     ]
    },
    {
     "name": "stdout",
     "output_type": "stream",
     "text": [
      "\n",
      "disnt_basal = 1.0957067395264117\n",
      "disnt_after = 1.5442307692307693\n",
      "val_r2_mean = 0.9356321096420288\n",
      "val_r2_var = -1.3430599371592205\n"
     ]
    },
    {
     "name": "stderr",
     "output_type": "stream",
     "text": [
      "\n",
      "Epoch 00194: cpa_metric reached. Module best state updated.\n"
     ]
    },
    {
     "name": "stdout",
     "output_type": "stream",
     "text": [
      "\n",
      "disnt_basal = 1.1000218579234975\n",
      "disnt_after = 1.5449663724253888\n",
      "val_r2_mean = 0.9380439718564352\n",
      "val_r2_var = -1.3418233394622803\n",
      "\n",
      "disnt_basal = 1.124304189435337\n",
      "disnt_after = 1.5449663724253888\n",
      "val_r2_mean = 0.9398115674654642\n",
      "val_r2_var = -1.2977380752563477\n"
     ]
    },
    {
     "name": "stderr",
     "output_type": "stream",
     "text": [
      "\n",
      "Epoch 00219: cpa_metric reached. Module best state updated.\n"
     ]
    },
    {
     "name": "stdout",
     "output_type": "stream",
     "text": [
      "\n",
      "disnt_basal = 1.0924445845593387\n",
      "disnt_after = 1.5445985708280792\n",
      "val_r2_mean = 0.9355281790097555\n",
      "val_r2_var = -1.270508050918579\n"
     ]
    },
    {
     "name": "stderr",
     "output_type": "stream",
     "text": [
      "\n",
      "Epoch 00224: cpa_metric reached. Module best state updated.\n",
      "\n",
      "Epoch 00229: cpa_metric reached. Module best state updated.\n"
     ]
    },
    {
     "name": "stdout",
     "output_type": "stream",
     "text": [
      "\n",
      "disnt_basal = 1.0816902059688944\n",
      "disnt_after = 1.5445985708280792\n",
      "val_r2_mean = 0.9416446487108866\n",
      "val_r2_var = -1.2501373291015625\n",
      "\n",
      "disnt_basal = 1.1293714445845593\n",
      "disnt_after = 1.5442307692307693\n",
      "val_r2_mean = 0.9422548214594523\n",
      "val_r2_var = -1.2187918821970622\n"
     ]
    },
    {
     "name": "stderr",
     "output_type": "stream",
     "text": [
      "\n",
      "Epoch 00249: cpa_metric reached. Module best state updated.\n"
     ]
    },
    {
     "name": "stdout",
     "output_type": "stream",
     "text": [
      "\n",
      "disnt_basal = 1.096590724394003\n",
      "disnt_after = 1.5442307692307693\n",
      "val_r2_mean = 0.9439952969551086\n",
      "val_r2_var = -1.1956807772318523\n"
     ]
    },
    {
     "name": "stderr",
     "output_type": "stream",
     "text": [
      "\n",
      "Epoch 00254: cpa_metric reached. Module best state updated.\n",
      "\n",
      "Epoch 00259: cpa_metric reached. Module best state updated.\n"
     ]
    },
    {
     "name": "stdout",
     "output_type": "stream",
     "text": [
      "\n",
      "disnt_basal = 1.0582108729157909\n",
      "disnt_after = 1.5445985708280792\n",
      "val_r2_mean = 0.9433347781499227\n",
      "val_r2_var = -1.1928545633951824\n",
      "\n",
      "disnt_basal = 1.0663208631077485\n",
      "disnt_after = 1.5442307692307693\n",
      "val_r2_mean = 0.944778839747111\n",
      "val_r2_var = -1.1876786549886067\n"
     ]
    },
    {
     "name": "stderr",
     "output_type": "stream",
     "text": [
      "\n",
      "Epoch 00279: cpa_metric reached. Module best state updated.\n"
     ]
    },
    {
     "name": "stdout",
     "output_type": "stream",
     "text": [
      "\n",
      "disnt_basal = 1.0697382653776095\n",
      "disnt_after = 1.5442307692307693\n",
      "val_r2_mean = 0.9387099742889404\n",
      "val_r2_var = -1.1366674900054932\n"
     ]
    },
    {
     "name": "stderr",
     "output_type": "stream",
     "text": [
      "\n",
      "Epoch 00284: cpa_metric reached. Module best state updated.\n",
      "\n",
      "Epoch 00289: cpa_metric reached. Module best state updated.\n"
     ]
    },
    {
     "name": "stdout",
     "output_type": "stream",
     "text": [
      "\n",
      "disnt_basal = 1.054915931063472\n",
      "disnt_after = 1.5442307692307693\n",
      "val_r2_mean = 0.9412481586138407\n",
      "val_r2_var = -1.1452419757843018\n",
      "\n",
      "disnt_basal = 1.069421185372005\n",
      "disnt_after = 1.5442307692307693\n",
      "val_r2_mean = 0.9379874467849731\n",
      "val_r2_var = -1.1234926382700603\n"
     ]
    },
    {
     "name": "stderr",
     "output_type": "stream",
     "text": [
      "\n",
      "Epoch 00309: cpa_metric reached. Module best state updated.\n"
     ]
    },
    {
     "name": "stdout",
     "output_type": "stream",
     "text": [
      "\n",
      "disnt_basal = 1.0594071738825837\n",
      "disnt_after = 1.5442307692307693\n",
      "val_r2_mean = 0.9465424418449402\n",
      "val_r2_var = -1.1323231061299641\n"
     ]
    },
    {
     "name": "stderr",
     "output_type": "stream",
     "text": [
      "\n",
      "Epoch 00314: cpa_metric reached. Module best state updated.\n",
      "\n",
      "Epoch 00319: cpa_metric reached. Module best state updated.\n"
     ]
    },
    {
     "name": "stdout",
     "output_type": "stream",
     "text": [
      "\n",
      "disnt_basal = 1.0532344122180186\n",
      "disnt_after = 1.5442307692307693\n",
      "val_r2_mean = 0.9410990476608276\n",
      "val_r2_var = -1.068858027458191\n",
      "\n",
      "disnt_basal = 1.0507770772033067\n",
      "disnt_after = 1.5442307692307693\n",
      "val_r2_mean = 0.9427252213160197\n",
      "val_r2_var = -1.0923302173614502\n",
      "\n",
      "disnt_basal = 1.052321843912008\n",
      "disnt_after = 1.5442307692307693\n",
      "val_r2_mean = 0.9440907041231791\n",
      "val_r2_var = -1.094449758529663\n"
     ]
    },
    {
     "name": "stderr",
     "output_type": "stream",
     "text": [
      "100%|██████████| 1/1 [00:00<00:00, 22.94it/s]\n",
      "cpa_single_pert:   1%|▏         | 28/2184 [07:28<12:47:20, 21.35s/it]"
     ]
    },
    {
     "name": "stdout",
     "output_type": "stream",
     "text": [
      "Warning: dosage_key is not set. Setting it to \"1.0\" for all cells\n"
     ]
    },
    {
     "name": "stderr",
     "output_type": "stream",
     "text": [
      "100%|██████████| 1726/1726 [00:00<00:00, 83022.19it/s]\n",
      "100%|██████████| 1726/1726 [00:00<00:00, 1058077.86it/s]"
     ]
    },
    {
     "name": "stdout",
     "output_type": "stream",
     "text": [
      "\u001b[34mINFO    \u001b[0m Generating sequential column names                                                                        \n",
      "\u001b[34mINFO    \u001b[0m Generating sequential column names                                                                        \n"
     ]
    },
    {
     "name": "stderr",
     "output_type": "stream",
     "text": [
      "\n",
      "Global seed set to 6977\n",
      "100%|██████████| 2/2 [00:00<00:00, 814.11it/s]\n",
      "GPU available: True (cuda), used: True\n",
      "TPU available: False, using: 0 TPU cores\n",
      "IPU available: False, using: 0 IPUs\n",
      "HPU available: False, using: 0 HPUs\n",
      "You are using a CUDA device ('NVIDIA GeForce RTX 3090') that has Tensor Cores. To properly utilize them, you should set `torch.set_float32_matmul_precision('medium' | 'high')` which will trade-off precision for performance. For more details, read https://pytorch.org/docs/stable/generated/torch.set_float32_matmul_precision.html#torch.set_float32_matmul_precision\n",
      "LOCAL_RANK: 0 - CUDA_VISIBLE_DEVICES: [0,1,2,3]\n",
      "\n",
      "Epoch 00004: cpa_metric reached. Module best state updated.\n",
      "\n",
      "Epoch 00009: cpa_metric reached. Module best state updated.\n"
     ]
    },
    {
     "name": "stdout",
     "output_type": "stream",
     "text": [
      "\n",
      "disnt_basal = 1.6877375730994153\n",
      "disnt_after = 1.993421052631579\n",
      "val_r2_mean = 0.5917532642682394\n",
      "val_r2_var = -2.6800769170125327\n"
     ]
    },
    {
     "name": "stderr",
     "output_type": "stream",
     "text": [
      "\n",
      "Epoch 00014: cpa_metric reached. Module best state updated.\n",
      "\n",
      "Epoch 00019: cpa_metric reached. Module best state updated.\n"
     ]
    },
    {
     "name": "stdout",
     "output_type": "stream",
     "text": [
      "\n",
      "disnt_basal = 1.692364289346555\n",
      "disnt_after = 1.993421052631579\n",
      "val_r2_mean = 0.9423079689343771\n",
      "val_r2_var = -2.6731647650400796\n"
     ]
    },
    {
     "name": "stderr",
     "output_type": "stream",
     "text": [
      "\n",
      "Epoch 00024: cpa_metric reached. Module best state updated.\n",
      "\n",
      "Epoch 00029: cpa_metric reached. Module best state updated.\n"
     ]
    },
    {
     "name": "stdout",
     "output_type": "stream",
     "text": [
      "\n",
      "disnt_basal = 1.6835001906941267\n",
      "disnt_after = 1.9935728744939272\n",
      "val_r2_mean = 0.9614123106002808\n",
      "val_r2_var = -2.631368557612101\n"
     ]
    },
    {
     "name": "stderr",
     "output_type": "stream",
     "text": [
      "\n",
      "Epoch 00034: cpa_metric reached. Module best state updated.\n",
      "\n",
      "Epoch 00039: cpa_metric reached. Module best state updated.\n"
     ]
    },
    {
     "name": "stdout",
     "output_type": "stream",
     "text": [
      "\n",
      "disnt_basal = 1.6423491927281972\n",
      "disnt_after = 1.9935897435897436\n",
      "val_r2_mean = 0.9653044740358988\n",
      "val_r2_var = -2.579827388127645\n"
     ]
    },
    {
     "name": "stderr",
     "output_type": "stream",
     "text": [
      "\n",
      "Epoch 00044: cpa_metric reached. Module best state updated.\n"
     ]
    },
    {
     "name": "stdout",
     "output_type": "stream",
     "text": [
      "\n",
      "disnt_basal = 1.6745431286549706\n",
      "disnt_after = 1.993550382366172\n",
      "val_r2_mean = 0.9608315229415894\n",
      "val_r2_var = -2.4601271947224936\n"
     ]
    },
    {
     "name": "stderr",
     "output_type": "stream",
     "text": [
      "\n",
      "Epoch 00054: cpa_metric reached. Module best state updated.\n",
      "\n",
      "Epoch 00059: cpa_metric reached. Module best state updated.\n"
     ]
    },
    {
     "name": "stdout",
     "output_type": "stream",
     "text": [
      "\n",
      "disnt_basal = 1.6637426900584795\n",
      "disnt_after = 1.993550382366172\n",
      "val_r2_mean = 0.96456378698349\n",
      "val_r2_var = -2.3517483870188394\n"
     ]
    },
    {
     "name": "stderr",
     "output_type": "stream",
     "text": [
      "\n",
      "Epoch 00064: cpa_metric reached. Module best state updated.\n",
      "\n",
      "Epoch 00069: cpa_metric reached. Module best state updated.\n"
     ]
    },
    {
     "name": "stdout",
     "output_type": "stream",
     "text": [
      "\n",
      "disnt_basal = 1.664855072463768\n",
      "disnt_after = 1.9935278902384166\n",
      "val_r2_mean = 0.9646859367688497\n",
      "val_r2_var = -2.265652656555176\n"
     ]
    },
    {
     "name": "stderr",
     "output_type": "stream",
     "text": [
      "\n",
      "Epoch 00074: cpa_metric reached. Module best state updated.\n",
      "\n",
      "Epoch 00079: cpa_metric reached. Module best state updated.\n"
     ]
    },
    {
     "name": "stdout",
     "output_type": "stream",
     "text": [
      "\n",
      "disnt_basal = 1.5931874523264686\n",
      "disnt_after = 1.993544759334233\n",
      "val_r2_mean = 0.9531797369321188\n",
      "val_r2_var = -2.2538839181264243\n",
      "\n",
      "disnt_basal = 1.6884717454869058\n",
      "disnt_after = 1.9935728744939272\n",
      "val_r2_mean = 0.9617907206217448\n",
      "val_r2_var = -2.1317054430643716\n"
     ]
    },
    {
     "name": "stderr",
     "output_type": "stream",
     "text": [
      "\n",
      "Epoch 00099: cpa_metric reached. Module best state updated.\n"
     ]
    },
    {
     "name": "stdout",
     "output_type": "stream",
     "text": [
      "\n",
      "disnt_basal = 1.6710902814449724\n",
      "disnt_after = 1.9935841205578049\n",
      "val_r2_mean = 0.9690947731335958\n",
      "val_r2_var = -2.030385732650757\n"
     ]
    },
    {
     "name": "stderr",
     "output_type": "stream",
     "text": [
      "\n",
      "Epoch 00104: cpa_metric reached. Module best state updated.\n"
     ]
    },
    {
     "name": "stdout",
     "output_type": "stream",
     "text": [
      "\n",
      "disnt_basal = 1.6654835685227563\n",
      "disnt_after = 1.9934997750787224\n",
      "val_r2_mean = 0.9580827355384827\n",
      "val_r2_var = -1.903363545735677\n",
      "\n",
      "disnt_basal = 1.6686250708990982\n",
      "disnt_after = 1.9934941520467837\n",
      "val_r2_mean = 0.9605032801628113\n",
      "val_r2_var = -1.8293663660685222\n"
     ]
    },
    {
     "name": "stderr",
     "output_type": "stream",
     "text": [
      "\n",
      "Epoch 00129: cpa_metric reached. Module best state updated.\n"
     ]
    },
    {
     "name": "stdout",
     "output_type": "stream",
     "text": [
      "\n",
      "disnt_basal = 1.4764888199456276\n",
      "disnt_after = 1.9935166441745389\n",
      "val_r2_mean = 0.968933622042338\n",
      "val_r2_var = -1.8162755966186523\n",
      "\n",
      "disnt_basal = 1.6443869917268088\n",
      "disnt_after = 1.9935672514619884\n",
      "val_r2_mean = 0.9543606241544088\n",
      "val_r2_var = -1.7310787041982014\n"
     ]
    },
    {
     "name": "stderr",
     "output_type": "stream",
     "text": [
      "\n",
      "Epoch 00149: cpa_metric reached. Module best state updated.\n"
     ]
    },
    {
     "name": "stdout",
     "output_type": "stream",
     "text": [
      "\n",
      "disnt_basal = 1.300550629290618\n",
      "disnt_after = 1.9935897435897436\n",
      "val_r2_mean = 0.9679493308067322\n",
      "val_r2_var = -1.7111637592315674\n",
      "\n",
      "disnt_basal = 1.607475637602926\n",
      "disnt_after = 1.9935166441745389\n",
      "val_r2_mean = 0.9657252232233683\n",
      "val_r2_var = -1.6366580327351887\n"
     ]
    },
    {
     "name": "stderr",
     "output_type": "stream",
     "text": [
      "\n",
      "Epoch 00169: cpa_metric reached. Module best state updated.\n"
     ]
    },
    {
     "name": "stdout",
     "output_type": "stream",
     "text": [
      "\n",
      "disnt_basal = 1.268466586966301\n",
      "disnt_after = 1.9935616284300495\n",
      "val_r2_mean = 0.9648369550704956\n",
      "val_r2_var = -1.5841223398844402\n",
      "\n",
      "disnt_basal = 1.4544108407166187\n",
      "disnt_after = 1.9935728744939272\n",
      "val_r2_mean = 0.9750189582506815\n",
      "val_r2_var = -1.6089510917663574\n"
     ]
    },
    {
     "name": "stderr",
     "output_type": "stream",
     "text": [
      "\n",
      "Epoch 00189: cpa_metric reached. Module best state updated.\n"
     ]
    },
    {
     "name": "stdout",
     "output_type": "stream",
     "text": [
      "\n",
      "disnt_basal = 1.2519793683623774\n",
      "disnt_after = 1.993578497525866\n",
      "val_r2_mean = 0.9714750448862711\n",
      "val_r2_var = -1.562255859375\n"
     ]
    },
    {
     "name": "stderr",
     "output_type": "stream",
     "text": [
      "\n",
      "Epoch 00194: cpa_metric reached. Module best state updated.\n"
     ]
    },
    {
     "name": "stdout",
     "output_type": "stream",
     "text": [
      "\n",
      "disnt_basal = 1.3639032520682977\n",
      "disnt_after = 1.9935616284300497\n",
      "val_r2_mean = 0.9702209234237671\n",
      "val_r2_var = -1.538427432378133\n",
      "\n",
      "disnt_basal = 1.271234707797923\n",
      "disnt_after = 1.993578497525866\n",
      "val_r2_mean = 0.9742078383763632\n",
      "val_r2_var = -1.554869016011556\n"
     ]
    },
    {
     "name": "stderr",
     "output_type": "stream",
     "text": [
      "\n",
      "Epoch 00214: cpa_metric reached. Module best state updated.\n"
     ]
    },
    {
     "name": "stdout",
     "output_type": "stream",
     "text": [
      "\n",
      "disnt_basal = 1.2410917727708346\n",
      "disnt_after = 1.993578497525866\n",
      "val_r2_mean = 0.9714258511861166\n",
      "val_r2_var = -1.4788129329681396\n",
      "\n",
      "disnt_basal = 1.2322052431105635\n",
      "disnt_after = 1.993578497525866\n",
      "val_r2_mean = 0.9743609627087911\n",
      "val_r2_var = -1.5345291296641033\n",
      "\n",
      "disnt_basal = 1.1977017079348313\n",
      "disnt_after = 1.9935728744939272\n",
      "val_r2_mean = 0.9753010869026184\n",
      "val_r2_var = -1.4767871697743733\n"
     ]
    },
    {
     "name": "stderr",
     "output_type": "stream",
     "text": [
      "100%|██████████| 1/1 [00:00<00:00, 19.92it/s]\n",
      "cpa_single_pert:   1%|▏         | 29/2184 [08:00<14:47:31, 24.71s/it]"
     ]
    },
    {
     "name": "stdout",
     "output_type": "stream",
     "text": [
      "Warning: dosage_key is not set. Setting it to \"1.0\" for all cells\n"
     ]
    },
    {
     "name": "stderr",
     "output_type": "stream",
     "text": [
      "100%|██████████| 1546/1546 [00:00<00:00, 89037.10it/s]\n",
      "100%|██████████| 1546/1546 [00:00<00:00, 1069326.18it/s]"
     ]
    },
    {
     "name": "stdout",
     "output_type": "stream",
     "text": [
      "\u001b[34mINFO    \u001b[0m Generating sequential column names                                                                        \n",
      "\u001b[34mINFO    \u001b[0m Generating sequential column names                                                                        \n"
     ]
    },
    {
     "name": "stderr",
     "output_type": "stream",
     "text": [
      "\n",
      "Global seed set to 6977\n",
      "100%|██████████| 2/2 [00:00<00:00, 940.85it/s]\n",
      "GPU available: True (cuda), used: True\n",
      "TPU available: False, using: 0 TPU cores\n",
      "IPU available: False, using: 0 IPUs\n",
      "HPU available: False, using: 0 HPUs\n",
      "You are using a CUDA device ('NVIDIA GeForce RTX 3090') that has Tensor Cores. To properly utilize them, you should set `torch.set_float32_matmul_precision('medium' | 'high')` which will trade-off precision for performance. For more details, read https://pytorch.org/docs/stable/generated/torch.set_float32_matmul_precision.html#torch.set_float32_matmul_precision\n",
      "LOCAL_RANK: 0 - CUDA_VISIBLE_DEVICES: [0,1,2,3]\n",
      "\n",
      "Epoch 00004: cpa_metric reached. Module best state updated.\n",
      "\n",
      "Epoch 00009: cpa_metric reached. Module best state updated.\n"
     ]
    },
    {
     "name": "stdout",
     "output_type": "stream",
     "text": [
      "\n",
      "disnt_basal = 1.640095536647261\n",
      "disnt_after = 1.9484848484848487\n",
      "val_r2_mean = 0.3480852246284485\n",
      "val_r2_var = -2.7934927940368652\n"
     ]
    },
    {
     "name": "stderr",
     "output_type": "stream",
     "text": [
      "\n",
      "Epoch 00014: cpa_metric reached. Module best state updated.\n",
      "\n",
      "Epoch 00019: cpa_metric reached. Module best state updated.\n"
     ]
    },
    {
     "name": "stdout",
     "output_type": "stream",
     "text": [
      "\n",
      "disnt_basal = 1.6455067920585162\n",
      "disnt_after = 1.9484848484848487\n",
      "val_r2_mean = 0.8021127382914225\n",
      "val_r2_var = -2.7962719599405923\n"
     ]
    },
    {
     "name": "stderr",
     "output_type": "stream",
     "text": [
      "\n",
      "Epoch 00024: cpa_metric reached. Module best state updated.\n",
      "\n",
      "Epoch 00029: cpa_metric reached. Module best state updated.\n"
     ]
    },
    {
     "name": "stdout",
     "output_type": "stream",
     "text": [
      "\n",
      "disnt_basal = 1.6479762437890515\n",
      "disnt_after = 1.9483329535961116\n",
      "val_r2_mean = 0.9334076642990112\n",
      "val_r2_var = -2.778345743815104\n"
     ]
    },
    {
     "name": "stderr",
     "output_type": "stream",
     "text": [
      "\n",
      "Epoch 00034: cpa_metric reached. Module best state updated.\n"
     ]
    },
    {
     "name": "stdout",
     "output_type": "stream",
     "text": [
      "\n",
      "disnt_basal = 1.6534823960932334\n",
      "disnt_after = 1.9468140047087419\n",
      "val_r2_mean = 0.9392191966374716\n",
      "val_r2_var = -2.736867904663086\n"
     ]
    },
    {
     "name": "stderr",
     "output_type": "stream",
     "text": [
      "\n",
      "Epoch 00044: cpa_metric reached. Module best state updated.\n"
     ]
    },
    {
     "name": "stdout",
     "output_type": "stream",
     "text": [
      "\n",
      "disnt_basal = 1.6804597701149424\n",
      "disnt_after = 1.9429406850459483\n",
      "val_r2_mean = 0.9348637660344442\n",
      "val_r2_var = -2.6399147510528564\n"
     ]
    },
    {
     "name": "stderr",
     "output_type": "stream",
     "text": [
      "\n",
      "Epoch 00054: cpa_metric reached. Module best state updated.\n",
      "\n",
      "Epoch 00059: cpa_metric reached. Module best state updated.\n"
     ]
    },
    {
     "name": "stdout",
     "output_type": "stream",
     "text": [
      "\n",
      "disnt_basal = 1.6685251530079115\n",
      "disnt_after = 1.9421052631578948\n",
      "val_r2_mean = 0.9603113929430643\n",
      "val_r2_var = -2.5793863932291665\n"
     ]
    },
    {
     "name": "stderr",
     "output_type": "stream",
     "text": [
      "\n",
      "Epoch 00064: cpa_metric reached. Module best state updated.\n",
      "\n",
      "Epoch 00069: cpa_metric reached. Module best state updated.\n"
     ]
    },
    {
     "name": "stdout",
     "output_type": "stream",
     "text": [
      "\n",
      "disnt_basal = 1.6676742797432453\n",
      "disnt_after = 1.9421052631578948\n",
      "val_r2_mean = 0.9615769783655802\n",
      "val_r2_var = -2.518244902292887\n"
     ]
    },
    {
     "name": "stderr",
     "output_type": "stream",
     "text": [
      "\n",
      "Epoch 00074: cpa_metric reached. Module best state updated.\n",
      "\n",
      "Epoch 00079: cpa_metric reached. Module best state updated.\n"
     ]
    },
    {
     "name": "stdout",
     "output_type": "stream",
     "text": [
      "\n",
      "disnt_basal = 1.662718316166592\n",
      "disnt_after = 1.942257158046632\n",
      "val_r2_mean = 0.9653994838396708\n",
      "val_r2_var = -2.4394630591074624\n"
     ]
    },
    {
     "name": "stderr",
     "output_type": "stream",
     "text": [
      "\n",
      "Epoch 00084: cpa_metric reached. Module best state updated.\n",
      "\n",
      "Epoch 00089: cpa_metric reached. Module best state updated.\n"
     ]
    },
    {
     "name": "stdout",
     "output_type": "stream",
     "text": [
      "\n",
      "disnt_basal = 1.6612845369132638\n",
      "disnt_after = 1.9421052631578948\n",
      "val_r2_mean = 0.9674908518791199\n",
      "val_r2_var = -2.3870636622111\n"
     ]
    },
    {
     "name": "stderr",
     "output_type": "stream",
     "text": [
      "\n",
      "Epoch 00094: cpa_metric reached. Module best state updated.\n",
      "\n",
      "Epoch 00099: cpa_metric reached. Module best state updated.\n"
     ]
    },
    {
     "name": "stdout",
     "output_type": "stream",
     "text": [
      "\n",
      "disnt_basal = 1.6503366753950108\n",
      "disnt_after = 1.9421052631578948\n",
      "val_r2_mean = 0.9618961016337076\n",
      "val_r2_var = -2.2656455039978027\n"
     ]
    },
    {
     "name": "stderr",
     "output_type": "stream",
     "text": [
      "\n",
      "Epoch 00104: cpa_metric reached. Module best state updated.\n"
     ]
    },
    {
     "name": "stdout",
     "output_type": "stream",
     "text": [
      "\n",
      "disnt_basal = 1.6093860378667224\n",
      "disnt_after = 1.9430925799346852\n",
      "val_r2_mean = 0.9597633679707845\n",
      "val_r2_var = -2.2603464126586914\n",
      "\n",
      "disnt_basal = 1.6589526323646107\n",
      "disnt_after = 1.9441558441558442\n",
      "val_r2_mean = 0.9624156951904297\n",
      "val_r2_var = -2.082161029179891\n"
     ]
    },
    {
     "name": "stderr",
     "output_type": "stream",
     "text": [
      "\n",
      "Epoch 00124: cpa_metric reached. Module best state updated.\n",
      "\n",
      "Epoch 00129: cpa_metric reached. Module best state updated.\n"
     ]
    },
    {
     "name": "stdout",
     "output_type": "stream",
     "text": [
      "\n",
      "disnt_basal = 1.6603334354695516\n",
      "disnt_after = 1.9450672134882663\n",
      "val_r2_mean = 0.9582409063975016\n",
      "val_r2_var = -1.9218391577402751\n"
     ]
    },
    {
     "name": "stderr",
     "output_type": "stream",
     "text": [
      "\n",
      "Epoch 00134: cpa_metric reached. Module best state updated.\n",
      "\n",
      "Epoch 00139: cpa_metric reached. Module best state updated.\n"
     ]
    },
    {
     "name": "stdout",
     "output_type": "stream",
     "text": [
      "\n",
      "disnt_basal = 1.6558863197701674\n",
      "disnt_after = 1.9454469507101089\n",
      "val_r2_mean = 0.969336748123169\n",
      "val_r2_var = -1.884665886561076\n"
     ]
    },
    {
     "name": "stderr",
     "output_type": "stream",
     "text": [
      "\n",
      "Epoch 00144: cpa_metric reached. Module best state updated.\n",
      "\n",
      "Epoch 00149: cpa_metric reached. Module best state updated.\n"
     ]
    },
    {
     "name": "stdout",
     "output_type": "stream",
     "text": [
      "\n",
      "disnt_basal = 1.653925566266764\n",
      "disnt_after = 1.9449912660438977\n",
      "val_r2_mean = 0.959964652856191\n",
      "val_r2_var = -1.796756903330485\n"
     ]
    },
    {
     "name": "stderr",
     "output_type": "stream",
     "text": [
      "\n",
      "Epoch 00159: cpa_metric reached. Module best state updated.\n"
     ]
    },
    {
     "name": "stdout",
     "output_type": "stream",
     "text": [
      "\n",
      "disnt_basal = 1.648480864049959\n",
      "disnt_after = 1.9445355813776866\n",
      "val_r2_mean = 0.9636337955792745\n",
      "val_r2_var = -1.7943561871846516\n"
     ]
    },
    {
     "name": "stderr",
     "output_type": "stream",
     "text": [
      "\n",
      "Epoch 00164: cpa_metric reached. Module best state updated.\n",
      "\n",
      "Epoch 00169: cpa_metric reached. Module best state updated.\n"
     ]
    },
    {
     "name": "stdout",
     "output_type": "stream",
     "text": [
      "\n",
      "disnt_basal = 1.5593962889010853\n",
      "disnt_after = 1.9430166324903166\n",
      "val_r2_mean = 0.9665084083875021\n",
      "val_r2_var = -1.724589506785075\n"
     ]
    },
    {
     "name": "stderr",
     "output_type": "stream",
     "text": [
      "\n",
      "Epoch 00174: cpa_metric reached. Module best state updated.\n"
     ]
    },
    {
     "name": "stdout",
     "output_type": "stream",
     "text": [
      "\n",
      "disnt_basal = 1.6047993360023436\n",
      "disnt_after = 1.9425609478241057\n",
      "val_r2_mean = 0.9646068016688029\n",
      "val_r2_var = -1.6739269892374675\n",
      "\n",
      "disnt_basal = 1.6438840795076213\n",
      "disnt_after = 1.9424090529353688\n",
      "val_r2_mean = 0.9680962761243185\n",
      "val_r2_var = -1.6517505645751953\n",
      "\n",
      "disnt_basal = 1.6398004078714474\n",
      "disnt_after = 1.9424850003797371\n",
      "val_r2_mean = 0.9658639430999756\n",
      "val_r2_var = -1.5803298155466716\n"
     ]
    },
    {
     "name": "stderr",
     "output_type": "stream",
     "text": [
      "100%|██████████| 1/1 [00:00<00:00, 23.74it/s]\n",
      "cpa_single_pert:   1%|▏         | 30/2184 [08:19<13:36:34, 22.75s/it]"
     ]
    },
    {
     "name": "stdout",
     "output_type": "stream",
     "text": [
      "Warning: dosage_key is not set. Setting it to \"1.0\" for all cells\n"
     ]
    },
    {
     "name": "stderr",
     "output_type": "stream",
     "text": [
      "100%|██████████| 1996/1996 [00:00<00:00, 86914.14it/s]\n",
      "100%|██████████| 1996/1996 [00:00<00:00, 1096076.30it/s]"
     ]
    },
    {
     "name": "stdout",
     "output_type": "stream",
     "text": [
      "\u001b[34mINFO    \u001b[0m Generating sequential column names                                                                        \n",
      "\u001b[34mINFO    \u001b[0m Generating sequential column names                                                                        \n"
     ]
    },
    {
     "name": "stderr",
     "output_type": "stream",
     "text": [
      "\n",
      "Global seed set to 6977\n",
      "100%|██████████| 2/2 [00:00<00:00, 830.14it/s]\n",
      "GPU available: True (cuda), used: True\n",
      "TPU available: False, using: 0 TPU cores\n",
      "IPU available: False, using: 0 IPUs\n",
      "HPU available: False, using: 0 HPUs\n",
      "You are using a CUDA device ('NVIDIA GeForce RTX 3090') that has Tensor Cores. To properly utilize them, you should set `torch.set_float32_matmul_precision('medium' | 'high')` which will trade-off precision for performance. For more details, read https://pytorch.org/docs/stable/generated/torch.set_float32_matmul_precision.html#torch.set_float32_matmul_precision\n",
      "LOCAL_RANK: 0 - CUDA_VISIBLE_DEVICES: [0,1,2,3]\n",
      "\n",
      "Epoch 00004: cpa_metric reached. Module best state updated.\n",
      "\n",
      "Epoch 00009: cpa_metric reached. Module best state updated.\n"
     ]
    },
    {
     "name": "stdout",
     "output_type": "stream",
     "text": [
      "\n",
      "disnt_basal = 1.6395708020050126\n",
      "disnt_after = 2.0\n",
      "val_r2_mean = 0.585692286491394\n",
      "val_r2_var = -2.804046869277954\n"
     ]
    },
    {
     "name": "stderr",
     "output_type": "stream",
     "text": [
      "\n",
      "Epoch 00014: cpa_metric reached. Module best state updated.\n",
      "\n",
      "Epoch 00019: cpa_metric reached. Module best state updated.\n"
     ]
    },
    {
     "name": "stdout",
     "output_type": "stream",
     "text": [
      "\n",
      "disnt_basal = 1.6385432330827068\n",
      "disnt_after = 2.0\n",
      "val_r2_mean = 0.9525553782780966\n",
      "val_r2_var = -2.800686518351237\n"
     ]
    },
    {
     "name": "stderr",
     "output_type": "stream",
     "text": [
      "\n",
      "Epoch 00024: cpa_metric reached. Module best state updated.\n",
      "\n",
      "Epoch 00029: cpa_metric reached. Module best state updated.\n"
     ]
    },
    {
     "name": "stdout",
     "output_type": "stream",
     "text": [
      "\n",
      "disnt_basal = 1.6290717866093807\n",
      "disnt_after = 2.0\n",
      "val_r2_mean = 0.9691138863563538\n",
      "val_r2_var = -2.7605907122294107\n"
     ]
    },
    {
     "name": "stderr",
     "output_type": "stream",
     "text": [
      "\n",
      "Epoch 00034: cpa_metric reached. Module best state updated.\n",
      "\n",
      "Epoch 00039: cpa_metric reached. Module best state updated.\n"
     ]
    },
    {
     "name": "stdout",
     "output_type": "stream",
     "text": [
      "\n",
      "disnt_basal = 1.6192866093805942\n",
      "disnt_after = 2.0\n",
      "val_r2_mean = 0.9648238817850748\n",
      "val_r2_var = -2.713593085606893\n"
     ]
    },
    {
     "name": "stderr",
     "output_type": "stream",
     "text": [
      "\n",
      "Epoch 00044: cpa_metric reached. Module best state updated.\n"
     ]
    },
    {
     "name": "stdout",
     "output_type": "stream",
     "text": [
      "\n",
      "disnt_basal = 1.6244587396362054\n",
      "disnt_after = 2.0\n",
      "val_r2_mean = 0.9666974743207296\n",
      "val_r2_var = -2.658498764038086\n"
     ]
    },
    {
     "name": "stderr",
     "output_type": "stream",
     "text": [
      "\n",
      "Epoch 00054: cpa_metric reached. Module best state updated.\n",
      "\n",
      "Epoch 00059: cpa_metric reached. Module best state updated.\n"
     ]
    },
    {
     "name": "stdout",
     "output_type": "stream",
     "text": [
      "\n",
      "disnt_basal = 1.6450358037952024\n",
      "disnt_after = 2.0\n",
      "val_r2_mean = 0.9661541779836019\n",
      "val_r2_var = -2.4738582770029702\n"
     ]
    },
    {
     "name": "stderr",
     "output_type": "stream",
     "text": [
      "\n",
      "Epoch 00064: cpa_metric reached. Module best state updated.\n",
      "\n",
      "Epoch 00069: cpa_metric reached. Module best state updated.\n"
     ]
    },
    {
     "name": "stdout",
     "output_type": "stream",
     "text": [
      "\n",
      "disnt_basal = 1.6254949611423517\n",
      "disnt_after = 2.0\n",
      "val_r2_mean = 0.9669811526934305\n",
      "val_r2_var = -2.339651584625244\n"
     ]
    },
    {
     "name": "stderr",
     "output_type": "stream",
     "text": [
      "\n",
      "Epoch 00074: cpa_metric reached. Module best state updated.\n",
      "\n",
      "Epoch 00079: cpa_metric reached. Module best state updated.\n"
     ]
    },
    {
     "name": "stdout",
     "output_type": "stream",
     "text": [
      "\n",
      "disnt_basal = 1.598015486896513\n",
      "disnt_after = 2.0\n",
      "val_r2_mean = 0.9728502631187439\n",
      "val_r2_var = -2.233444611231486\n"
     ]
    },
    {
     "name": "stderr",
     "output_type": "stream",
     "text": [
      "\n",
      "Epoch 00084: cpa_metric reached. Module best state updated.\n"
     ]
    },
    {
     "name": "stdout",
     "output_type": "stream",
     "text": [
      "\n",
      "disnt_basal = 1.6188865809481687\n",
      "disnt_after = 2.0\n",
      "val_r2_mean = 0.9656796058019003\n",
      "val_r2_var = -2.0714929898579917\n"
     ]
    },
    {
     "name": "stderr",
     "output_type": "stream",
     "text": [
      "\n",
      "Epoch 00094: cpa_metric reached. Module best state updated.\n",
      "\n",
      "Epoch 00099: cpa_metric reached. Module best state updated.\n"
     ]
    },
    {
     "name": "stdout",
     "output_type": "stream",
     "text": [
      "\n",
      "disnt_basal = 1.2687328176884791\n",
      "disnt_after = 2.0\n",
      "val_r2_mean = 0.9690450231234232\n",
      "val_r2_var = -1.9917240937550862\n",
      "\n",
      "disnt_basal = 1.6057528186713284\n",
      "disnt_after = 2.0\n",
      "val_r2_mean = 0.9729076623916626\n",
      "val_r2_var = -1.879092852274577\n",
      "\n",
      "disnt_basal = 1.3110905853569497\n",
      "disnt_after = 2.0\n",
      "val_r2_mean = 0.9744779070218405\n",
      "val_r2_var = -1.844575564066569\n"
     ]
    },
    {
     "name": "stderr",
     "output_type": "stream",
     "text": [
      "100%|██████████| 1/1 [00:00<00:00, 14.33it/s]\n",
      "cpa_single_pert:   1%|▏         | 31/2184 [08:35<12:28:15, 20.85s/it]"
     ]
    },
    {
     "name": "stdout",
     "output_type": "stream",
     "text": [
      "Warning: dosage_key is not set. Setting it to \"1.0\" for all cells\n"
     ]
    },
    {
     "name": "stderr",
     "output_type": "stream",
     "text": [
      "100%|██████████| 1522/1522 [00:00<00:00, 82477.14it/s]\n",
      "100%|██████████| 1522/1522 [00:00<00:00, 758613.27it/s]"
     ]
    },
    {
     "name": "stdout",
     "output_type": "stream",
     "text": [
      "\u001b[34mINFO    \u001b[0m Generating sequential column names                                                                        \n",
      "\u001b[34mINFO    \u001b[0m Generating sequential column names                                                                        \n"
     ]
    },
    {
     "name": "stderr",
     "output_type": "stream",
     "text": [
      "\n",
      "Global seed set to 6977\n",
      "100%|██████████| 2/2 [00:00<00:00, 893.07it/s]\n",
      "GPU available: True (cuda), used: True\n",
      "TPU available: False, using: 0 TPU cores\n",
      "IPU available: False, using: 0 IPUs\n",
      "HPU available: False, using: 0 HPUs\n",
      "You are using a CUDA device ('NVIDIA GeForce RTX 3090') that has Tensor Cores. To properly utilize them, you should set `torch.set_float32_matmul_precision('medium' | 'high')` which will trade-off precision for performance. For more details, read https://pytorch.org/docs/stable/generated/torch.set_float32_matmul_precision.html#torch.set_float32_matmul_precision\n",
      "LOCAL_RANK: 0 - CUDA_VISIBLE_DEVICES: [0,1,2,3]\n",
      "\n",
      "Epoch 00004: cpa_metric reached. Module best state updated.\n",
      "\n",
      "Epoch 00009: cpa_metric reached. Module best state updated.\n"
     ]
    },
    {
     "name": "stdout",
     "output_type": "stream",
     "text": [
      "\n",
      "disnt_basal = 1.6636904761904763\n",
      "disnt_after = 1.9171052631578946\n",
      "val_r2_mean = 0.3400599956512451\n",
      "val_r2_var = -2.6270230611165366\n"
     ]
    },
    {
     "name": "stderr",
     "output_type": "stream",
     "text": [
      "\n",
      "Epoch 00014: cpa_metric reached. Module best state updated.\n",
      "\n",
      "Epoch 00019: cpa_metric reached. Module best state updated.\n"
     ]
    },
    {
     "name": "stdout",
     "output_type": "stream",
     "text": [
      "\n",
      "disnt_basal = 1.6773496240601504\n",
      "disnt_after = 1.9171052631578944\n",
      "val_r2_mean = 0.7961304783821106\n",
      "val_r2_var = -2.628861745198568\n"
     ]
    },
    {
     "name": "stderr",
     "output_type": "stream",
     "text": [
      "\n",
      "Epoch 00024: cpa_metric reached. Module best state updated.\n",
      "\n",
      "Epoch 00029: cpa_metric reached. Module best state updated.\n"
     ]
    },
    {
     "name": "stdout",
     "output_type": "stream",
     "text": [
      "\n",
      "disnt_basal = 1.6537268416138384\n",
      "disnt_after = 1.9124420721615358\n",
      "val_r2_mean = 0.9317131837209066\n",
      "val_r2_var = -2.6135186354319253\n"
     ]
    },
    {
     "name": "stderr",
     "output_type": "stream",
     "text": [
      "\n",
      "Epoch 00034: cpa_metric reached. Module best state updated.\n",
      "\n",
      "Epoch 00039: cpa_metric reached. Module best state updated.\n"
     ]
    },
    {
     "name": "stdout",
     "output_type": "stream",
     "text": [
      "\n",
      "disnt_basal = 1.6437570642292005\n",
      "disnt_after = 1.903401191658391\n",
      "val_r2_mean = 0.94233771165212\n",
      "val_r2_var = -2.5813022454579673\n"
     ]
    },
    {
     "name": "stderr",
     "output_type": "stream",
     "text": [
      "\n",
      "Epoch 00049: cpa_metric reached. Module best state updated.\n"
     ]
    },
    {
     "name": "stdout",
     "output_type": "stream",
     "text": [
      "\n",
      "disnt_basal = 1.6611842105263157\n",
      "disnt_after = 1.9037818603111551\n",
      "val_r2_mean = 0.9461734096209208\n",
      "val_r2_var = -2.538571357727051\n"
     ]
    },
    {
     "name": "stderr",
     "output_type": "stream",
     "text": [
      "\n",
      "Epoch 00054: cpa_metric reached. Module best state updated.\n",
      "\n",
      "Epoch 00059: cpa_metric reached. Module best state updated.\n"
     ]
    },
    {
     "name": "stdout",
     "output_type": "stream",
     "text": [
      "\n",
      "disnt_basal = 1.6607142857142856\n",
      "disnt_after = 1.9029253558424362\n",
      "val_r2_mean = 0.9484102129936218\n",
      "val_r2_var = -2.460632642110189\n"
     ]
    },
    {
     "name": "stderr",
     "output_type": "stream",
     "text": [
      "\n",
      "Epoch 00064: cpa_metric reached. Module best state updated.\n",
      "\n",
      "Epoch 00069: cpa_metric reached. Module best state updated.\n"
     ]
    },
    {
     "name": "stdout",
     "output_type": "stream",
     "text": [
      "\n",
      "disnt_basal = 1.6645989974937343\n",
      "disnt_after = 1.9029253558424362\n",
      "val_r2_mean = 0.9495706160863241\n",
      "val_r2_var = -2.390897274017334\n"
     ]
    },
    {
     "name": "stderr",
     "output_type": "stream",
     "text": [
      "\n",
      "Epoch 00074: cpa_metric reached. Module best state updated.\n",
      "\n",
      "Epoch 00079: cpa_metric reached. Module best state updated.\n"
     ]
    },
    {
     "name": "stdout",
     "output_type": "stream",
     "text": [
      "\n",
      "disnt_basal = 1.6670426065162907\n",
      "disnt_after = 1.9028301886792451\n",
      "val_r2_mean = 0.9496411085128784\n",
      "val_r2_var = -2.321360429128011\n"
     ]
    },
    {
     "name": "stderr",
     "output_type": "stream",
     "text": [
      "\n",
      "Epoch 00084: cpa_metric reached. Module best state updated.\n",
      "\n",
      "Epoch 00089: cpa_metric reached. Module best state updated.\n"
     ]
    },
    {
     "name": "stdout",
     "output_type": "stream",
     "text": [
      "\n",
      "disnt_basal = 1.6651942355889724\n",
      "disnt_after = 1.9028301886792451\n",
      "val_r2_mean = 0.9537545045216879\n",
      "val_r2_var = -2.2711332639058432\n"
     ]
    },
    {
     "name": "stderr",
     "output_type": "stream",
     "text": [
      "\n",
      "Epoch 00094: cpa_metric reached. Module best state updated.\n",
      "\n",
      "Epoch 00099: cpa_metric reached. Module best state updated.\n"
     ]
    },
    {
     "name": "stdout",
     "output_type": "stream",
     "text": [
      "\n",
      "disnt_basal = 1.6639724310776942\n",
      "disnt_after = 1.9028301886792451\n",
      "val_r2_mean = 0.9529598752657572\n",
      "val_r2_var = -2.207559665044149\n"
     ]
    },
    {
     "name": "stderr",
     "output_type": "stream",
     "text": [
      "\n",
      "Epoch 00104: cpa_metric reached. Module best state updated.\n",
      "\n",
      "Epoch 00109: cpa_metric reached. Module best state updated.\n"
     ]
    },
    {
     "name": "stdout",
     "output_type": "stream",
     "text": [
      "\n",
      "disnt_basal = 1.6420864406669655\n",
      "disnt_after = 1.9028301886792451\n",
      "val_r2_mean = 0.9533632596333822\n",
      "val_r2_var = -2.142082691192627\n"
     ]
    },
    {
     "name": "stderr",
     "output_type": "stream",
     "text": [
      "\n",
      "Epoch 00114: cpa_metric reached. Module best state updated.\n"
     ]
    },
    {
     "name": "stdout",
     "output_type": "stream",
     "text": [
      "\n",
      "disnt_basal = 1.651244764704955\n",
      "disnt_after = 1.90616103939093\n",
      "val_r2_mean = 0.9554365873336792\n",
      "val_r2_var = -2.0811290740966797\n",
      "\n",
      "disnt_basal = 1.6580767494021773\n",
      "disnt_after = 1.905114200595829\n",
      "val_r2_mean = 0.946493407090505\n",
      "val_r2_var = -1.979207436243693\n",
      "\n",
      "disnt_basal = 1.657872147534949\n",
      "disnt_after = 1.904352863290301\n",
      "val_r2_mean = 0.9491136272748312\n",
      "val_r2_var = -1.8928772608439128\n"
     ]
    },
    {
     "name": "stderr",
     "output_type": "stream",
     "text": [
      "100%|██████████| 1/1 [00:00<00:00, 24.38it/s]\n",
      "cpa_single_pert:   1%|▏         | 32/2184 [08:47<10:53:48, 18.23s/it]"
     ]
    },
    {
     "name": "stdout",
     "output_type": "stream",
     "text": [
      "Warning: dosage_key is not set. Setting it to \"1.0\" for all cells\n"
     ]
    },
    {
     "name": "stderr",
     "output_type": "stream",
     "text": [
      "100%|██████████| 1346/1346 [00:00<00:00, 84799.60it/s]\n",
      "100%|██████████| 1346/1346 [00:00<00:00, 1066603.66it/s]"
     ]
    },
    {
     "name": "stdout",
     "output_type": "stream",
     "text": [
      "\u001b[34mINFO    \u001b[0m Generating sequential column names                                                                        \n",
      "\u001b[34mINFO    \u001b[0m Generating sequential column names                                                                        \n"
     ]
    },
    {
     "name": "stderr",
     "output_type": "stream",
     "text": [
      "\n",
      "Global seed set to 6977\n",
      "100%|██████████| 2/2 [00:00<00:00, 889.94it/s]\n",
      "GPU available: True (cuda), used: True\n",
      "TPU available: False, using: 0 TPU cores\n",
      "IPU available: False, using: 0 IPUs\n",
      "HPU available: False, using: 0 HPUs\n",
      "You are using a CUDA device ('NVIDIA GeForce RTX 3090') that has Tensor Cores. To properly utilize them, you should set `torch.set_float32_matmul_precision('medium' | 'high')` which will trade-off precision for performance. For more details, read https://pytorch.org/docs/stable/generated/torch.set_float32_matmul_precision.html#torch.set_float32_matmul_precision\n",
      "LOCAL_RANK: 0 - CUDA_VISIBLE_DEVICES: [0,1,2,3]\n",
      "\n",
      "Epoch 00004: cpa_metric reached. Module best state updated.\n",
      "\n",
      "Epoch 00009: cpa_metric reached. Module best state updated.\n"
     ]
    },
    {
     "name": "stdout",
     "output_type": "stream",
     "text": [
      "\n",
      "disnt_basal = 1.710699096225412\n",
      "disnt_after = 1.7398989898989898\n",
      "val_r2_mean = 0.30897001425425213\n",
      "val_r2_var = -2.334444046020508\n"
     ]
    },
    {
     "name": "stderr",
     "output_type": "stream",
     "text": [
      "\n",
      "Epoch 00014: cpa_metric reached. Module best state updated.\n",
      "\n",
      "Epoch 00019: cpa_metric reached. Module best state updated.\n"
     ]
    },
    {
     "name": "stdout",
     "output_type": "stream",
     "text": [
      "\n",
      "disnt_basal = 1.7119484316852738\n",
      "disnt_after = 1.7398989898989898\n",
      "val_r2_mean = 0.7719915707906088\n",
      "val_r2_var = -2.3338491916656494\n"
     ]
    },
    {
     "name": "stderr",
     "output_type": "stream",
     "text": [
      "\n",
      "Epoch 00024: cpa_metric reached. Module best state updated.\n",
      "\n",
      "Epoch 00029: cpa_metric reached. Module best state updated.\n"
     ]
    },
    {
     "name": "stdout",
     "output_type": "stream",
     "text": [
      "\n",
      "disnt_basal = 1.7075348627980207\n",
      "disnt_after = 1.712878787878788\n",
      "val_r2_mean = 0.9169334173202515\n",
      "val_r2_var = -2.3150511582692466\n"
     ]
    },
    {
     "name": "stderr",
     "output_type": "stream",
     "text": [
      "\n",
      "Epoch 00034: cpa_metric reached. Module best state updated.\n"
     ]
    },
    {
     "name": "stdout",
     "output_type": "stream",
     "text": [
      "\n",
      "disnt_basal = 1.7061500633869056\n",
      "disnt_after = 1.680808080808081\n",
      "val_r2_mean = 0.928422192732493\n",
      "val_r2_var = -2.277638832728068\n"
     ]
    },
    {
     "name": "stderr",
     "output_type": "stream",
     "text": [
      "\n",
      "Epoch 00044: cpa_metric reached. Module best state updated.\n",
      "\n",
      "Epoch 00049: cpa_metric reached. Module best state updated.\n"
     ]
    },
    {
     "name": "stdout",
     "output_type": "stream",
     "text": [
      "\n",
      "disnt_basal = 1.7084396597554492\n",
      "disnt_after = 1.6797979797979798\n",
      "val_r2_mean = 0.9219240744908651\n",
      "val_r2_var = -2.2195531527201333\n"
     ]
    },
    {
     "name": "stderr",
     "output_type": "stream",
     "text": [
      "\n",
      "Epoch 00054: cpa_metric reached. Module best state updated.\n",
      "\n",
      "Epoch 00059: cpa_metric reached. Module best state updated.\n"
     ]
    },
    {
     "name": "stdout",
     "output_type": "stream",
     "text": [
      "\n",
      "disnt_basal = 1.7084396597554492\n",
      "disnt_after = 1.6797979797979798\n",
      "val_r2_mean = 0.9305001894632975\n",
      "val_r2_var = -2.131161610285441\n"
     ]
    },
    {
     "name": "stderr",
     "output_type": "stream",
     "text": [
      "\n",
      "Epoch 00064: cpa_metric reached. Module best state updated.\n",
      "\n",
      "Epoch 00069: cpa_metric reached. Module best state updated.\n"
     ]
    },
    {
     "name": "stdout",
     "output_type": "stream",
     "text": [
      "\n",
      "disnt_basal = 1.7101940457203615\n",
      "disnt_after = 1.6797979797979798\n",
      "val_r2_mean = 0.9348088900248209\n",
      "val_r2_var = -2.0330758094787598\n"
     ]
    },
    {
     "name": "stderr",
     "output_type": "stream",
     "text": [
      "\n",
      "Epoch 00074: cpa_metric reached. Module best state updated.\n",
      "\n",
      "Epoch 00079: cpa_metric reached. Module best state updated.\n"
     ]
    },
    {
     "name": "stdout",
     "output_type": "stream",
     "text": [
      "\n",
      "disnt_basal = 1.7099251625567415\n",
      "disnt_after = 1.6797979797979798\n",
      "val_r2_mean = 0.938102145989736\n",
      "val_r2_var = -2.001776854197184\n"
     ]
    },
    {
     "name": "stderr",
     "output_type": "stream",
     "text": [
      "\n",
      "Epoch 00084: cpa_metric reached. Module best state updated.\n",
      "\n",
      "Epoch 00089: cpa_metric reached. Module best state updated.\n"
     ]
    },
    {
     "name": "stdout",
     "output_type": "stream",
     "text": [
      "\n",
      "disnt_basal = 1.5812845049687154\n",
      "disnt_after = 1.6797979797979798\n",
      "val_r2_mean = 0.944955031077067\n",
      "val_r2_var = -1.95359206199646\n"
     ]
    },
    {
     "name": "stderr",
     "output_type": "stream",
     "text": [
      "\n",
      "Epoch 00094: cpa_metric reached. Module best state updated.\n"
     ]
    },
    {
     "name": "stdout",
     "output_type": "stream",
     "text": [
      "\n",
      "disnt_basal = 1.6857972436919804\n",
      "disnt_after = 1.6934343434343435\n",
      "val_r2_mean = 0.9375527103741964\n",
      "val_r2_var = -1.8792461554209392\n",
      "\n",
      "disnt_basal = 1.6994622336727598\n",
      "disnt_after = 1.7085858585858587\n",
      "val_r2_mean = 0.9324017961819967\n",
      "val_r2_var = -1.773634433746338\n",
      "\n",
      "disnt_basal = 1.6611065104486158\n",
      "disnt_after = 1.6967171717171716\n",
      "val_r2_mean = 0.9458846052487692\n",
      "val_r2_var = -1.7406307856241863\n"
     ]
    },
    {
     "name": "stderr",
     "output_type": "stream",
     "text": [
      "100%|██████████| 1/1 [00:00<00:00, 23.85it/s]\n",
      "cpa_single_pert:   2%|▏         | 33/2184 [08:58<9:35:38, 16.06s/it] "
     ]
    },
    {
     "name": "stdout",
     "output_type": "stream",
     "text": [
      "Warning: dosage_key is not set. Setting it to \"1.0\" for all cells\n"
     ]
    },
    {
     "name": "stderr",
     "output_type": "stream",
     "text": [
      "100%|██████████| 1234/1234 [00:00<00:00, 62903.60it/s]\n",
      "100%|██████████| 1234/1234 [00:00<00:00, 1073811.44it/s]"
     ]
    },
    {
     "name": "stdout",
     "output_type": "stream",
     "text": [
      "\u001b[34mINFO    \u001b[0m Generating sequential column names                                                                        \n",
      "\u001b[34mINFO    \u001b[0m Generating sequential column names                                                                        \n"
     ]
    },
    {
     "name": "stderr",
     "output_type": "stream",
     "text": [
      "\n",
      "Global seed set to 6977\n",
      "100%|██████████| 2/2 [00:00<00:00, 839.87it/s]\n",
      "GPU available: True (cuda), used: True\n",
      "TPU available: False, using: 0 TPU cores\n",
      "IPU available: False, using: 0 IPUs\n",
      "HPU available: False, using: 0 HPUs\n",
      "You are using a CUDA device ('NVIDIA GeForce RTX 3090') that has Tensor Cores. To properly utilize them, you should set `torch.set_float32_matmul_precision('medium' | 'high')` which will trade-off precision for performance. For more details, read https://pytorch.org/docs/stable/generated/torch.set_float32_matmul_precision.html#torch.set_float32_matmul_precision\n",
      "LOCAL_RANK: 0 - CUDA_VISIBLE_DEVICES: [0,1,2,3]\n",
      "\n",
      "Epoch 00004: cpa_metric reached. Module best state updated.\n",
      "\n",
      "Epoch 00009: cpa_metric reached. Module best state updated.\n"
     ]
    },
    {
     "name": "stdout",
     "output_type": "stream",
     "text": [
      "\n",
      "disnt_basal = 1.5311475409836066\n",
      "disnt_after = 1.5311475409836066\n",
      "val_r2_mean = 0.28604594866434735\n",
      "val_r2_var = -2.1814793745676675\n"
     ]
    },
    {
     "name": "stderr",
     "output_type": "stream",
     "text": [
      "\n",
      "Epoch 00014: cpa_metric reached. Module best state updated.\n",
      "\n",
      "Epoch 00019: cpa_metric reached. Module best state updated.\n"
     ]
    },
    {
     "name": "stdout",
     "output_type": "stream",
     "text": [
      "\n",
      "disnt_basal = 1.5311475409836066\n",
      "disnt_after = 1.5311475409836066\n",
      "val_r2_mean = 0.7524718244870504\n",
      "val_r2_var = -2.1832507451375327\n"
     ]
    },
    {
     "name": "stderr",
     "output_type": "stream",
     "text": [
      "\n",
      "Epoch 00024: cpa_metric reached. Module best state updated.\n",
      "\n",
      "Epoch 00029: cpa_metric reached. Module best state updated.\n"
     ]
    },
    {
     "name": "stdout",
     "output_type": "stream",
     "text": [
      "\n",
      "disnt_basal = 1.5178988535304831\n",
      "disnt_after = 1.5185079591351864\n",
      "val_r2_mean = 0.8967121839523315\n",
      "val_r2_var = -2.16507355372111\n"
     ]
    },
    {
     "name": "stderr",
     "output_type": "stream",
     "text": [
      "\n",
      "Epoch 00034: cpa_metric reached. Module best state updated.\n"
     ]
    },
    {
     "name": "stdout",
     "output_type": "stream",
     "text": [
      "\n",
      "disnt_basal = 1.5216597021322191\n",
      "disnt_after = 1.485103349964362\n",
      "val_r2_mean = 0.9008798996607462\n",
      "val_r2_var = -2.121001402537028\n"
     ]
    },
    {
     "name": "stderr",
     "output_type": "stream",
     "text": [
      "\n",
      "Epoch 00049: cpa_metric reached. Module best state updated.\n"
     ]
    },
    {
     "name": "stdout",
     "output_type": "stream",
     "text": [
      "\n",
      "disnt_basal = 1.5308207435979857\n",
      "disnt_after = 1.472463768115942\n",
      "val_r2_mean = 0.909799059232076\n",
      "val_r2_var = -2.065092404683431\n"
     ]
    },
    {
     "name": "stderr",
     "output_type": "stream",
     "text": [
      "\n",
      "Epoch 00054: cpa_metric reached. Module best state updated.\n",
      "\n",
      "Epoch 00059: cpa_metric reached. Module best state updated.\n"
     ]
    },
    {
     "name": "stdout",
     "output_type": "stream",
     "text": [
      "\n",
      "disnt_basal = 1.5290206793099754\n",
      "disnt_after = 1.4729151817533856\n",
      "val_r2_mean = 0.913582980632782\n",
      "val_r2_var = -2.0029873053232827\n"
     ]
    },
    {
     "name": "stderr",
     "output_type": "stream",
     "text": [
      "\n",
      "Epoch 00064: cpa_metric reached. Module best state updated.\n",
      "\n",
      "Epoch 00069: cpa_metric reached. Module best state updated.\n"
     ]
    },
    {
     "name": "stdout",
     "output_type": "stream",
     "text": [
      "\n",
      "disnt_basal = 1.516205935926283\n",
      "disnt_after = 1.472463768115942\n",
      "val_r2_mean = 0.9211909770965576\n",
      "val_r2_var = -1.9440340995788574\n"
     ]
    },
    {
     "name": "stderr",
     "output_type": "stream",
     "text": [
      "\n",
      "Epoch 00074: cpa_metric reached. Module best state updated.\n"
     ]
    },
    {
     "name": "stdout",
     "output_type": "stream",
     "text": [
      "\n",
      "disnt_basal = 1.505372438647773\n",
      "disnt_after = 1.4738180090282729\n",
      "val_r2_mean = 0.9091137647628784\n",
      "val_r2_var = -1.896720012029012\n"
     ]
    },
    {
     "name": "stderr",
     "output_type": "stream",
     "text": [
      "\n",
      "Epoch 00084: cpa_metric reached. Module best state updated.\n",
      "\n",
      "Epoch 00089: cpa_metric reached. Module best state updated.\n"
     ]
    },
    {
     "name": "stdout",
     "output_type": "stream",
     "text": [
      "\n",
      "disnt_basal = 1.5093378334940533\n",
      "disnt_after = 1.4832976954145878\n",
      "val_r2_mean = 0.920198400815328\n",
      "val_r2_var = -1.7879133224487305\n"
     ]
    },
    {
     "name": "stderr",
     "output_type": "stream",
     "text": [
      "\n",
      "Epoch 00094: cpa_metric reached. Module best state updated.\n",
      "\n",
      "Epoch 00099: cpa_metric reached. Module best state updated.\n"
     ]
    },
    {
     "name": "stdout",
     "output_type": "stream",
     "text": [
      "\n",
      "disnt_basal = 1.3089080104509225\n",
      "disnt_after = 1.476526490852934\n",
      "val_r2_mean = 0.9329630931218466\n",
      "val_r2_var = -1.7800265947977703\n",
      "\n",
      "disnt_basal = 1.4080912947082078\n",
      "disnt_after = 1.4738180090282729\n",
      "val_r2_mean = 0.9311217466990153\n",
      "val_r2_var = -1.710644801457723\n"
     ]
    },
    {
     "name": "stderr",
     "output_type": "stream",
     "text": [
      "\n",
      "Epoch 00119: cpa_metric reached. Module best state updated.\n"
     ]
    },
    {
     "name": "stdout",
     "output_type": "stream",
     "text": [
      "\n",
      "disnt_basal = 1.332954324336237\n",
      "disnt_after = 1.4738180090282729\n",
      "val_r2_mean = 0.9297945300738016\n",
      "val_r2_var = -1.601075569788615\n"
     ]
    },
    {
     "name": "stderr",
     "output_type": "stream",
     "text": [
      "\n",
      "Epoch 00124: cpa_metric reached. Module best state updated.\n",
      "\n",
      "Epoch 00129: cpa_metric reached. Module best state updated.\n"
     ]
    },
    {
     "name": "stdout",
     "output_type": "stream",
     "text": [
      "\n",
      "disnt_basal = 1.1362016393084273\n",
      "disnt_after = 1.4733665953908293\n",
      "val_r2_mean = 0.917973796526591\n",
      "val_r2_var = -1.5384290218353271\n"
     ]
    },
    {
     "name": "stderr",
     "output_type": "stream",
     "text": [
      "\n",
      "Epoch 00134: cpa_metric reached. Module best state updated.\n"
     ]
    },
    {
     "name": "stdout",
     "output_type": "stream",
     "text": [
      "\n",
      "disnt_basal = 1.1517621687635522\n",
      "disnt_after = 1.4747208363031596\n",
      "val_r2_mean = 0.9248737096786499\n",
      "val_r2_var = -1.4518404801686604\n"
     ]
    },
    {
     "name": "stderr",
     "output_type": "stream",
     "text": [
      "\n",
      "Epoch 00144: cpa_metric reached. Module best state updated.\n",
      "\n",
      "Epoch 00149: cpa_metric reached. Module best state updated.\n"
     ]
    },
    {
     "name": "stdout",
     "output_type": "stream",
     "text": [
      "\n",
      "disnt_basal = 1.0944953659955128\n",
      "disnt_after = 1.4751722499406035\n",
      "val_r2_mean = 0.9208947022755941\n",
      "val_r2_var = -1.3799715042114258\n"
     ]
    },
    {
     "name": "stderr",
     "output_type": "stream",
     "text": [
      "\n",
      "Epoch 00154: cpa_metric reached. Module best state updated.\n",
      "\n",
      "Epoch 00159: cpa_metric reached. Module best state updated.\n"
     ]
    },
    {
     "name": "stdout",
     "output_type": "stream",
     "text": [
      "\n",
      "disnt_basal = 1.0140862054199022\n",
      "disnt_after = 1.4747208363031596\n",
      "val_r2_mean = 0.9333638747533163\n",
      "val_r2_var = -1.347568194071452\n",
      "\n",
      "disnt_basal = 1.1087038046389854\n",
      "disnt_after = 1.4738180090282729\n",
      "val_r2_mean = 0.9262394110361735\n",
      "val_r2_var = -1.2535663445790608\n",
      "\n",
      "disnt_basal = 1.0746870618050024\n",
      "disnt_after = 1.4747208363031599\n",
      "val_r2_mean = 0.9346061944961548\n",
      "val_r2_var = -1.2436909675598145\n"
     ]
    },
    {
     "name": "stderr",
     "output_type": "stream",
     "text": [
      "\n",
      "Epoch 00184: cpa_metric reached. Module best state updated.\n",
      "\n",
      "Epoch 00189: cpa_metric reached. Module best state updated.\n"
     ]
    },
    {
     "name": "stdout",
     "output_type": "stream",
     "text": [
      "\n",
      "disnt_basal = 1.0513674819490089\n",
      "disnt_after = 1.4792349726775957\n",
      "val_r2_mean = 0.9333545565605164\n",
      "val_r2_var = -1.1815520127614338\n",
      "\n",
      "disnt_basal = 1.158271688155131\n",
      "disnt_after = 1.4805892135899263\n",
      "val_r2_mean = 0.9368560115496317\n",
      "val_r2_var = -1.1743805408477783\n",
      "\n",
      "disnt_basal = 1.085684110075121\n",
      "disnt_after = 1.476977904490378\n",
      "val_r2_mean = 0.9388951063156128\n",
      "val_r2_var = -1.1073819796244304\n"
     ]
    },
    {
     "name": "stderr",
     "output_type": "stream",
     "text": [
      "\n",
      "Epoch 00214: cpa_metric reached. Module best state updated.\n",
      "\n",
      "Epoch 00219: cpa_metric reached. Module best state updated.\n"
     ]
    },
    {
     "name": "stdout",
     "output_type": "stream",
     "text": [
      "\n",
      "disnt_basal = 1.02093370272063\n",
      "disnt_after = 1.4760750772154907\n",
      "val_r2_mean = 0.9408150116602579\n",
      "val_r2_var = -1.0983458360036213\n",
      "\n",
      "disnt_basal = 1.0855624860467423\n",
      "disnt_after = 1.4747208363031599\n",
      "val_r2_mean = 0.942037840684255\n",
      "val_r2_var = -1.0534868637720745\n",
      "\n",
      "disnt_basal = 1.079323986845684\n",
      "disnt_after = 1.47472083630316\n",
      "val_r2_mean = 0.9433406790097555\n",
      "val_r2_var = -1.0466297467549641\n"
     ]
    },
    {
     "name": "stderr",
     "output_type": "stream",
     "text": [
      "100%|██████████| 1/1 [00:00<00:00, 25.34it/s]\n",
      "cpa_single_pert:   2%|▏         | 34/2184 [09:24<11:22:45, 19.05s/it]"
     ]
    },
    {
     "name": "stdout",
     "output_type": "stream",
     "text": [
      "Warning: dosage_key is not set. Setting it to \"1.0\" for all cells\n"
     ]
    },
    {
     "name": "stderr",
     "output_type": "stream",
     "text": [
      "100%|██████████| 1516/1516 [00:00<00:00, 84083.53it/s]\n",
      "100%|██████████| 1516/1516 [00:00<00:00, 1083415.38it/s]\n"
     ]
    },
    {
     "name": "stdout",
     "output_type": "stream",
     "text": [
      "\u001b[34mINFO    \u001b[0m Generating sequential column names                                                                        \n",
      "\u001b[34mINFO    \u001b[0m Generating sequential column names                                                                        \n"
     ]
    },
    {
     "name": "stderr",
     "output_type": "stream",
     "text": [
      "Global seed set to 6977\n",
      "100%|██████████| 2/2 [00:00<00:00, 706.05it/s]\n",
      "GPU available: True (cuda), used: True\n",
      "TPU available: False, using: 0 TPU cores\n",
      "IPU available: False, using: 0 IPUs\n",
      "HPU available: False, using: 0 HPUs\n",
      "You are using a CUDA device ('NVIDIA GeForce RTX 3090') that has Tensor Cores. To properly utilize them, you should set `torch.set_float32_matmul_precision('medium' | 'high')` which will trade-off precision for performance. For more details, read https://pytorch.org/docs/stable/generated/torch.set_float32_matmul_precision.html#torch.set_float32_matmul_precision\n",
      "LOCAL_RANK: 0 - CUDA_VISIBLE_DEVICES: [0,1,2,3]\n",
      "\n",
      "Epoch 00004: cpa_metric reached. Module best state updated.\n",
      "\n",
      "Epoch 00009: cpa_metric reached. Module best state updated.\n"
     ]
    },
    {
     "name": "stdout",
     "output_type": "stream",
     "text": [
      "\n",
      "disnt_basal = 1.6427619047619046\n",
      "disnt_after = 1.9166666666666665\n",
      "val_r2_mean = 0.32826022307078045\n",
      "val_r2_var = -2.63876740137736\n"
     ]
    },
    {
     "name": "stderr",
     "output_type": "stream",
     "text": [
      "\n",
      "Epoch 00014: cpa_metric reached. Module best state updated.\n",
      "\n",
      "Epoch 00019: cpa_metric reached. Module best state updated.\n"
     ]
    },
    {
     "name": "stdout",
     "output_type": "stream",
     "text": [
      "\n",
      "disnt_basal = 1.647531746031746\n",
      "disnt_after = 1.9166666666666665\n",
      "val_r2_mean = 0.7898779908816019\n",
      "val_r2_var = -2.64150063196818\n"
     ]
    },
    {
     "name": "stderr",
     "output_type": "stream",
     "text": [
      "\n",
      "Epoch 00024: cpa_metric reached. Module best state updated.\n",
      "\n",
      "Epoch 00029: cpa_metric reached. Module best state updated.\n"
     ]
    },
    {
     "name": "stdout",
     "output_type": "stream",
     "text": [
      "\n",
      "disnt_basal = 1.6702222222222223\n",
      "disnt_after = 1.9120545073375261\n",
      "val_r2_mean = 0.9328638116518656\n",
      "val_r2_var = -2.631096919377645\n"
     ]
    },
    {
     "name": "stderr",
     "output_type": "stream",
     "text": [
      "\n",
      "Epoch 00034: cpa_metric reached. Module best state updated.\n",
      "\n",
      "Epoch 00039: cpa_metric reached. Module best state updated.\n"
     ]
    },
    {
     "name": "stdout",
     "output_type": "stream",
     "text": [
      "\n",
      "disnt_basal = 1.6584761904761904\n",
      "disnt_after = 1.9029224318658278\n",
      "val_r2_mean = 0.9476055900255839\n",
      "val_r2_var = -2.607769330342611\n",
      "\n",
      "disnt_basal = 1.6863095238095238\n",
      "disnt_after = 1.9028301886792451\n",
      "val_r2_mean = 0.944433351357778\n",
      "val_r2_var = -2.5645602544148765\n"
     ]
    },
    {
     "name": "stderr",
     "output_type": "stream",
     "text": [
      "\n",
      "Epoch 00054: cpa_metric reached. Module best state updated.\n",
      "\n",
      "Epoch 00059: cpa_metric reached. Module best state updated.\n"
     ]
    },
    {
     "name": "stdout",
     "output_type": "stream",
     "text": [
      "\n",
      "disnt_basal = 1.6852698412698413\n",
      "disnt_after = 1.9028301886792451\n",
      "val_r2_mean = 0.9487901528676351\n",
      "val_r2_var = -2.515448729197184\n"
     ]
    },
    {
     "name": "stderr",
     "output_type": "stream",
     "text": [
      "\n",
      "Epoch 00064: cpa_metric reached. Module best state updated.\n",
      "\n",
      "Epoch 00069: cpa_metric reached. Module best state updated.\n"
     ]
    },
    {
     "name": "stdout",
     "output_type": "stream",
     "text": [
      "\n",
      "disnt_basal = 1.678936507936508\n",
      "disnt_after = 1.9030146750524108\n",
      "val_r2_mean = 0.9471489389737447\n",
      "val_r2_var = -2.4555321534474692\n"
     ]
    },
    {
     "name": "stderr",
     "output_type": "stream",
     "text": [
      "\n",
      "Epoch 00074: cpa_metric reached. Module best state updated.\n",
      "\n",
      "Epoch 00079: cpa_metric reached. Module best state updated.\n"
     ]
    },
    {
     "name": "stdout",
     "output_type": "stream",
     "text": [
      "\n",
      "disnt_basal = 1.676031746031746\n",
      "disnt_after = 1.9028301886792451\n",
      "val_r2_mean = 0.953313966592153\n",
      "val_r2_var = -2.383591334025065\n"
     ]
    },
    {
     "name": "stderr",
     "output_type": "stream",
     "text": [
      "\n",
      "Epoch 00084: cpa_metric reached. Module best state updated.\n",
      "\n",
      "Epoch 00089: cpa_metric reached. Module best state updated.\n"
     ]
    },
    {
     "name": "stdout",
     "output_type": "stream",
     "text": [
      "\n",
      "disnt_basal = 1.6750555555555555\n",
      "disnt_after = 1.9028301886792454\n",
      "val_r2_mean = 0.9531379739443461\n",
      "val_r2_var = -2.316852887471517\n"
     ]
    },
    {
     "name": "stderr",
     "output_type": "stream",
     "text": [
      "\n",
      "Epoch 00094: cpa_metric reached. Module best state updated.\n",
      "\n",
      "Epoch 00099: cpa_metric reached. Module best state updated.\n"
     ]
    },
    {
     "name": "stdout",
     "output_type": "stream",
     "text": [
      "\n",
      "disnt_basal = 1.5338252470799643\n",
      "disnt_after = 1.9028301886792451\n",
      "val_r2_mean = 0.9542541901270548\n",
      "val_r2_var = -2.275167385737101\n",
      "\n",
      "disnt_basal = 1.6771419586702605\n",
      "disnt_after = 1.90956394129979\n",
      "val_r2_mean = 0.9551197091738383\n",
      "val_r2_var = -2.183579921722412\n",
      "\n",
      "disnt_basal = 1.6882976939203354\n",
      "disnt_after = 1.9078113207547167\n",
      "val_r2_mean = 0.9585692286491394\n",
      "val_r2_var = -2.068634827931722\n"
     ]
    },
    {
     "name": "stderr",
     "output_type": "stream",
     "text": [
      "100%|██████████| 1/1 [00:00<00:00, 27.91it/s]\n",
      "cpa_single_pert:   2%|▏         | 35/2184 [09:36<10:05:29, 16.91s/it]"
     ]
    },
    {
     "name": "stdout",
     "output_type": "stream",
     "text": [
      "Warning: dosage_key is not set. Setting it to \"1.0\" for all cells\n"
     ]
    },
    {
     "name": "stderr",
     "output_type": "stream",
     "text": [
      "100%|██████████| 1788/1788 [00:00<00:00, 82171.87it/s]\n",
      "100%|██████████| 1788/1788 [00:00<00:00, 1096245.51it/s]\n"
     ]
    },
    {
     "name": "stdout",
     "output_type": "stream",
     "text": [
      "\u001b[34mINFO    \u001b[0m Generating sequential column names                                                                        \n",
      "\u001b[34mINFO    \u001b[0m Generating sequential column names                                                                        \n"
     ]
    },
    {
     "name": "stderr",
     "output_type": "stream",
     "text": [
      "Global seed set to 6977\n",
      "100%|██████████| 2/2 [00:00<00:00, 890.60it/s]\n",
      "GPU available: True (cuda), used: True\n",
      "TPU available: False, using: 0 TPU cores\n",
      "IPU available: False, using: 0 IPUs\n",
      "HPU available: False, using: 0 HPUs\n",
      "You are using a CUDA device ('NVIDIA GeForce RTX 3090') that has Tensor Cores. To properly utilize them, you should set `torch.set_float32_matmul_precision('medium' | 'high')` which will trade-off precision for performance. For more details, read https://pytorch.org/docs/stable/generated/torch.set_float32_matmul_precision.html#torch.set_float32_matmul_precision\n",
      "LOCAL_RANK: 0 - CUDA_VISIBLE_DEVICES: [0,1,2,3]\n",
      "\n",
      "Epoch 00004: cpa_metric reached. Module best state updated.\n",
      "\n",
      "Epoch 00009: cpa_metric reached. Module best state updated.\n"
     ]
    },
    {
     "name": "stdout",
     "output_type": "stream",
     "text": [
      "\n",
      "disnt_basal = 1.6630632911392405\n",
      "disnt_after = 2.0\n",
      "val_r2_mean = 0.5820907155672709\n",
      "val_r2_var = -2.7379111448923745\n"
     ]
    },
    {
     "name": "stderr",
     "output_type": "stream",
     "text": [
      "\n",
      "Epoch 00014: cpa_metric reached. Module best state updated.\n",
      "\n",
      "Epoch 00019: cpa_metric reached. Module best state updated.\n"
     ]
    },
    {
     "name": "stdout",
     "output_type": "stream",
     "text": [
      "\n",
      "disnt_basal = 1.6601833098921706\n",
      "disnt_after = 2.0\n",
      "val_r2_mean = 0.9467112421989441\n",
      "val_r2_var = -2.729804515838623\n"
     ]
    },
    {
     "name": "stderr",
     "output_type": "stream",
     "text": [
      "\n",
      "Epoch 00024: cpa_metric reached. Module best state updated.\n",
      "\n",
      "Epoch 00029: cpa_metric reached. Module best state updated.\n"
     ]
    },
    {
     "name": "stdout",
     "output_type": "stream",
     "text": [
      "\n",
      "disnt_basal = 1.677368495077356\n",
      "disnt_after = 2.0\n",
      "val_r2_mean = 0.9628198544184366\n",
      "val_r2_var = -2.6880087852478027\n"
     ]
    },
    {
     "name": "stderr",
     "output_type": "stream",
     "text": [
      "\n",
      "Epoch 00034: cpa_metric reached. Module best state updated.\n",
      "\n",
      "Epoch 00039: cpa_metric reached. Module best state updated.\n"
     ]
    },
    {
     "name": "stdout",
     "output_type": "stream",
     "text": [
      "\n",
      "disnt_basal = 1.6675630567276136\n",
      "disnt_after = 2.0\n",
      "val_r2_mean = 0.9640020728111267\n",
      "val_r2_var = -2.641817331314087\n"
     ]
    },
    {
     "name": "stderr",
     "output_type": "stream",
     "text": [
      "\n",
      "Epoch 00044: cpa_metric reached. Module best state updated.\n"
     ]
    },
    {
     "name": "stdout",
     "output_type": "stream",
     "text": [
      "\n",
      "disnt_basal = 1.6619266626481817\n",
      "disnt_after = 2.0\n",
      "val_r2_mean = 0.9656092723210653\n",
      "val_r2_var = -2.5781522591908774\n"
     ]
    },
    {
     "name": "stderr",
     "output_type": "stream",
     "text": [
      "\n",
      "Epoch 00054: cpa_metric reached. Module best state updated.\n",
      "\n",
      "Epoch 00059: cpa_metric reached. Module best state updated.\n"
     ]
    },
    {
     "name": "stdout",
     "output_type": "stream",
     "text": [
      "\n",
      "disnt_basal = 1.6596574576384704\n",
      "disnt_after = 2.0\n",
      "val_r2_mean = 0.9608611265818278\n",
      "val_r2_var = -2.437530517578125\n"
     ]
    },
    {
     "name": "stderr",
     "output_type": "stream",
     "text": [
      "\n",
      "Epoch 00064: cpa_metric reached. Module best state updated.\n",
      "\n",
      "Epoch 00069: cpa_metric reached. Module best state updated.\n"
     ]
    },
    {
     "name": "stdout",
     "output_type": "stream",
     "text": [
      "\n",
      "disnt_basal = 1.648819503047351\n",
      "disnt_after = 2.0\n",
      "val_r2_mean = 0.9663953979810079\n",
      "val_r2_var = -2.307945807774862\n"
     ]
    },
    {
     "name": "stderr",
     "output_type": "stream",
     "text": [
      "\n",
      "Epoch 00074: cpa_metric reached. Module best state updated.\n"
     ]
    },
    {
     "name": "stdout",
     "output_type": "stream",
     "text": [
      "\n",
      "disnt_basal = 1.6517759024847631\n",
      "disnt_after = 2.0\n",
      "val_r2_mean = 0.9639490246772766\n",
      "val_r2_var = -2.1970104376475015\n"
     ]
    },
    {
     "name": "stderr",
     "output_type": "stream",
     "text": [
      "\n",
      "Epoch 00089: cpa_metric reached. Module best state updated.\n"
     ]
    },
    {
     "name": "stdout",
     "output_type": "stream",
     "text": [
      "\n",
      "disnt_basal = 1.621313140446052\n",
      "disnt_after = 2.0\n",
      "val_r2_mean = 0.9736519257227579\n",
      "val_r2_var = -2.090534766515096\n"
     ]
    },
    {
     "name": "stderr",
     "output_type": "stream",
     "text": [
      "\n",
      "Epoch 00094: cpa_metric reached. Module best state updated.\n"
     ]
    },
    {
     "name": "stdout",
     "output_type": "stream",
     "text": [
      "\n",
      "disnt_basal = 1.6425059272654208\n",
      "disnt_after = 2.0\n",
      "val_r2_mean = 0.9755843281745911\n",
      "val_r2_var = -2.063404401143392\n",
      "\n",
      "disnt_basal = 1.5584574040586698\n",
      "disnt_after = 2.0\n",
      "val_r2_mean = 0.9693816701571146\n",
      "val_r2_var = -1.9088459809621174\n"
     ]
    },
    {
     "name": "stderr",
     "output_type": "stream",
     "text": [
      "\n",
      "Epoch 00114: cpa_metric reached. Module best state updated.\n"
     ]
    },
    {
     "name": "stdout",
     "output_type": "stream",
     "text": [
      "\n",
      "disnt_basal = 1.497324258254638\n",
      "disnt_after = 2.0\n",
      "val_r2_mean = 0.9726394017537435\n",
      "val_r2_var = -1.8585090637207031\n",
      "\n",
      "disnt_basal = 1.5007174335275602\n",
      "disnt_after = 2.0\n",
      "val_r2_mean = 0.9722664753595988\n",
      "val_r2_var = -1.7407111326853435\n"
     ]
    },
    {
     "name": "stderr",
     "output_type": "stream",
     "text": [
      "\n",
      "Epoch 00134: cpa_metric reached. Module best state updated.\n"
     ]
    },
    {
     "name": "stdout",
     "output_type": "stream",
     "text": [
      "\n",
      "disnt_basal = 1.3992795860960419\n",
      "disnt_after = 2.0\n",
      "val_r2_mean = 0.9679755171140035\n",
      "val_r2_var = -1.701666037241618\n",
      "\n",
      "disnt_basal = 1.3442530306074612\n",
      "disnt_after = 2.0\n",
      "val_r2_mean = 0.975699782371521\n",
      "val_r2_var = -1.6993837356567383\n"
     ]
    },
    {
     "name": "stderr",
     "output_type": "stream",
     "text": [
      "\n",
      "Epoch 00154: cpa_metric reached. Module best state updated.\n"
     ]
    },
    {
     "name": "stdout",
     "output_type": "stream",
     "text": [
      "\n",
      "disnt_basal = 1.4485691179425357\n",
      "disnt_after = 2.0\n",
      "val_r2_mean = 0.9751897056897482\n",
      "val_r2_var = -1.6377362410227458\n",
      "\n",
      "disnt_basal = 1.3118263009845288\n",
      "disnt_after = 2.0\n",
      "val_r2_mean = 0.9757348299026489\n",
      "val_r2_var = -1.5907539526621501\n"
     ]
    },
    {
     "name": "stderr",
     "output_type": "stream",
     "text": [
      "\n",
      "Epoch 00174: cpa_metric reached. Module best state updated.\n"
     ]
    },
    {
     "name": "stdout",
     "output_type": "stream",
     "text": [
      "\n",
      "disnt_basal = 1.2770551871944278\n",
      "disnt_after = 2.0\n",
      "val_r2_mean = 0.9739026029904684\n",
      "val_r2_var = -1.547671635945638\n",
      "\n",
      "disnt_basal = 1.2082240305404863\n",
      "disnt_after = 2.0\n",
      "val_r2_mean = 0.9775111476580302\n",
      "val_r2_var = -1.5451339880625408\n"
     ]
    },
    {
     "name": "stderr",
     "output_type": "stream",
     "text": [
      "\n",
      "Epoch 00194: cpa_metric reached. Module best state updated.\n"
     ]
    },
    {
     "name": "stdout",
     "output_type": "stream",
     "text": [
      "\n",
      "disnt_basal = 1.2918249949768936\n",
      "disnt_after = 2.0\n",
      "val_r2_mean = 0.9717827240626017\n",
      "val_r2_var = -1.4668157895406086\n"
     ]
    },
    {
     "name": "stderr",
     "output_type": "stream",
     "text": [
      "100%|██████████| 1/1 [00:00<00:00, 16.76it/s]\n",
      "cpa_single_pert:   2%|▏         | 36/2184 [10:05<12:11:08, 20.42s/it]"
     ]
    },
    {
     "name": "stdout",
     "output_type": "stream",
     "text": [
      "Warning: dosage_key is not set. Setting it to \"1.0\" for all cells\n"
     ]
    },
    {
     "name": "stderr",
     "output_type": "stream",
     "text": [
      "100%|██████████| 1384/1384 [00:00<00:00, 83180.49it/s]\n",
      "100%|██████████| 1384/1384 [00:00<00:00, 1075582.13it/s]\n"
     ]
    },
    {
     "name": "stdout",
     "output_type": "stream",
     "text": [
      "\u001b[34mINFO    \u001b[0m Generating sequential column names                                                                        \n",
      "\u001b[34mINFO    \u001b[0m Generating sequential column names                                                                        \n"
     ]
    },
    {
     "name": "stderr",
     "output_type": "stream",
     "text": [
      "Global seed set to 6977\n",
      "100%|██████████| 2/2 [00:00<00:00, 942.65it/s]\n",
      "GPU available: True (cuda), used: True\n",
      "TPU available: False, using: 0 TPU cores\n",
      "IPU available: False, using: 0 IPUs\n",
      "HPU available: False, using: 0 HPUs\n",
      "You are using a CUDA device ('NVIDIA GeForce RTX 3090') that has Tensor Cores. To properly utilize them, you should set `torch.set_float32_matmul_precision('medium' | 'high')` which will trade-off precision for performance. For more details, read https://pytorch.org/docs/stable/generated/torch.set_float32_matmul_precision.html#torch.set_float32_matmul_precision\n",
      "LOCAL_RANK: 0 - CUDA_VISIBLE_DEVICES: [0,1,2,3]\n",
      "\n",
      "Epoch 00004: cpa_metric reached. Module best state updated.\n",
      "\n",
      "Epoch 00009: cpa_metric reached. Module best state updated.\n"
     ]
    },
    {
     "name": "stdout",
     "output_type": "stream",
     "text": [
      "\n",
      "disnt_basal = 1.7082428765264586\n",
      "disnt_after = 1.7907960199004973\n",
      "val_r2_mean = 0.32188816865285236\n",
      "val_r2_var = -2.432789166768392\n"
     ]
    },
    {
     "name": "stderr",
     "output_type": "stream",
     "text": [
      "\n",
      "Epoch 00014: cpa_metric reached. Module best state updated.\n",
      "\n",
      "Epoch 00019: cpa_metric reached. Module best state updated.\n"
     ]
    },
    {
     "name": "stdout",
     "output_type": "stream",
     "text": [
      "\n",
      "disnt_basal = 1.7127883310719132\n",
      "disnt_after = 1.7907960199004973\n",
      "val_r2_mean = 0.7815403938293457\n",
      "val_r2_var = -2.4346089363098145\n"
     ]
    },
    {
     "name": "stderr",
     "output_type": "stream",
     "text": [
      "\n",
      "Epoch 00024: cpa_metric reached. Module best state updated.\n",
      "\n",
      "Epoch 00029: cpa_metric reached. Module best state updated.\n"
     ]
    },
    {
     "name": "stdout",
     "output_type": "stream",
     "text": [
      "\n",
      "disnt_basal = 1.6939850746268654\n",
      "disnt_after = 1.7863311646893736\n",
      "val_r2_mean = 0.9188138047854105\n",
      "val_r2_var = -2.41943359375\n"
     ]
    },
    {
     "name": "stderr",
     "output_type": "stream",
     "text": [
      "\n",
      "Epoch 00034: cpa_metric reached. Module best state updated.\n"
     ]
    },
    {
     "name": "stdout",
     "output_type": "stream",
     "text": [
      "\n",
      "disnt_basal = 1.697903211216644\n",
      "disnt_after = 1.7638282944253092\n",
      "val_r2_mean = 0.9295396010080973\n",
      "val_r2_var = -2.3889804681142173\n"
     ]
    },
    {
     "name": "stderr",
     "output_type": "stream",
     "text": [
      "\n",
      "Epoch 00049: cpa_metric reached. Module best state updated.\n"
     ]
    },
    {
     "name": "stdout",
     "output_type": "stream",
     "text": [
      "\n",
      "disnt_basal = 1.708815015829941\n",
      "disnt_after = 1.7734723816813367\n",
      "val_r2_mean = 0.9324401418368021\n",
      "val_r2_var = -2.3495686848958335\n"
     ]
    },
    {
     "name": "stderr",
     "output_type": "stream",
     "text": [
      "\n",
      "Epoch 00054: cpa_metric reached. Module best state updated.\n",
      "\n",
      "Epoch 00059: cpa_metric reached. Module best state updated.\n"
     ]
    },
    {
     "name": "stdout",
     "output_type": "stream",
     "text": [
      "\n",
      "disnt_basal = 1.7142582541836273\n",
      "disnt_after = 1.7757941063911211\n",
      "val_r2_mean = 0.9353885253270467\n",
      "val_r2_var = -2.290321667989095\n"
     ]
    },
    {
     "name": "stderr",
     "output_type": "stream",
     "text": [
      "\n",
      "Epoch 00064: cpa_metric reached. Module best state updated.\n",
      "\n",
      "Epoch 00069: cpa_metric reached. Module best state updated.\n"
     ]
    },
    {
     "name": "stdout",
     "output_type": "stream",
     "text": [
      "\n",
      "disnt_basal = 1.7145296246042514\n",
      "disnt_after = 1.772043628013777\n",
      "val_r2_mean = 0.9417128364245096\n",
      "val_r2_var = -2.234018564224243\n"
     ]
    },
    {
     "name": "stderr",
     "output_type": "stream",
     "text": [
      "\n",
      "Epoch 00074: cpa_metric reached. Module best state updated.\n",
      "\n",
      "Epoch 00079: cpa_metric reached. Module best state updated.\n"
     ]
    },
    {
     "name": "stdout",
     "output_type": "stream",
     "text": [
      "\n",
      "disnt_basal = 1.7132075983717774\n",
      "disnt_after = 1.7586490623804056\n",
      "val_r2_mean = 0.9401480555534363\n",
      "val_r2_var = -2.170130968093872\n"
     ]
    },
    {
     "name": "stderr",
     "output_type": "stream",
     "text": [
      "\n",
      "Epoch 00084: cpa_metric reached. Module best state updated.\n",
      "\n",
      "Epoch 00089: cpa_metric reached. Module best state updated.\n"
     ]
    },
    {
     "name": "stdout",
     "output_type": "stream",
     "text": [
      "\n",
      "disnt_basal = 1.7093022417052268\n",
      "disnt_after = 1.7509695114172725\n",
      "val_r2_mean = 0.9456554253896078\n",
      "val_r2_var = -2.117931842803955\n"
     ]
    },
    {
     "name": "stderr",
     "output_type": "stream",
     "text": [
      "\n",
      "Epoch 00094: cpa_metric reached. Module best state updated.\n",
      "\n",
      "Epoch 00099: cpa_metric reached. Module best state updated.\n"
     ]
    },
    {
     "name": "stdout",
     "output_type": "stream",
     "text": [
      "\n",
      "disnt_basal = 1.518632246691948\n",
      "disnt_after = 1.750255134583493\n",
      "val_r2_mean = 0.9531817038853964\n",
      "val_r2_var = -2.0678362051645913\n",
      "\n",
      "disnt_basal = 1.6955884447227731\n",
      "disnt_after = 1.764721265467534\n",
      "val_r2_mean = 0.9370224873224894\n",
      "val_r2_var = -1.983551025390625\n",
      "\n",
      "disnt_basal = 1.6988643959688734\n",
      "disnt_after = 1.767935961219543\n",
      "val_r2_mean = 0.9377460877100626\n",
      "val_r2_var = -1.879076639811198\n"
     ]
    },
    {
     "name": "stderr",
     "output_type": "stream",
     "text": [
      "100%|██████████| 1/1 [00:00<00:00, 25.95it/s]\n",
      "cpa_single_pert:   2%|▏         | 37/2184 [10:15<10:27:11, 17.53s/it]"
     ]
    },
    {
     "name": "stdout",
     "output_type": "stream",
     "text": [
      "Warning: dosage_key is not set. Setting it to \"1.0\" for all cells\n"
     ]
    },
    {
     "name": "stderr",
     "output_type": "stream",
     "text": [
      "100%|██████████| 1524/1524 [00:00<00:00, 80458.67it/s]\n",
      "100%|██████████| 1524/1524 [00:00<00:00, 1042590.00it/s]"
     ]
    },
    {
     "name": "stdout",
     "output_type": "stream",
     "text": [
      "\u001b[34mINFO    \u001b[0m Generating sequential column names                                                                        \n",
      "\u001b[34mINFO    \u001b[0m Generating sequential column names                                                                        \n"
     ]
    },
    {
     "name": "stderr",
     "output_type": "stream",
     "text": [
      "\n",
      "Global seed set to 6977\n",
      "100%|██████████| 2/2 [00:00<00:00, 937.90it/s]\n",
      "GPU available: True (cuda), used: True\n",
      "TPU available: False, using: 0 TPU cores\n",
      "IPU available: False, using: 0 IPUs\n",
      "HPU available: False, using: 0 HPUs\n",
      "You are using a CUDA device ('NVIDIA GeForce RTX 3090') that has Tensor Cores. To properly utilize them, you should set `torch.set_float32_matmul_precision('medium' | 'high')` which will trade-off precision for performance. For more details, read https://pytorch.org/docs/stable/generated/torch.set_float32_matmul_precision.html#torch.set_float32_matmul_precision\n",
      "LOCAL_RANK: 0 - CUDA_VISIBLE_DEVICES: [0,1,2,3]\n",
      "\n",
      "Epoch 00004: cpa_metric reached. Module best state updated.\n",
      "\n",
      "Epoch 00009: cpa_metric reached. Module best state updated.\n"
     ]
    },
    {
     "name": "stdout",
     "output_type": "stream",
     "text": [
      "\n",
      "disnt_basal = 1.6476817042606517\n",
      "disnt_after = 1.9214912280701753\n",
      "val_r2_mean = 0.3356865843137105\n",
      "val_r2_var = -2.6169772942860923\n"
     ]
    },
    {
     "name": "stderr",
     "output_type": "stream",
     "text": [
      "\n",
      "Epoch 00014: cpa_metric reached. Module best state updated.\n",
      "\n",
      "Epoch 00019: cpa_metric reached. Module best state updated.\n"
     ]
    },
    {
     "name": "stdout",
     "output_type": "stream",
     "text": [
      "\n",
      "disnt_basal = 1.6480889724310779\n",
      "disnt_after = 1.9214912280701753\n",
      "val_r2_mean = 0.794481118520101\n",
      "val_r2_var = -2.618765195210775\n"
     ]
    },
    {
     "name": "stderr",
     "output_type": "stream",
     "text": [
      "\n",
      "Epoch 00024: cpa_metric reached. Module best state updated.\n",
      "\n",
      "Epoch 00029: cpa_metric reached. Module best state updated.\n"
     ]
    },
    {
     "name": "stdout",
     "output_type": "stream",
     "text": [
      "\n",
      "disnt_basal = 1.6193809523809524\n",
      "disnt_after = 1.9137183235867448\n",
      "val_r2_mean = 0.933531920115153\n",
      "val_r2_var = -2.5978306929270425\n"
     ]
    },
    {
     "name": "stderr",
     "output_type": "stream",
     "text": [
      "\n",
      "Epoch 00034: cpa_metric reached. Module best state updated.\n",
      "\n",
      "Epoch 00039: cpa_metric reached. Module best state updated.\n"
     ]
    },
    {
     "name": "stdout",
     "output_type": "stream",
     "text": [
      "\n",
      "disnt_basal = 1.6217894736842107\n",
      "disnt_after = 1.9100552306692657\n",
      "val_r2_mean = 0.9462761084238688\n",
      "val_r2_var = -2.5628546873728433\n",
      "\n",
      "disnt_basal = 1.6560150375939848\n",
      "disnt_after = 1.9098765432098765\n",
      "val_r2_mean = 0.9436261455217997\n",
      "val_r2_var = -2.495734532674154\n"
     ]
    },
    {
     "name": "stderr",
     "output_type": "stream",
     "text": [
      "\n",
      "Epoch 00059: cpa_metric reached. Module best state updated.\n"
     ]
    },
    {
     "name": "stdout",
     "output_type": "stream",
     "text": [
      "\n",
      "disnt_basal = 1.6552318295739348\n",
      "disnt_after = 1.9098765432098765\n",
      "val_r2_mean = 0.9451069037119547\n",
      "val_r2_var = -2.424853563308716\n"
     ]
    },
    {
     "name": "stderr",
     "output_type": "stream",
     "text": [
      "\n",
      "Epoch 00064: cpa_metric reached. Module best state updated.\n",
      "\n",
      "Epoch 00069: cpa_metric reached. Module best state updated.\n"
     ]
    },
    {
     "name": "stdout",
     "output_type": "stream",
     "text": [
      "\n",
      "disnt_basal = 1.6492167919799499\n",
      "disnt_after = 1.9098765432098765\n",
      "val_r2_mean = 0.9455073674519857\n",
      "val_r2_var = -2.3550473054250083\n"
     ]
    },
    {
     "name": "stderr",
     "output_type": "stream",
     "text": [
      "\n",
      "Epoch 00074: cpa_metric reached. Module best state updated.\n",
      "\n",
      "Epoch 00079: cpa_metric reached. Module best state updated.\n"
     ]
    },
    {
     "name": "stdout",
     "output_type": "stream",
     "text": [
      "\n",
      "disnt_basal = 1.6441979949874685\n",
      "disnt_after = 1.9098765432098765\n",
      "val_r2_mean = 0.948945144812266\n",
      "val_r2_var = -2.300179402033488\n"
     ]
    },
    {
     "name": "stderr",
     "output_type": "stream",
     "text": [
      "\n",
      "Epoch 00084: cpa_metric reached. Module best state updated.\n",
      "\n",
      "Epoch 00089: cpa_metric reached. Module best state updated.\n"
     ]
    },
    {
     "name": "stdout",
     "output_type": "stream",
     "text": [
      "\n",
      "disnt_basal = 1.6406290726817043\n",
      "disnt_after = 1.9098765432098765\n",
      "val_r2_mean = 0.9596871336301168\n",
      "val_r2_var = -2.272189219792684\n"
     ]
    },
    {
     "name": "stderr",
     "output_type": "stream",
     "text": [
      "\n",
      "Epoch 00094: cpa_metric reached. Module best state updated.\n",
      "\n",
      "Epoch 00099: cpa_metric reached. Module best state updated.\n"
     ]
    },
    {
     "name": "stdout",
     "output_type": "stream",
     "text": [
      "\n",
      "disnt_basal = 1.643777824190105\n",
      "disnt_after = 1.9098765432098765\n",
      "val_r2_mean = 0.958449920018514\n",
      "val_r2_var = -2.1867775917053223\n"
     ]
    },
    {
     "name": "stderr",
     "output_type": "stream",
     "text": [
      "\n",
      "Epoch 00104: cpa_metric reached. Module best state updated.\n",
      "\n",
      "Epoch 00109: cpa_metric reached. Module best state updated.\n"
     ]
    },
    {
     "name": "stdout",
     "output_type": "stream",
     "text": [
      "\n",
      "disnt_basal = 1.6110033416875522\n",
      "disnt_after = 1.9098765432098765\n",
      "val_r2_mean = 0.9405744671821594\n",
      "val_r2_var = -2.124051094055176\n"
     ]
    },
    {
     "name": "stderr",
     "output_type": "stream",
     "text": [
      "\n",
      "Epoch 00114: cpa_metric reached. Module best state updated.\n"
     ]
    },
    {
     "name": "stdout",
     "output_type": "stream",
     "text": [
      "\n",
      "disnt_basal = 1.635260280330456\n",
      "disnt_after = 1.9158625730994152\n",
      "val_r2_mean = 0.9547902941703796\n",
      "val_r2_var = -2.1309216022491455\n",
      "\n",
      "disnt_basal = 1.65784335839599\n",
      "disnt_after = 1.919525666016894\n",
      "val_r2_mean = 0.9515783389409384\n",
      "val_r2_var = -1.9321650664011638\n",
      "\n",
      "disnt_basal = 1.6472994987468672\n",
      "disnt_after = 1.9191682910981156\n",
      "val_r2_mean = 0.9548614025115967\n",
      "val_r2_var = -1.8410189151763916\n"
     ]
    },
    {
     "name": "stderr",
     "output_type": "stream",
     "text": [
      "100%|██████████| 1/1 [00:00<00:00, 21.52it/s]\n",
      "cpa_single_pert:   2%|▏         | 38/2184 [10:29<9:49:12, 16.47s/it] "
     ]
    },
    {
     "name": "stdout",
     "output_type": "stream",
     "text": [
      "Warning: dosage_key is not set. Setting it to \"1.0\" for all cells\n"
     ]
    },
    {
     "name": "stderr",
     "output_type": "stream",
     "text": [
      "100%|██████████| 1342/1342 [00:00<00:00, 79834.85it/s]\n",
      "100%|██████████| 1342/1342 [00:00<00:00, 1115488.70it/s]"
     ]
    },
    {
     "name": "stdout",
     "output_type": "stream",
     "text": [
      "\u001b[34mINFO    \u001b[0m Generating sequential column names                                                                        \n",
      "\u001b[34mINFO    \u001b[0m Generating sequential column names                                                                        \n"
     ]
    },
    {
     "name": "stderr",
     "output_type": "stream",
     "text": [
      "\n",
      "Global seed set to 6977\n",
      "100%|██████████| 2/2 [00:00<00:00, 674.43it/s]\n",
      "GPU available: True (cuda), used: True\n",
      "TPU available: False, using: 0 TPU cores\n",
      "IPU available: False, using: 0 IPUs\n",
      "HPU available: False, using: 0 HPUs\n",
      "You are using a CUDA device ('NVIDIA GeForce RTX 3090') that has Tensor Cores. To properly utilize them, you should set `torch.set_float32_matmul_precision('medium' | 'high')` which will trade-off precision for performance. For more details, read https://pytorch.org/docs/stable/generated/torch.set_float32_matmul_precision.html#torch.set_float32_matmul_precision\n",
      "LOCAL_RANK: 0 - CUDA_VISIBLE_DEVICES: [0,1,2,3]\n",
      "\n",
      "Epoch 00004: cpa_metric reached. Module best state updated.\n",
      "\n",
      "Epoch 00009: cpa_metric reached. Module best state updated.\n"
     ]
    },
    {
     "name": "stdout",
     "output_type": "stream",
     "text": [
      "\n",
      "disnt_basal = 1.7065656565656566\n",
      "disnt_after = 1.7398989898989898\n",
      "val_r2_mean = 0.30735133091608685\n",
      "val_r2_var = -2.3979581197102866\n"
     ]
    },
    {
     "name": "stderr",
     "output_type": "stream",
     "text": [
      "\n",
      "Epoch 00014: cpa_metric reached. Module best state updated.\n",
      "\n",
      "Epoch 00019: cpa_metric reached. Module best state updated.\n"
     ]
    },
    {
     "name": "stdout",
     "output_type": "stream",
     "text": [
      "\n",
      "disnt_basal = 1.7084396597554492\n",
      "disnt_after = 1.7398989898989898\n",
      "val_r2_mean = 0.7711598873138428\n",
      "val_r2_var = -2.399221420288086\n"
     ]
    },
    {
     "name": "stderr",
     "output_type": "stream",
     "text": [
      "\n",
      "Epoch 00024: cpa_metric reached. Module best state updated.\n",
      "\n",
      "Epoch 00029: cpa_metric reached. Module best state updated.\n"
     ]
    },
    {
     "name": "stdout",
     "output_type": "stream",
     "text": [
      "\n",
      "disnt_basal = 1.6985589702694965\n",
      "disnt_after = 1.71489898989899\n",
      "val_r2_mean = 0.9087949395179749\n",
      "val_r2_var = -2.3820042610168457\n"
     ]
    },
    {
     "name": "stderr",
     "output_type": "stream",
     "text": [
      "\n",
      "Epoch 00034: cpa_metric reached. Module best state updated.\n",
      "\n",
      "Epoch 00039: cpa_metric reached. Module best state updated.\n"
     ]
    },
    {
     "name": "stdout",
     "output_type": "stream",
     "text": [
      "\n",
      "disnt_basal = 1.6960628552733816\n",
      "disnt_after = 1.6845959595959596\n",
      "val_r2_mean = 0.9263973037401835\n",
      "val_r2_var = -2.3436620235443115\n"
     ]
    },
    {
     "name": "stderr",
     "output_type": "stream",
     "text": [
      "\n",
      "Epoch 00044: cpa_metric reached. Module best state updated.\n",
      "\n",
      "Epoch 00049: cpa_metric reached. Module best state updated.\n"
     ]
    },
    {
     "name": "stdout",
     "output_type": "stream",
     "text": [
      "\n",
      "disnt_basal = 1.7036161207213838\n",
      "disnt_after = 1.6797979797979798\n",
      "val_r2_mean = 0.923003077507019\n",
      "val_r2_var = -2.2997759183247886\n"
     ]
    },
    {
     "name": "stderr",
     "output_type": "stream",
     "text": [
      "\n",
      "Epoch 00054: cpa_metric reached. Module best state updated.\n",
      "\n",
      "Epoch 00059: cpa_metric reached. Module best state updated.\n"
     ]
    },
    {
     "name": "stdout",
     "output_type": "stream",
     "text": [
      "\n",
      "disnt_basal = 1.7119484316852738\n",
      "disnt_after = 1.6797979797979798\n",
      "val_r2_mean = 0.9234435359636942\n",
      "val_r2_var = -2.2307563622792563\n"
     ]
    },
    {
     "name": "stderr",
     "output_type": "stream",
     "text": [
      "\n",
      "Epoch 00064: cpa_metric reached. Module best state updated.\n",
      "\n",
      "Epoch 00069: cpa_metric reached. Module best state updated.\n"
     ]
    },
    {
     "name": "stdout",
     "output_type": "stream",
     "text": [
      "\n",
      "disnt_basal = 1.7087274567537725\n",
      "disnt_after = 1.6797979797979798\n",
      "val_r2_mean = 0.9340178569157919\n",
      "val_r2_var = -2.150183916091919\n"
     ]
    },
    {
     "name": "stderr",
     "output_type": "stream",
     "text": [
      "\n",
      "Epoch 00074: cpa_metric reached. Module best state updated.\n",
      "\n",
      "Epoch 00079: cpa_metric reached. Module best state updated.\n"
     ]
    },
    {
     "name": "stdout",
     "output_type": "stream",
     "text": [
      "\n",
      "disnt_basal = 1.7078339058602217\n",
      "disnt_after = 1.6797979797979798\n",
      "val_r2_mean = 0.9352787931760153\n",
      "val_r2_var = -2.065797726313273\n"
     ]
    },
    {
     "name": "stderr",
     "output_type": "stream",
     "text": [
      "\n",
      "Epoch 00084: cpa_metric reached. Module best state updated.\n",
      "\n",
      "Epoch 00089: cpa_metric reached. Module best state updated.\n"
     ]
    },
    {
     "name": "stdout",
     "output_type": "stream",
     "text": [
      "\n",
      "disnt_basal = 1.6842406862143704\n",
      "disnt_after = 1.6797979797979798\n",
      "val_r2_mean = 0.9440385897954305\n",
      "val_r2_var = -1.9830148220062256\n"
     ]
    },
    {
     "name": "stderr",
     "output_type": "stream",
     "text": [
      "\n",
      "Epoch 00094: cpa_metric reached. Module best state updated.\n",
      "\n",
      "Epoch 00099: cpa_metric reached. Module best state updated.\n"
     ]
    },
    {
     "name": "stdout",
     "output_type": "stream",
     "text": [
      "\n",
      "disnt_basal = 1.442345008792377\n",
      "disnt_after = 1.6797979797979798\n",
      "val_r2_mean = 0.9342739582061768\n",
      "val_r2_var = -1.9567835330963135\n",
      "\n",
      "disnt_basal = 1.6948886639676113\n",
      "disnt_after = 1.6866161616161617\n",
      "val_r2_mean = 0.9324008027712504\n",
      "val_r2_var = -1.820184866587321\n",
      "\n",
      "disnt_basal = 1.6512886966834337\n",
      "disnt_after = 1.68510101010101\n",
      "val_r2_mean = 0.9425960779190063\n",
      "val_r2_var = -1.726441224416097\n"
     ]
    },
    {
     "name": "stderr",
     "output_type": "stream",
     "text": [
      "100%|██████████| 1/1 [00:00<00:00, 32.77it/s]\n",
      "cpa_single_pert:   2%|▏         | 39/2184 [10:42<9:02:50, 15.18s/it]"
     ]
    },
    {
     "name": "stdout",
     "output_type": "stream",
     "text": [
      "Warning: dosage_key is not set. Setting it to \"1.0\" for all cells\n"
     ]
    },
    {
     "name": "stderr",
     "output_type": "stream",
     "text": [
      "100%|██████████| 1200/1200 [00:00<00:00, 47674.74it/s]\n",
      "100%|██████████| 1200/1200 [00:00<00:00, 665586.46it/s]"
     ]
    },
    {
     "name": "stdout",
     "output_type": "stream",
     "text": [
      "\u001b[34mINFO    \u001b[0m Generating sequential column names                                                                        \n",
      "\u001b[34mINFO    \u001b[0m Generating sequential column names                                                                        \n"
     ]
    },
    {
     "name": "stderr",
     "output_type": "stream",
     "text": [
      "\n",
      "Global seed set to 6977\n",
      "100%|██████████| 2/2 [00:00<00:00, 749.45it/s]\n",
      "GPU available: True (cuda), used: True\n",
      "TPU available: False, using: 0 TPU cores\n",
      "IPU available: False, using: 0 IPUs\n",
      "HPU available: False, using: 0 HPUs\n",
      "You are using a CUDA device ('NVIDIA GeForce RTX 3090') that has Tensor Cores. To properly utilize them, you should set `torch.set_float32_matmul_precision('medium' | 'high')` which will trade-off precision for performance. For more details, read https://pytorch.org/docs/stable/generated/torch.set_float32_matmul_precision.html#torch.set_float32_matmul_precision\n",
      "LOCAL_RANK: 0 - CUDA_VISIBLE_DEVICES: [0,1,2,3]\n",
      "\n",
      "Epoch 00004: cpa_metric reached. Module best state updated.\n",
      "\n",
      "Epoch 00009: cpa_metric reached. Module best state updated.\n"
     ]
    },
    {
     "name": "stdout",
     "output_type": "stream",
     "text": [
      "\n",
      "disnt_basal = 1.4724137931034482\n",
      "disnt_after = 1.4724137931034482\n",
      "val_r2_mean = 0.2854882876078288\n",
      "val_r2_var = -2.1569059689839682\n"
     ]
    },
    {
     "name": "stderr",
     "output_type": "stream",
     "text": [
      "\n",
      "Epoch 00014: cpa_metric reached. Module best state updated.\n",
      "\n",
      "Epoch 00019: cpa_metric reached. Module best state updated.\n"
     ]
    },
    {
     "name": "stdout",
     "output_type": "stream",
     "text": [
      "\n",
      "disnt_basal = 1.4724137931034482\n",
      "disnt_after = 1.471867816091954\n",
      "val_r2_mean = 0.7545482118924459\n",
      "val_r2_var = -2.158172369003296\n"
     ]
    },
    {
     "name": "stderr",
     "output_type": "stream",
     "text": [
      "\n",
      "Epoch 00024: cpa_metric reached. Module best state updated.\n",
      "\n",
      "Epoch 00029: cpa_metric reached. Module best state updated.\n"
     ]
    },
    {
     "name": "stdout",
     "output_type": "stream",
     "text": [
      "\n",
      "disnt_basal = 1.4724137931034482\n",
      "disnt_after = 1.4724137931034482\n",
      "val_r2_mean = 0.8900537689526876\n",
      "val_r2_var = -2.147404670715332\n"
     ]
    },
    {
     "name": "stderr",
     "output_type": "stream",
     "text": [
      "\n",
      "Epoch 00034: cpa_metric reached. Module best state updated.\n"
     ]
    },
    {
     "name": "stdout",
     "output_type": "stream",
     "text": [
      "\n",
      "disnt_basal = 1.4724137931034482\n",
      "disnt_after = 1.4396551724137931\n",
      "val_r2_mean = 0.9033295114835104\n",
      "val_r2_var = -2.1236544450124106\n",
      "\n",
      "disnt_basal = 1.4724137931034482\n",
      "disnt_after = 1.42\n",
      "val_r2_mean = 0.9081450899442037\n",
      "val_r2_var = -2.087268352508545\n"
     ]
    },
    {
     "name": "stderr",
     "output_type": "stream",
     "text": [
      "\n",
      "Epoch 00054: cpa_metric reached. Module best state updated.\n",
      "\n",
      "Epoch 00059: cpa_metric reached. Module best state updated.\n"
     ]
    },
    {
     "name": "stdout",
     "output_type": "stream",
     "text": [
      "\n",
      "disnt_basal = 1.4724137931034482\n",
      "disnt_after = 1.42\n",
      "val_r2_mean = 0.9199134111404419\n",
      "val_r2_var = -2.034167448679606\n"
     ]
    },
    {
     "name": "stderr",
     "output_type": "stream",
     "text": [
      "\n",
      "Epoch 00064: cpa_metric reached. Module best state updated.\n",
      "\n",
      "Epoch 00069: cpa_metric reached. Module best state updated.\n"
     ]
    },
    {
     "name": "stdout",
     "output_type": "stream",
     "text": [
      "\n",
      "disnt_basal = 1.4565268199233716\n",
      "disnt_after = 1.42\n",
      "val_r2_mean = 0.9203456044197083\n",
      "val_r2_var = -1.9845216274261475\n"
     ]
    },
    {
     "name": "stderr",
     "output_type": "stream",
     "text": [
      "\n",
      "Epoch 00074: cpa_metric reached. Module best state updated.\n"
     ]
    },
    {
     "name": "stdout",
     "output_type": "stream",
     "text": [
      "\n",
      "disnt_basal = 1.4537164750957854\n",
      "disnt_after = 1.4260057471264367\n",
      "val_r2_mean = 0.9134201407432556\n",
      "val_r2_var = -1.9303817749023438\n"
     ]
    },
    {
     "name": "stderr",
     "output_type": "stream",
     "text": [
      "\n",
      "Epoch 00084: cpa_metric reached. Module best state updated.\n",
      "\n",
      "Epoch 00089: cpa_metric reached. Module best state updated.\n"
     ]
    },
    {
     "name": "stdout",
     "output_type": "stream",
     "text": [
      "\n",
      "disnt_basal = 1.4106302681992338\n",
      "disnt_after = 1.4494827586206895\n",
      "val_r2_mean = 0.9193650881449381\n",
      "val_r2_var = -1.8470563888549805\n"
     ]
    },
    {
     "name": "stderr",
     "output_type": "stream",
     "text": [
      "\n",
      "Epoch 00094: cpa_metric reached. Module best state updated.\n"
     ]
    },
    {
     "name": "stdout",
     "output_type": "stream",
     "text": [
      "\n",
      "disnt_basal = 1.4161743295019158\n",
      "disnt_after = 1.4216379310344824\n",
      "val_r2_mean = 0.9054044087727865\n",
      "val_r2_var = -1.8250211874643962\n",
      "\n",
      "disnt_basal = 1.387800766283525\n",
      "disnt_after = 1.4210919540229885\n",
      "val_r2_mean = 0.9167782266934713\n",
      "val_r2_var = -1.7473111152648926\n"
     ]
    },
    {
     "name": "stderr",
     "output_type": "stream",
     "text": [
      "\n",
      "Epoch 00114: cpa_metric reached. Module best state updated.\n",
      "\n",
      "Epoch 00119: cpa_metric reached. Module best state updated.\n"
     ]
    },
    {
     "name": "stdout",
     "output_type": "stream",
     "text": [
      "\n",
      "disnt_basal = 1.230250957854406\n",
      "disnt_after = 1.422183908045977\n",
      "val_r2_mean = 0.9127552310625712\n",
      "val_r2_var = -1.6622037887573242\n"
     ]
    },
    {
     "name": "stderr",
     "output_type": "stream",
     "text": [
      "\n",
      "Epoch 00124: cpa_metric reached. Module best state updated.\n"
     ]
    },
    {
     "name": "stdout",
     "output_type": "stream",
     "text": [
      "\n",
      "disnt_basal = 1.1744099616858237\n",
      "disnt_after = 1.4260057471264367\n",
      "val_r2_mean = 0.9208822449048361\n",
      "val_r2_var = -1.5953550338745117\n",
      "\n",
      "disnt_basal = 1.1960881226053641\n",
      "disnt_after = 1.4281896551724138\n",
      "val_r2_mean = 0.922776977221171\n",
      "val_r2_var = -1.5346468289693196\n"
     ]
    },
    {
     "name": "stderr",
     "output_type": "stream",
     "text": [
      "\n",
      "Epoch 00144: cpa_metric reached. Module best state updated.\n",
      "\n",
      "Epoch 00149: cpa_metric reached. Module best state updated.\n"
     ]
    },
    {
     "name": "stdout",
     "output_type": "stream",
     "text": [
      "\n",
      "disnt_basal = 1.0984444444444446\n",
      "disnt_after = 1.424367816091954\n",
      "val_r2_mean = 0.9277490178743998\n",
      "val_r2_var = -1.4827464421590169\n",
      "\n",
      "disnt_basal = 1.131256704980843\n",
      "disnt_after = 1.4238218390804596\n",
      "val_r2_mean = 0.9183834195137024\n",
      "val_r2_var = -1.4340113798777263\n"
     ]
    },
    {
     "name": "stderr",
     "output_type": "stream",
     "text": [
      "\n",
      "Epoch 00164: cpa_metric reached. Module best state updated.\n"
     ]
    },
    {
     "name": "stdout",
     "output_type": "stream",
     "text": [
      "\n",
      "disnt_basal = 1.0991896551724136\n",
      "disnt_after = 1.4227298850574712\n",
      "val_r2_mean = 0.9318670829137167\n",
      "val_r2_var = -1.382994810740153\n"
     ]
    },
    {
     "name": "stderr",
     "output_type": "stream",
     "text": [
      "\n",
      "Epoch 00174: cpa_metric reached. Module best state updated.\n",
      "\n",
      "Epoch 00179: cpa_metric reached. Module best state updated.\n"
     ]
    },
    {
     "name": "stdout",
     "output_type": "stream",
     "text": [
      "\n",
      "disnt_basal = 1.0425613026819924\n",
      "disnt_after = 1.424367816091954\n",
      "val_r2_mean = 0.9320949713389078\n",
      "val_r2_var = -1.3292584419250488\n"
     ]
    },
    {
     "name": "stderr",
     "output_type": "stream",
     "text": [
      "\n",
      "Epoch 00189: cpa_metric reached. Module best state updated.\n"
     ]
    },
    {
     "name": "stdout",
     "output_type": "stream",
     "text": [
      "\n",
      "disnt_basal = 1.037704980842912\n",
      "disnt_after = 1.424367816091954\n",
      "val_r2_mean = 0.9288763205210367\n",
      "val_r2_var = -1.2703559398651123\n",
      "\n",
      "disnt_basal = 1.0455555555555556\n",
      "disnt_after = 1.4249137931034483\n",
      "val_r2_mean = 0.9277613162994385\n",
      "val_r2_var = -1.266111175219218\n"
     ]
    },
    {
     "name": "stderr",
     "output_type": "stream",
     "text": [
      "\n",
      "Epoch 00209: cpa_metric reached. Module best state updated.\n"
     ]
    },
    {
     "name": "stdout",
     "output_type": "stream",
     "text": [
      "\n",
      "disnt_basal = 1.0389233716475097\n",
      "disnt_after = 1.4249137931034483\n",
      "val_r2_mean = 0.9314190745353699\n",
      "val_r2_var = -1.20913827419281\n"
     ]
    },
    {
     "name": "stderr",
     "output_type": "stream",
     "text": [
      "\n",
      "Epoch 00214: cpa_metric reached. Module best state updated.\n"
     ]
    },
    {
     "name": "stdout",
     "output_type": "stream",
     "text": [
      "\n",
      "disnt_basal = 1.0517509578544062\n",
      "disnt_after = 1.4238218390804596\n",
      "val_r2_mean = 0.9243671695391337\n",
      "val_r2_var = -1.1926218271255493\n",
      "\n",
      "disnt_basal = 1.0598467432950192\n",
      "disnt_after = 1.4238218390804596\n",
      "val_r2_mean = 0.9306682745615641\n",
      "val_r2_var = -1.1889361540476482\n"
     ]
    },
    {
     "name": "stderr",
     "output_type": "stream",
     "text": [
      "\n",
      "Epoch 00239: cpa_metric reached. Module best state updated.\n"
     ]
    },
    {
     "name": "stdout",
     "output_type": "stream",
     "text": [
      "\n",
      "disnt_basal = 1.030300766283525\n",
      "disnt_after = 1.4238218390804596\n",
      "val_r2_mean = 0.9327283898989359\n",
      "val_r2_var = -1.150606910387675\n",
      "\n",
      "disnt_basal = 1.0660249042145593\n",
      "disnt_after = 1.424367816091954\n",
      "val_r2_mean = 0.9266292055447897\n",
      "val_r2_var = -1.1432095368703206\n"
     ]
    },
    {
     "name": "stderr",
     "output_type": "stream",
     "text": [
      "\n",
      "Epoch 00254: cpa_metric reached. Module best state updated.\n",
      "\n",
      "Epoch 00259: cpa_metric reached. Module best state updated.\n"
     ]
    },
    {
     "name": "stdout",
     "output_type": "stream",
     "text": [
      "\n",
      "disnt_basal = 1.0375862068965516\n",
      "disnt_after = 1.4254597701149425\n",
      "val_r2_mean = 0.9265593687693278\n",
      "val_r2_var = -1.085330327351888\n"
     ]
    },
    {
     "name": "stderr",
     "output_type": "stream",
     "text": [
      "\n",
      "Epoch 00264: cpa_metric reached. Module best state updated.\n",
      "\n",
      "Epoch 00269: cpa_metric reached. Module best state updated.\n"
     ]
    },
    {
     "name": "stdout",
     "output_type": "stream",
     "text": [
      "\n",
      "disnt_basal = 1.0220402298850575\n",
      "disnt_after = 1.424367816091954\n",
      "val_r2_mean = 0.9317479133605957\n",
      "val_r2_var = -1.0857720772425334\n",
      "\n",
      "disnt_basal = 1.0341494252873562\n",
      "disnt_after = 1.4260057471264367\n",
      "val_r2_mean = 0.9308292667071024\n",
      "val_r2_var = -1.0931244293848674\n",
      "\n",
      "disnt_basal = 1.0419252873563218\n",
      "disnt_after = 1.4238218390804596\n",
      "val_r2_mean = 0.9291637539863586\n",
      "val_r2_var = -1.1020429531733196\n"
     ]
    },
    {
     "name": "stderr",
     "output_type": "stream",
     "text": [
      "100%|██████████| 1/1 [00:00<00:00, 24.05it/s]\n",
      "cpa_single_pert:   2%|▏         | 40/2184 [11:09<11:13:50, 18.86s/it]"
     ]
    },
    {
     "name": "stdout",
     "output_type": "stream",
     "text": [
      "Warning: dosage_key is not set. Setting it to \"1.0\" for all cells\n"
     ]
    },
    {
     "name": "stderr",
     "output_type": "stream",
     "text": [
      "100%|██████████| 1438/1438 [00:00<00:00, 80437.02it/s]\n",
      "100%|██████████| 1438/1438 [00:00<00:00, 1083421.80it/s]\n"
     ]
    },
    {
     "name": "stdout",
     "output_type": "stream",
     "text": [
      "\u001b[34mINFO    \u001b[0m Generating sequential column names                                                                        \n",
      "\u001b[34mINFO    \u001b[0m Generating sequential column names                                                                        \n"
     ]
    },
    {
     "name": "stderr",
     "output_type": "stream",
     "text": [
      "Global seed set to 6977\n",
      "100%|██████████| 2/2 [00:00<00:00, 942.12it/s]\n",
      "GPU available: True (cuda), used: True\n",
      "TPU available: False, using: 0 TPU cores\n",
      "IPU available: False, using: 0 IPUs\n",
      "HPU available: False, using: 0 HPUs\n",
      "You are using a CUDA device ('NVIDIA GeForce RTX 3090') that has Tensor Cores. To properly utilize them, you should set `torch.set_float32_matmul_precision('medium' | 'high')` which will trade-off precision for performance. For more details, read https://pytorch.org/docs/stable/generated/torch.set_float32_matmul_precision.html#torch.set_float32_matmul_precision\n",
      "LOCAL_RANK: 0 - CUDA_VISIBLE_DEVICES: [0,1,2,3]\n",
      "\n",
      "Epoch 00004: cpa_metric reached. Module best state updated.\n",
      "\n",
      "Epoch 00009: cpa_metric reached. Module best state updated.\n"
     ]
    },
    {
     "name": "stdout",
     "output_type": "stream",
     "text": [
      "\n",
      "disnt_basal = 1.6435701163502756\n",
      "disnt_after = 1.8234741784037558\n",
      "val_r2_mean = 0.3149514396985372\n",
      "val_r2_var = -2.451725800832113\n"
     ]
    },
    {
     "name": "stderr",
     "output_type": "stream",
     "text": [
      "\n",
      "Epoch 00014: cpa_metric reached. Module best state updated.\n",
      "\n",
      "Epoch 00019: cpa_metric reached. Module best state updated.\n"
     ]
    },
    {
     "name": "stdout",
     "output_type": "stream",
     "text": [
      "\n",
      "disnt_basal = 1.6519902020820576\n",
      "disnt_after = 1.8234741784037558\n",
      "val_r2_mean = 0.7842726906140646\n",
      "val_r2_var = -2.4531131585439048\n"
     ]
    },
    {
     "name": "stderr",
     "output_type": "stream",
     "text": [
      "\n",
      "Epoch 00024: cpa_metric reached. Module best state updated.\n",
      "\n",
      "Epoch 00029: cpa_metric reached. Module best state updated.\n"
     ]
    },
    {
     "name": "stdout",
     "output_type": "stream",
     "text": [
      "\n",
      "disnt_basal = 1.6554194733619105\n",
      "disnt_after = 1.818753827311696\n",
      "val_r2_mean = 0.9337297280629476\n",
      "val_r2_var = -2.4407875537872314\n"
     ]
    },
    {
     "name": "stderr",
     "output_type": "stream",
     "text": [
      "\n",
      "Epoch 00034: cpa_metric reached. Module best state updated.\n",
      "\n",
      "Epoch 00039: cpa_metric reached. Module best state updated.\n"
     ]
    },
    {
     "name": "stdout",
     "output_type": "stream",
     "text": [
      "\n",
      "disnt_basal = 1.6555011226780976\n",
      "disnt_after = 1.7999999999999998\n",
      "val_r2_mean = 0.9500730037689209\n",
      "val_r2_var = -2.408998648325602\n"
     ]
    },
    {
     "name": "stderr",
     "output_type": "stream",
     "text": [
      "\n",
      "Epoch 00049: cpa_metric reached. Module best state updated.\n"
     ]
    },
    {
     "name": "stdout",
     "output_type": "stream",
     "text": [
      "\n",
      "disnt_basal = 1.6612573994692794\n",
      "disnt_after = 1.7999999999999998\n",
      "val_r2_mean = 0.9358778198560079\n",
      "val_r2_var = -2.3580544789632163\n"
     ]
    },
    {
     "name": "stderr",
     "output_type": "stream",
     "text": [
      "\n",
      "Epoch 00054: cpa_metric reached. Module best state updated.\n",
      "\n",
      "Epoch 00059: cpa_metric reached. Module best state updated.\n"
     ]
    },
    {
     "name": "stdout",
     "output_type": "stream",
     "text": [
      "\n",
      "disnt_basal = 1.6642784241681976\n",
      "disnt_after = 1.7999999999999998\n",
      "val_r2_mean = 0.9426230192184448\n",
      "val_r2_var = -2.297736724217733\n"
     ]
    },
    {
     "name": "stderr",
     "output_type": "stream",
     "text": [
      "\n",
      "Epoch 00064: cpa_metric reached. Module best state updated.\n",
      "\n",
      "Epoch 00069: cpa_metric reached. Module best state updated.\n"
     ]
    },
    {
     "name": "stdout",
     "output_type": "stream",
     "text": [
      "\n",
      "disnt_basal = 1.669585629720351\n",
      "disnt_after = 1.8005103082261686\n",
      "val_r2_mean = 0.9372543692588806\n",
      "val_r2_var = -2.239373763402303\n"
     ]
    },
    {
     "name": "stderr",
     "output_type": "stream",
     "text": [
      "\n",
      "Epoch 00074: cpa_metric reached. Module best state updated.\n",
      "\n",
      "Epoch 00079: cpa_metric reached. Module best state updated.\n"
     ]
    },
    {
     "name": "stdout",
     "output_type": "stream",
     "text": [
      "\n",
      "disnt_basal = 1.6642784241681976\n",
      "disnt_after = 1.7999999999999998\n",
      "val_r2_mean = 0.9351919094721476\n",
      "val_r2_var = -2.179274797439575\n"
     ]
    },
    {
     "name": "stderr",
     "output_type": "stream",
     "text": [
      "\n",
      "Epoch 00084: cpa_metric reached. Module best state updated.\n",
      "\n",
      "Epoch 00089: cpa_metric reached. Module best state updated.\n"
     ]
    },
    {
     "name": "stdout",
     "output_type": "stream",
     "text": [
      "\n",
      "disnt_basal = 1.6693713002653603\n",
      "disnt_after = 1.8002551541130842\n",
      "val_r2_mean = 0.9456000725428263\n",
      "val_r2_var = -2.128601551055908\n"
     ]
    },
    {
     "name": "stderr",
     "output_type": "stream",
     "text": [
      "\n",
      "Epoch 00094: cpa_metric reached. Module best state updated.\n",
      "\n",
      "Epoch 00099: cpa_metric reached. Module best state updated.\n"
     ]
    },
    {
     "name": "stdout",
     "output_type": "stream",
     "text": [
      "\n",
      "disnt_basal = 1.6570639416207391\n",
      "disnt_after = 1.8001275770565421\n",
      "val_r2_mean = 0.9515374104181925\n",
      "val_r2_var = -2.044280211130778\n"
     ]
    },
    {
     "name": "stderr",
     "output_type": "stream",
     "text": [
      "\n",
      "Epoch 00104: cpa_metric reached. Module best state updated.\n",
      "\n",
      "Epoch 00109: cpa_metric reached. Module best state updated.\n"
     ]
    },
    {
     "name": "stdout",
     "output_type": "stream",
     "text": [
      "\n",
      "disnt_basal = 1.3075176906851738\n",
      "disnt_after = 1.8005103082261686\n",
      "val_r2_mean = 0.9444850484530131\n",
      "val_r2_var = -1.9788976510365803\n",
      "\n",
      "disnt_basal = 1.6500918554807105\n",
      "disnt_after = 1.8178607879159012\n",
      "val_r2_mean = 0.9383877515792847\n",
      "val_r2_var = -1.8967369397481282\n",
      "\n",
      "disnt_basal = 1.659399664897598\n",
      "disnt_after = 1.8163298632373954\n",
      "val_r2_mean = 0.9459583759307861\n",
      "val_r2_var = -1.762426773707072\n"
     ]
    },
    {
     "name": "stderr",
     "output_type": "stream",
     "text": [
      "100%|██████████| 1/1 [00:00<00:00, 24.00it/s]\n",
      "cpa_single_pert:   2%|▏         | 41/2184 [11:23<10:22:03, 17.42s/it]"
     ]
    },
    {
     "name": "stdout",
     "output_type": "stream",
     "text": [
      "Warning: dosage_key is not set. Setting it to \"1.0\" for all cells\n"
     ]
    },
    {
     "name": "stderr",
     "output_type": "stream",
     "text": [
      "100%|██████████| 1300/1300 [00:00<00:00, 80065.13it/s]\n",
      "100%|██████████| 1300/1300 [00:00<00:00, 799969.95it/s]"
     ]
    },
    {
     "name": "stdout",
     "output_type": "stream",
     "text": [
      "\u001b[34mINFO    \u001b[0m Generating sequential column names                                                                        \n",
      "\u001b[34mINFO    \u001b[0m Generating sequential column names                                                                        \n"
     ]
    },
    {
     "name": "stderr",
     "output_type": "stream",
     "text": [
      "\n",
      "Global seed set to 6977\n",
      "100%|██████████| 2/2 [00:00<00:00, 880.14it/s]\n",
      "GPU available: True (cuda), used: True\n",
      "TPU available: False, using: 0 TPU cores\n",
      "IPU available: False, using: 0 IPUs\n",
      "HPU available: False, using: 0 HPUs\n",
      "You are using a CUDA device ('NVIDIA GeForce RTX 3090') that has Tensor Cores. To properly utilize them, you should set `torch.set_float32_matmul_precision('medium' | 'high')` which will trade-off precision for performance. For more details, read https://pytorch.org/docs/stable/generated/torch.set_float32_matmul_precision.html#torch.set_float32_matmul_precision\n",
      "LOCAL_RANK: 0 - CUDA_VISIBLE_DEVICES: [0,1,2,3]\n",
      "\n",
      "Epoch 00004: cpa_metric reached. Module best state updated.\n",
      "\n",
      "Epoch 00009: cpa_metric reached. Module best state updated.\n"
     ]
    },
    {
     "name": "stdout",
     "output_type": "stream",
     "text": [
      "\n",
      "disnt_basal = 1.655026455026455\n",
      "disnt_after = 1.655026455026455\n",
      "val_r2_mean = 0.28868240118026733\n",
      "val_r2_var = -2.1998306115468345\n"
     ]
    },
    {
     "name": "stderr",
     "output_type": "stream",
     "text": [
      "\n",
      "Epoch 00014: cpa_metric reached. Module best state updated.\n",
      "\n",
      "Epoch 00019: cpa_metric reached. Module best state updated.\n"
     ]
    },
    {
     "name": "stdout",
     "output_type": "stream",
     "text": [
      "\n",
      "disnt_basal = 1.655026455026455\n",
      "disnt_after = 1.655026455026455\n",
      "val_r2_mean = 0.7593177556991577\n",
      "val_r2_var = -2.199819008509318\n"
     ]
    },
    {
     "name": "stderr",
     "output_type": "stream",
     "text": [
      "\n",
      "Epoch 00024: cpa_metric reached. Module best state updated.\n",
      "\n",
      "Epoch 00029: cpa_metric reached. Module best state updated.\n"
     ]
    },
    {
     "name": "stdout",
     "output_type": "stream",
     "text": [
      "\n",
      "disnt_basal = 1.655026455026455\n",
      "disnt_after = 1.6282186948853616\n",
      "val_r2_mean = 0.9074740608533224\n",
      "val_r2_var = -2.1835307280222573\n"
     ]
    },
    {
     "name": "stderr",
     "output_type": "stream",
     "text": [
      "\n",
      "Epoch 00039: cpa_metric reached. Module best state updated.\n"
     ]
    },
    {
     "name": "stdout",
     "output_type": "stream",
     "text": [
      "\n",
      "disnt_basal = 1.655026455026455\n",
      "disnt_after = 1.5950617283950617\n",
      "val_r2_mean = 0.9282337228457133\n",
      "val_r2_var = -2.1438839435577393\n"
     ]
    },
    {
     "name": "stderr",
     "output_type": "stream",
     "text": [
      "\n",
      "Epoch 00044: cpa_metric reached. Module best state updated.\n",
      "\n",
      "Epoch 00049: cpa_metric reached. Module best state updated.\n"
     ]
    },
    {
     "name": "stdout",
     "output_type": "stream",
     "text": [
      "\n",
      "disnt_basal = 1.655026455026455\n",
      "disnt_after = 1.5954144620811288\n",
      "val_r2_mean = 0.9117046991984049\n",
      "val_r2_var = -2.1005664666493735\n"
     ]
    },
    {
     "name": "stderr",
     "output_type": "stream",
     "text": [
      "\n",
      "Epoch 00054: cpa_metric reached. Module best state updated.\n",
      "\n",
      "Epoch 00059: cpa_metric reached. Module best state updated.\n"
     ]
    },
    {
     "name": "stdout",
     "output_type": "stream",
     "text": [
      "\n",
      "disnt_basal = 1.655026455026455\n",
      "disnt_after = 1.5950617283950617\n",
      "val_r2_mean = 0.9202151695887247\n",
      "val_r2_var = -2.04038135210673\n"
     ]
    },
    {
     "name": "stderr",
     "output_type": "stream",
     "text": [
      "\n",
      "Epoch 00064: cpa_metric reached. Module best state updated.\n",
      "\n",
      "Epoch 00069: cpa_metric reached. Module best state updated.\n"
     ]
    },
    {
     "name": "stdout",
     "output_type": "stream",
     "text": [
      "\n",
      "disnt_basal = 1.655026455026455\n",
      "disnt_after = 1.5950617283950617\n",
      "val_r2_mean = 0.9200352430343628\n",
      "val_r2_var = -1.9668527444203694\n"
     ]
    },
    {
     "name": "stderr",
     "output_type": "stream",
     "text": [
      "\n",
      "Epoch 00074: cpa_metric reached. Module best state updated.\n",
      "\n",
      "Epoch 00079: cpa_metric reached. Module best state updated.\n"
     ]
    },
    {
     "name": "stdout",
     "output_type": "stream",
     "text": [
      "\n",
      "disnt_basal = 1.6524587612822907\n",
      "disnt_after = 1.5950617283950617\n",
      "val_r2_mean = 0.9308096766471863\n",
      "val_r2_var = -1.9143868287404378\n"
     ]
    },
    {
     "name": "stderr",
     "output_type": "stream",
     "text": [
      "\n",
      "Epoch 00084: cpa_metric reached. Module best state updated.\n"
     ]
    },
    {
     "name": "stdout",
     "output_type": "stream",
     "text": [
      "\n",
      "disnt_basal = 1.5477861165430533\n",
      "disnt_after = 1.5950617283950617\n",
      "val_r2_mean = 0.9137888352076212\n",
      "val_r2_var = -1.8660860061645508\n",
      "\n",
      "disnt_basal = 1.620453268658966\n",
      "disnt_after = 1.600352733686067\n",
      "val_r2_mean = 0.9076457420984904\n",
      "val_r2_var = -1.7657086849212646\n"
     ]
    },
    {
     "name": "stderr",
     "output_type": "stream",
     "text": [
      "\n",
      "Epoch 00104: cpa_metric reached. Module best state updated.\n",
      "\n",
      "Epoch 00109: cpa_metric reached. Module best state updated.\n"
     ]
    },
    {
     "name": "stdout",
     "output_type": "stream",
     "text": [
      "\n",
      "disnt_basal = 1.5125272331154682\n",
      "disnt_after = 1.6\n",
      "val_r2_mean = 0.9236433903376261\n",
      "val_r2_var = -1.6944154103597004\n"
     ]
    },
    {
     "name": "stderr",
     "output_type": "stream",
     "text": [
      "\n",
      "Epoch 00114: cpa_metric reached. Module best state updated.\n",
      "\n",
      "Epoch 00119: cpa_metric reached. Module best state updated.\n"
     ]
    },
    {
     "name": "stdout",
     "output_type": "stream",
     "text": [
      "\n",
      "disnt_basal = 1.2425957245232124\n",
      "disnt_after = 1.595767195767196\n",
      "val_r2_mean = 0.928682784239451\n",
      "val_r2_var = -1.6561675866444905\n",
      "\n",
      "disnt_basal = 1.5201799098395474\n",
      "disnt_after = 1.5950617283950617\n",
      "val_r2_mean = 0.9267716209093729\n",
      "val_r2_var = -1.5987431208292644\n",
      "\n",
      "disnt_basal = 1.461889395870158\n",
      "disnt_after = 1.5950617283950617\n",
      "val_r2_mean = 0.9258437951405843\n",
      "val_r2_var = -1.4929076830546062\n"
     ]
    },
    {
     "name": "stderr",
     "output_type": "stream",
     "text": [
      "100%|██████████| 1/1 [00:00<00:00, 20.74it/s]\n",
      "cpa_single_pert:   2%|▏         | 42/2184 [11:37<9:41:09, 16.28s/it] "
     ]
    },
    {
     "name": "stdout",
     "output_type": "stream",
     "text": [
      "Warning: dosage_key is not set. Setting it to \"1.0\" for all cells\n"
     ]
    },
    {
     "name": "stderr",
     "output_type": "stream",
     "text": [
      "100%|██████████| 1348/1348 [00:00<00:00, 77574.25it/s]\n",
      "100%|██████████| 1348/1348 [00:00<00:00, 1099770.82it/s]"
     ]
    },
    {
     "name": "stdout",
     "output_type": "stream",
     "text": [
      "\u001b[34mINFO    \u001b[0m Generating sequential column names                                                                        \n",
      "\u001b[34mINFO    \u001b[0m Generating sequential column names                                                                        \n"
     ]
    },
    {
     "name": "stderr",
     "output_type": "stream",
     "text": [
      "\n",
      "Global seed set to 6977\n",
      "100%|██████████| 2/2 [00:00<00:00, 908.15it/s]\n",
      "GPU available: True (cuda), used: True\n",
      "TPU available: False, using: 0 TPU cores\n",
      "IPU available: False, using: 0 IPUs\n",
      "HPU available: False, using: 0 HPUs\n",
      "You are using a CUDA device ('NVIDIA GeForce RTX 3090') that has Tensor Cores. To properly utilize them, you should set `torch.set_float32_matmul_precision('medium' | 'high')` which will trade-off precision for performance. For more details, read https://pytorch.org/docs/stable/generated/torch.set_float32_matmul_precision.html#torch.set_float32_matmul_precision\n",
      "LOCAL_RANK: 0 - CUDA_VISIBLE_DEVICES: [0,1,2,3]\n",
      "\n",
      "Epoch 00004: cpa_metric reached. Module best state updated.\n",
      "\n",
      "Epoch 00009: cpa_metric reached. Module best state updated.\n"
     ]
    },
    {
     "name": "stdout",
     "output_type": "stream",
     "text": [
      "\n",
      "disnt_basal = 1.7165736310473152\n",
      "disnt_after = 1.7398989898989898\n",
      "val_r2_mean = 0.31150086720784503\n",
      "val_r2_var = -2.406089464823405\n"
     ]
    },
    {
     "name": "stderr",
     "output_type": "stream",
     "text": [
      "\n",
      "Epoch 00014: cpa_metric reached. Module best state updated.\n",
      "\n",
      "Epoch 00019: cpa_metric reached. Module best state updated.\n"
     ]
    },
    {
     "name": "stdout",
     "output_type": "stream",
     "text": [
      "\n",
      "disnt_basal = 1.7224481658692183\n",
      "disnt_after = 1.7398989898989898\n",
      "val_r2_mean = 0.7790359059969584\n",
      "val_r2_var = -2.4070212046305337\n"
     ]
    },
    {
     "name": "stderr",
     "output_type": "stream",
     "text": [
      "\n",
      "Epoch 00024: cpa_metric reached. Module best state updated.\n",
      "\n",
      "Epoch 00029: cpa_metric reached. Module best state updated.\n"
     ]
    },
    {
     "name": "stdout",
     "output_type": "stream",
     "text": [
      "\n",
      "disnt_basal = 1.7309675704412546\n",
      "disnt_after = 1.7378787878787878\n",
      "val_r2_mean = 0.9092292388280233\n",
      "val_r2_var = -2.3940370082855225\n"
     ]
    },
    {
     "name": "stderr",
     "output_type": "stream",
     "text": [
      "\n",
      "Epoch 00034: cpa_metric reached. Module best state updated.\n"
     ]
    },
    {
     "name": "stdout",
     "output_type": "stream",
     "text": [
      "\n",
      "disnt_basal = 1.7324694311536417\n",
      "disnt_after = 1.6946969696969696\n",
      "val_r2_mean = 0.9187950094540914\n",
      "val_r2_var = -2.3607449531555176\n",
      "\n",
      "disnt_basal = 1.7309675704412546\n",
      "disnt_after = 1.6803030303030302\n",
      "val_r2_mean = 0.9241755406061808\n",
      "val_r2_var = -2.3200505574544272\n"
     ]
    },
    {
     "name": "stderr",
     "output_type": "stream",
     "text": [
      "\n",
      "Epoch 00054: cpa_metric reached. Module best state updated.\n",
      "\n",
      "Epoch 00059: cpa_metric reached. Module best state updated.\n"
     ]
    },
    {
     "name": "stdout",
     "output_type": "stream",
     "text": [
      "\n",
      "disnt_basal = 1.724069643806486\n",
      "disnt_after = 1.6992424242424242\n",
      "val_r2_mean = 0.9303204218546549\n",
      "val_r2_var = -2.244027773539225\n"
     ]
    },
    {
     "name": "stderr",
     "output_type": "stream",
     "text": [
      "\n",
      "Epoch 00064: cpa_metric reached. Module best state updated.\n",
      "\n",
      "Epoch 00069: cpa_metric reached. Module best state updated.\n"
     ]
    },
    {
     "name": "stdout",
     "output_type": "stream",
     "text": [
      "\n",
      "disnt_basal = 1.7294657097288675\n",
      "disnt_after = 1.6921717171717172\n",
      "val_r2_mean = 0.9351280331611633\n",
      "val_r2_var = -2.169191281000773\n"
     ]
    },
    {
     "name": "stderr",
     "output_type": "stream",
     "text": [
      "\n",
      "Epoch 00074: cpa_metric reached. Module best state updated.\n",
      "\n",
      "Epoch 00079: cpa_metric reached. Module best state updated.\n"
     ]
    },
    {
     "name": "stdout",
     "output_type": "stream",
     "text": [
      "\n",
      "disnt_basal = 1.726581605528974\n",
      "disnt_after = 1.6810606060606061\n",
      "val_r2_mean = 0.9405287106831869\n",
      "val_r2_var = -2.1126961708068848\n"
     ]
    },
    {
     "name": "stderr",
     "output_type": "stream",
     "text": [
      "\n",
      "Epoch 00084: cpa_metric reached. Module best state updated.\n",
      "\n",
      "Epoch 00089: cpa_metric reached. Module best state updated.\n"
     ]
    },
    {
     "name": "stdout",
     "output_type": "stream",
     "text": [
      "\n",
      "disnt_basal = 1.7241759702286017\n",
      "disnt_after = 1.6797979797979798\n",
      "val_r2_mean = 0.9426804979642233\n",
      "val_r2_var = -2.0616015593210855\n"
     ]
    },
    {
     "name": "stderr",
     "output_type": "stream",
     "text": [
      "\n",
      "Epoch 00094: cpa_metric reached. Module best state updated.\n",
      "\n",
      "Epoch 00099: cpa_metric reached. Module best state updated.\n"
     ]
    },
    {
     "name": "stdout",
     "output_type": "stream",
     "text": [
      "\n",
      "disnt_basal = 1.5216450946714104\n",
      "disnt_after = 1.683838383838384\n",
      "val_r2_mean = 0.9368222951889038\n",
      "val_r2_var = -2.0170138676961265\n",
      "\n",
      "disnt_basal = 1.718795751032593\n",
      "disnt_after = 1.6904040404040404\n",
      "val_r2_mean = 0.9380606214205424\n",
      "val_r2_var = -1.8888194561004639\n",
      "\n",
      "disnt_basal = 1.7007417290312028\n",
      "disnt_after = 1.6876262626262628\n",
      "val_r2_mean = 0.9387651085853577\n",
      "val_r2_var = -1.8169821898142497\n"
     ]
    },
    {
     "name": "stderr",
     "output_type": "stream",
     "text": [
      "100%|██████████| 1/1 [00:00<00:00, 28.47it/s]\n",
      "cpa_single_pert:   2%|▏         | 43/2184 [11:48<8:44:08, 14.69s/it]"
     ]
    },
    {
     "name": "stdout",
     "output_type": "stream",
     "text": [
      "Warning: dosage_key is not set. Setting it to \"1.0\" for all cells\n"
     ]
    },
    {
     "name": "stderr",
     "output_type": "stream",
     "text": [
      "100%|██████████| 1284/1284 [00:00<00:00, 78785.86it/s]\n",
      "100%|██████████| 1284/1284 [00:00<00:00, 1092169.20it/s]"
     ]
    },
    {
     "name": "stdout",
     "output_type": "stream",
     "text": [
      "\u001b[34mINFO    \u001b[0m Generating sequential column names                                                                        \n",
      "\u001b[34mINFO    \u001b[0m Generating sequential column names                                                                        \n"
     ]
    },
    {
     "name": "stderr",
     "output_type": "stream",
     "text": [
      "\n",
      "Global seed set to 6977\n",
      "100%|██████████| 2/2 [00:00<00:00, 1020.14it/s]\n",
      "GPU available: True (cuda), used: True\n",
      "TPU available: False, using: 0 TPU cores\n",
      "IPU available: False, using: 0 IPUs\n",
      "HPU available: False, using: 0 HPUs\n",
      "You are using a CUDA device ('NVIDIA GeForce RTX 3090') that has Tensor Cores. To properly utilize them, you should set `torch.set_float32_matmul_precision('medium' | 'high')` which will trade-off precision for performance. For more details, read https://pytorch.org/docs/stable/generated/torch.set_float32_matmul_precision.html#torch.set_float32_matmul_precision\n",
      "LOCAL_RANK: 0 - CUDA_VISIBLE_DEVICES: [0,1,2,3]\n",
      "\n",
      "Epoch 00004: cpa_metric reached. Module best state updated.\n",
      "\n",
      "Epoch 00009: cpa_metric reached. Module best state updated.\n"
     ]
    },
    {
     "name": "stdout",
     "output_type": "stream",
     "text": [
      "\n",
      "disnt_basal = 1.6543010752688172\n",
      "disnt_after = 1.6543010752688172\n",
      "val_r2_mean = 0.34304624795913696\n",
      "val_r2_var = -2.521113157272339\n"
     ]
    },
    {
     "name": "stderr",
     "output_type": "stream",
     "text": [
      "\n",
      "Epoch 00014: cpa_metric reached. Module best state updated.\n",
      "\n",
      "Epoch 00019: cpa_metric reached. Module best state updated.\n"
     ]
    },
    {
     "name": "stdout",
     "output_type": "stream",
     "text": [
      "\n",
      "disnt_basal = 1.6543010752688172\n",
      "disnt_after = 1.6543010752688172\n",
      "val_r2_mean = 0.7849728465080261\n",
      "val_r2_var = -2.521933078765869\n"
     ]
    },
    {
     "name": "stderr",
     "output_type": "stream",
     "text": [
      "\n",
      "Epoch 00024: cpa_metric reached. Module best state updated.\n",
      "\n",
      "Epoch 00029: cpa_metric reached. Module best state updated.\n"
     ]
    },
    {
     "name": "stdout",
     "output_type": "stream",
     "text": [
      "\n",
      "disnt_basal = 1.6525330851943756\n",
      "disnt_after = 1.6483771405814418\n",
      "val_r2_mean = 0.9215022126833597\n",
      "val_r2_var = -2.5026097297668457\n"
     ]
    },
    {
     "name": "stderr",
     "output_type": "stream",
     "text": [
      "\n",
      "Epoch 00034: cpa_metric reached. Module best state updated.\n"
     ]
    },
    {
     "name": "stdout",
     "output_type": "stream",
     "text": [
      "\n",
      "disnt_basal = 1.6543010752688172\n",
      "disnt_after = 1.6110911987256076\n",
      "val_r2_mean = 0.9355577230453491\n",
      "val_r2_var = -2.458153009414673\n",
      "\n",
      "disnt_basal = 1.6543010752688172\n",
      "disnt_after = 1.5968040621266428\n",
      "val_r2_mean = 0.9273869196573893\n",
      "val_r2_var = -2.4199863274892173\n"
     ]
    },
    {
     "name": "stderr",
     "output_type": "stream",
     "text": [
      "\n",
      "Epoch 00054: cpa_metric reached. Module best state updated.\n",
      "\n",
      "Epoch 00059: cpa_metric reached. Module best state updated.\n"
     ]
    },
    {
     "name": "stdout",
     "output_type": "stream",
     "text": [
      "\n",
      "disnt_basal = 1.6543010752688172\n",
      "disnt_after = 1.5978494623655912\n",
      "val_r2_mean = 0.9365293184916178\n",
      "val_r2_var = -2.343870004018148\n"
     ]
    },
    {
     "name": "stderr",
     "output_type": "stream",
     "text": [
      "\n",
      "Epoch 00064: cpa_metric reached. Module best state updated.\n",
      "\n",
      "Epoch 00069: cpa_metric reached. Module best state updated.\n"
     ]
    },
    {
     "name": "stdout",
     "output_type": "stream",
     "text": [
      "\n",
      "disnt_basal = 1.6543010752688172\n",
      "disnt_after = 1.597152528872959\n",
      "val_r2_mean = 0.9341022372245789\n",
      "val_r2_var = -2.2763936519622803\n"
     ]
    },
    {
     "name": "stderr",
     "output_type": "stream",
     "text": [
      "\n",
      "Epoch 00074: cpa_metric reached. Module best state updated.\n",
      "\n",
      "Epoch 00079: cpa_metric reached. Module best state updated.\n"
     ]
    },
    {
     "name": "stdout",
     "output_type": "stream",
     "text": [
      "\n",
      "disnt_basal = 1.6543010752688172\n",
      "disnt_after = 1.5957586618876942\n",
      "val_r2_mean = 0.9367160797119141\n",
      "val_r2_var = -2.2019657293955484\n"
     ]
    },
    {
     "name": "stderr",
     "output_type": "stream",
     "text": [
      "\n",
      "Epoch 00084: cpa_metric reached. Module best state updated.\n",
      "\n",
      "Epoch 00089: cpa_metric reached. Module best state updated.\n"
     ]
    },
    {
     "name": "stdout",
     "output_type": "stream",
     "text": [
      "\n",
      "disnt_basal = 1.6539805624483044\n",
      "disnt_after = 1.5961071286340103\n",
      "val_r2_mean = 0.9415059487024943\n",
      "val_r2_var = -2.1526381174723306\n"
     ]
    },
    {
     "name": "stderr",
     "output_type": "stream",
     "text": [
      "\n",
      "Epoch 00094: cpa_metric reached. Module best state updated.\n"
     ]
    },
    {
     "name": "stdout",
     "output_type": "stream",
     "text": [
      "\n",
      "disnt_basal = 1.6363665482735692\n",
      "disnt_after = 1.6051672640382317\n",
      "val_r2_mean = 0.9329812924067179\n",
      "val_r2_var = -2.1142261028289795\n"
     ]
    },
    {
     "name": "stderr",
     "output_type": "stream",
     "text": [
      "\n",
      "Epoch 00109: cpa_metric reached. Module best state updated.\n"
     ]
    },
    {
     "name": "stdout",
     "output_type": "stream",
     "text": [
      "\n",
      "disnt_basal = 1.6528019023986766\n",
      "disnt_after = 1.6299084030266826\n",
      "val_r2_mean = 0.9430886109670004\n",
      "val_r2_var = -1.9600738684336345\n"
     ]
    },
    {
     "name": "stderr",
     "output_type": "stream",
     "text": [
      "\n",
      "Epoch 00114: cpa_metric reached. Module best state updated.\n",
      "\n",
      "Epoch 00119: cpa_metric reached. Module best state updated.\n"
     ]
    },
    {
     "name": "stdout",
     "output_type": "stream",
     "text": [
      "\n",
      "disnt_basal = 1.5968266775509026\n",
      "disnt_after = 1.6110911987256074\n",
      "val_r2_mean = 0.9400871793429056\n",
      "val_r2_var = -1.9162033398946126\n"
     ]
    },
    {
     "name": "stderr",
     "output_type": "stream",
     "text": [
      "\n",
      "Epoch 00124: cpa_metric reached. Module best state updated.\n",
      "\n",
      "Epoch 00129: cpa_metric reached. Module best state updated.\n"
     ]
    },
    {
     "name": "stdout",
     "output_type": "stream",
     "text": [
      "\n",
      "disnt_basal = 1.281126167036983\n",
      "disnt_after = 1.6006371963361212\n",
      "val_r2_mean = 0.9398277600606283\n",
      "val_r2_var = -1.8777410984039307\n",
      "\n",
      "disnt_basal = 1.5207268561316634\n",
      "disnt_after = 1.595410195141378\n",
      "val_r2_mean = 0.9372723897298177\n",
      "val_r2_var = -1.8487006823221843\n",
      "\n",
      "disnt_basal = 1.467082912109794\n",
      "disnt_after = 1.595410195141378\n",
      "val_r2_mean = 0.9456833600997925\n",
      "val_r2_var = -1.7393542130788167\n"
     ]
    },
    {
     "name": "stderr",
     "output_type": "stream",
     "text": [
      "\n",
      "Epoch 00154: cpa_metric reached. Module best state updated.\n",
      "\n",
      "Epoch 00159: cpa_metric reached. Module best state updated.\n"
     ]
    },
    {
     "name": "stdout",
     "output_type": "stream",
     "text": [
      "\n",
      "disnt_basal = 1.2325633051676697\n",
      "disnt_after = 1.5968040621266426\n",
      "val_r2_mean = 0.9478431741396586\n",
      "val_r2_var = -1.681105136871338\n"
     ]
    },
    {
     "name": "stderr",
     "output_type": "stream",
     "text": [
      "\n",
      "Epoch 00164: cpa_metric reached. Module best state updated.\n"
     ]
    },
    {
     "name": "stdout",
     "output_type": "stream",
     "text": [
      "\n",
      "disnt_basal = 1.2518727328262431\n",
      "disnt_after = 1.6013341298287536\n",
      "val_r2_mean = 0.9355857570966085\n",
      "val_r2_var = -1.5624390443166096\n"
     ]
    },
    {
     "name": "stderr",
     "output_type": "stream",
     "text": [
      "100%|██████████| 1/1 [00:00<00:00, 28.06it/s]\n",
      "cpa_single_pert:   2%|▏         | 44/2184 [12:03<8:50:56, 14.89s/it]"
     ]
    },
    {
     "name": "stdout",
     "output_type": "stream",
     "text": [
      "Warning: dosage_key is not set. Setting it to \"1.0\" for all cells\n"
     ]
    },
    {
     "name": "stderr",
     "output_type": "stream",
     "text": [
      "100%|██████████| 1308/1308 [00:00<00:00, 79961.37it/s]\n",
      "100%|██████████| 1308/1308 [00:00<00:00, 1057469.09it/s]"
     ]
    },
    {
     "name": "stdout",
     "output_type": "stream",
     "text": [
      "\u001b[34mINFO    \u001b[0m Generating sequential column names                                                                        \n",
      "\u001b[34mINFO    \u001b[0m Generating sequential column names                                                                        \n"
     ]
    },
    {
     "name": "stderr",
     "output_type": "stream",
     "text": [
      "\n",
      "Global seed set to 6977\n",
      "100%|██████████| 2/2 [00:00<00:00, 749.38it/s]\n",
      "GPU available: True (cuda), used: True\n",
      "TPU available: False, using: 0 TPU cores\n",
      "IPU available: False, using: 0 IPUs\n",
      "HPU available: False, using: 0 HPUs\n",
      "You are using a CUDA device ('NVIDIA GeForce RTX 3090') that has Tensor Cores. To properly utilize them, you should set `torch.set_float32_matmul_precision('medium' | 'high')` which will trade-off precision for performance. For more details, read https://pytorch.org/docs/stable/generated/torch.set_float32_matmul_precision.html#torch.set_float32_matmul_precision\n",
      "LOCAL_RANK: 0 - CUDA_VISIBLE_DEVICES: [0,1,2,3]\n",
      "\n",
      "Epoch 00004: cpa_metric reached. Module best state updated.\n",
      "\n",
      "Epoch 00009: cpa_metric reached. Module best state updated.\n"
     ]
    },
    {
     "name": "stdout",
     "output_type": "stream",
     "text": [
      "\n",
      "disnt_basal = 1.6857142857142857\n",
      "disnt_after = 1.6857142857142857\n",
      "val_r2_mean = 0.3304462432861328\n",
      "val_r2_var = -2.3160115083058677\n"
     ]
    },
    {
     "name": "stderr",
     "output_type": "stream",
     "text": [
      "\n",
      "Epoch 00014: cpa_metric reached. Module best state updated.\n",
      "\n",
      "Epoch 00019: cpa_metric reached. Module best state updated.\n"
     ]
    },
    {
     "name": "stdout",
     "output_type": "stream",
     "text": [
      "\n",
      "disnt_basal = 1.6857142857142857\n",
      "disnt_after = 1.6857142857142857\n",
      "val_r2_mean = 0.7809137304623922\n",
      "val_r2_var = -2.316676219304403\n"
     ]
    },
    {
     "name": "stderr",
     "output_type": "stream",
     "text": [
      "\n",
      "Epoch 00024: cpa_metric reached. Module best state updated.\n",
      "\n",
      "Epoch 00029: cpa_metric reached. Module best state updated.\n"
     ]
    },
    {
     "name": "stdout",
     "output_type": "stream",
     "text": [
      "\n",
      "disnt_basal = 1.677193770589997\n",
      "disnt_after = 1.6784391534391534\n",
      "val_r2_mean = 0.9167486429214478\n",
      "val_r2_var = -2.2963670094807944\n",
      "\n",
      "disnt_basal = 1.6769292203254467\n",
      "disnt_after = 1.626851851851852\n",
      "val_r2_mean = 0.9292843739191691\n",
      "val_r2_var = -2.2570574283599854\n"
     ]
    },
    {
     "name": "stderr",
     "output_type": "stream",
     "text": [
      "\n",
      "Epoch 00049: cpa_metric reached. Module best state updated.\n"
     ]
    },
    {
     "name": "stdout",
     "output_type": "stream",
     "text": [
      "\n",
      "disnt_basal = 1.6845562543675752\n",
      "disnt_after = 1.6261904761904762\n",
      "val_r2_mean = 0.9260458747545878\n",
      "val_r2_var = -2.1957576274871826\n"
     ]
    },
    {
     "name": "stderr",
     "output_type": "stream",
     "text": [
      "\n",
      "Epoch 00054: cpa_metric reached. Module best state updated.\n",
      "\n",
      "Epoch 00059: cpa_metric reached. Module best state updated.\n"
     ]
    },
    {
     "name": "stdout",
     "output_type": "stream",
     "text": [
      "\n",
      "disnt_basal = 1.6851352700409303\n",
      "disnt_after = 1.6261904761904762\n",
      "val_r2_mean = 0.9324094454447428\n",
      "val_r2_var = -2.145029067993164\n"
     ]
    },
    {
     "name": "stderr",
     "output_type": "stream",
     "text": [
      "\n",
      "Epoch 00064: cpa_metric reached. Module best state updated.\n",
      "\n",
      "Epoch 00069: cpa_metric reached. Module best state updated.\n"
     ]
    },
    {
     "name": "stdout",
     "output_type": "stream",
     "text": [
      "\n",
      "disnt_basal = 1.6845562543675752\n",
      "disnt_after = 1.6261904761904762\n",
      "val_r2_mean = 0.9328614672025045\n",
      "val_r2_var = -2.0778594811757407\n"
     ]
    },
    {
     "name": "stderr",
     "output_type": "stream",
     "text": [
      "\n",
      "Epoch 00074: cpa_metric reached. Module best state updated.\n",
      "\n",
      "Epoch 00079: cpa_metric reached. Module best state updated.\n"
     ]
    },
    {
     "name": "stdout",
     "output_type": "stream",
     "text": [
      "\n",
      "disnt_basal = 1.6667939502845162\n",
      "disnt_after = 1.6261904761904762\n",
      "val_r2_mean = 0.9352286060651144\n",
      "val_r2_var = -2.009737491607666\n"
     ]
    },
    {
     "name": "stderr",
     "output_type": "stream",
     "text": [
      "\n",
      "Epoch 00084: cpa_metric reached. Module best state updated.\n",
      "\n",
      "Epoch 00089: cpa_metric reached. Module best state updated.\n"
     ]
    },
    {
     "name": "stdout",
     "output_type": "stream",
     "text": [
      "\n",
      "disnt_basal = 1.5613394728960768\n",
      "disnt_after = 1.6261904761904762\n",
      "val_r2_mean = 0.9437793095906576\n",
      "val_r2_var = -1.9943079153696697\n",
      "\n",
      "disnt_basal = 1.6845063392233204\n",
      "disnt_after = 1.642063492063492\n",
      "val_r2_mean = 0.9489092230796814\n",
      "val_r2_var = -1.8672505219777424\n"
     ]
    },
    {
     "name": "stderr",
     "output_type": "stream",
     "text": [
      "\n",
      "Epoch 00109: cpa_metric reached. Module best state updated.\n"
     ]
    },
    {
     "name": "stdout",
     "output_type": "stream",
     "text": [
      "\n",
      "disnt_basal = 1.6673193071777979\n",
      "disnt_after = 1.6390873015873015\n",
      "val_r2_mean = 0.9475409785906473\n",
      "val_r2_var = -1.781889835993449\n"
     ]
    },
    {
     "name": "stderr",
     "output_type": "stream",
     "text": [
      "\n",
      "Epoch 00114: cpa_metric reached. Module best state updated.\n",
      "\n",
      "Epoch 00119: cpa_metric reached. Module best state updated.\n"
     ]
    },
    {
     "name": "stdout",
     "output_type": "stream",
     "text": [
      "\n",
      "disnt_basal = 1.4863906359189378\n",
      "disnt_after = 1.6321428571428571\n",
      "val_r2_mean = 0.9426412185033163\n",
      "val_r2_var = -1.72282870610555\n"
     ]
    },
    {
     "name": "stderr",
     "output_type": "stream",
     "text": [
      "\n",
      "Epoch 00124: cpa_metric reached. Module best state updated.\n"
     ]
    },
    {
     "name": "stdout",
     "output_type": "stream",
     "text": [
      "\n",
      "disnt_basal = 1.4093915343915344\n",
      "disnt_after = 1.6261904761904762\n",
      "val_r2_mean = 0.9324842691421509\n",
      "val_r2_var = -1.6842435201009114\n",
      "\n",
      "disnt_basal = 1.5204964061096138\n",
      "disnt_after = 1.6261904761904762\n",
      "val_r2_mean = 0.9471523761749268\n",
      "val_r2_var = -1.5992660522460938\n"
     ]
    },
    {
     "name": "stderr",
     "output_type": "stream",
     "text": [
      "\n",
      "Epoch 00149: cpa_metric reached. Module best state updated.\n"
     ]
    },
    {
     "name": "stdout",
     "output_type": "stream",
     "text": [
      "\n",
      "disnt_basal = 1.328150893481082\n",
      "disnt_after = 1.6261904761904762\n",
      "val_r2_mean = 0.9436269601186117\n",
      "val_r2_var = -1.5186044375101726\n"
     ]
    },
    {
     "name": "stderr",
     "output_type": "stream",
     "text": [
      "\n",
      "Epoch 00154: cpa_metric reached. Module best state updated.\n",
      "\n",
      "Epoch 00159: cpa_metric reached. Module best state updated.\n"
     ]
    },
    {
     "name": "stdout",
     "output_type": "stream",
     "text": [
      "\n",
      "disnt_basal = 1.1655959868224017\n",
      "disnt_after = 1.6271825396825397\n",
      "val_r2_mean = 0.9494761824607849\n",
      "val_r2_var = -1.4734242757161458\n",
      "\n",
      "disnt_basal = 1.3370931915743238\n",
      "disnt_after = 1.6298280423280422\n",
      "val_r2_mean = 0.9464943607648214\n",
      "val_r2_var = -1.3912618160247803\n"
     ]
    },
    {
     "name": "stderr",
     "output_type": "stream",
     "text": [
      "\n",
      "Epoch 00179: cpa_metric reached. Module best state updated.\n"
     ]
    },
    {
     "name": "stdout",
     "output_type": "stream",
     "text": [
      "\n",
      "disnt_basal = 1.2019479385045422\n",
      "disnt_after = 1.6291666666666667\n",
      "val_r2_mean = 0.949959913889567\n",
      "val_r2_var = -1.3529733816782634\n"
     ]
    },
    {
     "name": "stderr",
     "output_type": "stream",
     "text": [
      "\n",
      "Epoch 00184: cpa_metric reached. Module best state updated.\n",
      "\n",
      "Epoch 00189: cpa_metric reached. Module best state updated.\n"
     ]
    },
    {
     "name": "stdout",
     "output_type": "stream",
     "text": [
      "\n",
      "disnt_basal = 1.127098931815913\n",
      "disnt_after = 1.6271825396825397\n",
      "val_r2_mean = 0.9487897555033366\n",
      "val_r2_var = -1.3175447781880696\n",
      "\n",
      "disnt_basal = 1.1907894080063892\n",
      "disnt_after = 1.626851851851852\n",
      "val_r2_mean = 0.946760912736257\n",
      "val_r2_var = -1.2451714674631755\n"
     ]
    },
    {
     "name": "stderr",
     "output_type": "stream",
     "text": [
      "\n",
      "Epoch 00209: cpa_metric reached. Module best state updated.\n"
     ]
    },
    {
     "name": "stdout",
     "output_type": "stream",
     "text": [
      "\n",
      "disnt_basal = 1.1383785065388838\n",
      "disnt_after = 1.6265211640211639\n",
      "val_r2_mean = 0.9521733919779459\n",
      "val_r2_var = -1.261273940404256\n"
     ]
    },
    {
     "name": "stderr",
     "output_type": "stream",
     "text": [
      "\n",
      "Epoch 00214: cpa_metric reached. Module best state updated.\n",
      "\n",
      "Epoch 00219: cpa_metric reached. Module best state updated.\n"
     ]
    },
    {
     "name": "stdout",
     "output_type": "stream",
     "text": [
      "\n",
      "disnt_basal = 1.0802061495457722\n",
      "disnt_after = 1.6275132275132274\n",
      "val_r2_mean = 0.9496567845344543\n",
      "val_r2_var = -1.1957556406656902\n",
      "\n",
      "disnt_basal = 1.1374538284915643\n",
      "disnt_after = 1.628505291005291\n",
      "val_r2_mean = 0.9496109088261923\n",
      "val_r2_var = -1.1587957541147869\n",
      "\n",
      "disnt_basal = 1.1631364180892483\n",
      "disnt_after = 1.6285052910052908\n",
      "val_r2_mean = 0.9497319261233012\n",
      "val_r2_var = -1.1427871386210124\n"
     ]
    },
    {
     "name": "stderr",
     "output_type": "stream",
     "text": [
      "100%|██████████| 1/1 [00:00<00:00, 28.10it/s]\n",
      "cpa_single_pert:   2%|▏         | 45/2184 [12:25<10:10:36, 17.13s/it]"
     ]
    },
    {
     "name": "stdout",
     "output_type": "stream",
     "text": [
      "Warning: dosage_key is not set. Setting it to \"1.0\" for all cells\n"
     ]
    },
    {
     "name": "stderr",
     "output_type": "stream",
     "text": [
      "100%|██████████| 1332/1332 [00:00<00:00, 84194.54it/s]\n",
      "100%|██████████| 1332/1332 [00:00<00:00, 1002838.44it/s]"
     ]
    },
    {
     "name": "stdout",
     "output_type": "stream",
     "text": [
      "\u001b[34mINFO    \u001b[0m Generating sequential column names                                                                        \n",
      "\u001b[34mINFO    \u001b[0m Generating sequential column names                                                                        \n"
     ]
    },
    {
     "name": "stderr",
     "output_type": "stream",
     "text": [
      "\n",
      "Global seed set to 6977\n",
      "100%|██████████| 2/2 [00:00<00:00, 964.76it/s]\n",
      "GPU available: True (cuda), used: True\n",
      "TPU available: False, using: 0 TPU cores\n",
      "IPU available: False, using: 0 IPUs\n",
      "HPU available: False, using: 0 HPUs\n",
      "You are using a CUDA device ('NVIDIA GeForce RTX 3090') that has Tensor Cores. To properly utilize them, you should set `torch.set_float32_matmul_precision('medium' | 'high')` which will trade-off precision for performance. For more details, read https://pytorch.org/docs/stable/generated/torch.set_float32_matmul_precision.html#torch.set_float32_matmul_precision\n",
      "LOCAL_RANK: 0 - CUDA_VISIBLE_DEVICES: [0,1,2,3]\n",
      "\n",
      "Epoch 00004: cpa_metric reached. Module best state updated.\n",
      "\n",
      "Epoch 00009: cpa_metric reached. Module best state updated.\n"
     ]
    },
    {
     "name": "stdout",
     "output_type": "stream",
     "text": [
      "\n",
      "disnt_basal = 1.7147368421052631\n",
      "disnt_after = 1.738974358974359\n",
      "val_r2_mean = 0.3317577640215556\n",
      "val_r2_var = -2.6166324615478516\n"
     ]
    },
    {
     "name": "stderr",
     "output_type": "stream",
     "text": [
      "\n",
      "Epoch 00014: cpa_metric reached. Module best state updated.\n",
      "\n",
      "Epoch 00019: cpa_metric reached. Module best state updated.\n"
     ]
    },
    {
     "name": "stdout",
     "output_type": "stream",
     "text": [
      "\n",
      "disnt_basal = 1.7187179487179487\n",
      "disnt_after = 1.738974358974359\n",
      "val_r2_mean = 0.7868611216545105\n",
      "val_r2_var = -2.618832270304362\n"
     ]
    },
    {
     "name": "stderr",
     "output_type": "stream",
     "text": [
      "\n",
      "Epoch 00024: cpa_metric reached. Module best state updated.\n",
      "\n",
      "Epoch 00029: cpa_metric reached. Module best state updated.\n"
     ]
    },
    {
     "name": "stdout",
     "output_type": "stream",
     "text": [
      "\n",
      "disnt_basal = 1.7072522558281074\n",
      "disnt_after = 1.7322610722610723\n",
      "val_r2_mean = 0.9200757145881653\n",
      "val_r2_var = -2.60154390335083\n"
     ]
    },
    {
     "name": "stderr",
     "output_type": "stream",
     "text": [
      "\n",
      "Epoch 00034: cpa_metric reached. Module best state updated.\n"
     ]
    },
    {
     "name": "stdout",
     "output_type": "stream",
     "text": [
      "\n",
      "disnt_basal = 1.7031227011722367\n",
      "disnt_after = 1.6991919191919194\n",
      "val_r2_mean = 0.9321349263191223\n",
      "val_r2_var = -2.5616026719411216\n",
      "\n",
      "disnt_basal = 1.710593527559472\n",
      "disnt_after = 1.6927272727272726\n",
      "val_r2_mean = 0.923226793607076\n",
      "val_r2_var = -2.5010201136271157\n"
     ]
    },
    {
     "name": "stderr",
     "output_type": "stream",
     "text": [
      "\n",
      "Epoch 00054: cpa_metric reached. Module best state updated.\n",
      "\n",
      "Epoch 00059: cpa_metric reached. Module best state updated.\n"
     ]
    },
    {
     "name": "stdout",
     "output_type": "stream",
     "text": [
      "\n",
      "disnt_basal = 1.7145227699716865\n",
      "disnt_after = 1.692975912975913\n",
      "val_r2_mean = 0.925504744052887\n",
      "val_r2_var = -2.447021802266439\n"
     ]
    },
    {
     "name": "stderr",
     "output_type": "stream",
     "text": [
      "\n",
      "Epoch 00064: cpa_metric reached. Module best state updated.\n",
      "\n",
      "Epoch 00069: cpa_metric reached. Module best state updated.\n"
     ]
    },
    {
     "name": "stdout",
     "output_type": "stream",
     "text": [
      "\n",
      "disnt_basal = 1.7126699478711862\n",
      "disnt_after = 1.6820357420357421\n",
      "val_r2_mean = 0.9324873487154642\n",
      "val_r2_var = -2.3843088944753013\n"
     ]
    },
    {
     "name": "stderr",
     "output_type": "stream",
     "text": [
      "\n",
      "Epoch 00074: cpa_metric reached. Module best state updated.\n",
      "\n",
      "Epoch 00079: cpa_metric reached. Module best state updated.\n"
     ]
    },
    {
     "name": "stdout",
     "output_type": "stream",
     "text": [
      "\n",
      "disnt_basal = 1.7094974994046201\n",
      "disnt_after = 1.6817871017871018\n",
      "val_r2_mean = 0.9405357042948405\n",
      "val_r2_var = -2.3210325241088867\n"
     ]
    },
    {
     "name": "stderr",
     "output_type": "stream",
     "text": [
      "\n",
      "Epoch 00084: cpa_metric reached. Module best state updated.\n",
      "\n",
      "Epoch 00089: cpa_metric reached. Module best state updated.\n"
     ]
    },
    {
     "name": "stdout",
     "output_type": "stream",
     "text": [
      "\n",
      "disnt_basal = 1.5685215575618052\n",
      "disnt_after = 1.6817871017871018\n",
      "val_r2_mean = 0.9361584782600403\n",
      "val_r2_var = -2.2471540768941245\n",
      "\n",
      "disnt_basal = 1.7104666094139778\n",
      "disnt_after = 1.7014296814296814\n",
      "val_r2_mean = 0.9374831914901733\n",
      "val_r2_var = -2.190711339314779\n",
      "\n",
      "disnt_basal = 1.7036508451988328\n",
      "disnt_after = 1.7051592851592852\n",
      "val_r2_mean = 0.9462971091270447\n",
      "val_r2_var = -2.0834268728892007\n"
     ]
    },
    {
     "name": "stderr",
     "output_type": "stream",
     "text": [
      "100%|██████████| 1/1 [00:00<00:00, 26.71it/s]\n",
      "cpa_single_pert:   2%|▏         | 46/2184 [12:35<8:54:43, 15.01s/it] "
     ]
    },
    {
     "name": "stdout",
     "output_type": "stream",
     "text": [
      "Warning: dosage_key is not set. Setting it to \"1.0\" for all cells\n"
     ]
    },
    {
     "name": "stderr",
     "output_type": "stream",
     "text": [
      "100%|██████████| 1522/1522 [00:00<00:00, 85291.54it/s]\n",
      "100%|██████████| 1522/1522 [00:00<00:00, 971500.64it/s]\n"
     ]
    },
    {
     "name": "stdout",
     "output_type": "stream",
     "text": [
      "\u001b[34mINFO    \u001b[0m Generating sequential column names                                                                        \n",
      "\u001b[34mINFO    \u001b[0m Generating sequential column names                                                                        \n"
     ]
    },
    {
     "name": "stderr",
     "output_type": "stream",
     "text": [
      "Global seed set to 6977\n",
      "100%|██████████| 2/2 [00:00<00:00, 665.02it/s]\n",
      "GPU available: True (cuda), used: True\n",
      "TPU available: False, using: 0 TPU cores\n",
      "IPU available: False, using: 0 IPUs\n",
      "HPU available: False, using: 0 HPUs\n",
      "You are using a CUDA device ('NVIDIA GeForce RTX 3090') that has Tensor Cores. To properly utilize them, you should set `torch.set_float32_matmul_precision('medium' | 'high')` which will trade-off precision for performance. For more details, read https://pytorch.org/docs/stable/generated/torch.set_float32_matmul_precision.html#torch.set_float32_matmul_precision\n",
      "LOCAL_RANK: 0 - CUDA_VISIBLE_DEVICES: [0,1,2,3]\n",
      "\n",
      "Epoch 00004: cpa_metric reached. Module best state updated.\n",
      "\n",
      "Epoch 00009: cpa_metric reached. Module best state updated.\n"
     ]
    },
    {
     "name": "stdout",
     "output_type": "stream",
     "text": [
      "\n",
      "disnt_basal = 1.6635964912280703\n",
      "disnt_after = 1.9171052631578946\n",
      "val_r2_mean = 0.34173675378163654\n",
      "val_r2_var = -2.6320009231567383\n"
     ]
    },
    {
     "name": "stderr",
     "output_type": "stream",
     "text": [
      "\n",
      "Epoch 00014: cpa_metric reached. Module best state updated.\n",
      "\n",
      "Epoch 00019: cpa_metric reached. Module best state updated.\n"
     ]
    },
    {
     "name": "stdout",
     "output_type": "stream",
     "text": [
      "\n",
      "disnt_basal = 1.649874686716792\n",
      "disnt_after = 1.9171052631578944\n",
      "val_r2_mean = 0.7973394791285197\n",
      "val_r2_var = -2.6339941024780273\n"
     ]
    },
    {
     "name": "stderr",
     "output_type": "stream",
     "text": [
      "\n",
      "Epoch 00024: cpa_metric reached. Module best state updated.\n",
      "\n",
      "Epoch 00029: cpa_metric reached. Module best state updated.\n"
     ]
    },
    {
     "name": "stdout",
     "output_type": "stream",
     "text": [
      "\n",
      "disnt_basal = 1.6520596835225319\n",
      "disnt_after = 1.906922376696458\n",
      "val_r2_mean = 0.9280040860176086\n",
      "val_r2_var = -2.619366486867269\n"
     ]
    },
    {
     "name": "stderr",
     "output_type": "stream",
     "text": [
      "\n",
      "Epoch 00034: cpa_metric reached. Module best state updated.\n",
      "\n",
      "Epoch 00039: cpa_metric reached. Module best state updated.\n"
     ]
    },
    {
     "name": "stdout",
     "output_type": "stream",
     "text": [
      "\n",
      "disnt_basal = 1.6504926532016313\n",
      "disnt_after = 1.9031156901688182\n",
      "val_r2_mean = 0.9454671541849772\n",
      "val_r2_var = -2.5834477742513022\n"
     ]
    },
    {
     "name": "stderr",
     "output_type": "stream",
     "text": [
      "\n",
      "Epoch 00044: cpa_metric reached. Module best state updated.\n"
     ]
    },
    {
     "name": "stdout",
     "output_type": "stream",
     "text": [
      "\n",
      "disnt_basal = 1.674127106983144\n",
      "disnt_after = 1.9031156901688182\n",
      "val_r2_mean = 0.942569633324941\n",
      "val_r2_var = -2.528730551401774\n"
     ]
    },
    {
     "name": "stderr",
     "output_type": "stream",
     "text": [
      "\n",
      "Epoch 00059: cpa_metric reached. Module best state updated.\n"
     ]
    },
    {
     "name": "stdout",
     "output_type": "stream",
     "text": [
      "\n",
      "disnt_basal = 1.6642857142857144\n",
      "disnt_after = 1.903210857332009\n",
      "val_r2_mean = 0.9536665876706442\n",
      "val_r2_var = -2.4574131965637207\n"
     ]
    },
    {
     "name": "stderr",
     "output_type": "stream",
     "text": [
      "\n",
      "Epoch 00064: cpa_metric reached. Module best state updated.\n",
      "\n",
      "Epoch 00069: cpa_metric reached. Module best state updated.\n"
     ]
    },
    {
     "name": "stdout",
     "output_type": "stream",
     "text": [
      "\n",
      "disnt_basal = 1.6661340852130326\n",
      "disnt_after = 1.903401191658391\n",
      "val_r2_mean = 0.9585198958714803\n",
      "val_r2_var = -2.3795316219329834\n"
     ]
    },
    {
     "name": "stderr",
     "output_type": "stream",
     "text": [
      "\n",
      "Epoch 00074: cpa_metric reached. Module best state updated.\n",
      "\n",
      "Epoch 00079: cpa_metric reached. Module best state updated.\n"
     ]
    },
    {
     "name": "stdout",
     "output_type": "stream",
     "text": [
      "\n",
      "disnt_basal = 1.6650062656641604\n",
      "disnt_after = 1.903496358821582\n",
      "val_r2_mean = 0.9615811904271444\n",
      "val_r2_var = -2.2940184275309243\n"
     ]
    },
    {
     "name": "stderr",
     "output_type": "stream",
     "text": [
      "\n",
      "Epoch 00084: cpa_metric reached. Module best state updated.\n",
      "\n",
      "Epoch 00089: cpa_metric reached. Module best state updated.\n"
     ]
    },
    {
     "name": "stdout",
     "output_type": "stream",
     "text": [
      "\n",
      "disnt_basal = 1.668577694235589\n",
      "disnt_after = 1.903210857332009\n",
      "val_r2_mean = 0.9568602641423544\n",
      "val_r2_var = -2.248454968134562\n"
     ]
    },
    {
     "name": "stderr",
     "output_type": "stream",
     "text": [
      "\n",
      "Epoch 00094: cpa_metric reached. Module best state updated.\n",
      "\n",
      "Epoch 00099: cpa_metric reached. Module best state updated.\n"
     ]
    },
    {
     "name": "stdout",
     "output_type": "stream",
     "text": [
      "\n",
      "disnt_basal = 1.662218045112782\n",
      "disnt_after = 1.9031156901688182\n",
      "val_r2_mean = 0.9585126241048177\n",
      "val_r2_var = -2.173448165257772\n"
     ]
    },
    {
     "name": "stderr",
     "output_type": "stream",
     "text": [
      "\n",
      "Epoch 00104: cpa_metric reached. Module best state updated.\n",
      "\n",
      "Epoch 00109: cpa_metric reached. Module best state updated.\n"
     ]
    },
    {
     "name": "stdout",
     "output_type": "stream",
     "text": [
      "\n",
      "disnt_basal = 1.6595027733039591\n",
      "disnt_after = 1.9028301886792451\n",
      "val_r2_mean = 0.9646463592847189\n",
      "val_r2_var = -2.10721762975057\n"
     ]
    },
    {
     "name": "stderr",
     "output_type": "stream",
     "text": [
      "\n",
      "Epoch 00114: cpa_metric reached. Module best state updated.\n"
     ]
    },
    {
     "name": "stdout",
     "output_type": "stream",
     "text": [
      "\n",
      "disnt_basal = 1.6259966763931657\n",
      "disnt_after = 1.906636875206885\n",
      "val_r2_mean = 0.9525313973426819\n",
      "val_r2_var = -2.070439577102661\n",
      "\n",
      "disnt_basal = 1.651780185758514\n",
      "disnt_after = 1.908635385633896\n",
      "val_r2_mean = 0.961102028687795\n",
      "val_r2_var = -1.9334542751312256\n",
      "\n",
      "disnt_basal = 1.6479612483854846\n",
      "disnt_after = 1.907683714001986\n",
      "val_r2_mean = 0.9646147092183431\n",
      "val_r2_var = -1.8667391141255696\n"
     ]
    },
    {
     "name": "stderr",
     "output_type": "stream",
     "text": [
      "100%|██████████| 1/1 [00:00<00:00, 30.31it/s]\n",
      "cpa_single_pert:   2%|▏         | 47/2184 [12:49<8:39:58, 14.60s/it]"
     ]
    },
    {
     "name": "stdout",
     "output_type": "stream",
     "text": [
      "Warning: dosage_key is not set. Setting it to \"1.0\" for all cells\n"
     ]
    },
    {
     "name": "stderr",
     "output_type": "stream",
     "text": [
      "100%|██████████| 1230/1230 [00:00<00:00, 61760.69it/s]\n",
      "100%|██████████| 1230/1230 [00:00<00:00, 1067672.58it/s]"
     ]
    },
    {
     "name": "stdout",
     "output_type": "stream",
     "text": [
      "\u001b[34mINFO    \u001b[0m Generating sequential column names                                                                        \n",
      "\u001b[34mINFO    \u001b[0m Generating sequential column names                                                                        \n"
     ]
    },
    {
     "name": "stderr",
     "output_type": "stream",
     "text": [
      "\n",
      "Global seed set to 6977\n",
      "100%|██████████| 2/2 [00:00<00:00, 1178.84it/s]\n",
      "GPU available: True (cuda), used: True\n",
      "TPU available: False, using: 0 TPU cores\n",
      "IPU available: False, using: 0 IPUs\n",
      "HPU available: False, using: 0 HPUs\n",
      "You are using a CUDA device ('NVIDIA GeForce RTX 3090') that has Tensor Cores. To properly utilize them, you should set `torch.set_float32_matmul_precision('medium' | 'high')` which will trade-off precision for performance. For more details, read https://pytorch.org/docs/stable/generated/torch.set_float32_matmul_precision.html#torch.set_float32_matmul_precision\n",
      "LOCAL_RANK: 0 - CUDA_VISIBLE_DEVICES: [0,1,2,3]\n",
      "\n",
      "Epoch 00004: cpa_metric reached. Module best state updated.\n",
      "\n",
      "Epoch 00009: cpa_metric reached. Module best state updated.\n"
     ]
    },
    {
     "name": "stdout",
     "output_type": "stream",
     "text": [
      "\n",
      "disnt_basal = 1.5174999999999998\n",
      "disnt_after = 1.5174999999999998\n",
      "val_r2_mean = 0.34603158632914227\n",
      "val_r2_var = -2.2757205168406167\n"
     ]
    },
    {
     "name": "stderr",
     "output_type": "stream",
     "text": [
      "\n",
      "Epoch 00014: cpa_metric reached. Module best state updated.\n",
      "\n",
      "Epoch 00019: cpa_metric reached. Module best state updated.\n"
     ]
    },
    {
     "name": "stdout",
     "output_type": "stream",
     "text": [
      "\n",
      "disnt_basal = 1.5175\n",
      "disnt_after = 1.5175\n",
      "val_r2_mean = 0.7810220917065939\n",
      "val_r2_var = -2.276139259338379\n"
     ]
    },
    {
     "name": "stderr",
     "output_type": "stream",
     "text": [
      "\n",
      "Epoch 00024: cpa_metric reached. Module best state updated.\n",
      "\n",
      "Epoch 00029: cpa_metric reached. Module best state updated.\n"
     ]
    },
    {
     "name": "stdout",
     "output_type": "stream",
     "text": [
      "\n",
      "disnt_basal = 1.510751633986928\n",
      "disnt_after = 1.5146212121212121\n",
      "val_r2_mean = 0.9153726696968079\n",
      "val_r2_var = -2.257659991582235\n",
      "\n",
      "disnt_basal = 1.515032679738562\n",
      "disnt_after = 1.46760101010101\n",
      "val_r2_mean = 0.9196497797966003\n",
      "val_r2_var = -2.22585121790568\n"
     ]
    },
    {
     "name": "stderr",
     "output_type": "stream",
     "text": [
      "\n",
      "Epoch 00049: cpa_metric reached. Module best state updated.\n"
     ]
    },
    {
     "name": "stdout",
     "output_type": "stream",
     "text": [
      "\n",
      "disnt_basal = 1.5175\n",
      "disnt_after = 1.4613636363636364\n",
      "val_r2_mean = 0.9327340722084045\n",
      "val_r2_var = -2.1723763942718506\n"
     ]
    },
    {
     "name": "stderr",
     "output_type": "stream",
     "text": [
      "\n",
      "Epoch 00054: cpa_metric reached. Module best state updated.\n",
      "\n",
      "Epoch 00059: cpa_metric reached. Module best state updated.\n"
     ]
    },
    {
     "name": "stdout",
     "output_type": "stream",
     "text": [
      "\n",
      "disnt_basal = 1.5174999999999998\n",
      "disnt_after = 1.4623232323232322\n",
      "val_r2_mean = 0.9324835737546285\n",
      "val_r2_var = -2.0910534063975015\n"
     ]
    },
    {
     "name": "stderr",
     "output_type": "stream",
     "text": [
      "\n",
      "Epoch 00064: cpa_metric reached. Module best state updated.\n",
      "\n",
      "Epoch 00069: cpa_metric reached. Module best state updated.\n"
     ]
    },
    {
     "name": "stdout",
     "output_type": "stream",
     "text": [
      "\n",
      "disnt_basal = 1.5156862745098039\n",
      "disnt_after = 1.4613636363636364\n",
      "val_r2_mean = 0.9401386777559916\n",
      "val_r2_var = -1.9982295036315918\n"
     ]
    },
    {
     "name": "stderr",
     "output_type": "stream",
     "text": [
      "\n",
      "Epoch 00074: cpa_metric reached. Module best state updated.\n",
      "\n",
      "Epoch 00079: cpa_metric reached. Module best state updated.\n"
     ]
    },
    {
     "name": "stdout",
     "output_type": "stream",
     "text": [
      "\n",
      "disnt_basal = 1.3949265277206453\n",
      "disnt_after = 1.4613636363636364\n",
      "val_r2_mean = 0.9421463211377462\n",
      "val_r2_var = -1.9601251284281414\n",
      "\n",
      "disnt_basal = 1.512516339869281\n",
      "disnt_after = 1.4685606060606062\n",
      "val_r2_mean = 0.9225635329882304\n",
      "val_r2_var = -1.8943760395050049\n"
     ]
    },
    {
     "name": "stderr",
     "output_type": "stream",
     "text": [
      "\n",
      "Epoch 00099: cpa_metric reached. Module best state updated.\n"
     ]
    },
    {
     "name": "stdout",
     "output_type": "stream",
     "text": [
      "\n",
      "disnt_basal = 1.3008946935417525\n",
      "disnt_after = 1.4666414141414141\n",
      "val_r2_mean = 0.9304317434628805\n",
      "val_r2_var = -1.8342969417572021\n"
     ]
    },
    {
     "name": "stderr",
     "output_type": "stream",
     "text": [
      "\n",
      "Epoch 00104: cpa_metric reached. Module best state updated.\n"
     ]
    },
    {
     "name": "stdout",
     "output_type": "stream",
     "text": [
      "\n",
      "disnt_basal = 1.2923235751176927\n",
      "disnt_after = 1.4628030303030304\n",
      "val_r2_mean = 0.9345953464508057\n",
      "val_r2_var = -1.791979153951009\n",
      "\n",
      "disnt_basal = 1.3944245623657388\n",
      "disnt_after = 1.4618434343434346\n",
      "val_r2_mean = 0.9342469175656637\n",
      "val_r2_var = -1.683752139409383\n"
     ]
    },
    {
     "name": "stderr",
     "output_type": "stream",
     "text": [
      "\n",
      "Epoch 00129: cpa_metric reached. Module best state updated.\n"
     ]
    },
    {
     "name": "stdout",
     "output_type": "stream",
     "text": [
      "\n",
      "disnt_basal = 1.245692559074912\n",
      "disnt_after = 1.4618434343434346\n",
      "val_r2_mean = 0.94505375623703\n",
      "val_r2_var = -1.5877575874328613\n"
     ]
    },
    {
     "name": "stderr",
     "output_type": "stream",
     "text": [
      "\n",
      "Epoch 00134: cpa_metric reached. Module best state updated.\n",
      "\n",
      "Epoch 00139: cpa_metric reached. Module best state updated.\n"
     ]
    },
    {
     "name": "stdout",
     "output_type": "stream",
     "text": [
      "\n",
      "disnt_basal = 1.102790461172814\n",
      "disnt_after = 1.4623232323232322\n",
      "val_r2_mean = 0.9426237742106119\n",
      "val_r2_var = -1.5119786262512207\n",
      "\n",
      "disnt_basal = 1.1591510123863065\n",
      "disnt_after = 1.465681818181818\n",
      "val_r2_mean = 0.9450513124465942\n",
      "val_r2_var = -1.4625600179036458\n"
     ]
    },
    {
     "name": "stderr",
     "output_type": "stream",
     "text": [
      "\n",
      "Epoch 00159: cpa_metric reached. Module best state updated.\n"
     ]
    },
    {
     "name": "stdout",
     "output_type": "stream",
     "text": [
      "\n",
      "disnt_basal = 1.095882810000457\n",
      "disnt_after = 1.4632828282828283\n",
      "val_r2_mean = 0.9414555629094442\n",
      "val_r2_var = -1.4008112748463948\n"
     ]
    },
    {
     "name": "stderr",
     "output_type": "stream",
     "text": [
      "\n",
      "Epoch 00164: cpa_metric reached. Module best state updated.\n"
     ]
    },
    {
     "name": "stdout",
     "output_type": "stream",
     "text": [
      "\n",
      "disnt_basal = 1.128559691942045\n",
      "disnt_after = 1.463282828282828\n",
      "val_r2_mean = 0.9491080244382223\n",
      "val_r2_var = -1.4021526177724202\n",
      "\n",
      "disnt_basal = 1.1410313542666484\n",
      "disnt_after = 1.4637626262626262\n",
      "val_r2_mean = 0.9449966748555502\n",
      "val_r2_var = -1.3326012293497722\n"
     ]
    },
    {
     "name": "stderr",
     "output_type": "stream",
     "text": [
      "\n",
      "Epoch 00189: cpa_metric reached. Module best state updated.\n"
     ]
    },
    {
     "name": "stdout",
     "output_type": "stream",
     "text": [
      "\n",
      "disnt_basal = 1.0921658896658895\n",
      "disnt_after = 1.4652020202020202\n",
      "val_r2_mean = 0.9459897677103678\n",
      "val_r2_var = -1.3031527996063232\n"
     ]
    },
    {
     "name": "stderr",
     "output_type": "stream",
     "text": [
      "\n",
      "Epoch 00194: cpa_metric reached. Module best state updated.\n"
     ]
    },
    {
     "name": "stdout",
     "output_type": "stream",
     "text": [
      "\n",
      "disnt_basal = 1.1224008181361123\n",
      "disnt_after = 1.467121212121212\n",
      "val_r2_mean = 0.9438211917877197\n",
      "val_r2_var = -1.2213788827260335\n"
     ]
    },
    {
     "name": "stderr",
     "output_type": "stream",
     "text": [
      "\n",
      "Epoch 00209: cpa_metric reached. Module best state updated.\n"
     ]
    },
    {
     "name": "stdout",
     "output_type": "stream",
     "text": [
      "\n",
      "disnt_basal = 1.0963413547237075\n",
      "disnt_after = 1.4666414141414141\n",
      "val_r2_mean = 0.9482378760973612\n",
      "val_r2_var = -1.200268030166626\n"
     ]
    },
    {
     "name": "stderr",
     "output_type": "stream",
     "text": [
      "\n",
      "Epoch 00214: cpa_metric reached. Module best state updated.\n",
      "\n",
      "Epoch 00219: cpa_metric reached. Module best state updated.\n"
     ]
    },
    {
     "name": "stdout",
     "output_type": "stream",
     "text": [
      "\n",
      "disnt_basal = 1.0785399241281595\n",
      "disnt_after = 1.4685606060606062\n",
      "val_r2_mean = 0.948823094367981\n",
      "val_r2_var = -1.1863210201263428\n"
     ]
    },
    {
     "name": "stderr",
     "output_type": "stream",
     "text": [
      "\n",
      "Epoch 00224: cpa_metric reached. Module best state updated.\n"
     ]
    },
    {
     "name": "stdout",
     "output_type": "stream",
     "text": [
      "\n",
      "disnt_basal = 1.081477672654143\n",
      "disnt_after = 1.465681818181818\n",
      "val_r2_mean = 0.9484245975812277\n",
      "val_r2_var = -1.1695003509521484\n",
      "\n",
      "disnt_basal = 1.1010545500251383\n",
      "disnt_after = 1.465681818181818\n",
      "val_r2_mean = 0.9475379387537638\n",
      "val_r2_var = -1.144802172978719\n"
     ]
    },
    {
     "name": "stderr",
     "output_type": "stream",
     "text": [
      "\n",
      "Epoch 00244: cpa_metric reached. Module best state updated.\n",
      "\n",
      "Epoch 00249: cpa_metric reached. Module best state updated.\n"
     ]
    },
    {
     "name": "stdout",
     "output_type": "stream",
     "text": [
      "\n",
      "disnt_basal = 1.0627346999405822\n",
      "disnt_after = 1.4685606060606062\n",
      "val_r2_mean = 0.9454999963442484\n",
      "val_r2_var = -1.1045081615447998\n"
     ]
    },
    {
     "name": "stderr",
     "output_type": "stream",
     "text": [
      "\n",
      "Epoch 00254: cpa_metric reached. Module best state updated.\n",
      "\n",
      "Epoch 00259: cpa_metric reached. Module best state updated.\n"
     ]
    },
    {
     "name": "stdout",
     "output_type": "stream",
     "text": [
      "\n",
      "disnt_basal = 1.0477133324192147\n",
      "disnt_after = 1.465681818181818\n",
      "val_r2_mean = 0.9468554059664408\n",
      "val_r2_var = -1.0802559852600098\n"
     ]
    },
    {
     "name": "stderr",
     "output_type": "stream",
     "text": [
      "\n",
      "Epoch 00264: cpa_metric reached. Module best state updated.\n",
      "\n",
      "Epoch 00269: cpa_metric reached. Module best state updated.\n"
     ]
    },
    {
     "name": "stdout",
     "output_type": "stream",
     "text": [
      "\n",
      "disnt_basal = 1.0491585538644361\n",
      "disnt_after = 1.469040404040404\n",
      "val_r2_mean = 0.9483922918637594\n",
      "val_r2_var = -1.066567103068034\n"
     ]
    },
    {
     "name": "stderr",
     "output_type": "stream",
     "text": [
      "\n",
      "Epoch 00274: cpa_metric reached. Module best state updated.\n"
     ]
    },
    {
     "name": "stdout",
     "output_type": "stream",
     "text": [
      "\n",
      "disnt_basal = 1.0517971570912747\n",
      "disnt_after = 1.47\n",
      "val_r2_mean = 0.9500649174054464\n",
      "val_r2_var = -1.0870505174001057\n",
      "\n",
      "disnt_basal = 1.061274167009461\n",
      "disnt_after = 1.4685606060606062\n",
      "val_r2_mean = 0.9498991370201111\n",
      "val_r2_var = -1.0591905911763508\n"
     ]
    },
    {
     "name": "stderr",
     "output_type": "stream",
     "text": [
      "\n",
      "Epoch 00299: cpa_metric reached. Module best state updated.\n"
     ]
    },
    {
     "name": "stdout",
     "output_type": "stream",
     "text": [
      "\n",
      "disnt_basal = 1.0480259609671374\n",
      "disnt_after = 1.469040404040404\n",
      "val_r2_mean = 0.9498939911524454\n",
      "val_r2_var = -1.0485432147979736\n"
     ]
    },
    {
     "name": "stderr",
     "output_type": "stream",
     "text": [
      "\n",
      "Epoch 00304: cpa_metric reached. Module best state updated.\n"
     ]
    },
    {
     "name": "stdout",
     "output_type": "stream",
     "text": [
      "\n",
      "disnt_basal = 1.063820787056081\n",
      "disnt_after = 1.469520202020202\n",
      "val_r2_mean = 0.9504003524780273\n",
      "val_r2_var = -1.059181849161784\n",
      "\n",
      "disnt_basal = 1.0551750537044653\n",
      "disnt_after = 1.4666414141414141\n",
      "val_r2_mean = 0.9501621127128601\n",
      "val_r2_var = -1.0259068806966145\n"
     ]
    },
    {
     "name": "stderr",
     "output_type": "stream",
     "text": [
      "\n",
      "Epoch 00329: cpa_metric reached. Module best state updated.\n"
     ]
    },
    {
     "name": "stdout",
     "output_type": "stream",
     "text": [
      "\n",
      "disnt_basal = 1.0457216966040497\n",
      "disnt_after = 1.468080808080808\n",
      "val_r2_mean = 0.9484994411468506\n",
      "val_r2_var = -1.0295904874801636\n"
     ]
    },
    {
     "name": "stderr",
     "output_type": "stream",
     "text": [
      "\n",
      "Epoch 00334: cpa_metric reached. Module best state updated.\n",
      "\n",
      "Epoch 00339: cpa_metric reached. Module best state updated.\n"
     ]
    },
    {
     "name": "stdout",
     "output_type": "stream",
     "text": [
      "\n",
      "disnt_basal = 1.046625074272133\n",
      "disnt_after = 1.4704797979797979\n",
      "val_r2_mean = 0.9481314420700073\n",
      "val_r2_var = -1.01981520652771\n"
     ]
    },
    {
     "name": "stderr",
     "output_type": "stream",
     "text": [
      "\n",
      "Epoch 00344: cpa_metric reached. Module best state updated.\n"
     ]
    },
    {
     "name": "stdout",
     "output_type": "stream",
     "text": [
      "\n",
      "disnt_basal = 1.0492171717171717\n",
      "disnt_after = 1.4671212121212123\n",
      "val_r2_mean = 0.946446935335795\n",
      "val_r2_var = -0.9972227811813354\n"
     ]
    },
    {
     "name": "stderr",
     "output_type": "stream",
     "text": [
      "\n",
      "Epoch 00354: cpa_metric reached. Module best state updated.\n"
     ]
    },
    {
     "name": "stdout",
     "output_type": "stream",
     "text": [
      "\n",
      "disnt_basal = 1.041471959413136\n",
      "disnt_after = 1.468560606060606\n",
      "val_r2_mean = 0.9481274286905924\n",
      "val_r2_var = -1.0020426114400227\n",
      "\n",
      "disnt_basal = 1.050138260432378\n",
      "disnt_after = 1.4671212121212123\n",
      "val_r2_mean = 0.948376476764679\n",
      "val_r2_var = -1.005109707514445\n",
      "\n",
      "disnt_basal = 1.0395763060468943\n",
      "disnt_after = 1.466161616161616\n",
      "val_r2_mean = 0.9475937883059183\n",
      "val_r2_var = -1.010766625404358\n"
     ]
    },
    {
     "name": "stderr",
     "output_type": "stream",
     "text": [
      "100%|██████████| 1/1 [00:00<00:00, 23.91it/s]\n",
      "cpa_single_pert:   2%|▏         | 48/2184 [13:26<12:35:09, 21.21s/it]"
     ]
    },
    {
     "name": "stdout",
     "output_type": "stream",
     "text": [
      "Warning: dosage_key is not set. Setting it to \"1.0\" for all cells\n"
     ]
    },
    {
     "name": "stderr",
     "output_type": "stream",
     "text": [
      "100%|██████████| 1396/1396 [00:00<00:00, 79980.99it/s]\n",
      "100%|██████████| 1396/1396 [00:00<00:00, 1070429.32it/s]\n"
     ]
    },
    {
     "name": "stdout",
     "output_type": "stream",
     "text": [
      "\u001b[34mINFO    \u001b[0m Generating sequential column names                                                                        \n",
      "\u001b[34mINFO    \u001b[0m Generating sequential column names                                                                        \n"
     ]
    },
    {
     "name": "stderr",
     "output_type": "stream",
     "text": [
      "Global seed set to 6977\n",
      "100%|██████████| 2/2 [00:00<00:00, 932.27it/s]\n",
      "GPU available: True (cuda), used: True\n",
      "TPU available: False, using: 0 TPU cores\n",
      "IPU available: False, using: 0 IPUs\n",
      "HPU available: False, using: 0 HPUs\n",
      "You are using a CUDA device ('NVIDIA GeForce RTX 3090') that has Tensor Cores. To properly utilize them, you should set `torch.set_float32_matmul_precision('medium' | 'high')` which will trade-off precision for performance. For more details, read https://pytorch.org/docs/stable/generated/torch.set_float32_matmul_precision.html#torch.set_float32_matmul_precision\n",
      "LOCAL_RANK: 0 - CUDA_VISIBLE_DEVICES: [0,1,2,3]\n",
      "\n",
      "Epoch 00004: cpa_metric reached. Module best state updated.\n",
      "\n",
      "Epoch 00009: cpa_metric reached. Module best state updated.\n"
     ]
    },
    {
     "name": "stdout",
     "output_type": "stream",
     "text": [
      "\n",
      "disnt_basal = 1.662121212121212\n",
      "disnt_after = 1.7941176470588234\n",
      "val_r2_mean = 0.304043710231781\n",
      "val_r2_var = -2.401758829752604\n"
     ]
    },
    {
     "name": "stderr",
     "output_type": "stream",
     "text": [
      "\n",
      "Epoch 00014: cpa_metric reached. Module best state updated.\n",
      "\n",
      "Epoch 00019: cpa_metric reached. Module best state updated.\n"
     ]
    },
    {
     "name": "stdout",
     "output_type": "stream",
     "text": [
      "\n",
      "disnt_basal = 1.6634135472370766\n",
      "disnt_after = 1.7941176470588234\n",
      "val_r2_mean = 0.7739771803220113\n",
      "val_r2_var = -2.4041152795155845\n"
     ]
    },
    {
     "name": "stderr",
     "output_type": "stream",
     "text": [
      "\n",
      "Epoch 00024: cpa_metric reached. Module best state updated.\n",
      "\n",
      "Epoch 00029: cpa_metric reached. Module best state updated.\n"
     ]
    },
    {
     "name": "stdout",
     "output_type": "stream",
     "text": [
      "\n",
      "disnt_basal = 1.6466659391029137\n",
      "disnt_after = 1.7812051649928262\n",
      "val_r2_mean = 0.9172187248865763\n",
      "val_r2_var = -2.387101729710897\n",
      "\n",
      "disnt_basal = 1.6505547673614902\n",
      "disnt_after = 1.7573170731707315\n",
      "val_r2_mean = 0.927110513051351\n",
      "val_r2_var = -2.356032053629557\n"
     ]
    },
    {
     "name": "stderr",
     "output_type": "stream",
     "text": [
      "\n",
      "Epoch 00044: cpa_metric reached. Module best state updated.\n"
     ]
    },
    {
     "name": "stdout",
     "output_type": "stream",
     "text": [
      "\n",
      "disnt_basal = 1.6678921568627452\n",
      "disnt_after = 1.7594153515064561\n",
      "val_r2_mean = 0.9328897595405579\n",
      "val_r2_var = -2.313055912653605\n"
     ]
    },
    {
     "name": "stderr",
     "output_type": "stream",
     "text": [
      "\n",
      "Epoch 00054: cpa_metric reached. Module best state updated.\n",
      "\n",
      "Epoch 00059: cpa_metric reached. Module best state updated.\n"
     ]
    },
    {
     "name": "stdout",
     "output_type": "stream",
     "text": [
      "\n",
      "disnt_basal = 1.6695855614973263\n",
      "disnt_after = 1.7579626972740314\n",
      "val_r2_mean = 0.9460864861806234\n",
      "val_r2_var = -2.2197279135386148\n"
     ]
    },
    {
     "name": "stderr",
     "output_type": "stream",
     "text": [
      "\n",
      "Epoch 00064: cpa_metric reached. Module best state updated.\n",
      "\n",
      "Epoch 00069: cpa_metric reached. Module best state updated.\n"
     ]
    },
    {
     "name": "stdout",
     "output_type": "stream",
     "text": [
      "\n",
      "disnt_basal = 1.6816844919786096\n",
      "disnt_after = 1.760060975609756\n",
      "val_r2_mean = 0.951788067817688\n",
      "val_r2_var = -2.177745262781779\n"
     ]
    },
    {
     "name": "stderr",
     "output_type": "stream",
     "text": [
      "\n",
      "Epoch 00074: cpa_metric reached. Module best state updated.\n",
      "\n",
      "Epoch 00079: cpa_metric reached. Module best state updated.\n"
     ]
    },
    {
     "name": "stdout",
     "output_type": "stream",
     "text": [
      "\n",
      "disnt_basal = 1.6849094183127797\n",
      "disnt_after = 1.7578012912482064\n",
      "val_r2_mean = 0.9558479984601339\n",
      "val_r2_var = -2.1233274936676025\n"
     ]
    },
    {
     "name": "stderr",
     "output_type": "stream",
     "text": [
      "\n",
      "Epoch 00084: cpa_metric reached. Module best state updated.\n",
      "\n",
      "Epoch 00089: cpa_metric reached. Module best state updated.\n"
     ]
    },
    {
     "name": "stdout",
     "output_type": "stream",
     "text": [
      "\n",
      "disnt_basal = 1.6888637273091054\n",
      "disnt_after = 1.7579626972740314\n",
      "val_r2_mean = 0.9589632749557495\n",
      "val_r2_var = -2.056976079940796\n"
     ]
    },
    {
     "name": "stderr",
     "output_type": "stream",
     "text": [
      "\n",
      "Epoch 00094: cpa_metric reached. Module best state updated.\n",
      "\n",
      "Epoch 00099: cpa_metric reached. Module best state updated.\n"
     ]
    },
    {
     "name": "stdout",
     "output_type": "stream",
     "text": [
      "\n",
      "disnt_basal = 1.5968105534896888\n",
      "disnt_after = 1.7574784791965565\n",
      "val_r2_mean = 0.9458276033401489\n",
      "val_r2_var = -1.9597012996673584\n"
     ]
    },
    {
     "name": "stderr",
     "output_type": "stream",
     "text": [
      "\n",
      "Epoch 00104: cpa_metric reached. Module best state updated.\n"
     ]
    },
    {
     "name": "stdout",
     "output_type": "stream",
     "text": [
      "\n",
      "disnt_basal = 1.6654700239297493\n",
      "disnt_after = 1.760060975609756\n",
      "val_r2_mean = 0.9283552964528402\n",
      "val_r2_var = -1.8560153643290203\n",
      "\n",
      "disnt_basal = 1.6759350081496014\n",
      "disnt_after = 1.7624820659971305\n",
      "val_r2_mean = 0.9441032409667969\n",
      "val_r2_var = -1.7351877689361572\n",
      "\n",
      "disnt_basal = 1.6729043613010615\n",
      "disnt_after = 1.7619978479196554\n",
      "val_r2_mean = 0.9528518915176392\n",
      "val_r2_var = -1.670147180557251\n"
     ]
    },
    {
     "name": "stderr",
     "output_type": "stream",
     "text": [
      "100%|██████████| 1/1 [00:00<00:00, 22.17it/s]\n",
      "cpa_single_pert:   2%|▏         | 49/2184 [13:37<10:52:15, 18.33s/it]"
     ]
    },
    {
     "name": "stdout",
     "output_type": "stream",
     "text": [
      "Warning: dosage_key is not set. Setting it to \"1.0\" for all cells\n"
     ]
    },
    {
     "name": "stderr",
     "output_type": "stream",
     "text": [
      "100%|██████████| 1256/1256 [00:00<00:00, 82096.43it/s]\n",
      "100%|██████████| 1256/1256 [00:00<00:00, 1062748.80it/s]"
     ]
    },
    {
     "name": "stdout",
     "output_type": "stream",
     "text": [
      "\u001b[34mINFO    \u001b[0m Generating sequential column names                                                                        \n",
      "\u001b[34mINFO    \u001b[0m Generating sequential column names                                                                        \n"
     ]
    },
    {
     "name": "stderr",
     "output_type": "stream",
     "text": [
      "\n",
      "Global seed set to 6977\n",
      "100%|██████████| 2/2 [00:00<00:00, 770.59it/s]\n",
      "GPU available: True (cuda), used: True\n",
      "TPU available: False, using: 0 TPU cores\n",
      "IPU available: False, using: 0 IPUs\n",
      "HPU available: False, using: 0 HPUs\n",
      "You are using a CUDA device ('NVIDIA GeForce RTX 3090') that has Tensor Cores. To properly utilize them, you should set `torch.set_float32_matmul_precision('medium' | 'high')` which will trade-off precision for performance. For more details, read https://pytorch.org/docs/stable/generated/torch.set_float32_matmul_precision.html#torch.set_float32_matmul_precision\n",
      "LOCAL_RANK: 0 - CUDA_VISIBLE_DEVICES: [0,1,2,3]\n",
      "\n",
      "Epoch 00004: cpa_metric reached. Module best state updated.\n",
      "\n",
      "Epoch 00009: cpa_metric reached. Module best state updated.\n"
     ]
    },
    {
     "name": "stdout",
     "output_type": "stream",
     "text": [
      "\n",
      "disnt_basal = 1.6174863387978142\n",
      "disnt_after = 1.6174863387978142\n",
      "val_r2_mean = 0.3224262197812398\n",
      "val_r2_var = -2.4001025358835855\n"
     ]
    },
    {
     "name": "stderr",
     "output_type": "stream",
     "text": [
      "\n",
      "Epoch 00014: cpa_metric reached. Module best state updated.\n",
      "\n",
      "Epoch 00019: cpa_metric reached. Module best state updated.\n"
     ]
    },
    {
     "name": "stdout",
     "output_type": "stream",
     "text": [
      "\n",
      "disnt_basal = 1.6174863387978142\n",
      "disnt_after = 1.6174863387978142\n",
      "val_r2_mean = 0.7749389012654623\n",
      "val_r2_var = -2.400305986404419\n"
     ]
    },
    {
     "name": "stderr",
     "output_type": "stream",
     "text": [
      "\n",
      "Epoch 00024: cpa_metric reached. Module best state updated.\n",
      "\n",
      "Epoch 00029: cpa_metric reached. Module best state updated.\n"
     ]
    },
    {
     "name": "stdout",
     "output_type": "stream",
     "text": [
      "\n",
      "disnt_basal = 1.6174863387978142\n",
      "disnt_after = 1.5806719287593607\n",
      "val_r2_mean = 0.9061456521352133\n",
      "val_r2_var = -2.384357213973999\n"
     ]
    },
    {
     "name": "stderr",
     "output_type": "stream",
     "text": [
      "\n",
      "Epoch 00039: cpa_metric reached. Module best state updated.\n"
     ]
    },
    {
     "name": "stdout",
     "output_type": "stream",
     "text": [
      "\n",
      "disnt_basal = 1.6174863387978142\n",
      "disnt_after = 1.5555555555555556\n",
      "val_r2_mean = 0.924484392007192\n",
      "val_r2_var = -2.3337789376576743\n"
     ]
    },
    {
     "name": "stderr",
     "output_type": "stream",
     "text": [
      "100%|██████████| 1/1 [00:00<00:00, 35.02it/s]\n",
      "cpa_single_pert:   2%|▏         | 49/2184 [13:41<9:56:39, 16.77s/it] \n",
      "\n",
      "KeyboardInterrupt\n",
      "\n"
     ]
    }
   ],
   "source": [
    "def cpa_single_pert(pert):\n",
    "    \n",
    "    # - get adata_pert and adata_ctrl\n",
    "    adata_pert = pert_data.adata_split[pert_data.adata_split[pert_data.adata_split.obs['perturbation_group']==pert+' | K562'].obs_names]\n",
    "    adata_ctrl = pert_data.adata_split[adata_pert.obs['control_barcode']]\n",
    "\n",
    "    adata_pert = adata_ori[adata_pert.obs_names, common_var]\n",
    "    adata_ctrl = adata_ori[adata_ctrl.obs_names, common_var]\n",
    "\n",
    "\n",
    "    # - get adata_rna_common\n",
    "    adata_rna_common = adata_rna[:, common_var]\n",
    "\n",
    "    # - generate adata_train to input to scGen model\n",
    "    np_list, obs_list, pert_list, celltype_list = [], [], [], []\n",
    "    pert_list_2 = []\n",
    "    adata_list = [adata_pert, adata_rna_common, adata_ctrl, adata_rna_common]\n",
    "    for j, adata_ in enumerate(adata_list):\n",
    "        if j in [0, 1]:\n",
    "            pert_list.extend(['stimulated']*len(adata_))\n",
    "        else:\n",
    "            pert_list.extend(['ctrl']*len(adata_))\n",
    "\n",
    "        if j in [0, 2]:\n",
    "            celltype_list.extend(['K562']*len(adata_))\n",
    "        else:\n",
    "            celltype_list.extend([cell_line_bulk]*len(adata_))\n",
    "        obs_list.extend([obs+f'_{j}' for obs in adata_.obs_names])\n",
    "        np_list.append(adata_.X.toarray())\n",
    "\n",
    "    adata_train = AnnData(X = np.vstack(np_list))\n",
    "    adata_train.obs_names = obs_list\n",
    "    adata_train.var_names = adata_pert.var_names\n",
    "\n",
    "    adata_train.obs['condition'] = pert_list\n",
    "    # adata_train.obs['condition_2'] = pert_list_2\n",
    "    adata_train.obs['cell_type'] = celltype_list\n",
    "\n",
    "    # - transform the adata_train.X to count\n",
    "    adata_train.obs['cov_cond'] = adata_train.obs['cell_type'] + '_' + adata_train.obs['condition']\n",
    "    adata_train.X = np.exp(adata_train.X)-1\n",
    "\n",
    "    # - initial model\n",
    "    cpa.CPA.setup_anndata(adata_train, \n",
    "                        perturbation_key='condition',\n",
    "                        control_group='ctrl',\n",
    "                        #   dosage_key='dose',\n",
    "                        categorical_covariate_keys=['cell_type'],\n",
    "                        is_count_data=True,\n",
    "                        #   deg_uns_key='rank_genes_groups_cov',\n",
    "                        deg_uns_cat_key='cov_cond',\n",
    "                        max_comb_len=1,\n",
    "                        )\n",
    "\n",
    "    # - set the train and validation for cpa\n",
    "    # -- get total obs_names of the pert\n",
    "    adata_train_new = adata_train[~((adata_train.obs[\"cell_type\"] == cell_line_bulk) &\n",
    "                        (adata_train.obs[\"condition\"] == \"stimulated\"))].copy()\n",
    "    # obs_df_split = adata_train_new.obs\n",
    "    obs_df_sub_idx = np.array(adata_train_new.obs.index)\n",
    "\n",
    "    np.random.seed(2024)\n",
    "    np.random.shuffle(obs_df_sub_idx)\n",
    "\n",
    "    # -- data split\n",
    "    split_point_1 = int(len(obs_df_sub_idx) * 0.9)\n",
    "    split_point_2 = int(len(obs_df_sub_idx) * (0.9+0.1))\n",
    "    train = obs_df_sub_idx[:split_point_1]\n",
    "    valid = obs_df_sub_idx[split_point_1:split_point_2]\n",
    "\n",
    "\n",
    "    adata_train.obs['split_key'] = 'ood'\n",
    "\n",
    "    # -- set the test row\n",
    "    adata_train.obs.loc[train,'split_key'] = 'train'\n",
    "    adata_train.obs.loc[valid,'split_key'] = 'valid'\n",
    "\n",
    "    # - initial the model and training   \n",
    "    model = cpa.CPA(adata=adata_train, \n",
    "                    split_key='split_key',\n",
    "                    train_split='train',\n",
    "                    valid_split='valid',\n",
    "                    test_split='ood',\n",
    "                    **model_params,\n",
    "                )\n",
    "\n",
    "    model.train(max_epochs=2000,\n",
    "                use_gpu=True, \n",
    "                batch_size=500,\n",
    "                plan_kwargs=trainer_params,\n",
    "                early_stopping_patience=5,\n",
    "                check_val_every_n_epoch=5,\n",
    "                # save_path='../../datasets/',\n",
    "                progress_bar_refresh_rate = 0\n",
    "            )\n",
    "\n",
    "    # - predict result\n",
    "    model.predict(adata_train, batch_size=2048)\n",
    "\n",
    "    # - get the pred data\n",
    "    cat = cell_line_bulk + '_' + 'stimulated'\n",
    "    cat_adata = adata_train[adata_train.obs['cov_cond'] == cat].copy()\n",
    "    x_pred = cat_adata.obsm['CPA_pred']\n",
    "    x_pred = np.log1p(x_pred)\n",
    "\n",
    "\n",
    "    # - get pert_gene_rank_dict\n",
    "    adata_ctrl = adata_rna_common.copy()\n",
    "    adata_pert = adata_ctrl.copy()\n",
    "    adata_pert.X = x_pred\n",
    "    adata_pert.obs_names = [i+f'_{pert}' for i in adata_pert.obs_names]\n",
    "\n",
    "    adata_ctrl.obs['batch'] = 'ctrl'\n",
    "    adata_pert.obs['batch'] = 'pert'\n",
    "\n",
    "    import anndata as ad\n",
    "    adata_concat = ad.concat([adata_ctrl, adata_pert])\n",
    "\n",
    "    # - cal de genes\n",
    "    rankby_abs = False\n",
    "\n",
    "    sc.tl.rank_genes_groups(\n",
    "        adata_concat,\n",
    "        groupby='batch',\n",
    "        reference='ctrl',\n",
    "        rankby_abs=rankby_abs,\n",
    "        n_genes=len(adata_concat.var),\n",
    "        use_raw=False,\n",
    "        method = 'wilcoxon'\n",
    "    )\n",
    "    de_genes = pd.DataFrame(adata_concat.uns['rank_genes_groups']['names'])\n",
    "    pvals = pd.DataFrame(adata_concat.uns['rank_genes_groups']['pvals'])\n",
    "    pvals_adj = pd.DataFrame(adata_concat.uns['rank_genes_groups']['pvals_adj'])\n",
    "    scores = pd.DataFrame(adata_concat.uns['rank_genes_groups']['scores'])\n",
    "    logfoldchanges = pd.DataFrame(adata_concat.uns['rank_genes_groups']['logfoldchanges'])\n",
    "\n",
    "    # - get gene_score\n",
    "    gene_score = pd.DataFrame({'gene':list(de_genes['pert']),\n",
    "                                'z-score':list(scores['pert'])})\n",
    "\n",
    "    return (list(de_genes['pert']), list(scores['pert']))\n",
    "    \n",
    "pert_gene_rank_dict = {}\n",
    "for pert in tqdm(common_perts, desc='cpa_single_pert'):\n",
    "    pert_gene_rank_dict[pert] = cpa_single_pert(pert)\n"
   ]
  },
  {
   "cell_type": "markdown",
   "metadata": {},
   "source": [
    "# 尝试看看cell_line_bulk的并行能否成功"
   ]
  },
  {
   "cell_type": "code",
   "execution_count": 52,
   "metadata": {},
   "outputs": [
    {
     "name": "stderr",
     "output_type": "stream",
     "text": [
      "Process SpawnProcess-436:\n",
      "Traceback (most recent call last):\n",
      "  File \"/data1/lichen/anaconda3/envs/cpa/lib/python3.9/multiprocessing/process.py\", line 315, in _bootstrap\n",
      "    self.run()\n",
      "  File \"/data1/lichen/anaconda3/envs/cpa/lib/python3.9/multiprocessing/process.py\", line 108, in run\n",
      "    self._target(*self._args, **self._kwargs)\n",
      "  File \"/data1/lichen/anaconda3/envs/cpa/lib/python3.9/concurrent/futures/process.py\", line 240, in _process_worker\n",
      "    call_item = call_queue.get(block=True)\n",
      "  File \"/data1/lichen/anaconda3/envs/cpa/lib/python3.9/multiprocessing/queues.py\", line 122, in get\n",
      "    return _ForkingPickler.loads(res)\n",
      "AttributeError: Can't get attribute 'process_cell_line' on <module '__main__' (built-in)>\n",
      "Process SpawnProcess-437:\n",
      "Traceback (most recent call last):\n",
      "  File \"/data1/lichen/anaconda3/envs/cpa/lib/python3.9/multiprocessing/process.py\", line 315, in _bootstrap\n",
      "    self.run()\n",
      "  File \"/data1/lichen/anaconda3/envs/cpa/lib/python3.9/multiprocessing/process.py\", line 108, in run\n",
      "    self._target(*self._args, **self._kwargs)\n",
      "  File \"/data1/lichen/anaconda3/envs/cpa/lib/python3.9/concurrent/futures/process.py\", line 240, in _process_worker\n",
      "    call_item = call_queue.get(block=True)\n",
      "  File \"/data1/lichen/anaconda3/envs/cpa/lib/python3.9/multiprocessing/queues.py\", line 122, in get\n",
      "    return _ForkingPickler.loads(res)\n",
      "AttributeError: Can't get attribute 'process_cell_line' on <module '__main__' (built-in)>\n",
      "Process SpawnProcess-438:\n",
      "Traceback (most recent call last):\n",
      "  File \"/data1/lichen/anaconda3/envs/cpa/lib/python3.9/multiprocessing/process.py\", line 315, in _bootstrap\n",
      "    self.run()\n",
      "  File \"/data1/lichen/anaconda3/envs/cpa/lib/python3.9/multiprocessing/process.py\", line 108, in run\n",
      "    self._target(*self._args, **self._kwargs)\n",
      "  File \"/data1/lichen/anaconda3/envs/cpa/lib/python3.9/concurrent/futures/process.py\", line 240, in _process_worker\n",
      "    call_item = call_queue.get(block=True)\n",
      "  File \"/data1/lichen/anaconda3/envs/cpa/lib/python3.9/multiprocessing/queues.py\", line 122, in get\n",
      "    return _ForkingPickler.loads(res)\n",
      "AttributeError: Can't get attribute 'process_cell_line' on <module '__main__' (built-in)>\n"
     ]
    },
    {
     "name": "stdout",
     "output_type": "stream",
     "text": [
      "Error: A process in the process pool was terminated abruptly while the future was running or pending.\n",
      "Error: A process in the process pool was terminated abruptly while the future was running or pending.\n",
      "Error: A process in the process pool was terminated abruptly while the future was running or pending.\n",
      "Error: A process in the process pool was terminated abruptly while the future was running or pending.\n",
      "Error: A process in the process pool was terminated abruptly while the future was running or pending.\n",
      "Error: A process in the process pool was terminated abruptly while the future was running or pending.\n",
      "Error: A process in the process pool was terminated abruptly while the future was running or pending.\n"
     ]
    }
   ],
   "source": [
    "import os\n",
    "import numpy as np\n",
    "import pandas as pd\n",
    "import scanpy as sc\n",
    "from tqdm import tqdm\n",
    "from sklearn.metrics import precision_recall_curve, auc\n",
    "from scipy.spatial.distance import cdist\n",
    "import concurrent.futures\n",
    "import json\n",
    "import anndata as ad\n"
   ]
  },
  {
   "cell_type": "code",
   "execution_count": 57,
   "metadata": {},
   "outputs": [],
   "source": [
    "\n",
    "\n",
    "    \n",
    "    \n",
    "\n",
    "\n",
    "# 定义处理每个 cell_line_single 的函数\n",
    "def process_cell_line(cell_line_bulk, cell_line_single, common_cell_line, adata_L1000, gpu_id):\n",
    "    print('=' * 20, f'cell line is {cell_line_single}')\n",
    "    \n",
    "    torch.cuda.set_device(gpu_id)  # 设置每个进程使用不同的 GPU\n",
    "\n",
    "    #===================prepare data\n",
    "    if cell_line_bulk in ['PC3', 'A375']:\n",
    "        save_dir_adata = '/nfs/public/lichen/results/single_cell_perturbation/perturbation_benchmark/benchmark_data/L1000/single_cell_data/SCP542'\n",
    "        adata_rna = sc.read(os.path.join(save_dir_adata, cell_line_bulk, f'adata_{cell_line_bulk}.h5ad'))\n",
    "        \n",
    "        # - read adata_rna_raw\n",
    "        save_dir = f'/nfs/public/lichen/data/single_cell/cell_line/SCP542/process/{cell_line_bulk}'\n",
    "        adata_rna_raw = sc.read(os.path.join(save_dir, f'adata.h5ad'))\n",
    "    \n",
    "    else:\n",
    "        save_dir_adata = '/nfs/public/lichen/results/single_cell_perturbation/perturbation_benchmark/benchmark_data/L1000/single_cell_data/CNP0003658'\n",
    "        adata_rna = sc.read(os.path.join(save_dir_adata, cell_line_bulk, f'adata_{cell_line_bulk}.h5ad'))\n",
    "\n",
    "        # - read adata_rna\n",
    "        save_dir = f'/nfs/public/lichen/data/single_cell/cell_line/CNP0003658/process/RNA/{cell_line_single}'\n",
    "        adata_rna_raw = sc.read(os.path.join(save_dir, f'adata_rna_{cell_line_single}.h5ad'))\n",
    "\n",
    "    # - consctrut corr mtx\n",
    "    if not isinstance(adata_rna.X, np.ndarray):\n",
    "        adata_rna.X = adata_rna.X.toarray()\n",
    "    corr_mtx = np.corrcoef(adata_rna.X.T)\n",
    "    \n",
    "    # - get var_names\n",
    "    var_names = list(adata_rna.var_names)\n",
    "    \n",
    "    # - get common pert\n",
    "    adata_L1000_sub = adata_L1000[adata_L1000.obs['cell_id']==cell_line_bulk]\n",
    "    L1000_total_perts = np.unique(adata_L1000_sub.obs['pert_iname'])\n",
    "    common_perts = np.intersect1d(adata_rna.var_names, L1000_total_perts)\n",
    "\n",
    "    \n",
    "    \n",
    "    print('common_perts num: ', len(common_perts))\n",
    "    print('common var to L1000 data is: ', len(np.intersect1d(var_names, adata_L1000.var_names)))\n",
    "\n",
    "    \n",
    "    adata_pert_list = []\n",
    "    pert_gene_rank_dict = {}\n",
    "    for pert in tqdm(common_perts, desc='cpa_single_pert'):\n",
    "        pert_gene_rank_dict[pert] = cpa_single_pert(pert)\n",
    "        \n",
    "        \n",
    "    save_dir = '/nfs/public/lichen/results/single_cell_perturbation/perturbation_benchmark_202410/zero_shot/result'\n",
    "    save_prefix = f'CPA/{cell_line_bulk}' # use result of K562 to do the direct transfer\n",
    "    os.makedirs(os.path.join(save_dir, save_prefix), exist_ok=True)\n",
    "\n",
    "    import json\n",
    "    with open(os.path.join(save_dir, save_prefix, 'pert_gene_rank_dict.json'), 'w') as f:\n",
    "        json.dump(pert_gene_rank_dict, f)\n"
   ]
  },
  {
   "cell_type": "code",
   "execution_count": 70,
   "metadata": {},
   "outputs": [],
   "source": [
    "import cpa"
   ]
  },
  {
   "cell_type": "code",
   "execution_count": 68,
   "metadata": {},
   "outputs": [],
   "source": [
    "sys.path.append(\"/data1/lichen/code/single_cell_perturbation/scPerturb_202410/zero_shot/method/CPA/\")\n",
    "\n"
   ]
  },
  {
   "cell_type": "code",
   "execution_count": 83,
   "metadata": {},
   "outputs": [
    {
     "data": {
      "text/plain": [
       "<module 'cpa_func_lc' from '/data1/lichen/code/single_cell_perturbation/scPerturb_202410/zero_shot/method/CPA/cpa_func_lc.py'>"
      ]
     },
     "execution_count": 83,
     "metadata": {},
     "output_type": "execute_result"
    }
   ],
   "source": [
    "import importlib\n",
    "importlib.reload(cpa_func_lc)"
   ]
  },
  {
   "cell_type": "code",
   "execution_count": 84,
   "metadata": {},
   "outputs": [],
   "source": [
    "import cpa_func_lc\n",
    "from cpa_func_lc import process_cell_line"
   ]
  },
  {
   "cell_type": "code",
   "execution_count": 90,
   "metadata": {},
   "outputs": [
    {
     "name": "stderr",
     "output_type": "stream",
     "text": [
      "Global seed set to 0\n"
     ]
    },
    {
     "name": "stdout",
     "output_type": "stream",
     "text": [
      "==================== cell line is A549\n",
      "Error: name 'pert_data' is not defined\n",
      "common_perts num:  3096\n",
      "common var to L1000 data is:  933\n",
      "AARS\n",
      "============ (1989578, 8248)\n"
     ]
    },
    {
     "name": "stderr",
     "output_type": "stream",
     "text": [
      "cpa_single_pert:   0%|          | 0/3096 [00:00<?, ?it/s]\n"
     ]
    }
   ],
   "source": [
    "\n",
    "import multiprocessing\n",
    "from multiprocessing import Manager\n",
    "\n",
    "# 主函数\n",
    "if __name__ == \"__main__\":\n",
    "    # - get cell line name\n",
    "    common_cell_line = \\\n",
    "    {   'A549': 'A549',\n",
    "        'HEPG2': 'HepG2',\n",
    "        'HT29': 'HT29',\n",
    "        'MCF7': 'MCF7',\n",
    "        # 'SKBR3': 'SK-BR-3',\n",
    "        'SW480': 'SW480',\n",
    "        'PC3': 'PC3',\n",
    "        'A375': 'A375',\n",
    "    } # L1000 cell line : single-cell cell line\n",
    "    \n",
    "    multiprocessing.set_start_method('spawn', force=True)\n",
    "\n",
    "    # - read adata_L1000, this is processed data\n",
    "    adata_L1000 = sc.read('/nfs/public/lichen/results/single_cell_perturbation/perturbation_benchmark/benchmark_data/L1000/GSE92742/adata_gene_pert.h5ad')\n",
    "\n",
    "    \n",
    "\n",
    "    # 使用并行执行\n",
    "    with concurrent.futures.ProcessPoolExecutor() as executor:\n",
    "        futures = [\n",
    "            executor.submit(process_cell_line, adata_ori, cell_line_bulk, common_cell_line[cell_line_bulk], adata_L1000)\n",
    "            for cell_line_bulk in common_cell_line.keys()\n",
    "        ]\n",
    "        \n",
    "        # 等待所有任务完成\n",
    "        for future in concurrent.futures.as_completed(futures):\n",
    "            try:\n",
    "                future.result()  # 获取每个任务的结果，如果有异常，将在此处抛出\n",
    "            except Exception as e:\n",
    "                print(f\"Error: {e}\")\n"
   ]
  },
  {
   "cell_type": "code",
   "execution_count": 50,
   "metadata": {},
   "outputs": [],
   "source": [
    "import multiprocessing\n",
    "multiprocessing.set_start_method('spawn', force=True)"
   ]
  },
  {
   "cell_type": "code",
   "execution_count": null,
   "metadata": {},
   "outputs": [
    {
     "data": {
      "text/plain": [
       "'spawn'"
      ]
     },
     "execution_count": 51,
     "metadata": {},
     "output_type": "execute_result"
    }
   ],
   "source": [
    "multiprocessing.get_start_method()"
   ]
  },
  {
   "cell_type": "markdown",
   "metadata": {},
   "source": [
    "# cell_line_bulk并行-torch multiprocessing"
   ]
  },
  {
   "cell_type": "code",
   "execution_count": 56,
   "metadata": {},
   "outputs": [
    {
     "name": "stderr",
     "output_type": "stream",
     "text": [
      "Traceback (most recent call last):\n",
      "  File \"<string>\", line 1, in <module>\n",
      "  File \"/data1/lichen/anaconda3/envs/cpa/lib/python3.9/multiprocessing/spawn.py\", line 116, in spawn_main\n",
      "    exitcode = _main(fd, parent_sentinel)\n",
      "  File \"/data1/lichen/anaconda3/envs/cpa/lib/python3.9/multiprocessing/spawn.py\", line 126, in _main\n",
      "    self = reduction.pickle.load(from_parent)\n",
      "AttributeError: Can't get attribute 'process_cell_line' on <module '__main__' (built-in)>\n"
     ]
    },
    {
     "ename": "KeyboardInterrupt",
     "evalue": "",
     "output_type": "error",
     "traceback": [
      "\u001b[0;31m---------------------------------------------------------------------------\u001b[0m",
      "\u001b[0;31mKeyboardInterrupt\u001b[0m                         Traceback (most recent call last)",
      "Cell \u001b[0;32mIn[56], line 31\u001b[0m\n\u001b[1;32m     29\u001b[0m     cell_line_single \u001b[38;5;241m=\u001b[39m common_cell_line[cell_line_bulk]\n\u001b[1;32m     30\u001b[0m     p \u001b[38;5;241m=\u001b[39m mp\u001b[38;5;241m.\u001b[39mProcess(target\u001b[38;5;241m=\u001b[39mprocess_cell_line, args\u001b[38;5;241m=\u001b[39m(cell_line_bulk, cell_line_single, common_cell_line, adata_L1000, gpu_id))\n\u001b[0;32m---> 31\u001b[0m     \u001b[43mp\u001b[49m\u001b[38;5;241;43m.\u001b[39;49m\u001b[43mstart\u001b[49m\u001b[43m(\u001b[49m\u001b[43m)\u001b[49m\n\u001b[1;32m     32\u001b[0m     processes\u001b[38;5;241m.\u001b[39mappend(p)\n\u001b[1;32m     34\u001b[0m \u001b[38;5;66;03m# 等待所有进程完成\u001b[39;00m\n",
      "File \u001b[0;32m/data1/lichen/anaconda3/envs/cpa/lib/python3.9/multiprocessing/process.py:121\u001b[0m, in \u001b[0;36mBaseProcess.start\u001b[0;34m(self)\u001b[0m\n\u001b[1;32m    118\u001b[0m \u001b[38;5;28;01massert\u001b[39;00m \u001b[38;5;129;01mnot\u001b[39;00m _current_process\u001b[38;5;241m.\u001b[39m_config\u001b[38;5;241m.\u001b[39mget(\u001b[38;5;124m'\u001b[39m\u001b[38;5;124mdaemon\u001b[39m\u001b[38;5;124m'\u001b[39m), \\\n\u001b[1;32m    119\u001b[0m        \u001b[38;5;124m'\u001b[39m\u001b[38;5;124mdaemonic processes are not allowed to have children\u001b[39m\u001b[38;5;124m'\u001b[39m\n\u001b[1;32m    120\u001b[0m _cleanup()\n\u001b[0;32m--> 121\u001b[0m \u001b[38;5;28mself\u001b[39m\u001b[38;5;241m.\u001b[39m_popen \u001b[38;5;241m=\u001b[39m \u001b[38;5;28;43mself\u001b[39;49m\u001b[38;5;241;43m.\u001b[39;49m\u001b[43m_Popen\u001b[49m\u001b[43m(\u001b[49m\u001b[38;5;28;43mself\u001b[39;49m\u001b[43m)\u001b[49m\n\u001b[1;32m    122\u001b[0m \u001b[38;5;28mself\u001b[39m\u001b[38;5;241m.\u001b[39m_sentinel \u001b[38;5;241m=\u001b[39m \u001b[38;5;28mself\u001b[39m\u001b[38;5;241m.\u001b[39m_popen\u001b[38;5;241m.\u001b[39msentinel\n\u001b[1;32m    123\u001b[0m \u001b[38;5;66;03m# Avoid a refcycle if the target function holds an indirect\u001b[39;00m\n\u001b[1;32m    124\u001b[0m \u001b[38;5;66;03m# reference to the process object (see bpo-30775)\u001b[39;00m\n",
      "File \u001b[0;32m/data1/lichen/anaconda3/envs/cpa/lib/python3.9/multiprocessing/context.py:224\u001b[0m, in \u001b[0;36mProcess._Popen\u001b[0;34m(process_obj)\u001b[0m\n\u001b[1;32m    222\u001b[0m \u001b[38;5;129m@staticmethod\u001b[39m\n\u001b[1;32m    223\u001b[0m \u001b[38;5;28;01mdef\u001b[39;00m \u001b[38;5;21m_Popen\u001b[39m(process_obj):\n\u001b[0;32m--> 224\u001b[0m     \u001b[38;5;28;01mreturn\u001b[39;00m \u001b[43m_default_context\u001b[49m\u001b[38;5;241;43m.\u001b[39;49m\u001b[43mget_context\u001b[49m\u001b[43m(\u001b[49m\u001b[43m)\u001b[49m\u001b[38;5;241;43m.\u001b[39;49m\u001b[43mProcess\u001b[49m\u001b[38;5;241;43m.\u001b[39;49m\u001b[43m_Popen\u001b[49m\u001b[43m(\u001b[49m\u001b[43mprocess_obj\u001b[49m\u001b[43m)\u001b[49m\n",
      "File \u001b[0;32m/data1/lichen/anaconda3/envs/cpa/lib/python3.9/multiprocessing/context.py:284\u001b[0m, in \u001b[0;36mSpawnProcess._Popen\u001b[0;34m(process_obj)\u001b[0m\n\u001b[1;32m    281\u001b[0m \u001b[38;5;129m@staticmethod\u001b[39m\n\u001b[1;32m    282\u001b[0m \u001b[38;5;28;01mdef\u001b[39;00m \u001b[38;5;21m_Popen\u001b[39m(process_obj):\n\u001b[1;32m    283\u001b[0m     \u001b[38;5;28;01mfrom\u001b[39;00m \u001b[38;5;21;01m.\u001b[39;00m\u001b[38;5;21;01mpopen_spawn_posix\u001b[39;00m \u001b[38;5;28;01mimport\u001b[39;00m Popen\n\u001b[0;32m--> 284\u001b[0m     \u001b[38;5;28;01mreturn\u001b[39;00m \u001b[43mPopen\u001b[49m\u001b[43m(\u001b[49m\u001b[43mprocess_obj\u001b[49m\u001b[43m)\u001b[49m\n",
      "File \u001b[0;32m/data1/lichen/anaconda3/envs/cpa/lib/python3.9/multiprocessing/popen_spawn_posix.py:32\u001b[0m, in \u001b[0;36mPopen.__init__\u001b[0;34m(self, process_obj)\u001b[0m\n\u001b[1;32m     30\u001b[0m \u001b[38;5;28;01mdef\u001b[39;00m \u001b[38;5;21m__init__\u001b[39m(\u001b[38;5;28mself\u001b[39m, process_obj):\n\u001b[1;32m     31\u001b[0m     \u001b[38;5;28mself\u001b[39m\u001b[38;5;241m.\u001b[39m_fds \u001b[38;5;241m=\u001b[39m []\n\u001b[0;32m---> 32\u001b[0m     \u001b[38;5;28;43msuper\u001b[39;49m\u001b[43m(\u001b[49m\u001b[43m)\u001b[49m\u001b[38;5;241;43m.\u001b[39;49m\u001b[38;5;21;43m__init__\u001b[39;49m\u001b[43m(\u001b[49m\u001b[43mprocess_obj\u001b[49m\u001b[43m)\u001b[49m\n",
      "File \u001b[0;32m/data1/lichen/anaconda3/envs/cpa/lib/python3.9/multiprocessing/popen_fork.py:19\u001b[0m, in \u001b[0;36mPopen.__init__\u001b[0;34m(self, process_obj)\u001b[0m\n\u001b[1;32m     17\u001b[0m \u001b[38;5;28mself\u001b[39m\u001b[38;5;241m.\u001b[39mreturncode \u001b[38;5;241m=\u001b[39m \u001b[38;5;28;01mNone\u001b[39;00m\n\u001b[1;32m     18\u001b[0m \u001b[38;5;28mself\u001b[39m\u001b[38;5;241m.\u001b[39mfinalizer \u001b[38;5;241m=\u001b[39m \u001b[38;5;28;01mNone\u001b[39;00m\n\u001b[0;32m---> 19\u001b[0m \u001b[38;5;28;43mself\u001b[39;49m\u001b[38;5;241;43m.\u001b[39;49m\u001b[43m_launch\u001b[49m\u001b[43m(\u001b[49m\u001b[43mprocess_obj\u001b[49m\u001b[43m)\u001b[49m\n",
      "File \u001b[0;32m/data1/lichen/anaconda3/envs/cpa/lib/python3.9/multiprocessing/popen_spawn_posix.py:62\u001b[0m, in \u001b[0;36mPopen._launch\u001b[0;34m(self, process_obj)\u001b[0m\n\u001b[1;32m     60\u001b[0m     \u001b[38;5;28mself\u001b[39m\u001b[38;5;241m.\u001b[39msentinel \u001b[38;5;241m=\u001b[39m parent_r\n\u001b[1;32m     61\u001b[0m     \u001b[38;5;28;01mwith\u001b[39;00m \u001b[38;5;28mopen\u001b[39m(parent_w, \u001b[38;5;124m'\u001b[39m\u001b[38;5;124mwb\u001b[39m\u001b[38;5;124m'\u001b[39m, closefd\u001b[38;5;241m=\u001b[39m\u001b[38;5;28;01mFalse\u001b[39;00m) \u001b[38;5;28;01mas\u001b[39;00m f:\n\u001b[0;32m---> 62\u001b[0m         \u001b[43mf\u001b[49m\u001b[38;5;241;43m.\u001b[39;49m\u001b[43mwrite\u001b[49m\u001b[43m(\u001b[49m\u001b[43mfp\u001b[49m\u001b[38;5;241;43m.\u001b[39;49m\u001b[43mgetbuffer\u001b[49m\u001b[43m(\u001b[49m\u001b[43m)\u001b[49m\u001b[43m)\u001b[49m\n\u001b[1;32m     63\u001b[0m \u001b[38;5;28;01mfinally\u001b[39;00m:\n\u001b[1;32m     64\u001b[0m     fds_to_close \u001b[38;5;241m=\u001b[39m []\n",
      "\u001b[0;31mKeyboardInterrupt\u001b[0m: "
     ]
    }
   ],
   "source": [
    "import torch.multiprocessing as mp\n",
    "\n",
    "# 主函数\n",
    "if __name__ == \"__main__\":\n",
    "    # - get cell line name\n",
    "    common_cell_line = {\n",
    "        'A549': 'A549',\n",
    "        'HEPG2': 'HepG2',\n",
    "        'HT29': 'HT29',\n",
    "        'MCF7': 'MCF7',\n",
    "        'SW480': 'SW480',\n",
    "        'PC3': 'PC3',\n",
    "        'A375': 'A375',\n",
    "    } # L1000 cell line : single-cell cell line\n",
    "\n",
    "    # 设置多进程启动方式为 'spawn'\n",
    "    mp.set_start_method('spawn', force=True)\n",
    "\n",
    "    # - read adata_L1000, this is processed data\n",
    "    adata_L1000 = sc.read('/nfs/public/lichen/results/single_cell_perturbation/perturbation_benchmark/benchmark_data/L1000/GSE92742/adata_gene_pert.h5ad')\n",
    "\n",
    "    # 获取 GPU 数量，并为每个进程分配一个 GPU\n",
    "    num_gpus = torch.cuda.device_count()\n",
    "\n",
    "    # 使用 torch.multiprocessing 进行并行处理\n",
    "    processes = []\n",
    "    for i, cell_line_bulk in enumerate(common_cell_line.keys()):\n",
    "        gpu_id = i % num_gpus  # 为每个进程分配不同的 GPU\n",
    "        cell_line_single = common_cell_line[cell_line_bulk]\n",
    "        p = mp.Process(target=process_cell_line, args=(cell_line_bulk, cell_line_single, common_cell_line, adata_L1000, gpu_id))\n",
    "        p.start()\n",
    "        processes.append(p)\n",
    "\n",
    "    # 等待所有进程完成\n",
    "    for p in processes:\n",
    "        p.join()\n",
    "\n",
    "    print(\"All processes completed.\")"
   ]
  },
  {
   "cell_type": "code",
   "execution_count": 61,
   "metadata": {},
   "outputs": [
    {
     "name": "stderr",
     "output_type": "stream",
     "text": [
      "Traceback (most recent call last):\n",
      "  File \"<string>\", line 1, in <module>\n",
      "  File \"/data1/lichen/anaconda3/envs/cpa/lib/python3.9/multiprocessing/spawn.py\", line 116, in spawn_main\n",
      "    exitcode = _main(fd, parent_sentinel)\n",
      "  File \"/data1/lichen/anaconda3/envs/cpa/lib/python3.9/multiprocessing/spawn.py\", line 126, in _main\n",
      "    self = reduction.pickle.load(from_parent)\n",
      "AttributeError: Can't get attribute 'process_cell_line' on <module '__main__' (built-in)>\n"
     ]
    },
    {
     "ename": "KeyboardInterrupt",
     "evalue": "",
     "output_type": "error",
     "traceback": [
      "\u001b[0;31m---------------------------------------------------------------------------\u001b[0m",
      "\u001b[0;31mKeyboardInterrupt\u001b[0m                         Traceback (most recent call last)",
      "Cell \u001b[0;32mIn[61], line 34\u001b[0m\n\u001b[1;32m     32\u001b[0m     cell_line_single \u001b[38;5;241m=\u001b[39m common_cell_line[cell_line_bulk]\n\u001b[1;32m     33\u001b[0m     p \u001b[38;5;241m=\u001b[39m mp\u001b[38;5;241m.\u001b[39mProcess(target\u001b[38;5;241m=\u001b[39mprocess_cell_line, args\u001b[38;5;241m=\u001b[39m(cell_line_bulk, cell_line_single, common_cell_line, adata_L1000, gpu_id))\n\u001b[0;32m---> 34\u001b[0m     \u001b[43mp\u001b[49m\u001b[38;5;241;43m.\u001b[39;49m\u001b[43mstart\u001b[49m\u001b[43m(\u001b[49m\u001b[43m)\u001b[49m\n\u001b[1;32m     35\u001b[0m     processes\u001b[38;5;241m.\u001b[39mappend(p)\n\u001b[1;32m     37\u001b[0m \u001b[38;5;66;03m# 等待所有进程完成\u001b[39;00m\n",
      "File \u001b[0;32m/data1/lichen/anaconda3/envs/cpa/lib/python3.9/multiprocessing/process.py:121\u001b[0m, in \u001b[0;36mBaseProcess.start\u001b[0;34m(self)\u001b[0m\n\u001b[1;32m    118\u001b[0m \u001b[38;5;28;01massert\u001b[39;00m \u001b[38;5;129;01mnot\u001b[39;00m _current_process\u001b[38;5;241m.\u001b[39m_config\u001b[38;5;241m.\u001b[39mget(\u001b[38;5;124m'\u001b[39m\u001b[38;5;124mdaemon\u001b[39m\u001b[38;5;124m'\u001b[39m), \\\n\u001b[1;32m    119\u001b[0m        \u001b[38;5;124m'\u001b[39m\u001b[38;5;124mdaemonic processes are not allowed to have children\u001b[39m\u001b[38;5;124m'\u001b[39m\n\u001b[1;32m    120\u001b[0m _cleanup()\n\u001b[0;32m--> 121\u001b[0m \u001b[38;5;28mself\u001b[39m\u001b[38;5;241m.\u001b[39m_popen \u001b[38;5;241m=\u001b[39m \u001b[38;5;28;43mself\u001b[39;49m\u001b[38;5;241;43m.\u001b[39;49m\u001b[43m_Popen\u001b[49m\u001b[43m(\u001b[49m\u001b[38;5;28;43mself\u001b[39;49m\u001b[43m)\u001b[49m\n\u001b[1;32m    122\u001b[0m \u001b[38;5;28mself\u001b[39m\u001b[38;5;241m.\u001b[39m_sentinel \u001b[38;5;241m=\u001b[39m \u001b[38;5;28mself\u001b[39m\u001b[38;5;241m.\u001b[39m_popen\u001b[38;5;241m.\u001b[39msentinel\n\u001b[1;32m    123\u001b[0m \u001b[38;5;66;03m# Avoid a refcycle if the target function holds an indirect\u001b[39;00m\n\u001b[1;32m    124\u001b[0m \u001b[38;5;66;03m# reference to the process object (see bpo-30775)\u001b[39;00m\n",
      "File \u001b[0;32m/data1/lichen/anaconda3/envs/cpa/lib/python3.9/multiprocessing/context.py:224\u001b[0m, in \u001b[0;36mProcess._Popen\u001b[0;34m(process_obj)\u001b[0m\n\u001b[1;32m    222\u001b[0m \u001b[38;5;129m@staticmethod\u001b[39m\n\u001b[1;32m    223\u001b[0m \u001b[38;5;28;01mdef\u001b[39;00m \u001b[38;5;21m_Popen\u001b[39m(process_obj):\n\u001b[0;32m--> 224\u001b[0m     \u001b[38;5;28;01mreturn\u001b[39;00m \u001b[43m_default_context\u001b[49m\u001b[38;5;241;43m.\u001b[39;49m\u001b[43mget_context\u001b[49m\u001b[43m(\u001b[49m\u001b[43m)\u001b[49m\u001b[38;5;241;43m.\u001b[39;49m\u001b[43mProcess\u001b[49m\u001b[38;5;241;43m.\u001b[39;49m\u001b[43m_Popen\u001b[49m\u001b[43m(\u001b[49m\u001b[43mprocess_obj\u001b[49m\u001b[43m)\u001b[49m\n",
      "File \u001b[0;32m/data1/lichen/anaconda3/envs/cpa/lib/python3.9/multiprocessing/context.py:284\u001b[0m, in \u001b[0;36mSpawnProcess._Popen\u001b[0;34m(process_obj)\u001b[0m\n\u001b[1;32m    281\u001b[0m \u001b[38;5;129m@staticmethod\u001b[39m\n\u001b[1;32m    282\u001b[0m \u001b[38;5;28;01mdef\u001b[39;00m \u001b[38;5;21m_Popen\u001b[39m(process_obj):\n\u001b[1;32m    283\u001b[0m     \u001b[38;5;28;01mfrom\u001b[39;00m \u001b[38;5;21;01m.\u001b[39;00m\u001b[38;5;21;01mpopen_spawn_posix\u001b[39;00m \u001b[38;5;28;01mimport\u001b[39;00m Popen\n\u001b[0;32m--> 284\u001b[0m     \u001b[38;5;28;01mreturn\u001b[39;00m \u001b[43mPopen\u001b[49m\u001b[43m(\u001b[49m\u001b[43mprocess_obj\u001b[49m\u001b[43m)\u001b[49m\n",
      "File \u001b[0;32m/data1/lichen/anaconda3/envs/cpa/lib/python3.9/multiprocessing/popen_spawn_posix.py:32\u001b[0m, in \u001b[0;36mPopen.__init__\u001b[0;34m(self, process_obj)\u001b[0m\n\u001b[1;32m     30\u001b[0m \u001b[38;5;28;01mdef\u001b[39;00m \u001b[38;5;21m__init__\u001b[39m(\u001b[38;5;28mself\u001b[39m, process_obj):\n\u001b[1;32m     31\u001b[0m     \u001b[38;5;28mself\u001b[39m\u001b[38;5;241m.\u001b[39m_fds \u001b[38;5;241m=\u001b[39m []\n\u001b[0;32m---> 32\u001b[0m     \u001b[38;5;28;43msuper\u001b[39;49m\u001b[43m(\u001b[49m\u001b[43m)\u001b[49m\u001b[38;5;241;43m.\u001b[39;49m\u001b[38;5;21;43m__init__\u001b[39;49m\u001b[43m(\u001b[49m\u001b[43mprocess_obj\u001b[49m\u001b[43m)\u001b[49m\n",
      "File \u001b[0;32m/data1/lichen/anaconda3/envs/cpa/lib/python3.9/multiprocessing/popen_fork.py:19\u001b[0m, in \u001b[0;36mPopen.__init__\u001b[0;34m(self, process_obj)\u001b[0m\n\u001b[1;32m     17\u001b[0m \u001b[38;5;28mself\u001b[39m\u001b[38;5;241m.\u001b[39mreturncode \u001b[38;5;241m=\u001b[39m \u001b[38;5;28;01mNone\u001b[39;00m\n\u001b[1;32m     18\u001b[0m \u001b[38;5;28mself\u001b[39m\u001b[38;5;241m.\u001b[39mfinalizer \u001b[38;5;241m=\u001b[39m \u001b[38;5;28;01mNone\u001b[39;00m\n\u001b[0;32m---> 19\u001b[0m \u001b[38;5;28;43mself\u001b[39;49m\u001b[38;5;241;43m.\u001b[39;49m\u001b[43m_launch\u001b[49m\u001b[43m(\u001b[49m\u001b[43mprocess_obj\u001b[49m\u001b[43m)\u001b[49m\n",
      "File \u001b[0;32m/data1/lichen/anaconda3/envs/cpa/lib/python3.9/multiprocessing/popen_spawn_posix.py:62\u001b[0m, in \u001b[0;36mPopen._launch\u001b[0;34m(self, process_obj)\u001b[0m\n\u001b[1;32m     60\u001b[0m     \u001b[38;5;28mself\u001b[39m\u001b[38;5;241m.\u001b[39msentinel \u001b[38;5;241m=\u001b[39m parent_r\n\u001b[1;32m     61\u001b[0m     \u001b[38;5;28;01mwith\u001b[39;00m \u001b[38;5;28mopen\u001b[39m(parent_w, \u001b[38;5;124m'\u001b[39m\u001b[38;5;124mwb\u001b[39m\u001b[38;5;124m'\u001b[39m, closefd\u001b[38;5;241m=\u001b[39m\u001b[38;5;28;01mFalse\u001b[39;00m) \u001b[38;5;28;01mas\u001b[39;00m f:\n\u001b[0;32m---> 62\u001b[0m         \u001b[43mf\u001b[49m\u001b[38;5;241;43m.\u001b[39;49m\u001b[43mwrite\u001b[49m\u001b[43m(\u001b[49m\u001b[43mfp\u001b[49m\u001b[38;5;241;43m.\u001b[39;49m\u001b[43mgetbuffer\u001b[49m\u001b[43m(\u001b[49m\u001b[43m)\u001b[49m\u001b[43m)\u001b[49m\n\u001b[1;32m     63\u001b[0m \u001b[38;5;28;01mfinally\u001b[39;00m:\n\u001b[1;32m     64\u001b[0m     fds_to_close \u001b[38;5;241m=\u001b[39m []\n",
      "\u001b[0;31mKeyboardInterrupt\u001b[0m: "
     ]
    }
   ],
   "source": [
    "import torch.multiprocessing as mp\n",
    "import scanpy as sc\n",
    "import dill as pickle  # 使用 dill 代替 pickle\n",
    "\n",
    "\n",
    "# 必须使用 dill 来序列化多进程函数\n",
    "if __name__ == \"__main__\":\n",
    "    # mp.set_start_method('spawn', force=True)\n",
    "    # mp.set_executable(mp.get_executable())\n",
    "\n",
    "    # - get cell line name\n",
    "    common_cell_line = {\n",
    "        'A549': 'A549',\n",
    "        'HEPG2': 'HepG2',\n",
    "        'HT29': 'HT29',\n",
    "        'MCF7': 'MCF7',\n",
    "        'SW480': 'SW480',\n",
    "        'PC3': 'PC3',\n",
    "        'A375': 'A375',\n",
    "    }\n",
    "\n",
    "    # - read adata_L1000, this is processed data\n",
    "    adata_L1000 = sc.read('/nfs/public/lichen/results/single_cell_perturbation/perturbation_benchmark/benchmark_data/L1000/GSE92742/adata_gene_pert.h5ad')\n",
    "\n",
    "    # 获取 GPU 数量，并为每个进程分配一个 GPU\n",
    "    num_gpus = torch.cuda.device_count()\n",
    "\n",
    "    # 使用 torch.multiprocessing 进行并行处理\n",
    "    processes = []\n",
    "    for i, cell_line_bulk in enumerate(common_cell_line.keys()):\n",
    "        gpu_id = i % num_gpus  # 为每个进程分配不同的 GPU\n",
    "        cell_line_single = common_cell_line[cell_line_bulk]\n",
    "        p = mp.Process(target=process_cell_line, args=(cell_line_bulk, cell_line_single, common_cell_line, adata_L1000, gpu_id))\n",
    "        p.start()\n",
    "        processes.append(p)\n",
    "\n",
    "    # 等待所有进程完成\n",
    "    for p in processes:\n",
    "        p.join()\n",
    "\n",
    "    print(\"All processes completed.\")\n"
   ]
  },
  {
   "cell_type": "code",
   "execution_count": null,
   "metadata": {},
   "outputs": [],
   "source": []
  },
  {
   "cell_type": "code",
   "execution_count": null,
   "metadata": {},
   "outputs": [],
   "source": []
  },
  {
   "cell_type": "code",
   "execution_count": null,
   "metadata": {},
   "outputs": [],
   "source": []
  },
  {
   "cell_type": "markdown",
   "metadata": {},
   "source": [
    "# gpt改写并行版本"
   ]
  },
  {
   "cell_type": "code",
   "execution_count": null,
   "metadata": {},
   "outputs": [],
   "source": [
    "import concurrent.futures\n",
    "import pandas as pd\n",
    "import numpy as np\n",
    "from anndata import AnnData\n",
    "import scanpy as sc\n",
    "\n",
    "# 改进为返回值形式以便收集结果\n",
    "def cpa_single_pert(pert, gpu_id = 0):\n",
    "    \n",
    "    # 设置 GPU\n",
    "    os.environ[\"CUDA_VISIBLE_DEVICES\"] = str(gpu_id)\n",
    "    print(f\"Starting training for {pert} on GPU {gpu_id}\")\n",
    "    \n",
    "    print('='*20, pert)\n",
    "    global pert_data, adata_ori, adata_rna, common_var, cell_line_bulk, model_params, trainer_params\n",
    "\n",
    "    # - get adata_pert and adata_ctrl\n",
    "    adata_pert = pert_data.adata_split[pert_data.adata_split[pert_data.adata_split.obs['perturbation_group']==pert+' | K562'].obs_names]\n",
    "    adata_ctrl = pert_data.adata_split[adata_pert.obs['control_barcode']]\n",
    "\n",
    "    adata_pert = adata_ori[adata_pert.obs_names, common_var]\n",
    "    adata_ctrl = adata_ori[adata_ctrl.obs_names, common_var]\n",
    "\n",
    "    # - get adata_rna_common\n",
    "    adata_rna_common = adata_rna[:, common_var]\n",
    "\n",
    "    # - generate adata_train to input to scGen model\n",
    "    np_list, obs_list, pert_list, celltype_list = [], [], [], []\n",
    "    adata_list = [adata_pert, adata_rna_common, adata_ctrl, adata_rna_common]\n",
    "    for j, adata_ in enumerate(adata_list):\n",
    "        if j in [0, 1]:\n",
    "            pert_list.extend(['stimulated']*len(adata_))\n",
    "        else:\n",
    "            pert_list.extend(['ctrl']*len(adata_))\n",
    "\n",
    "        if j in [0, 2]:\n",
    "            celltype_list.extend(['K562']*len(adata_))\n",
    "        else:\n",
    "            celltype_list.extend([cell_line_bulk]*len(adata_))\n",
    "        obs_list.extend([obs+f'_{j}' for obs in adata_.obs_names])\n",
    "        np_list.append(adata_.X.toarray())\n",
    "\n",
    "    adata_train = AnnData(X=np.vstack(np_list))\n",
    "    adata_train.obs_names = obs_list\n",
    "    adata_train.var_names = adata_pert.var_names\n",
    "\n",
    "    adata_train.obs['condition'] = pert_list\n",
    "    adata_train.obs['cell_type'] = celltype_list\n",
    "\n",
    "    # - transform the adata_train.X to count\n",
    "    adata_train.obs['cov_cond'] = adata_train.obs['cell_type'] + '_' + adata_train.obs['condition']\n",
    "    adata_train.X = np.exp(adata_train.X) - 1\n",
    "\n",
    "    # - initialize model\n",
    "    cpa.CPA.setup_anndata(adata_train, \n",
    "                          perturbation_key='condition',\n",
    "                          control_group='ctrl',\n",
    "                          categorical_covariate_keys=['cell_type'],\n",
    "                          is_count_data=True,\n",
    "                          deg_uns_cat_key='cov_cond',\n",
    "                          max_comb_len=1)\n",
    "    \n",
    "    print('adata_train.shape: ', adata_train.shape)\n",
    "\n",
    "    adata_train_new = adata_train[~((adata_train.obs[\"cell_type\"] == cell_line_bulk) &\n",
    "                                    (adata_train.obs[\"condition\"] == \"stimulated\"))].copy()\n",
    "\n",
    "    obs_df_sub_idx = np.array(adata_train_new.obs.index)\n",
    "    np.random.seed(2024)\n",
    "    np.random.shuffle(obs_df_sub_idx)\n",
    "\n",
    "    split_point_1 = int(len(obs_df_sub_idx) * 0.9)\n",
    "    split_point_2 = int(len(obs_df_sub_idx) * (0.9 + 0.1))\n",
    "    train = obs_df_sub_idx[:split_point_1]\n",
    "    valid = obs_df_sub_idx[split_point_1:split_point_2]\n",
    "\n",
    "    adata_train.obs['split_key'] = 'ood'\n",
    "    adata_train.obs.loc[train, 'split_key'] = 'train'\n",
    "    adata_train.obs.loc[valid, 'split_key'] = 'valid'\n",
    "    \n",
    "    print('start training......')\n",
    "\n",
    "    # - train the model\n",
    "    model = cpa.CPA(adata=adata_train, \n",
    "                    split_key='split_key',\n",
    "                    train_split='train',\n",
    "                    valid_split='valid',\n",
    "                    test_split='ood',\n",
    "                    **model_params)\n",
    "\n",
    "    model.train(max_epochs=2000,\n",
    "                use_gpu=True, \n",
    "                batch_size=500,\n",
    "                plan_kwargs=trainer_params,\n",
    "                early_stopping_patience=5,\n",
    "                check_val_every_n_epoch=5,\n",
    "                progress_bar_refresh_rate=0)\n",
    "    \n",
    "    print('finish training')\n",
    "\n",
    "    model.predict(adata_train, batch_size=2048)\n",
    "\n",
    "    # - get the predicted data\n",
    "    cat = cell_line_bulk + '_' + 'stimulated'\n",
    "    cat_adata = adata_train[adata_train.obs['cov_cond'] == cat].copy()\n",
    "    x_pred = cat_adata.obsm['CPA_pred']\n",
    "    x_pred = np.log1p(x_pred)\n",
    "\n",
    "    adata_ctrl = adata_rna.copy()\n",
    "    adata_pert = adata_ctrl.copy()\n",
    "    adata_pert.X = x_pred\n",
    "    adata_pert.obs_names = [i + f'_{pert}' for i in adata_pert.obs_names]\n",
    "\n",
    "    adata_ctrl.obs['batch'] = 'ctrl'\n",
    "    adata_pert.obs['batch'] = 'pert'\n",
    "\n",
    "    adata_concat = sc.concat([adata_ctrl, adata_pert])\n",
    "\n",
    "    # - calculate DE genes\n",
    "    sc.tl.rank_genes_groups(\n",
    "        adata_concat,\n",
    "        groupby='batch',\n",
    "        reference='ctrl',\n",
    "        rankby_abs=False,\n",
    "        n_genes=len(adata_concat.var),\n",
    "        use_raw=False,\n",
    "        method='wilcoxon'\n",
    "    )\n",
    "    \n",
    "    de_genes = pd.DataFrame(adata_concat.uns['rank_genes_groups']['names'])\n",
    "    scores = pd.DataFrame(adata_concat.uns['rank_genes_groups']['scores'])\n",
    "\n",
    "    # - return gene score for the current perturbation\n",
    "    return pert, (list(de_genes['pert']), list(scores['pert']))\n",
    "\n"
   ]
  },
  {
   "cell_type": "code",
   "execution_count": null,
   "metadata": {},
   "outputs": [
    {
     "name": "stdout",
     "output_type": "stream",
     "text": [
      "Starting training for ABCB7 on GPU 2Starting training for ABCB6 on GPU 1Starting training for AATF on GPU 0\n",
      "Starting training for ABCC1 on GPU 3\n",
      "====================\n",
      "\n",
      " ============================================================ ABCB7  ABCB6\n",
      "AATFABCC1\n",
      "\n",
      "\n",
      "Warning: dosage_key is not set. Setting it to \"1.0\" for all cellsWarning: dosage_key is not set. Setting it to \"1.0\" for all cells\n",
      "\n",
      "Warning: dosage_key is not set. Setting it to \"1.0\" for all cells\n"
     ]
    },
    {
     "name": "stderr",
     "output_type": "stream",
     "text": [
      "  0%|          | 0/1488 [00:00<?, ?it/s]"
     ]
    },
    {
     "name": "stdout",
     "output_type": "stream",
     "text": [
      "Warning: dosage_key is not set. Setting it to \"1.0\" for all cells\n"
     ]
    },
    {
     "name": "stderr",
     "output_type": "stream",
     "text": [
      "100%|██████████| 1364/1364 [00:00<00:00, 83104.99it/s]\n",
      "100%|██████████| 1488/1488 [00:00<00:00, 82249.93it/s]\n",
      "100%|██████████| 1364/1364 [00:00<00:00, 647908.34it/s]\n",
      "100%|██████████| 1470/1470 [00:00<00:00, 75589.72it/s]\n",
      "100%|██████████| 1488/1488 [00:00<00:00, 770604.32it/s]\n",
      "100%|██████████| 1402/1402 [00:00<00:00, 83408.95it/s]\n",
      "100%|██████████| 1470/1470 [00:00<00:00, 591938.06it/s]\n",
      "100%|██████████| 1402/1402 [00:00<00:00, 1088763.97it/s]\n",
      "An NVIDIA GPU may be present on this machine, but a CUDA-enabled jaxlib is not installed. Falling back to cpu.\n",
      "An NVIDIA GPU may be present on this machine, but a CUDA-enabled jaxlib is not installed. Falling back to cpu.\n",
      "An NVIDIA GPU may be present on this machine, but a CUDA-enabled jaxlib is not installed. Falling back to cpu.\n",
      "An NVIDIA GPU may be present on this machine, but a CUDA-enabled jaxlib is not installed. Falling back to cpu.\n"
     ]
    },
    {
     "name": "stdout",
     "output_type": "stream",
     "text": [
      "\u001b[34mINFO    \u001b[0m Generating sequential column names                                                                        \n",
      "\u001b[34mINFO    \u001b[0m Generating sequential column names                                                                        \n",
      "\u001b[34mINFO    \u001b[0m Generating sequential column names                                                                        \n",
      "\u001b[34mINFO    \u001b[0m Generating sequential column names                                                                        \n",
      "\u001b[34mINFO    \u001b[0m Generating sequential column names                                                                        \n",
      "\u001b[34mINFO    \u001b[0m Generating sequential column names                                                                        \n",
      "adata_train.shape:  (1470, 2764)adata_train.shape: \n",
      " (1488, 2764)adata_train.shape: \n",
      " (1402, 2764)\n",
      "start training......\n",
      "start training......start training......\n",
      "\n"
     ]
    },
    {
     "name": "stderr",
     "output_type": "stream",
     "text": [
      "Global seed set to 6977\n"
     ]
    },
    {
     "name": "stdout",
     "output_type": "stream",
     "text": [
      "\u001b[34mINFO    \u001b[0m Generating sequential column names                                                                        \n",
      "\u001b[34mINFO    \u001b[0m Generating sequential column names                                                                        \n"
     ]
    },
    {
     "name": "stderr",
     "output_type": "stream",
     "text": [
      "Global seed set to 6977\n",
      "Global seed set to 6977\n"
     ]
    },
    {
     "name": "stdout",
     "output_type": "stream",
     "text": [
      "adata_train.shape:  (1364, 2764)\n",
      "start training......\n"
     ]
    },
    {
     "name": "stderr",
     "output_type": "stream",
     "text": [
      "Global seed set to 6977\n",
      "100%|██████████| 2/2 [00:00<00:00, 770.80it/s]\n",
      "100%|██████████| 2/2 [00:00<00:00, 628.74it/s]\n",
      "100%|██████████| 2/2 [00:00<00:00, 967.21it/s]\n",
      "100%|██████████| 2/2 [00:00<00:00, 934.77it/s]\n"
     ]
    },
    {
     "ename": "RuntimeError",
     "evalue": "CUDA error: initialization error\nCUDA kernel errors might be asynchronously reported at some other API call, so the stacktrace below might be incorrect.\nFor debugging consider passing CUDA_LAUNCH_BLOCKING=1.\nCompile with `TORCH_USE_CUDA_DSA` to enable device-side assertions.\n",
     "output_type": "error",
     "traceback": [
      "\u001b[0;31m---------------------------------------------------------------------------\u001b[0m",
      "\u001b[0;31m_RemoteTraceback\u001b[0m                          Traceback (most recent call last)",
      "\u001b[0;31m_RemoteTraceback\u001b[0m: \n\"\"\"\nTraceback (most recent call last):\n  File \"/data1/lichen/anaconda3/envs/cpa/lib/python3.9/concurrent/futures/process.py\", line 246, in _process_worker\n    r = call_item.fn(*call_item.args, **call_item.kwargs)\n  File \"/tmp/ipykernel_1282822/1445975.py\", line 91, in cpa_single_pert\n    model.train(max_epochs=2000,\n  File \"/data1/lichen/anaconda3/envs/cpa/lib/python3.9/site-packages/cpa/_model.py\", line 568, in train\n    self.runner = TrainRunner(\n  File \"/data1/lichen/anaconda3/envs/cpa/lib/python3.9/site-packages/scvi/train/_trainrunner.py\", line 64, in __init__\n    accelerator, lightning_devices, device = parse_use_gpu_arg(use_gpu)\n  File \"/data1/lichen/anaconda3/envs/cpa/lib/python3.9/site-packages/scvi/model/_utils.py\", line 52, in parse_use_gpu_arg\n    current = torch.cuda.current_device() if cuda_available else \"mps\"\n  File \"/data1/lichen/anaconda3/envs/cpa/lib/python3.9/site-packages/torch/cuda/__init__.py\", line 674, in current_device\n    _lazy_init()\n  File \"/data1/lichen/anaconda3/envs/cpa/lib/python3.9/site-packages/torch/cuda/__init__.py\", line 247, in _lazy_init\n    torch._C._cuda_init()\nRuntimeError: CUDA error: initialization error\nCUDA kernel errors might be asynchronously reported at some other API call, so the stacktrace below might be incorrect.\nFor debugging consider passing CUDA_LAUNCH_BLOCKING=1.\nCompile with `TORCH_USE_CUDA_DSA` to enable device-side assertions.\n\n\"\"\"",
      "\nThe above exception was the direct cause of the following exception:\n",
      "\u001b[0;31mRuntimeError\u001b[0m                              Traceback (most recent call last)",
      "Cell \u001b[0;32mIn[37], line 10\u001b[0m\n\u001b[1;32m      7\u001b[0m futures \u001b[38;5;241m=\u001b[39m {executor\u001b[38;5;241m.\u001b[39msubmit(cpa_single_pert, pert, gpu_ids[i \u001b[38;5;241m%\u001b[39m \u001b[38;5;28mlen\u001b[39m(gpu_ids)]): pert \u001b[38;5;28;01mfor\u001b[39;00m i, pert \u001b[38;5;129;01min\u001b[39;00m \u001b[38;5;28menumerate\u001b[39m(common_perts[\u001b[38;5;241m0\u001b[39m:\u001b[38;5;241m4\u001b[39m])}\n\u001b[1;32m      9\u001b[0m \u001b[38;5;28;01mfor\u001b[39;00m future \u001b[38;5;129;01min\u001b[39;00m concurrent\u001b[38;5;241m.\u001b[39mfutures\u001b[38;5;241m.\u001b[39mas_completed(futures):\n\u001b[0;32m---> 10\u001b[0m     pert, result \u001b[38;5;241m=\u001b[39m \u001b[43mfuture\u001b[49m\u001b[38;5;241;43m.\u001b[39;49m\u001b[43mresult\u001b[49m\u001b[43m(\u001b[49m\u001b[43m)\u001b[49m\n\u001b[1;32m     11\u001b[0m     \u001b[38;5;28mprint\u001b[39m(\u001b[38;5;124mf\u001b[39m\u001b[38;5;124m\"\u001b[39m\u001b[38;5;124mTask for \u001b[39m\u001b[38;5;132;01m{\u001b[39;00mpert\u001b[38;5;132;01m}\u001b[39;00m\u001b[38;5;124m completed with result: \u001b[39m\u001b[38;5;132;01m{\u001b[39;00mresult\u001b[38;5;132;01m}\u001b[39;00m\u001b[38;5;124m\"\u001b[39m)\n",
      "File \u001b[0;32m/data1/lichen/anaconda3/envs/cpa/lib/python3.9/concurrent/futures/_base.py:439\u001b[0m, in \u001b[0;36mFuture.result\u001b[0;34m(self, timeout)\u001b[0m\n\u001b[1;32m    437\u001b[0m     \u001b[38;5;28;01mraise\u001b[39;00m CancelledError()\n\u001b[1;32m    438\u001b[0m \u001b[38;5;28;01melif\u001b[39;00m \u001b[38;5;28mself\u001b[39m\u001b[38;5;241m.\u001b[39m_state \u001b[38;5;241m==\u001b[39m FINISHED:\n\u001b[0;32m--> 439\u001b[0m     \u001b[38;5;28;01mreturn\u001b[39;00m \u001b[38;5;28;43mself\u001b[39;49m\u001b[38;5;241;43m.\u001b[39;49m\u001b[43m__get_result\u001b[49m\u001b[43m(\u001b[49m\u001b[43m)\u001b[49m\n\u001b[1;32m    441\u001b[0m \u001b[38;5;28mself\u001b[39m\u001b[38;5;241m.\u001b[39m_condition\u001b[38;5;241m.\u001b[39mwait(timeout)\n\u001b[1;32m    443\u001b[0m \u001b[38;5;28;01mif\u001b[39;00m \u001b[38;5;28mself\u001b[39m\u001b[38;5;241m.\u001b[39m_state \u001b[38;5;129;01min\u001b[39;00m [CANCELLED, CANCELLED_AND_NOTIFIED]:\n",
      "File \u001b[0;32m/data1/lichen/anaconda3/envs/cpa/lib/python3.9/concurrent/futures/_base.py:391\u001b[0m, in \u001b[0;36mFuture.__get_result\u001b[0;34m(self)\u001b[0m\n\u001b[1;32m    389\u001b[0m \u001b[38;5;28;01mif\u001b[39;00m \u001b[38;5;28mself\u001b[39m\u001b[38;5;241m.\u001b[39m_exception:\n\u001b[1;32m    390\u001b[0m     \u001b[38;5;28;01mtry\u001b[39;00m:\n\u001b[0;32m--> 391\u001b[0m         \u001b[38;5;28;01mraise\u001b[39;00m \u001b[38;5;28mself\u001b[39m\u001b[38;5;241m.\u001b[39m_exception\n\u001b[1;32m    392\u001b[0m     \u001b[38;5;28;01mfinally\u001b[39;00m:\n\u001b[1;32m    393\u001b[0m         \u001b[38;5;66;03m# Break a reference cycle with the exception in self._exception\u001b[39;00m\n\u001b[1;32m    394\u001b[0m         \u001b[38;5;28mself\u001b[39m \u001b[38;5;241m=\u001b[39m \u001b[38;5;28;01mNone\u001b[39;00m\n",
      "\u001b[0;31mRuntimeError\u001b[0m: CUDA error: initialization error\nCUDA kernel errors might be asynchronously reported at some other API call, so the stacktrace below might be incorrect.\nFor debugging consider passing CUDA_LAUNCH_BLOCKING=1.\nCompile with `TORCH_USE_CUDA_DSA` to enable device-side assertions.\n"
     ]
    }
   ],
   "source": [
    "# - concurrent使用gpu\n",
    "\n",
    "if __name__ == \"__main__\":\n",
    "    gpu_ids = [0, 1, 2, 3]  # 假设有 4 张 GPU\n",
    "    \n",
    "    with concurrent.futures.ProcessPoolExecutor(max_workers=len(gpu_ids)) as executor:\n",
    "        futures = {executor.submit(cpa_single_pert, pert, gpu_ids[i % len(gpu_ids)]): pert for i, pert in enumerate(common_perts[0:4])}\n",
    "        \n",
    "        for future in concurrent.futures.as_completed(futures):\n",
    "            pert, result = future.result()\n",
    "            print(f\"Task for {pert} completed with result: {result}\")"
   ]
  },
  {
   "cell_type": "code",
   "execution_count": null,
   "metadata": {},
   "outputs": [
    {
     "name": "stdout",
     "output_type": "stream",
     "text": [
      "Starting training for ABCB6 on GPU 1\n",
      "Starting training for ABCB7 on GPU 2Starting training for AATF on GPU 0====================\n",
      "\n",
      " ====================ABCB6====================\n",
      "  Starting training for ABCC1 on GPU 3AATFABCB7\n",
      "\n",
      "\n",
      "==================== ABCC1\n",
      "Warning: dosage_key is not set. Setting it to \"1.0\" for all cellsWarning: dosage_key is not set. Setting it to \"1.0\" for all cellsWarning: dosage_key is not set. Setting it to \"1.0\" for all cells\n",
      "\n",
      "\n"
     ]
    },
    {
     "name": "stderr",
     "output_type": "stream",
     "text": [
      "  0%|          | 0/1402 [00:00<?, ?it/s]"
     ]
    },
    {
     "name": "stdout",
     "output_type": "stream",
     "text": [
      "Warning: dosage_key is not set. Setting it to \"1.0\" for all cells\n"
     ]
    },
    {
     "name": "stderr",
     "output_type": "stream",
     "text": [
      "100%|██████████| 1402/1402 [00:00<00:00, 81915.89it/s]\n",
      "100%|██████████| 1488/1488 [00:00<00:00, 78793.12it/s]\n",
      "100%|██████████| 1402/1402 [00:00<00:00, 678483.24it/s]\n",
      "100%|██████████| 1470/1470 [00:00<00:00, 68405.88it/s]\n",
      "100%|██████████| 1364/1364 [00:00<00:00, 74246.07it/s]\n",
      "100%|██████████| 1470/1470 [00:00<00:00, 405579.98it/s]\n",
      "100%|██████████| 1488/1488 [00:00<00:00, 205964.11it/s]\n",
      "100%|██████████| 1364/1364 [00:00<00:00, 706823.65it/s]\n",
      "An NVIDIA GPU may be present on this machine, but a CUDA-enabled jaxlib is not installed. Falling back to cpu.\n",
      "An NVIDIA GPU may be present on this machine, but a CUDA-enabled jaxlib is not installed. Falling back to cpu.\n",
      "An NVIDIA GPU may be present on this machine, but a CUDA-enabled jaxlib is not installed. Falling back to cpu.\n",
      "An NVIDIA GPU may be present on this machine, but a CUDA-enabled jaxlib is not installed. Falling back to cpu.\n"
     ]
    },
    {
     "name": "stdout",
     "output_type": "stream",
     "text": [
      "\u001b[34mINFO    \u001b[0m Generating sequential column names                                                                        \n",
      "\u001b[34mINFO    \u001b[0m Generating sequential column names                                                                        \n",
      "\u001b[34mINFO    \u001b[0m Generating sequential column names                                                                        \n",
      "\u001b[34mINFO    \u001b[0m Generating sequential column names                                                                        \n",
      "\u001b[34mINFO    \u001b[0m Generating sequential column names                                                                        \n",
      "\u001b[34mINFO    \u001b[0m Generating sequential column names                                                                        \n",
      "adata_train.shape: adata_train.shape: adata_train.shape:    (1364, 2764)(1470, 2764)(1488, 2764)\n",
      "\n",
      "\n",
      "\u001b[34mINFO    \u001b[0m Generating sequential column names                                                                        \n",
      "\u001b[34mINFO    \u001b[0m Generating sequential column names                                                                        \n",
      "adata_train.shape:  start training......(1402, 2764)start training......start training......\n",
      "\n",
      "\n",
      "\n"
     ]
    },
    {
     "name": "stderr",
     "output_type": "stream",
     "text": [
      "Global seed set to 6977\n",
      "Global seed set to 6977\n",
      "Global seed set to 6977\n"
     ]
    },
    {
     "name": "stdout",
     "output_type": "stream",
     "text": [
      "start training......\n"
     ]
    },
    {
     "name": "stderr",
     "output_type": "stream",
     "text": [
      "Global seed set to 6977\n",
      "100%|██████████| 2/2 [00:00<00:00, 835.27it/s]\n",
      "100%|██████████| 2/2 [00:00<00:00, 598.03it/s]\n",
      "100%|██████████| 2/2 [00:00<00:00, 495.17it/s]\n",
      "100%|██████████| 2/2 [00:00<00:00, 1058.63it/s]\n"
     ]
    },
    {
     "ename": "RuntimeError",
     "evalue": "CUDA error: initialization error\nCUDA kernel errors might be asynchronously reported at some other API call, so the stacktrace below might be incorrect.\nFor debugging consider passing CUDA_LAUNCH_BLOCKING=1.\nCompile with `TORCH_USE_CUDA_DSA` to enable device-side assertions.\n",
     "output_type": "error",
     "traceback": [
      "\u001b[0;31m---------------------------------------------------------------------------\u001b[0m",
      "\u001b[0;31mRemoteTraceback\u001b[0m                           Traceback (most recent call last)",
      "\u001b[0;31mRemoteTraceback\u001b[0m: \n\"\"\"\nTraceback (most recent call last):\n  File \"/data1/lichen/anaconda3/envs/cpa/lib/python3.9/multiprocessing/pool.py\", line 125, in worker\n    result = (True, func(*args, **kwds))\n  File \"/tmp/ipykernel_1282822/1445975.py\", line 91, in cpa_single_pert\n    model.train(max_epochs=2000,\n  File \"/data1/lichen/anaconda3/envs/cpa/lib/python3.9/site-packages/cpa/_model.py\", line 568, in train\n    self.runner = TrainRunner(\n  File \"/data1/lichen/anaconda3/envs/cpa/lib/python3.9/site-packages/scvi/train/_trainrunner.py\", line 64, in __init__\n    accelerator, lightning_devices, device = parse_use_gpu_arg(use_gpu)\n  File \"/data1/lichen/anaconda3/envs/cpa/lib/python3.9/site-packages/scvi/model/_utils.py\", line 52, in parse_use_gpu_arg\n    current = torch.cuda.current_device() if cuda_available else \"mps\"\n  File \"/data1/lichen/anaconda3/envs/cpa/lib/python3.9/site-packages/torch/cuda/__init__.py\", line 674, in current_device\n    _lazy_init()\n  File \"/data1/lichen/anaconda3/envs/cpa/lib/python3.9/site-packages/torch/cuda/__init__.py\", line 247, in _lazy_init\n    torch._C._cuda_init()\nRuntimeError: CUDA error: initialization error\nCUDA kernel errors might be asynchronously reported at some other API call, so the stacktrace below might be incorrect.\nFor debugging consider passing CUDA_LAUNCH_BLOCKING=1.\nCompile with `TORCH_USE_CUDA_DSA` to enable device-side assertions.\n\n\"\"\"",
      "\nThe above exception was the direct cause of the following exception:\n",
      "\u001b[0;31mRuntimeError\u001b[0m                              Traceback (most recent call last)",
      "Cell \u001b[0;32mIn[38], line 14\u001b[0m\n\u001b[1;32m     11\u001b[0m pool\u001b[38;5;241m.\u001b[39mjoin()\n\u001b[1;32m     13\u001b[0m \u001b[38;5;28;01mfor\u001b[39;00m result \u001b[38;5;129;01min\u001b[39;00m results:\n\u001b[0;32m---> 14\u001b[0m     \u001b[38;5;28mprint\u001b[39m(\u001b[43mresult\u001b[49m\u001b[38;5;241;43m.\u001b[39;49m\u001b[43mget\u001b[49m\u001b[43m(\u001b[49m\u001b[43m)\u001b[49m)\n",
      "File \u001b[0;32m/data1/lichen/anaconda3/envs/cpa/lib/python3.9/multiprocessing/pool.py:771\u001b[0m, in \u001b[0;36mApplyResult.get\u001b[0;34m(self, timeout)\u001b[0m\n\u001b[1;32m    769\u001b[0m     \u001b[38;5;28;01mreturn\u001b[39;00m \u001b[38;5;28mself\u001b[39m\u001b[38;5;241m.\u001b[39m_value\n\u001b[1;32m    770\u001b[0m \u001b[38;5;28;01melse\u001b[39;00m:\n\u001b[0;32m--> 771\u001b[0m     \u001b[38;5;28;01mraise\u001b[39;00m \u001b[38;5;28mself\u001b[39m\u001b[38;5;241m.\u001b[39m_value\n",
      "\u001b[0;31mRuntimeError\u001b[0m: CUDA error: initialization error\nCUDA kernel errors might be asynchronously reported at some other API call, so the stacktrace below might be incorrect.\nFor debugging consider passing CUDA_LAUNCH_BLOCKING=1.\nCompile with `TORCH_USE_CUDA_DSA` to enable device-side assertions.\n"
     ]
    }
   ],
   "source": [
    "import torch.multiprocessing as mp\n",
    "import os\n",
    "\n",
    "if __name__ == \"__main__\":\n",
    "    gpu_ids = [0, 1, 2, 3]  # 假设有 4 张 GPU\n",
    "    \n",
    "    # 使用 torch.multiprocessing\n",
    "    with mp.Pool(processes=len(gpu_ids)) as pool:\n",
    "        results = [pool.apply_async(cpa_single_pert, args=(pert, gpu_ids[i % len(gpu_ids)])) for i, pert in enumerate(common_perts[0:4])]\n",
    "        pool.close()\n",
    "        pool.join()\n",
    "\n",
    "        for result in results:\n",
    "            print(result.get())"
   ]
  },
  {
   "cell_type": "code",
   "execution_count": null,
   "metadata": {},
   "outputs": [],
   "source": []
  },
  {
   "cell_type": "code",
   "execution_count": null,
   "metadata": {},
   "outputs": [],
   "source": []
  },
  {
   "cell_type": "code",
   "execution_count": null,
   "metadata": {},
   "outputs": [],
   "source": []
  },
  {
   "cell_type": "code",
   "execution_count": null,
   "metadata": {},
   "outputs": [],
   "source": [
    "\n",
    "# 使用并行处理\n",
    "pert_gene_rank_dict = {}\n",
    "\n",
    "# 并行执行每个 perturbation\n",
    "with concurrent.futures.ProcessPoolExecutor() as executor:\n",
    "    futures = {executor.submit(cpa_single_pert, pert): pert for pert in common_perts[0:5]}\n",
    "\n",
    "    # 使用 tqdm 显示进度条\n",
    "    for future in tqdm(concurrent.futures.as_completed(futures), total=len(common_perts[0:5])):\n",
    "        pert, gene_scores = future.result()\n",
    "        pert_gene_rank_dict[pert] = gene_scores\n"
   ]
  },
  {
   "cell_type": "code",
   "execution_count": null,
   "metadata": {},
   "outputs": [
    {
     "name": "stdout",
     "output_type": "stream",
     "text": [
      "========================================  ====================AATF====================ABCB6 \n",
      "\n",
      "==================== ABCB7 ABCC1\n",
      "ABCC10\n",
      "\n",
      "Warning: dosage_key is not set. Setting it to \"1.0\" for all cells\n",
      "Warning: dosage_key is not set. Setting it to \"1.0\" for all cells\n",
      "Warning: dosage_key is not set. Setting it to \"1.0\" for all cells\n",
      "Warning: dosage_key is not set. Setting it to \"1.0\" for all cells\n",
      "Warning: dosage_key is not set. Setting it to \"1.0\" for all cells\n"
     ]
    },
    {
     "name": "stderr",
     "output_type": "stream",
     "text": [
      "100%|██████████| 1262/1262 [00:00<00:00, 79446.64it/s]\n",
      "100%|██████████| 1364/1364 [00:00<00:00, 79390.40it/s]\n",
      "100%|██████████| 1262/1262 [00:00<00:00, 506527.43it/s]\n",
      "100%|██████████| 1402/1402 [00:00<00:00, 71205.25it/s]\n",
      "100%|██████████| 1470/1470 [00:00<00:00, 76336.55it/s]\n",
      "100%|██████████| 1364/1364 [00:00<00:00, 365071.19it/s]\n",
      "100%|██████████| 1488/1488 [00:00<00:00, 69090.19it/s]\n",
      "100%|██████████| 1402/1402 [00:00<00:00, 373834.34it/s]\n",
      "100%|██████████| 1470/1470 [00:00<00:00, 467943.75it/s]\n",
      "100%|██████████| 1488/1488 [00:00<00:00, 323257.08it/s]\n",
      "An NVIDIA GPU may be present on this machine, but a CUDA-enabled jaxlib is not installed. Falling back to cpu.\n",
      "An NVIDIA GPU may be present on this machine, but a CUDA-enabled jaxlib is not installed. Falling back to cpu.\n",
      "An NVIDIA GPU may be present on this machine, but a CUDA-enabled jaxlib is not installed. Falling back to cpu.\n",
      "An NVIDIA GPU may be present on this machine, but a CUDA-enabled jaxlib is not installed. Falling back to cpu.\n",
      "An NVIDIA GPU may be present on this machine, but a CUDA-enabled jaxlib is not installed. Falling back to cpu.\n"
     ]
    },
    {
     "name": "stdout",
     "output_type": "stream",
     "text": [
      "\u001b[34mINFO    \u001b[0m Generating sequential column names                                                                        \n",
      "\u001b[34mINFO    \u001b[0m Generating sequential column names                                                                        \n",
      "adata_train.shape:  \u001b[34mINFO    \u001b[0m Generating sequential column names                                                                        \n",
      "\u001b[34mINFO    \u001b[0m Generating sequential column names                                                                        \n",
      "\u001b[34mINFO    \u001b[0m Generating sequential column names                                                                        \n",
      "\u001b[34mINFO    \u001b[0m Generating sequential column names                                                                        \n",
      "(1262, 2764)\n",
      "\u001b[34mINFO    \u001b[0m Generating sequential column names                                                                        \n",
      "\u001b[34mINFO    \u001b[0m Generating sequential column names                                                                        \n",
      "\u001b[34mINFO    \u001b[0m Generating sequential column names                                                                        \n",
      "\u001b[34mINFO    \u001b[0m Generating sequential column names                                                                        \n",
      "adata_train.shape: adata_train.shape: adata_train.shape: adata_train.shape:     (1402, 2764)(1364, 2764)(1488, 2764)(1470, 2764)\n",
      "\n",
      "\n",
      "\n",
      "start training......\n"
     ]
    },
    {
     "name": "stderr",
     "output_type": "stream",
     "text": [
      "Global seed set to 6977\n"
     ]
    },
    {
     "name": "stdout",
     "output_type": "stream",
     "text": [
      "start training......start training......\n",
      "start training......start training......\n",
      "\n",
      "\n"
     ]
    },
    {
     "name": "stderr",
     "output_type": "stream",
     "text": [
      "Global seed set to 6977\n",
      "Global seed set to 6977\n",
      "Global seed set to 6977\n",
      "Global seed set to 6977\n",
      "100%|██████████| 2/2 [00:00<00:00, 842.91it/s]\n",
      "100%|██████████| 2/2 [00:00<00:00, 1026.76it/s]\n",
      "100%|██████████| 2/2 [00:00<00:00, 797.40it/s]\n",
      "100%|██████████| 2/2 [00:00<00:00, 783.10it/s]\n",
      "100%|██████████| 2/2 [00:00<00:00, 570.19it/s]\n"
     ]
    }
   ],
   "source": [
    "import multiprocessing\n",
    "\n",
    "def collect_result(result):\n",
    "    pert, data = result\n",
    "    pert_gene_rank_dict[pert] = data\n",
    "    \n",
    "if __name__ == \"__main__\":\n",
    "    manager = multiprocessing.Manager()\n",
    "    pert_gene_rank_dict = manager.dict()  # 用 Manager 使其在进程之间共享\n",
    "    \n",
    "    pool = multiprocessing.Pool(processes=5)\n",
    "    # pool = multiprocessing.cpu_count()\n",
    "    # common_perts = [...]  # 你的 perturbations 列表\n",
    "    \n",
    "    # 使用 pool 并行执行\n",
    "    for pert in common_perts[0:5]:\n",
    "        pool.apply_async(cpa_single_pert, args=(pert,), callback=collect_result)\n",
    "\n",
    "    pool.close()\n",
    "    pool.join()  # 等待所有任务完成"
   ]
  },
  {
   "cell_type": "code",
   "execution_count": null,
   "metadata": {},
   "outputs": [
    {
     "name": "stdout",
     "output_type": "stream",
     "text": [
      "{}\n"
     ]
    }
   ],
   "source": [
    "print(pert_gene_rank_dict)"
   ]
  },
  {
   "cell_type": "code",
   "execution_count": null,
   "metadata": {},
   "outputs": [],
   "source": []
  }
 ],
 "metadata": {
  "kernelspec": {
   "display_name": "cpa",
   "language": "python",
   "name": "python3"
  },
  "language_info": {
   "codemirror_mode": {
    "name": "ipython",
    "version": 3
   },
   "file_extension": ".py",
   "mimetype": "text/x-python",
   "name": "python",
   "nbconvert_exporter": "python",
   "pygments_lexer": "ipython3",
   "version": "3.9.20"
  }
 },
 "nbformat": 4,
 "nbformat_minor": 2
}
