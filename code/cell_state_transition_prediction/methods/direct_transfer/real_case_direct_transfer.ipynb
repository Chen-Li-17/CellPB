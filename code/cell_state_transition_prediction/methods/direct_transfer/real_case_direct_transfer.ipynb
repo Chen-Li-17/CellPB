{
 "cells": [
  {
   "cell_type": "code",
   "execution_count": null,
   "metadata": {},
   "outputs": [],
   "source": []
  },
  {
   "cell_type": "markdown",
   "metadata": {},
   "source": [
    "env: cell_rank"
   ]
  },
  {
   "cell_type": "markdown",
   "metadata": {},
   "source": [
    "# import"
   ]
  },
  {
   "cell_type": "code",
   "execution_count": 1,
   "metadata": {},
   "outputs": [
    {
     "name": "stderr",
     "output_type": "stream",
     "text": [
      "Global seed set to 0\n"
     ]
    }
   ],
   "source": [
    "import scanpy as sc\n",
    "import pandas as pd\n",
    "import numpy as np\n",
    "from glob import glob\n",
    "import os\n",
    "import matplotlib.pyplot as plt\n",
    "from tqdm import tqdm\n",
    "# import torch\n",
    "# from torch_geometric.data import Data\n",
    "# from torch_geometric.data import DataLoader\n",
    "\n",
    "import pickle\n",
    "import sys\n",
    "import requests\n",
    "\n",
    "from types import MethodType\n",
    "import importlib\n",
    "# from scperturb import *\n",
    "import anndata as ad\n",
    "import scvelo as scv"
   ]
  },
  {
   "cell_type": "markdown",
   "metadata": {},
   "source": [
    "# initial"
   ]
  },
  {
   "cell_type": "code",
   "execution_count": 2,
   "metadata": {},
   "outputs": [],
   "source": [
    "dataset_pert_dict = {\n",
    "    'CAR_T': ['PDCD1'], # direct_transfer只有前两个数据有\n",
    "    'blood': ['GATA1', 'SPI1'],\n",
    "    # 'OSKM': ['SOX2',\n",
    "    #      'POU5F1',\n",
    "    #      'KLF4',\n",
    "    #      'MYC'],\n",
    "    # 'ADM': ['PTF1A']\n",
    "}\n",
    "dataset_celltype_dict = {\n",
    "    'CAR_T': 'Tex', \n",
    "    'blood': 'LMPP',\n",
    "    'OSKM': 'Fibroblast-like',\n",
    "    'ADM': 'Acinar'\n",
    "}\n",
    "\n",
    "dataset_dire_dict = {\n",
    "    'CAR_T': 'down', \n",
    "    'blood': 'down',\n",
    "    'OSKM': 'up',\n",
    "    'ADM': 'down'\n",
    "}\n",
    "\n",
    "\n",
    "datasets = list(dataset_pert_dict.keys())"
   ]
  },
  {
   "cell_type": "code",
   "execution_count": 3,
   "metadata": {},
   "outputs": [],
   "source": [
    "import json\n",
    "with open('/nfs/public/lichen/results/single_cell_perturbation/perturbation_benchmark/real_case/utils_data/direct_change_dict.json', 'r') as f:\n",
    "    direct_change_dict = json.load(f)"
   ]
  },
  {
   "cell_type": "markdown",
   "metadata": {},
   "source": [
    "# direct_tranfer跑所有datasets"
   ]
  },
  {
   "cell_type": "code",
   "execution_count": 4,
   "metadata": {},
   "outputs": [
    {
     "name": "stdout",
     "output_type": "stream",
     "text": [
      "==================== CAR_T ====================\n"
     ]
    },
    {
     "name": "stderr",
     "output_type": "stream",
     "text": [
      "  0%|          | 0/1 [00:00<?, ?it/s]"
     ]
    },
    {
     "name": "stdout",
     "output_type": "stream",
     "text": [
      "******************** PDCD1\n",
      "PDCD1 common var is 2524 / 2647\n"
     ]
    },
    {
     "name": "stderr",
     "output_type": "stream",
     "text": [
      "100%|██████████| 1/1 [00:03<00:00,  3.44s/it]\n"
     ]
    },
    {
     "name": "stdout",
     "output_type": "stream",
     "text": [
      "==================== blood ====================\n"
     ]
    },
    {
     "name": "stderr",
     "output_type": "stream",
     "text": [
      "  0%|          | 0/2 [00:00<?, ?it/s]"
     ]
    },
    {
     "name": "stdout",
     "output_type": "stream",
     "text": [
      "******************** GATA1\n",
      "GATA1 common var is 571 / 1206\n"
     ]
    },
    {
     "name": "stderr",
     "output_type": "stream",
     "text": [
      " 50%|█████     | 1/2 [00:49<00:49, 49.81s/it]"
     ]
    },
    {
     "name": "stdout",
     "output_type": "stream",
     "text": [
      "******************** SPI1\n",
      "SPI1 common var is 1096 / 1206\n"
     ]
    },
    {
     "name": "stderr",
     "output_type": "stream",
     "text": [
      "100%|██████████| 2/2 [02:00<00:00, 60.03s/it]\n"
     ]
    }
   ],
   "source": [
    "for dataset in datasets[:]:\n",
    "    # datasets = 'CAR_T'\n",
    "    print('='*20, dataset, '='*20)\n",
    "    save_dir = '/nfs/public/lichen/results/single_cell_perturbation/perturbation_benchmark/real_case/data'\n",
    "    adata_rna = sc.read(os.path.join(save_dir, dataset, 'adata_ctrl_v2.h5ad'))\n",
    "    if not isinstance(adata_rna.X, np.ndarray):\n",
    "        adata_rna.X = adata_rna.X.toarray()\n",
    "    adata = adata_rna.copy()\n",
    "\n",
    "    for pert in tqdm(dataset_pert_dict[dataset]):\n",
    "        if pert not in direct_change_dict:\n",
    "            print(f'{pert} not in direct_transfer_dict')\n",
    "        print('*'*20, pert)\n",
    "\n",
    "        # - direct transfer\n",
    "        adata_ctrl = adata_rna.copy()\n",
    "\n",
    "        gene_list = direct_change_dict[pert]['gene_list']\n",
    "        direct_change = direct_change_dict[pert]['direct_change']\n",
    "\n",
    "        exp_change = np.zeros(adata_ctrl.shape[1])\n",
    "\n",
    "        print(f'{pert} common var is {len(np.intersect1d(gene_list, adata_ctrl.var_names))} / {len(adata_ctrl.var_names)}')\n",
    "        for i in range(len(exp_change)):\n",
    "            if adata_ctrl.var_names[i] in gene_list:\n",
    "                exp_change[i] = direct_change[gene_list.index(adata_ctrl.var_names[i])]\n",
    "\n",
    "        adata_pert = adata_ctrl.copy()\n",
    "        adata_pert.X += exp_change\n",
    "        adata_pert.X[adata_pert.X < 0] = 0\n",
    "        adata_pert.obs_names = [i+f'_{pert}' for i in adata_pert.obs_names]\n",
    "\n",
    "        # - save\n",
    "        tmp_dir = f'/nfs/public/lichen/results/single_cell_perturbation/perturbation_benchmark_202410/real_case/result/{dataset}'\n",
    "        save_prefix = f'direct_transfer/{pert}' # use result of K562 to do the direct transfer\n",
    "        os.makedirs(os.path.join(tmp_dir, save_prefix), exist_ok=True)\n",
    "        adata_pert.write(os.path.join(tmp_dir, save_prefix, 'adata_pert.h5ad'))\n",
    "\n",
    "    # break"
   ]
  },
  {
   "cell_type": "code",
   "execution_count": null,
   "metadata": {},
   "outputs": [],
   "source": []
  },
  {
   "cell_type": "code",
   "execution_count": null,
   "metadata": {},
   "outputs": [],
   "source": []
  }
 ],
 "metadata": {
  "kernelspec": {
   "display_name": "cell_rank",
   "language": "python",
   "name": "python3"
  },
  "language_info": {
   "codemirror_mode": {
    "name": "ipython",
    "version": 3
   },
   "file_extension": ".py",
   "mimetype": "text/x-python",
   "name": "python",
   "nbconvert_exporter": "python",
   "pygments_lexer": "ipython3",
   "version": "3.10.14"
  }
 },
 "nbformat": 4,
 "nbformat_minor": 2
}
